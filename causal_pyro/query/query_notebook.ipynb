{
 "cells": [
  {
   "cell_type": "code",
   "execution_count": 1,
   "metadata": {},
   "outputs": [],
   "source": [
    "import torch\n",
    "import pyro\n",
    "from pyro.distributions import Normal, Bernoulli\n",
    "\n",
    "from causal_pyro.query.ops import expectation\n",
    "from causal_pyro.query.handlers import MonteCarloIntegration"
   ]
  },
  {
   "attachments": {},
   "cell_type": "markdown",
   "metadata": {},
   "source": [
    "## Expectation\n"
   ]
  },
  {
   "cell_type": "code",
   "execution_count": 11,
   "metadata": {},
   "outputs": [
    {
     "name": "stdout",
     "output_type": "stream",
     "text": [
      "tensor([0.4830])\n"
     ]
    }
   ],
   "source": [
    "stress_pt = torch.tensor([0.5])\n",
    "smokes_cpt = torch.tensor([0.2, 0.8])\n",
    "cancer_cpt = torch.tensor([[0.1, 0.15], [0.8, 0.85]])\n",
    "probs = (stress_pt, smokes_cpt, cancer_cpt)\n",
    "\n",
    "def smoking_model(stress_pt, smokes_cpt, cancer_cpt):\n",
    "    stress = pyro.sample(\"stress\", Bernoulli(stress_pt)).long()\n",
    "    smokes = pyro.sample(\n",
    "        \"smokes\", Bernoulli(smokes_cpt[stress])\n",
    "    ).long()\n",
    "    cancer = pyro.sample(\n",
    "        \"cancer\", Bernoulli(cancer_cpt[stress, smokes])\n",
    "    ).long()\n",
    "    return cancer\n",
    "\n",
    "with MonteCarloIntegration(1000, parallel=True):\n",
    "    result_cancer = expectation(smoking_model, \"cancer\", 0, probs, {})\n",
    "\n",
    "print(result_cancer)  # exact value: .47"
   ]
  }
 ],
 "metadata": {
  "kernelspec": {
   "display_name": "causal_pyro",
   "language": "python",
   "name": "python3"
  },
  "language_info": {
   "codemirror_mode": {
    "name": "ipython",
    "version": 3
   },
   "file_extension": ".py",
   "mimetype": "text/x-python",
   "name": "python",
   "nbconvert_exporter": "python",
   "pygments_lexer": "ipython3",
   "version": "3.10.11"
  },
  "orig_nbformat": 4
 },
 "nbformat": 4,
 "nbformat_minor": 2
}

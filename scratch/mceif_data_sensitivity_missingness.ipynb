{
 "cells": [
  {
   "cell_type": "code",
   "execution_count": 1,
   "id": "initial_id",
   "metadata": {
    "collapsed": true,
    "ExecuteTime": {
     "end_time": "2024-08-07T13:54:16.578076Z",
     "start_time": "2024-08-07T13:54:15.848542Z"
    }
   },
   "outputs": [],
   "source": [
    "import chirho.observational.handlers\n",
    "import pyro\n",
    "import torch\n",
    "import pyro.distributions as dist\n",
    "from chirho.interventional.handlers import Interventions, do\n",
    "from chirho.counterfactual.handlers.counterfactual import TwinWorldCounterfactual\n",
    "from chirho.counterfactual.handlers.counterfactual import MultiWorldCounterfactual\n",
    "from chirho.indexed.ops import gather, IndexSet\n",
    "from functools import singledispatch\n",
    "from pyro.infer.autoguide import AutoDelta, AutoMultivariateNormal, AutoNormal\n",
    "from functools import partial\n",
    "from chirho.indexed.ops import gather, IndexSet\n",
    "from chirho.observational.handlers import condition\n",
    "from chirho.observational.handlers.condition import Observations\n",
    "import matplotlib.pyplot as plt\n",
    "import numpy as np\n",
    "from math import ceil, sqrt\n",
    "from itertools import product\n",
    "from random import randint\n",
    "from contextlib import nullcontext\n",
    "import matplotlib\n",
    "from utils.build_svi_iter import build_svi_iter\n",
    "from chirho.observational.handlers.predictive import PredictiveModel\n",
    "import seaborn as sns\n",
    "\n",
    "# Settings\n",
    "pyro.settings.set(module_local_params=True)\n",
    "torch.set_default_dtype(torch.float64)\n",
    "\n",
    "\n",
    "# seed = randint(0, int(1e6))\n",
    "# print(seed)\n",
    "# seed = 715440  # for commented out sizes below gets 85% missingness.\n",
    "seed = 691309  # for reduced sizes, gets 74% missingness.\n",
    "\n",
    "pyro.set_rng_seed(seed)"
   ]
  },
  {
   "cell_type": "markdown",
   "source": [
    "# Partial Missingness and Informative Data\n",
    "In this notebook, we'll establish a simple causal model where some of the data is missing. We expect that the data-sensitivity should be larger for data with no missingness, and smaller — but still non-zero — for data with missingness. "
   ],
   "metadata": {
    "collapsed": false
   },
   "id": "6c8f0ddadde2915e"
  },
  {
   "cell_type": "code",
   "outputs": [],
   "source": [
    "# VEC_DIM = -1\n",
    "# MAT_DIM = -2\n",
    "DATA_DIM = -1\n",
    "MC_DIM = -2\n",
    "# NUM_CONFOUNDERS = 107\n",
    "NUM_CONFOUNDERS = 3\n",
    "NUM_OUTCOME = 1\n",
    "# NUM_TREATMENT = 27\n",
    "NUM_TREATMENT = 1\n",
    "\n",
    "\n",
    "def missingness_likelihood_model(\n",
    "        treatment_coefficients,  # (..., NUM_CONFOUNDERS, NUM_TREATMENT)\n",
    "        confounder_coefficients,  # (..., NUM_CONFOUNDERS, 1)\n",
    "        missingness_coefficients,  # (..., NUM_CONFOUNDERS + NUM_TREATMENT, 1)\n",
    "        outcome_coefficients  # (..., NUM_CONFOUNDERS + NUM_TREATMENT, NUM_OUTCOME)\n",
    "):\n",
    "    \n",
    "    assert treatment_coefficients.shape[-2:] == (NUM_CONFOUNDERS, NUM_TREATMENT),\\\n",
    "        f\"Treatment coefficients shape: {treatment_coefficients.shape}\"\n",
    "    assert confounder_coefficients.shape[-2:] == (NUM_CONFOUNDERS, 1),\\\n",
    "        f\"Confounder coefficients shape: {confounder_coefficients.shape}\"\n",
    "    assert missingness_coefficients.shape[-2:] == (NUM_CONFOUNDERS + NUM_TREATMENT, 1),\\\n",
    "        f\"Missingness coefficients shape: {missingness_coefficients.shape}\"\n",
    "    assert outcome_coefficients.shape[-2:] == (NUM_CONFOUNDERS + NUM_TREATMENT, NUM_OUTCOME),\\\n",
    "        f\"Outcome coefficients shape: {outcome_coefficients.shape}\"\n",
    "    \n",
    "    confounders = pyro.sample(\"conf\", dist.Normal(confounder_coefficients, 1).to_event(2))\n",
    "    assert confounders.shape[-2:] == (NUM_CONFOUNDERS, 1), f\"Confounders shape: {confounders.shape}\"\n",
    "    \n",
    "    treatment_means = treatment_coefficients.transpose(-2, -1) @ confounders\n",
    "    assert treatment_means.shape[-2:] == (NUM_TREATMENT, 1), f\"Treatment means shape: {treatment_means.shape}\"\n",
    "    \n",
    "    treatment = pyro.sample(\"treat\", dist.Normal(treatment_means, 1).to_event(2))\n",
    "    assert treatment.shape[-2:] == (NUM_TREATMENT, 1), f\"Treatment shape: {treatment.shape}\"\n",
    "    \n",
    "    # HACK treatment may have been intervened on and have had dimensions added on the left. This breaks the cats below.\n",
    "    # To resolve, expand the left dimensions of the confounders to match the treatment dimensions.\n",
    "    expanded_confounders = confounders\n",
    "    if len(treatment.shape) > len(confounders.shape):\n",
    "        num_added_left_dims = treatment.ndim - confounders.ndim\n",
    "        for _ in range(num_added_left_dims):\n",
    "            expanded_confounders = expanded_confounders[None, ...]\n",
    "        expanded_confounders = expanded_confounders.expand(treatment.shape[:num_added_left_dims] + (-1,) * confounders.ndim)\n",
    "        \n",
    "    missingness_logit = missingness_coefficients.transpose(-2, -1) @ torch.cat([expanded_confounders, treatment], dim=-2)\n",
    "    assert missingness_logit.shape[-2:] == (1, 1), f\"Missingness logit shape: {missingness_logit.shape}\"\n",
    "    \n",
    "    missingness = pyro.sample(\"miss\", dist.Bernoulli(logits=missingness_logit).to_event(2))\n",
    "    # This might be fixed now due to changes elsewhere.\n",
    "    # # HACK Similar to above, if an intervention has been performed, the missingness may have been properly expanded.\n",
    "    # if missingness.ndim < missingness_logit.ndim:\n",
    "    #     while missingness.ndim < missingness_logit.ndim:\n",
    "    #         missingness = missingness[None, ...]\n",
    "    #     missingness = missingness.expand_as(missingness_logit)\n",
    "    \n",
    "    assert missingness.shape[-2:] == (1, 1), f\"Missingness shape: {missingness.shape}. Missingness logit shape: {missingness_logit.shape}\"\n",
    "    \n",
    "    outcome_means = outcome_coefficients.transpose(-2, -1) @ torch.cat([expanded_confounders, treatment], dim=-2)\n",
    "    assert outcome_means.shape[-2:] == (NUM_OUTCOME, 1), f\"Outcome means shape: {outcome_means.shape}\"\n",
    "    \n",
    "    # HACK to make outcome still be computationally non-deterministic (so we can condition on it) when missingness is zero.\n",
    "    outcome = pyro.sample(\"out\", dist.Normal(outcome_means * missingness, 1. * missingness + 1e-3).to_event(2))\n",
    "    assert outcome.shape[-2:] == (NUM_OUTCOME, 1), f\"Outcome shape: {outcome.shape}\"\n",
    "    \n",
    "    return dict(\n",
    "        conf=confounders,\n",
    "        treat=treatment,\n",
    "        miss=missingness,\n",
    "        out=outcome\n",
    "    )"
   ],
   "metadata": {
    "collapsed": false,
    "ExecuteTime": {
     "end_time": "2024-08-07T13:54:16.578892Z",
     "start_time": "2024-08-07T13:54:16.571714Z"
    }
   },
   "id": "4d1517a308497729",
   "execution_count": 2
  },
  {
   "cell_type": "code",
   "outputs": [],
   "source": [
    "def coefficient_prior():\n",
    "    # with pyro.plate(\"conf_plate\", NUM_CONFOUNDERS, dim=MAT_DIM):\n",
    "    confounder_coefficients = pyro.sample(\"confounder_coefficients\", dist.Normal(0, 1.)\n",
    "                                          .expand((NUM_CONFOUNDERS, 1)).to_event(2))\n",
    "    \n",
    "    # with pyro.plate(\"treat_plate\", NUM_TREATMENT, dim=VEC_DIM):\n",
    "    treatment_coefficients = pyro.sample(\"treatment_coefficients\", dist.Normal(0., 1)\n",
    "                                         .expand((NUM_CONFOUNDERS, NUM_TREATMENT)).to_event(2))\n",
    "    \n",
    "    # with pyro.plate(\"conf_treat_plate\", NUM_CONFOUNDERS + NUM_TREATMENT, dim=MAT_DIM):\n",
    "    missingness_coefficients = pyro.sample(\"missingness_coefficients\", dist.Normal(0., 1.)\n",
    "                                           .expand((NUM_CONFOUNDERS + NUM_TREATMENT, 1)).to_event())\n",
    "        \n",
    "        # with pyro.plate(\"out_plate\", NUM_OUTCOME, dim=VEC_DIM):\n",
    "    outcome_coefficients = pyro.sample(\"outcome_coefficients\", dist.Normal(0., 1.)\n",
    "                                       .expand((NUM_CONFOUNDERS + NUM_TREATMENT, NUM_OUTCOME)).to_event())\n",
    "    \n",
    "    return dict(\n",
    "        confounder_coefficients=confounder_coefficients,\n",
    "        treatment_coefficients=treatment_coefficients,\n",
    "        missingness_coefficients=missingness_coefficients,\n",
    "        outcome_coefficients=outcome_coefficients\n",
    "    )"
   ],
   "metadata": {
    "collapsed": false,
    "ExecuteTime": {
     "end_time": "2024-08-07T13:54:16.579467Z",
     "start_time": "2024-08-07T13:54:16.574323Z"
    }
   },
   "id": "9947e218ede35328",
   "execution_count": 3
  },
  {
   "cell_type": "code",
   "outputs": [],
   "source": [
    "def full_missingness_model(num_data=1):\n",
    "    coefficients = coefficient_prior()\n",
    "    \n",
    "    with pyro.plate(\"data\", num_data, dim=DATA_DIM):\n",
    "        return missingness_likelihood_model(**coefficients), coefficients"
   ],
   "metadata": {
    "collapsed": false,
    "ExecuteTime": {
     "end_time": "2024-08-07T13:54:16.580009Z",
     "start_time": "2024-08-07T13:54:16.576508Z"
    }
   },
   "id": "b3d1c6155e226777",
   "execution_count": 4
  },
  {
   "cell_type": "code",
   "outputs": [
    {
     "name": "stdout",
     "output_type": "stream",
     "text": [
      "Observed data shapes:\n",
      "('conf', torch.Size([200, 3, 1]))\n",
      "('treat', torch.Size([200, 1, 1]))\n",
      "('miss', torch.Size([200, 1, 1]))\n",
      "('out', torch.Size([200, 1, 1]))\n",
      "True coefficients shapes:\n",
      "('confounder_coefficients', torch.Size([3, 1]))\n",
      "('treatment_coefficients', torch.Size([3, 1]))\n",
      "('missingness_coefficients', torch.Size([4, 1]))\n",
      "('outcome_coefficients', torch.Size([4, 1]))\n"
     ]
    }
   ],
   "source": [
    "NOBSERVED = 200\n",
    "observed_data, true_coefficients = full_missingness_model(NOBSERVED)\n",
    "print(\"Observed data shapes:\")\n",
    "print('\\n'.join([str((k, v.shape)) for k, v in observed_data.items()]))\n",
    "print(\"True coefficients shapes:\")\n",
    "print('\\n'.join([str((k, v.shape)) for k, v in true_coefficients.items()]))"
   ],
   "metadata": {
    "collapsed": false,
    "ExecuteTime": {
     "end_time": "2024-08-07T13:54:16.597816Z",
     "start_time": "2024-08-07T13:54:16.578692Z"
    }
   },
   "id": "1e9c558a51bd60a4",
   "execution_count": 5
  },
  {
   "cell_type": "code",
   "outputs": [
    {
     "name": "stdout",
     "output_type": "stream",
     "text": [
      "Missingness rate: 74.00%\n"
     ]
    }
   ],
   "source": [
    "print(f\"Missingness rate: {1. - observed_data['miss'].mean().item():.2%}\")"
   ],
   "metadata": {
    "collapsed": false,
    "ExecuteTime": {
     "end_time": "2024-08-07T13:54:16.599002Z",
     "start_time": "2024-08-07T13:54:16.582345Z"
    }
   },
   "id": "fc1f102e56d733e",
   "execution_count": 6
  },
  {
   "cell_type": "code",
   "outputs": [],
   "source": [
    "# for treatment_idx in range(NUM_TREATMENT):\n",
    "#     plt.scatter(observed_data[\"treat\"].detach()[..., treatment_idx, 0], observed_data[\"out\"].detach()[..., 0, 0], c=observed_data[\"miss\"].detach()[..., 0, 0])\n",
    "#     plt.xlabel(\"Treatment\")\n",
    "#     plt.ylabel(\"Outcome\")\n",
    "#     plt.title(f\"Treatment {treatment_idx}\")\n",
    "#     plt.show()"
   ],
   "metadata": {
    "collapsed": false,
    "ExecuteTime": {
     "end_time": "2024-08-07T13:54:16.599555Z",
     "start_time": "2024-08-07T13:54:16.584174Z"
    }
   },
   "id": "6bb866cf6183804f",
   "execution_count": 7
  },
  {
   "cell_type": "markdown",
   "source": [
    "### Stochastic Variational Inference"
   ],
   "metadata": {
    "collapsed": false
   },
   "id": "a269a37b7be2fc4f"
  },
  {
   "cell_type": "code",
   "outputs": [],
   "source": [
    "conditioned_missingness_model = condition(partial(full_missingness_model, NOBSERVED), data=observed_data)"
   ],
   "metadata": {
    "collapsed": false,
    "ExecuteTime": {
     "end_time": "2024-08-07T13:54:16.600116Z",
     "start_time": "2024-08-07T13:54:16.587894Z"
    }
   },
   "id": "db74138e00137419",
   "execution_count": 8
  },
  {
   "cell_type": "code",
   "outputs": [
    {
     "data": {
      "image/svg+xml": "<?xml version=\"1.0\" encoding=\"UTF-8\" standalone=\"no\"?>\n<!DOCTYPE svg PUBLIC \"-//W3C//DTD SVG 1.1//EN\"\n \"http://www.w3.org/Graphics/SVG/1.1/DTD/svg11.dtd\">\n<!-- Generated by graphviz version 12.0.0 (20240704.0754)\n -->\n<!-- Pages: 1 -->\n<svg width=\"402pt\" height=\"373pt\"\n viewBox=\"0.00 0.00 402.04 372.50\" xmlns=\"http://www.w3.org/2000/svg\" xmlns:xlink=\"http://www.w3.org/1999/xlink\">\n<g id=\"graph0\" class=\"graph\" transform=\"scale(1 1) rotate(0) translate(4 368.5)\">\n<polygon fill=\"white\" stroke=\"none\" points=\"-4,4 -4,-368.5 398.04,-368.5 398.04,4 -4,4\"/>\n<g id=\"clust1\" class=\"cluster\">\n<title>cluster_data</title>\n<polygon fill=\"none\" stroke=\"black\" points=\"65.48,-8 65.48,-300.5 177.48,-300.5 177.48,-8 65.48,-8\"/>\n<text text-anchor=\"middle\" x=\"158.23\" y=\"-15.2\" font-family=\"Times,serif\" font-size=\"14.00\">data</text>\n</g>\n<!-- confounder_coefficients -->\n<g id=\"node1\" class=\"node\">\n<title>confounder_coefficients</title>\n<ellipse fill=\"white\" stroke=\"black\" cx=\"100.48\" cy=\"-346.5\" rx=\"100.48\" ry=\"18\"/>\n<text text-anchor=\"middle\" x=\"100.48\" y=\"-341.45\" font-family=\"Times,serif\" font-size=\"14.00\">confounder_coefficients</text>\n</g>\n<!-- conf -->\n<g id=\"node5\" class=\"node\">\n<title>conf</title>\n<ellipse fill=\"gray\" stroke=\"black\" cx=\"100.48\" cy=\"-274.5\" rx=\"27.3\" ry=\"18\"/>\n<text text-anchor=\"middle\" x=\"100.48\" y=\"-269.45\" font-family=\"Times,serif\" font-size=\"14.00\">conf</text>\n</g>\n<!-- confounder_coefficients&#45;&gt;conf -->\n<g id=\"edge1\" class=\"edge\">\n<title>confounder_coefficients&#45;&gt;conf</title>\n<path fill=\"none\" stroke=\"black\" d=\"M100.48,-328.2C100.48,-320.91 100.48,-312.23 100.48,-304.04\"/>\n<polygon fill=\"black\" stroke=\"black\" points=\"103.99,-304.12 100.49,-294.12 96.99,-304.12 103.99,-304.12\"/>\n</g>\n<!-- treatment_coefficients -->\n<g id=\"node2\" class=\"node\">\n<title>treatment_coefficients</title>\n<ellipse fill=\"white\" stroke=\"black\" cx=\"279.48\" cy=\"-274.5\" rx=\"93.83\" ry=\"18\"/>\n<text text-anchor=\"middle\" x=\"279.48\" y=\"-269.45\" font-family=\"Times,serif\" font-size=\"14.00\">treatment_coefficients</text>\n</g>\n<!-- treat -->\n<g id=\"node6\" class=\"node\">\n<title>treat</title>\n<ellipse fill=\"gray\" stroke=\"black\" cx=\"141.48\" cy=\"-202.5\" rx=\"27.3\" ry=\"18\"/>\n<text text-anchor=\"middle\" x=\"141.48\" y=\"-197.45\" font-family=\"Times,serif\" font-size=\"14.00\">treat</text>\n</g>\n<!-- treatment_coefficients&#45;&gt;treat -->\n<g id=\"edge3\" class=\"edge\">\n<title>treatment_coefficients&#45;&gt;treat</title>\n<path fill=\"none\" stroke=\"black\" d=\"M247.48,-257.26C224.93,-245.83 194.91,-230.6 172.57,-219.27\"/>\n<polygon fill=\"black\" stroke=\"black\" points=\"174.45,-216.29 163.94,-214.89 171.28,-222.54 174.45,-216.29\"/>\n</g>\n<!-- missingness_coefficients -->\n<g id=\"node3\" class=\"node\">\n<title>missingness_coefficients</title>\n<ellipse fill=\"white\" stroke=\"black\" cx=\"290.48\" cy=\"-202.5\" rx=\"103.56\" ry=\"18\"/>\n<text text-anchor=\"middle\" x=\"290.48\" y=\"-197.45\" font-family=\"Times,serif\" font-size=\"14.00\">missingness_coefficients</text>\n</g>\n<!-- miss -->\n<g id=\"node7\" class=\"node\">\n<title>miss</title>\n<ellipse fill=\"gray\" stroke=\"black\" cx=\"141.48\" cy=\"-130.5\" rx=\"28.32\" ry=\"18\"/>\n<text text-anchor=\"middle\" x=\"141.48\" y=\"-125.45\" font-family=\"Times,serif\" font-size=\"14.00\">miss</text>\n</g>\n<!-- missingness_coefficients&#45;&gt;miss -->\n<g id=\"edge4\" class=\"edge\">\n<title>missingness_coefficients&#45;&gt;miss</title>\n<path fill=\"none\" stroke=\"black\" d=\"M255.55,-185.09C230.94,-173.52 198.2,-158.15 174.12,-146.83\"/>\n<polygon fill=\"black\" stroke=\"black\" points=\"175.63,-143.67 165.09,-142.59 172.65,-150.01 175.63,-143.67\"/>\n</g>\n<!-- outcome_coefficients -->\n<g id=\"node4\" class=\"node\">\n<title>outcome_coefficients</title>\n<ellipse fill=\"white\" stroke=\"black\" cx=\"278.48\" cy=\"-130.5\" rx=\"90.76\" ry=\"18\"/>\n<text text-anchor=\"middle\" x=\"278.48\" y=\"-125.45\" font-family=\"Times,serif\" font-size=\"14.00\">outcome_coefficients</text>\n</g>\n<!-- out -->\n<g id=\"node8\" class=\"node\">\n<title>out</title>\n<ellipse fill=\"gray\" stroke=\"black\" cx=\"120.48\" cy=\"-58.5\" rx=\"27\" ry=\"18\"/>\n<text text-anchor=\"middle\" x=\"120.48\" y=\"-53.45\" font-family=\"Times,serif\" font-size=\"14.00\">out</text>\n</g>\n<!-- outcome_coefficients&#45;&gt;out -->\n<g id=\"edge9\" class=\"edge\">\n<title>outcome_coefficients&#45;&gt;out</title>\n<path fill=\"none\" stroke=\"black\" d=\"M242.63,-113.62C215.7,-101.69 179.13,-85.48 153.04,-73.92\"/>\n<polygon fill=\"black\" stroke=\"black\" points=\"154.5,-70.74 143.94,-69.89 151.66,-77.14 154.5,-70.74\"/>\n</g>\n<!-- conf&#45;&gt;treat -->\n<g id=\"edge2\" class=\"edge\">\n<title>conf&#45;&gt;treat</title>\n<path fill=\"none\" stroke=\"black\" d=\"M109.99,-257.26C114.86,-248.96 120.89,-238.65 126.38,-229.29\"/>\n<polygon fill=\"black\" stroke=\"black\" points=\"129.23,-231.35 131.26,-220.95 123.19,-227.81 129.23,-231.35\"/>\n</g>\n<!-- conf&#45;&gt;miss -->\n<g id=\"edge5\" class=\"edge\">\n<title>conf&#45;&gt;miss</title>\n<path fill=\"none\" stroke=\"black\" d=\"M98.78,-256.26C97.58,-237.94 97.4,-208.39 105.48,-184.5 108.96,-174.24 115,-164.12 121.15,-155.52\"/>\n<polygon fill=\"black\" stroke=\"black\" points=\"123.81,-157.8 127.09,-147.72 118.24,-153.55 123.81,-157.8\"/>\n</g>\n<!-- conf&#45;&gt;out -->\n<g id=\"edge8\" class=\"edge\">\n<title>conf&#45;&gt;out</title>\n<path fill=\"none\" stroke=\"black\" d=\"M97.29,-256.3C92.37,-226.54 84.68,-163.72 96.48,-112.5 98.57,-103.47 102.24,-94.1 106.1,-85.8\"/>\n<polygon fill=\"black\" stroke=\"black\" points=\"109.17,-87.48 110.48,-76.97 102.9,-84.37 109.17,-87.48\"/>\n</g>\n<!-- treat&#45;&gt;miss -->\n<g id=\"edge6\" class=\"edge\">\n<title>treat&#45;&gt;miss</title>\n<path fill=\"none\" stroke=\"black\" d=\"M141.48,-184.2C141.48,-176.91 141.48,-168.23 141.48,-160.04\"/>\n<polygon fill=\"black\" stroke=\"black\" points=\"144.99,-160.12 141.49,-150.12 137.99,-160.12 144.99,-160.12\"/>\n</g>\n<!-- treat&#45;&gt;out -->\n<g id=\"edge7\" class=\"edge\">\n<title>treat&#45;&gt;out</title>\n<path fill=\"none\" stroke=\"black\" d=\"M127.36,-186.64C118.92,-176.69 109,-162.84 104.48,-148.5 98.15,-128.35 102.89,-104.8 108.82,-86.99\"/>\n<polygon fill=\"black\" stroke=\"black\" points=\"112.09,-88.22 112.26,-77.63 105.52,-85.81 112.09,-88.22\"/>\n</g>\n<!-- miss&#45;&gt;out -->\n<g id=\"edge10\" class=\"edge\">\n<title>miss&#45;&gt;out</title>\n<path fill=\"none\" stroke=\"black\" d=\"M136.4,-112.55C134.11,-104.9 131.33,-95.66 128.75,-87.06\"/>\n<polygon fill=\"black\" stroke=\"black\" points=\"132.18,-86.31 125.96,-77.74 125.48,-88.32 132.18,-86.31\"/>\n</g>\n</g>\n</svg>\n",
      "text/plain": "<graphviz.graphs.Digraph at 0x14951eea0>"
     },
     "execution_count": 9,
     "metadata": {},
     "output_type": "execute_result"
    }
   ],
   "source": [
    "pyro.render_model(conditioned_missingness_model)"
   ],
   "metadata": {
    "collapsed": false,
    "ExecuteTime": {
     "end_time": "2024-08-07T13:54:16.780341Z",
     "start_time": "2024-08-07T13:54:16.589858Z"
    }
   },
   "id": "627012d7a3ec5f2a",
   "execution_count": 9
  },
  {
   "cell_type": "code",
   "outputs": [
    {
     "name": "stdout",
     "output_type": "stream",
     "text": [
      "Progress 100.00%\r"
     ]
    }
   ],
   "source": [
    "svi = build_svi_iter(\n",
    "    conditioned_missingness_model,\n",
    "    # AutoMultivariateNormal,\n",
    "    AutoDelta,\n",
    "    lr=2e-3\n",
    ")\n",
    "# NITER = 100\n",
    "NITER = 4000\n",
    "for i in range(NITER):\n",
    "    svi.svi_iter()\n",
    "    print(f\"Progress {(i+1)/NITER:.2%}\", end=\"\\r\")"
   ],
   "metadata": {
    "collapsed": false,
    "ExecuteTime": {
     "end_time": "2024-08-07T13:54:23.822470Z",
     "start_time": "2024-08-07T13:54:16.767734Z"
    }
   },
   "id": "c02e7fe6bb0a2943",
   "execution_count": 10
  },
  {
   "cell_type": "code",
   "outputs": [
    {
     "data": {
      "text/plain": "[<matplotlib.lines.Line2D at 0x14c2ed7c0>]"
     },
     "execution_count": 11,
     "metadata": {},
     "output_type": "execute_result"
    },
    {
     "data": {
      "text/plain": "<Figure size 640x480 with 1 Axes>",
      "image/png": "[encoded data removed]"
     },
     "metadata": {},
     "output_type": "display_data"
    }
   ],
   "source": [
    "plt.plot(svi.losses)"
   ],
   "metadata": {
    "collapsed": false,
    "ExecuteTime": {
     "end_time": "2024-08-07T13:54:23.913654Z",
     "start_time": "2024-08-07T13:54:23.819261Z"
    }
   },
   "id": "b52893ceac951690",
   "execution_count": 11
  },
  {
   "cell_type": "markdown",
   "source": [
    "### Check Performance of Plug-In Estimator\n"
   ],
   "metadata": {
    "collapsed": false
   },
   "id": "5022343924d9cce0"
  },
  {
   "cell_type": "code",
   "outputs": [],
   "source": [
    "class MultivariateTreatmentGrid(torch.nn.Module):\n",
    "    def __init__(self, model, values, num_monte_carlo: int = 100, results_shaper=None, constant_idices=None, generate_product_values=False):\n",
    "        super().__init__()\n",
    "        self.model = model\n",
    "        self.num_monte_carlo = num_monte_carlo\n",
    "        self.results_shaper = results_shaper or (lambda x: x)\n",
    "        self.constant_idices = constant_idices or {}\n",
    "        \n",
    "        if generate_product_values:\n",
    "            # Expand values over the grid of treatments.\n",
    "            product_values = []\n",
    "            for value in product(values, repeat=NUM_TREATMENT):\n",
    "                # [:, None] to Specify as column vector.\n",
    "                product_values.append(torch.tensor(value)[:, None])\n",
    "            assert len(product_values) == 2 ** NUM_TREATMENT\n",
    "            \n",
    "            self.product_values = tuple(product_values)\n",
    "        else:\n",
    "            # [:, None] to Specify as column vector.\n",
    "            self.product_values = tuple(v[:, None] for v in values)\n",
    "    \n",
    "    def forward(self, *args, **kwargs):\n",
    "        with MultiWorldCounterfactual():\n",
    "            with pyro.plate(\"monte_carlo_functional\", size=self.num_monte_carlo, dim=MC_DIM):\n",
    "                with do(actions=dict(treat=self.product_values)):\n",
    "                    predictive_samples, coefficient_samples = self.model(*args, **kwargs)\n",
    "                    Ys = predictive_samples[\"out\"]\n",
    "                \n",
    "                outs = []\n",
    "                for i, _ in enumerate(self.product_values):\n",
    "                    idx_set = IndexSet(treat={i+1}, **self.constant_idices)\n",
    "                    outs.append(gather(Ys, idx_set, event_dim=2))\n",
    "                    \n",
    "        return self.results_shaper(outs)"
   ],
   "metadata": {
    "collapsed": false,
    "ExecuteTime": {
     "end_time": "2024-08-07T14:23:45.861160Z",
     "start_time": "2024-08-07T14:23:45.854108Z"
    }
   },
   "id": "d4fcb3bf1aa26638",
   "execution_count": 65
  },
  {
   "cell_type": "code",
   "outputs": [],
   "source": [
    "def reshape_results_to_mean(results):\n",
    "    results = torch.cat(results, dim=0)  # (len(product_values), ..., num_monte_carlo, num_data, NUM_OUTCOME, 1)\n",
    "    return results.squeeze(-1).mean(-2).mean(-2).reshape(-1, NUM_OUTCOME)  # (len(product_values), ..., NUM_OUTCOME)\n",
    "\n",
    "def reshape_results_to_estimates(results):\n",
    "    results = torch.cat(results, dim=0)  # (len(product_values), ..., num_monte_carlo, num_data, NUM_OUTCOME, 1)\n",
    "    results = results.squeeze(-1).transpose(-1, 1)  # (len(product_values), ...,  NUM_OUTCOME, num_monte_carlo, num_data)\n",
    "    return results.reshape(results.shape[:2] + (-1,))  # (len(product_values), NUM_OUTCOME, num_monte_carlo * num_data)\n",
    "\n",
    "NMC = 1e4\n",
    "NBD = 1\n",
    "# intervention_values = (-10., 10.)\n",
    "intervention_values = (torch.ones(NUM_TREATMENT) * -10., torch.ones(NUM_TREATMENT) * 10.)"
   ],
   "metadata": {
    "collapsed": false,
    "ExecuteTime": {
     "end_time": "2024-08-07T13:54:23.922956Z",
     "start_time": "2024-08-07T13:54:23.914975Z"
    }
   },
   "id": "38da77302d4148ad",
   "execution_count": 13
  },
  {
   "cell_type": "code",
   "outputs": [],
   "source": [
    "full_missingness_model_wo_missingness = do(full_missingness_model, {\"miss\": torch.tensor(1.)[None, None]})"
   ],
   "metadata": {
    "collapsed": false,
    "ExecuteTime": {
     "end_time": "2024-08-07T13:54:23.923582Z",
     "start_time": "2024-08-07T13:54:23.917659Z"
    }
   },
   "id": "5118609ac4e19304",
   "execution_count": 14
  },
  {
   "cell_type": "code",
   "outputs": [
    {
     "name": "stdout",
     "output_type": "stream",
     "text": [
      "torch.Size([2, 1, 10000])\n"
     ]
    }
   ],
   "source": [
    "true_model = condition(full_missingness_model_wo_missingness, data=true_coefficients)\n",
    "true_results_estimates = MultivariateTreatmentGrid(\n",
    "    true_model,\n",
    "    intervention_values,\n",
    "    num_monte_carlo=NMC,\n",
    "    constant_idices=dict(miss={1}),\n",
    "    results_shaper=reshape_results_to_estimates\n",
    ")(num_data=NBD)\n",
    "print(true_results_estimates.shape)"
   ],
   "metadata": {
    "collapsed": false,
    "ExecuteTime": {
     "end_time": "2024-08-07T13:54:23.944822Z",
     "start_time": "2024-08-07T13:54:23.920788Z"
    }
   },
   "id": "97b75ecbeb2c17d7",
   "execution_count": 15
  },
  {
   "cell_type": "code",
   "outputs": [
    {
     "name": "stdout",
     "output_type": "stream",
     "text": [
      "torch.Size([2, 1, 10000])\n"
     ]
    }
   ],
   "source": [
    "posterior_predictive_model = PredictiveModel(full_missingness_model_wo_missingness, svi.guide)\n",
    "posterior_result_estimates = MultivariateTreatmentGrid(\n",
    "    posterior_predictive_model,\n",
    "    intervention_values,\n",
    "    num_monte_carlo=NMC,\n",
    "    constant_idices=dict(miss={1}),\n",
    "    results_shaper=reshape_results_to_estimates\n",
    ")(num_data=NBD)\n",
    "print(posterior_result_estimates.shape)"
   ],
   "metadata": {
    "collapsed": false,
    "ExecuteTime": {
     "end_time": "2024-08-07T13:54:23.946367Z",
     "start_time": "2024-08-07T13:54:23.930363Z"
    }
   },
   "id": "6afef017b6899f67",
   "execution_count": 16
  },
  {
   "cell_type": "code",
   "outputs": [
    {
     "name": "stdout",
     "output_type": "stream",
     "text": [
      "torch.Size([2, 1, 10000])\n"
     ]
    }
   ],
   "source": [
    "prior_predictive_model = full_missingness_model\n",
    "prior_result_estimates = MultivariateTreatmentGrid(\n",
    "    full_missingness_model_wo_missingness,\n",
    "    intervention_values,\n",
    "    num_monte_carlo=NMC,\n",
    "    constant_idices=dict(miss={1}),\n",
    "    results_shaper=reshape_results_to_estimates\n",
    ")(num_data=NBD)\n",
    "print(prior_result_estimates.shape)"
   ],
   "metadata": {
    "collapsed": false,
    "ExecuteTime": {
     "end_time": "2024-08-07T13:54:23.948798Z",
     "start_time": "2024-08-07T13:54:23.938894Z"
    }
   },
   "id": "b59baf8bb0a46e46",
   "execution_count": 17
  },
  {
   "cell_type": "code",
   "outputs": [],
   "source": [
    "colors = [\"blue\", \"orange\", \"black\"]\n",
    "def plot_intervention_outcome_grid(*results):\n",
    "    num_interventions = results[0].shape[0]\n",
    "    num_outcomes = results[0].shape[1]\n",
    "    fig, axs = plt.subplots(num_outcomes, num_interventions, figsize=(num_interventions * 7, num_outcomes * 7), sharey=True, sharex=True)\n",
    "    \n",
    "    if not isinstance(axs, np.ndarray):\n",
    "        axs = np.array([axs])\n",
    "    if axs.ndim == 1:\n",
    "        axs = axs[None, :]\n",
    "    \n",
    "    for i, j in product(range(num_interventions), range(num_outcomes)):\n",
    "        \n",
    "        for result, color in zip(results, colors):\n",
    "            sns.kdeplot(result[i, j].detach().numpy(), ax=axs[j, i], fill=False, color=color, linewidth=0.6)\n",
    "            mean = result[i, j].mean().item()\n",
    "            axs[j, i].axvline(mean, color=color, linestyle=\"--\", linewidth=0.6)\n",
    "        \n",
    "        \n",
    "    return fig, axs"
   ],
   "metadata": {
    "collapsed": false,
    "ExecuteTime": {
     "end_time": "2024-08-07T13:54:23.972391Z",
     "start_time": "2024-08-07T13:54:23.948993Z"
    }
   },
   "id": "21688317d58bb662",
   "execution_count": 18
  },
  {
   "cell_type": "code",
   "outputs": [
    {
     "data": {
      "text/plain": "<matplotlib.legend.Legend at 0x14e279b20>"
     },
     "execution_count": 19,
     "metadata": {},
     "output_type": "execute_result"
    },
    {
     "data": {
      "text/plain": "<Figure size 1400x700 with 2 Axes>",
      "image/png": "[encoded data removed]"
     },
     "metadata": {},
     "output_type": "display_data"
    }
   ],
   "source": [
    "_, axs = plot_intervention_outcome_grid(true_results_estimates, posterior_result_estimates, prior_result_estimates)\n",
    "# Add legend to the first plot.\n",
    "axs[0, 0].legend([\"True\", \"Mean\", \"Post Pred\", \"Mean\", \"Prior Pred\", \"Mean\"])"
   ],
   "metadata": {
    "collapsed": false,
    "ExecuteTime": {
     "end_time": "2024-08-07T13:54:24.388013Z",
     "start_time": "2024-08-07T13:54:23.961793Z"
    }
   },
   "id": "d032e67fcd5dbc4",
   "execution_count": 19
  },
  {
   "cell_type": "markdown",
   "source": [
    "# TODO Add Robust Estimator to Above"
   ],
   "metadata": {
    "collapsed": false
   },
   "id": "2c7aaf9db5dd5bea"
  },
  {
   "cell_type": "markdown",
   "source": [
    "### First, gradcheck"
   ],
   "metadata": {
    "collapsed": false
   },
   "id": "903a21f2553b1c47"
  },
  {
   "cell_type": "code",
   "outputs": [
    {
     "data": {
      "text/plain": "True"
     },
     "execution_count": 66,
     "metadata": {},
     "output_type": "execute_result"
    }
   ],
   "source": [
    "# First, we want to gradcheck the functional of the posterior predictive wrt the guide parameters.\n",
    "from torch.autograd import gradcheck\n",
    "\n",
    "# def testing_fn(*args, **kwargs):\n",
    "#     print(*args, **kwargs)\n",
    "#     posterior_predictive_model(*args, **kwargs)\n",
    "\n",
    "fn_to_gradcheck = MultivariateTreatmentGrid(\n",
    "    # Emulate returned coefficient samples with ..., None\n",
    "    lambda *args: (missingness_likelihood_model(*args), None),\n",
    "    intervention_values,\n",
    "    num_monte_carlo=10,\n",
    "    # constant_idices=dict(miss={1}),  # not performing this intervention...\n",
    "    # results_shaper=reshape_results_to_estimates\n",
    "    results_shaper=None\n",
    ")\n",
    "def fixed_noise_fn_to_gradcheck(*args):\n",
    "    pyro.set_rng_seed(0)  # fix noise in the random samples for numerical gradcheck.\n",
    "    return fn_to_gradcheck(*args)\n",
    "\n",
    "params_to_gradcheck = tuple(v.detach().clone().requires_grad_() for v in svi.guide().values())\n",
    "\n",
    "gradcheck(fixed_noise_fn_to_gradcheck, params_to_gradcheck)"
   ],
   "metadata": {
    "collapsed": false,
    "ExecuteTime": {
     "end_time": "2024-08-07T14:23:54.962439Z",
     "start_time": "2024-08-07T14:23:54.906363Z"
    }
   },
   "id": "212c544c89019fd7",
   "execution_count": 66
  },
  {
   "cell_type": "code",
   "outputs": [
    {
     "data": {
      "text/plain": "True"
     },
     "execution_count": 89,
     "metadata": {},
     "output_type": "execute_result"
    }
   ],
   "source": [
    "# Gradcheck just the return values of missingness_likelihood_model. We'll need a wrapper fn to flatten and cat the returned dictionary.\n",
    "def missingness_likelihood_model_wrapper(*args):\n",
    "    pyro.set_rng_seed(0)  # fix noise in the random samples for numerical gradcheck.\n",
    "    \n",
    "    # Interven on missingness, as we can't differentiate through this\n",
    "    with do(actions=dict(miss=torch.tensor(1.)[None, None])):\n",
    "        return tuple(missingness_likelihood_model(*args).values())\n",
    "\n",
    "gradcheck(missingness_likelihood_model_wrapper, params_to_gradcheck)"
   ],
   "metadata": {
    "collapsed": false,
    "ExecuteTime": {
     "end_time": "2024-08-07T14:40:54.098613Z",
     "start_time": "2024-08-07T14:40:54.074327Z"
    }
   },
   "id": "a61922628611654e",
   "execution_count": 89
  },
  {
   "cell_type": "code",
   "outputs": [
    {
     "name": "stdout",
     "output_type": "stream",
     "text": [
      "change in conf\n",
      "    wrt change in treatment_coefficients\n",
      "     torch.Size([3, 1, 3, 1])\n",
      "     tensor([[0., 0., 0.],\n",
      "        [0., 0., 0.],\n",
      "        [0., 0., 0.]])\n",
      "    wrt change in confounder_coefficients\n",
      "     torch.Size([3, 1, 3, 1])\n",
      "     tensor([[1., 0., 0.],\n",
      "        [0., 1., 0.],\n",
      "        [0., 0., 1.]])\n",
      "    wrt change in missingness_coefficients\n",
      "     torch.Size([3, 1, 4, 1])\n",
      "     tensor([[0., 0., 0., 0.],\n",
      "        [0., 0., 0., 0.],\n",
      "        [0., 0., 0., 0.]])\n",
      "    wrt change in outcome_coefficients\n",
      "     torch.Size([3, 1, 4, 1])\n",
      "     tensor([[0., 0., 0., 0.],\n",
      "        [0., 0., 0., 0.],\n",
      "        [0., 0., 0., 0.]])\n",
      "change in treat\n",
      "    wrt change in treatment_coefficients\n",
      "     torch.Size([1, 1, 3, 1])\n",
      "     tensor([ 1.0940,  0.5515, -2.5772])\n",
      "    wrt change in confounder_coefficients\n",
      "     torch.Size([1, 1, 3, 1])\n",
      "     tensor([-0.0809, -0.9327,  0.7377])\n",
      "    wrt change in missingness_coefficients\n",
      "     torch.Size([1, 1, 4, 1])\n",
      "     tensor([0., 0., 0., 0.])\n",
      "    wrt change in outcome_coefficients\n",
      "     torch.Size([1, 1, 4, 1])\n",
      "     tensor([0., 0., 0., 0.])\n",
      "change in miss\n",
      "    wrt change in treatment_coefficients\n",
      "     torch.Size([1, 1, 3, 1])\n",
      "     tensor([0., 0., 0.])\n",
      "    wrt change in confounder_coefficients\n",
      "     torch.Size([1, 1, 3, 1])\n",
      "     tensor([0., 0., 0.])\n",
      "    wrt change in missingness_coefficients\n",
      "     torch.Size([1, 1, 4, 1])\n",
      "     tensor([0., 0., 0., 0.])\n",
      "    wrt change in outcome_coefficients\n",
      "     torch.Size([1, 1, 4, 1])\n",
      "     tensor([0., 0., 0., 0.])\n",
      "change in out\n",
      "    wrt change in treatment_coefficients\n",
      "     torch.Size([1, 1, 3, 1])\n",
      "     tensor([-0.7234, -0.3647,  1.7041])\n",
      "    wrt change in confounder_coefficients\n",
      "     torch.Size([1, 1, 3, 1])\n",
      "     tensor([-1.4146,  0.7775, -1.0574])\n",
      "    wrt change in missingness_coefficients\n",
      "     torch.Size([1, 1, 4, 1])\n",
      "     tensor([0., 0., 0., 0.])\n",
      "    wrt change in outcome_coefficients\n",
      "     torch.Size([1, 1, 4, 1])\n",
      "     tensor([ 1.0940,  0.5515, -2.5772, -1.9357])\n"
     ]
    }
   ],
   "source": [
    "# Now, just see what the gradients are for the missingness model. Use the function defined above, and just print the jacobians.\n",
    "# First, import the jacobian computation function.\n",
    "from torch.autograd.functional import jacobian\n",
    "\n",
    "out_keys = [\"conf\", \"treat\", \"miss\", \"out\"]\n",
    "in_keys = [\"treatment_coefficients\", \"confounder_coefficients\", \"missingness_coefficients\", \"outcome_coefficients\"]\n",
    "# Then, compute the jacobian of the missingness model wrt its parameters.\n",
    "jacs = jacobian(missingness_likelihood_model_wrapper, params_to_gradcheck)\n",
    "\n",
    "for i, (out_key, jac) in enumerate(zip(out_keys, jacs)):\n",
    "    print(f\"change in {out_key}\")\n",
    "    for j, (in_key, jac_in) in enumerate(zip(in_keys, jac)):\n",
    "        print(f\"    wrt change in {in_key}\")\n",
    "        print(\"    \", jac_in.shape)\n",
    "        print(\"    \", jac_in.squeeze())"
   ],
   "metadata": {
    "collapsed": false,
    "ExecuteTime": {
     "end_time": "2024-08-07T14:40:58.792337Z",
     "start_time": "2024-08-07T14:40:58.784731Z"
    }
   },
   "id": "8189afbd0e0b0ba8",
   "execution_count": 91
  },
  {
   "cell_type": "code",
   "outputs": [],
   "source": [
    "# Mystery\n",
    "# 1. [/] why is the numeric gradient going completely crazy. — analytical needs noise fixed.\n",
    "# 2. why is the analytic gradient correct for the latter fn where we just make a simple confounder sampler...\n",
    "# 3. ...but wrong for the former, where we extract the confounders from the original function (which should have an identical compute graph to the latter)."
   ],
   "metadata": {
    "collapsed": false
   },
   "id": "4726cdde8454b660"
  },
  {
   "cell_type": "markdown",
   "source": [
    "### Estimation"
   ],
   "metadata": {
    "collapsed": false
   },
   "id": "351e363366e170a6"
  },
  {
   "cell_type": "code",
   "outputs": [],
   "source": [
    "from chirho.robust.ops import influence_fn\n",
    "from chirho.robust.handlers.estimators import MonteCarloInfluenceEstimator\n",
    "\n",
    "predictive = posterior_predictive_model\n",
    "\n",
    "# We need to make a functional that takes a model and returns a callable \"estimator\"\n",
    "functional = partial(\n",
    "    MultivariateTreatmentGrid,\n",
    "    values=intervention_values,\n",
    "    num_monte_carlo=1000,\n",
    "    constant_idices=dict(miss={1}),\n",
    "    results_shaper=reshape_results_to_mean\n",
    ")\n",
    "\n",
    "# Sample some more test data from the true model.\n",
    "held_out_observed_data, _ = condition(full_missingness_model, data=true_coefficients)(num_data=10000) # NOBSERVED)"
   ],
   "metadata": {
    "collapsed": false,
    "ExecuteTime": {
     "start_time": "2024-08-07T13:55:09.958086Z"
    }
   },
   "id": "2b21e3e0c700cae4",
   "execution_count": null
  },
  {
   "cell_type": "code",
   "outputs": [],
   "source": [
    "compute_influence = influence_fn(\n",
    "    functional,\n",
    "    held_out_observed_data,\n",
    ")(predictive)\n",
    "\n",
    "# with MonteCarloInfluenceEstimator(num_samples_inner=112, num_samples_outer=96):\n",
    "with MonteCarloInfluenceEstimator(num_samples_inner=1000, num_samples_outer=1000):\n",
    "    with torch.no_grad():\n",
    "        influence = compute_influence()"
   ],
   "metadata": {
    "collapsed": false,
    "ExecuteTime": {
     "start_time": "2024-08-07T13:55:09.959129Z"
    }
   },
   "id": "4dc0498035a53b01",
   "execution_count": null
  },
  {
   "cell_type": "code",
   "outputs": [],
   "source": [
    "influence.shape"
   ],
   "metadata": {
    "collapsed": false,
    "ExecuteTime": {
     "start_time": "2024-08-07T13:55:09.960512Z"
    }
   },
   "id": "d2960118d2928eca",
   "execution_count": null
  },
  {
   "cell_type": "code",
   "outputs": [],
   "source": [
    "{k: v.shape for k, v in held_out_observed_data.items()}"
   ],
   "metadata": {
    "collapsed": false,
    "ExecuteTime": {
     "end_time": "2024-08-07T13:55:09.962077Z",
     "start_time": "2024-08-07T13:55:09.961373Z"
    }
   },
   "id": "fb734f0f62cf615a",
   "execution_count": null
  },
  {
   "cell_type": "code",
   "outputs": [],
   "source": [
    "missingness = held_out_observed_data['miss'].squeeze().bool()\n",
    "influence_of_present = influence[missingness, :, :]\n",
    "influence_of_missing = influence[~missingness, :, :]\n",
    "\n",
    "fig, axs = plt.subplots(1, 2, figsize=(12, 6))\n",
    "\n",
    "axs[0].set_title(\"Influence of Missing Data on Estimand\")\n",
    "axs[0].hist(influence_of_missing.detach().flatten())\n",
    "\n",
    "axs[1].set_title(\"Influence of Present Data on Estimand\")\n",
    "axs[1].hist(influence_of_present.detach().flatten())\n",
    "\n",
    "print(\"Mean Absolute Influence w/ Missingness\", influence_of_missing.abs().mean())\n",
    "print(\"Mean Absolute Influence w/o Missingness\", influence_of_present.abs().mean())"
   ],
   "metadata": {
    "collapsed": false,
    "ExecuteTime": {
     "end_time": "2024-08-07T13:55:09.962109Z",
     "start_time": "2024-08-07T13:55:09.962086Z"
    }
   },
   "id": "6d3f02202e4b5de7",
   "execution_count": null
  },
  {
   "cell_type": "code",
   "outputs": [],
   "source": [
    "from chirho.robust.handlers.estimators import one_step_corrected_estimator\n",
    "\n",
    "corrected_functional = one_step_corrected_estimator(functional, held_out_observed_data)\n",
    "corrected_estimator = corrected_functional(predictive)\n",
    "\n",
    "with MonteCarloInfluenceEstimator(num_samples_inner=1000, num_samples_outer=1000):\n",
    "    with torch.no_grad():\n",
    "        corrected_estimate = corrected_estimator()"
   ],
   "metadata": {
    "collapsed": false,
    "ExecuteTime": {
     "start_time": "2024-08-07T13:55:09.962763Z"
    }
   },
   "id": "1ba23829bef17163",
   "execution_count": null
  },
  {
   "cell_type": "code",
   "outputs": [],
   "source": [
    "corrected_estimate.shape"
   ],
   "metadata": {
    "collapsed": false,
    "ExecuteTime": {
     "start_time": "2024-08-07T13:55:09.963586Z"
    }
   },
   "id": "32a05c06220b3a0e",
   "execution_count": null
  },
  {
   "cell_type": "code",
   "outputs": [],
   "source": [
    "_, axs = plot_intervention_outcome_grid(true_results_estimates, posterior_result_estimates)\n",
    "# Add legend to the first plot.\n",
    "axs[0, 0].axvline(corrected_estimate[0, 0, 0], color=\"cyan\")\n",
    "axs[0, 0].legend([\"True\", \"Mean\", \"Post Pred\", \"Mean\", \"Corrected\"])\n",
    "axs[0, 1].axvline(corrected_estimate[0, 1, 0], color=\"cyan\")"
   ],
   "metadata": {
    "collapsed": false,
    "ExecuteTime": {
     "start_time": "2024-08-07T13:55:09.964271Z"
    }
   },
   "id": "586fab870f5e0bcb",
   "execution_count": null
  }
 ],
 "metadata": {
  "kernelspec": {
   "display_name": "Python 3",
   "language": "python",
   "name": "python3"
  },
  "language_info": {
   "codemirror_mode": {
    "name": "ipython",
    "version": 2
   },
   "file_extension": ".py",
   "mimetype": "text/x-python",
   "name": "python",
   "nbconvert_exporter": "python",
   "pygments_lexer": "ipython2",
   "version": "2.7.6"
  }
 },
 "nbformat": 4,
 "nbformat_minor": 5
}

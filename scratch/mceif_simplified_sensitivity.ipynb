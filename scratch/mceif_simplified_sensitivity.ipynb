{
 "cells": [
  {
   "cell_type": "code",
   "execution_count": 1,
   "id": "initial_id",
   "metadata": {
    "collapsed": true,
    "ExecuteTime": {
     "end_time": "2024-08-16T22:17:26.326395Z",
     "start_time": "2024-08-16T22:17:25.508286Z"
    }
   },
   "outputs": [],
   "source": [
    "import chirho.observational.handlers\n",
    "import pyro\n",
    "import torch\n",
    "import pyro.distributions as dist\n",
    "from chirho.interventional.handlers import Interventions, do\n",
    "from chirho.counterfactual.handlers.counterfactual import TwinWorldCounterfactual\n",
    "from chirho.counterfactual.handlers.counterfactual import MultiWorldCounterfactual\n",
    "from chirho.indexed.ops import gather, IndexSet\n",
    "from functools import singledispatch\n",
    "from pyro.infer.autoguide import AutoDelta, AutoMultivariateNormal, AutoNormal\n",
    "from functools import partial\n",
    "from chirho.indexed.ops import gather, IndexSet\n",
    "from chirho.observational.handlers import condition\n",
    "from chirho.observational.handlers.condition import Observations\n",
    "import matplotlib.pyplot as plt\n",
    "import numpy as np\n",
    "from math import ceil, sqrt\n",
    "from itertools import product\n",
    "from random import randint\n",
    "from contextlib import nullcontext\n",
    "import matplotlib\n",
    "from utils.build_svi_iter import build_svi_iter\n",
    "from utils.build_zuko_guide import build_zuko_guide, ZukoGuide\n",
    "from utils.functional_factor_added import FunctionalFactorAdded\n",
    "from utils.module_requires_grad import module_requires_grad_\n",
    "from utils.tabi_reparametrized_functional import TABIReparametrizedFunctionalOfPrior\n",
    "from chirho.observational.handlers.predictive import PredictiveModel\n",
    "import seaborn as sns\n",
    "from chirho.robust.ops import influence_fn\n",
    "# from chirho.robust.handlers.estimators import MonteCarloInfluenceEstimator\n",
    "from chirho.robust.internals.full_linearize_from_left import full_linearize_from_left\n",
    "from chirho.robust.internals.nmc import BatchedNMCLogMarginalLikelihood\n",
    "\n",
    "tnsr = torch.tensor\n",
    "\n",
    "# Settings\n",
    "pyro.settings.set(module_local_params=True)\n",
    "torch.set_default_dtype(torch.float64)\n",
    "\n",
    "\n",
    "# seed = randint(0, int(1e6))\n",
    "# print(seed)\n",
    "\n",
    "seed = 2805018\n",
    "\n",
    "pyro.set_rng_seed(seed)"
   ]
  },
  {
   "cell_type": "markdown",
   "source": [
    "# Simple Model"
   ],
   "metadata": {
    "collapsed": false
   },
   "id": "61d51291a56678ed"
  },
  {
   "cell_type": "code",
   "outputs": [],
   "source": [
    "from collections import OrderedDict\n",
    "class DebugInstanceDict(OrderedDict):\n",
    "    def __init__(self, *args, **kwargs):\n",
    "        super().__init__(*args, **kwargs)\n",
    "    \n",
    "    def __setitem__(self, key, value):\n",
    "        if key in [\"loc\", \"scale_tril\"]:\n",
    "            if not isinstance(value, torch.nn.Parameter):\n",
    "                print(f\"WARNING: setting non parameter for argument {key}\")\n",
    "                print(f\"OLD VALUE: {self[key]}\")\n",
    "                print(f\"NEW VALUE: {value}\")\n",
    "            elif isinstance(value, torch.nn.Parameter):\n",
    "                print(f\"Setting parameter for argument {key}\")\n",
    "        return super().__setitem__(key, value)"
   ],
   "metadata": {
    "collapsed": false,
    "ExecuteTime": {
     "end_time": "2024-08-16T22:17:26.329287Z",
     "start_time": "2024-08-16T22:17:26.289142Z"
    }
   },
   "id": "d502e113b5c75996",
   "execution_count": 2
  },
  {
   "cell_type": "code",
   "outputs": [],
   "source": [
    "# Sample from an MVN by sampling two normals sequentially.\n",
    "class ChainedNormals(torch.nn.Module):\n",
    "    def __init__(self, loc, scale_tril, *args, **kwargs):\n",
    "        super().__init__(*args, **kwargs)\n",
    "        self._parameters = DebugInstanceDict(**self._parameters)\n",
    "        \n",
    "        \n",
    "        \n",
    "        # Register these as parameters so that the EIF can be computed using their gradients.\n",
    "        self.loc = torch.nn.Parameter(loc.detach().clone())\n",
    "        self.scale_tril =  torch.nn.Parameter(scale_tril.detach().clone())\n",
    "    \n",
    "    @staticmethod\n",
    "    def _transform_to_sequential_normal_parameters(loc, scale_tril):\n",
    "        # Thanks ChatGPT\n",
    "        \n",
    "        cov = scale_tril @ scale_tril.t()\n",
    "        \n",
    "        loc1 = loc[0]\n",
    "        std1 = torch.sqrt(cov[0, 0])\n",
    "        \n",
    "        loc2_base = loc[1]\n",
    "        sigma_21 = cov[1, 0]\n",
    "        sigma_11 = cov[0, 0]\n",
    "        sigma_22 = cov[1, 1]\n",
    "        \n",
    "        # Precompute part of the conditional mean expression\n",
    "        conditional_loc2_base = loc2_base - (sigma_21 / sigma_11) * loc1\n",
    "        conditional_std2 = torch.sqrt(sigma_22 - (sigma_21**2 / sigma_11))\n",
    "        \n",
    "        return loc1, std1, conditional_loc2_base, sigma_21, sigma_11, conditional_std2\n",
    "    \n",
    "    def forward(self):\n",
    "        \n",
    "        loc1, std1, conditional_loc2_base, sigma_21, sigma_11, conditional_std2 = \\\n",
    "            self._transform_to_sequential_normal_parameters(self.loc, self.scale_tril)\n",
    "        \n",
    "        # Sample from the first normal distribution\n",
    "        z1 = pyro.sample(\"z1\", dist.Normal(\n",
    "            loc=loc1,\n",
    "            scale=std1\n",
    "        ))\n",
    "        \n",
    "        # Compute the conditional mean using the sampled z1\n",
    "        conditional_loc2 = conditional_loc2_base + (sigma_21 / sigma_11) * z1\n",
    "        \n",
    "        # Sample from the second normal distribution with the conditional mean\n",
    "        z2 = pyro.sample(\"z2\", dist.Normal(\n",
    "            loc=conditional_loc2,\n",
    "            scale=conditional_std2\n",
    "        ))\n",
    "        \n",
    "        return z1, z2"
   ],
   "metadata": {
    "collapsed": false,
    "ExecuteTime": {
     "end_time": "2024-08-16T22:17:26.349267Z",
     "start_time": "2024-08-16T22:17:26.292924Z"
    }
   },
   "id": "3c76ffa853d9ee6d",
   "execution_count": 3
  },
  {
   "cell_type": "code",
   "outputs": [
    {
     "name": "stdout",
     "output_type": "stream",
     "text": [
      "Setting parameter for argument loc\n",
      "Setting parameter for argument scale_tril\n"
     ]
    }
   ],
   "source": [
    "prior = ChainedNormals(\n",
    "    loc=torch.tensor([0., 0.]),\n",
    "    scale_tril=torch.linalg.cholesky(torch.tensor([\n",
    "        [5.0, -0.0],\n",
    "        [-0.0, 5.0]\n",
    "    ]))\n",
    ")"
   ],
   "metadata": {
    "collapsed": false,
    "ExecuteTime": {
     "end_time": "2024-08-16T22:17:26.352096Z",
     "start_time": "2024-08-16T22:17:26.295532Z"
    }
   },
   "id": "5aa3b218e634f702",
   "execution_count": 4
  },
  {
   "cell_type": "code",
   "outputs": [
    {
     "data": {
      "text/plain": "(-6.0, 6.0)"
     },
     "execution_count": 5,
     "metadata": {},
     "output_type": "execute_result"
    },
    {
     "data": {
      "text/plain": "<Figure size 400x400 with 1 Axes>",
      "image/png": "[encoded data removed]"
     },
     "metadata": {},
     "output_type": "display_data"
    }
   ],
   "source": [
    "# Visualize samples from the prior.\n",
    "with pyro.plate(\"prior_viz\", 1000):\n",
    "    prior_samples = prior()\n",
    "\n",
    "plt.figure(figsize=(4, 4))\n",
    "plt.scatter(prior_samples[0].detach().numpy(), prior_samples[1].detach().numpy(), alpha=0.5, s=4.)\n",
    "plt.xlabel(\"z1\")\n",
    "plt.ylabel(\"z2\")\n",
    "plt.suptitle(\"Prior Samples\")\n",
    "\n",
    "LIMS = (-6., 6.)\n",
    "plt.xlim(*LIMS)\n",
    "plt.ylim(*LIMS)"
   ],
   "metadata": {
    "collapsed": false,
    "ExecuteTime": {
     "end_time": "2024-08-16T22:17:26.495677Z",
     "start_time": "2024-08-16T22:17:26.298841Z"
    }
   },
   "id": "d0537201d43f2c97",
   "execution_count": 5
  },
  {
   "cell_type": "code",
   "outputs": [],
   "source": [
    "class FullModel(torch.nn.Module):\n",
    "    def __init__(self, prior: torch.nn.Module, *args, **kwargs):\n",
    "        super().__init__(*args, **kwargs)\n",
    "        self.prior = prior\n",
    "        self.noise = torch.tensor(0.5)\n",
    "        \n",
    "    def forward(self, n=1):\n",
    "        ps = self.prior()  # prior sample\n",
    "        \n",
    "        # TODO make the normal prior just use a dict and not a tuple.\n",
    "        #  The issue is that the tuple return makes it hard to use a\n",
    "        #  guide in place of the prior, which returns a dict by default.\n",
    "        if isinstance(ps, dict):\n",
    "            z1, z2 = ps[\"z1\"], ps[\"z2\"]\n",
    "        elif isinstance(ps, tuple):\n",
    "            z1, z2 = ps\n",
    "        else:\n",
    "            raise NotImplementedError(f\"Unknown prior sample type: {type(ps)}\")\n",
    "        \n",
    "        with pyro.plate(\"data\", n, dim=-1):\n",
    "            x = pyro.sample(\"x\", dist.Normal(z1 + z2, self.noise))\n",
    "    \n",
    "        return x\n",
    "model = FullModel(prior)"
   ],
   "metadata": {
    "collapsed": false,
    "ExecuteTime": {
     "end_time": "2024-08-16T22:17:26.498660Z",
     "start_time": "2024-08-16T22:17:26.391451Z"
    }
   },
   "id": "ad60299ddb6e1e69",
   "execution_count": 6
  },
  {
   "cell_type": "markdown",
   "source": [
    "# Data Generation"
   ],
   "metadata": {
    "collapsed": false
   },
   "id": "781c0a8a9423d141"
  },
  {
   "cell_type": "code",
   "outputs": [],
   "source": [
    "true_latents = dict(\n",
    "    z1=tnsr([1.]),\n",
    "    z2=tnsr([-3.])\n",
    ")"
   ],
   "metadata": {
    "collapsed": false,
    "ExecuteTime": {
     "end_time": "2024-08-16T22:17:26.514922Z",
     "start_time": "2024-08-16T22:17:26.393926Z"
    }
   },
   "id": "2becaa6d5ba9aac5",
   "execution_count": 7
  },
  {
   "cell_type": "code",
   "outputs": [],
   "source": [
    "N = 100\n",
    "observed_data = dict(x=condition(partial(model, n=N), data=true_latents)())"
   ],
   "metadata": {
    "collapsed": false,
    "ExecuteTime": {
     "end_time": "2024-08-16T22:17:26.517902Z",
     "start_time": "2024-08-16T22:17:26.398950Z"
    }
   },
   "id": "64a34edffb799c93",
   "execution_count": 8
  },
  {
   "cell_type": "code",
   "outputs": [
    {
     "data": {
      "text/plain": "<Figure size 640x480 with 1 Axes>",
      "image/png": "[encoded data removed]"
     },
     "metadata": {},
     "output_type": "display_data"
    }
   ],
   "source": [
    "plt.hist(observed_data[\"x\"].detach().numpy(), bins=20)\n",
    "plt.suptitle(\"Observed Data\")\n",
    "pass"
   ],
   "metadata": {
    "collapsed": false,
    "ExecuteTime": {
     "end_time": "2024-08-16T22:17:26.648687Z",
     "start_time": "2024-08-16T22:17:26.401754Z"
    }
   },
   "id": "5dda6889323d9318",
   "execution_count": 9
  },
  {
   "cell_type": "code",
   "outputs": [],
   "source": [
    "conditioned_model = condition(partial(model, n=N), data=observed_data)"
   ],
   "metadata": {
    "collapsed": false,
    "ExecuteTime": {
     "end_time": "2024-08-16T22:17:26.651645Z",
     "start_time": "2024-08-16T22:17:26.528202Z"
    }
   },
   "id": "93db7a383715d89b",
   "execution_count": 10
  },
  {
   "cell_type": "markdown",
   "source": [
    "# Inference"
   ],
   "metadata": {
    "collapsed": false
   },
   "id": "9ca2b7eb91fe7ca7"
  },
  {
   "cell_type": "code",
   "outputs": [],
   "source": [
    "# During this initial SVI, we don't want to optimize with respect to the prior parameters, so disable gradients for them.\n",
    "for param in prior.parameters():\n",
    "    param.requires_grad_(False)"
   ],
   "metadata": {
    "collapsed": false,
    "ExecuteTime": {
     "end_time": "2024-08-16T22:17:26.654341Z",
     "start_time": "2024-08-16T22:17:26.530455Z"
    }
   },
   "id": "4c7b619f1a67bbf1",
   "execution_count": 11
  },
  {
   "cell_type": "code",
   "outputs": [],
   "source": [
    "svi = build_svi_iter(\n",
    "    model=conditioned_model,\n",
    "    lr=1e-3,\n",
    "    \n",
    "    variational_family=AutoMultivariateNormal,\n",
    "    init_scale=4.0,\n",
    "    \n",
    "    # variational_family=AutoDelta,\n",
    "    \n",
    "    # variational_family=ZukoGuide,\n",
    "    # features=2,\n",
    "    # context=0,\n",
    "    # transforms=1,\n",
    "    # hidden_features=(4, 4)\n",
    ")"
   ],
   "metadata": {
    "collapsed": false,
    "ExecuteTime": {
     "end_time": "2024-08-16T22:17:26.974770Z",
     "start_time": "2024-08-16T22:17:26.532810Z"
    }
   },
   "id": "7c9f13db0698ba6",
   "execution_count": 12
  },
  {
   "cell_type": "code",
   "outputs": [],
   "source": [
    "# # DEBUG\n",
    "# for param in prior.parameters():\n",
    "#     param.requires_grad_(True)"
   ],
   "metadata": {
    "collapsed": false,
    "ExecuteTime": {
     "end_time": "2024-08-16T22:17:26.977651Z",
     "start_time": "2024-08-16T22:17:26.955828Z"
    }
   },
   "id": "10857e9bf871a40b",
   "execution_count": 13
  },
  {
   "cell_type": "code",
   "outputs": [],
   "source": [
    "# # DEBUG\n",
    "# {k: v.grad for k, v in prior.named_parameters()}"
   ],
   "metadata": {
    "collapsed": false,
    "ExecuteTime": {
     "end_time": "2024-08-16T22:17:26.995772Z",
     "start_time": "2024-08-16T22:17:26.957764Z"
    }
   },
   "id": "908fd4d94ee8893f",
   "execution_count": 14
  },
  {
   "cell_type": "code",
   "outputs": [],
   "source": [
    "# # DEBUG\n",
    "# for p in svi.guide.parameters():\n",
    "#     p.grad = None\n",
    "# for p in prior.parameters():\n",
    "#     p.grad = None"
   ],
   "metadata": {
    "collapsed": false,
    "ExecuteTime": {
     "end_time": "2024-08-16T22:17:26.998983Z",
     "start_time": "2024-08-16T22:17:26.959505Z"
    }
   },
   "id": "cd8b4515f517ee4b",
   "execution_count": 15
  },
  {
   "cell_type": "code",
   "outputs": [],
   "source": [
    "# # DEBUG\n",
    "# svi.svi_iter(step_optimizer=False, detach_losses_override=False).backward()"
   ],
   "metadata": {
    "collapsed": false,
    "ExecuteTime": {
     "end_time": "2024-08-16T22:17:27.001680Z",
     "start_time": "2024-08-16T22:17:26.961014Z"
    }
   },
   "id": "9b46477d5a72506",
   "execution_count": 16
  },
  {
   "cell_type": "code",
   "outputs": [],
   "source": [
    "# # Function to list all leaf tensors that require gradients\n",
    "# def find_leaf_tensors(tensor):\n",
    "#     leaf_tensors = set()\n",
    "# \n",
    "#     def add_leaf(tensor):\n",
    "#         if tensor.is_leaf and tensor.requires_grad:\n",
    "#             leaf_tensors.add(tensor)\n",
    "# \n",
    "#     # Traverse the graph from the output tensor\n",
    "#     torch.autograd._functions.traverse_map(tensor.grad_fn, add_leaf)\n",
    "#     \n",
    "#     return list(leaf_tensors)\n",
    "# \n",
    "# # Get the leaf tensors\n",
    "# leaf_tensors = find_leaf_tensors(svi.svi_iter(step_optimizer=False, detach_losses_override=False))\n",
    "# \n",
    "# # Print out the leaf tensors\n",
    "# for tensor in leaf_tensors:\n",
    "#     print(tensor.shape)"
   ],
   "metadata": {
    "collapsed": false,
    "ExecuteTime": {
     "end_time": "2024-08-16T22:17:27.004295Z",
     "start_time": "2024-08-16T22:17:26.963603Z"
    }
   },
   "id": "acd480b1d6a844e",
   "execution_count": 17
  },
  {
   "cell_type": "code",
   "outputs": [],
   "source": [
    "# # DEBUG\n",
    "# {k: v.grad for k, v in prior.named_parameters()}"
   ],
   "metadata": {
    "collapsed": false,
    "ExecuteTime": {
     "end_time": "2024-08-16T22:17:27.006899Z",
     "start_time": "2024-08-16T22:17:26.965498Z"
    }
   },
   "id": "c4a55a63ec7ab69c",
   "execution_count": 18
  },
  {
   "cell_type": "code",
   "outputs": [],
   "source": [
    "# # DEBUG\n",
    "# for param in prior.parameters():\n",
    "#     param.requires_grad_(False)"
   ],
   "metadata": {
    "collapsed": false,
    "ExecuteTime": {
     "end_time": "2024-08-16T22:17:27.016766Z",
     "start_time": "2024-08-16T22:17:26.967072Z"
    }
   },
   "id": "ad2ca80751782cad",
   "execution_count": 19
  },
  {
   "cell_type": "code",
   "outputs": [
    {
     "name": "stdout",
     "output_type": "stream",
     "text": [
      "Progress 14999/15000\r"
     ]
    }
   ],
   "source": [
    "NITER = 15000\n",
    "# NITER = 1000  # DEBUG\n",
    "for _ in range(NITER):\n",
    "    print(f\"Progress {_}/{NITER}\", end=\"\\r\")\n",
    "    svi.svi_iter()"
   ],
   "metadata": {
    "collapsed": false,
    "ExecuteTime": {
     "end_time": "2024-08-16T22:17:42.103740Z",
     "start_time": "2024-08-16T22:17:26.969328Z"
    }
   },
   "id": "328417f82504ac08",
   "execution_count": 20
  },
  {
   "cell_type": "code",
   "outputs": [
    {
     "data": {
      "text/plain": "[None, None]"
     },
     "execution_count": 21,
     "metadata": {},
     "output_type": "execute_result"
    }
   ],
   "source": [
    "# DEBUG\n",
    "[p.grad for p in prior.parameters()]"
   ],
   "metadata": {
    "collapsed": false,
    "ExecuteTime": {
     "end_time": "2024-08-16T22:17:42.109811Z",
     "start_time": "2024-08-16T22:17:42.102572Z"
    }
   },
   "id": "f4907f2683d7c18",
   "execution_count": 21
  },
  {
   "cell_type": "code",
   "outputs": [
    {
     "data": {
      "text/plain": "<Figure size 640x480 with 1 Axes>",
      "image/png": "[encoded data removed]"
     },
     "metadata": {},
     "output_type": "display_data"
    }
   ],
   "source": [
    "plt.plot(svi.losses)\n",
    "plt.suptitle(\"Losses\")\n",
    "pass"
   ],
   "metadata": {
    "collapsed": false,
    "ExecuteTime": {
     "end_time": "2024-08-16T22:17:42.212608Z",
     "start_time": "2024-08-16T22:17:42.110284Z"
    }
   },
   "id": "187f100451ae17a8",
   "execution_count": 22
  },
  {
   "cell_type": "code",
   "outputs": [
    {
     "data": {
      "text/plain": "<Figure size 400x400 with 1 Axes>",
      "image/png": "[encoded data removed]"
     },
     "metadata": {},
     "output_type": "display_data"
    }
   ],
   "source": [
    "# Plot posterior samples.\n",
    "with pyro.plate(\"posterior_viz\", 1e4):\n",
    "    posterior_samples = svi.guide()\n",
    "    \n",
    "plt.figure(figsize=(4, 4))\n",
    "plt.scatter(posterior_samples[\"z1\"].detach().numpy(), posterior_samples[\"z2\"].detach().numpy(), alpha=1.0, s=0.001)\n",
    "plt.axvline(true_latents[\"z1\"].item(), color=\"red\", label=\"True\")\n",
    "plt.axhline(true_latents[\"z2\"].item(), color=\"red\")\n",
    "plt.xlabel(\"z1\")\n",
    "plt.ylabel(\"z2\")\n",
    "plt.legend()\n",
    "plt.suptitle(\"Posterior Samples\")\n",
    "plt.xlim(*LIMS)\n",
    "plt.ylim(*LIMS)\n",
    "pass"
   ],
   "metadata": {
    "collapsed": false,
    "ExecuteTime": {
     "end_time": "2024-08-16T22:17:42.309199Z",
     "start_time": "2024-08-16T22:17:42.211967Z"
    }
   },
   "id": "77b097f0ff8a0623",
   "execution_count": 23
  },
  {
   "cell_type": "markdown",
   "source": [
    "# Functional\n",
    "We're interested in the sum of `z1` and `z2`, but where we intervene to set `z2=0`.  "
   ],
   "metadata": {
    "collapsed": false
   },
   "id": "5f1318b15f9b270b"
  },
  {
   "cell_type": "code",
   "outputs": [],
   "source": [
    "class IntervenedSum(torch.nn.Module):\n",
    "    \n",
    "    def __init__(self, model, z2value, num_monte_carlo, reshaper=None, *args, **kwargs):\n",
    "        super().__init__(*args, **kwargs)\n",
    "        self.model = model\n",
    "        self.z2value = z2value\n",
    "        self.num_monte_carlo = num_monte_carlo\n",
    "        self.reshaper = reshaper or (lambda x: x)\n",
    "        \n",
    "    def forward(self, *args, **kwargs):\n",
    "        with pyro.plate(\"monte_carlo_functional\", size=self.num_monte_carlo, dim=-2):\n",
    "            with do(actions=dict(z2=self.z2value)):\n",
    "                x = self.model(*args, **kwargs)\n",
    "                return self.reshaper(x)"
   ],
   "metadata": {
    "collapsed": false,
    "ExecuteTime": {
     "end_time": "2024-08-16T22:17:42.315183Z",
     "start_time": "2024-08-16T22:17:42.307392Z"
    }
   },
   "id": "d917825584ee788",
   "execution_count": 24
  },
  {
   "cell_type": "code",
   "outputs": [],
   "source": [
    "functional = IntervenedSum(PredictiveModel(model, svi.guide), z2value=tnsr([0.]), num_monte_carlo=50000, reshaper=torch.mean)"
   ],
   "metadata": {
    "collapsed": false,
    "ExecuteTime": {
     "end_time": "2024-08-16T22:17:42.324885Z",
     "start_time": "2024-08-16T22:17:42.311106Z"
    }
   },
   "id": "c41cd2745e274db4",
   "execution_count": 25
  },
  {
   "cell_type": "code",
   "outputs": [
    {
     "data": {
      "text/plain": "tensor(-0.8668, grad_fn=<MeanBackward0>)"
     },
     "execution_count": 26,
     "metadata": {},
     "output_type": "execute_result"
    }
   ],
   "source": [
    "# Failure to capture the true answer due to non-identification (true answer is 1.).\n",
    "functional()"
   ],
   "metadata": {
    "collapsed": false,
    "ExecuteTime": {
     "end_time": "2024-08-16T22:17:42.337254Z",
     "start_time": "2024-08-16T22:17:42.313813Z"
    }
   },
   "id": "a631f4b0ae2a28a7",
   "execution_count": 26
  },
  {
   "cell_type": "markdown",
   "source": [
    "# Posterior Sensitivity"
   ],
   "metadata": {
    "collapsed": false
   },
   "id": "ed187a93a395001d"
  },
  {
   "cell_type": "code",
   "outputs": [],
   "source": [
    "# Generate a grid of z1, z2 value pairs to assess sensitivity wrt.\n",
    "GRID_RES = 300\n",
    "z1_values = torch.linspace(*LIMS, GRID_RES)\n",
    "z2_values = torch.linspace(*LIMS, GRID_RES)\n",
    "z1_grid, z2_grid = torch.meshgrid(z1_values, z2_values, indexing='ij')\n",
    "\n",
    "# And flatten into something we can pass to the influence function computation.\n",
    "points = dict(z1=z1_grid.reshape(-1), z2=z2_grid.reshape(-1))"
   ],
   "metadata": {
    "collapsed": false,
    "ExecuteTime": {
     "end_time": "2024-08-16T22:17:42.340004Z",
     "start_time": "2024-08-16T22:17:42.320745Z"
    }
   },
   "id": "83e6f97f54d8b108",
   "execution_count": 27
  },
  {
   "cell_type": "code",
   "outputs": [],
   "source": [
    "class IntervenedSum_FunctionalOfGuide(IntervenedSum):\n",
    "    def __init__(self, guide, model, *args, **kwargs):\n",
    "        super().__init__(PredictiveModel(model, guide), *args, **kwargs)"
   ],
   "metadata": {
    "collapsed": false,
    "ExecuteTime": {
     "end_time": "2024-08-16T22:17:42.345288Z",
     "start_time": "2024-08-16T22:17:42.324109Z"
    }
   },
   "id": "1e48f020f2916fe7",
   "execution_count": 28
  },
  {
   "cell_type": "code",
   "outputs": [],
   "source": [
    "partial_funcofguide = partial(\n",
    "    IntervenedSum_FunctionalOfGuide,\n",
    "    model=model,\n",
    "    z2value=tnsr([0.]),\n",
    "    num_monte_carlo=3000,\n",
    "    reshaper=torch.mean\n",
    ")"
   ],
   "metadata": {
    "collapsed": false,
    "ExecuteTime": {
     "end_time": "2024-08-16T22:17:42.395466Z",
     "start_time": "2024-08-16T22:17:42.326923Z"
    }
   },
   "id": "3c389a2a96d29aa4",
   "execution_count": 29
  },
  {
   "cell_type": "code",
   "outputs": [
    {
     "data": {
      "text/plain": "tensor(-0.8643, grad_fn=<MeanBackward0>)"
     },
     "execution_count": 30,
     "metadata": {},
     "output_type": "execute_result"
    }
   ],
   "source": [
    "partial_funcofguide(svi.guide)()"
   ],
   "metadata": {
    "collapsed": false,
    "ExecuteTime": {
     "end_time": "2024-08-16T22:17:42.411740Z",
     "start_time": "2024-08-16T22:17:42.329141Z"
    }
   },
   "id": "ceb0007fa3975942",
   "execution_count": 30
  },
  {
   "cell_type": "code",
   "outputs": [],
   "source": [
    "# HACK for now, because I couldn't figure out how to reliably get log probabilities out of an auto-guide or zuko guide.\n",
    "class ManualLogProbComputer(torch.nn.Module):\n",
    "    def __init__(self, guide):\n",
    "        super().__init__()\n",
    "        self.guide = guide\n",
    "        \n",
    "    def forward(self, points):\n",
    "        stacked_points = torch.hstack((points[\"z1\"][:, None], points[\"z2\"][:, None]))\n",
    "        posterior_dist = self.guide.get_posterior()\n",
    "        return posterior_dist.log_prob(stacked_points)"
   ],
   "metadata": {
    "collapsed": false,
    "ExecuteTime": {
     "end_time": "2024-08-16T22:17:42.414540Z",
     "start_time": "2024-08-16T22:17:42.333175Z"
    }
   },
   "id": "c2e3b6691fa6b2d9",
   "execution_count": 31
  },
  {
   "cell_type": "code",
   "outputs": [
    {
     "name": "stdout",
     "output_type": "stream",
     "text": [
      "CG Solve Progress: 5/8\r"
     ]
    }
   ],
   "source": [
    "with torch.no_grad():\n",
    "    compute_posterior_inf_on_posterior_pred = full_linearize_from_left(\n",
    "        svi.guide,\n",
    "        functional=partial_funcofguide,\n",
    "        num_samples_outer=int(3e3),  # number of samples used to estimate empirical fisher.\n",
    "        num_samples_inner=1,  # not used for this b/c no marginalization required.\n",
    "        points_omit_latent_sites=False,  # no marginalization of latents is required.\n",
    "        # The parameter paths in the svi.guide module and functional differ, despite\n",
    "        #  pointing to the same parameters. This option will try to remap matching\n",
    "        #  parameters to have the same path.\n",
    "        remap_parameter_paths=True,\n",
    "        log_prob_computer=ManualLogProbComputer,\n",
    "        predictive_sites=(\"z1\", \"z2\"),\n",
    "    )"
   ],
   "metadata": {
    "collapsed": false,
    "ExecuteTime": {
     "end_time": "2024-08-16T22:17:42.462313Z",
     "start_time": "2024-08-16T22:17:42.334672Z"
    }
   },
   "id": "4565d9430f95b58",
   "execution_count": 32
  },
  {
   "cell_type": "code",
   "outputs": [
    {
     "data": {
      "text/plain": "[torch.nn.parameter.Parameter,\n torch.nn.parameter.Parameter,\n torch.nn.parameter.Parameter]"
     },
     "execution_count": 33,
     "metadata": {},
     "output_type": "execute_result"
    }
   ],
   "source": [
    "# DEBUG\n",
    "list(type(p) for p in svi.guide.parameters())\n",
    "# So these don't result in the module's parameters being wrapped in functional tensors...even though we make_functional_call and jacrev it... See way below note 27fuh186ydfj0"
   ],
   "metadata": {
    "collapsed": false,
    "ExecuteTime": {
     "end_time": "2024-08-16T22:17:42.467993Z",
     "start_time": "2024-08-16T22:17:42.414035Z"
    }
   },
   "id": "bde0a8607ef7c05",
   "execution_count": 33
  },
  {
   "cell_type": "code",
   "outputs": [
    {
     "name": "stdout",
     "output_type": "stream",
     "text": [
      "Elapsed: 0.005651950836181641\n",
      "torch.Size([90000])\n"
     ]
    }
   ],
   "source": [
    "import time\n",
    "few_points = {k: v for k, v in points.items()}\n",
    "with torch.no_grad():\n",
    "    s = time.time()\n",
    "    posterior_inf_on_posterior_pred = compute_posterior_inf_on_posterior_pred(few_points)\n",
    "    print(\"Elapsed:\", time.time() - s)\n",
    "    print(posterior_inf_on_posterior_pred.shape)"
   ],
   "metadata": {
    "collapsed": false,
    "ExecuteTime": {
     "end_time": "2024-08-16T22:17:42.511468Z",
     "start_time": "2024-08-16T22:17:42.416783Z"
    }
   },
   "id": "7be340ba5a9db60b",
   "execution_count": 34
  },
  {
   "cell_type": "code",
   "outputs": [],
   "source": [
    "# # DEBUG\n",
    "# list(svi.guide.parameters())"
   ],
   "metadata": {
    "collapsed": false,
    "ExecuteTime": {
     "end_time": "2024-08-16T22:17:42.526911Z",
     "start_time": "2024-08-16T22:17:42.431152Z"
    }
   },
   "id": "89c76b9615d14ef7",
   "execution_count": 35
  },
  {
   "cell_type": "markdown",
   "source": [
    "### Visualize Posterior Sensitivity\n",
    "The target functional is `E[x|D, do(z2=0)]`, where `x=z1+z2`. We estimate this with a variational approximation to the posterior over `z1` and `z2` conditioned on observations of their sum. Because `z2` is being forcibly set to zero here, the influence on the posterior expectation of `x` should be entirely the purview of `z1`. Indeed, we see that, only by adding probability mass to the right of the posterior mean of `z1`, will the target functional increase. By adding mass to the left, the target functional will decrease."
   ],
   "metadata": {
    "collapsed": false
   },
   "id": "7ba995771435d7b5"
  },
  {
   "cell_type": "code",
   "outputs": [
    {
     "data": {
      "text/plain": "Text(0.5, 0.98, 'Functional Sensitivity to Posterior Perturbations')"
     },
     "execution_count": 36,
     "metadata": {},
     "output_type": "execute_result"
    },
    {
     "data": {
      "text/plain": "<Figure size 600x600 with 2 Axes>",
      "image/png": "[encoded data removed]"
     },
     "metadata": {},
     "output_type": "display_data"
    }
   ],
   "source": [
    "# Reshape the posterior_inf_on_posterior_pred to be used as the color\n",
    "#  of our meshgrid plot.\n",
    "posterior_inf_on_posterior_pred_grid = posterior_inf_on_posterior_pred.reshape(GRID_RES, GRID_RES)\n",
    "\n",
    "# Plot the sensitivity of the posterior predictive to the posterior\n",
    "#  distribution of the latent variables.\n",
    "plt.figure(figsize=(6, 6))\n",
    "\n",
    "# plt.imshow(\n",
    "#     posterior_inf_on_posterior_pred_grid.T,\n",
    "#     extent=(*LIMS, *LIMS), origin='lower',\n",
    "#     cmap=\"copper\"\n",
    "# )\n",
    "\n",
    "# Plot something a little more interpretable. We want to set -1 where < 0, 1 where > 0, and then keep 0 for isclose to zero for that contour.\n",
    "simple_post_inf = posterior_inf_on_posterior_pred_grid.clone()\n",
    "simple_post_inf[simple_post_inf < 0] = torch.tensor(-1.)\n",
    "simple_post_inf[simple_post_inf > 0] = torch.tensor(1.)\n",
    "simple_post_inf[torch.isclose(posterior_inf_on_posterior_pred_grid, torch.tensor(0.), atol=1e-1)] = torch.tensor(0.)\n",
    "plt.imshow(\n",
    "    simple_post_inf.T,\n",
    "    extent=(*LIMS, *LIMS), origin='lower',\n",
    "    cmap=\"copper\"\n",
    ")\n",
    "\n",
    "plt.colorbar()\n",
    "plt.xlabel(\"z1\")\n",
    "plt.ylabel(\"z2\")\n",
    "\n",
    "# Plot the truth and a low-alpha posterior scatter.\n",
    "plt.scatter(posterior_samples[\"z1\"].detach().numpy(), posterior_samples[\"z2\"].detach().numpy(), alpha=0.5, s=0.01, color=\"cyan\", label=\"Posterior Samples\")\n",
    "plt.axvline(true_latents[\"z1\"].item(), color=\"red\", label=\"True\", linewidth=0.5, linestyle=\"--\")\n",
    "plt.axhline(true_latents[\"z2\"].item(), color=\"red\", linewidth=0.5, linestyle=\"--\")\n",
    "\n",
    "# Force lims.\n",
    "plt.xlim(*LIMS)\n",
    "plt.ylim(*LIMS)\n",
    "\n",
    "# Show the axvline for the functional's estimate under the current posterior.\n",
    "plt.axvline(partial_funcofguide(svi.guide)().detach(), color=\"lime\", label=\"Expectation of z1 Under Posterior\", linewidth=2.0, linestyle=\"--\")\n",
    "\n",
    "# Remove grid lines.\n",
    "plt.grid(False)\n",
    "\n",
    "plt.legend()\n",
    "plt.suptitle(\"Functional Sensitivity to Posterior Perturbations\")"
   ],
   "metadata": {
    "collapsed": false,
    "ExecuteTime": {
     "end_time": "2024-08-16T22:17:42.736307Z",
     "start_time": "2024-08-16T22:17:42.436171Z"
    }
   },
   "id": "a8d86b6703bb60a3",
   "execution_count": 36
  },
  {
   "cell_type": "markdown",
   "source": [
    "# Prior Sensitivity\n",
    "We defined the earlier functional with respect to a posterior approximation. This meant we could merely slot that approximation in, in place of the prior, and compute the functional. Now, however, we want to rewrite the functional with respect to the prior, which is unfortunately obscured behind the posterior approximation, which is itself a functional of the prior that involves inference. To resolve this, we will use importance sampling in \"reparametrization\", of sorts, where inference still aids in our estimation, but where the functional can be written with respect to the prior more directly.\n",
    "\n",
    "To do so, we'll use the single stage TABI decomposition, which involves adding a log factor for the quantity you wish to take the expectation with respect to."
   ],
   "metadata": {
    "collapsed": false
   },
   "id": "54b8b5709e20b544"
  },
  {
   "cell_type": "code",
   "outputs": [],
   "source": [
    "partial_functional = partial(\n",
    "    IntervenedSum,\n",
    "    z2value=tnsr([0.]),\n",
    "    num_monte_carlo=1000,\n",
    "    reshaper=torch.mean\n",
    ")"
   ],
   "metadata": {
    "collapsed": false,
    "ExecuteTime": {
     "end_time": "2024-08-16T22:17:42.739668Z",
     "start_time": "2024-08-16T22:17:42.734255Z"
    }
   },
   "id": "12eda7c57fc6af48",
   "execution_count": 37
  },
  {
   "cell_type": "code",
   "outputs": [],
   "source": [
    "functional_of_prior_estimator = TABIReparametrizedFunctionalOfPrior(\n",
    "    prior=prior,\n",
    "    full_model_functional_of_prior=FullModel,\n",
    "    data=observed_data,\n",
    "    functional=partial_functional,\n",
    "    num_monte_carlo=min(1000, NITER)\n",
    ")"
   ],
   "metadata": {
    "collapsed": false,
    "ExecuteTime": {
     "end_time": "2024-08-16T22:17:42.751672Z",
     "start_time": "2024-08-16T22:17:42.736593Z"
    }
   },
   "id": "54da70b714e079be",
   "execution_count": 38
  },
  {
   "cell_type": "code",
   "outputs": [],
   "source": [
    "functional_of_prior_estimator.build_svi_iters(\n",
    "    lr=5e-4,\n",
    "    # variational_family=AutoMultivariateNormal,\n",
    "    # init_scale=4.0\n",
    "    \n",
    "    variational_family=ZukoGuide,\n",
    "    features=2,\n",
    "    context=0,\n",
    "    transforms=1,\n",
    "    hidden_features=(4, 4)\n",
    ")"
   ],
   "metadata": {
    "collapsed": false,
    "ExecuteTime": {
     "end_time": "2024-08-16T22:17:42.798790Z",
     "start_time": "2024-08-16T22:17:42.738794Z"
    }
   },
   "id": "7aa5c979cde49126",
   "execution_count": 39
  },
  {
   "cell_type": "code",
   "outputs": [
    {
     "name": "stdout",
     "output_type": "stream",
     "text": [
      "Progress 999/1000\r"
     ]
    }
   ],
   "source": [
    "# DEBUG testing just the posterior part.\n",
    "# NITER = 20000\n",
    "NITER = 1000  # DEBUG\n",
    "\n",
    "for i in range(NITER):\n",
    "    functional_of_prior_estimator.den_comp_svi_iter.svi_iter(\n",
    "        retain_graph=False\n",
    "    )\n",
    "    print(f\"Progress {i}/{NITER}\", end=\"\\r\")"
   ],
   "metadata": {
    "collapsed": false,
    "ExecuteTime": {
     "end_time": "2024-08-16T22:17:44.548386Z",
     "start_time": "2024-08-16T22:17:42.765261Z"
    }
   },
   "id": "8b38af2e96551b48",
   "execution_count": 40
  },
  {
   "cell_type": "code",
   "outputs": [],
   "source": [
    "@singledispatch\n",
    "def strip_for_plotting(_):\n",
    "    raise NotImplementedError()\n",
    "\n",
    "@strip_for_plotting.register(list)\n",
    "def _(x):\n",
    "    return [strip_for_plotting(v) for v in x]\n",
    "\n",
    "@strip_for_plotting.register(torch.Tensor)\n",
    "def _(x):\n",
    "    return x.detach().numpy()\n",
    "\n",
    "@strip_for_plotting.register(float)\n",
    "def _(x):\n",
    "    return x"
   ],
   "metadata": {
    "collapsed": false,
    "ExecuteTime": {
     "end_time": "2024-08-16T22:17:44.554356Z",
     "start_time": "2024-08-16T22:17:44.547287Z"
    }
   },
   "id": "8ff5ef0952d39461",
   "execution_count": 41
  },
  {
   "cell_type": "code",
   "outputs": [
    {
     "data": {
      "text/plain": "[<matplotlib.lines.Line2D at 0x174d421b0>]"
     },
     "execution_count": 42,
     "metadata": {},
     "output_type": "execute_result"
    },
    {
     "data": {
      "text/plain": "<Figure size 640x480 with 1 Axes>",
      "image/png": "[encoded data removed]"
     },
     "metadata": {},
     "output_type": "display_data"
    }
   ],
   "source": [
    "# DEBUG vis\n",
    "plt.plot(\n",
    "    strip_for_plotting(functional_of_prior_estimator.den_comp_svi_iter.losses)\n",
    ")"
   ],
   "metadata": {
    "collapsed": false,
    "ExecuteTime": {
     "end_time": "2024-08-16T22:17:44.628194Z",
     "start_time": "2024-08-16T22:17:44.555011Z"
    }
   },
   "id": "d567e94fffbbaa81",
   "execution_count": 42
  },
  {
   "cell_type": "code",
   "outputs": [
    {
     "data": {
      "text/plain": "(-6.0, 6.0)"
     },
     "execution_count": 43,
     "metadata": {},
     "output_type": "execute_result"
    },
    {
     "data": {
      "text/plain": "<Figure size 400x400 with 1 Axes>",
      "image/png": "[encoded data removed]"
     },
     "metadata": {},
     "output_type": "display_data"
    }
   ],
   "source": [
    "# DEBUG vis posterior, just like before.\n",
    "with pyro.plate(\"posterior_viz\", 1e4):\n",
    "    posterior_samples = functional_of_prior_estimator.den_comp_svi_iter.guide()\n",
    "\n",
    "plt.figure(figsize=(4, 4))\n",
    "plt.scatter(posterior_samples[\"z1\"].detach().numpy(), posterior_samples[\"z2\"].detach().numpy(), alpha=1.0, s=0.001)\n",
    "plt.axvline(true_latents[\"z1\"].item(), color=\"red\", label=\"True\")\n",
    "plt.axhline(true_latents[\"z2\"].item(), color=\"red\")\n",
    "plt.xlim(*LIMS)\n",
    "plt.ylim(*LIMS)\n"
   ],
   "metadata": {
    "collapsed": false,
    "ExecuteTime": {
     "end_time": "2024-08-16T22:17:44.708595Z",
     "start_time": "2024-08-16T22:17:44.626580Z"
    }
   },
   "id": "596a0801ed6c66e9",
   "execution_count": 43
  },
  {
   "cell_type": "code",
   "outputs": [
    {
     "name": "stdout",
     "output_type": "stream",
     "text": [
      "Progress 999/1000\r"
     ]
    }
   ],
   "source": [
    "# DEBUG do the same thing but for the positive component pos_comp_svi_iter\n",
    "for i in range(NITER):\n",
    "    functional_of_prior_estimator.pos_comp_svi_iter.svi_iter(retain_graph=False)\n",
    "    print(f\"Progress {i}/{NITER}\", end=\"\\r\")\n"
   ],
   "metadata": {
    "collapsed": false,
    "ExecuteTime": {
     "end_time": "2024-08-16T22:17:47.954560Z",
     "start_time": "2024-08-16T22:17:44.703096Z"
    }
   },
   "id": "a5d1efe48a527f9",
   "execution_count": 44
  },
  {
   "cell_type": "code",
   "outputs": [
    {
     "data": {
      "text/plain": "[<matplotlib.lines.Line2D at 0x28640d6d0>]"
     },
     "execution_count": 45,
     "metadata": {},
     "output_type": "execute_result"
    },
    {
     "data": {
      "text/plain": "<Figure size 640x480 with 1 Axes>",
      "image/png": "[encoded data removed]"
     },
     "metadata": {},
     "output_type": "display_data"
    }
   ],
   "source": [
    "# DEBUG vis\n",
    "plt.plot(\n",
    "    strip_for_plotting(functional_of_prior_estimator.pos_comp_svi_iter.losses)\n",
    ")"
   ],
   "metadata": {
    "collapsed": false,
    "ExecuteTime": {
     "end_time": "2024-08-16T22:17:48.028497Z",
     "start_time": "2024-08-16T22:17:47.955882Z"
    }
   },
   "id": "15b9de67fb197e38",
   "execution_count": 45
  },
  {
   "cell_type": "code",
   "outputs": [
    {
     "data": {
      "text/plain": "(-6.0, 6.0)"
     },
     "execution_count": 46,
     "metadata": {},
     "output_type": "execute_result"
    },
    {
     "data": {
      "text/plain": "<Figure size 400x400 with 1 Axes>",
      "image/png": "[encoded data removed]"
     },
     "metadata": {},
     "output_type": "display_data"
    }
   ],
   "source": [
    "# DEBUG vis posterior, just like before.\n",
    "with pyro.plate(\"posterior_viz\", 1e4):\n",
    "    posterior_samples = functional_of_prior_estimator.pos_comp_svi_iter.guide()\n",
    "\n",
    "plt.figure(figsize=(4, 4))\n",
    "plt.scatter(posterior_samples[\"z1\"].detach().numpy(), posterior_samples[\"z2\"].detach().numpy(), alpha=1.0, s=0.001)\n",
    "plt.axvline(true_latents[\"z1\"].item(), color=\"red\", label=\"True\")\n",
    "plt.axhline(true_latents[\"z2\"].item(), color=\"red\")\n",
    "plt.xlim(*LIMS)\n",
    "plt.ylim(*LIMS)\n"
   ],
   "metadata": {
    "collapsed": false,
    "ExecuteTime": {
     "end_time": "2024-08-16T22:17:48.104707Z",
     "start_time": "2024-08-16T22:17:48.028048Z"
    }
   },
   "id": "70f904d8b6327ea3",
   "execution_count": 46
  },
  {
   "cell_type": "code",
   "outputs": [
    {
     "name": "stdout",
     "output_type": "stream",
     "text": [
      "Progress 999/1000\r"
     ]
    }
   ],
   "source": [
    "# And for neg_comp_svi_iter\n",
    "for i in range(NITER):\n",
    "    functional_of_prior_estimator.neg_comp_svi_iter.svi_iter(retain_graph=False)\n",
    "    print(f\"Progress {i}/{NITER}\", end=\"\\r\")"
   ],
   "metadata": {
    "collapsed": false,
    "ExecuteTime": {
     "end_time": "2024-08-16T22:17:51.335093Z",
     "start_time": "2024-08-16T22:17:48.103620Z"
    }
   },
   "id": "d01329d06c0d8c13",
   "execution_count": 47
  },
  {
   "cell_type": "code",
   "outputs": [
    {
     "data": {
      "text/plain": "[<matplotlib.lines.Line2D at 0x2864e7c50>]"
     },
     "execution_count": 48,
     "metadata": {},
     "output_type": "execute_result"
    },
    {
     "data": {
      "text/plain": "<Figure size 640x480 with 1 Axes>",
      "image/png": "[encoded data removed]"
     },
     "metadata": {},
     "output_type": "display_data"
    }
   ],
   "source": [
    "# DEBUG vis\n",
    "plt.plot(strip_for_plotting(functional_of_prior_estimator.neg_comp_svi_iter.losses))"
   ],
   "metadata": {
    "collapsed": false,
    "ExecuteTime": {
     "end_time": "2024-08-16T22:17:51.414316Z",
     "start_time": "2024-08-16T22:17:51.338669Z"
    }
   },
   "id": "2e42b17d2c0d0f34",
   "execution_count": 48
  },
  {
   "cell_type": "code",
   "outputs": [
    {
     "data": {
      "text/plain": "(-6.0, 6.0)"
     },
     "execution_count": 49,
     "metadata": {},
     "output_type": "execute_result"
    },
    {
     "data": {
      "text/plain": "<Figure size 400x400 with 1 Axes>",
      "image/png": "[encoded data removed]"
     },
     "metadata": {},
     "output_type": "display_data"
    }
   ],
   "source": [
    "# DEBUG vis posterior, just like before.\n",
    "with pyro.plate(\"posterior_viz\", 1e4):\n",
    "    posterior_samples = functional_of_prior_estimator.neg_comp_svi_iter.guide()\n",
    "    \n",
    "plt.figure(figsize=(4, 4))\n",
    "plt.scatter(posterior_samples[\"z1\"].detach().numpy(), posterior_samples[\"z2\"].detach().numpy(), alpha=1.0, s=0.001)\n",
    "plt.axvline(true_latents[\"z1\"].item(), color=\"red\", label=\"True\")\n",
    "plt.axhline(true_latents[\"z2\"].item(), color=\"red\")\n",
    "plt.xlim(*LIMS)\n",
    "plt.ylim(*LIMS)"
   ],
   "metadata": {
    "collapsed": false,
    "ExecuteTime": {
     "end_time": "2024-08-16T22:17:51.501242Z",
     "start_time": "2024-08-16T22:17:51.412886Z"
    }
   },
   "id": "35f17a0cc37d5fbf",
   "execution_count": 49
  },
  {
   "cell_type": "code",
   "outputs": [],
   "source": [],
   "metadata": {
    "collapsed": false,
    "ExecuteTime": {
     "end_time": "2024-08-16T22:17:51.510021Z",
     "start_time": "2024-08-16T22:17:51.492363Z"
    }
   },
   "id": "4b4a2da7cff2a1a0",
   "execution_count": 49
  },
  {
   "cell_type": "code",
   "outputs": [],
   "source": [],
   "metadata": {
    "collapsed": false,
    "ExecuteTime": {
     "end_time": "2024-08-16T22:17:51.512928Z",
     "start_time": "2024-08-16T22:17:51.494237Z"
    }
   },
   "id": "d56d13a81fdcb8e9",
   "execution_count": 49
  },
  {
   "cell_type": "code",
   "outputs": [
    {
     "name": "stdout",
     "output_type": "stream",
     "text": [
      "{'prior.loc': True, 'prior.scale_tril': True, 'pos_comp_guide.flow.transform.transform.transforms.0.hyper.0.weight': False, 'pos_comp_guide.flow.transform.transform.transforms.0.hyper.0.bias': False, 'pos_comp_guide.flow.transform.transform.transforms.0.hyper.2.weight': False, 'pos_comp_guide.flow.transform.transform.transforms.0.hyper.2.bias': False, 'pos_comp_guide.flow.transform.transform.transforms.0.hyper.4.weight': False, 'pos_comp_guide.flow.transform.transform.transforms.0.hyper.4.bias': False, 'neg_comp_guide.flow.transform.transform.transforms.0.hyper.0.weight': False, 'neg_comp_guide.flow.transform.transform.transforms.0.hyper.0.bias': False, 'neg_comp_guide.flow.transform.transform.transforms.0.hyper.2.weight': False, 'neg_comp_guide.flow.transform.transform.transforms.0.hyper.2.bias': False, 'neg_comp_guide.flow.transform.transform.transforms.0.hyper.4.weight': False, 'neg_comp_guide.flow.transform.transform.transforms.0.hyper.4.bias': False, 'den_comp_guide.flow.transform.transform.transforms.0.hyper.0.weight': False, 'den_comp_guide.flow.transform.transform.transforms.0.hyper.0.bias': False, 'den_comp_guide.flow.transform.transform.transforms.0.hyper.2.weight': False, 'den_comp_guide.flow.transform.transform.transforms.0.hyper.2.bias': False, 'den_comp_guide.flow.transform.transform.transforms.0.hyper.4.weight': False, 'den_comp_guide.flow.transform.transform.transforms.0.hyper.4.bias': False}\n"
     ]
    }
   ],
   "source": [
    "# DEBUG\n",
    "# real eif mode should only show prior parameters as requiring grad.\n",
    "with functional_of_prior_estimator.in_eif_mode() as f:\n",
    "    print({\n",
    "        k: v.requires_grad for k, v in f.named_parameters()\n",
    "    })"
   ],
   "metadata": {
    "collapsed": false,
    "ExecuteTime": {
     "end_time": "2024-08-16T22:17:51.521969Z",
     "start_time": "2024-08-16T22:17:51.496299Z"
    }
   },
   "id": "91989da2f53f0f4d",
   "execution_count": 50
  },
  {
   "cell_type": "code",
   "outputs": [
    {
     "name": "stdout",
     "output_type": "stream",
     "text": [
      "{'prior.loc': False, 'prior.scale_tril': False, 'pos_comp_guide.flow.transform.transform.transforms.0.hyper.0.weight': True, 'pos_comp_guide.flow.transform.transform.transforms.0.hyper.0.bias': True, 'pos_comp_guide.flow.transform.transform.transforms.0.hyper.2.weight': True, 'pos_comp_guide.flow.transform.transform.transforms.0.hyper.2.bias': True, 'pos_comp_guide.flow.transform.transform.transforms.0.hyper.4.weight': True, 'pos_comp_guide.flow.transform.transform.transforms.0.hyper.4.bias': True, 'neg_comp_guide.flow.transform.transform.transforms.0.hyper.0.weight': True, 'neg_comp_guide.flow.transform.transform.transforms.0.hyper.0.bias': True, 'neg_comp_guide.flow.transform.transform.transforms.0.hyper.2.weight': True, 'neg_comp_guide.flow.transform.transform.transforms.0.hyper.2.bias': True, 'neg_comp_guide.flow.transform.transform.transforms.0.hyper.4.weight': True, 'neg_comp_guide.flow.transform.transform.transforms.0.hyper.4.bias': True, 'den_comp_guide.flow.transform.transform.transforms.0.hyper.0.weight': True, 'den_comp_guide.flow.transform.transform.transforms.0.hyper.0.bias': True, 'den_comp_guide.flow.transform.transform.transforms.0.hyper.2.weight': True, 'den_comp_guide.flow.transform.transform.transforms.0.hyper.2.bias': True, 'den_comp_guide.flow.transform.transform.transforms.0.hyper.4.weight': True, 'den_comp_guide.flow.transform.transform.transforms.0.hyper.4.bias': True}\n"
     ]
    }
   ],
   "source": [
    "# DEBUG\n",
    "# Fake EIF mode should have prior params not requiring grad and guide params requiring grad.\n",
    "functional_of_prior_estimator._is_in_eif_mode = True\n",
    "print({\n",
    "    k: v.requires_grad for k, v in functional_of_prior_estimator.named_parameters()\n",
    "})\n",
    "functional_of_prior_estimator._is_in_eif_mode = False"
   ],
   "metadata": {
    "collapsed": false,
    "ExecuteTime": {
     "end_time": "2024-08-16T22:17:51.530372Z",
     "start_time": "2024-08-16T22:17:51.499806Z"
    }
   },
   "id": "9081337933524c0a",
   "execution_count": 51
  },
  {
   "cell_type": "code",
   "outputs": [],
   "source": [],
   "metadata": {
    "collapsed": false,
    "ExecuteTime": {
     "end_time": "2024-08-16T22:17:51.537060Z",
     "start_time": "2024-08-16T22:17:51.501578Z"
    }
   },
   "id": "bd1730095c6c6020",
   "execution_count": 51
  },
  {
   "cell_type": "code",
   "outputs": [],
   "source": [
    "# Restore gradients for prior parameters, as we now want to take grads with respect to those parameters.\n",
    "# TODO so before we had to enable this before svi so that the grads were attached, but I think it might be fixed now that we moved the intermediate compute to the forward of the prior? I.e. we only have to reenable for backwarding the loss, and otherwise we're good?\n",
    "# TODO oh this might be because we're re-computing the elbo loss without backwarding in the functional forward now...\n",
    "for param in prior.parameters():\n",
    "    param.requires_grad_(True)"
   ],
   "metadata": {
    "collapsed": false,
    "ExecuteTime": {
     "end_time": "2024-08-16T22:17:51.539819Z",
     "start_time": "2024-08-16T22:17:51.504165Z"
    }
   },
   "id": "6fcaf3b59bf982af",
   "execution_count": 52
  },
  {
   "cell_type": "code",
   "outputs": [
    {
     "name": "stdout",
     "output_type": "stream",
     "text": [
      "forward tensor(-0.5820, grad_fn=<SubBackward0>)\n"
     ]
    }
   ],
   "source": [
    "# DEBUG try in eif mode.\n",
    "with functional_of_prior_estimator.in_eif_mode() as f:\n",
    "    print(\"forward\", f())"
   ],
   "metadata": {
    "collapsed": false,
    "ExecuteTime": {
     "end_time": "2024-08-16T22:17:57.603934Z",
     "start_time": "2024-08-16T22:17:51.506872Z"
    }
   },
   "id": "2d62a17679dd456b",
   "execution_count": 53
  },
  {
   "cell_type": "code",
   "outputs": [
    {
     "ename": "AttributeError",
     "evalue": "'FunctionalFactorAdded' object has no attribute 'named_parameters'",
     "output_type": "error",
     "traceback": [
      "\u001B[0;31m---------------------------------------------------------------------------\u001B[0m",
      "\u001B[0;31mAttributeError\u001B[0m                            Traceback (most recent call last)",
      "Cell \u001B[0;32mIn[54], line 4\u001B[0m\n\u001B[1;32m      1\u001B[0m \u001B[38;5;66;03m# DEBUG\u001B[39;00m\n\u001B[1;32m      2\u001B[0m \u001B[38;5;28;01mwith\u001B[39;00m functional_of_prior_estimator\u001B[38;5;241m.\u001B[39min_eif_mode():\n\u001B[1;32m      3\u001B[0m     \u001B[38;5;28mprint\u001B[39m(\u001B[38;5;28mdict\u001B[39m(\n\u001B[0;32m----> 4\u001B[0m         \u001B[43mfunctional_of_prior_estimator\u001B[49m\u001B[38;5;241;43m.\u001B[39;49m\u001B[43mden_comp\u001B[49m\u001B[38;5;241;43m.\u001B[39;49m\u001B[43mnamed_parameters\u001B[49m()\n\u001B[1;32m      5\u001B[0m     ))\n\u001B[1;32m      7\u001B[0m     \u001B[38;5;66;03m# functional_of_prior_estimator.den_comp()\u001B[39;00m\n\u001B[1;32m      8\u001B[0m     \u001B[38;5;66;03m# \u001B[39;00m\n\u001B[1;32m      9\u001B[0m     \u001B[38;5;28;01mwith\u001B[39;00m pyro\u001B[38;5;241m.\u001B[39mpoutine\u001B[38;5;241m.\u001B[39mtrace() \u001B[38;5;28;01mas\u001B[39;00m tr:\n",
      "\u001B[0;31mAttributeError\u001B[0m: 'FunctionalFactorAdded' object has no attribute 'named_parameters'"
     ]
    }
   ],
   "source": [
    "# # DEBUG\n",
    "# with functional_of_prior_estimator.in_eif_mode():\n",
    "#     print(dict(\n",
    "#         functional_of_prior_estimator.den_comp.named_parameters()\n",
    "#     ))\n",
    "#     \n",
    "#     # functional_of_prior_estimator.den_comp()\n",
    "#     # \n",
    "#     with pyro.poutine.trace() as tr:\n",
    "#         functional_of_prior_estimator.den_comp()\n",
    "#     tr.get_trace().log_prob_sum().backward(retain_graph=False)"
   ],
   "metadata": {
    "collapsed": false,
    "ExecuteTime": {
     "end_time": "2024-08-16T22:17:57.672986Z",
     "start_time": "2024-08-16T22:17:57.603521Z"
    }
   },
   "id": "d4512e3d279fddb1",
   "execution_count": 54
  },
  {
   "cell_type": "code",
   "outputs": [],
   "source": [
    "# # DEBUG\n",
    "# {k: v.grad for k, v in prior.named_parameters()}"
   ],
   "metadata": {
    "collapsed": false,
    "ExecuteTime": {
     "end_time": "2024-08-16T22:17:57.673661Z",
     "start_time": "2024-08-16T22:17:57.673010Z"
    }
   },
   "id": "8c76dfe11d431470",
   "execution_count": null
  },
  {
   "cell_type": "code",
   "outputs": [],
   "source": [
    "# # DEBUG\n",
    "# for p in prior.parameters():\n",
    "#     p.grad = None"
   ],
   "metadata": {
    "collapsed": false,
    "ExecuteTime": {
     "start_time": "2024-08-16T22:17:57.674111Z"
    }
   },
   "id": "94b58ba8827df9e3",
   "execution_count": null
  },
  {
   "cell_type": "code",
   "outputs": [],
   "source": [],
   "metadata": {
    "collapsed": false,
    "ExecuteTime": {
     "start_time": "2024-08-16T22:17:57.675312Z"
    }
   },
   "id": "affb79500777ba49",
   "execution_count": null
  },
  {
   "cell_type": "code",
   "outputs": [],
   "source": [
    "# # DEBUG make a functional call of the den_comp log prob, just to see if it happens there.\n",
    "# class FunctionalFactorLogProb(torch.nn.Module):\n",
    "#     def __init__(self, func_fac_add):\n",
    "#         super().__init__()\n",
    "#         self.func_fac_add = func_fac_add\n",
    "#     \n",
    "#     def forward(self):\n",
    "#         with pyro.poutine.trace() as tr:\n",
    "#             self.func_fac_add()\n",
    "#         return tr.get_trace().log_prob_sum()"
   ],
   "metadata": {
    "collapsed": false,
    "ExecuteTime": {
     "end_time": "2024-08-16T22:17:57.827843Z",
     "start_time": "2024-08-16T22:17:57.676481Z"
    }
   },
   "id": "be32f6af89afb9f3",
   "execution_count": null
  },
  {
   "cell_type": "code",
   "outputs": [],
   "source": [
    "# # DEBUG\n",
    "# from chirho.robust.internals.utils import make_functional_call\n",
    "# den_comp_params, den_comp_func = make_functional_call(FunctionalFactorLogProb(functional_of_prior_estimator.den_comp))"
   ],
   "metadata": {
    "collapsed": false,
    "ExecuteTime": {
     "start_time": "2024-08-16T22:17:57.677893Z"
    }
   },
   "id": "63fbadf2b1d306dd",
   "execution_count": null
  },
  {
   "cell_type": "code",
   "outputs": [],
   "source": [
    "# den_comp_params"
   ],
   "metadata": {
    "collapsed": false,
    "ExecuteTime": {
     "start_time": "2024-08-16T22:17:57.679094Z"
    }
   },
   "id": "5cc3fdc466a31c73",
   "execution_count": null
  },
  {
   "cell_type": "code",
   "outputs": [],
   "source": [
    "# # DEBUG CULPRIT — this one breaks! and does wrap the parameters in place.\n",
    "# # Note that this isn't even a jac...\n",
    "# den_comp_func(den_comp_params)"
   ],
   "metadata": {
    "collapsed": false,
    "ExecuteTime": {
     "start_time": "2024-08-16T22:17:57.680216Z"
    }
   },
   "id": "6369a320bdd76d54",
   "execution_count": null
  },
  {
   "cell_type": "code",
   "outputs": [],
   "source": [
    "# dict(prior.named_parameters())"
   ],
   "metadata": {
    "collapsed": false,
    "ExecuteTime": {
     "start_time": "2024-08-16T22:17:57.681417Z"
    }
   },
   "id": "e1da0ca9b4945017",
   "execution_count": null
  },
  {
   "cell_type": "code",
   "outputs": [],
   "source": [],
   "metadata": {
    "collapsed": false,
    "ExecuteTime": {
     "start_time": "2024-08-16T22:17:57.682559Z"
    }
   },
   "id": "d916a6caa727c4c3",
   "execution_count": null
  },
  {
   "cell_type": "code",
   "outputs": [
    {
     "data": {
      "text/plain": "{'loc': Parameter containing:\n tensor([0., 0.], requires_grad=True),\n 'scale_tril': Parameter containing:\n tensor([[2.2361, 0.0000],\n         [-0.0000, 2.2361]], requires_grad=True)}"
     },
     "execution_count": 55,
     "metadata": {},
     "output_type": "execute_result"
    }
   ],
   "source": [
    "dict(prior.named_parameters())"
   ],
   "metadata": {
    "collapsed": false,
    "ExecuteTime": {
     "end_time": "2024-08-16T22:18:29.186586Z",
     "start_time": "2024-08-16T22:18:29.147921Z"
    }
   },
   "id": "9b714298ce861ba7",
   "execution_count": 55
  },
  {
   "cell_type": "code",
   "outputs": [],
   "source": [
    "from chirho.robust.internals.utils import make_functional_call\n",
    "\n",
    "with functional_of_prior_estimator.in_eif_mode() as f:\n",
    "    prior_params, pure_functional_of_prior = make_functional_call(f)"
   ],
   "metadata": {
    "collapsed": false,
    "ExecuteTime": {
     "end_time": "2024-08-16T22:18:30.266131Z",
     "start_time": "2024-08-16T22:18:30.253734Z"
    }
   },
   "id": "d75b4e0ff0b25501",
   "execution_count": 56
  },
  {
   "cell_type": "code",
   "outputs": [
    {
     "data": {
      "text/plain": "{'loc': Parameter containing:\n tensor([0., 0.], requires_grad=True),\n 'scale_tril': Parameter containing:\n tensor([[2.2361, 0.0000],\n         [-0.0000, 2.2361]], requires_grad=True)}"
     },
     "execution_count": 57,
     "metadata": {},
     "output_type": "execute_result"
    }
   ],
   "source": [
    "dict(prior.named_parameters())"
   ],
   "metadata": {
    "collapsed": false,
    "ExecuteTime": {
     "end_time": "2024-08-16T22:18:33.498661Z",
     "start_time": "2024-08-16T22:18:33.482350Z"
    }
   },
   "id": "85e5c181d789ddd5",
   "execution_count": 57
  },
  {
   "cell_type": "code",
   "outputs": [
    {
     "data": {
      "text/plain": "{'prior.loc': Parameter containing:\n tensor([0., 0.], requires_grad=True),\n 'prior.scale_tril': Parameter containing:\n tensor([[2.2361, 0.0000],\n         [-0.0000, 2.2361]], requires_grad=True)}"
     },
     "execution_count": 58,
     "metadata": {},
     "output_type": "execute_result"
    }
   ],
   "source": [
    "prior_params"
   ],
   "metadata": {
    "collapsed": false,
    "ExecuteTime": {
     "end_time": "2024-08-16T22:18:35.606907Z",
     "start_time": "2024-08-16T22:18:35.588822Z"
    }
   },
   "id": "fd60dcd3120a357",
   "execution_count": 58
  },
  {
   "cell_type": "code",
   "outputs": [
    {
     "data": {
      "text/plain": "{'loc': True, 'scale_tril': True}"
     },
     "execution_count": 59,
     "metadata": {},
     "output_type": "execute_result"
    }
   ],
   "source": [
    "{k: v1 is v2 for (k, v1), v2 in zip(prior.named_parameters(), prior_params.values())}"
   ],
   "metadata": {
    "collapsed": false,
    "ExecuteTime": {
     "end_time": "2024-08-16T22:18:37.800713Z",
     "start_time": "2024-08-16T22:18:37.777319Z"
    }
   },
   "id": "cba13a6575075000",
   "execution_count": 59
  },
  {
   "cell_type": "code",
   "outputs": [],
   "source": [
    "# # FIXME backwarding the functional call results in the prior.parameters being wrapped in FunctionalTensors in place. Which of course breaks many things that expect them to be Parameters.\n",
    "# with functional_of_prior_estimator.in_eif_mode() as f:\n",
    "#     print(pure_functional_of_prior(prior_params).backward(retain_graph=True))"
   ],
   "metadata": {
    "collapsed": false,
    "ExecuteTime": {
     "start_time": "2024-08-16T22:17:57.690099Z"
    }
   },
   "id": "78572936ea627800",
   "execution_count": null
  },
  {
   "cell_type": "code",
   "outputs": [],
   "source": [
    "# # DEBUG\n",
    "# {k: v.grad for k, v in prior.named_parameters()}"
   ],
   "metadata": {
    "collapsed": false,
    "ExecuteTime": {
     "start_time": "2024-08-16T22:17:57.691137Z"
    }
   },
   "id": "e24db1e7d8faa935",
   "execution_count": null
  },
  {
   "cell_type": "code",
   "outputs": [],
   "source": [
    "# # DEBUG\n",
    "# {k: v.grad for k, v in prior_params.items()}"
   ],
   "metadata": {
    "collapsed": false,
    "ExecuteTime": {
     "start_time": "2024-08-16T22:17:57.692222Z"
    }
   },
   "id": "d2da72fa677237b",
   "execution_count": null
  },
  {
   "cell_type": "code",
   "outputs": [],
   "source": [],
   "metadata": {
    "collapsed": false,
    "ExecuteTime": {
     "start_time": "2024-08-16T22:17:57.693220Z"
    }
   },
   "id": "6b00f26a8bdc6b21",
   "execution_count": null
  },
  {
   "cell_type": "code",
   "outputs": [],
   "source": [],
   "metadata": {
    "collapsed": false,
    "ExecuteTime": {
     "start_time": "2024-08-16T22:17:57.694068Z"
    }
   },
   "id": "6ad8b693fe2fb76b",
   "execution_count": null
  },
  {
   "cell_type": "code",
   "outputs": [],
   "source": [
    "# dict(prior.named_parameters())"
   ],
   "metadata": {
    "collapsed": false,
    "ExecuteTime": {
     "start_time": "2024-08-16T22:17:57.694816Z"
    }
   },
   "id": "a6e67a902d12a84e",
   "execution_count": null
  },
  {
   "cell_type": "code",
   "outputs": [],
   "source": [
    "# prior_params"
   ],
   "metadata": {
    "collapsed": false,
    "ExecuteTime": {
     "start_time": "2024-08-16T22:17:57.695525Z"
    }
   },
   "id": "fac404c55d523ee2",
   "execution_count": null
  },
  {
   "cell_type": "code",
   "outputs": [],
   "source": [
    "# {k: v1 is v2 for (k, v1), v2 in zip(prior.named_parameters(), prior_params.values())}"
   ],
   "metadata": {
    "collapsed": false,
    "ExecuteTime": {
     "start_time": "2024-08-16T22:17:57.696618Z"
    }
   },
   "id": "3cc7a99092cfa852",
   "execution_count": null
  },
  {
   "cell_type": "code",
   "outputs": [],
   "source": [],
   "metadata": {
    "collapsed": false,
    "ExecuteTime": {
     "start_time": "2024-08-16T22:17:57.697363Z"
    }
   },
   "id": "a8f9c3d458c0957d",
   "execution_count": null
  },
  {
   "cell_type": "code",
   "outputs": [],
   "source": [],
   "metadata": {
    "collapsed": false,
    "ExecuteTime": {
     "start_time": "2024-08-16T22:17:57.698067Z"
    }
   },
   "id": "f40f1e7274930eca",
   "execution_count": null
  },
  {
   "cell_type": "code",
   "outputs": [],
   "source": [
    "with functional_of_prior_estimator.in_eif_mode():\n",
    "    pure_functional_of_prior_jac_fn = torch.func.jacrev(pure_functional_of_prior)"
   ],
   "metadata": {
    "collapsed": false,
    "ExecuteTime": {
     "end_time": "2024-08-16T22:18:41.078932Z",
     "start_time": "2024-08-16T22:18:41.060786Z"
    }
   },
   "id": "a9031385908b9239",
   "execution_count": 60
  },
  {
   "cell_type": "code",
   "outputs": [],
   "source": [],
   "metadata": {
    "collapsed": false,
    "ExecuteTime": {
     "start_time": "2024-08-16T22:17:57.699526Z"
    }
   },
   "id": "d96b5f62c0aeebad",
   "execution_count": null
  },
  {
   "cell_type": "code",
   "outputs": [
    {
     "data": {
      "text/plain": "{'loc': Parameter containing:\n tensor([0., 0.], requires_grad=True),\n 'scale_tril': Parameter containing:\n tensor([[2.2361, 0.0000],\n         [-0.0000, 2.2361]], requires_grad=True)}"
     },
     "execution_count": 61,
     "metadata": {},
     "output_type": "execute_result"
    }
   ],
   "source": [
    "dict(prior.named_parameters())"
   ],
   "metadata": {
    "collapsed": false,
    "ExecuteTime": {
     "end_time": "2024-08-16T22:18:42.066894Z",
     "start_time": "2024-08-16T22:18:42.052120Z"
    }
   },
   "id": "25e6e8ac76b3d914",
   "execution_count": 61
  },
  {
   "cell_type": "code",
   "outputs": [
    {
     "data": {
      "text/plain": "{'prior.loc': Parameter containing:\n tensor([0., 0.], requires_grad=True),\n 'prior.scale_tril': Parameter containing:\n tensor([[2.2361, 0.0000],\n         [-0.0000, 2.2361]], requires_grad=True)}"
     },
     "execution_count": 62,
     "metadata": {},
     "output_type": "execute_result"
    }
   ],
   "source": [
    "prior_params"
   ],
   "metadata": {
    "collapsed": false,
    "ExecuteTime": {
     "end_time": "2024-08-16T22:18:42.950285Z",
     "start_time": "2024-08-16T22:18:42.932377Z"
    }
   },
   "id": "567514a5cdd33983",
   "execution_count": 62
  },
  {
   "cell_type": "code",
   "outputs": [
    {
     "data": {
      "text/plain": "{'loc': True, 'scale_tril': True}"
     },
     "execution_count": 63,
     "metadata": {},
     "output_type": "execute_result"
    }
   ],
   "source": [
    "{k: v1 is v2 for (k, v1), v2 in zip(prior.named_parameters(), prior_params.values())}"
   ],
   "metadata": {
    "collapsed": false,
    "ExecuteTime": {
     "end_time": "2024-08-16T22:18:45.352167Z",
     "start_time": "2024-08-16T22:18:45.333372Z"
    }
   },
   "id": "d61b04f91e558a9e",
   "execution_count": 63
  },
  {
   "cell_type": "code",
   "outputs": [],
   "source": [],
   "metadata": {
    "collapsed": false,
    "ExecuteTime": {
     "start_time": "2024-08-16T22:17:57.702358Z"
    }
   },
   "id": "1096c9d5befd091a",
   "execution_count": null
  },
  {
   "cell_type": "code",
   "outputs": [
    {
     "name": "stdout",
     "output_type": "stream",
     "text": [
      "WARNING: setting non parameter for argument loc\n",
      "OLD VALUE: Parameter containing:\n",
      "tensor([0., 0.], requires_grad=True)\n",
      "NEW VALUE: FunctionalTensor(lvl=2, value=\\\n",
      "GradTrackingTensor(lvl=1, value=\n",
      "    Parameter containing:\n",
      "    tensor([0., 0.], requires_grad=True)\n",
      "))\n",
      "WARNING: setting non parameter for argument scale_tril\n",
      "OLD VALUE: Parameter containing:\n",
      "tensor([[2.2361, 0.0000],\n",
      "        [-0.0000, 2.2361]], requires_grad=True)\n",
      "NEW VALUE: FunctionalTensor(lvl=2, value=\\\n",
      "GradTrackingTensor(lvl=1, value=\n",
      "    Parameter containing:\n",
      "    tensor([[2.2361, 0.0000],\n",
      "            [-0.0000, 2.2361]], requires_grad=True)\n",
      "))\n",
      "Setting parameter for argument loc\n",
      "Setting parameter for argument scale_tril\n",
      "{'prior.loc': tensor([ 0.2172, -0.2218], grad_fn=<ViewBackward0>), 'prior.scale_tril': tensor([[-0.1002, -0.0843],\n",
      "        [-0.0843,  0.2769]], grad_fn=<ViewBackward0>)}\n"
     ]
    }
   ],
   "source": [
    "# DEBUG CULPRIT — this one breaks! and does wrap the parameters in place.\n",
    "# NOTES:\n",
    "# So unlike the others, this is actually resetting the prior params a bunch of times to the functionaltensor (gradchecking tensor) wrapped thing, and then at the end it doesn't restore them to the original unwrapped parameter versions.\n",
    "# The others set the wrappers a single time, and then restore at the end.\n",
    "# This resets them 17 times each for some reason?\n",
    "with functional_of_prior_estimator.in_eif_mode():\n",
    "    print(pure_functional_of_prior_jac_fn(prior_params))"
   ],
   "metadata": {
    "collapsed": false,
    "ExecuteTime": {
     "end_time": "2024-08-16T22:18:59.879566Z",
     "start_time": "2024-08-16T22:18:50.507493Z"
    }
   },
   "id": "c06e051d89719a8",
   "execution_count": 64
  },
  {
   "cell_type": "code",
   "outputs": [
    {
     "name": "stdout",
     "output_type": "stream",
     "text": [
      "2\n"
     ]
    }
   ],
   "source": [
    "with functional_of_prior_estimator.in_eif_mode() as f:\n",
    "    print(len([p for p in f.parameters() if p.requires_grad]))"
   ],
   "metadata": {
    "collapsed": false,
    "ExecuteTime": {
     "end_time": "2024-08-16T22:19:07.010763Z",
     "start_time": "2024-08-16T22:19:06.993009Z"
    }
   },
   "id": "89ce98b32644cb49",
   "execution_count": 65
  },
  {
   "cell_type": "code",
   "outputs": [],
   "source": [
    "\n",
    "# Cont 27fuh186ydfj0: But here, after making a functional call of the forward, we DO end up with our module's parameters wrapped in place by FunctionalTensors...and also converted to GradCheckingTensors??"
   ],
   "metadata": {
    "collapsed": false
   },
   "id": "3d7784fde752b24f",
   "execution_count": null
  },
  {
   "cell_type": "code",
   "outputs": [
    {
     "data": {
      "text/plain": "{'loc': Parameter containing:\n tensor([0., 0.], requires_grad=True),\n 'scale_tril': Parameter containing:\n tensor([[2.2361, 0.0000],\n         [-0.0000, 2.2361]], requires_grad=True)}"
     },
     "execution_count": 66,
     "metadata": {},
     "output_type": "execute_result"
    }
   ],
   "source": [
    "dict(prior.named_parameters())"
   ],
   "metadata": {
    "collapsed": false,
    "ExecuteTime": {
     "end_time": "2024-08-16T22:19:10.878053Z",
     "start_time": "2024-08-16T22:19:10.858291Z"
    }
   },
   "id": "33947f79048b2629",
   "execution_count": 66
  },
  {
   "cell_type": "code",
   "outputs": [
    {
     "data": {
      "text/plain": "Parameter containing:\ntensor([0., 0.], requires_grad=True)"
     },
     "execution_count": 67,
     "metadata": {},
     "output_type": "execute_result"
    }
   ],
   "source": [
    "prior.loc"
   ],
   "metadata": {
    "collapsed": false,
    "ExecuteTime": {
     "end_time": "2024-08-16T22:19:11.673052Z",
     "start_time": "2024-08-16T22:19:11.656362Z"
    }
   },
   "id": "224b6552b284412f",
   "execution_count": 67
  },
  {
   "cell_type": "code",
   "outputs": [
    {
     "data": {
      "text/plain": "Parameter containing:\ntensor([[2.2361, 0.0000],\n        [-0.0000, 2.2361]], requires_grad=True)"
     },
     "execution_count": 68,
     "metadata": {},
     "output_type": "execute_result"
    }
   ],
   "source": [
    "prior.scale_tril"
   ],
   "metadata": {
    "collapsed": false,
    "ExecuteTime": {
     "end_time": "2024-08-16T22:19:12.328621Z",
     "start_time": "2024-08-16T22:19:12.310376Z"
    }
   },
   "id": "f9045ecf3225e547",
   "execution_count": 68
  },
  {
   "cell_type": "code",
   "outputs": [
    {
     "data": {
      "text/plain": "{'prior.loc': Parameter containing:\n tensor([0., 0.], requires_grad=True),\n 'prior.scale_tril': Parameter containing:\n tensor([[2.2361, 0.0000],\n         [-0.0000, 2.2361]], requires_grad=True)}"
     },
     "execution_count": 69,
     "metadata": {},
     "output_type": "execute_result"
    }
   ],
   "source": [
    "prior_params"
   ],
   "metadata": {
    "collapsed": false,
    "ExecuteTime": {
     "end_time": "2024-08-16T22:19:13.011641Z",
     "start_time": "2024-08-16T22:19:12.990327Z"
    }
   },
   "id": "e2c673d918017172",
   "execution_count": 69
  },
  {
   "cell_type": "code",
   "outputs": [
    {
     "data": {
      "text/plain": "{'loc': True, 'scale_tril': True}"
     },
     "execution_count": 70,
     "metadata": {},
     "output_type": "execute_result"
    }
   ],
   "source": [
    "{k: v1 is v2 for (k, v1), v2 in zip(prior.named_parameters(), prior_params.values())}"
   ],
   "metadata": {
    "collapsed": false,
    "ExecuteTime": {
     "end_time": "2024-08-16T22:19:13.636829Z",
     "start_time": "2024-08-16T22:19:13.618737Z"
    }
   },
   "id": "b3fb269afff9ccae",
   "execution_count": 70
  },
  {
   "cell_type": "code",
   "outputs": [],
   "source": [],
   "metadata": {
    "collapsed": false
   },
   "id": "c6400807a34dd0c",
   "execution_count": null
  },
  {
   "cell_type": "code",
   "outputs": [],
   "source": [
    "from chirho.robust.internals.full_linearize_from_left import ExactLogProb\n",
    "from chirho.robust.internals.utils import make_functional_call\n",
    "exact_prior_log_prob = ExactLogProb(prior)\n",
    "log_prob_params, func_log_prob = make_functional_call(exact_prior_log_prob, ignore_params_not_requiring_grad=True)"
   ],
   "metadata": {
    "collapsed": false,
    "ExecuteTime": {
     "end_time": "2024-08-16T22:19:17.182198Z",
     "start_time": "2024-08-16T22:19:17.163961Z"
    }
   },
   "id": "e14cfdc8d370ebbc",
   "execution_count": 71
  },
  {
   "cell_type": "code",
   "outputs": [
    {
     "data": {
      "text/plain": "{'model.loc': Parameter containing:\n tensor([0., 0.], requires_grad=True),\n 'model.scale_tril': Parameter containing:\n tensor([[2.2361, 0.0000],\n         [-0.0000, 2.2361]], requires_grad=True)}"
     },
     "execution_count": 72,
     "metadata": {},
     "output_type": "execute_result"
    }
   ],
   "source": [
    "# Cont 27fuh186ydfj0: which then results in requires_grad being false for these \"parameters\" cz the wrappers don't actually require grad themselves...\n",
    "log_prob_params"
   ],
   "metadata": {
    "collapsed": false,
    "ExecuteTime": {
     "end_time": "2024-08-16T22:19:18.069896Z",
     "start_time": "2024-08-16T22:19:18.051843Z"
    }
   },
   "id": "ced7ccb11d579d55",
   "execution_count": 72
  },
  {
   "cell_type": "code",
   "outputs": [
    {
     "data": {
      "text/plain": "{'loc': True, 'scale_tril': True}"
     },
     "execution_count": 73,
     "metadata": {},
     "output_type": "execute_result"
    }
   ],
   "source": [
    "{k: v1 is v2 for (k, v1), v2 in zip(prior.named_parameters(), log_prob_params.values())}"
   ],
   "metadata": {
    "collapsed": false,
    "ExecuteTime": {
     "end_time": "2024-08-16T22:19:18.834836Z",
     "start_time": "2024-08-16T22:19:18.817702Z"
    }
   },
   "id": "a1ea341bcea6ccda",
   "execution_count": 73
  },
  {
   "cell_type": "code",
   "outputs": [
    {
     "data": {
      "text/plain": "{'loc': Parameter containing:\n tensor([0., 0.], requires_grad=True),\n 'scale_tril': Parameter containing:\n tensor([[2.2361, 0.0000],\n         [-0.0000, 2.2361]], requires_grad=True)}"
     },
     "execution_count": 74,
     "metadata": {},
     "output_type": "execute_result"
    }
   ],
   "source": [
    "dict(prior.named_parameters())"
   ],
   "metadata": {
    "collapsed": false,
    "ExecuteTime": {
     "end_time": "2024-08-16T22:19:19.459411Z",
     "start_time": "2024-08-16T22:19:19.441212Z"
    }
   },
   "id": "da6bb1b8c117ac2e",
   "execution_count": 74
  },
  {
   "cell_type": "code",
   "outputs": [],
   "source": [
    "log_prob_jac_fn = torch.func.jacrev(func_log_prob)"
   ],
   "metadata": {
    "collapsed": false,
    "ExecuteTime": {
     "end_time": "2024-08-16T22:19:19.958773Z",
     "start_time": "2024-08-16T22:19:19.942196Z"
    }
   },
   "id": "a8569f3824cfc1f8",
   "execution_count": 75
  },
  {
   "cell_type": "code",
   "outputs": [
    {
     "name": "stdout",
     "output_type": "stream",
     "text": [
      "WARNING: setting non parameter for argument loc\n",
      "OLD VALUE: Parameter containing:\n",
      "tensor([0., 0.], requires_grad=True)\n",
      "NEW VALUE: FunctionalTensor(lvl=2, value=\\\n",
      "GradTrackingTensor(lvl=1, value=\n",
      "    Parameter containing:\n",
      "    tensor([0., 0.], requires_grad=True)\n",
      "))\n",
      "WARNING: setting non parameter for argument scale_tril\n",
      "OLD VALUE: Parameter containing:\n",
      "tensor([[2.2361, 0.0000],\n",
      "        [-0.0000, 2.2361]], requires_grad=True)\n",
      "NEW VALUE: FunctionalTensor(lvl=2, value=\\\n",
      "GradTrackingTensor(lvl=1, value=\n",
      "    Parameter containing:\n",
      "    tensor([[2.2361, 0.0000],\n",
      "            [-0.0000, 2.2361]], requires_grad=True)\n",
      "))\n",
      "Setting parameter for argument loc\n",
      "Setting parameter for argument scale_tril\n"
     ]
    },
    {
     "data": {
      "text/plain": "{'model.loc': tensor([[-1.2000, -1.2000],\n         [-1.2000, -1.1920],\n         [-1.2000, -1.1839],\n         [-1.2000, -1.1759],\n         [-1.2000, -1.1679],\n         [-1.2000, -1.1599],\n         [-1.2000, -1.1518],\n         [-1.2000, -1.1438],\n         [-1.2000, -1.1358],\n         [-1.2000, -1.1278],\n         [-1.2000, -1.1197],\n         [-1.2000, -1.1117],\n         [-1.2000, -1.1037],\n         [-1.2000, -1.0957],\n         [-1.2000, -1.0876],\n         [-1.2000, -1.0796],\n         [-1.2000, -1.0716],\n         [-1.2000, -1.0635],\n         [-1.2000, -1.0555],\n         [-1.2000, -1.0475],\n         [-1.2000, -1.0395],\n         [-1.2000, -1.0314],\n         [-1.2000, -1.0234],\n         [-1.2000, -1.0154],\n         [-1.2000, -1.0074],\n         [-1.2000, -0.9993],\n         [-1.2000, -0.9913],\n         [-1.2000, -0.9833],\n         [-1.2000, -0.9753],\n         [-1.2000, -0.9672],\n         [-1.2000, -0.9592],\n         [-1.2000, -0.9512],\n         [-1.2000, -0.9431],\n         [-1.2000, -0.9351],\n         [-1.2000, -0.9271],\n         [-1.2000, -0.9191],\n         [-1.2000, -0.9110],\n         [-1.2000, -0.9030],\n         [-1.2000, -0.8950],\n         [-1.2000, -0.8870],\n         [-1.2000, -0.8789],\n         [-1.2000, -0.8709],\n         [-1.2000, -0.8629],\n         [-1.2000, -0.8548],\n         [-1.2000, -0.8468],\n         [-1.2000, -0.8388],\n         [-1.2000, -0.8308],\n         [-1.2000, -0.8227],\n         [-1.2000, -0.8147],\n         [-1.2000, -0.8067],\n         [-1.2000, -0.7987],\n         [-1.2000, -0.7906],\n         [-1.2000, -0.7826],\n         [-1.2000, -0.7746],\n         [-1.2000, -0.7666],\n         [-1.2000, -0.7585],\n         [-1.2000, -0.7505],\n         [-1.2000, -0.7425],\n         [-1.2000, -0.7344],\n         [-1.2000, -0.7264],\n         [-1.2000, -0.7184],\n         [-1.2000, -0.7104],\n         [-1.2000, -0.7023],\n         [-1.2000, -0.6943],\n         [-1.2000, -0.6863],\n         [-1.2000, -0.6783],\n         [-1.2000, -0.6702],\n         [-1.2000, -0.6622],\n         [-1.2000, -0.6542],\n         [-1.2000, -0.6462],\n         [-1.2000, -0.6381],\n         [-1.2000, -0.6301],\n         [-1.2000, -0.6221],\n         [-1.2000, -0.6140],\n         [-1.2000, -0.6060],\n         [-1.2000, -0.5980],\n         [-1.2000, -0.5900],\n         [-1.2000, -0.5819],\n         [-1.2000, -0.5739],\n         [-1.2000, -0.5659],\n         [-1.2000, -0.5579],\n         [-1.2000, -0.5498],\n         [-1.2000, -0.5418],\n         [-1.2000, -0.5338],\n         [-1.2000, -0.5258],\n         [-1.2000, -0.5177],\n         [-1.2000, -0.5097],\n         [-1.2000, -0.5017],\n         [-1.2000, -0.4936],\n         [-1.2000, -0.4856],\n         [-1.2000, -0.4776],\n         [-1.2000, -0.4696],\n         [-1.2000, -0.4615],\n         [-1.2000, -0.4535],\n         [-1.2000, -0.4455],\n         [-1.2000, -0.4375],\n         [-1.2000, -0.4294],\n         [-1.2000, -0.4214],\n         [-1.2000, -0.4134],\n         [-1.2000, -0.4054]], grad_fn=<ViewBackward0>),\n 'model.scale_tril': tensor([[[ 2.7727,  3.2199],\n          [ 3.2199,  2.7727]],\n \n         [[ 2.7727,  3.1984],\n          [ 3.1984,  2.7298]],\n \n         [[ 2.7727,  3.1769],\n          [ 3.1769,  2.6871]],\n \n         [[ 2.7727,  3.1553],\n          [ 3.1553,  2.6448]],\n \n         [[ 2.7727,  3.1338],\n          [ 3.1338,  2.6027]],\n \n         [[ 2.7727,  3.1122],\n          [ 3.1122,  2.5609]],\n \n         [[ 2.7727,  3.0907],\n          [ 3.0907,  2.5195]],\n \n         [[ 2.7727,  3.0692],\n          [ 3.0692,  2.4783]],\n \n         [[ 2.7727,  3.0476],\n          [ 3.0476,  2.4373]],\n \n         [[ 2.7727,  3.0261],\n          [ 3.0261,  2.3967]],\n \n         [[ 2.7727,  3.0046],\n          [ 3.0046,  2.3564]],\n \n         [[ 2.7727,  2.9830],\n          [ 2.9830,  2.3163]],\n \n         [[ 2.7727,  2.9615],\n          [ 2.9615,  2.2766]],\n \n         [[ 2.7727,  2.9399],\n          [ 2.9399,  2.2371]],\n \n         [[ 2.7727,  2.9184],\n          [ 2.9184,  2.1979]],\n \n         [[ 2.7727,  2.8969],\n          [ 2.8969,  2.1590]],\n \n         [[ 2.7727,  2.8753],\n          [ 2.8753,  2.1204]],\n \n         [[ 2.7727,  2.8538],\n          [ 2.8538,  2.0821]],\n \n         [[ 2.7727,  2.8323],\n          [ 2.8323,  2.0440]],\n \n         [[ 2.7727,  2.8107],\n          [ 2.8107,  2.0063]],\n \n         [[ 2.7727,  2.7892],\n          [ 2.7892,  1.9688]],\n \n         [[ 2.7727,  2.7676],\n          [ 2.7676,  1.9317]],\n \n         [[ 2.7727,  2.7461],\n          [ 2.7461,  1.8948]],\n \n         [[ 2.7727,  2.7246],\n          [ 2.7246,  1.8582]],\n \n         [[ 2.7727,  2.7030],\n          [ 2.7030,  1.8219]],\n \n         [[ 2.7727,  2.6815],\n          [ 2.6815,  1.7859]],\n \n         [[ 2.7727,  2.6599],\n          [ 2.6599,  1.7501]],\n \n         [[ 2.7727,  2.6384],\n          [ 2.6384,  1.7147]],\n \n         [[ 2.7727,  2.6169],\n          [ 2.6169,  1.6795]],\n \n         [[ 2.7727,  2.5953],\n          [ 2.5953,  1.6447]],\n \n         [[ 2.7727,  2.5738],\n          [ 2.5738,  1.6101]],\n \n         [[ 2.7727,  2.5523],\n          [ 2.5523,  1.5758]],\n \n         [[ 2.7727,  2.5307],\n          [ 2.5307,  1.5418]],\n \n         [[ 2.7727,  2.5092],\n          [ 2.5092,  1.5081]],\n \n         [[ 2.7727,  2.4876],\n          [ 2.4876,  1.4747]],\n \n         [[ 2.7727,  2.4661],\n          [ 2.4661,  1.4415]],\n \n         [[ 2.7727,  2.4446],\n          [ 2.4446,  1.4087]],\n \n         [[ 2.7727,  2.4230],\n          [ 2.4230,  1.3761]],\n \n         [[ 2.7727,  2.4015],\n          [ 2.4015,  1.3439]],\n \n         [[ 2.7727,  2.3800],\n          [ 2.3800,  1.3119]],\n \n         [[ 2.7727,  2.3584],\n          [ 2.3584,  1.2802]],\n \n         [[ 2.7727,  2.3369],\n          [ 2.3369,  1.2488]],\n \n         [[ 2.7727,  2.3153],\n          [ 2.3153,  1.2177]],\n \n         [[ 2.7727,  2.2938],\n          [ 2.2938,  1.1868]],\n \n         [[ 2.7727,  2.2723],\n          [ 2.2723,  1.1563]],\n \n         [[ 2.7727,  2.2507],\n          [ 2.2507,  1.1260]],\n \n         [[ 2.7727,  2.2292],\n          [ 2.2292,  1.0961]],\n \n         [[ 2.7727,  2.2076],\n          [ 2.2076,  1.0664]],\n \n         [[ 2.7727,  2.1861],\n          [ 2.1861,  1.0370]],\n \n         [[ 2.7727,  2.1646],\n          [ 2.1646,  1.0079]],\n \n         [[ 2.7727,  2.1430],\n          [ 2.1430,  0.9791]],\n \n         [[ 2.7727,  2.1215],\n          [ 2.1215,  0.9506]],\n \n         [[ 2.7727,  2.1000],\n          [ 2.1000,  0.9223]],\n \n         [[ 2.7727,  2.0784],\n          [ 2.0784,  0.8944]],\n \n         [[ 2.7727,  2.0569],\n          [ 2.0569,  0.8667]],\n \n         [[ 2.7727,  2.0353],\n          [ 2.0353,  0.8393]],\n \n         [[ 2.7727,  2.0138],\n          [ 2.0138,  0.8123]],\n \n         [[ 2.7727,  1.9923],\n          [ 1.9923,  0.7855]],\n \n         [[ 2.7727,  1.9707],\n          [ 1.9707,  0.7590]],\n \n         [[ 2.7727,  1.9492],\n          [ 1.9492,  0.7327]],\n \n         [[ 2.7727,  1.9277],\n          [ 1.9277,  0.7068]],\n \n         [[ 2.7727,  1.9061],\n          [ 1.9061,  0.6812]],\n \n         [[ 2.7727,  1.8846],\n          [ 1.8846,  0.6558]],\n \n         [[ 2.7727,  1.8630],\n          [ 1.8630,  0.6307]],\n \n         [[ 2.7727,  1.8415],\n          [ 1.8415,  0.6060]],\n \n         [[ 2.7727,  1.8200],\n          [ 1.8200,  0.5815]],\n \n         [[ 2.7727,  1.7984],\n          [ 1.7984,  0.5573]],\n \n         [[ 2.7727,  1.7769],\n          [ 1.7769,  0.5333]],\n \n         [[ 2.7727,  1.7554],\n          [ 1.7554,  0.5097]],\n \n         [[ 2.7727,  1.7338],\n          [ 1.7338,  0.4864]],\n \n         [[ 2.7727,  1.7123],\n          [ 1.7123,  0.4633]],\n \n         [[ 2.7727,  1.6907],\n          [ 1.6907,  0.4406]],\n \n         [[ 2.7727,  1.6692],\n          [ 1.6692,  0.4181]],\n \n         [[ 2.7727,  1.6477],\n          [ 1.6477,  0.3959]],\n \n         [[ 2.7727,  1.6261],\n          [ 1.6261,  0.3740]],\n \n         [[ 2.7727,  1.6046],\n          [ 1.6046,  0.3524]],\n \n         [[ 2.7727,  1.5830],\n          [ 1.5830,  0.3311]],\n \n         [[ 2.7727,  1.5615],\n          [ 1.5615,  0.3100]],\n \n         [[ 2.7727,  1.5400],\n          [ 1.5400,  0.2893]],\n \n         [[ 2.7727,  1.5184],\n          [ 1.5184,  0.2688]],\n \n         [[ 2.7727,  1.4969],\n          [ 1.4969,  0.2487]],\n \n         [[ 2.7727,  1.4754],\n          [ 1.4754,  0.2288]],\n \n         [[ 2.7727,  1.4538],\n          [ 1.4538,  0.2092]],\n \n         [[ 2.7727,  1.4323],\n          [ 1.4323,  0.1899]],\n \n         [[ 2.7727,  1.4107],\n          [ 1.4107,  0.1709]],\n \n         [[ 2.7727,  1.3892],\n          [ 1.3892,  0.1521]],\n \n         [[ 2.7727,  1.3677],\n          [ 1.3677,  0.1337]],\n \n         [[ 2.7727,  1.3461],\n          [ 1.3461,  0.1155]],\n \n         [[ 2.7727,  1.3246],\n          [ 1.3246,  0.0977]],\n \n         [[ 2.7727,  1.3031],\n          [ 1.3031,  0.0801]],\n \n         [[ 2.7727,  1.2815],\n          [ 1.2815,  0.0628]],\n \n         [[ 2.7727,  1.2600],\n          [ 1.2600,  0.0458]],\n \n         [[ 2.7727,  1.2384],\n          [ 1.2384,  0.0291]],\n \n         [[ 2.7727,  1.2169],\n          [ 1.2169,  0.0127]],\n \n         [[ 2.7727,  1.1954],\n          [ 1.1954, -0.0035]],\n \n         [[ 2.7727,  1.1738],\n          [ 1.1738, -0.0193]],\n \n         [[ 2.7727,  1.1523],\n          [ 1.1523, -0.0349]],\n \n         [[ 2.7727,  1.1307],\n          [ 1.1307, -0.0501]],\n \n         [[ 2.7727,  1.1092],\n          [ 1.1092, -0.0651]],\n \n         [[ 2.7727,  1.0877],\n          [ 1.0877, -0.0798]]], grad_fn=<ViewBackward0>)}"
     },
     "execution_count": 76,
     "metadata": {},
     "output_type": "execute_result"
    }
   ],
   "source": [
    "# DEBUG CULPRIT — this one is also fine, it doesn't wrap the parameters in place!\n",
    "log_prob_jac_fn(log_prob_params, {k: v[:100] for k, v in points.items()})"
   ],
   "metadata": {
    "collapsed": false,
    "ExecuteTime": {
     "end_time": "2024-08-16T22:19:20.613543Z",
     "start_time": "2024-08-16T22:19:20.593576Z"
    }
   },
   "id": "47ad2abdc734e604",
   "execution_count": 76
  },
  {
   "cell_type": "code",
   "outputs": [],
   "source": [],
   "metadata": {
    "collapsed": false
   },
   "id": "d935ab4a32390aa8",
   "execution_count": null
  },
  {
   "cell_type": "code",
   "outputs": [],
   "source": [],
   "metadata": {
    "collapsed": false
   },
   "id": "9fedeeb1904f83dd",
   "execution_count": null
  },
  {
   "cell_type": "code",
   "outputs": [
    {
     "data": {
      "text/plain": "{'model.loc': Parameter containing:\n tensor([0., 0.], requires_grad=True),\n 'model.scale_tril': Parameter containing:\n tensor([[2.2361, 0.0000],\n         [-0.0000, 2.2361]], requires_grad=True)}"
     },
     "execution_count": 77,
     "metadata": {},
     "output_type": "execute_result"
    }
   ],
   "source": [
    "# Cont 27fuh186ydfj0: which then results in requires_grad being false for these \"parameters\" cz the wrappers don't actually require grad themselves...\n",
    "log_prob_params"
   ],
   "metadata": {
    "collapsed": false,
    "ExecuteTime": {
     "end_time": "2024-08-16T22:19:27.123061Z",
     "start_time": "2024-08-16T22:19:27.101783Z"
    }
   },
   "id": "bf2a43de6f358b9",
   "execution_count": 77
  },
  {
   "cell_type": "code",
   "outputs": [
    {
     "data": {
      "text/plain": "{'loc': True, 'scale_tril': True}"
     },
     "execution_count": 78,
     "metadata": {},
     "output_type": "execute_result"
    }
   ],
   "source": [
    "{k: v1 is v2 for (k, v1), v2 in zip(prior.named_parameters(), log_prob_params.values())}"
   ],
   "metadata": {
    "collapsed": false,
    "ExecuteTime": {
     "end_time": "2024-08-16T22:19:27.880989Z",
     "start_time": "2024-08-16T22:19:27.856053Z"
    }
   },
   "id": "aa66168ef9d75d65",
   "execution_count": 78
  },
  {
   "cell_type": "code",
   "outputs": [
    {
     "data": {
      "text/plain": "{'loc': Parameter containing:\n tensor([0., 0.], requires_grad=True),\n 'scale_tril': Parameter containing:\n tensor([[2.2361, 0.0000],\n         [-0.0000, 2.2361]], requires_grad=True)}"
     },
     "execution_count": 79,
     "metadata": {},
     "output_type": "execute_result"
    }
   ],
   "source": [
    "dict(prior.named_parameters())"
   ],
   "metadata": {
    "collapsed": false,
    "ExecuteTime": {
     "end_time": "2024-08-16T22:19:28.458633Z",
     "start_time": "2024-08-16T22:19:28.435240Z"
    }
   },
   "id": "4bc52eaf1a4af16c",
   "execution_count": 79
  },
  {
   "cell_type": "code",
   "outputs": [],
   "source": [],
   "metadata": {
    "collapsed": false
   },
   "id": "e4c1776d02a68612"
  },
  {
   "cell_type": "code",
   "outputs": [],
   "source": [
    "test_prior_params, test_prior_func = make_functional_call(prior)"
   ],
   "metadata": {
    "collapsed": false,
    "ExecuteTime": {
     "end_time": "2024-08-16T22:19:29.588261Z",
     "start_time": "2024-08-16T22:19:29.572658Z"
    }
   },
   "id": "a105d57caaa11272",
   "execution_count": 80
  },
  {
   "cell_type": "code",
   "outputs": [
    {
     "name": "stdout",
     "output_type": "stream",
     "text": [
      "WARNING: setting non parameter for argument loc\n",
      "OLD VALUE: Parameter containing:\n",
      "tensor([0., 0.], requires_grad=True)\n",
      "NEW VALUE: FunctionalTensor(lvl=1, value=\\\n",
      "Parameter containing:\n",
      "tensor([0., 0.], requires_grad=True))\n",
      "WARNING: setting non parameter for argument scale_tril\n",
      "OLD VALUE: Parameter containing:\n",
      "tensor([[2.2361, 0.0000],\n",
      "        [-0.0000, 2.2361]], requires_grad=True)\n",
      "NEW VALUE: FunctionalTensor(lvl=1, value=\\\n",
      "Parameter containing:\n",
      "tensor([[2.2361, 0.0000],\n",
      "        [-0.0000, 2.2361]], requires_grad=True))\n",
      "Setting parameter for argument loc\n",
      "Setting parameter for argument scale_tril\n"
     ]
    },
    {
     "data": {
      "text/plain": "(tensor(1.8422, grad_fn=<AddBackward0>),\n tensor(2.7095, grad_fn=<AddBackward0>))"
     },
     "execution_count": 81,
     "metadata": {},
     "output_type": "execute_result"
    }
   ],
   "source": [
    "test_prior_func(test_prior_params)"
   ],
   "metadata": {
    "collapsed": false,
    "ExecuteTime": {
     "end_time": "2024-08-16T22:19:30.091879Z",
     "start_time": "2024-08-16T22:19:30.073744Z"
    }
   },
   "id": "62f4715c27ef5bd2",
   "execution_count": 81
  },
  {
   "cell_type": "code",
   "outputs": [],
   "source": [
    "test_prior_jac_fn = torch.func.jacrev(test_prior_func)"
   ],
   "metadata": {
    "collapsed": false,
    "ExecuteTime": {
     "end_time": "2024-08-16T22:19:30.591924Z",
     "start_time": "2024-08-16T22:19:30.579897Z"
    }
   },
   "id": "9a77715a4d15f527",
   "execution_count": 82
  },
  {
   "cell_type": "code",
   "outputs": [
    {
     "name": "stdout",
     "output_type": "stream",
     "text": [
      "WARNING: setting non parameter for argument loc\n",
      "OLD VALUE: Parameter containing:\n",
      "tensor([0., 0.], requires_grad=True)\n",
      "NEW VALUE: FunctionalTensor(lvl=2, value=\\\n",
      "GradTrackingTensor(lvl=1, value=\n",
      "    Parameter containing:\n",
      "    tensor([0., 0.], requires_grad=True)\n",
      "))\n",
      "WARNING: setting non parameter for argument scale_tril\n",
      "OLD VALUE: Parameter containing:\n",
      "tensor([[2.2361, 0.0000],\n",
      "        [-0.0000, 2.2361]], requires_grad=True)\n",
      "NEW VALUE: FunctionalTensor(lvl=2, value=\\\n",
      "GradTrackingTensor(lvl=1, value=\n",
      "    Parameter containing:\n",
      "    tensor([[2.2361, 0.0000],\n",
      "            [-0.0000, 2.2361]], requires_grad=True)\n",
      "))\n",
      "Setting parameter for argument loc\n",
      "Setting parameter for argument scale_tril\n"
     ]
    },
    {
     "data": {
      "text/plain": "({'loc': tensor([1., 0.], grad_fn=<ViewBackward0>),\n  'scale_tril': tensor([[-0.3425,  0.0000],\n          [ 0.0000,  0.0000]], grad_fn=<ViewBackward0>)},\n {'loc': tensor([0., 1.], grad_fn=<ViewBackward0>),\n  'scale_tril': tensor([[ 0.0000, -0.3425],\n          [-0.3425, -1.7763]], grad_fn=<ViewBackward0>)})"
     },
     "execution_count": 83,
     "metadata": {},
     "output_type": "execute_result"
    }
   ],
   "source": [
    "# DEBUG CULPRIT — this one is fine, it doesn't wrap the parameters in place.\n",
    "test_prior_jac_fn(test_prior_params)"
   ],
   "metadata": {
    "collapsed": false,
    "ExecuteTime": {
     "end_time": "2024-08-16T22:19:31.131362Z",
     "start_time": "2024-08-16T22:19:31.112670Z"
    }
   },
   "id": "dc25f105bb4a8636",
   "execution_count": 83
  },
  {
   "cell_type": "code",
   "outputs": [
    {
     "data": {
      "text/plain": "{'loc': True, 'scale_tril': True}"
     },
     "execution_count": 84,
     "metadata": {},
     "output_type": "execute_result"
    }
   ],
   "source": [
    "{k: v1 is v2 for (k, v1), v2 in zip(prior.named_parameters(), test_prior_params.values())}"
   ],
   "metadata": {
    "collapsed": false,
    "ExecuteTime": {
     "end_time": "2024-08-16T22:19:31.637399Z",
     "start_time": "2024-08-16T22:19:31.586438Z"
    }
   },
   "id": "b55fe5542b53b27a",
   "execution_count": 84
  },
  {
   "cell_type": "code",
   "outputs": [],
   "source": [],
   "metadata": {
    "collapsed": false
   },
   "id": "a7e6ce93073c6024",
   "execution_count": null
  },
  {
   "cell_type": "code",
   "outputs": [],
   "source": [],
   "metadata": {
    "collapsed": false
   },
   "id": "2dd5129d9f7b4307",
   "execution_count": null
  },
  {
   "cell_type": "code",
   "outputs": [],
   "source": [],
   "metadata": {
    "collapsed": false
   },
   "id": "ed669e15e569458f"
  }
 ],
 "metadata": {
  "kernelspec": {
   "display_name": "Python 3",
   "language": "python",
   "name": "python3"
  },
  "language_info": {
   "codemirror_mode": {
    "name": "ipython",
    "version": 2
   },
   "file_extension": ".py",
   "mimetype": "text/x-python",
   "name": "python",
   "nbconvert_exporter": "python",
   "pygments_lexer": "ipython2",
   "version": "2.7.6"
  }
 },
 "nbformat": 4,
 "nbformat_minor": 5
}

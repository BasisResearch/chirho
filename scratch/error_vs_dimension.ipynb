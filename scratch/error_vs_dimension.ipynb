{
 "cells": [
  {
   "cell_type": "code",
   "execution_count": 10,
   "metadata": {
    "ExecuteTime": {
     "end_time": "2024-07-03T23:10:41.224088Z",
     "start_time": "2024-07-03T23:10:41.213413Z"
    }
   },
   "outputs": [
    {
     "name": "stdout",
     "output_type": "stream",
     "text": [
      "-1: 6.561726464\n"
     ]
    }
   ],
   "source": [
    "import psutil\n",
    "print('-1:', psutil.virtual_memory()[3] / 1000000000)\n",
    "\n",
    "from typing import Callable, Optional, Tuple\n",
    "from fractions import Fraction\n",
    "\n",
    "import functools\n",
    "import torch\n",
    "import math\n",
    "import seaborn as sns\n",
    "import pandas as pd\n",
    "import numpy as np\n",
    "import matplotlib.pyplot as plt\n",
    "import time\n",
    "\n",
    "import pyro\n",
    "import pyro.distributions as dist\n",
    "from pyro.infer import Predictive\n",
    "import pyro.contrib.gp as gp\n",
    "\n",
    "from chirho.counterfactual.handlers import MultiWorldCounterfactual\n",
    "from chirho.indexed.ops import IndexSet, gather\n",
    "from chirho.interventional.handlers import do\n",
    "from chirho.robust.internals.utils import ParamDict\n",
    "from chirho.robust.handlers.estimators import one_step_corrected_estimator \n",
    "from chirho.robust.ops import influence_fn\n",
    "from chirho.robust.handlers.predictive import PredictiveModel, PredictiveFunctional\n",
    "from chirho.robust.internals.nmc import BatchedNMCLogMarginalLikelihood\n",
    "from chirho.robust.handlers.estimators import MonteCarloInfluenceEstimator\n",
    "import psutil\n",
    "\n",
    "# import profiling tools\n",
    "from torch.profiler import profile, ProfilerActivity, record_function\n",
    "\n",
    "pyro.settings.set(module_local_params=True)\n",
    "\n",
    "sns.set_style(\"white\")\n",
    "\n",
    "pyro.set_rng_seed(32891) # for reproducibility"
   ]
  },
  {
   "cell_type": "code",
   "execution_count": 11,
   "metadata": {
    "ExecuteTime": {
     "end_time": "2024-07-03T23:10:41.243309Z",
     "start_time": "2024-07-03T23:10:41.227839Z"
    }
   },
   "outputs": [],
   "source": [
    "class CausalGLM(pyro.nn.PyroModule):\n",
    "    def __init__(\n",
    "        self,\n",
    "        p: int,\n",
    "        link_fn: Callable[..., dist.Distribution] = lambda mu: dist.Normal(mu, 1.0),\n",
    "        prior_scale: Optional[float] = None,\n",
    "    ):\n",
    "        super().__init__()\n",
    "        self.p = p\n",
    "        self.link_fn = link_fn\n",
    "        if prior_scale is None:\n",
    "            self.prior_scale = 1 / math.sqrt(self.p)\n",
    "        else:\n",
    "            self.prior_scale = prior_scale\n",
    "\n",
    "    def sample_outcome_weights(self):\n",
    "        return pyro.sample(\n",
    "            \"outcome_weights\",\n",
    "            dist.Normal(0.0, self.prior_scale).expand((self.p,)).to_event(1),\n",
    "        )\n",
    "\n",
    "    def sample_intercept(self):\n",
    "        return pyro.sample(\"intercept\", dist.Normal(0.0, 1.0))\n",
    "\n",
    "    def sample_propensity_weights(self):\n",
    "        return pyro.sample(\n",
    "            \"propensity_weights\",\n",
    "            dist.Normal(0.0, self.prior_scale).expand((self.p,)).to_event(1),\n",
    "        )\n",
    "\n",
    "    def sample_treatment_weight(self):\n",
    "        return pyro.sample(\"treatment_weight\", dist.Normal(0.0, 1.0))\n",
    "\n",
    "    def sample_covariate_loc_scale(self):\n",
    "        return torch.zeros(self.p), torch.ones(self.p)\n",
    "\n",
    "    def forward(self):\n",
    "        with record_function(\"causal_glm_forward\"):\n",
    "            intercept = self.sample_intercept()\n",
    "            outcome_weights = self.sample_outcome_weights()\n",
    "            propensity_weights = self.sample_propensity_weights()\n",
    "            tau = self.sample_treatment_weight()\n",
    "            x_loc, x_scale = self.sample_covariate_loc_scale()\n",
    "            X = pyro.sample(\"X\", dist.Normal(x_loc, x_scale).to_event(1))\n",
    "            A = pyro.sample(\n",
    "                \"A\",\n",
    "                dist.Bernoulli(\n",
    "                    logits=torch.einsum(\"...i,...i->...\", X, propensity_weights)\n",
    "                ),\n",
    "            )\n",
    "    \n",
    "            return pyro.sample(\n",
    "                \"Y\",\n",
    "                self.link_fn(\n",
    "                    torch.einsum(\"...i,...i->...\", X, outcome_weights) + A * tau + intercept\n",
    "                ),\n",
    "            )"
   ]
  },
  {
   "cell_type": "code",
   "execution_count": 12,
   "metadata": {
    "ExecuteTime": {
     "end_time": "2024-07-03T23:10:41.252236Z",
     "start_time": "2024-07-03T23:10:41.232450Z"
    }
   },
   "outputs": [],
   "source": [
    "class ConditionedCausalGLM(CausalGLM):\n",
    "    def __init__(\n",
    "        self,\n",
    "        X: torch.Tensor,\n",
    "        A: torch.Tensor,\n",
    "        Y: torch.Tensor,\n",
    "        link_fn: Callable[..., dist.Distribution] = lambda mu: dist.Normal(mu, 1.0),\n",
    "        prior_scale: Optional[float] = None,\n",
    "    ):\n",
    "        p = X.shape[1]\n",
    "        super().__init__(p, link_fn, prior_scale)\n",
    "        self.X = X\n",
    "        self.A = A\n",
    "        self.Y = Y\n",
    "\n",
    "    def forward(self):\n",
    "        with record_function(\"conditioned_causal_glm_forward\"):\n",
    "            intercept = self.sample_intercept()\n",
    "            outcome_weights = self.sample_outcome_weights()\n",
    "            propensity_weights = self.sample_propensity_weights()\n",
    "            tau = self.sample_treatment_weight()\n",
    "            x_loc, x_scale = self.sample_covariate_loc_scale()\n",
    "            with pyro.plate(\"__train__\", size=self.X.shape[0], dim=-1):\n",
    "                X = pyro.sample(\"X\", dist.Normal(x_loc, x_scale).to_event(1), obs=self.X)\n",
    "                A = pyro.sample(\n",
    "                    \"A\",\n",
    "                    dist.Bernoulli(\n",
    "                        logits=torch.einsum(\"ni,i->n\", self.X, propensity_weights)\n",
    "                    ),\n",
    "                    obs=self.A,\n",
    "                )\n",
    "                pyro.sample(\n",
    "                    \"Y\",\n",
    "                    self.link_fn(\n",
    "                        torch.einsum(\"ni,i->n\", X, outcome_weights)\n",
    "                        + A * tau\n",
    "                        + intercept\n",
    "                    ),\n",
    "                    obs=self.Y,\n",
    "                )"
   ]
  },
  {
   "cell_type": "code",
   "execution_count": 13,
   "metadata": {
    "ExecuteTime": {
     "end_time": "2024-07-03T23:10:41.255090Z",
     "start_time": "2024-07-03T23:10:41.245279Z"
    }
   },
   "outputs": [],
   "source": [
    "class GroundTruthModel(CausalGLM):\n",
    "    def __init__(\n",
    "        self,\n",
    "        p: int,\n",
    "        alpha: int,\n",
    "        beta: int,\n",
    "        link_fn: Callable[..., dist.Distribution] = lambda mu: dist.Normal(mu, 1.0),\n",
    "        treatment_weight: float = 0.0,\n",
    "    ):\n",
    "        super().__init__(p, link_fn)\n",
    "        self.alpha = alpha  # sparsity of propensity weights\n",
    "        self.beta = beta  # sparsity of outcome weights\n",
    "        self.treatment_weight = treatment_weight\n",
    "\n",
    "    def sample_outcome_weights(self):\n",
    "        outcome_weights = 1 / math.sqrt(self.beta) * torch.ones(self.p)\n",
    "        outcome_weights[self.beta :] = 0.0\n",
    "        return outcome_weights\n",
    "\n",
    "    def sample_propensity_weights(self):\n",
    "        propensity_weights = 1 / math.sqrt(self.alpha) * torch.ones(self.p)\n",
    "        propensity_weights[self.alpha :] = 0.0\n",
    "        return propensity_weights\n",
    "\n",
    "    def sample_treatment_weight(self):\n",
    "        return torch.tensor(self.treatment_weight)\n",
    "\n",
    "    def sample_intercept(self):\n",
    "        return torch.tensor(0.0)"
   ]
  },
  {
   "cell_type": "code",
   "execution_count": 14,
   "metadata": {
    "ExecuteTime": {
     "end_time": "2024-07-03T23:10:41.276516Z",
     "start_time": "2024-07-03T23:10:41.256027Z"
    }
   },
   "outputs": [],
   "source": [
    "def generate_data(p_dim, alpha, beta, N_train, N_test):\n",
    "    true_model = GroundTruthModel(p_dim, alpha, beta)\n",
    "\n",
    "    # Generate data\n",
    "    D_train = Predictive(\n",
    "        true_model, num_samples=N_train, return_sites=[\"X\", \"A\", \"Y\"]\n",
    "    )()\n",
    "    D_test = Predictive(\n",
    "        true_model, num_samples=N_test, return_sites=[\"X\", \"A\", \"Y\"]\n",
    "    )()\n",
    "    return D_train, D_test\n",
    "\n",
    "# N_datasets = len(simulated_datasets)"
   ]
  },
  {
   "cell_type": "code",
   "execution_count": 15,
   "metadata": {
    "ExecuteTime": {
     "end_time": "2024-07-03T23:10:41.277985Z",
     "start_time": "2024-07-03T23:10:41.259719Z"
    }
   },
   "outputs": [],
   "source": [
    "def fit_params(D_train, p_dim, alpha, beta):\n",
    "    with record_function(\"fit_params\"):\n",
    "        # Fit the model\n",
    "        start = time.time()\n",
    "        conditioned_model = ConditionedCausalGLM(\n",
    "                X=D_train[\"X\"], A=D_train[\"A\"], Y=D_train[\"Y\"]\n",
    "            )\n",
    "        guide_train = pyro.infer.autoguide.AutoDelta(conditioned_model)\n",
    "        elbo = pyro.infer.Trace_ELBO()(conditioned_model, guide_train)\n",
    "    \n",
    "        # initialize parameters\n",
    "        elbo()\n",
    "        adam = torch.optim.Adam(elbo.parameters(), lr=0.03)\n",
    "    \n",
    "        # Do gradient steps\n",
    "        for _ in range(2000):\n",
    "            adam.zero_grad()\n",
    "            loss = elbo()\n",
    "            loss.backward()\n",
    "            adam.step()\n",
    "    \n",
    "        model_fitting_time = time.time() - start\n",
    "    \n",
    "        theta_hat = {\n",
    "            k: v.clone().detach().requires_grad_(True) for k, v in guide_train().items()\n",
    "        }\n",
    "    \n",
    "        return theta_hat, model_fitting_time"
   ]
  },
  {
   "cell_type": "code",
   "execution_count": 16,
   "metadata": {
    "ExecuteTime": {
     "end_time": "2024-07-03T23:10:41.297222Z",
     "start_time": "2024-07-03T23:10:41.279202Z"
    }
   },
   "outputs": [],
   "source": [
    "# fitted_params = []\n",
    "# model_fitting_time = []\n",
    "# N_trials = 10\n",
    "# for i in range(N_trials):\n",
    "#     for p_dim in p_grid:\n",
    "#         # Generate data\n",
    "#         D_train, D_test = generate_data\n",
    "\n",
    "#         start = time.time()\n",
    "#         # Fit model using maximum likelihood\n",
    "#         conditioned_model = ConditionedCausalGLM(\n",
    "#             X=D_train[\"X\"], A=D_train[\"A\"], Y=D_train[\"Y\"]\n",
    "#         )\n",
    "        \n",
    "#         guide_train = pyro.infer.autoguide.AutoDelta(conditioned_model)\n",
    "#         elbo = pyro.infer.Trace_ELBO()(conditioned_model, guide_train)\n",
    "\n",
    "#         # initialize parameters\n",
    "#         elbo()\n",
    "#         adam = torch.optim.Adam(elbo.parameters(), lr=0.03)\n",
    "\n",
    "#         # Do gradient steps\n",
    "#         for _ in range(2000):\n",
    "#             adam.zero_grad()\n",
    "#             loss = elbo()\n",
    "#             loss.backward()\n",
    "#             adam.step()\n",
    "\n",
    "#         model_fitting_time.append(time.time() - start)\n",
    "\n",
    "#         theta_hat = {\n",
    "#             k: v.clone().detach().requires_grad_(True) for k, v in guide_train().items()\n",
    "#         }\n",
    "#         fitted_params.append(theta_hat)"
   ]
  },
  {
   "cell_type": "code",
   "execution_count": 17,
   "metadata": {
    "ExecuteTime": {
     "end_time": "2024-07-03T23:10:41.312352Z",
     "start_time": "2024-07-03T23:10:41.301002Z"
    }
   },
   "outputs": [],
   "source": [
    "class ATEFunctional(torch.nn.Module):\n",
    "    def __init__(self, model: Callable, *, num_monte_carlo: int = 100):\n",
    "        super().__init__()\n",
    "        self.model = model\n",
    "        self.num_monte_carlo = num_monte_carlo\n",
    "    \n",
    "    def forward(self, *args, **kwargs):\n",
    "        with record_function(\"ate_functional\"):\n",
    "            with MultiWorldCounterfactual():\n",
    "                with pyro.plate(\"monte_carlo_functional\", size=self.num_monte_carlo, dim=-2):\n",
    "                    with do(actions=dict(A=(torch.tensor(0.0), torch.tensor(1.0)))):\n",
    "                        Ys = self.model(*args, **kwargs)\n",
    "                    Y0 = gather(Ys, IndexSet(A={1}), event_dim=0)\n",
    "                    Y1 = gather(Ys, IndexSet(A={2}), event_dim=0)\n",
    "            ate = (Y1 - Y0).mean(dim=-2, keepdim=True).mean(dim=-1, keepdim=True).squeeze()\n",
    "            return pyro.deterministic(\"ATE\", ate)\n",
    "    \n",
    "# Closed form expression\n",
    "def closed_form_doubly_robust_ate_correction(X_test, theta) -> Tuple[torch.Tensor, torch.Tensor]:\n",
    "    X = X_test[\"X\"]\n",
    "    A = X_test[\"A\"]\n",
    "    Y = X_test[\"Y\"]\n",
    "    pi_X = torch.sigmoid(X.mv(theta[\"propensity_weights\"]))\n",
    "    mu_X = (\n",
    "        X.mv(theta[\"outcome_weights\"])\n",
    "        + A * theta[\"treatment_weight\"]\n",
    "        + theta[\"intercept\"]\n",
    "    )\n",
    "    analytic_eif_at_test_pts = (A / pi_X - (1 - A) / (1 - pi_X)) * (Y - mu_X)\n",
    "    analytic_correction = analytic_eif_at_test_pts.mean()\n",
    "    return analytic_correction, analytic_eif_at_test_pts\n",
    "\n",
    "# Helper class to create a trivial guide that returns the maximum likelihood estimate\n",
    "class MLEGuide(torch.nn.Module):\n",
    "    def __init__(self, mle_est: ParamDict):\n",
    "        super().__init__()\n",
    "        self.names = list(mle_est.keys())\n",
    "        for name, value in mle_est.items():\n",
    "            setattr(self, name + \"_param\", torch.nn.Parameter(value))\n",
    "\n",
    "    def forward(self, *args, **kwargs):\n",
    "        with record_function(\"mle_guide\"):\n",
    "            for name in self.names:\n",
    "                value = getattr(self, name + \"_param\")\n",
    "                pyro.sample(\n",
    "                    name, pyro.distributions.Delta(value, event_dim=len(value.shape))\n",
    "                )\n"
   ]
  },
  {
   "cell_type": "code",
   "outputs": [
    {
     "name": "stdout",
     "output_type": "stream",
     "text": [
      "0: 6.577504256\n",
      "A: 6.537003008\n"
     ]
    }
   ],
   "source": [
    "p=50  # memory scales with this because jvp is bad\n",
    "alpha=50\n",
    "beta=50\n",
    "N_train=5000\n",
    "N_test=500  # memory scales with this because the vmap operates over this dimension, with one jvp call each.\n",
    "\n",
    "print('0:', psutil.virtual_memory()[3] / 1000000000)\n",
    "\n",
    "D_train, D_test = generate_data(p, alpha, beta, N_train, N_test)\n",
    "theta_hat, model_fitting_time = fit_params(D_train, p, alpha, beta)\n",
    "# model_fitting_times[p].append(model_fitting_time)\n",
    "\n",
    "mle_guide = MLEGuide(theta_hat)\n",
    "functional = functools.partial(ATEFunctional, num_monte_carlo=10000)\n",
    "ate_plug_in = functional(\n",
    "    PredictiveModel(CausalGLM(p), mle_guide)\n",
    ")()\n",
    "analytic_correction, analytic_eif_at_test_pts = closed_form_doubly_robust_ate_correction(D_test, theta_hat)\n",
    "\n",
    "# start = time.time()\n",
    "monte_eif = influence_fn(functional, D_test)\n",
    "\n",
    "print('A:', psutil.virtual_memory()[3] / 1000000000)\n",
    "\n",
    "with MonteCarloInfluenceEstimator(\n",
    "    num_samples_outer=1000,\n",
    "    num_samples_inner=1,\n",
    "    cg_iters=1\n",
    "):\n",
    "    with torch.no_grad():\n",
    "        # with profile(activities=[ProfilerActivity.CPU], record_shapes=True, profile_memory=True, with_stack=True) as prof:\n",
    "        #     with record_function(\"monte_eif\"):\n",
    "        monte_eif_at_test_pts = monte_eif(PredictiveModel(CausalGLM(p), mle_guide))()\n",
    "# end = time.time()\n",
    "# automated_monte_carlo_times[p].append(end - start)\n",
    "# automated_monte_carlo_at_test[p].append(monte_eif_at_test_pts)\n",
    "# analytic_at_test[p].append(analytic_eif_at_test_pts)\n",
    "\n",
    "# plug_in_ates[p].append(ate_plug_in.detach().item())\n",
    "# analytic_corrections[p].append(ate_plug_in.detach().item() + analytic_correction.detach().item())"
   ],
   "metadata": {
    "collapsed": false,
    "ExecuteTime": {
     "end_time": "2024-07-03T23:10:47.314993Z",
     "start_time": "2024-07-03T23:10:41.305714Z"
    }
   },
   "execution_count": 18
  },
  {
   "cell_type": "code",
   "outputs": [
    {
     "data": {
      "text/plain": "<Axes: ylabel='Count'>"
     },
     "execution_count": 19,
     "metadata": {},
     "output_type": "execute_result"
    },
    {
     "data": {
      "text/plain": "<Figure size 640x480 with 1 Axes>",
      "image/png": "[encoded data removed]"
     },
     "metadata": {},
     "output_type": "display_data"
    }
   ],
   "source": [
    "sns.histplot(monte_eif_at_test_pts.detach())"
   ],
   "metadata": {
    "collapsed": false,
    "ExecuteTime": {
     "end_time": "2024-07-03T23:10:47.462999Z",
     "start_time": "2024-07-03T23:10:47.329023Z"
    }
   },
   "execution_count": 19
  },
  {
   "cell_type": "code",
   "outputs": [],
   "source": [
    "print(prof.key_averages().table(sort_by=\"self_cpu_memory_usage\", row_limit=10))"
   ],
   "metadata": {
    "collapsed": false
   },
   "execution_count": null
  },
  {
   "cell_type": "code",
   "outputs": [],
   "source": [
    "print(prof.key_averages().table(sort_by=\"cpu_memory_usage\", row_limit=10))"
   ],
   "metadata": {
    "collapsed": false
   },
   "execution_count": null
  },
  {
   "cell_type": "code",
   "outputs": [],
   "source": [
    "prof.export_memory_timeline(\"/Users/azane/Desktop/mceif_prof.html\")"
   ],
   "metadata": {
    "collapsed": false
   },
   "execution_count": null
  },
  {
   "cell_type": "code",
   "outputs": [],
   "source": [
    "prof.export_chrome_trace(\"/Users/azane/Desktop/trace.json\")"
   ],
   "metadata": {
    "collapsed": false
   },
   "execution_count": null
  },
  {
   "cell_type": "code",
   "outputs": [],
   "source": [],
   "metadata": {
    "collapsed": false
   }
  },
  {
   "cell_type": "code",
   "outputs": [],
   "source": [
    "# Memory profile the forward op of the glm.\n",
    "with profile(activities=[ProfilerActivity.CPU], record_shapes=True, profile_memory=True, with_stack=True) as glm_prof:\n",
    "    with record_function(\"glm_forward\"):\n",
    "        # for pd in range(1, 1000):\n",
    "        CausalGLM(p=1000)()"
   ],
   "metadata": {
    "collapsed": false
   },
   "execution_count": null
  },
  {
   "cell_type": "code",
   "outputs": [],
   "source": [
    "print(glm_prof.key_averages().table(sort_by=\"cpu_memory_usage\", row_limit=10))"
   ],
   "metadata": {
    "collapsed": false
   },
   "execution_count": null
  },
  {
   "cell_type": "code",
   "outputs": [],
   "source": [
    "# Memory timeline.\n",
    "glm_prof.export_memory_timeline(\"/Users/azane/Desktop/glm_prof.html\")"
   ],
   "metadata": {
    "collapsed": false
   },
   "execution_count": null
  },
  {
   "cell_type": "code",
   "outputs": [],
   "source": [],
   "metadata": {
    "collapsed": false
   }
  },
  {
   "cell_type": "code",
   "outputs": [],
   "source": [
    "##################################################\n",
    "# below not currently relevant to memory profile #\n",
    "##################################################"
   ],
   "metadata": {
    "collapsed": false
   }
  },
  {
   "cell_type": "code",
   "execution_count": null,
   "metadata": {},
   "outputs": [],
   "source": [
    "# Data configuration\n",
    "alpha = 50\n",
    "beta = 50\n",
    "N_train = 500\n",
    "N_test = 50\n",
    "p_grid = [1, 10, 25, 50, 100, 150, 200, 250, 300, 500]\n",
    "\n",
    "\n",
    "# Compute doubly robust ATE estimates using both the automated and closed form expressions\n",
    "N_trials = 25\n",
    "\n",
    "import pickle\n",
    "import os\n",
    "\n",
    "RESULTS_PATH = 'results/error_vs_dimension.pkl'\n",
    "\n",
    "if os.path.exists(RESULTS_PATH):\n",
    "    with open(RESULTS_PATH, 'rb') as f:\n",
    "        results = pickle.load(f)\n",
    "        plug_in_ates = results['plug_in_ates']\n",
    "        model_fitting_times = results['model_fitting_times']\n",
    "        analytic_corrections = results['analytic_corrections']\n",
    "        automated_monte_carlo_corrections = results['automated_monte_carlo_corrections']\n",
    "        automated_monte_carlo_at_test = results['automated_monte_carlo_at_test']\n",
    "        automated_monte_carlo_times = results['automated_monte_carlo_times']\n",
    "        analytic_at_test = results['analytic_at_test']\n",
    "    i_start = len(plug_in_ates[p_grid[0]])\n",
    "else:\n",
    "    plug_in_ates = {p:[] for p in p_grid}\n",
    "    model_fitting_times = {p:[] for p in p_grid}\n",
    "    analytic_corrections = {p:[] for p in p_grid}\n",
    "    automated_monte_carlo_corrections = {p:[] for p in p_grid}\n",
    "    automated_monte_carlo_at_test = {p:[] for p in p_grid}\n",
    "    automated_monte_carlo_times = {p:[] for p in p_grid}\n",
    "    analytic_at_test = {p:[] for p in p_grid}\n",
    "    i_start = 0\n",
    "\n",
    "for i in range(i_start, N_trials):\n",
    "    for p in p_grid:\n",
    "        print(i, p)\n",
    "        D_train, D_test = generate_data(p, alpha, beta, N_train, N_test)\n",
    "        theta_hat, model_fitting_time = fit_params(D_train, p, alpha, beta)\n",
    "        model_fitting_times[p].append(model_fitting_time)\n",
    "\n",
    "        mle_guide = MLEGuide(theta_hat)\n",
    "        functional = functools.partial(ATEFunctional, num_monte_carlo=10000)\n",
    "        ate_plug_in = functional(\n",
    "            PredictiveModel(CausalGLM(p), mle_guide)\n",
    "        )()\n",
    "        analytic_correction, analytic_eif_at_test_pts = closed_form_doubly_robust_ate_correction(D_test, theta_hat)\n",
    "\n",
    "        start = time.time()\n",
    "        monte_eif = influence_fn(functional, D_test, num_samples_outer=10000, num_samples_inner=1)\n",
    "        monte_eif_at_test_pts = monte_eif(PredictiveModel(CausalGLM(p), mle_guide))()\n",
    "        end = time.time()\n",
    "        automated_monte_carlo_times[p].append(end - start)\n",
    "        automated_monte_carlo_at_test[p].append(monte_eif_at_test_pts)\n",
    "        analytic_at_test[p].append(analytic_eif_at_test_pts)\n",
    "\n",
    "        plug_in_ates[p].append(ate_plug_in.detach().item())\n",
    "        analytic_corrections[p].append(ate_plug_in.detach().item() + analytic_correction.detach().item())\n",
    "        # automated_monte_carlo_corrections[p].append(ate_plug_in.detach().item() + monte_eif_at_test_pts.mean().detach().item())\n",
    "\n",
    "    with open(RESULTS_PATH, 'wb') as f:\n",
    "        results = {\n",
    "            'plug_in_ates': plug_in_ates,\n",
    "            'model_fitting_times': model_fitting_times,\n",
    "            'analytic_corrections': analytic_corrections,\n",
    "            'automated_monte_carlo_corrections': automated_monte_carlo_corrections,\n",
    "            'automated_monte_carlo_at_test': automated_monte_carlo_at_test,\n",
    "            'automated_monte_carlo_times': automated_monte_carlo_times,\n",
    "            'analytic_at_test': analytic_at_test\n",
    "        }\n",
    "        pickle.dump(results, f)\n"
   ]
  },
  {
   "cell_type": "code",
   "execution_count": null,
   "metadata": {},
   "outputs": [],
   "source": [
    "def median_rel_error(x, y):\n",
    "    x = torch.tensor(x)\n",
    "    y = torch.tensor(y)\n",
    "    return torch.median(torch.abs(x - y) / torch.abs(y))"
   ]
  },
  {
   "cell_type": "code",
   "execution_count": null,
   "metadata": {},
   "outputs": [],
   "source": [
    "monte_eif_errors = {p: torch.tensor([median_rel_error(x, y) for x, y in zip(automated_monte_carlo_at_test[p], analytic_at_test[p])]) for p in p_grid}\n",
    "monte_eif_error_means = {p: monte_eif_errors[p].mean() for p in p_grid}\n",
    "monte_eif_error_stderrs = {p: monte_eif_errors[p].std() / math.sqrt(N_trials) for p in p_grid}"
   ]
  },
  {
   "cell_type": "code",
   "execution_count": null,
   "metadata": {},
   "outputs": [],
   "source": [
    "model_dimension_grid = [2 * p + 2 for p in p_grid]\n",
    "unpacked_model_dimension_grid = [2 * p + 2 for p in p_grid for _ in monte_eif_errors[p]]\n",
    "unpacked_monte_eif_errors = [e.item() for p in p_grid for e in monte_eif_errors[p]]"
   ]
  },
  {
   "cell_type": "code",
   "execution_count": null,
   "metadata": {},
   "outputs": [],
   "source": [
    "obs_rate_num"
   ]
  },
  {
   "cell_type": "code",
   "execution_count": null,
   "metadata": {},
   "outputs": [],
   "source": [
    "obs_rate_denom"
   ]
  },
  {
   "cell_type": "code",
   "execution_count": null,
   "metadata": {},
   "outputs": [],
   "source": [
    "plt.figure(figsize=(6, 4))\n",
    "\n",
    "plt.rcParams['text.usetex'] = True\n",
    "\n",
    "obs_slope, obs_intercept = np.polyfit(\n",
    "    np.log10(unpacked_model_dimension_grid), \n",
    "    np.log10(unpacked_monte_eif_errors), 1)\n",
    "\n",
    "theory_slope = 1/2\n",
    "theory_intercept = (np.log10(unpacked_monte_eif_errors) - theory_slope * np.log10(unpacked_model_dimension_grid)).mean()\n",
    "\n",
    "# Plot results\n",
    "plt.errorbar(model_dimension_grid, \n",
    "             list(monte_eif_error_means.values()), \n",
    "             yerr=list(monte_eif_error_stderrs.values()), \n",
    "             fmt='.-',\n",
    "             label='MC-EIF (10k Monte Carlo samples)',\n",
    "             color='#154c79',\n",
    "             marker='o')\n",
    "obs_rate_num = Fraction(int(round(8*obs_slope)),8).numerator\n",
    "obs_rate_denom = Fraction(int(round(8*obs_slope)),8).denominator\n",
    "plt.plot(model_dimension_grid, \n",
    "    10**obs_intercept * np.power(model_dimension_grid, obs_slope), \n",
    "    label='Estimated Error Rate: O($p^{7/16}$)',\n",
    "    color='red',\n",
    "    linestyle='--'\n",
    ")\n",
    "plt.plot(model_dimension_grid, \n",
    "    10**theory_intercept * np.power(model_dimension_grid, theory_slope), \n",
    "    label='Our Theory: O($p^{1/2}$)',\n",
    "    color='green',\n",
    "    linestyle='--'\n",
    ")\n",
    "plt.xscale('log')\n",
    "plt.yscale('log')\n",
    "plt.ylabel('Median Relative Error', fontsize=24)\n",
    "plt.xlabel('Model Dimension (p)', fontsize=24)\n",
    "sns.despine()\n",
    "plt.legend(fontsize=13)\n",
    "\n",
    "plt.yticks([0.01, 0.1, 0.5], fontsize=20)\n",
    "plt.xticks([10, 100, 1000], fontsize=20)\n",
    "plt.tight_layout()\n",
    "plt.savefig('./figures/error_rate_causal_glm_vs_dim.png')"
   ]
  },
  {
   "cell_type": "code",
   "execution_count": null,
   "metadata": {},
   "outputs": [],
   "source": [
    "model_fitting_times"
   ]
  },
  {
   "cell_type": "code",
   "execution_count": null,
   "metadata": {},
   "outputs": [],
   "source": [
    "automated_monte_carlo_time_means = {p: np.mean(automated_monte_carlo_times[p]) for p in p_grid}\n",
    "automated_monte_carlo_time_stderrs = {p: np.std(automated_monte_carlo_times[p]) / math.sqrt(N_trials) for p in p_grid}\n",
    "\n",
    "model_fitting_time_means = {p: np.mean(model_fitting_times[p]) for p in p_grid}\n",
    "model_fitting_time_stderrs = {p: np.std(model_fitting_times[p]) / math.sqrt(N_trials) for p in p_grid}"
   ]
  },
  {
   "cell_type": "code",
   "execution_count": null,
   "metadata": {},
   "outputs": [],
   "source": [
    "# Plot results\n",
    "\n",
    "plt.errorbar(model_dimension_grid, \n",
    "             list(automated_monte_carlo_time_means.values()), \n",
    "             yerr=list(automated_monte_carlo_time_stderrs.values()), \n",
    "             fmt='.-',\n",
    "             label='MC-EIF (10k Monte Carlo samples)',\n",
    "             color='#154c79',\n",
    "             marker='o')\n",
    "\n",
    "plt.errorbar(model_dimension_grid,\n",
    "                list(model_fitting_time_means.values()),\n",
    "                yerr=list(model_fitting_time_stderrs.values()),\n",
    "                fmt='.-',\n",
    "                label='Model Fitting Time',\n",
    "                color='#f95d6a',\n",
    "                marker='o'\n",
    "    )\n",
    "\n",
    "# plt.plot(\n",
    "#     model_dimension_grid, \n",
    "#     model_fitting_time, \n",
    "#     label='Model Fitting Time', \n",
    "#     color='#f95d6a',\n",
    "#     marker='o'\n",
    "\n",
    "# )\n",
    "# plt.xscale('log')\n",
    "# plt.yscale('log')\n",
    "plt.ylabel('Runtime (s)', fontsize=24)\n",
    "plt.xlabel('Model Dimension (p)', fontsize=24)\n",
    "sns.despine()\n",
    "plt.legend(fontsize=13)\n",
    "plt.tight_layout()\n",
    "# plt.yticks([0.1, 0.2, 0.3, 0.4, 0.5], fontsize=20)\n",
    "# plt.xticks([10, 100, 1000], fontsize=20)\n",
    "plt.savefig('./figures/runtime_causal_glm_vs_dim.png')"
   ]
  },
  {
   "cell_type": "code",
   "execution_count": null,
   "metadata": {},
   "outputs": [],
   "source": []
  }
 ],
 "metadata": {
  "kernelspec": {
   "display_name": "basis",
   "language": "python",
   "name": "python3"
  },
  "language_info": {
   "codemirror_mode": {
    "name": "ipython",
    "version": 3
   },
   "file_extension": ".py",
   "mimetype": "text/x-python",
   "name": "python",
   "nbconvert_exporter": "python",
   "pygments_lexer": "ipython3",
   "version": "3.11.4"
  }
 },
 "nbformat": 4,
 "nbformat_minor": 2
}

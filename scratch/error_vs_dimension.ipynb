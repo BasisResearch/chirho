{
 "cells": [
  {
   "cell_type": "code",
   "execution_count": 1,
   "metadata": {
    "ExecuteTime": {
     "end_time": "2024-07-03T17:12:46.590715Z",
     "start_time": "2024-07-03T17:12:45.836087Z"
    }
   },
   "outputs": [
    {
     "name": "stdout",
     "output_type": "stream",
     "text": [
      "-1: 7.259209728\n"
     ]
    }
   ],
   "source": [
    "import psutil\n",
    "print('-1:', psutil.virtual_memory()[3] / 1000000000)\n",
    "\n",
    "from typing import Callable, Optional, Tuple\n",
    "from fractions import Fraction\n",
    "\n",
    "import functools\n",
    "import torch\n",
    "import math\n",
    "import seaborn as sns\n",
    "import pandas as pd\n",
    "import numpy as np\n",
    "import matplotlib.pyplot as plt\n",
    "import time\n",
    "\n",
    "import pyro\n",
    "import pyro.distributions as dist\n",
    "from pyro.infer import Predictive\n",
    "import pyro.contrib.gp as gp\n",
    "\n",
    "from chirho.counterfactual.handlers import MultiWorldCounterfactual\n",
    "from chirho.indexed.ops import IndexSet, gather\n",
    "from chirho.interventional.handlers import do\n",
    "from chirho.robust.internals.utils import ParamDict\n",
    "from chirho.robust.handlers.estimators import one_step_corrected_estimator \n",
    "from chirho.robust.ops import influence_fn\n",
    "from chirho.robust.handlers.predictive import PredictiveModel, PredictiveFunctional\n",
    "from chirho.robust.internals.nmc import BatchedNMCLogMarginalLikelihood\n",
    "from chirho.robust.handlers.estimators import MonteCarloInfluenceEstimator\n",
    "import psutil\n",
    "\n",
    "# import profiling tools\n",
    "from torch.profiler import profile, ProfilerActivity, record_function\n",
    "\n",
    "pyro.settings.set(module_local_params=True)\n",
    "\n",
    "sns.set_style(\"white\")\n",
    "\n",
    "pyro.set_rng_seed(32891) # for reproducibility"
   ]
  },
  {
   "cell_type": "code",
   "execution_count": 2,
   "metadata": {
    "ExecuteTime": {
     "end_time": "2024-07-03T17:12:46.595545Z",
     "start_time": "2024-07-03T17:12:46.593290Z"
    }
   },
   "outputs": [],
   "source": [
    "class CausalGLM(pyro.nn.PyroModule):\n",
    "    def __init__(\n",
    "        self,\n",
    "        p: int,\n",
    "        link_fn: Callable[..., dist.Distribution] = lambda mu: dist.Normal(mu, 1.0),\n",
    "        prior_scale: Optional[float] = None,\n",
    "    ):\n",
    "        super().__init__()\n",
    "        self.p = p\n",
    "        self.link_fn = link_fn\n",
    "        if prior_scale is None:\n",
    "            self.prior_scale = 1 / math.sqrt(self.p)\n",
    "        else:\n",
    "            self.prior_scale = prior_scale\n",
    "\n",
    "    def sample_outcome_weights(self):\n",
    "        return pyro.sample(\n",
    "            \"outcome_weights\",\n",
    "            dist.Normal(0.0, self.prior_scale).expand((self.p,)).to_event(1),\n",
    "        )\n",
    "\n",
    "    def sample_intercept(self):\n",
    "        return pyro.sample(\"intercept\", dist.Normal(0.0, 1.0))\n",
    "\n",
    "    def sample_propensity_weights(self):\n",
    "        return pyro.sample(\n",
    "            \"propensity_weights\",\n",
    "            dist.Normal(0.0, self.prior_scale).expand((self.p,)).to_event(1),\n",
    "        )\n",
    "\n",
    "    def sample_treatment_weight(self):\n",
    "        return pyro.sample(\"treatment_weight\", dist.Normal(0.0, 1.0))\n",
    "\n",
    "    def sample_covariate_loc_scale(self):\n",
    "        return torch.zeros(self.p), torch.ones(self.p)\n",
    "\n",
    "    def forward(self):\n",
    "        with record_function(\"causal_glm_forward\"):\n",
    "            intercept = self.sample_intercept()\n",
    "            outcome_weights = self.sample_outcome_weights()\n",
    "            propensity_weights = self.sample_propensity_weights()\n",
    "            tau = self.sample_treatment_weight()\n",
    "            x_loc, x_scale = self.sample_covariate_loc_scale()\n",
    "            X = pyro.sample(\"X\", dist.Normal(x_loc, x_scale).to_event(1))\n",
    "            A = pyro.sample(\n",
    "                \"A\",\n",
    "                dist.Bernoulli(\n",
    "                    logits=torch.einsum(\"...i,...i->...\", X, propensity_weights)\n",
    "                ),\n",
    "            )\n",
    "    \n",
    "            return pyro.sample(\n",
    "                \"Y\",\n",
    "                self.link_fn(\n",
    "                    torch.einsum(\"...i,...i->...\", X, outcome_weights) + A * tau + intercept\n",
    "                ),\n",
    "            )"
   ]
  },
  {
   "cell_type": "code",
   "execution_count": 3,
   "metadata": {
    "ExecuteTime": {
     "end_time": "2024-07-03T17:12:46.600613Z",
     "start_time": "2024-07-03T17:12:46.596851Z"
    }
   },
   "outputs": [],
   "source": [
    "class ConditionedCausalGLM(CausalGLM):\n",
    "    def __init__(\n",
    "        self,\n",
    "        X: torch.Tensor,\n",
    "        A: torch.Tensor,\n",
    "        Y: torch.Tensor,\n",
    "        link_fn: Callable[..., dist.Distribution] = lambda mu: dist.Normal(mu, 1.0),\n",
    "        prior_scale: Optional[float] = None,\n",
    "    ):\n",
    "        p = X.shape[1]\n",
    "        super().__init__(p, link_fn, prior_scale)\n",
    "        self.X = X\n",
    "        self.A = A\n",
    "        self.Y = Y\n",
    "\n",
    "    def forward(self):\n",
    "        with record_function(\"conditioned_causal_glm_forward\"):\n",
    "            intercept = self.sample_intercept()\n",
    "            outcome_weights = self.sample_outcome_weights()\n",
    "            propensity_weights = self.sample_propensity_weights()\n",
    "            tau = self.sample_treatment_weight()\n",
    "            x_loc, x_scale = self.sample_covariate_loc_scale()\n",
    "            with pyro.plate(\"__train__\", size=self.X.shape[0], dim=-1):\n",
    "                X = pyro.sample(\"X\", dist.Normal(x_loc, x_scale).to_event(1), obs=self.X)\n",
    "                A = pyro.sample(\n",
    "                    \"A\",\n",
    "                    dist.Bernoulli(\n",
    "                        logits=torch.einsum(\"ni,i->n\", self.X, propensity_weights)\n",
    "                    ),\n",
    "                    obs=self.A,\n",
    "                )\n",
    "                pyro.sample(\n",
    "                    \"Y\",\n",
    "                    self.link_fn(\n",
    "                        torch.einsum(\"ni,i->n\", X, outcome_weights)\n",
    "                        + A * tau\n",
    "                        + intercept\n",
    "                    ),\n",
    "                    obs=self.Y,\n",
    "                )"
   ]
  },
  {
   "cell_type": "code",
   "execution_count": 4,
   "metadata": {
    "ExecuteTime": {
     "end_time": "2024-07-03T17:12:46.602487Z",
     "start_time": "2024-07-03T17:12:46.600917Z"
    }
   },
   "outputs": [],
   "source": [
    "class GroundTruthModel(CausalGLM):\n",
    "    def __init__(\n",
    "        self,\n",
    "        p: int,\n",
    "        alpha: int,\n",
    "        beta: int,\n",
    "        link_fn: Callable[..., dist.Distribution] = lambda mu: dist.Normal(mu, 1.0),\n",
    "        treatment_weight: float = 0.0,\n",
    "    ):\n",
    "        super().__init__(p, link_fn)\n",
    "        self.alpha = alpha  # sparsity of propensity weights\n",
    "        self.beta = beta  # sparsity of outcome weights\n",
    "        self.treatment_weight = treatment_weight\n",
    "\n",
    "    def sample_outcome_weights(self):\n",
    "        outcome_weights = 1 / math.sqrt(self.beta) * torch.ones(self.p)\n",
    "        outcome_weights[self.beta :] = 0.0\n",
    "        return outcome_weights\n",
    "\n",
    "    def sample_propensity_weights(self):\n",
    "        propensity_weights = 1 / math.sqrt(self.alpha) * torch.ones(self.p)\n",
    "        propensity_weights[self.alpha :] = 0.0\n",
    "        return propensity_weights\n",
    "\n",
    "    def sample_treatment_weight(self):\n",
    "        return torch.tensor(self.treatment_weight)\n",
    "\n",
    "    def sample_intercept(self):\n",
    "        return torch.tensor(0.0)"
   ]
  },
  {
   "cell_type": "code",
   "execution_count": 5,
   "metadata": {
    "ExecuteTime": {
     "end_time": "2024-07-03T17:12:46.606829Z",
     "start_time": "2024-07-03T17:12:46.603012Z"
    }
   },
   "outputs": [],
   "source": [
    "def generate_data(p_dim, alpha, beta, N_train, N_test):\n",
    "    true_model = GroundTruthModel(p_dim, alpha, beta)\n",
    "\n",
    "    # Generate data\n",
    "    D_train = Predictive(\n",
    "        true_model, num_samples=N_train, return_sites=[\"X\", \"A\", \"Y\"]\n",
    "    )()\n",
    "    D_test = Predictive(\n",
    "        true_model, num_samples=N_test, return_sites=[\"X\", \"A\", \"Y\"]\n",
    "    )()\n",
    "    return D_train, D_test\n",
    "\n",
    "# N_datasets = len(simulated_datasets)"
   ]
  },
  {
   "cell_type": "code",
   "execution_count": 6,
   "metadata": {
    "ExecuteTime": {
     "end_time": "2024-07-03T17:12:46.608322Z",
     "start_time": "2024-07-03T17:12:46.606274Z"
    }
   },
   "outputs": [],
   "source": [
    "def fit_params(D_train, p_dim, alpha, beta):\n",
    "    with record_function(\"fit_params\"):\n",
    "        # Fit the model\n",
    "        start = time.time()\n",
    "        conditioned_model = ConditionedCausalGLM(\n",
    "                X=D_train[\"X\"], A=D_train[\"A\"], Y=D_train[\"Y\"]\n",
    "            )\n",
    "        guide_train = pyro.infer.autoguide.AutoDelta(conditioned_model)\n",
    "        elbo = pyro.infer.Trace_ELBO()(conditioned_model, guide_train)\n",
    "    \n",
    "        # initialize parameters\n",
    "        elbo()\n",
    "        adam = torch.optim.Adam(elbo.parameters(), lr=0.03)\n",
    "    \n",
    "        # Do gradient steps\n",
    "        for _ in range(2000):\n",
    "            adam.zero_grad()\n",
    "            loss = elbo()\n",
    "            loss.backward()\n",
    "            adam.step()\n",
    "    \n",
    "        model_fitting_time = time.time() - start\n",
    "    \n",
    "        theta_hat = {\n",
    "            k: v.clone().detach().requires_grad_(True) for k, v in guide_train().items()\n",
    "        }\n",
    "    \n",
    "        return theta_hat, model_fitting_time"
   ]
  },
  {
   "cell_type": "code",
   "execution_count": 7,
   "metadata": {
    "ExecuteTime": {
     "end_time": "2024-07-03T17:12:46.609741Z",
     "start_time": "2024-07-03T17:12:46.608252Z"
    }
   },
   "outputs": [],
   "source": [
    "# fitted_params = []\n",
    "# model_fitting_time = []\n",
    "# N_trials = 10\n",
    "# for i in range(N_trials):\n",
    "#     for p_dim in p_grid:\n",
    "#         # Generate data\n",
    "#         D_train, D_test = generate_data\n",
    "\n",
    "#         start = time.time()\n",
    "#         # Fit model using maximum likelihood\n",
    "#         conditioned_model = ConditionedCausalGLM(\n",
    "#             X=D_train[\"X\"], A=D_train[\"A\"], Y=D_train[\"Y\"]\n",
    "#         )\n",
    "        \n",
    "#         guide_train = pyro.infer.autoguide.AutoDelta(conditioned_model)\n",
    "#         elbo = pyro.infer.Trace_ELBO()(conditioned_model, guide_train)\n",
    "\n",
    "#         # initialize parameters\n",
    "#         elbo()\n",
    "#         adam = torch.optim.Adam(elbo.parameters(), lr=0.03)\n",
    "\n",
    "#         # Do gradient steps\n",
    "#         for _ in range(2000):\n",
    "#             adam.zero_grad()\n",
    "#             loss = elbo()\n",
    "#             loss.backward()\n",
    "#             adam.step()\n",
    "\n",
    "#         model_fitting_time.append(time.time() - start)\n",
    "\n",
    "#         theta_hat = {\n",
    "#             k: v.clone().detach().requires_grad_(True) for k, v in guide_train().items()\n",
    "#         }\n",
    "#         fitted_params.append(theta_hat)"
   ]
  },
  {
   "cell_type": "code",
   "execution_count": 8,
   "metadata": {
    "ExecuteTime": {
     "end_time": "2024-07-03T17:12:46.619740Z",
     "start_time": "2024-07-03T17:12:46.612681Z"
    }
   },
   "outputs": [],
   "source": [
    "class ATEFunctional(torch.nn.Module):\n",
    "    def __init__(self, model: Callable, *, num_monte_carlo: int = 100):\n",
    "        super().__init__()\n",
    "        self.model = model\n",
    "        self.num_monte_carlo = num_monte_carlo\n",
    "    \n",
    "    def forward(self, *args, **kwargs):\n",
    "        with record_function(\"ate_functional\"):\n",
    "            with MultiWorldCounterfactual():\n",
    "                with pyro.plate(\"monte_carlo_functional\", size=self.num_monte_carlo, dim=-2):\n",
    "                    with do(actions=dict(A=(torch.tensor(0.0), torch.tensor(1.0)))):\n",
    "                        Ys = self.model(*args, **kwargs)\n",
    "                    Y0 = gather(Ys, IndexSet(A={1}), event_dim=0)\n",
    "                    Y1 = gather(Ys, IndexSet(A={2}), event_dim=0)\n",
    "            ate = (Y1 - Y0).mean(dim=-2, keepdim=True).mean(dim=-1, keepdim=True).squeeze()\n",
    "            return pyro.deterministic(\"ATE\", ate)\n",
    "    \n",
    "# Closed form expression\n",
    "def closed_form_doubly_robust_ate_correction(X_test, theta) -> Tuple[torch.Tensor, torch.Tensor]:\n",
    "    X = X_test[\"X\"]\n",
    "    A = X_test[\"A\"]\n",
    "    Y = X_test[\"Y\"]\n",
    "    pi_X = torch.sigmoid(X.mv(theta[\"propensity_weights\"]))\n",
    "    mu_X = (\n",
    "        X.mv(theta[\"outcome_weights\"])\n",
    "        + A * theta[\"treatment_weight\"]\n",
    "        + theta[\"intercept\"]\n",
    "    )\n",
    "    analytic_eif_at_test_pts = (A / pi_X - (1 - A) / (1 - pi_X)) * (Y - mu_X)\n",
    "    analytic_correction = analytic_eif_at_test_pts.mean()\n",
    "    return analytic_correction, analytic_eif_at_test_pts\n",
    "\n",
    "# Helper class to create a trivial guide that returns the maximum likelihood estimate\n",
    "class MLEGuide(torch.nn.Module):\n",
    "    def __init__(self, mle_est: ParamDict):\n",
    "        super().__init__()\n",
    "        self.names = list(mle_est.keys())\n",
    "        for name, value in mle_est.items():\n",
    "            setattr(self, name + \"_param\", torch.nn.Parameter(value))\n",
    "\n",
    "    def forward(self, *args, **kwargs):\n",
    "        with record_function(\"mle_guide\"):\n",
    "            for name in self.names:\n",
    "                value = getattr(self, name + \"_param\")\n",
    "                pyro.sample(\n",
    "                    name, pyro.distributions.Delta(value, event_dim=len(value.shape))\n",
    "                )\n"
   ]
  },
  {
   "cell_type": "code",
   "outputs": [
    {
     "name": "stdout",
     "output_type": "stream",
     "text": [
      "0: 7.212630016\n",
      "A: 7.229095936\n"
     ]
    }
   ],
   "source": [
    "p=50  # memory scales with this because jvp is bad\n",
    "alpha=50\n",
    "beta=50\n",
    "N_train=5000\n",
    "N_test=500  # memory scales with this because the vmap operates over this dimension, with one jvp call each.\n",
    "\n",
    "print('0:', psutil.virtual_memory()[3] / 1000000000)\n",
    "\n",
    "D_train, D_test = generate_data(p, alpha, beta, N_train, N_test)\n",
    "theta_hat, model_fitting_time = fit_params(D_train, p, alpha, beta)\n",
    "# model_fitting_times[p].append(model_fitting_time)\n",
    "\n",
    "mle_guide = MLEGuide(theta_hat)\n",
    "functional = functools.partial(ATEFunctional, num_monte_carlo=10000)\n",
    "ate_plug_in = functional(\n",
    "    PredictiveModel(CausalGLM(p), mle_guide)\n",
    ")()\n",
    "analytic_correction, analytic_eif_at_test_pts = closed_form_doubly_robust_ate_correction(D_test, theta_hat)\n",
    "\n",
    "# start = time.time()\n",
    "monte_eif = influence_fn(functional, D_test)\n",
    "\n",
    "print('A:', psutil.virtual_memory()[3] / 1000000000)\n",
    "\n",
    "with MonteCarloInfluenceEstimator(\n",
    "    num_samples_outer=1000,\n",
    "    num_samples_inner=1,\n",
    "    cg_iters=1\n",
    "):\n",
    "    with torch.no_grad():\n",
    "        # with profile(activities=[ProfilerActivity.CPU], record_shapes=True, profile_memory=True, with_stack=True) as prof:\n",
    "        #     with record_function(\"monte_eif\"):\n",
    "        monte_eif_at_test_pts = monte_eif(PredictiveModel(CausalGLM(p), mle_guide))()\n",
    "# end = time.time()\n",
    "# automated_monte_carlo_times[p].append(end - start)\n",
    "# automated_monte_carlo_at_test[p].append(monte_eif_at_test_pts)\n",
    "# analytic_at_test[p].append(analytic_eif_at_test_pts)\n",
    "\n",
    "# plug_in_ates[p].append(ate_plug_in.detach().item())\n",
    "# analytic_corrections[p].append(ate_plug_in.detach().item() + analytic_correction.detach().item())"
   ],
   "metadata": {
    "collapsed": false,
    "ExecuteTime": {
     "end_time": "2024-07-03T17:14:41.011694Z",
     "start_time": "2024-07-03T17:14:34.158889Z"
    }
   },
   "execution_count": 11
  },
  {
   "cell_type": "code",
   "outputs": [
    {
     "data": {
      "text/plain": "<Axes: ylabel='Count'>"
     },
     "execution_count": 12,
     "metadata": {},
     "output_type": "execute_result"
    },
    {
     "data": {
      "text/plain": "<Figure size 640x480 with 1 Axes>",
      "image/png": "[encoded data removed]"
     },
     "metadata": {},
     "output_type": "display_data"
    }
   ],
   "source": [
    "sns.histplot(monte_eif_at_test_pts.detach())"
   ],
   "metadata": {
    "collapsed": false,
    "ExecuteTime": {
     "end_time": "2024-07-03T17:14:41.191204Z",
     "start_time": "2024-07-03T17:14:41.015391Z"
    }
   },
   "execution_count": 12
  },
  {
   "cell_type": "code",
   "outputs": [
    {
     "name": "stdout",
     "output_type": "stream",
     "text": [
      "-------------------------------------------------------  ------------  ------------  ------------  ------------  ------------  ------------  ------------  ------------  \n",
      "                                                   Name    Self CPU %      Self CPU   CPU total %     CPU total  CPU time avg       CPU Mem  Self CPU Mem    # of Calls  \n",
      "-------------------------------------------------------  ------------  ------------  ------------  ------------  ------------  ------------  ------------  ------------  \n",
      "                                              aten::mul         6.36%      37.297ms         9.69%      56.821ms     344.370us     541.59 Mb     388.68 Mb           165  \n",
      "                                              aten::add         5.34%      31.304ms        12.09%      70.895ms     319.347us     660.45 Mb     294.09 Mb           222  \n",
      "                                              aten::neg         3.65%      21.422ms         6.83%      40.091ms     325.943us     505.42 Mb     264.18 Mb           123  \n",
      "                                    aten::empty_strided         0.02%     135.000us         0.02%     135.000us       0.707us     137.12 Mb     137.12 Mb           191  \n",
      "                                            aten::copy_         3.03%      17.789ms         3.20%      18.777ms      72.779us     115.78 Mb     115.78 Mb           258  \n",
      "                                              aten::div         1.33%       7.827ms         2.99%      17.541ms     407.930us     179.41 Mb      96.22 Mb            43  \n",
      "                                            aten::where         0.94%       5.529ms         0.95%       5.565ms     327.353us      64.19 Mb      64.19 Mb            17  \n",
      "                                            aten::empty         0.03%     163.000us         0.03%     163.000us       0.543us      40.95 Mb      40.95 Mb           300  \n",
      "                                     aten::resolve_conj         0.00%       2.000us         0.00%       2.000us       0.000us      36.67 Mb      36.67 Mb         32088  \n",
      "                                            aten::zero_         0.02%     101.000us         0.27%       1.589ms      22.380us      19.85 Mb      19.85 Mb            71  \n",
      "-------------------------------------------------------  ------------  ------------  ------------  ------------  ------------  ------------  ------------  ------------  \n",
      "Self CPU time total: 586.585ms\n"
     ]
    }
   ],
   "source": [
    "print(prof.key_averages().table(sort_by=\"self_cpu_memory_usage\", row_limit=10))"
   ],
   "metadata": {
    "collapsed": false,
    "ExecuteTime": {
     "end_time": "2024-07-02T23:01:21.707152Z",
     "start_time": "2024-07-02T23:01:17.449246Z"
    }
   },
   "execution_count": 13
  },
  {
   "cell_type": "code",
   "outputs": [
    {
     "name": "stdout",
     "output_type": "stream",
     "text": [
      "-------------------------------------------------------  ------------  ------------  ------------  ------------  ------------  ------------  ------------  ------------  \n",
      "                                                   Name    Self CPU %      Self CPU   CPU total %     CPU total  CPU time avg       CPU Mem  Self CPU Mem    # of Calls  \n",
      "-------------------------------------------------------  ------------  ------------  ------------  ------------  ------------  ------------  ------------  ------------  \n",
      "                                              monte_eif         2.22%      13.045ms       100.00%     586.585ms     586.585ms       1.29 Gb     -87.52 Mb             1  \n",
      "                                              aten::add         5.34%      31.304ms        12.09%      70.895ms     319.347us     660.45 Mb     294.09 Mb           222  \n",
      "                                              aten::mul         6.36%      37.297ms         9.69%      56.821ms     344.370us     541.59 Mb     388.68 Mb           165  \n",
      "                                              aten::neg         3.65%      21.422ms         6.83%      40.091ms     325.943us     505.42 Mb     264.18 Mb           123  \n",
      "                                              aten::sub         0.95%       5.579ms        11.07%      64.954ms     528.081us     497.80 Mb      16.22 Mb           123  \n",
      "                 aten::binary_cross_entropy_with_logits         0.01%      37.000us         3.47%      20.349ms       6.783ms     198.60 Mb     -23.44 Kb             3  \n",
      "                                              aten::bmm        62.67%     367.629ms       173.40%        1.017s      13.933ms     188.03 Mb      10.03 Mb            73  \n",
      "                                         aten::_to_copy         0.10%     582.000us         2.70%      15.866ms      78.935us     183.13 Mb     -22.89 Mb           201  \n",
      "      autograd::engine::evaluate_function: NegBackward0         0.02%     107.000us         2.82%      16.536ms     718.957us     183.11 Mb     -27.34 Kb            23  \n",
      "                                              aten::div         1.33%       7.827ms         2.99%      17.541ms     407.930us     179.41 Mb      96.22 Mb            43  \n",
      "-------------------------------------------------------  ------------  ------------  ------------  ------------  ------------  ------------  ------------  ------------  \n",
      "Self CPU time total: 586.585ms\n"
     ]
    }
   ],
   "source": [
    "print(prof.key_averages().table(sort_by=\"cpu_memory_usage\", row_limit=10))"
   ],
   "metadata": {
    "collapsed": false,
    "ExecuteTime": {
     "end_time": "2024-07-02T23:01:25.921361Z",
     "start_time": "2024-07-02T23:01:21.749916Z"
    }
   },
   "execution_count": 14
  },
  {
   "cell_type": "code",
   "outputs": [
    {
     "data": {
      "text/plain": "<Figure size 1600x960 with 1 Axes>",
      "image/png": "[encoded data removed]"
     },
     "metadata": {},
     "output_type": "display_data"
    }
   ],
   "source": [
    "prof.export_memory_timeline(\"/Users/azane/Desktop/mceif_prof.html\")"
   ],
   "metadata": {
    "collapsed": false,
    "ExecuteTime": {
     "end_time": "2024-07-02T23:01:37.292374Z",
     "start_time": "2024-07-02T23:01:25.951009Z"
    }
   },
   "execution_count": 15
  },
  {
   "cell_type": "code",
   "outputs": [],
   "source": [
    "prof.export_chrome_trace(\"/Users/azane/Desktop/trace.json\")"
   ],
   "metadata": {
    "collapsed": false,
    "ExecuteTime": {
     "end_time": "2024-07-02T14:56:23.711472Z",
     "start_time": "2024-07-02T14:56:23.710418Z"
    }
   },
   "execution_count": 100
  },
  {
   "cell_type": "code",
   "outputs": [],
   "source": [],
   "metadata": {
    "collapsed": false
   }
  },
  {
   "cell_type": "code",
   "outputs": [
    {
     "name": "stderr",
     "output_type": "stream",
     "text": [
      "STAGE:2024-07-02 10:46:05 31604:729607 ActivityProfilerController.cpp:314] Completed Stage: Warm Up\n",
      "STAGE:2024-07-02 10:46:05 31604:729607 ActivityProfilerController.cpp:320] Completed Stage: Collection\n",
      "STAGE:2024-07-02 10:46:05 31604:729607 ActivityProfilerController.cpp:324] Completed Stage: Post Processing\n"
     ]
    }
   ],
   "source": [
    "# Memory profile the forward op of the glm.\n",
    "with profile(activities=[ProfilerActivity.CPU], record_shapes=True, profile_memory=True, with_stack=True) as glm_prof:\n",
    "    with record_function(\"glm_forward\"):\n",
    "        # for pd in range(1, 1000):\n",
    "        CausalGLM(p=1000)()"
   ],
   "metadata": {
    "collapsed": false,
    "ExecuteTime": {
     "end_time": "2024-07-02T14:46:05.294524Z",
     "start_time": "2024-07-02T14:46:05.274073Z"
    }
   },
   "execution_count": 65
  },
  {
   "cell_type": "code",
   "outputs": [
    {
     "name": "stdout",
     "output_type": "stream",
     "text": [
      "-----------------------------  ------------  ------------  ------------  ------------  ------------  ------------  ------------  ------------  \n",
      "                         Name    Self CPU %      Self CPU   CPU total %     CPU total  CPU time avg       CPU Mem  Self CPU Mem    # of Calls  \n",
      "-----------------------------  ------------  ------------  ------------  ------------  ------------  ------------  ------------  ------------  \n",
      "                  aten::empty         0.61%      24.000us         0.61%      24.000us       1.333us      15.66 Kb      15.66 Kb            18  \n",
      "                    aten::mul         0.41%      16.000us         0.41%      16.000us       2.286us      11.73 Kb      11.73 Kb             7  \n",
      "                    aten::add         1.89%      74.000us         1.89%      74.000us       9.250us       3.92 Kb       3.92 Kb             8  \n",
      "                  aten::zeros         0.20%       8.000us         0.25%      10.000us      10.000us       3.91 Kb           0 b             1  \n",
      "                   aten::ones         0.15%       6.000us         0.25%      10.000us      10.000us       3.91 Kb           0 b             1  \n",
      "                     aten::gt         0.54%      21.000us         1.27%      50.000us       8.333us       1.00 Kb         983 b             6  \n",
      "                     aten::eq         0.56%      22.000us         0.56%      22.000us       3.143us        1004 b        1004 b             7  \n",
      "                     aten::to         0.18%       7.000us         0.69%      27.000us       1.000us          41 b           1 b            27  \n",
      "               aten::_to_copy         0.36%      14.000us         0.56%      22.000us       3.667us          33 b          21 b             6  \n",
      "          aten::empty_strided         0.10%       4.000us         0.10%       4.000us       0.667us          16 b          16 b             6  \n",
      "-----------------------------  ------------  ------------  ------------  ------------  ------------  ------------  ------------  ------------  \n",
      "Self CPU time total: 3.923ms\n"
     ]
    }
   ],
   "source": [
    "print(glm_prof.key_averages().table(sort_by=\"cpu_memory_usage\", row_limit=10))"
   ],
   "metadata": {
    "collapsed": false,
    "ExecuteTime": {
     "end_time": "2024-07-02T14:46:06.014904Z",
     "start_time": "2024-07-02T14:46:06.011263Z"
    }
   },
   "execution_count": 66
  },
  {
   "cell_type": "code",
   "outputs": [
    {
     "data": {
      "text/plain": "<Figure size 1600x960 with 1 Axes>",
      "image/png": "[encoded data removed]"
     },
     "metadata": {},
     "output_type": "display_data"
    }
   ],
   "source": [
    "# Memory timeline.\n",
    "glm_prof.export_memory_timeline(\"/Users/azane/Desktop/glm_prof.html\")"
   ],
   "metadata": {
    "collapsed": false,
    "ExecuteTime": {
     "end_time": "2024-07-02T14:46:07.054969Z",
     "start_time": "2024-07-02T14:46:06.568975Z"
    }
   },
   "execution_count": 67
  },
  {
   "cell_type": "code",
   "outputs": [],
   "source": [],
   "metadata": {
    "collapsed": false
   }
  },
  {
   "cell_type": "code",
   "outputs": [],
   "source": [
    "##################################################\n",
    "# below not currently relevant to memory profile #\n",
    "##################################################"
   ],
   "metadata": {
    "collapsed": false
   }
  },
  {
   "cell_type": "code",
   "execution_count": null,
   "metadata": {},
   "outputs": [],
   "source": [
    "# Data configuration\n",
    "alpha = 50\n",
    "beta = 50\n",
    "N_train = 500\n",
    "N_test = 50\n",
    "p_grid = [1, 10, 25, 50, 100, 150, 200, 250, 300, 500]\n",
    "\n",
    "\n",
    "# Compute doubly robust ATE estimates using both the automated and closed form expressions\n",
    "N_trials = 25\n",
    "\n",
    "import pickle\n",
    "import os\n",
    "\n",
    "RESULTS_PATH = 'results/error_vs_dimension.pkl'\n",
    "\n",
    "if os.path.exists(RESULTS_PATH):\n",
    "    with open(RESULTS_PATH, 'rb') as f:\n",
    "        results = pickle.load(f)\n",
    "        plug_in_ates = results['plug_in_ates']\n",
    "        model_fitting_times = results['model_fitting_times']\n",
    "        analytic_corrections = results['analytic_corrections']\n",
    "        automated_monte_carlo_corrections = results['automated_monte_carlo_corrections']\n",
    "        automated_monte_carlo_at_test = results['automated_monte_carlo_at_test']\n",
    "        automated_monte_carlo_times = results['automated_monte_carlo_times']\n",
    "        analytic_at_test = results['analytic_at_test']\n",
    "    i_start = len(plug_in_ates[p_grid[0]])\n",
    "else:\n",
    "    plug_in_ates = {p:[] for p in p_grid}\n",
    "    model_fitting_times = {p:[] for p in p_grid}\n",
    "    analytic_corrections = {p:[] for p in p_grid}\n",
    "    automated_monte_carlo_corrections = {p:[] for p in p_grid}\n",
    "    automated_monte_carlo_at_test = {p:[] for p in p_grid}\n",
    "    automated_monte_carlo_times = {p:[] for p in p_grid}\n",
    "    analytic_at_test = {p:[] for p in p_grid}\n",
    "    i_start = 0\n",
    "\n",
    "for i in range(i_start, N_trials):\n",
    "    for p in p_grid:\n",
    "        print(i, p)\n",
    "        D_train, D_test = generate_data(p, alpha, beta, N_train, N_test)\n",
    "        theta_hat, model_fitting_time = fit_params(D_train, p, alpha, beta)\n",
    "        model_fitting_times[p].append(model_fitting_time)\n",
    "\n",
    "        mle_guide = MLEGuide(theta_hat)\n",
    "        functional = functools.partial(ATEFunctional, num_monte_carlo=10000)\n",
    "        ate_plug_in = functional(\n",
    "            PredictiveModel(CausalGLM(p), mle_guide)\n",
    "        )()\n",
    "        analytic_correction, analytic_eif_at_test_pts = closed_form_doubly_robust_ate_correction(D_test, theta_hat)\n",
    "\n",
    "        start = time.time()\n",
    "        monte_eif = influence_fn(functional, D_test, num_samples_outer=10000, num_samples_inner=1)\n",
    "        monte_eif_at_test_pts = monte_eif(PredictiveModel(CausalGLM(p), mle_guide))()\n",
    "        end = time.time()\n",
    "        automated_monte_carlo_times[p].append(end - start)\n",
    "        automated_monte_carlo_at_test[p].append(monte_eif_at_test_pts)\n",
    "        analytic_at_test[p].append(analytic_eif_at_test_pts)\n",
    "\n",
    "        plug_in_ates[p].append(ate_plug_in.detach().item())\n",
    "        analytic_corrections[p].append(ate_plug_in.detach().item() + analytic_correction.detach().item())\n",
    "        # automated_monte_carlo_corrections[p].append(ate_plug_in.detach().item() + monte_eif_at_test_pts.mean().detach().item())\n",
    "\n",
    "    with open(RESULTS_PATH, 'wb') as f:\n",
    "        results = {\n",
    "            'plug_in_ates': plug_in_ates,\n",
    "            'model_fitting_times': model_fitting_times,\n",
    "            'analytic_corrections': analytic_corrections,\n",
    "            'automated_monte_carlo_corrections': automated_monte_carlo_corrections,\n",
    "            'automated_monte_carlo_at_test': automated_monte_carlo_at_test,\n",
    "            'automated_monte_carlo_times': automated_monte_carlo_times,\n",
    "            'analytic_at_test': analytic_at_test\n",
    "        }\n",
    "        pickle.dump(results, f)\n"
   ]
  },
  {
   "cell_type": "code",
   "execution_count": null,
   "metadata": {},
   "outputs": [],
   "source": [
    "def median_rel_error(x, y):\n",
    "    x = torch.tensor(x)\n",
    "    y = torch.tensor(y)\n",
    "    return torch.median(torch.abs(x - y) / torch.abs(y))"
   ]
  },
  {
   "cell_type": "code",
   "execution_count": null,
   "metadata": {},
   "outputs": [],
   "source": [
    "monte_eif_errors = {p: torch.tensor([median_rel_error(x, y) for x, y in zip(automated_monte_carlo_at_test[p], analytic_at_test[p])]) for p in p_grid}\n",
    "monte_eif_error_means = {p: monte_eif_errors[p].mean() for p in p_grid}\n",
    "monte_eif_error_stderrs = {p: monte_eif_errors[p].std() / math.sqrt(N_trials) for p in p_grid}"
   ]
  },
  {
   "cell_type": "code",
   "execution_count": null,
   "metadata": {},
   "outputs": [],
   "source": [
    "model_dimension_grid = [2 * p + 2 for p in p_grid]\n",
    "unpacked_model_dimension_grid = [2 * p + 2 for p in p_grid for _ in monte_eif_errors[p]]\n",
    "unpacked_monte_eif_errors = [e.item() for p in p_grid for e in monte_eif_errors[p]]"
   ]
  },
  {
   "cell_type": "code",
   "execution_count": null,
   "metadata": {},
   "outputs": [],
   "source": [
    "obs_rate_num"
   ]
  },
  {
   "cell_type": "code",
   "execution_count": null,
   "metadata": {},
   "outputs": [],
   "source": [
    "obs_rate_denom"
   ]
  },
  {
   "cell_type": "code",
   "execution_count": null,
   "metadata": {},
   "outputs": [],
   "source": [
    "plt.figure(figsize=(6, 4))\n",
    "\n",
    "plt.rcParams['text.usetex'] = True\n",
    "\n",
    "obs_slope, obs_intercept = np.polyfit(\n",
    "    np.log10(unpacked_model_dimension_grid), \n",
    "    np.log10(unpacked_monte_eif_errors), 1)\n",
    "\n",
    "theory_slope = 1/2\n",
    "theory_intercept = (np.log10(unpacked_monte_eif_errors) - theory_slope * np.log10(unpacked_model_dimension_grid)).mean()\n",
    "\n",
    "# Plot results\n",
    "plt.errorbar(model_dimension_grid, \n",
    "             list(monte_eif_error_means.values()), \n",
    "             yerr=list(monte_eif_error_stderrs.values()), \n",
    "             fmt='.-',\n",
    "             label='MC-EIF (10k Monte Carlo samples)',\n",
    "             color='#154c79',\n",
    "             marker='o')\n",
    "obs_rate_num = Fraction(int(round(8*obs_slope)),8).numerator\n",
    "obs_rate_denom = Fraction(int(round(8*obs_slope)),8).denominator\n",
    "plt.plot(model_dimension_grid, \n",
    "    10**obs_intercept * np.power(model_dimension_grid, obs_slope), \n",
    "    label='Estimated Error Rate: O($p^{7/16}$)',\n",
    "    color='red',\n",
    "    linestyle='--'\n",
    ")\n",
    "plt.plot(model_dimension_grid, \n",
    "    10**theory_intercept * np.power(model_dimension_grid, theory_slope), \n",
    "    label='Our Theory: O($p^{1/2}$)',\n",
    "    color='green',\n",
    "    linestyle='--'\n",
    ")\n",
    "plt.xscale('log')\n",
    "plt.yscale('log')\n",
    "plt.ylabel('Median Relative Error', fontsize=24)\n",
    "plt.xlabel('Model Dimension (p)', fontsize=24)\n",
    "sns.despine()\n",
    "plt.legend(fontsize=13)\n",
    "\n",
    "plt.yticks([0.01, 0.1, 0.5], fontsize=20)\n",
    "plt.xticks([10, 100, 1000], fontsize=20)\n",
    "plt.tight_layout()\n",
    "plt.savefig('./figures/error_rate_causal_glm_vs_dim.png')"
   ]
  },
  {
   "cell_type": "code",
   "execution_count": null,
   "metadata": {},
   "outputs": [],
   "source": [
    "model_fitting_times"
   ]
  },
  {
   "cell_type": "code",
   "execution_count": null,
   "metadata": {},
   "outputs": [],
   "source": [
    "automated_monte_carlo_time_means = {p: np.mean(automated_monte_carlo_times[p]) for p in p_grid}\n",
    "automated_monte_carlo_time_stderrs = {p: np.std(automated_monte_carlo_times[p]) / math.sqrt(N_trials) for p in p_grid}\n",
    "\n",
    "model_fitting_time_means = {p: np.mean(model_fitting_times[p]) for p in p_grid}\n",
    "model_fitting_time_stderrs = {p: np.std(model_fitting_times[p]) / math.sqrt(N_trials) for p in p_grid}"
   ]
  },
  {
   "cell_type": "code",
   "execution_count": null,
   "metadata": {},
   "outputs": [],
   "source": [
    "# Plot results\n",
    "\n",
    "plt.errorbar(model_dimension_grid, \n",
    "             list(automated_monte_carlo_time_means.values()), \n",
    "             yerr=list(automated_monte_carlo_time_stderrs.values()), \n",
    "             fmt='.-',\n",
    "             label='MC-EIF (10k Monte Carlo samples)',\n",
    "             color='#154c79',\n",
    "             marker='o')\n",
    "\n",
    "plt.errorbar(model_dimension_grid,\n",
    "                list(model_fitting_time_means.values()),\n",
    "                yerr=list(model_fitting_time_stderrs.values()),\n",
    "                fmt='.-',\n",
    "                label='Model Fitting Time',\n",
    "                color='#f95d6a',\n",
    "                marker='o'\n",
    "    )\n",
    "\n",
    "# plt.plot(\n",
    "#     model_dimension_grid, \n",
    "#     model_fitting_time, \n",
    "#     label='Model Fitting Time', \n",
    "#     color='#f95d6a',\n",
    "#     marker='o'\n",
    "\n",
    "# )\n",
    "# plt.xscale('log')\n",
    "# plt.yscale('log')\n",
    "plt.ylabel('Runtime (s)', fontsize=24)\n",
    "plt.xlabel('Model Dimension (p)', fontsize=24)\n",
    "sns.despine()\n",
    "plt.legend(fontsize=13)\n",
    "plt.tight_layout()\n",
    "# plt.yticks([0.1, 0.2, 0.3, 0.4, 0.5], fontsize=20)\n",
    "# plt.xticks([10, 100, 1000], fontsize=20)\n",
    "plt.savefig('./figures/runtime_causal_glm_vs_dim.png')"
   ]
  },
  {
   "cell_type": "code",
   "execution_count": null,
   "metadata": {},
   "outputs": [],
   "source": []
  }
 ],
 "metadata": {
  "kernelspec": {
   "display_name": "basis",
   "language": "python",
   "name": "python3"
  },
  "language_info": {
   "codemirror_mode": {
    "name": "ipython",
    "version": 3
   },
   "file_extension": ".py",
   "mimetype": "text/x-python",
   "name": "python",
   "nbconvert_exporter": "python",
   "pygments_lexer": "ipython3",
   "version": "3.11.4"
  }
 },
 "nbformat": 4,
 "nbformat_minor": 2
}

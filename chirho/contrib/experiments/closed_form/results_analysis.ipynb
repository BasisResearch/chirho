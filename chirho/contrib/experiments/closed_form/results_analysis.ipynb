{
 "cells": [
  {
   "cell_type": "code",
   "execution_count": 5,
   "metadata": {},
   "outputs": [
    {
     "name": "stdout",
     "output_type": "stream",
     "text": [
      "Requirement already satisfied: ray[tune] in /Users/sam-basis/opt/anaconda3/envs/chirho-dynamic/lib/python3.11/site-packages (2.9.2)\n",
      "Requirement already satisfied: click>=7.0 in /Users/sam-basis/opt/anaconda3/envs/chirho-dynamic/lib/python3.11/site-packages (from ray[tune]) (8.1.7)\n",
      "Requirement already satisfied: filelock in /Users/sam-basis/opt/anaconda3/envs/chirho-dynamic/lib/python3.11/site-packages (from ray[tune]) (3.12.3)\n",
      "Requirement already satisfied: jsonschema in /Users/sam-basis/opt/anaconda3/envs/chirho-dynamic/lib/python3.11/site-packages (from ray[tune]) (4.19.0)\n",
      "Requirement already satisfied: msgpack<2.0.0,>=1.0.0 in /Users/sam-basis/opt/anaconda3/envs/chirho-dynamic/lib/python3.11/site-packages (from ray[tune]) (1.0.7)\n",
      "Requirement already satisfied: packaging in /Users/sam-basis/opt/anaconda3/envs/chirho-dynamic/lib/python3.11/site-packages (from ray[tune]) (23.1)\n",
      "Requirement already satisfied: protobuf!=3.19.5,>=3.15.3 in /Users/sam-basis/opt/anaconda3/envs/chirho-dynamic/lib/python3.11/site-packages (from ray[tune]) (4.24.2)\n",
      "Requirement already satisfied: pyyaml in /Users/sam-basis/opt/anaconda3/envs/chirho-dynamic/lib/python3.11/site-packages (from ray[tune]) (6.0.1)\n",
      "Requirement already satisfied: aiosignal in /Users/sam-basis/opt/anaconda3/envs/chirho-dynamic/lib/python3.11/site-packages (from ray[tune]) (1.3.1)\n",
      "Requirement already satisfied: frozenlist in /Users/sam-basis/opt/anaconda3/envs/chirho-dynamic/lib/python3.11/site-packages (from ray[tune]) (1.4.0)\n",
      "Requirement already satisfied: requests in /Users/sam-basis/opt/anaconda3/envs/chirho-dynamic/lib/python3.11/site-packages (from ray[tune]) (2.31.0)\n",
      "Requirement already satisfied: pandas in /Users/sam-basis/opt/anaconda3/envs/chirho-dynamic/lib/python3.11/site-packages (from ray[tune]) (2.1.0)\n",
      "Collecting tensorboardX>=1.9 (from ray[tune])\n",
      "  Obtaining dependency information for tensorboardX>=1.9 from https://files.pythonhosted.org/packages/44/71/f3e7c9b2ab67e28c572ab4e9d5fa3499e0d252650f96d8a3a03e26677f53/tensorboardX-2.6.2.2-py2.py3-none-any.whl.metadata\n",
      "  Downloading tensorboardX-2.6.2.2-py2.py3-none-any.whl.metadata (5.8 kB)\n",
      "Collecting pyarrow>=6.0.1 (from ray[tune])\n",
      "  Obtaining dependency information for pyarrow>=6.0.1 from https://files.pythonhosted.org/packages/d5/fd/e7865a352e416f34057d6d6241c43d28901a67ce7531dca28c22fd4a6f36/pyarrow-15.0.0-cp311-cp311-macosx_10_15_x86_64.whl.metadata\n",
      "  Downloading pyarrow-15.0.0-cp311-cp311-macosx_10_15_x86_64.whl.metadata (3.0 kB)\n",
      "Requirement already satisfied: fsspec in /Users/sam-basis/opt/anaconda3/envs/chirho-dynamic/lib/python3.11/site-packages (from ray[tune]) (2023.6.0)\n",
      "Requirement already satisfied: numpy<2,>=1.16.6 in /Users/sam-basis/opt/anaconda3/envs/chirho-dynamic/lib/python3.11/site-packages (from pyarrow>=6.0.1->ray[tune]) (1.25.2)\n",
      "Requirement already satisfied: attrs>=22.2.0 in /Users/sam-basis/opt/anaconda3/envs/chirho-dynamic/lib/python3.11/site-packages (from jsonschema->ray[tune]) (23.1.0)\n",
      "Requirement already satisfied: jsonschema-specifications>=2023.03.6 in /Users/sam-basis/opt/anaconda3/envs/chirho-dynamic/lib/python3.11/site-packages (from jsonschema->ray[tune]) (2023.7.1)\n",
      "Requirement already satisfied: referencing>=0.28.4 in /Users/sam-basis/opt/anaconda3/envs/chirho-dynamic/lib/python3.11/site-packages (from jsonschema->ray[tune]) (0.30.2)\n",
      "Requirement already satisfied: rpds-py>=0.7.1 in /Users/sam-basis/opt/anaconda3/envs/chirho-dynamic/lib/python3.11/site-packages (from jsonschema->ray[tune]) (0.10.0)\n",
      "Requirement already satisfied: python-dateutil>=2.8.2 in /Users/sam-basis/opt/anaconda3/envs/chirho-dynamic/lib/python3.11/site-packages (from pandas->ray[tune]) (2.8.2)\n",
      "Requirement already satisfied: pytz>=2020.1 in /Users/sam-basis/opt/anaconda3/envs/chirho-dynamic/lib/python3.11/site-packages (from pandas->ray[tune]) (2023.3)\n",
      "Requirement already satisfied: tzdata>=2022.1 in /Users/sam-basis/opt/anaconda3/envs/chirho-dynamic/lib/python3.11/site-packages (from pandas->ray[tune]) (2023.3)\n",
      "Requirement already satisfied: charset-normalizer<4,>=2 in /Users/sam-basis/opt/anaconda3/envs/chirho-dynamic/lib/python3.11/site-packages (from requests->ray[tune]) (3.2.0)\n",
      "Requirement already satisfied: idna<4,>=2.5 in /Users/sam-basis/opt/anaconda3/envs/chirho-dynamic/lib/python3.11/site-packages (from requests->ray[tune]) (3.4)\n",
      "Requirement already satisfied: urllib3<3,>=1.21.1 in /Users/sam-basis/opt/anaconda3/envs/chirho-dynamic/lib/python3.11/site-packages (from requests->ray[tune]) (1.26.16)\n",
      "Requirement already satisfied: certifi>=2017.4.17 in /Users/sam-basis/opt/anaconda3/envs/chirho-dynamic/lib/python3.11/site-packages (from requests->ray[tune]) (2023.7.22)\n",
      "Requirement already satisfied: six>=1.5 in /Users/sam-basis/opt/anaconda3/envs/chirho-dynamic/lib/python3.11/site-packages (from python-dateutil>=2.8.2->pandas->ray[tune]) (1.16.0)\n",
      "Downloading pyarrow-15.0.0-cp311-cp311-macosx_10_15_x86_64.whl (27.2 MB)\n",
      "\u001b[2K   \u001b[90m━━━━━━━━━━━━━━━━━━━━━━━━━━━━━━━━━━━━━━━━\u001b[0m \u001b[32m27.2/27.2 MB\u001b[0m \u001b[31m41.8 MB/s\u001b[0m eta \u001b[36m0:00:00\u001b[0m00:01\u001b[0m00:01\u001b[0m\n",
      "\u001b[?25hDownloading tensorboardX-2.6.2.2-py2.py3-none-any.whl (101 kB)\n",
      "\u001b[2K   \u001b[90m━━━━━━━━━━━━━━━━━━━━━━━━━━━━━━━━━━━━━━━━\u001b[0m \u001b[32m101.7/101.7 kB\u001b[0m \u001b[31m13.2 MB/s\u001b[0m eta \u001b[36m0:00:00\u001b[0m\n",
      "\u001b[?25hInstalling collected packages: tensorboardX, pyarrow\n",
      "Successfully installed pyarrow-15.0.0 tensorboardX-2.6.2.2\n"
     ]
    }
   ],
   "source": [
    "! pip install ray\\[tune\\]"
   ]
  },
  {
   "cell_type": "code",
   "execution_count": 8,
   "metadata": {},
   "outputs": [],
   "source": [
    "\n",
    "from chirho.contrib.experiments.closed_form.mains.plotting.utils import Result, get_matching_metadata"
   ]
  },
  {
   "cell_type": "code",
   "execution_count": 11,
   "metadata": {},
   "outputs": [
    {
     "ename": "FileNotFoundError",
     "evalue": "[Errno 2] No such file or directory: 'chirho/contrib/experiments/closed_form/mains/plotting/results'",
     "output_type": "error",
     "traceback": [
      "\u001b[0;31m---------------------------------------------------------------------------\u001b[0m",
      "\u001b[0;31mFileNotFoundError\u001b[0m                         Traceback (most recent call last)",
      "Cell \u001b[0;32mIn[11], line 3\u001b[0m\n\u001b[1;32m      1\u001b[0m dir_path \u001b[38;5;241m=\u001b[39m \u001b[38;5;124m\"\u001b[39m\u001b[38;5;124mchirho/contrib/experiments/closed_form/mains/plotting/results\u001b[39m\u001b[38;5;124m\"\u001b[39m\n\u001b[0;32m----> 3\u001b[0m results \u001b[38;5;241m=\u001b[39m \u001b[43mResult\u001b[49m\u001b[38;5;241;43m.\u001b[39;49m\u001b[43mload_results_from_dir\u001b[49m\u001b[43m(\u001b[49m\u001b[43mdir_path\u001b[49m\u001b[43m)\u001b[49m\n\u001b[1;32m      5\u001b[0m all_zv_query \u001b[38;5;241m=\u001b[39m {\n\u001b[1;32m      6\u001b[0m     \u001b[38;5;124m\"\u001b[39m\u001b[38;5;124mproblem_setting_kwargs\u001b[39m\u001b[38;5;124m\"\u001b[39m: {\n\u001b[1;32m      7\u001b[0m         \u001b[38;5;124m\"\u001b[39m\u001b[38;5;124mn\u001b[39m\u001b[38;5;124m\"\u001b[39m: \u001b[38;5;241m4\u001b[39m,\n\u001b[0;32m   (...)\u001b[0m\n\u001b[1;32m     12\u001b[0m     }\n\u001b[1;32m     13\u001b[0m }\n\u001b[1;32m     14\u001b[0m all_zv_n4_rstar_6 \u001b[38;5;241m=\u001b[39m get_matching_metadata(metadatas_or_results\u001b[38;5;241m=\u001b[39mresults, sub_metadata\u001b[38;5;241m=\u001b[39mall_zv_query)\n",
      "File \u001b[0;32m~/Desktop/Research/chirho/chirho/contrib/experiments/closed_form/mains/plotting/utils.py:28\u001b[0m, in \u001b[0;36mResult.load_results_from_dir\u001b[0;34m(dir_path)\u001b[0m\n\u001b[1;32m     26\u001b[0m \u001b[38;5;129m@staticmethod\u001b[39m\n\u001b[1;32m     27\u001b[0m \u001b[38;5;28;01mdef\u001b[39;00m \u001b[38;5;21mload_results_from_dir\u001b[39m(dir_path: \u001b[38;5;28mstr\u001b[39m) \u001b[38;5;241m-\u001b[39m\u001b[38;5;241m>\u001b[39m List[\u001b[38;5;124m\"\u001b[39m\u001b[38;5;124mResult\u001b[39m\u001b[38;5;124m\"\u001b[39m]:\n\u001b[0;32m---> 28\u001b[0m     \u001b[38;5;28;01mreturn\u001b[39;00m [Result(m) \u001b[38;5;28;01mfor\u001b[39;00m m \u001b[38;5;129;01min\u001b[39;00m \u001b[43mload_metadata_from_dir\u001b[49m\u001b[43m(\u001b[49m\u001b[43mdir_path\u001b[49m\u001b[43m)\u001b[49m]\n",
      "File \u001b[0;32m~/Desktop/Research/chirho/chirho/contrib/experiments/closed_form/mains/utils.py:18\u001b[0m, in \u001b[0;36mload_metadata_from_dir\u001b[0;34m(dir_path)\u001b[0m\n\u001b[1;32m     11\u001b[0m \u001b[38;5;250m\u001b[39m\u001b[38;5;124;03m\"\"\"\u001b[39;00m\n\u001b[1;32m     12\u001b[0m \u001b[38;5;124;03mLoad all metadata.pkl files from the subdirectories of a directory.\u001b[39;00m\n\u001b[1;32m     13\u001b[0m \u001b[38;5;124;03mThis only checks that first level and doesn't recurse.\u001b[39;00m\n\u001b[1;32m     14\u001b[0m \u001b[38;5;124;03m:param dir_path: The directory to search.\u001b[39;00m\n\u001b[1;32m     15\u001b[0m \u001b[38;5;124;03m:return: A list of metadata dictionaries, with the path to the directory added as a key.\u001b[39;00m\n\u001b[1;32m     16\u001b[0m \u001b[38;5;124;03m\"\"\"\u001b[39;00m\n\u001b[1;32m     17\u001b[0m metadata \u001b[38;5;241m=\u001b[39m []\n\u001b[0;32m---> 18\u001b[0m \u001b[38;5;28;01mfor\u001b[39;00m subdir_ \u001b[38;5;129;01min\u001b[39;00m \u001b[43mos\u001b[49m\u001b[38;5;241;43m.\u001b[39;49m\u001b[43mlistdir\u001b[49m\u001b[43m(\u001b[49m\u001b[43mdir_path\u001b[49m\u001b[43m)\u001b[49m:\n\u001b[1;32m     19\u001b[0m     subdir \u001b[38;5;241m=\u001b[39m osp\u001b[38;5;241m.\u001b[39mjoin(dir_path, subdir_)\n\u001b[1;32m     20\u001b[0m     \u001b[38;5;28;01mif\u001b[39;00m \u001b[38;5;129;01mnot\u001b[39;00m osp\u001b[38;5;241m.\u001b[39misdir(subdir):\n",
      "\u001b[0;31mFileNotFoundError\u001b[0m: [Errno 2] No such file or directory: 'chirho/contrib/experiments/closed_form/mains/plotting/results'"
     ]
    }
   ],
   "source": [
    "dir_path = \"chirho/contrib/experiments/closed_form/mains/plotting/results\"\n",
    "\n",
    "results = Result.load_results_from_dir(dir_path)\n",
    "\n",
    "all_zv_query = {\n",
    "    \"problem_setting_kwargs\": {\n",
    "        \"n\": 4,\n",
    "        \"rstar\": 6.0\n",
    "    },\n",
    "    \"hparam_consts\": {\n",
    "        \"optimize_fn_name\": cfe.opt_with_zerovar_sgd.__name__,\n",
    "    }\n",
    "}\n",
    "all_zv_n4_rstar_6 = get_matching_metadata(metadatas_or_results=results, sub_metadata=all_zv_query)"
   ]
  },
  {
   "cell_type": "code",
   "execution_count": null,
   "metadata": {},
   "outputs": [],
   "source": []
  }
 ],
 "metadata": {
  "kernelspec": {
   "display_name": "chirho-dynamic",
   "language": "python",
   "name": "python3"
  },
  "language_info": {
   "codemirror_mode": {
    "name": "ipython",
    "version": 3
   },
   "file_extension": ".py",
   "mimetype": "text/x-python",
   "name": "python",
   "nbconvert_exporter": "python",
   "pygments_lexer": "ipython3",
   "version": "3.11.4"
  }
 },
 "nbformat": 4,
 "nbformat_minor": 2
}

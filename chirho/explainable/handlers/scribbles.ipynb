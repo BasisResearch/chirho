{
 "cells": [
  {
   "cell_type": "code",
   "execution_count": 1,
   "metadata": {},
   "outputs": [
    {
     "name": "stdout",
     "output_type": "stream",
     "text": [
      "env: CUDA_VISIBLE_DEVICES=-1\n"
     ]
    }
   ],
   "source": [
    "%env CUDA_VISIBLE_DEVICES=-1\n",
    "\n",
    "import os\n",
    "\n",
    "import pyro\n",
    "import pyro.distributions as dist\n",
    "import pyro.distributions.constraints as constraints\n",
    "import torch\n",
    "\n",
    "import matplotlib.pyplot as plt\n",
    "\n",
    "import pandas as pd\n",
    "\n",
    "\n",
    "from chirho.observational.handlers import condition\n",
    "from chirho.counterfactual.handlers.counterfactual import MultiWorldCounterfactual\n",
    "from chirho.explainable.handlers import SearchForExplanation, SearchForNS\n",
    "                                            \n",
    "from chirho.indexed.ops import (IndexSet, gather, indices_of) \n",
    "from chirho.interventional.handlers import do"
   ]
  },
  {
   "cell_type": "code",
   "execution_count": 2,
   "metadata": {},
   "outputs": [],
   "source": [
    "def ff_disjunctive():\n",
    "        match_dropped = pyro.sample(\"match_dropped\", dist.Bernoulli(0.7)) # notice uneven probs here\n",
    "        lightning = pyro.sample(\"lightning\", dist.Bernoulli(0.4))\n",
    "\n",
    "        forest_fire = pyro.deterministic(\"forest_fire\", torch.max(match_dropped, lightning), event_dim=0)\n",
    "\n",
    "        return {\"match_dropped\": match_dropped, \"lightning\": lightning,\n",
    "            \"forest_fire\": forest_fire}\n",
    "\n",
    "observations = {\"match_dropped\": torch.tensor(1.), \n",
    "                \"lightning\": torch.tensor(0.),\n",
    "                \"forest_fire\": torch.tensor(1.)}\n",
    "\n",
    "antecedents = {\"match_dropped\": 0.0} \n",
    "\n",
    "witnesses = {} # ignore witnesses for now\n",
    "\n",
    "consequents = {\"forest_fire\": constraints.boolean}\n"
   ]
  },
  {
   "cell_type": "code",
   "execution_count": 3,
   "metadata": {},
   "outputs": [
    {
     "name": "stdout",
     "output_type": "stream",
     "text": [
      "tensor([[[[[-inf, 0., -inf, 0., 0., 0., 0., 0., 0., -inf]]]]])\n"
     ]
    }
   ],
   "source": [
    "with MultiWorldCounterfactual() as ffd_mwc:  # needed to keep track of multiple scenarios\n",
    "    with SearchForExplanation(antecedents = antecedents, \n",
    "                              witnesses = witnesses,\n",
    "                              consequents = consequents,\n",
    "                              consequent_scale= 1e-8):\n",
    "        with condition(data = observations):\n",
    "            with pyro.plate(\"sample\", 10): # run a few times\n",
    "                with pyro.poutine.trace() as ffd_tr:\n",
    "                    ff_disjunctive()\n",
    "\n",
    "ffd_tr.trace.compute_log_prob() \n",
    "ffd_nd = ffd_tr.trace.nodes\n",
    "\n",
    "with ffd_mwc: \n",
    "    original_intervened = gather(ffd_nd['__consequent_forest_fire']['log_prob'], \n",
    "                IndexSet(**{'match_dropped': {1}}))\n",
    "    print(original_intervened)"
   ]
  },
  {
   "cell_type": "code",
   "execution_count": 4,
   "metadata": {},
   "outputs": [
    {
     "name": "stdout",
     "output_type": "stream",
     "text": [
      "tensor([[[[[0., -inf, -inf, 0., -inf, -inf, -inf, 0., -inf, -inf]]]]])\n",
      "IndexSet({'match_dropped': {0, 1}})\n"
     ]
    }
   ],
   "source": [
    "with MultiWorldCounterfactual() as ffd_ns_mwc:  # needed to keep track of multiple scenarios\n",
    "    with SearchForNS(antecedents = antecedents, \n",
    "                              witnesses = witnesses,\n",
    "                              consequents = consequents,\n",
    "                              consequent_scale= 1e-8):\n",
    "        with condition(data = observations):\n",
    "            with pyro.plate(\"sample\", 10): # run a few times\n",
    "                with pyro.poutine.trace() as ffd_ns_tr:\n",
    "                    ff_disjunctive()\n",
    "\n",
    "ffd_ns_tr.trace.compute_log_prob() \n",
    "ffd_ns_nd = ffd_ns_tr.trace.nodes\n",
    "\n",
    "with ffd_ns_mwc: \n",
    "    new_n_intervened = gather(ffd_ns_nd['__consequent_forest_fire']['log_prob'], \n",
    "                IndexSet(**{'match_dropped': {1}}))\n",
    "\n",
    "    print(new_n_intervened)\n",
    "    print(indices_of(ffd_ns_nd['forest_fire']['value']))\n",
    "\n",
    "assert new_n_intervened.shape ==  original_intervened.shape "
   ]
  }
 ],
 "metadata": {
  "kernelspec": {
   "display_name": "chirho",
   "language": "python",
   "name": "python3"
  },
  "language_info": {
   "codemirror_mode": {
    "name": "ipython",
    "version": 3
   },
   "file_extension": ".py",
   "mimetype": "text/x-python",
   "name": "python",
   "nbconvert_exporter": "python",
   "pygments_lexer": "ipython3",
   "version": "3.10.14"
  }
 },
 "nbformat": 4,
 "nbformat_minor": 2
}

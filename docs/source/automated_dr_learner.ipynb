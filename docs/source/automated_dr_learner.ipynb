{
 "cells": [
  {
   "attachments": {},
   "cell_type": "markdown",
   "metadata": {},
   "source": [
    "# Automated doubly robust estimation with ChiRho"
   ]
  },
  {
   "cell_type": "markdown",
   "metadata": {},
   "source": [
    "## Setup"
   ]
  },
  {
   "cell_type": "markdown",
   "metadata": {},
   "source": [
    "Here, we install the necessary Pytorch, Pyro, and ChiRho dependencies for this example."
   ]
  },
  {
   "cell_type": "code",
   "execution_count": 1,
   "metadata": {},
   "outputs": [],
   "source": [
    "from typing import Callable, Optional, Tuple\n",
    "\n",
    "import functools\n",
    "import torch\n",
    "import math\n",
    "import seaborn as sns\n",
    "import pandas as pd\n",
    "import numpy as np\n",
    "import matplotlib.pyplot as plt\n",
    "from tqdm.notebook import tqdm\n",
    "\n",
    "import pyro\n",
    "import pyro.distributions as dist\n",
    "\n",
    "from chirho.counterfactual.handlers import MultiWorldCounterfactual\n",
    "from chirho.indexed.ops import IndexSet, gather\n",
    "from chirho.interventional.handlers import do\n",
    "from chirho.observational.handlers.condition import condition\n",
    "from chirho.observational.handlers.predictive import PredictiveModel\n",
    "from chirho.robust.handlers.estimators import MonteCarloInfluenceEstimator, one_step_corrected_estimator \n",
    "\n",
    "pyro.settings.set(module_local_params=True)\n",
    "\n",
    "sns.set_style(\"white\")\n",
    "\n",
    "pyro.set_rng_seed(321) # for reproducibility"
   ]
  },
  {
   "cell_type": "markdown",
   "metadata": {},
   "source": [
    "## Overview: automated robust estimation pipeline\n",
    "\n",
    "In this tutorial, we will use ChiRho to estimate the average treatment effect (ATE) from observational data. We will use a simple example to illustrate the basic concepts of doubly robust estimation and how ChiRho can be used to automate the process for more general summaries of interest. \n",
    "\n",
    "There are five main steps to our doubly robust estimation procedure but only the last step is different from a standard probabilistic programming workflow:\n",
    "1. Write model of interest\n",
    "    - Define probabilistic model of interest using Pyro\n",
    "2. Feed in data\n",
    "    - Observed data used to train the model\n",
    "3. Run inference\n",
    "    - Use Pyro's rich inference library to fit the model to the data\n",
    "4. Define target functional\n",
    "    - This is the model summary of interest (e.g. average treatment effect)\n",
    "5. Compute robust estimate\n",
    "    - Use ChiRho to compute the doubly robust estimate of the target functional\n",
    "    - Importantly, this step is automated and does not require refitting the model for each new functional\n",
    "\n",
    "\n",
    "Our proposed automated robust inference pipeline is summarized in the figure below.\n",
    "\n",
    "![fig1](figures/robust_pipeline.png)"
   ]
  },
  {
   "attachments": {},
   "cell_type": "markdown",
   "metadata": {},
   "source": [
    "## Causal Probabilistic Program\n",
    "\n",
    "### Model Description\n",
    "In this example, we will focus on a cannonical model `CausalGLM` consisting of three types of variables: binary treatment (`A`), confounders (`X`), and response (`Y`). For simplicitly, we assume that the response is generated from a generalized linear model with link function $g$. The model is described by the following generative process:\n",
    "\n",
    "$$\n",
    "\\begin{align*}\n",
    "X &\\sim \\text{Normal}(0, I_p) \\\\\n",
    "A &\\sim \\text{Bernoulli}(\\pi(X)) \\\\\n",
    "\\mu &= \\beta_0 + \\beta_1^T X + \\tau A \\\\\n",
    "Y &\\sim \\text{ExponentialFamily}(\\text{mean} = g^{-1}(\\mu))\n",
    "\\end{align*}\n",
    "$$\n",
    "\n",
    "where $p$ denotes the number of confounders, $\\pi(X)$ is the probability of treatment conditional on confounders $X$, $\\beta_0$ is the intercept, $\\beta_1$ is the confounder effect, and $\\tau$ is the treatment effect."
   ]
  },
  {
   "cell_type": "code",
   "execution_count": 2,
   "metadata": {},
   "outputs": [],
   "source": [
    "gaussian_link = lambda mu: dist.Normal(mu, 0.3)\n",
    "# bernoulli_link = lambda mu: dist.Bernoulli(logits=mu)\n",
    "relaxed_bernoulli_link = lambda mu: dist.RelaxedBernoulli(temperature=torch.tensor(0.01), logits=mu)\n",
    "\n",
    "default_link = gaussian_link\n",
    "\n",
    "vi_family = pyro.infer.autoguide.AutoDelta\n",
    "vi_steps = 5000\n",
    "N_datasets = 60\n",
    "\n",
    "class CausalGLM(pyro.nn.PyroModule):\n",
    "    def __init__(\n",
    "        self,\n",
    "        p: int,\n",
    "        link_fn: Callable[..., dist.Distribution] = default_link,\n",
    "        prior_scale: Optional[float] = None,\n",
    "    ):\n",
    "        super().__init__()\n",
    "        self.p = p\n",
    "        self.link_fn = link_fn\n",
    "        if prior_scale is None:\n",
    "            self.prior_scale = 1 / math.sqrt(self.p)\n",
    "        else:\n",
    "            self.prior_scale = prior_scale\n",
    "\n",
    "    @pyro.nn.PyroSample\n",
    "    def outcome_weights(self):\n",
    "        return dist.Normal(0.0, self.prior_scale).expand((self.p,)).to_event(1)\n",
    "\n",
    "    @pyro.nn.PyroSample\n",
    "    def intercept(self):\n",
    "        return dist.Normal(0.0, 1.0)\n",
    "\n",
    "    @pyro.nn.PyroSample\n",
    "    def propensity_weights(self):\n",
    "        return dist.Normal(0.0, self.prior_scale).expand((self.p,)).to_event(1)\n",
    "\n",
    "    @pyro.nn.PyroSample\n",
    "    def treatment_weight(self):\n",
    "        return dist.Normal(0.0, 1.0)\n",
    "\n",
    "    @property\n",
    "    def covariate_loc(self):\n",
    "        return torch.zeros(self.p)\n",
    "    \n",
    "    @property\n",
    "    def covariate_scale(self):\n",
    "        return torch.ones(self.p)\n",
    "\n",
    "    def forward(self):\n",
    "        X = pyro.sample(\"X\", dist.Normal(self.covariate_loc, self.covariate_scale).to_event(1))\n",
    "        A = pyro.sample(\n",
    "            \"A\",\n",
    "            dist.Bernoulli(\n",
    "                logits=torch.einsum(\"...i,...i->...\", X, self.propensity_weights)\n",
    "            ),\n",
    "        )\n",
    "\n",
    "        return pyro.sample(\n",
    "            \"Y\",\n",
    "            self.link_fn(\n",
    "                torch.einsum(\"...i,...i->...\", X, self.outcome_weights) + A * self.treatment_weight + self.intercept\n",
    "            ),\n",
    "        )"
   ]
  },
  {
   "cell_type": "markdown",
   "metadata": {},
   "source": [
    "Next, we will condition on both treatment and confounders to estimate the causal effect of treatment on the outcome. We will use the following causal probabilistic program to do so:"
   ]
  },
  {
   "cell_type": "code",
   "execution_count": 3,
   "metadata": {},
   "outputs": [],
   "source": [
    "class ConditionedModel(CausalGLM):\n",
    "\n",
    "    def forward(self, *, X: torch.Tensor, A: torch.Tensor, Y: torch.Tensor):\n",
    "        with condition(data={\"X\": X, \"A\": A, \"Y\": Y}):\n",
    "            self.intercept, self.outcome_weights, self.propensity_weights, self.treatment_weight\n",
    "            with pyro.plate(\"__train__\", size=X.shape[0], dim=-1):\n",
    "                return super().forward()"
   ]
  },
  {
   "cell_type": "code",
   "execution_count": 4,
   "metadata": {},
   "outputs": [
    {
     "data": {
      "image/svg+xml": [
       "<?xml version=\"1.0\" encoding=\"UTF-8\" standalone=\"no\"?>\n",
       "<!DOCTYPE svg PUBLIC \"-//W3C//DTD SVG 1.1//EN\"\n",
       " \"http://www.w3.org/Graphics/SVG/1.1/DTD/svg11.dtd\">\n",
       "<!-- Generated by graphviz version 12.1.2 (20240928.0832)\n",
       " -->\n",
       "<!-- Pages: 1 -->\n",
       "<svg width=\"565pt\" height=\"316pt\"\n",
       " viewBox=\"0.00 0.00 564.54 316.00\" xmlns=\"http://www.w3.org/2000/svg\" xmlns:xlink=\"http://www.w3.org/1999/xlink\">\n",
       "<g id=\"graph0\" class=\"graph\" transform=\"scale(1 1) rotate(0) translate(4 312)\">\n",
       "<polygon fill=\"white\" stroke=\"none\" points=\"-4,4 -4,-312 560.54,-312 560.54,4 -4,4\"/>\n",
       "<g id=\"clust1\" class=\"cluster\">\n",
       "<title>cluster___train__</title>\n",
       "<polygon fill=\"none\" stroke=\"black\" points=\"96.16,-8 96.16,-272.25 186.16,-272.25 186.16,-8 96.16,-8\"/>\n",
       "<text text-anchor=\"middle\" x=\"152.29\" y=\"-15.2\" font-family=\"Times,serif\" font-size=\"14.00\">__train__</text>\n",
       "</g>\n",
       "<!-- intercept -->\n",
       "<g id=\"node1\" class=\"node\">\n",
       "<title>intercept</title>\n",
       "<ellipse fill=\"white\" stroke=\"black\" cx=\"43.16\" cy=\"-130.5\" rx=\"43.16\" ry=\"18\"/>\n",
       "<text text-anchor=\"middle\" x=\"43.16\" y=\"-125.45\" font-family=\"Times,serif\" font-size=\"14.00\">intercept</text>\n",
       "</g>\n",
       "<!-- Y -->\n",
       "<g id=\"node7\" class=\"node\">\n",
       "<title>Y</title>\n",
       "<ellipse fill=\"gray\" stroke=\"black\" cx=\"151.16\" cy=\"-58.5\" rx=\"27\" ry=\"18\"/>\n",
       "<text text-anchor=\"middle\" x=\"151.16\" y=\"-53.45\" font-family=\"Times,serif\" font-size=\"14.00\">Y</text>\n",
       "</g>\n",
       "<!-- intercept&#45;&gt;Y -->\n",
       "<g id=\"edge3\" class=\"edge\">\n",
       "<title>intercept&#45;&gt;Y</title>\n",
       "<path fill=\"none\" stroke=\"black\" d=\"M65.8,-114.83C82.4,-104.07 105.04,-89.39 122.84,-77.86\"/>\n",
       "<polygon fill=\"black\" stroke=\"black\" points=\"124.4,-81.02 130.89,-72.64 120.59,-75.14 124.4,-81.02\"/>\n",
       "</g>\n",
       "<!-- outcome_weights -->\n",
       "<g id=\"node2\" class=\"node\">\n",
       "<title>outcome_weights</title>\n",
       "<ellipse fill=\"white\" stroke=\"black\" cx=\"272.16\" cy=\"-130.5\" rx=\"76.43\" ry=\"18\"/>\n",
       "<text text-anchor=\"middle\" x=\"272.16\" y=\"-125.45\" font-family=\"Times,serif\" font-size=\"14.00\">outcome_weights</text>\n",
       "</g>\n",
       "<!-- outcome_weights&#45;&gt;Y -->\n",
       "<g id=\"edge4\" class=\"edge\">\n",
       "<title>outcome_weights&#45;&gt;Y</title>\n",
       "<path fill=\"none\" stroke=\"black\" d=\"M244.4,-113.44C225.48,-102.49 200.43,-88 181.07,-76.8\"/>\n",
       "<polygon fill=\"black\" stroke=\"black\" points=\"182.96,-73.85 172.56,-71.88 179.46,-79.91 182.96,-73.85\"/>\n",
       "</g>\n",
       "<!-- propensity_weights -->\n",
       "<g id=\"node3\" class=\"node\">\n",
       "<title>propensity_weights</title>\n",
       "<ellipse fill=\"white\" stroke=\"black\" cx=\"277.16\" cy=\"-246.25\" rx=\"83.08\" ry=\"18\"/>\n",
       "<text text-anchor=\"middle\" x=\"277.16\" y=\"-241.2\" font-family=\"Times,serif\" font-size=\"14.00\">propensity_weights</text>\n",
       "</g>\n",
       "<!-- A -->\n",
       "<g id=\"node6\" class=\"node\">\n",
       "<title>A</title>\n",
       "<ellipse fill=\"gray\" stroke=\"black\" cx=\"151.16\" cy=\"-130.5\" rx=\"27\" ry=\"18\"/>\n",
       "<text text-anchor=\"middle\" x=\"151.16\" y=\"-125.45\" font-family=\"Times,serif\" font-size=\"14.00\">A</text>\n",
       "</g>\n",
       "<!-- propensity_weights&#45;&gt;A -->\n",
       "<g id=\"edge1\" class=\"edge\">\n",
       "<title>propensity_weights&#45;&gt;A</title>\n",
       "<path fill=\"none\" stroke=\"black\" d=\"M258.57,-228.47C236.38,-208.43 199.23,-174.89 174.96,-152.98\"/>\n",
       "<polygon fill=\"black\" stroke=\"black\" points=\"177.54,-150.6 167.78,-146.5 172.85,-155.8 177.54,-150.6\"/>\n",
       "</g>\n",
       "<!-- treatment_weight -->\n",
       "<g id=\"node4\" class=\"node\">\n",
       "<title>treatment_weight</title>\n",
       "<ellipse fill=\"white\" stroke=\"black\" cx=\"442.16\" cy=\"-130.5\" rx=\"75.92\" ry=\"18\"/>\n",
       "<text text-anchor=\"middle\" x=\"442.16\" y=\"-125.45\" font-family=\"Times,serif\" font-size=\"14.00\">treatment_weight</text>\n",
       "</g>\n",
       "<!-- treatment_weight&#45;&gt;Y -->\n",
       "<g id=\"edge5\" class=\"edge\">\n",
       "<title>treatment_weight&#45;&gt;Y</title>\n",
       "<path fill=\"none\" stroke=\"black\" d=\"M390.14,-116.99C331.75,-102.94 238.52,-80.51 187.48,-68.24\"/>\n",
       "<polygon fill=\"black\" stroke=\"black\" points=\"188.37,-64.85 177.83,-65.92 186.74,-71.66 188.37,-64.85\"/>\n",
       "</g>\n",
       "<!-- X -->\n",
       "<g id=\"node5\" class=\"node\">\n",
       "<title>X</title>\n",
       "<ellipse fill=\"gray\" stroke=\"black\" cx=\"140.16\" cy=\"-246.25\" rx=\"27\" ry=\"18\"/>\n",
       "<text text-anchor=\"middle\" x=\"140.16\" y=\"-241.2\" font-family=\"Times,serif\" font-size=\"14.00\">X</text>\n",
       "</g>\n",
       "<!-- X&#45;&gt;A -->\n",
       "<g id=\"edge2\" class=\"edge\">\n",
       "<title>X&#45;&gt;A</title>\n",
       "<path fill=\"none\" stroke=\"black\" d=\"M141.83,-227.97C143.57,-210.02 146.32,-181.61 148.38,-160.26\"/>\n",
       "<polygon fill=\"black\" stroke=\"black\" points=\"151.85,-160.74 149.33,-150.45 144.88,-160.06 151.85,-160.74\"/>\n",
       "</g>\n",
       "<!-- X&#45;&gt;Y -->\n",
       "<g id=\"edge6\" class=\"edge\">\n",
       "<title>X&#45;&gt;Y</title>\n",
       "<path fill=\"none\" stroke=\"black\" d=\"M131.96,-228.61C120.55,-203.18 102.62,-153.3 115.16,-112.5 118.35,-102.15 124.31,-92.01 130.49,-83.41\"/>\n",
       "<polygon fill=\"black\" stroke=\"black\" points=\"133.15,-85.69 136.49,-75.63 127.61,-81.41 133.15,-85.69\"/>\n",
       "</g>\n",
       "<!-- A&#45;&gt;Y -->\n",
       "<g id=\"edge7\" class=\"edge\">\n",
       "<title>A&#45;&gt;Y</title>\n",
       "<path fill=\"none\" stroke=\"black\" d=\"M151.16,-112.2C151.16,-104.91 151.16,-96.23 151.16,-88.04\"/>\n",
       "<polygon fill=\"black\" stroke=\"black\" points=\"154.66,-88.12 151.16,-78.12 147.66,-88.12 154.66,-88.12\"/>\n",
       "</g>\n",
       "<!-- distribution_description_node -->\n",
       "<g id=\"node8\" class=\"node\">\n",
       "<title>distribution_description_node</title>\n",
       "<text text-anchor=\"start\" x=\"385.79\" y=\"-290.7\" font-family=\"Times,serif\" font-size=\"14.00\">intercept ~ Normal</text>\n",
       "<text text-anchor=\"start\" x=\"385.79\" y=\"-274.2\" font-family=\"Times,serif\" font-size=\"14.00\">outcome_weights ~ Normal</text>\n",
       "<text text-anchor=\"start\" x=\"385.79\" y=\"-257.7\" font-family=\"Times,serif\" font-size=\"14.00\">propensity_weights ~ Normal</text>\n",
       "<text text-anchor=\"start\" x=\"385.79\" y=\"-241.2\" font-family=\"Times,serif\" font-size=\"14.00\">treatment_weight ~ Normal</text>\n",
       "<text text-anchor=\"start\" x=\"385.79\" y=\"-224.7\" font-family=\"Times,serif\" font-size=\"14.00\">X ~ Normal</text>\n",
       "<text text-anchor=\"start\" x=\"385.79\" y=\"-208.2\" font-family=\"Times,serif\" font-size=\"14.00\">A ~ Bernoulli</text>\n",
       "<text text-anchor=\"start\" x=\"385.79\" y=\"-191.7\" font-family=\"Times,serif\" font-size=\"14.00\">Y ~ Normal</text>\n",
       "</g>\n",
       "</g>\n",
       "</svg>\n"
      ],
      "text/plain": [
       "<graphviz.graphs.Digraph at 0x326b72a90>"
      ]
     },
     "execution_count": 4,
     "metadata": {},
     "output_type": "execute_result"
    }
   ],
   "source": [
    "# Visualize the model\n",
    "pyro.render_model(\n",
    "    lambda: ConditionedModel(p=1)(X=torch.zeros(1, 1), A=torch.zeros(1), Y=torch.zeros(1)),\n",
    "    render_params=True, \n",
    "    render_distributions=True\n",
    ")"
   ]
  },
  {
   "cell_type": "markdown",
   "metadata": {},
   "source": [
    "### Generating data\n",
    "\n",
    "For evaluation, we generate `N_datasets` datasets, each with `N` samples. We compare vanilla estimates of the target functional with the double robust estimates of the target functional across the `N_sims` datasets. We use a similar data generating process as in Kennedy (2022)."
   ]
  },
  {
   "cell_type": "code",
   "execution_count": 5,
   "metadata": {},
   "outputs": [],
   "source": [
    "class GroundTruthModel(CausalGLM):\n",
    "    def __init__(\n",
    "        self,\n",
    "        p: int,\n",
    "        alpha: int,\n",
    "        beta: int,\n",
    "        link_fn: Callable[..., dist.Distribution] = default_link,\n",
    "    ):\n",
    "        super().__init__(p, link_fn)\n",
    "        self.alpha = alpha  # sparsity of propensity weights\n",
    "        self.beta = beta  # sparsity of outcome weights\n",
    "\n",
    "    @property\n",
    "    def outcome_weights(self):\n",
    "        weights = torch.zeros(self.p)\n",
    "        weights[:self.beta] = 0.5  # Weaker outcome effects\n",
    "        return weights\n",
    "    \n",
    "    @property\n",
    "    def propensity_weights(self):\n",
    "        # Strong but very simple propensity model\n",
    "        weights = torch.zeros(self.p)\n",
    "        weights[:self.alpha] = 1.0  # Strong enough for clear assignment\n",
    "        return weights\n",
    "\n",
    "    @property\n",
    "    def treatment_weight(self):\n",
    "        return torch.tensor(0.)\n",
    "\n",
    "    @property\n",
    "    def intercept(self):\n",
    "        return torch.tensor(0.0)\n"
   ]
  },
  {
   "cell_type": "code",
   "execution_count": 6,
   "metadata": {},
   "outputs": [
    {
     "data": {
      "application/vnd.jupyter.widget-view+json": {
       "model_id": "1d0fe10a65e9496c864555cf3ca6e575",
       "version_major": 2,
       "version_minor": 0
      },
      "text/plain": [
       "  0%|          | 0/60 [00:00<?, ?it/s]"
      ]
     },
     "metadata": {},
     "output_type": "display_data"
    }
   ],
   "source": [
    "# N_datasets = 100\n",
    "simulated_datasets = []\n",
    "\n",
    "# Data configuration\n",
    "p = 30\n",
    "alpha = 2\n",
    "beta = 5\n",
    "N_train = 500\n",
    "N_test = 500\n",
    "\n",
    "true_model = GroundTruthModel(p, alpha, beta)\n",
    "\n",
    "for _ in tqdm(range(N_datasets)):\n",
    "    # Generate data\n",
    "    D_train = pyro.infer.Predictive(\n",
    "        true_model, num_samples=N_train, return_sites=[\"X\", \"A\", \"Y\"], parallel=True\n",
    "    )()\n",
    "    D_test = pyro.infer.Predictive(\n",
    "        true_model, num_samples=N_test, return_sites=[\"X\", \"A\", \"Y\"], parallel=True\n",
    "    )()\n",
    "    simulated_datasets.append((D_train, D_test))"
   ]
  },
  {
   "cell_type": "markdown",
   "metadata": {},
   "source": [
    "### Fit parameters via maximum likelihood"
   ]
  },
  {
   "cell_type": "code",
   "execution_count": 7,
   "metadata": {},
   "outputs": [
    {
     "data": {
      "application/vnd.jupyter.widget-view+json": {
       "model_id": "b904d2712e1d48e6bdc11264d5856476",
       "version_major": 2,
       "version_minor": 0
      },
      "text/plain": [
       "  0%|          | 0/60 [00:00<?, ?it/s]"
      ]
     },
     "metadata": {},
     "output_type": "display_data"
    }
   ],
   "source": [
    "trained_guides = []\n",
    "for i in tqdm(range(N_datasets)):\n",
    "    # Generate data\n",
    "    D_train = simulated_datasets[i][0]\n",
    "\n",
    "    # Fit model using maximum likelihood\n",
    "    conditioned_model = ConditionedModel(p=D_train[\"X\"].shape[1])\n",
    "    \n",
    "    guide_train = vi_family(conditioned_model)\n",
    "    elbo = pyro.infer.Trace_ELBO()(conditioned_model, guide_train)\n",
    "\n",
    "    # initialize parameters\n",
    "    elbo(X=D_train[\"X\"], A=D_train[\"A\"], Y=D_train[\"Y\"])\n",
    "    adam = torch.optim.Adam(elbo.parameters(), lr=0.03)\n",
    "\n",
    "    # Do gradient steps\n",
    "    for _ in range(vi_steps):\n",
    "        adam.zero_grad()\n",
    "        loss = elbo(X=D_train[\"X\"], A=D_train[\"A\"], Y=D_train[\"Y\"])\n",
    "        loss.backward()\n",
    "        adam.step()\n",
    "\n",
    "    trained_guides.append(guide_train)"
   ]
  },
  {
   "cell_type": "markdown",
   "metadata": {},
   "source": [
    "## Causal Query: Average treatment effect (ATE)\n",
    "\n",
    "The average treatment effect summarizes, on average, how much the treatment changes the response, $ATE = \\mathbb{E}[Y|do(A=1)] - \\mathbb{E}[Y|do(A=0)]$. The `do` notation indicates that the expectations are taken according to *intervened* versions of the model, with $A$ set to a particular value. Note from our [tutorial](tutorial_i.ipynb) that this is different from conditioning on $A$ in the original `causal_model`, which assumes $X$ and $T$ are dependent.\n",
    "\n",
    "\n",
    "To implement this query in ChiRho, we define the `ATEFunctional` class which take in a `model` and `guide` and returns the average treatment effect by simulating from the posterior predictive distribution of the model and guide."
   ]
  },
  {
   "cell_type": "markdown",
   "metadata": {},
   "source": [
    "### Defining the target functional"
   ]
  },
  {
   "cell_type": "code",
   "execution_count": 8,
   "metadata": {},
   "outputs": [],
   "source": [
    "class ATEFunctional(torch.nn.Module):\n",
    "    def __init__(self, model: Callable, *, num_monte_carlo: int = 100):\n",
    "        super().__init__()\n",
    "        self.model = model\n",
    "        self.num_monte_carlo = num_monte_carlo\n",
    "    \n",
    "    def forward(self, *args, **kwargs):\n",
    "        with MultiWorldCounterfactual():\n",
    "            with pyro.plate(\"monte_carlo_functional\", size=self.num_monte_carlo, dim=-2):\n",
    "                with do(actions=dict(A=(torch.tensor(0.0), torch.tensor(1.0)))):\n",
    "                    Ys = self.model(*args, **kwargs)\n",
    "                Y0 = gather(Ys, IndexSet(A={1}), event_dim=0)\n",
    "                Y1 = gather(Ys, IndexSet(A={2}), event_dim=0)\n",
    "        ate = (Y1 - Y0).mean(dim=-2, keepdim=True).mean(dim=-1, keepdim=True).squeeze()\n",
    "        return pyro.deterministic(\"ATE\", ate)"
   ]
  },
  {
   "cell_type": "markdown",
   "metadata": {},
   "source": [
    "### Closed form doubly robust correction\n",
    "\n",
    "For the average treatment effect functional, there exists a closed-form analytical formula for the doubly robust correction. This formula is derived in Kennedy (2022) and is implemented below:"
   ]
  },
  {
   "cell_type": "code",
   "execution_count": 9,
   "metadata": {},
   "outputs": [],
   "source": [
    "# Closed form expression\n",
    "def closed_form_doubly_robust_ate_correction(X_test, theta) -> Tuple[torch.Tensor, torch.Tensor]:\n",
    "    X = X_test[\"X\"]\n",
    "    A = X_test[\"A\"]\n",
    "    Y = X_test[\"Y\"]\n",
    "    pi_X = torch.sigmoid(X.mv(theta[\"propensity_weights\"]))\n",
    "    mu_X = (\n",
    "            X.mv(theta[\"outcome_weights\"])\n",
    "            + A * theta[\"treatment_weight\"]\n",
    "            + theta[\"intercept\"]\n",
    "        )\n",
    "    \n",
    "    if default_link == relaxed_bernoulli_link:\n",
    "        mu_X = torch.sigmoid(mu_X)\n",
    "    \n",
    "    analytic_eif_at_test_pts = (A / pi_X - (1 - A) / (1 - pi_X)) * (Y - mu_X)\n",
    "    analytic_correction = analytic_eif_at_test_pts.mean()\n",
    "    return analytic_correction, analytic_eif_at_test_pts"
   ]
  },
  {
   "cell_type": "markdown",
   "metadata": {},
   "source": [
    "### Computing automated doubly robust correction via Monte Carlo\n",
    "\n",
    "While the doubly robust correction term is known in closed-form for the average treatment effect functional, our `one_step_correction` function in `ChiRho` works for a wide class of other functionals. We focus on the average treatment effect functional here so that we have a ground truth to compare `one_step_correction` against."
   ]
  },
  {
   "cell_type": "code",
   "execution_count": 10,
   "metadata": {},
   "outputs": [
    {
     "data": {
      "application/vnd.jupyter.widget-view+json": {
       "model_id": "d4ece69b14704d1b81b38b327a4e29f2",
       "version_major": 2,
       "version_minor": 0
      },
      "text/plain": [
       "  0%|          | 0/60 [00:00<?, ?it/s]"
      ]
     },
     "metadata": {},
     "output_type": "display_data"
    },
    {
     "name": "stderr",
     "output_type": "stream",
     "text": [
      "/Users/dima/git/chirho/chirho/robust/handlers/estimators.py:72: UserWarning: Calling influence_fn with torch.grad enabled can lead to memory leaks. Please use torch.no_grad() to avoid this issue. See example in the docstring.\n",
      "  warnings.warn(\n"
     ]
    }
   ],
   "source": [
    "# Compute doubly robust ATE estimates using both the automated and closed form expressions\n",
    "plug_in_ates = []\n",
    "analytic_corrections = []\n",
    "automated_monte_carlo_corrections = []\n",
    "for i in tqdm(range(N_datasets)):\n",
    "    trained_guide = trained_guides[i]\n",
    "    D_test = simulated_datasets[i][1]\n",
    "    functional = functools.partial(ATEFunctional, num_monte_carlo=10000)\n",
    "    ate_plug_in = functional(\n",
    "        PredictiveModel(CausalGLM(p), trained_guide)\n",
    "    )()\n",
    "    analytic_correction, analytic_eif_at_test_pts = closed_form_doubly_robust_ate_correction(D_test, trained_guide(**D_test))\n",
    "    with MonteCarloInfluenceEstimator(num_samples_outer=max(10000, 100 * p), num_samples_inner=1):\n",
    "        automated_monte_carlo_correction = one_step_corrected_estimator(functional, D_test)(\n",
    "            PredictiveModel(CausalGLM(p), trained_guide)\n",
    "        )()\n",
    "\n",
    "    plug_in_ates.append(ate_plug_in.detach().item())\n",
    "    analytic_corrections.append(ate_plug_in.detach().item() + analytic_correction.detach().item())\n",
    "    automated_monte_carlo_corrections.append(automated_monte_carlo_correction.detach().item())\n",
    "\n",
    "plug_in_ates = np.array(plug_in_ates)\n",
    "analytic_corrections = np.array(analytic_corrections)\n",
    "automated_monte_carlo_corrections = np.array(automated_monte_carlo_corrections)"
   ]
  },
  {
   "cell_type": "markdown",
   "metadata": {},
   "source": [
    "## Results"
   ]
  },
  {
   "cell_type": "code",
   "execution_count": 11,
   "metadata": {},
   "outputs": [],
   "source": [
    "results = pd.DataFrame(\n",
    "    {\n",
    "        \"plug_in_ate\": plug_in_ates,\n",
    "        \"analytic_correction\": analytic_corrections,\n",
    "        \"automated_monte_carlo_correction\": automated_monte_carlo_corrections,\n",
    "    }\n",
    ")"
   ]
  },
  {
   "cell_type": "code",
   "execution_count": 12,
   "metadata": {},
   "outputs": [
    {
     "data": {
      "text/html": [
       "<div>\n",
       "<style scoped>\n",
       "    .dataframe tbody tr th:only-of-type {\n",
       "        vertical-align: middle;\n",
       "    }\n",
       "\n",
       "    .dataframe tbody tr th {\n",
       "        vertical-align: top;\n",
       "    }\n",
       "\n",
       "    .dataframe thead th {\n",
       "        text-align: right;\n",
       "    }\n",
       "</style>\n",
       "<table border=\"1\" class=\"dataframe\">\n",
       "  <thead>\n",
       "    <tr style=\"text-align: right;\">\n",
       "      <th></th>\n",
       "      <th>plug_in_ate</th>\n",
       "      <th>analytic_correction</th>\n",
       "      <th>automated_monte_carlo_correction</th>\n",
       "    </tr>\n",
       "  </thead>\n",
       "  <tbody>\n",
       "    <tr>\n",
       "      <th>count</th>\n",
       "      <td>60.00</td>\n",
       "      <td>60.00</td>\n",
       "      <td>60.00</td>\n",
       "    </tr>\n",
       "    <tr>\n",
       "      <th>mean</th>\n",
       "      <td>0.00</td>\n",
       "      <td>-0.00</td>\n",
       "      <td>-0.00</td>\n",
       "    </tr>\n",
       "    <tr>\n",
       "      <th>std</th>\n",
       "      <td>0.04</td>\n",
       "      <td>0.03</td>\n",
       "      <td>0.03</td>\n",
       "    </tr>\n",
       "    <tr>\n",
       "      <th>min</th>\n",
       "      <td>-0.10</td>\n",
       "      <td>-0.07</td>\n",
       "      <td>-0.07</td>\n",
       "    </tr>\n",
       "    <tr>\n",
       "      <th>25%</th>\n",
       "      <td>-0.02</td>\n",
       "      <td>-0.02</td>\n",
       "      <td>-0.02</td>\n",
       "    </tr>\n",
       "    <tr>\n",
       "      <th>50%</th>\n",
       "      <td>0.01</td>\n",
       "      <td>-0.01</td>\n",
       "      <td>-0.01</td>\n",
       "    </tr>\n",
       "    <tr>\n",
       "      <th>75%</th>\n",
       "      <td>0.03</td>\n",
       "      <td>0.01</td>\n",
       "      <td>0.01</td>\n",
       "    </tr>\n",
       "    <tr>\n",
       "      <th>max</th>\n",
       "      <td>0.08</td>\n",
       "      <td>0.08</td>\n",
       "      <td>0.08</td>\n",
       "    </tr>\n",
       "  </tbody>\n",
       "</table>\n",
       "</div>"
      ],
      "text/plain": [
       "       plug_in_ate  analytic_correction  automated_monte_carlo_correction\n",
       "count        60.00                60.00                             60.00\n",
       "mean          0.00                -0.00                             -0.00\n",
       "std           0.04                 0.03                              0.03\n",
       "min          -0.10                -0.07                             -0.07\n",
       "25%          -0.02                -0.02                             -0.02\n",
       "50%           0.01                -0.01                             -0.01\n",
       "75%           0.03                 0.01                              0.01\n",
       "max           0.08                 0.08                              0.08"
      ]
     },
     "execution_count": 12,
     "metadata": {},
     "output_type": "execute_result"
    }
   ],
   "source": [
    "# The true treatment effect is 0, so a mean estimate closer to zero is better\n",
    "results.describe().round(2)"
   ]
  },
  {
   "cell_type": "code",
   "execution_count": 15,
   "metadata": {},
   "outputs": [
    {
     "data": {
      "image/png": "[encoded data removed]",
      "text/plain": [
       "<Figure size 640x480 with 1 Axes>"
      ]
     },
     "metadata": {},
     "output_type": "display_data"
    }
   ],
   "source": [
    "# Visualize the results\n",
    "fig, ax = plt.subplots()\n",
    "\n",
    "sns.kdeplot(\n",
    "    results['plug_in_ate'], \n",
    "    label=\"Plug-in\", ax=ax\n",
    ")\n",
    "\n",
    "sns.kdeplot(\n",
    "    results['automated_monte_carlo_correction'], \n",
    "    label=\"DR-Monte Carlo\", ax=ax\n",
    ")\n",
    "\n",
    "sns.kdeplot(\n",
    "    results['analytic_correction'], \n",
    "    label=\"DR-Analytic\", ax=ax\n",
    ")\n",
    "\n",
    "ax.axvline(0, color=\"black\", label=\"True ATE\", linestyle=\"--\")\n",
    "ax.set_yticks([])\n",
    "sns.despine()\n",
    "ax.legend(loc=\"upper right\")\n",
    "ax.set_xlabel(\"ATE Estimate\")\n",
    "\n",
    "plt.savefig(\"figures/doubly_robust_ate_estimates.pdf\", dpi=300)"
   ]
  },
  {
   "cell_type": "code",
   "execution_count": 16,
   "metadata": {},
   "outputs": [
    {
     "data": {
      "image/png": "[encoded data removed]",
      "text/plain": [
       "<Figure size 640x480 with 1 Axes>"
      ]
     },
     "metadata": {},
     "output_type": "display_data"
    }
   ],
   "source": [
    "plt.scatter(\n",
    "    results['automated_monte_carlo_correction'],\n",
    "    results['analytic_correction'],\n",
    ")\n",
    "plt.plot(np.linspace(-.2, .5), np.linspace(-.2, .5), color=\"black\", linestyle=\"dashed\")\n",
    "plt.xlabel(\"DR-Monte Carlo\")\n",
    "plt.ylabel(\"DR-Analytic\")\n",
    "sns.despine()\n",
    "plt.savefig(\"figures/doubly_robust_ate_estimates_scatter.pdf\", dpi=300)"
   ]
  },
  {
   "cell_type": "markdown",
   "metadata": {},
   "source": [
    "## References\n",
    "\n",
    "Kennedy, Edward. \"Towards optimal doubly robust estimation of heterogeneous causal effects\", 2022. https://arxiv.org/abs/2004.14497."
   ]
  }
 ],
 "metadata": {
  "kernelspec": {
   "display_name": "chirho-test",
   "language": "python",
   "name": "python3"
  },
  "language_info": {
   "codemirror_mode": {
    "name": "ipython",
    "version": 3
   },
   "file_extension": ".py",
   "mimetype": "text/x-python",
   "name": "python",
   "nbconvert_exporter": "python",
   "pygments_lexer": "ipython3",
   "version": "3.11.10"
  },
  "orig_nbformat": 4
 },
 "nbformat": 4,
 "nbformat_minor": 2
}

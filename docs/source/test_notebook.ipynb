{
 "cells": [
  {
   "cell_type": "code",
   "execution_count": 1,
   "metadata": {},
   "outputs": [],
   "source": [
    "import math\n",
    "\n",
    "import pyro\n",
    "import pyro.distributions as dist\n",
    "import pyro.distributions.constraints as constraints\n",
    "import torch\n",
    "\n",
    "from chirho.counterfactual.handlers.counterfactual import MultiWorldCounterfactual\n",
    "from chirho.explainable.handlers.components import undo_split\n",
    "from chirho.explainable.handlers.explanation import SearchForExplanation, SplitSubsets\n",
    "from chirho.explainable.handlers import ExtractSupports\n",
    "from chirho.explainable.handlers.preemptions import Preemptions\n",
    "from chirho.indexed.ops import IndexSet, gather\n",
    "from chirho.observational.handlers.condition import condition"
   ]
  },
  {
   "cell_type": "code",
   "execution_count": 2,
   "metadata": {},
   "outputs": [
    {
     "name": "stdout",
     "output_type": "stream",
     "text": [
      "consequent tensor([0., 0., 0.])\n",
      "consequent tensor([[[[[1., 1., 0.]]]],\n",
      "\n",
      "\n",
      "\n",
      "        [[[[0., 0., 0.]]]],\n",
      "\n",
      "\n",
      "\n",
      "        [[[[1., 1., 1.]]]]])\n",
      "consequent tensor([0., 1., 0.])\n",
      "tensor([0., 1., 0.])\n",
      "tensor([[[[[-inf, 0., -inf]]]]])\n"
     ]
    }
   ],
   "source": [
    "# def test_edge_eq_neq():\n",
    "\n",
    "def model_independent():\n",
    "    X = pyro.sample(\"X\", dist.Bernoulli(0.5))\n",
    "    Y = pyro.sample(\"Y\", dist.Bernoulli(0.5))\n",
    "\n",
    "def model_connected():\n",
    "    X = pyro.sample(\"X\", dist.Bernoulli(0.5))\n",
    "    Y = pyro.sample(\"Y\", dist.Bernoulli(X))\n",
    "\n",
    "\n",
    "\n",
    "with ExtractSupports() as supports_independent:\n",
    "    model_independent()\n",
    "\n",
    "with ExtractSupports() as supports_connected:\n",
    "    model_connected()\n",
    "\n",
    "with MultiWorldCounterfactual() as mwc_independent:  \n",
    "        with SearchForExplanation(\n",
    "            supports=supports_independent.supports,\n",
    "            antecedents={\"X\": torch.tensor(1.0)},\n",
    "            consequents={\"Y\": torch.tensor(1.0)},\n",
    "            witnesses={},\n",
    "            alternatives={\"X\": torch.tensor(0.0)},\n",
    "            antecedent_bias=-0.5,\n",
    "            consequent_scale=0,\n",
    "        ):\n",
    "            with pyro.plate(\"sample\", size=3):\n",
    "                with pyro.poutine.trace() as trace_independent:\n",
    "                    model_independent()\n",
    "\n",
    "with MultiWorldCounterfactual() as mwc_connected:  \n",
    "        with SearchForExplanation(\n",
    "            supports=supports_connected.supports,\n",
    "            antecedents={\"X\": torch.tensor(1.0)},\n",
    "            consequents={\"Y\": torch.tensor(1.0)},\n",
    "            witnesses={},\n",
    "            alternatives={\"X\": torch.tensor(0.0)},\n",
    "            antecedent_bias=-0.5,\n",
    "            consequent_scale=0,\n",
    "        ):\n",
    "            with pyro.plate(\"sample\", size=3):\n",
    "                with pyro.poutine.trace() as trace_connected:\n",
    "                    model_connected()\n",
    "\n",
    "with MultiWorldCounterfactual() as mwc_reverse:  \n",
    "        with SearchForExplanation(\n",
    "            supports=supports_connected.supports,\n",
    "            antecedents={\"Y\": torch.tensor(1.0)},\n",
    "            consequents={\"X\": torch.tensor(1.0)},\n",
    "            witnesses={},\n",
    "            alternatives={\"Y\": torch.tensor(0.0)},\n",
    "            antecedent_bias=-0.5,\n",
    "            consequent_scale=0,\n",
    "        ):\n",
    "            with pyro.plate(\"sample\", size=3):\n",
    "                with pyro.poutine.trace() as trace_reverse:\n",
    "                    model_connected()\n",
    "\n",
    "\n",
    "trace_connected.trace.compute_log_prob\n",
    "trace_independent.trace.compute_log_prob\n",
    "trace_reverse.trace.compute_log_prob\n",
    "\n",
    "#print(trace_independent.trace.nodes[\"__cause____consequent_Y\"][\"fn\"].log_factor)\n",
    "#print(trace_independent.trace.nodes[\"Y\"][\"value\"])\n",
    "\n",
    "Y_values_ind = trace_independent.trace.nodes[\"Y\"][\"value\"]\n",
    "Y_values_con = trace_connected.trace.nodes[\"Y\"][\"value\"]\n",
    "X_values_rev = trace_reverse.trace.nodes[\"X\"][\"value\"]\n",
    "\n",
    "\n",
    "if torch.any(Y_values_ind == 1.):\n",
    "    print(\"testing with \", Y_values_ind)\n",
    "    assert trace_independent.trace.nodes[\"__cause____consequent_Y\"][\"fn\"].log_factor[1,0,0,0,:].sum().exp() == 0.\n",
    "else:\n",
    "    assert trace_independent.trace.nodes[\"__cause____consequent_Y\"][\"fn\"].log_factor[1,0,0,0,:].sum().exp() == 1.\n",
    "    \n",
    "\n",
    "if torch.any(Y_values_ind == 0.):\n",
    "    assert trace_independent.trace.nodes[\"__cause____consequent_Y\"][\"fn\"].log_factor[2,0,0,0,:].sum().exp() == 0.\n",
    "else:\n",
    "    assert trace_independent.trace.nodes[\"__cause____consequent_Y\"][\"fn\"].log_factor[2,0,0,0,:].sum().exp() == 1.\n",
    "\n",
    "assert torch.all(trace_connected.trace.nodes[\"__cause____consequent_Y\"][\"fn\"].log_factor.sum() == 0)\n",
    "     \n",
    "\n",
    "print(X_values_rev)\n",
    "print(trace_reverse.trace.nodes[\"__cause____consequent_X\"][\"fn\"].log_factor)\n",
    "\n",
    "\n",
    "\n",
    "# assert torch.all(trace_connected.trace.nodes[\"__cause____consequent_Y\"][\"fn\"].log_factor[0,0,0,0,:] == 0)"
   ]
  },
  {
   "cell_type": "code",
   "execution_count": 4,
   "metadata": {},
   "outputs": [
    {
     "name": "stdout",
     "output_type": "stream",
     "text": [
      "consequent tensor([[[[[1., 1., 1.]]]],\n",
      "\n",
      "\n",
      "\n",
      "        [[[[0., 0., 0.]]]],\n",
      "\n",
      "\n",
      "\n",
      "        [[[[1., 1., 1.]]]]])\n"
     ]
    },
    {
     "ename": "KeyboardInterrupt",
     "evalue": "",
     "output_type": "error",
     "traceback": [
      "\u001b[0;31m---------------------------------------------------------------------------\u001b[0m",
      "\u001b[0;31mKeyboardInterrupt\u001b[0m                         Traceback (most recent call last)",
      "Cell \u001b[0;32mIn[4], line 13\u001b[0m\n\u001b[1;32m     11\u001b[0m \u001b[38;5;28;01mwith\u001b[39;00m pyro\u001b[38;5;241m.\u001b[39mplate(\u001b[38;5;124m\"\u001b[39m\u001b[38;5;124msample\u001b[39m\u001b[38;5;124m\"\u001b[39m, size\u001b[38;5;241m=\u001b[39m\u001b[38;5;241m3\u001b[39m):\n\u001b[1;32m     12\u001b[0m     \u001b[38;5;28;01mwith\u001b[39;00m pyro\u001b[38;5;241m.\u001b[39mpoutine\u001b[38;5;241m.\u001b[39mtrace() \u001b[38;5;28;01mas\u001b[39;00m trace_connected:\n\u001b[0;32m---> 13\u001b[0m         \u001b[43mmodel_connected\u001b[49m\u001b[43m(\u001b[49m\u001b[43m)\u001b[49m\n",
      "Cell \u001b[0;32mIn[2], line 9\u001b[0m, in \u001b[0;36mmodel_connected\u001b[0;34m()\u001b[0m\n\u001b[1;32m      7\u001b[0m \u001b[38;5;28;01mdef\u001b[39;00m \u001b[38;5;21mmodel_connected\u001b[39m():\n\u001b[1;32m      8\u001b[0m     X \u001b[38;5;241m=\u001b[39m pyro\u001b[38;5;241m.\u001b[39msample(\u001b[38;5;124m\"\u001b[39m\u001b[38;5;124mX\u001b[39m\u001b[38;5;124m\"\u001b[39m, dist\u001b[38;5;241m.\u001b[39mBernoulli(\u001b[38;5;241m0.5\u001b[39m))\n\u001b[0;32m----> 9\u001b[0m     Y \u001b[38;5;241m=\u001b[39m \u001b[43mpyro\u001b[49m\u001b[38;5;241;43m.\u001b[39;49m\u001b[43msample\u001b[49m\u001b[43m(\u001b[49m\u001b[38;5;124;43m\"\u001b[39;49m\u001b[38;5;124;43mY\u001b[39;49m\u001b[38;5;124;43m\"\u001b[39;49m\u001b[43m,\u001b[49m\u001b[43m \u001b[49m\u001b[43mdist\u001b[49m\u001b[38;5;241;43m.\u001b[39;49m\u001b[43mBernoulli\u001b[49m\u001b[43m(\u001b[49m\u001b[43mX\u001b[49m\u001b[43m)\u001b[49m\u001b[43m)\u001b[49m\n",
      "File \u001b[0;32m~/miniconda3/envs/chirho/lib/python3.10/site-packages/pyro/primitives.py:189\u001b[0m, in \u001b[0;36msample\u001b[0;34m(name, fn, obs, obs_mask, infer, *args, **kwargs)\u001b[0m\n\u001b[1;32m    172\u001b[0m msg \u001b[38;5;241m=\u001b[39m Message(\n\u001b[1;32m    173\u001b[0m     \u001b[38;5;28mtype\u001b[39m\u001b[38;5;241m=\u001b[39m\u001b[38;5;124m\"\u001b[39m\u001b[38;5;124msample\u001b[39m\u001b[38;5;124m\"\u001b[39m,\n\u001b[1;32m    174\u001b[0m     name\u001b[38;5;241m=\u001b[39mname,\n\u001b[0;32m   (...)\u001b[0m\n\u001b[1;32m    186\u001b[0m     continuation\u001b[38;5;241m=\u001b[39m\u001b[38;5;28;01mNone\u001b[39;00m,\n\u001b[1;32m    187\u001b[0m )\n\u001b[1;32m    188\u001b[0m \u001b[38;5;66;03m# apply the stack and return its return value\u001b[39;00m\n\u001b[0;32m--> 189\u001b[0m \u001b[43mapply_stack\u001b[49m\u001b[43m(\u001b[49m\u001b[43mmsg\u001b[49m\u001b[43m)\u001b[49m\n\u001b[1;32m    190\u001b[0m \u001b[38;5;28;01massert\u001b[39;00m msg[\u001b[38;5;124m\"\u001b[39m\u001b[38;5;124mvalue\u001b[39m\u001b[38;5;124m\"\u001b[39m] \u001b[38;5;129;01mis\u001b[39;00m \u001b[38;5;129;01mnot\u001b[39;00m \u001b[38;5;28;01mNone\u001b[39;00m  \u001b[38;5;66;03m# type narrowing guaranteed by apply_stack\u001b[39;00m\n\u001b[1;32m    191\u001b[0m \u001b[38;5;28;01mreturn\u001b[39;00m msg[\u001b[38;5;124m\"\u001b[39m\u001b[38;5;124mvalue\u001b[39m\u001b[38;5;124m\"\u001b[39m]\n",
      "File \u001b[0;32m~/miniconda3/envs/chirho/lib/python3.10/site-packages/pyro/poutine/runtime.py:386\u001b[0m, in \u001b[0;36mapply_stack\u001b[0;34m(initial_msg)\u001b[0m\n\u001b[1;32m    383\u001b[0m default_process_message(msg)\n\u001b[1;32m    385\u001b[0m \u001b[38;5;28;01mfor\u001b[39;00m frame \u001b[38;5;129;01min\u001b[39;00m stack[\u001b[38;5;241m-\u001b[39mpointer:]:\n\u001b[0;32m--> 386\u001b[0m     \u001b[43mframe\u001b[49m\u001b[38;5;241;43m.\u001b[39;49m\u001b[43m_postprocess_message\u001b[49m\u001b[43m(\u001b[49m\u001b[43mmsg\u001b[49m\u001b[43m)\u001b[49m\n\u001b[1;32m    388\u001b[0m cont \u001b[38;5;241m=\u001b[39m msg[\u001b[38;5;124m\"\u001b[39m\u001b[38;5;124mcontinuation\u001b[39m\u001b[38;5;124m\"\u001b[39m]\n\u001b[1;32m    389\u001b[0m \u001b[38;5;28;01mif\u001b[39;00m cont \u001b[38;5;129;01mis\u001b[39;00m \u001b[38;5;129;01mnot\u001b[39;00m \u001b[38;5;28;01mNone\u001b[39;00m:\n",
      "File \u001b[0;32m~/miniconda3/envs/chirho/lib/python3.10/site-packages/pyro/poutine/messenger.py:194\u001b[0m, in \u001b[0;36mMessenger._postprocess_message\u001b[0;34m(self, msg)\u001b[0m\n\u001b[1;32m    192\u001b[0m method \u001b[38;5;241m=\u001b[39m \u001b[38;5;28mgetattr\u001b[39m(\u001b[38;5;28mself\u001b[39m, \u001b[38;5;124mf\u001b[39m\u001b[38;5;124m\"\u001b[39m\u001b[38;5;124m_pyro_post_\u001b[39m\u001b[38;5;132;01m{\u001b[39;00mmsg[\u001b[38;5;124m'\u001b[39m\u001b[38;5;124mtype\u001b[39m\u001b[38;5;124m'\u001b[39m]\u001b[38;5;132;01m}\u001b[39;00m\u001b[38;5;124m\"\u001b[39m, \u001b[38;5;28;01mNone\u001b[39;00m)\n\u001b[1;32m    193\u001b[0m \u001b[38;5;28;01mif\u001b[39;00m method \u001b[38;5;129;01mis\u001b[39;00m \u001b[38;5;129;01mnot\u001b[39;00m \u001b[38;5;28;01mNone\u001b[39;00m:\n\u001b[0;32m--> 194\u001b[0m     \u001b[43mmethod\u001b[49m\u001b[43m(\u001b[49m\u001b[43mmsg\u001b[49m\u001b[43m)\u001b[49m\n",
      "File \u001b[0;32m~/s78projects/chirho/chirho/observational/handlers/condition.py:56\u001b[0m, in \u001b[0;36mFactors._pyro_post_sample\u001b[0;34m(self, msg)\u001b[0m\n\u001b[1;32m     53\u001b[0m \u001b[38;5;28;01mexcept\u001b[39;00m \u001b[38;5;167;01mKeyError\u001b[39;00m:\n\u001b[1;32m     54\u001b[0m     \u001b[38;5;28;01mreturn\u001b[39;00m\n\u001b[0;32m---> 56\u001b[0m pyro\u001b[38;5;241m.\u001b[39mfactor(\u001b[38;5;124mf\u001b[39m\u001b[38;5;124m\"\u001b[39m\u001b[38;5;132;01m{\u001b[39;00m\u001b[38;5;28mself\u001b[39m\u001b[38;5;241m.\u001b[39mprefix\u001b[38;5;132;01m}\u001b[39;00m\u001b[38;5;132;01m{\u001b[39;00mmsg[\u001b[38;5;124m'\u001b[39m\u001b[38;5;124mname\u001b[39m\u001b[38;5;124m'\u001b[39m]\u001b[38;5;132;01m}\u001b[39;00m\u001b[38;5;124m\"\u001b[39m, \u001b[43mfactor\u001b[49m\u001b[43m(\u001b[49m\u001b[43mmsg\u001b[49m\u001b[43m[\u001b[49m\u001b[38;5;124;43m\"\u001b[39;49m\u001b[38;5;124;43mvalue\u001b[39;49m\u001b[38;5;124;43m\"\u001b[39;49m\u001b[43m]\u001b[49m\u001b[43m)\u001b[49m)\n",
      "File \u001b[0;32m~/s78projects/chirho/chirho/explainable/handlers/components.py:311\u001b[0m, in \u001b[0;36mconsequent_eq_neq.<locals>._consequent_eq_neq\u001b[0;34m(consequent)\u001b[0m\n\u001b[1;32m    307\u001b[0m FACTUAL_NEC_SUFF \u001b[38;5;241m=\u001b[39m torch\u001b[38;5;241m.\u001b[39mzeros_like(sufficiency_log_probs)\n\u001b[1;32m    309\u001b[0m index_keys \u001b[38;5;241m=\u001b[39m \u001b[38;5;28mset\u001b[39m(antecedents) \u001b[38;5;241m&\u001b[39m \u001b[38;5;28mset\u001b[39m(indices_of(consequent, event_dim\u001b[38;5;241m=\u001b[39msupport\u001b[38;5;241m.\u001b[39mevent_dim)) \u001b[38;5;28;01mif\u001b[39;00m indices_of(consequent, event_dim\u001b[38;5;241m=\u001b[39msupport\u001b[38;5;241m.\u001b[39mevent_dim) \u001b[38;5;28;01melse\u001b[39;00m \u001b[38;5;28mset\u001b[39m(antecedents)\n\u001b[0;32m--> 311\u001b[0m nec_suff_log_probs_partitioned \u001b[38;5;241m=\u001b[39m {\n\u001b[1;32m    312\u001b[0m     \u001b[38;5;241m*\u001b[39m\u001b[38;5;241m*\u001b[39m{\n\u001b[1;32m    313\u001b[0m         factual_indices: FACTUAL_NEC_SUFF,\n\u001b[1;32m    314\u001b[0m     },\n\u001b[1;32m    315\u001b[0m     \u001b[38;5;241m*\u001b[39m\u001b[38;5;241m*\u001b[39m{\n\u001b[1;32m    316\u001b[0m         IndexSet(\u001b[38;5;241m*\u001b[39m\u001b[38;5;241m*\u001b[39m{antecedent: {ind}}): log_prob\n\u001b[1;32m    317\u001b[0m         \u001b[38;5;28;01mfor\u001b[39;00m antecedent \u001b[38;5;129;01min\u001b[39;00m index_keys\n\u001b[1;32m    318\u001b[0m         \u001b[38;5;28;01mfor\u001b[39;00m antecedent \u001b[38;5;129;01min\u001b[39;00m (\n\u001b[1;32m    319\u001b[0m            index_keys\n\u001b[1;32m    320\u001b[0m         )\n\u001b[1;32m    321\u001b[0m         \u001b[38;5;28;01mfor\u001b[39;00m ind, log_prob \u001b[38;5;129;01min\u001b[39;00m \u001b[38;5;28mzip\u001b[39m(\n\u001b[1;32m    322\u001b[0m             [necessity_world, sufficiency_world],\n\u001b[1;32m    323\u001b[0m             [necessity_log_probs, sufficiency_log_probs],\n\u001b[1;32m    324\u001b[0m         )\n\u001b[1;32m    325\u001b[0m     },\n\u001b[1;32m    326\u001b[0m }\n\u001b[1;32m    328\u001b[0m \u001b[38;5;66;03m# nec_suff_log_probs_partitioned = {\u001b[39;00m\n\u001b[1;32m    329\u001b[0m \u001b[38;5;66;03m#     **{\u001b[39;00m\n\u001b[1;32m    330\u001b[0m \u001b[38;5;66;03m#         factual_indices: FACTUAL_NEC_SUFF,\u001b[39;00m\n\u001b[0;32m   (...)\u001b[0m\n\u001b[1;32m    342\u001b[0m \u001b[38;5;66;03m#     },\u001b[39;00m\n\u001b[1;32m    343\u001b[0m \u001b[38;5;66;03m# }\u001b[39;00m\n\u001b[1;32m    345\u001b[0m new_value \u001b[38;5;241m=\u001b[39m scatter_n(\n\u001b[1;32m    346\u001b[0m     nec_suff_log_probs_partitioned,\n\u001b[1;32m    347\u001b[0m     event_dim\u001b[38;5;241m=\u001b[39m\u001b[38;5;241m0\u001b[39m,\n\u001b[1;32m    348\u001b[0m )\n",
      "File \u001b[0;32m~/s78projects/chirho/chirho/explainable/handlers/components.py:311\u001b[0m, in \u001b[0;36mconsequent_eq_neq.<locals>._consequent_eq_neq\u001b[0;34m(consequent)\u001b[0m\n\u001b[1;32m    307\u001b[0m FACTUAL_NEC_SUFF \u001b[38;5;241m=\u001b[39m torch\u001b[38;5;241m.\u001b[39mzeros_like(sufficiency_log_probs)\n\u001b[1;32m    309\u001b[0m index_keys \u001b[38;5;241m=\u001b[39m \u001b[38;5;28mset\u001b[39m(antecedents) \u001b[38;5;241m&\u001b[39m \u001b[38;5;28mset\u001b[39m(indices_of(consequent, event_dim\u001b[38;5;241m=\u001b[39msupport\u001b[38;5;241m.\u001b[39mevent_dim)) \u001b[38;5;28;01mif\u001b[39;00m indices_of(consequent, event_dim\u001b[38;5;241m=\u001b[39msupport\u001b[38;5;241m.\u001b[39mevent_dim) \u001b[38;5;28;01melse\u001b[39;00m \u001b[38;5;28mset\u001b[39m(antecedents)\n\u001b[0;32m--> 311\u001b[0m nec_suff_log_probs_partitioned \u001b[38;5;241m=\u001b[39m {\n\u001b[1;32m    312\u001b[0m     \u001b[38;5;241m*\u001b[39m\u001b[38;5;241m*\u001b[39m{\n\u001b[1;32m    313\u001b[0m         factual_indices: FACTUAL_NEC_SUFF,\n\u001b[1;32m    314\u001b[0m     },\n\u001b[1;32m    315\u001b[0m     \u001b[38;5;241m*\u001b[39m\u001b[38;5;241m*\u001b[39m{\n\u001b[1;32m    316\u001b[0m         IndexSet(\u001b[38;5;241m*\u001b[39m\u001b[38;5;241m*\u001b[39m{antecedent: {ind}}): log_prob\n\u001b[1;32m    317\u001b[0m         \u001b[38;5;28;01mfor\u001b[39;00m antecedent \u001b[38;5;129;01min\u001b[39;00m index_keys\n\u001b[1;32m    318\u001b[0m         \u001b[38;5;28;01mfor\u001b[39;00m antecedent \u001b[38;5;129;01min\u001b[39;00m (\n\u001b[1;32m    319\u001b[0m            index_keys\n\u001b[1;32m    320\u001b[0m         )\n\u001b[1;32m    321\u001b[0m         \u001b[38;5;28;01mfor\u001b[39;00m ind, log_prob \u001b[38;5;129;01min\u001b[39;00m \u001b[38;5;28mzip\u001b[39m(\n\u001b[1;32m    322\u001b[0m             [necessity_world, sufficiency_world],\n\u001b[1;32m    323\u001b[0m             [necessity_log_probs, sufficiency_log_probs],\n\u001b[1;32m    324\u001b[0m         )\n\u001b[1;32m    325\u001b[0m     },\n\u001b[1;32m    326\u001b[0m }\n\u001b[1;32m    328\u001b[0m \u001b[38;5;66;03m# nec_suff_log_probs_partitioned = {\u001b[39;00m\n\u001b[1;32m    329\u001b[0m \u001b[38;5;66;03m#     **{\u001b[39;00m\n\u001b[1;32m    330\u001b[0m \u001b[38;5;66;03m#         factual_indices: FACTUAL_NEC_SUFF,\u001b[39;00m\n\u001b[0;32m   (...)\u001b[0m\n\u001b[1;32m    342\u001b[0m \u001b[38;5;66;03m#     },\u001b[39;00m\n\u001b[1;32m    343\u001b[0m \u001b[38;5;66;03m# }\u001b[39;00m\n\u001b[1;32m    345\u001b[0m new_value \u001b[38;5;241m=\u001b[39m scatter_n(\n\u001b[1;32m    346\u001b[0m     nec_suff_log_probs_partitioned,\n\u001b[1;32m    347\u001b[0m     event_dim\u001b[38;5;241m=\u001b[39m\u001b[38;5;241m0\u001b[39m,\n\u001b[1;32m    348\u001b[0m )\n",
      "File \u001b[0;32m_pydevd_bundle/pydevd_cython.pyx:1457\u001b[0m, in \u001b[0;36m_pydevd_bundle.pydevd_cython.SafeCallWrapper.__call__\u001b[0;34m()\u001b[0m\n",
      "File \u001b[0;32m_pydevd_bundle/pydevd_cython.pyx:701\u001b[0m, in \u001b[0;36m_pydevd_bundle.pydevd_cython.PyDBFrame.trace_dispatch\u001b[0;34m()\u001b[0m\n",
      "File \u001b[0;32m_pydevd_bundle/pydevd_cython.pyx:1152\u001b[0m, in \u001b[0;36m_pydevd_bundle.pydevd_cython.PyDBFrame.trace_dispatch\u001b[0;34m()\u001b[0m\n",
      "File \u001b[0;32m_pydevd_bundle/pydevd_cython.pyx:1135\u001b[0m, in \u001b[0;36m_pydevd_bundle.pydevd_cython.PyDBFrame.trace_dispatch\u001b[0;34m()\u001b[0m\n",
      "File \u001b[0;32m_pydevd_bundle/pydevd_cython.pyx:312\u001b[0m, in \u001b[0;36m_pydevd_bundle.pydevd_cython.PyDBFrame.do_wait_suspend\u001b[0;34m()\u001b[0m\n",
      "File \u001b[0;32m~/.local/lib/python3.10/site-packages/debugpy/_vendored/pydevd/pydevd.py:2070\u001b[0m, in \u001b[0;36mPyDB.do_wait_suspend\u001b[0;34m(self, thread, frame, event, arg, exception_type)\u001b[0m\n\u001b[1;32m   2067\u001b[0m             from_this_thread\u001b[38;5;241m.\u001b[39mappend(frame_custom_thread_id)\n\u001b[1;32m   2069\u001b[0m     \u001b[38;5;28;01mwith\u001b[39;00m \u001b[38;5;28mself\u001b[39m\u001b[38;5;241m.\u001b[39m_threads_suspended_single_notification\u001b[38;5;241m.\u001b[39mnotify_thread_suspended(thread_id, thread, stop_reason):\n\u001b[0;32m-> 2070\u001b[0m         keep_suspended \u001b[38;5;241m=\u001b[39m \u001b[38;5;28;43mself\u001b[39;49m\u001b[38;5;241;43m.\u001b[39;49m\u001b[43m_do_wait_suspend\u001b[49m\u001b[43m(\u001b[49m\u001b[43mthread\u001b[49m\u001b[43m,\u001b[49m\u001b[43m \u001b[49m\u001b[43mframe\u001b[49m\u001b[43m,\u001b[49m\u001b[43m \u001b[49m\u001b[43mevent\u001b[49m\u001b[43m,\u001b[49m\u001b[43m \u001b[49m\u001b[43marg\u001b[49m\u001b[43m,\u001b[49m\u001b[43m \u001b[49m\u001b[43msuspend_type\u001b[49m\u001b[43m,\u001b[49m\u001b[43m \u001b[49m\u001b[43mfrom_this_thread\u001b[49m\u001b[43m,\u001b[49m\u001b[43m \u001b[49m\u001b[43mframes_tracker\u001b[49m\u001b[43m)\u001b[49m\n\u001b[1;32m   2072\u001b[0m frames_list \u001b[38;5;241m=\u001b[39m \u001b[38;5;28;01mNone\u001b[39;00m\n\u001b[1;32m   2074\u001b[0m \u001b[38;5;28;01mif\u001b[39;00m keep_suspended:\n\u001b[1;32m   2075\u001b[0m     \u001b[38;5;66;03m# This means that we should pause again after a set next statement.\u001b[39;00m\n",
      "File \u001b[0;32m~/.local/lib/python3.10/site-packages/debugpy/_vendored/pydevd/pydevd.py:2106\u001b[0m, in \u001b[0;36mPyDB._do_wait_suspend\u001b[0;34m(self, thread, frame, event, arg, suspend_type, from_this_thread, frames_tracker)\u001b[0m\n\u001b[1;32m   2103\u001b[0m         \u001b[38;5;28mself\u001b[39m\u001b[38;5;241m.\u001b[39m_call_input_hook()\n\u001b[1;32m   2105\u001b[0m     \u001b[38;5;28mself\u001b[39m\u001b[38;5;241m.\u001b[39mprocess_internal_commands()\n\u001b[0;32m-> 2106\u001b[0m     \u001b[43mtime\u001b[49m\u001b[38;5;241;43m.\u001b[39;49m\u001b[43msleep\u001b[49m\u001b[43m(\u001b[49m\u001b[38;5;241;43m0.01\u001b[39;49m\u001b[43m)\u001b[49m\n\u001b[1;32m   2108\u001b[0m \u001b[38;5;28mself\u001b[39m\u001b[38;5;241m.\u001b[39mcancel_async_evaluation(get_current_thread_id(thread), \u001b[38;5;28mstr\u001b[39m(\u001b[38;5;28mid\u001b[39m(frame)))\n\u001b[1;32m   2110\u001b[0m \u001b[38;5;66;03m# process any stepping instructions\u001b[39;00m\n",
      "\u001b[0;31mKeyboardInterrupt\u001b[0m: "
     ]
    }
   ],
   "source": [
    "with MultiWorldCounterfactual() as mwc_connected:  \n",
    "        with SearchForExplanation(\n",
    "            supports=supports_connected.supports,\n",
    "            antecedents={\"X\": torch.tensor(1.0)},\n",
    "            consequents={\"Y\": torch.tensor(1.0)},\n",
    "            witnesses={},\n",
    "            alternatives={\"X\": torch.tensor(0.0)},\n",
    "            antecedent_bias=-0.5,\n",
    "            consequent_scale=0,\n",
    "        ):\n",
    "            with pyro.plate(\"sample\", size=3):\n",
    "                with pyro.poutine.trace() as trace_connected:\n",
    "                    model_connected()"
   ]
  },
  {
   "cell_type": "code",
   "execution_count": 6,
   "metadata": {},
   "outputs": [
    {
     "name": "stdout",
     "output_type": "stream",
     "text": [
      "consequent tensor([1., 0., 1.])\n"
     ]
    }
   ],
   "source": [
    "with MultiWorldCounterfactual() as mwc_reverse:  \n",
    "        with SearchForExplanation(\n",
    "            supports=supports_connected.supports,\n",
    "            antecedents={\"Y\": torch.tensor(1.0)},\n",
    "            consequents={\"X\": torch.tensor(1.0)},\n",
    "            witnesses={},\n",
    "            alternatives={\"Y\": torch.tensor(0.0)},\n",
    "            antecedent_bias=-0.5,\n",
    "            consequent_scale=0,\n",
    "        ):\n",
    "            with pyro.plate(\"sample\", size=3):\n",
    "                with pyro.poutine.trace() as trace_reverse:\n",
    "                    model_connected()\n",
    "                    "
   ]
  },
  {
   "cell_type": "code",
   "execution_count": null,
   "metadata": {},
   "outputs": [],
   "source": []
  }
 ],
 "metadata": {
  "kernelspec": {
   "display_name": ".venv",
   "language": "python",
   "name": "python3"
  },
  "language_info": {
   "codemirror_mode": {
    "name": "ipython",
    "version": 3
   },
   "file_extension": ".py",
   "mimetype": "text/x-python",
   "name": "python",
   "nbconvert_exporter": "python",
   "pygments_lexer": "ipython3",
   "version": "3.10.14"
  }
 },
 "nbformat": 4,
 "nbformat_minor": 2
}

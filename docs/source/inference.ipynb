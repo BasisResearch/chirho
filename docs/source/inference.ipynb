{
 "cells": [
  {
   "cell_type": "code",
   "execution_count": 31,
   "metadata": {},
   "outputs": [],
   "source": [
    "from typing import Optional, Callable\n",
    "import math\n",
    "\n",
    "import pyro.distributions as dist\n",
    "import torch\n",
    "\n",
    "import pyro\n",
    "from chirho.counterfactual.handlers.counterfactual import \\\n",
    "    MultiWorldCounterfactual\n",
    "from chirho.explainable.handlers import SearchForExplanation\n",
    "from chirho.explainable.handlers.components import ExtractSupports\n"
   ]
  },
  {
   "cell_type": "code",
   "execution_count": 32,
   "metadata": {},
   "outputs": [],
   "source": [
    "def model():\n",
    "    a = pyro.sample(\"a\", dist.Normal(loc=torch.tensor(0.0), scale=torch.tensor(1.0)))\n",
    "    b = pyro.sample(\"b\", dist.Normal(loc=torch.tensor(0.0), scale=torch.tensor(1.0)))"
   ]
  },
  {
   "cell_type": "code",
   "execution_count": 33,
   "metadata": {},
   "outputs": [],
   "source": [
    "with ExtractSupports() as s:\n",
    "    model()\n",
    "\n",
    "query = SearchForExplanation(\n",
    "            supports=s.supports,\n",
    "            alternatives={\"a\": torch.tensor(0.5)},\n",
    "            antecedents={\"a\": torch.tensor(-0.5)},\n",
    "            antecedent_bias=0.0,\n",
    "            witnesses={},\n",
    "            consequents={\"b\": torch.tensor(0.0)},\n",
    "            consequent_scale=1e-8,\n",
    "        )(model)"
   ]
  },
  {
   "cell_type": "markdown",
   "metadata": {},
   "source": [
    "How can I compute the probability that `a=-0.5` is a sufficienct and necessary cause of `b=0` using `SearchForExplanation`?"
   ]
  },
  {
   "cell_type": "code",
   "execution_count": 34,
   "metadata": {},
   "outputs": [],
   "source": [
    "def importance_infer(\n",
    "    model: Optional[Callable] = None, *, num_samples: int\n",
    "):\n",
    "    \n",
    "    if model is None:\n",
    "        return lambda m: importance_infer(m, num_samples=num_samples)\n",
    "\n",
    "    def _wrapped_model(\n",
    "        *args,\n",
    "        **kwargs\n",
    "    ):\n",
    "\n",
    "        guide = pyro.poutine.block(hide_fn=lambda msg: msg[\"is_observed\"])(model)\n",
    "\n",
    "        max_plate_nesting = 9  # TODO guess\n",
    "\n",
    "        with pyro.poutine.block(), MultiWorldCounterfactual() as mwc_imp:\n",
    "            log_weights, importance_tr, _ = pyro.infer.importance.vectorized_importance_weights(\n",
    "                model,\n",
    "                guide,\n",
    "                *args,\n",
    "                num_samples=num_samples,\n",
    "                max_plate_nesting=max_plate_nesting,\n",
    "                normalized=False,\n",
    "                **kwargs\n",
    "            )\n",
    "\n",
    "        return torch.logsumexp(log_weights, dim=0) - math.log(num_samples), importance_tr, mwc_imp, log_weights\n",
    "\n",
    "    return _wrapped_model"
   ]
  }
 ],
 "metadata": {
  "kernelspec": {
   "display_name": ".venv",
   "language": "python",
   "name": "python3"
  },
  "language_info": {
   "codemirror_mode": {
    "name": "ipython",
    "version": 3
   },
   "file_extension": ".py",
   "mimetype": "text/x-python",
   "name": "python",
   "nbconvert_exporter": "python",
   "pygments_lexer": "ipython3",
   "version": "3.10.14"
  }
 },
 "nbformat": 4,
 "nbformat_minor": 2
}

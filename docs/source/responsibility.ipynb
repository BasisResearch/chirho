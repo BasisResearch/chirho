{
 "cells": [
  {
   "attachments": {},
   "cell_type": "markdown",
   "metadata": {},
   "source": [
    "# Responsibility and actual causality"
   ]
  },
  {
   "attachments": {},
   "cell_type": "markdown",
   "metadata": {},
   "source": [
    "**Preceding notebook**\n",
    "\n",
    "- [Actual Causality: the modified Halpern-Pearl definition]() TODO add link\n",
    "\n",
    "\n",
    "**Summary**\n",
    "\n",
    "In a previous notebook, we introduced and implemented the Halpern-Pearl modified definition of actual causality. Here we implement the way Halpern used this notion to introduce his so-called *naive definition of responsibility*. We also briefly illustrate some reasons to think a somewhat more sophisticated notion is needed."
   ]
  },
  {
   "attachments": {},
   "cell_type": "markdown",
   "metadata": {},
   "source": [
    "**Outline**\n",
    "\n",
    "[Intuitions](##intuitions)\n",
    "    \n",
    "[Formalization](#formalization)\n",
    "\n",
    "[Implementation](#implementation)\n",
    "\n",
    "[Examples](#examples)\n",
    "\n",
    "- [Comments on example selection](#comments-on-example-selection)\n",
    "  \n",
    "- [Voting](#voting)\n",
    "\n",
    "- [Stone-throwing](#stone-throwing)\n",
    "\n",
    "- [Firing squad](#firing-squad)\n"
   ]
  },
  {
   "attachments": {},
   "cell_type": "markdown",
   "metadata": {},
   "source": [
    "## Intuitions"
   ]
  },
  {
   "attachments": {},
   "cell_type": "markdown",
   "metadata": {},
   "source": [
    "The key idea here is that your responsibility for an outcome is to be measured in terms of how drastic a change would have to be made to the world for the outcome to depend counterfactually on your actions. However, the definition uses a fairly crude measure thereof, the minimal *number* of changes needed, where those numbers are individuated in terms of nodes. On one hand, if you are part of a cause, we count how many elements the cause has. On the other, we count the number of nodes that a witness set has. We add these two numbers for any combination of an actual cause and a witness set and we take the minimum, say $k$. Your responsibility is then $1/k$. "
   ]
  },
  {
   "attachments": {},
   "cell_type": "markdown",
   "metadata": {},
   "source": [
    "## Formalization"
   ]
  },
  {
   "attachments": {},
   "cell_type": "markdown",
   "metadata": {},
   "source": [
    "The degree of responsibility of $X = x$ for $\\varphi$ in $\\langle M, \\vec{u}\\rangle$ is 0 if $X = x$ is not part of an actual cause of $\\varphi$ in $\\langle M, \\vec{u}\\rangle$ according\n",
    "to the modified HP definition. It is $1/k$ if there exists an actual cause $\\vec{X} = \\vec{x}$ of $\\varphi$ and a witness $\\vec{W}$ to $\\vec{X}=\\vec{x}$ being a cause of $\\varphi$ in $\\langle M, \\vec{u}\\rangle$ such that \n",
    "(a) $X=x$ is a conjunct in $\\vec{X}= \\vec{x}$, (b) $\\vert \\vec{W}\\vert + \\vert\\vec{X}\\vert = k$, and (c) $k$ is minimal such a number.\n"
   ]
  },
  {
   "attachments": {},
   "cell_type": "markdown",
   "metadata": {},
   "source": [
    "## Implementation"
   ]
  },
  {
   "cell_type": "code",
   "execution_count": 1,
   "metadata": {},
   "outputs": [],
   "source": [
    "import functools\n",
    "\n",
    "import numpy as np\n",
    "from itertools import combinations\n",
    "\n",
    "import torch\n",
    "from typing import Dict, List, Optional,  Union, Callable, Any\n",
    "\n",
    "import pandas as pd\n",
    "\n",
    "import pyro\n",
    "import pyro.distributions as dist\n",
    "\n",
    "from chirho.indexed.ops import IndexSet, gather, indices_of, scatter\n",
    "from chirho.interventional.handlers import do\n",
    "from chirho.counterfactual.ops import preempt\n",
    "from chirho.counterfactual.handlers.counterfactual import MultiWorldCounterfactual, Preemptions\n",
    "from chirho.observational.handlers import condition"
   ]
  },
  {
   "cell_type": "code",
   "execution_count": 2,
   "metadata": {},
   "outputs": [],
   "source": [
    "class BiasedPreemptions(Preemptions):\n",
    "    \"\"\"\n",
    "    Counterfactual handler that preempts the model with a biased coin flip.\n",
    "    \"\"\"\n",
    "    def __init__(self, actions, weights: torch.Tensor,  event_dim: int = 0) -> None:\n",
    "        self.weights = weights\n",
    "        self.event_dim = event_dim\n",
    "        super().__init__(actions)\n",
    "\n",
    "    def _pyro_post_sample(self, msg: Dict[str, Any]) -> None:\n",
    "        try:\n",
    "            name = msg[\"name\"]\n",
    "            action = self.actions[name]\n",
    "        except KeyError:\n",
    "            return\n",
    "        value = msg[\"value\"]\n",
    "        factual_value = gather(value, IndexSet(**{name: {0}}),\n",
    "                                event_dim=self.event_dim),\n",
    "        counterfactual_value = gather(value, IndexSet(**{name: {1}}),\n",
    "                                event_dim=self.event_dim),\n",
    "        factual_value = preempt(\n",
    "            factual_value,\n",
    "            (action,),\n",
    "            None,\n",
    "            event_dim=len(msg[\"fn\"].event_shape),\n",
    "            name=msg[\"name\"],\n",
    "        )\n",
    "\n",
    "        msg[\"value\"] = scatter({\n",
    "            IndexSet(**{name: {0}}): factual_value,\n",
    "            IndexSet(**{name: {1}}): counterfactual_value,\n",
    "        }, event_dim=self.event_dim)\n",
    "\n",
    "    def _pyro_preempt(self,msg: Dict[str, Any]) -> None:\n",
    "        if msg[\"name\"] not in self.actions:\n",
    "            return\n",
    "        obs, acts, case = msg[\"args\"]\n",
    "        msg[\"kwargs\"][\"name\"] = f\"__split_{msg['name']}\"\n",
    "        case_dist = pyro.distributions.Categorical(self.weights)\n",
    "        case = pyro.sample(msg[\"kwargs\"][\"name\"], case_dist, obs=case)\n",
    "        msg[\"args\"] = (obs, acts, case)\n",
    "        msg[\"stop\"] = True"
   ]
  },
  {
   "cell_type": "code",
   "execution_count": 3,
   "metadata": {},
   "outputs": [],
   "source": [
    "# slight modification wrt. to the orginal class:\n",
    "# we use BiasedPreemption for witnesses\n",
    "# with the same intervention bias as for antecedents\n",
    "# to minimize for the number of active (antecedents + witnesses)\n",
    "\n",
    "class HalpernPearlModifiedApproximate:\n",
    "\n",
    "    def __init__(\n",
    "        self, \n",
    "        model: Callable,\n",
    "        counterfactual_antecedents: Dict[str, torch.Tensor],\n",
    "        outcome: str,\n",
    "        witness_candidates: List[str],\n",
    "        observations: Optional[Dict[str, torch.Tensor]] = None\n",
    "        ):\n",
    "        \n",
    "        if observations is None:\n",
    "            observations = {}\n",
    "\n",
    "        self.model = model\n",
    "        self.counterfactual_antecedents = counterfactual_antecedents\n",
    "        self.outcome = outcome\n",
    "        self.witness_candidates = witness_candidates\n",
    "        self.observations = observations\n",
    "\n",
    "        self.antecedent_preemptions = {antecedent: functools.partial(self.preempt_with_factual,\n",
    "                                                                     antecedents = [antecedent]) for\n",
    "                                                                     antecedent in self.counterfactual_antecedents.keys()}\n",
    "    \n",
    "        self.witness_preemptions = {candidate: functools.partial(self.preempt_with_factual,\n",
    "                                             antecedents = self.counterfactual_antecedents) for \n",
    "                                             candidate in self.witness_candidates}\n",
    "        \n",
    "    @staticmethod   \n",
    "    def preempt_with_factual(value: torch.Tensor, *,\n",
    "                          antecedents: List[str] = None, event_dim: int = 0):\n",
    "    \n",
    "        if antecedents is None:\n",
    "            antecedents = []\n",
    "\n",
    "        antecedents = [a for a in antecedents if a in indices_of(value, event_dim=event_dim)]\n",
    "\n",
    "        factual_value = gather(value, IndexSet(**{antecedent: {0} for antecedent in antecedents}),\n",
    "                                event_dim=event_dim)\n",
    "            \n",
    "        return scatter({\n",
    "            IndexSet(**{antecedent: {0} for antecedent in antecedents}): factual_value,\n",
    "            IndexSet(**{antecedent: {1} for antecedent in antecedents}): factual_value,\n",
    "        }, event_dim=event_dim)\n",
    "     \n",
    "        \n",
    "    def __call__(self, *args, **kwargs):\n",
    "        with MultiWorldCounterfactual():\n",
    "            with do(actions=self.counterfactual_antecedents):\n",
    "                # the last element of the tensor is the factual case (preempted)\n",
    "                with BiasedPreemptions(actions = self.antecedent_preemptions, weights = torch.tensor([.4, .6])):\n",
    "                    #the last element is the fixed at the observed value (preempted)            \n",
    "                    with BiasedPreemptions(actions = self.witness_preemptions, weights = torch.tensor([.6, .4])):\n",
    "                        with condition(data={k: torch.as_tensor(v) for k, v in self.observations.items()}):\n",
    "                            with pyro.poutine.trace() as self.trace:\n",
    "                                self.consequent = self.model(*args, **kwargs)[self.outcome]\n",
    "                                self.intervened_consequent = gather(self.consequent, IndexSet(**{ant: {1} for ant in self.counterfactual_antecedents}))\n",
    "                                self.observed_consequent = gather(self.consequent, IndexSet(**{ant: {0} for ant in self.counterfactual_antecedents}))\n",
    "                                self.consequent_differs = self.intervened_consequent != self.observed_consequent               \n",
    "                                pyro.deterministic(\"consequent_differs_binary\", self.consequent_differs, event_dim = 0) #feels inelegant\n",
    "                                pyro.factor(\"consequent_differs\", torch.where(self.consequent_differs, torch.tensor(0.0), torch.tensor(-1e8)))\n"
   ]
  },
  {
   "cell_type": "code",
   "execution_count": 4,
   "metadata": {},
   "outputs": [],
   "source": [
    "# this will explore the trace once we run inference on the model\n",
    "\n",
    "def get_table(nodes, antecedents, witness_candidates):\n",
    "    \n",
    "    values_table = {}\n",
    "\n",
    "    for antecedent in antecedents:\n",
    "        values_table[antecedent] = nodes[antecedent][\"value\"].squeeze().tolist()\n",
    "        values_table['preempted_' + antecedent] = nodes['__split_' + antecedent][\"value\"].squeeze().tolist()\n",
    "        values_table['preempted_' + antecedent + '_log_prob'] = nodes['__split_' + antecedent][\"fn\"].log_prob(nodes['__split_' + antecedent][\"value\"]).squeeze().tolist()\n",
    "\n",
    "\n",
    "    for candidate in witness_candidates:\n",
    "        _values = nodes[candidate][\"value\"].squeeze().tolist()\n",
    "        # TODO: uncomment in the final version (?) \n",
    "        #values_table[candidate + '0'] = _values[0]\n",
    "        #values_table[candidate + '1'] = _values[1]\n",
    "        values_table['fixed_factual_' + candidate] = nodes['__split_' + candidate][\"value\"].squeeze().tolist()\n",
    " \n",
    "    # TODO uncomment in the final version (?)\n",
    "    #values_table[consequent + '0'] = nodes[consequent][\"value\"].squeeze().tolist()[0]\n",
    "    #values_table[consequent + '1'] = nodes[consequent][\"value\"].squeeze().tolist()[1]\n",
    "    values_table['consequent_differs_binary'] = nodes['consequent_differs_binary'][\"value\"].squeeze().tolist()\n",
    "    values_table['consequent_log_prob'] = nodes['consequent_differs'][\"fn\"].log_prob(nodes['consequent_differs'][\"value\"]).squeeze().tolist()\n",
    "\n",
    "    if isinstance(values_table['consequent_log_prob'], float):\n",
    "        values_df = pd.DataFrame([values_table])\n",
    "    else:\n",
    "        values_df = pd.DataFrame(values_table)\n",
    "    \n",
    "\n",
    "    summands = ['preempted_' + antecedent + '_log_prob' for antecedent in antecedents]\n",
    "    summands.append('consequent_log_prob')\n",
    "    values_df[\"sum_log_prob\"] =  values_df[summands].sum(axis = 1) \n",
    "    values_df.drop_duplicates(inplace = True)\n",
    "    values_df.sort_values(by = \"sum_log_prob\", inplace = True, ascending = False)\n",
    "\n",
    "    return values_df.reset_index(drop = True)"
   ]
  },
  {
   "cell_type": "code",
   "execution_count": 5,
   "metadata": {},
   "outputs": [],
   "source": [
    "def voting_model():\n",
    "    u_vote0 = pyro.sample(\"u_vote0\", dist.Bernoulli(0.6))\n",
    "    u_vote1 = pyro.sample(\"u_vote1\", dist.Bernoulli(0.6))\n",
    "    u_vote2 = pyro.sample(\"u_vote2\", dist.Bernoulli(0.6))\n",
    "    u_vote3 = pyro.sample(\"u_vote3\", dist.Bernoulli(0.6))\n",
    "    u_vote4 = pyro.sample(\"u_vote4\", dist.Bernoulli(0.6))\n",
    "    u_vote5 = pyro.sample(\"u_vote5\", dist.Bernoulli(0.6))\n",
    "    u_vote6 = pyro.sample(\"u_vote6\", dist.Bernoulli(0.6))\n",
    "    u_vote7 = pyro.sample(\"u_vote7\", dist.Bernoulli(0.6))\n",
    "\n",
    "    vote0 = pyro.deterministic(\"vote0\", u_vote0, event_dim=0)\n",
    "    vote1 = pyro.deterministic(\"vote1\", u_vote1, event_dim=0)\n",
    "    vote2 = pyro.deterministic(\"vote2\", u_vote2, event_dim=0)\n",
    "    vote3 = pyro.deterministic(\"vote3\", u_vote3, event_dim=0)\n",
    "    vote4 = pyro.deterministic(\"vote4\", u_vote4, event_dim=0)\n",
    "    vote5 = pyro.deterministic(\"vote5\", u_vote5, event_dim=0)\n",
    "    vote6 = pyro.deterministic(\"vote6\", u_vote6, event_dim=0)\n",
    "    vote7 = pyro.deterministic(\"vote7\", u_vote7, event_dim=0)\n",
    "\n",
    "\n",
    "    outcome = pyro.deterministic(\"outcome\", vote0 + vote1 + vote2 + vote3 + \n",
    "                                 vote4 + vote5 + vote6 + vote7 > 4)\n",
    "    return {\"outcome\": outcome.float()}"
   ]
  },
  {
   "cell_type": "code",
   "execution_count": 6,
   "metadata": {},
   "outputs": [],
   "source": [
    "# if you're one of five voters who voted for, you are an actual cause\n",
    "\n",
    "# and your responsibility is 1 \n",
    "\n",
    "observations = dict(u_vote0=1., u_vote1=1., u_vote2=1.,\n",
    "                        u_vote3=1., u_vote4=1., u_vote5=0.,\n",
    "                        u_vote6=0., u_vote7=0.)\n",
    "\n",
    "\n",
    "\n",
    "counterfactual_antecedents = {key[2:]: 1-v for key, v in observations.items()}\n",
    "\n",
    "\n",
    "voting5HPM = HalpernPearlModifiedApproximate(\n",
    "    model = voting_model,\n",
    "    counterfactual_antecedents = counterfactual_antecedents,\n",
    "    outcome = \"outcome\",\n",
    "    witness_candidates = [f\"vote{i}\" for i in range(1,8)],\n",
    "    observations = dict(u_vote0=1., u_vote1=1., u_vote2=1.,\n",
    "                        u_vote3=1., u_vote4=1., u_vote5=0.,\n",
    "                        u_vote6=0., u_vote7=0.))\n"
   ]
  },
  {
   "cell_type": "code",
   "execution_count": 7,
   "metadata": {},
   "outputs": [
    {
     "ename": "NotImplementedError",
     "evalue": "intervene not implemented for type <class 'tuple'>",
     "output_type": "error",
     "traceback": [
      "\u001b[0;31m---------------------------------------------------------------------------\u001b[0m",
      "\u001b[0;31mNotImplementedError\u001b[0m                       Traceback (most recent call last)",
      "Cell \u001b[0;32mIn[7], line 2\u001b[0m\n\u001b[1;32m      1\u001b[0m \u001b[39mwith\u001b[39;00m pyro\u001b[39m.\u001b[39mplate(\u001b[39m\"\u001b[39m\u001b[39mruns\u001b[39m\u001b[39m\"\u001b[39m, \u001b[39m10\u001b[39m):\n\u001b[0;32m----> 2\u001b[0m     voting5HPM()\n",
      "Cell \u001b[0;32mIn[3], line 61\u001b[0m, in \u001b[0;36mHalpernPearlModifiedApproximate.__call__\u001b[0;34m(self, *args, **kwargs)\u001b[0m\n\u001b[1;32m     59\u001b[0m \u001b[39mwith\u001b[39;00m condition(data\u001b[39m=\u001b[39m{k: torch\u001b[39m.\u001b[39mas_tensor(v) \u001b[39mfor\u001b[39;00m k, v \u001b[39min\u001b[39;00m \u001b[39mself\u001b[39m\u001b[39m.\u001b[39mobservations\u001b[39m.\u001b[39mitems()}):\n\u001b[1;32m     60\u001b[0m     \u001b[39mwith\u001b[39;00m pyro\u001b[39m.\u001b[39mpoutine\u001b[39m.\u001b[39mtrace() \u001b[39mas\u001b[39;00m \u001b[39mself\u001b[39m\u001b[39m.\u001b[39mtrace:\n\u001b[0;32m---> 61\u001b[0m         \u001b[39mself\u001b[39m\u001b[39m.\u001b[39mconsequent \u001b[39m=\u001b[39m \u001b[39mself\u001b[39;49m\u001b[39m.\u001b[39;49mmodel(\u001b[39m*\u001b[39;49margs, \u001b[39m*\u001b[39;49m\u001b[39m*\u001b[39;49mkwargs)[\u001b[39mself\u001b[39m\u001b[39m.\u001b[39moutcome]\n\u001b[1;32m     62\u001b[0m         \u001b[39mself\u001b[39m\u001b[39m.\u001b[39mintervened_consequent \u001b[39m=\u001b[39m gather(\u001b[39mself\u001b[39m\u001b[39m.\u001b[39mconsequent, IndexSet(\u001b[39m*\u001b[39m\u001b[39m*\u001b[39m{ant: {\u001b[39m1\u001b[39m} \u001b[39mfor\u001b[39;00m ant \u001b[39min\u001b[39;00m \u001b[39mself\u001b[39m\u001b[39m.\u001b[39mcounterfactual_antecedents}))\n\u001b[1;32m     63\u001b[0m         \u001b[39mself\u001b[39m\u001b[39m.\u001b[39mobserved_consequent \u001b[39m=\u001b[39m gather(\u001b[39mself\u001b[39m\u001b[39m.\u001b[39mconsequent, IndexSet(\u001b[39m*\u001b[39m\u001b[39m*\u001b[39m{ant: {\u001b[39m0\u001b[39m} \u001b[39mfor\u001b[39;00m ant \u001b[39min\u001b[39;00m \u001b[39mself\u001b[39m\u001b[39m.\u001b[39mcounterfactual_antecedents}))\n",
      "Cell \u001b[0;32mIn[5], line 11\u001b[0m, in \u001b[0;36mvoting_model\u001b[0;34m()\u001b[0m\n\u001b[1;32m      8\u001b[0m u_vote6 \u001b[39m=\u001b[39m pyro\u001b[39m.\u001b[39msample(\u001b[39m\"\u001b[39m\u001b[39mu_vote6\u001b[39m\u001b[39m\"\u001b[39m, dist\u001b[39m.\u001b[39mBernoulli(\u001b[39m0.6\u001b[39m))\n\u001b[1;32m      9\u001b[0m u_vote7 \u001b[39m=\u001b[39m pyro\u001b[39m.\u001b[39msample(\u001b[39m\"\u001b[39m\u001b[39mu_vote7\u001b[39m\u001b[39m\"\u001b[39m, dist\u001b[39m.\u001b[39mBernoulli(\u001b[39m0.6\u001b[39m))\n\u001b[0;32m---> 11\u001b[0m vote0 \u001b[39m=\u001b[39m pyro\u001b[39m.\u001b[39;49mdeterministic(\u001b[39m\"\u001b[39;49m\u001b[39mvote0\u001b[39;49m\u001b[39m\"\u001b[39;49m, u_vote0, event_dim\u001b[39m=\u001b[39;49m\u001b[39m0\u001b[39;49m)\n\u001b[1;32m     12\u001b[0m vote1 \u001b[39m=\u001b[39m pyro\u001b[39m.\u001b[39mdeterministic(\u001b[39m\"\u001b[39m\u001b[39mvote1\u001b[39m\u001b[39m\"\u001b[39m, u_vote1, event_dim\u001b[39m=\u001b[39m\u001b[39m0\u001b[39m)\n\u001b[1;32m     13\u001b[0m vote2 \u001b[39m=\u001b[39m pyro\u001b[39m.\u001b[39mdeterministic(\u001b[39m\"\u001b[39m\u001b[39mvote2\u001b[39m\u001b[39m\"\u001b[39m, u_vote2, event_dim\u001b[39m=\u001b[39m\u001b[39m0\u001b[39m)\n",
      "File \u001b[0;32m~/.local/lib/python3.10/site-packages/pyro/primitives.py:209\u001b[0m, in \u001b[0;36mdeterministic\u001b[0;34m(name, value, event_dim)\u001b[0m\n\u001b[1;32m    192\u001b[0m \u001b[39m\"\"\"\u001b[39;00m\n\u001b[1;32m    193\u001b[0m \u001b[39mDeterministic statement to add a :class:`~pyro.distributions.Delta` site\u001b[39;00m\n\u001b[1;32m    194\u001b[0m \u001b[39mwith name `name` and value `value` to the trace. This is useful when we\u001b[39;00m\n\u001b[0;32m   (...)\u001b[0m\n\u001b[1;32m    206\u001b[0m \u001b[39m:param int event_dim: Optional event dimension, defaults to `value.ndim`.\u001b[39;00m\n\u001b[1;32m    207\u001b[0m \u001b[39m\"\"\"\u001b[39;00m\n\u001b[1;32m    208\u001b[0m event_dim \u001b[39m=\u001b[39m value\u001b[39m.\u001b[39mndim \u001b[39mif\u001b[39;00m event_dim \u001b[39mis\u001b[39;00m \u001b[39mNone\u001b[39;00m \u001b[39melse\u001b[39;00m event_dim\n\u001b[0;32m--> 209\u001b[0m \u001b[39mreturn\u001b[39;00m sample(\n\u001b[1;32m    210\u001b[0m     name,\n\u001b[1;32m    211\u001b[0m     dist\u001b[39m.\u001b[39;49mDelta(value, event_dim\u001b[39m=\u001b[39;49mevent_dim)\u001b[39m.\u001b[39;49mmask(\u001b[39mFalse\u001b[39;49;00m),\n\u001b[1;32m    212\u001b[0m     obs\u001b[39m=\u001b[39;49mvalue,\n\u001b[1;32m    213\u001b[0m     infer\u001b[39m=\u001b[39;49m{\u001b[39m\"\u001b[39;49m\u001b[39m_deterministic\u001b[39;49m\u001b[39m\"\u001b[39;49m: \u001b[39mTrue\u001b[39;49;00m},\n\u001b[1;32m    214\u001b[0m )\n",
      "File \u001b[0;32m~/.local/lib/python3.10/site-packages/pyro/primitives.py:163\u001b[0m, in \u001b[0;36msample\u001b[0;34m(name, fn, *args, **kwargs)\u001b[0m\n\u001b[1;32m    146\u001b[0m msg \u001b[39m=\u001b[39m {\n\u001b[1;32m    147\u001b[0m     \u001b[39m\"\u001b[39m\u001b[39mtype\u001b[39m\u001b[39m\"\u001b[39m: \u001b[39m\"\u001b[39m\u001b[39msample\u001b[39m\u001b[39m\"\u001b[39m,\n\u001b[1;32m    148\u001b[0m     \u001b[39m\"\u001b[39m\u001b[39mname\u001b[39m\u001b[39m\"\u001b[39m: name,\n\u001b[0;32m   (...)\u001b[0m\n\u001b[1;32m    160\u001b[0m     \u001b[39m\"\u001b[39m\u001b[39mcontinuation\u001b[39m\u001b[39m\"\u001b[39m: \u001b[39mNone\u001b[39;00m,\n\u001b[1;32m    161\u001b[0m }\n\u001b[1;32m    162\u001b[0m \u001b[39m# apply the stack and return its return value\u001b[39;00m\n\u001b[0;32m--> 163\u001b[0m apply_stack(msg)\n\u001b[1;32m    164\u001b[0m \u001b[39mreturn\u001b[39;00m msg[\u001b[39m\"\u001b[39m\u001b[39mvalue\u001b[39m\u001b[39m\"\u001b[39m]\n",
      "File \u001b[0;32m~/.local/lib/python3.10/site-packages/pyro/poutine/runtime.py:220\u001b[0m, in \u001b[0;36mapply_stack\u001b[0;34m(initial_msg)\u001b[0m\n\u001b[1;32m    217\u001b[0m default_process_message(msg)\n\u001b[1;32m    219\u001b[0m \u001b[39mfor\u001b[39;00m frame \u001b[39min\u001b[39;00m stack[\u001b[39m-\u001b[39mpointer:]:\n\u001b[0;32m--> 220\u001b[0m     frame\u001b[39m.\u001b[39;49m_postprocess_message(msg)\n\u001b[1;32m    222\u001b[0m cont \u001b[39m=\u001b[39m msg[\u001b[39m\"\u001b[39m\u001b[39mcontinuation\u001b[39m\u001b[39m\"\u001b[39m]\n\u001b[1;32m    223\u001b[0m \u001b[39mif\u001b[39;00m cont \u001b[39mis\u001b[39;00m \u001b[39mnot\u001b[39;00m \u001b[39mNone\u001b[39;00m:\n",
      "File \u001b[0;32m~/.local/lib/python3.10/site-packages/pyro/poutine/messenger.py:168\u001b[0m, in \u001b[0;36mMessenger._postprocess_message\u001b[0;34m(self, msg)\u001b[0m\n\u001b[1;32m    166\u001b[0m method \u001b[39m=\u001b[39m \u001b[39mgetattr\u001b[39m(\u001b[39mself\u001b[39m, \u001b[39m\"\u001b[39m\u001b[39m_pyro_post_\u001b[39m\u001b[39m{}\u001b[39;00m\u001b[39m\"\u001b[39m\u001b[39m.\u001b[39mformat(msg[\u001b[39m\"\u001b[39m\u001b[39mtype\u001b[39m\u001b[39m\"\u001b[39m]), \u001b[39mNone\u001b[39;00m)\n\u001b[1;32m    167\u001b[0m \u001b[39mif\u001b[39;00m method \u001b[39mis\u001b[39;00m \u001b[39mnot\u001b[39;00m \u001b[39mNone\u001b[39;00m:\n\u001b[0;32m--> 168\u001b[0m     \u001b[39mreturn\u001b[39;00m method(msg)\n\u001b[1;32m    169\u001b[0m \u001b[39mreturn\u001b[39;00m \u001b[39mNone\u001b[39;00m\n",
      "Cell \u001b[0;32mIn[2], line 21\u001b[0m, in \u001b[0;36mBiasedPreemptions._pyro_post_sample\u001b[0;34m(self, msg)\u001b[0m\n\u001b[1;32m     17\u001b[0m factual_value \u001b[39m=\u001b[39m gather(value, IndexSet(\u001b[39m*\u001b[39m\u001b[39m*\u001b[39m{name: {\u001b[39m0\u001b[39m}}),\n\u001b[1;32m     18\u001b[0m                         event_dim\u001b[39m=\u001b[39m\u001b[39mself\u001b[39m\u001b[39m.\u001b[39mevent_dim),\n\u001b[1;32m     19\u001b[0m counterfactual_value \u001b[39m=\u001b[39m gather(value, IndexSet(\u001b[39m*\u001b[39m\u001b[39m*\u001b[39m{name: {\u001b[39m1\u001b[39m}}),\n\u001b[1;32m     20\u001b[0m                         event_dim\u001b[39m=\u001b[39m\u001b[39mself\u001b[39m\u001b[39m.\u001b[39mevent_dim),\n\u001b[0;32m---> 21\u001b[0m factual_value \u001b[39m=\u001b[39m preempt(\n\u001b[1;32m     22\u001b[0m     factual_value,\n\u001b[1;32m     23\u001b[0m     (action,),\n\u001b[1;32m     24\u001b[0m     \u001b[39mNone\u001b[39;49;00m,\n\u001b[1;32m     25\u001b[0m     event_dim\u001b[39m=\u001b[39;49m\u001b[39mlen\u001b[39;49m(msg[\u001b[39m\"\u001b[39;49m\u001b[39mfn\u001b[39;49m\u001b[39m\"\u001b[39;49m]\u001b[39m.\u001b[39;49mevent_shape),\n\u001b[1;32m     26\u001b[0m     name\u001b[39m=\u001b[39;49mmsg[\u001b[39m\"\u001b[39;49m\u001b[39mname\u001b[39;49m\u001b[39m\"\u001b[39;49m],\n\u001b[1;32m     27\u001b[0m )\n\u001b[1;32m     29\u001b[0m msg[\u001b[39m\"\u001b[39m\u001b[39mvalue\u001b[39m\u001b[39m\"\u001b[39m] \u001b[39m=\u001b[39m scatter({\n\u001b[1;32m     30\u001b[0m     IndexSet(\u001b[39m*\u001b[39m\u001b[39m*\u001b[39m{name: {\u001b[39m0\u001b[39m}}): factual_value,\n\u001b[1;32m     31\u001b[0m     IndexSet(\u001b[39m*\u001b[39m\u001b[39m*\u001b[39m{name: {\u001b[39m1\u001b[39m}}): counterfactual_value,\n\u001b[1;32m     32\u001b[0m }, event_dim\u001b[39m=\u001b[39m\u001b[39mself\u001b[39m\u001b[39m.\u001b[39mevent_dim)\n",
      "File \u001b[0;32m~/.local/lib/python3.10/site-packages/pyro/poutine/runtime.py:281\u001b[0m, in \u001b[0;36meffectful.<locals>._fn\u001b[0;34m(*args, **kwargs)\u001b[0m\n\u001b[1;32m    264\u001b[0m msg \u001b[39m=\u001b[39m {\n\u001b[1;32m    265\u001b[0m     \u001b[39m\"\u001b[39m\u001b[39mtype\u001b[39m\u001b[39m\"\u001b[39m: \u001b[39mtype\u001b[39m,\n\u001b[1;32m    266\u001b[0m     \u001b[39m\"\u001b[39m\u001b[39mname\u001b[39m\u001b[39m\"\u001b[39m: name,\n\u001b[0;32m   (...)\u001b[0m\n\u001b[1;32m    278\u001b[0m     \u001b[39m\"\u001b[39m\u001b[39minfer\u001b[39m\u001b[39m\"\u001b[39m: infer,\n\u001b[1;32m    279\u001b[0m }\n\u001b[1;32m    280\u001b[0m \u001b[39m# apply the stack and return its return value\u001b[39;00m\n\u001b[0;32m--> 281\u001b[0m apply_stack(msg)\n\u001b[1;32m    282\u001b[0m \u001b[39mreturn\u001b[39;00m msg[\u001b[39m\"\u001b[39m\u001b[39mvalue\u001b[39m\u001b[39m\"\u001b[39m]\n",
      "File \u001b[0;32m~/.local/lib/python3.10/site-packages/pyro/poutine/runtime.py:217\u001b[0m, in \u001b[0;36mapply_stack\u001b[0;34m(initial_msg)\u001b[0m\n\u001b[1;32m    214\u001b[0m     \u001b[39mif\u001b[39;00m msg[\u001b[39m\"\u001b[39m\u001b[39mstop\u001b[39m\u001b[39m\"\u001b[39m]:\n\u001b[1;32m    215\u001b[0m         \u001b[39mbreak\u001b[39;00m\n\u001b[0;32m--> 217\u001b[0m default_process_message(msg)\n\u001b[1;32m    219\u001b[0m \u001b[39mfor\u001b[39;00m frame \u001b[39min\u001b[39;00m stack[\u001b[39m-\u001b[39mpointer:]:\n\u001b[1;32m    220\u001b[0m     frame\u001b[39m.\u001b[39m_postprocess_message(msg)\n",
      "File \u001b[0;32m~/.local/lib/python3.10/site-packages/pyro/poutine/runtime.py:179\u001b[0m, in \u001b[0;36mdefault_process_message\u001b[0;34m(msg)\u001b[0m\n\u001b[1;32m    176\u001b[0m     msg[\u001b[39m\"\u001b[39m\u001b[39mdone\u001b[39m\u001b[39m\"\u001b[39m] \u001b[39m=\u001b[39m \u001b[39mTrue\u001b[39;00m\n\u001b[1;32m    177\u001b[0m     \u001b[39mreturn\u001b[39;00m msg\n\u001b[0;32m--> 179\u001b[0m msg[\u001b[39m\"\u001b[39m\u001b[39mvalue\u001b[39m\u001b[39m\"\u001b[39m] \u001b[39m=\u001b[39m msg[\u001b[39m\"\u001b[39;49m\u001b[39mfn\u001b[39;49m\u001b[39m\"\u001b[39;49m](\u001b[39m*\u001b[39;49mmsg[\u001b[39m\"\u001b[39;49m\u001b[39margs\u001b[39;49m\u001b[39m\"\u001b[39;49m], \u001b[39m*\u001b[39;49m\u001b[39m*\u001b[39;49mmsg[\u001b[39m\"\u001b[39;49m\u001b[39mkwargs\u001b[39;49m\u001b[39m\"\u001b[39;49m])\n\u001b[1;32m    181\u001b[0m \u001b[39m# after fn has been called, update msg to prevent it from being called again.\u001b[39;00m\n\u001b[1;32m    182\u001b[0m msg[\u001b[39m\"\u001b[39m\u001b[39mdone\u001b[39m\u001b[39m\"\u001b[39m] \u001b[39m=\u001b[39m \u001b[39mTrue\u001b[39;00m\n",
      "File \u001b[0;32m~/.local/lib/python3.10/site-packages/pyro/poutine/messenger.py:12\u001b[0m, in \u001b[0;36m_context_wrap\u001b[0;34m(context, fn, *args, **kwargs)\u001b[0m\n\u001b[1;32m     10\u001b[0m \u001b[39mdef\u001b[39;00m \u001b[39m_context_wrap\u001b[39m(context, fn, \u001b[39m*\u001b[39margs, \u001b[39m*\u001b[39m\u001b[39m*\u001b[39mkwargs):\n\u001b[1;32m     11\u001b[0m     \u001b[39mwith\u001b[39;00m context:\n\u001b[0;32m---> 12\u001b[0m         \u001b[39mreturn\u001b[39;00m fn(\u001b[39m*\u001b[39;49margs, \u001b[39m*\u001b[39;49m\u001b[39m*\u001b[39;49mkwargs)\n",
      "File \u001b[0;32m~/L2projects/chirho/chirho/counterfactual/ops.py:53\u001b[0m, in \u001b[0;36mpreempt\u001b[0;34m(obs, acts, case, **kwargs)\u001b[0m\n\u001b[1;32m     51\u001b[0m act_values \u001b[39m=\u001b[39m {IndexSet(\u001b[39m*\u001b[39m\u001b[39m*\u001b[39m{name: {\u001b[39m0\u001b[39m}}): obs}\n\u001b[1;32m     52\u001b[0m \u001b[39mfor\u001b[39;00m i, act \u001b[39min\u001b[39;00m \u001b[39menumerate\u001b[39m(acts):\n\u001b[0;32m---> 53\u001b[0m     act_values[IndexSet(\u001b[39m*\u001b[39m\u001b[39m*\u001b[39m{name: {i \u001b[39m+\u001b[39m \u001b[39m1\u001b[39m}})] \u001b[39m=\u001b[39m intervene(obs, act, \u001b[39m*\u001b[39;49m\u001b[39m*\u001b[39;49mkwargs)\n\u001b[1;32m     55\u001b[0m \u001b[39mreturn\u001b[39;00m cond(act_values, case, event_dim\u001b[39m=\u001b[39mkwargs\u001b[39m.\u001b[39mget(\u001b[39m\"\u001b[39m\u001b[39mevent_dim\u001b[39m\u001b[39m\"\u001b[39m, \u001b[39m0\u001b[39m))\n",
      "File \u001b[0;32m~/anaconda3/envs/causal_pyro/lib/python3.10/functools.py:889\u001b[0m, in \u001b[0;36msingledispatch.<locals>.wrapper\u001b[0;34m(*args, **kw)\u001b[0m\n\u001b[1;32m    885\u001b[0m \u001b[39mif\u001b[39;00m \u001b[39mnot\u001b[39;00m args:\n\u001b[1;32m    886\u001b[0m     \u001b[39mraise\u001b[39;00m \u001b[39mTypeError\u001b[39;00m(\u001b[39mf\u001b[39m\u001b[39m'\u001b[39m\u001b[39m{\u001b[39;00mfuncname\u001b[39m}\u001b[39;00m\u001b[39m requires at least \u001b[39m\u001b[39m'\u001b[39m\n\u001b[1;32m    887\u001b[0m                     \u001b[39m'\u001b[39m\u001b[39m1 positional argument\u001b[39m\u001b[39m'\u001b[39m)\n\u001b[0;32m--> 889\u001b[0m \u001b[39mreturn\u001b[39;00m dispatch(args[\u001b[39m0\u001b[39;49m]\u001b[39m.\u001b[39;49m\u001b[39m__class__\u001b[39;49m)(\u001b[39m*\u001b[39;49margs, \u001b[39m*\u001b[39;49m\u001b[39m*\u001b[39;49mkw)\n",
      "File \u001b[0;32m~/L2projects/chirho/chirho/interventional/ops.py:25\u001b[0m, in \u001b[0;36mintervene\u001b[0;34m(obs, act, **kwargs)\u001b[0m\n\u001b[1;32m     11\u001b[0m \u001b[39m@functools\u001b[39m\u001b[39m.\u001b[39msingledispatch\n\u001b[1;32m     12\u001b[0m \u001b[39mdef\u001b[39;00m \u001b[39mintervene\u001b[39m(obs, act: Optional[Intervention[T]] \u001b[39m=\u001b[39m \u001b[39mNone\u001b[39;00m, \u001b[39m*\u001b[39m\u001b[39m*\u001b[39mkwargs):\n\u001b[1;32m     13\u001b[0m     \u001b[39m\"\"\"\u001b[39;00m\n\u001b[1;32m     14\u001b[0m \u001b[39m    Intervene on a value in a probabilistic program.\u001b[39;00m\n\u001b[1;32m     15\u001b[0m \n\u001b[0;32m   (...)\u001b[0m\n\u001b[1;32m     23\u001b[0m \u001b[39m    :param act: an optional intervention.\u001b[39;00m\n\u001b[1;32m     24\u001b[0m \u001b[39m    \"\"\"\u001b[39;00m\n\u001b[0;32m---> 25\u001b[0m     \u001b[39mraise\u001b[39;00m \u001b[39mNotImplementedError\u001b[39;00m(\u001b[39mf\u001b[39m\u001b[39m\"\u001b[39m\u001b[39mintervene not implemented for type \u001b[39m\u001b[39m{\u001b[39;00m\u001b[39mtype\u001b[39m(obs)\u001b[39m}\u001b[39;00m\u001b[39m\"\u001b[39m)\n",
      "\u001b[0;31mNotImplementedError\u001b[0m: intervene not implemented for type <class 'tuple'>"
     ]
    }
   ],
   "source": [
    "with pyro.plate(\"runs\", 10):\n",
    "    voting5HPM()\n"
   ]
  },
  {
   "cell_type": "code",
   "execution_count": null,
   "metadata": {},
   "outputs": [],
   "source": []
  },
  {
   "attachments": {},
   "cell_type": "markdown",
   "metadata": {},
   "source": [
    "This implementation is now used within another class definition, where, again, the main moves are in `def __call__`. We sample antecedent sets, leave other nodes (aside from the outcome) as witness candidates, and pass the result to an actual causality evaluation, keeping track of minimal antecedent sets and the corresponding witness sizes. Then we find a minimum of the sum and use it in the denominator.`"
   ]
  },
  {
   "cell_type": "code",
   "execution_count": 5,
   "metadata": {},
   "outputs": [],
   "source": [
    "class HalpernPearlResponsibilityApproximate:\n",
    "\n",
    "    def __init__(\n",
    "        self, \n",
    "        model: Callable,\n",
    "        nodes: List,\n",
    "        antecedent: str,\n",
    "        outcome: str,\n",
    "        observations: Dict[str, torch.Tensor], \n",
    "        runs_n: int \n",
    "    ):\n",
    "        self.model = model\n",
    "        self.nodes = nodes\n",
    "        self.antecedent = antecedent\n",
    "        self.outcome = outcome\n",
    "        self.observations = observations\n",
    "        self.runs_n = runs_n\n",
    "        \n",
    "        self.minimal_antecedents_cache = []\n",
    "        self.antecedent_sizes = []\n",
    "        self.existential_but_fors = []\n",
    "        self.acs = []\n",
    "        self.minimal_witness_sizes = []\n",
    "        self.responsibilities = []\n",
    "        self.HPMs = []\n",
    "\n",
    "    def __call__(self):\n",
    "        \n",
    "        for step in range(1,self.runs_n):\n",
    "\n",
    "            nodes = self.nodes\n",
    "            if self.outcome in nodes:\n",
    "                nodes.remove(self.outcome) \n",
    "            \n",
    "            companion_size = random.randint(0,len(nodes))\n",
    "            companion_candidates = random.sample(self.nodes, companion_size)\n",
    "            witness_candidates = [node for node in self.nodes if \n",
    "                                node != self.antecedent and \n",
    "                                node != self.outcome and \n",
    "                                    node not in companion_candidates]\n",
    "\n",
    "            HPM = HalpernPearlModifiedApproximate(\n",
    "                model = self.model,\n",
    "                antecedents = companion_candidates,\n",
    "                outcome = self.outcome,\n",
    "                witness_candidates = witness_candidates,\n",
    "                observations = self.observations,\n",
    "                sample_size = 1000)\n",
    "            \n",
    "            HPM()\n",
    "            self.HPMs.append(HPM)\n",
    "\n",
    "            if HPM.existential_but_for:\n",
    "                \n",
    "                HPM_min = ac_minimality_check(HPM)\n",
    "\n",
    "                if  HPM_min.ac:\n",
    "\n",
    "                    subset_in_cache = any([s.issubset(set(HPM.antecedents)) for s in self.minimal_antecedents_cache])\n",
    "                    if not subset_in_cache:\n",
    "                        for s in self.minimal_antecedents_cache:\n",
    "                            if set(HPM.antecedents).issubset(s):\n",
    "                                self.minimal_antecedents_cache.remove(s)\n",
    "                        self.minimal_antecedents_cache.append(set(HPM.antecedents))\n",
    "\n",
    "                        if self.antecedent in HPM.antecedents:\n",
    "                            self.antecedent_sizes.append(len(HPM.antecedents))\n",
    "                            self.existential_but_fors.append(HPM.existential_but_for)\n",
    "                            self.acs.append(HPM.ac)\n",
    "                            self.minimal_witness_sizes.append(HPM.minimal_witness_size)\n",
    "                            self.responsibilities.append(HPM.responsibility_internal)\n",
    "\n",
    "\n",
    "        self.denumerators = [x + y for x, y in zip(self.antecedent_sizes, self.minimal_witness_sizes)]\n",
    "\n",
    "        self.responsibilityDF = pd.DataFrame(\n",
    "            {#\"existential_but_for\": [bool(value) for value in self.existential_but_fors],\n",
    "             \"acs\": [bool(value) for value in self.acs],\n",
    "                \"antecedent_size\": self.antecedent_sizes, \n",
    "                \"minimal_witness_size\": self.minimal_witness_sizes,\n",
    "                \"denumerator\": self.denumerators,\n",
    "                \"responsibility\": self.responsibilities\n",
    "            }\n",
    "            )\n",
    "        if len(self.responsibilityDF['acs']) == 0:\n",
    "            self.responsibility = 0\n",
    "        else:\n",
    "            min_denumerator = min(self.responsibilityDF['denumerator'])\n",
    "            self.responsibility = 1/min_denumerator\n",
    "\n",
    " "
   ]
  },
  {
   "cell_type": "markdown",
   "metadata": {},
   "source": [
    "## Examples"
   ]
  },
  {
   "attachments": {},
   "cell_type": "markdown",
   "metadata": {},
   "source": [
    "### Comments on example selection\n",
    "\n"
   ]
  },
  {
   "attachments": {},
   "cell_type": "markdown",
   "metadata": {},
   "source": [
    "- **Voting:** the example illustrates that parts of actual causes can share various degrees of responsibility for the outcome, without being actual causes.\n",
    "\n",
    "- **Stone-throwing:** responsibility calculations in one of the main running examples in the *Actual Causality* book by Halpern (2016).\n",
    "\n",
    "- **Firing squad:** an example in which responsibility and actual causality agree, where-as disussed in the notebook on the notion of blame-the notion of responsibility and blame will diverge."
   ]
  },
  {
   "attachments": {},
   "cell_type": "markdown",
   "metadata": {},
   "source": [
    "### Voting"
   ]
  },
  {
   "attachments": {},
   "cell_type": "markdown",
   "metadata": {},
   "source": [
    "We discussed a similar model in a previous notebook. This time we have eight voters involved in a binary majority voting procedure and we investigate the responsibility assigned to voter 0. The situation is analogous to the one discussed in the actual causality notebook: if your vote is decisive, you are an actual cause, and you're not an actual cause otherwise. What's your responsibility, though? "
   ]
  },
  {
   "cell_type": "code",
   "execution_count": 10,
   "metadata": {},
   "outputs": [
    {
     "ename": "KeyError",
     "evalue": "'__split_vote0'",
     "output_type": "error",
     "traceback": [
      "\u001b[0;31m---------------------------------------------------------------------------\u001b[0m",
      "\u001b[0;31mKeyError\u001b[0m                                  Traceback (most recent call last)",
      "Cell \u001b[0;32mIn[10], line 1\u001b[0m\n\u001b[0;32m----> 1\u001b[0m get_table(voting5HPM\u001b[39m.\u001b[39;49mtrace\u001b[39m.\u001b[39;49mtrace\u001b[39m.\u001b[39;49mnodes, antecedents \u001b[39m=\u001b[39;49m counterfactual_antecedents, witness_candidates \u001b[39m=\u001b[39;49m voting5HPM\u001b[39m.\u001b[39;49mwitness_candidates)\n",
      "Cell \u001b[0;32mIn[4], line 9\u001b[0m, in \u001b[0;36mget_table\u001b[0;34m(nodes, antecedents, witness_candidates)\u001b[0m\n\u001b[1;32m      7\u001b[0m \u001b[39mfor\u001b[39;00m antecedent \u001b[39min\u001b[39;00m antecedents:\n\u001b[1;32m      8\u001b[0m     values_table[antecedent] \u001b[39m=\u001b[39m nodes[antecedent][\u001b[39m\"\u001b[39m\u001b[39mvalue\u001b[39m\u001b[39m\"\u001b[39m]\u001b[39m.\u001b[39msqueeze()\u001b[39m.\u001b[39mtolist()\n\u001b[0;32m----> 9\u001b[0m     values_table[\u001b[39m'\u001b[39m\u001b[39mpreempted_\u001b[39m\u001b[39m'\u001b[39m \u001b[39m+\u001b[39m antecedent] \u001b[39m=\u001b[39m nodes[\u001b[39m'\u001b[39;49m\u001b[39m__split_\u001b[39;49m\u001b[39m'\u001b[39;49m \u001b[39m+\u001b[39;49m antecedent][\u001b[39m\"\u001b[39m\u001b[39mvalue\u001b[39m\u001b[39m\"\u001b[39m]\u001b[39m.\u001b[39msqueeze()\u001b[39m.\u001b[39mtolist()\n\u001b[1;32m     10\u001b[0m     values_table[\u001b[39m'\u001b[39m\u001b[39mpreempted_\u001b[39m\u001b[39m'\u001b[39m \u001b[39m+\u001b[39m antecedent \u001b[39m+\u001b[39m \u001b[39m'\u001b[39m\u001b[39m_log_prob\u001b[39m\u001b[39m'\u001b[39m] \u001b[39m=\u001b[39m nodes[\u001b[39m'\u001b[39m\u001b[39m__split_\u001b[39m\u001b[39m'\u001b[39m \u001b[39m+\u001b[39m antecedent][\u001b[39m\"\u001b[39m\u001b[39mfn\u001b[39m\u001b[39m\"\u001b[39m]\u001b[39m.\u001b[39mlog_prob(nodes[\u001b[39m'\u001b[39m\u001b[39m__split_\u001b[39m\u001b[39m'\u001b[39m \u001b[39m+\u001b[39m antecedent][\u001b[39m\"\u001b[39m\u001b[39mvalue\u001b[39m\u001b[39m\"\u001b[39m])\u001b[39m.\u001b[39msqueeze()\u001b[39m.\u001b[39mtolist()\n\u001b[1;32m     13\u001b[0m \u001b[39mfor\u001b[39;00m candidate \u001b[39min\u001b[39;00m witness_candidates:\n",
      "\u001b[0;31mKeyError\u001b[0m: '__split_vote0'"
     ]
    }
   ],
   "source": [
    "get_table(voting5HPM.trace.trace.nodes, antecedents = counterfactual_antecedents, witness_candidates = voting5HPM.witness_candidates)"
   ]
  },
  {
   "cell_type": "code",
   "execution_count": 50,
   "metadata": {},
   "outputs": [],
   "source": [
    "# if everyone voted for, you are not an actual cause\n",
    "\n",
    "everyone_voted_HPR = HalpernPearlResponsibilityApproximate(\n",
    "    model = voting_model,\n",
    "    nodes = [f\"vote{i}\" for i in range(0,8,)],\n",
    "    antecedent = \"vote0\", outcome = \"outcome\",\n",
    "    observations = dict(u_vote0=1., u_vote1=1., u_vote2=1.,\n",
    "    u_vote3=1., u_vote4=1., u_vote5=1., u_vote6 = 1., u_vote7 = 1.), \n",
    "    runs_n=500\n",
    "    )\n",
    "\n",
    "pyro.set_rng_seed(42)\n",
    "everyone_voted_HPR()\n"
   ]
  },
  {
   "cell_type": "code",
   "execution_count": 52,
   "metadata": {},
   "outputs": [
    {
     "data": {
      "text/html": [
       "<div>\n",
       "<style scoped>\n",
       "    .dataframe tbody tr th:only-of-type {\n",
       "        vertical-align: middle;\n",
       "    }\n",
       "\n",
       "    .dataframe tbody tr th {\n",
       "        vertical-align: top;\n",
       "    }\n",
       "\n",
       "    .dataframe thead th {\n",
       "        text-align: right;\n",
       "    }\n",
       "</style>\n",
       "<table border=\"1\" class=\"dataframe\">\n",
       "  <thead>\n",
       "    <tr style=\"text-align: right;\">\n",
       "      <th></th>\n",
       "      <th>acs</th>\n",
       "      <th>antecedent_size</th>\n",
       "      <th>minimal_witness_size</th>\n",
       "      <th>denumerator</th>\n",
       "      <th>responsibility</th>\n",
       "    </tr>\n",
       "  </thead>\n",
       "  <tbody>\n",
       "    <tr>\n",
       "      <th>0</th>\n",
       "      <td>True</td>\n",
       "      <td>4</td>\n",
       "      <td>0</td>\n",
       "      <td>4</td>\n",
       "      <td>0.25</td>\n",
       "    </tr>\n",
       "    <tr>\n",
       "      <th>1</th>\n",
       "      <td>True</td>\n",
       "      <td>4</td>\n",
       "      <td>0</td>\n",
       "      <td>4</td>\n",
       "      <td>0.25</td>\n",
       "    </tr>\n",
       "    <tr>\n",
       "      <th>2</th>\n",
       "      <td>True</td>\n",
       "      <td>4</td>\n",
       "      <td>0</td>\n",
       "      <td>4</td>\n",
       "      <td>0.25</td>\n",
       "    </tr>\n",
       "    <tr>\n",
       "      <th>3</th>\n",
       "      <td>True</td>\n",
       "      <td>4</td>\n",
       "      <td>0</td>\n",
       "      <td>4</td>\n",
       "      <td>0.25</td>\n",
       "    </tr>\n",
       "    <tr>\n",
       "      <th>4</th>\n",
       "      <td>True</td>\n",
       "      <td>4</td>\n",
       "      <td>0</td>\n",
       "      <td>4</td>\n",
       "      <td>0.25</td>\n",
       "    </tr>\n",
       "    <tr>\n",
       "      <th>5</th>\n",
       "      <td>True</td>\n",
       "      <td>4</td>\n",
       "      <td>0</td>\n",
       "      <td>4</td>\n",
       "      <td>0.25</td>\n",
       "    </tr>\n",
       "    <tr>\n",
       "      <th>6</th>\n",
       "      <td>True</td>\n",
       "      <td>4</td>\n",
       "      <td>0</td>\n",
       "      <td>4</td>\n",
       "      <td>0.25</td>\n",
       "    </tr>\n",
       "    <tr>\n",
       "      <th>7</th>\n",
       "      <td>True</td>\n",
       "      <td>4</td>\n",
       "      <td>0</td>\n",
       "      <td>4</td>\n",
       "      <td>0.25</td>\n",
       "    </tr>\n",
       "    <tr>\n",
       "      <th>8</th>\n",
       "      <td>True</td>\n",
       "      <td>4</td>\n",
       "      <td>0</td>\n",
       "      <td>4</td>\n",
       "      <td>0.25</td>\n",
       "    </tr>\n",
       "    <tr>\n",
       "      <th>9</th>\n",
       "      <td>True</td>\n",
       "      <td>4</td>\n",
       "      <td>0</td>\n",
       "      <td>4</td>\n",
       "      <td>0.25</td>\n",
       "    </tr>\n",
       "    <tr>\n",
       "      <th>10</th>\n",
       "      <td>True</td>\n",
       "      <td>4</td>\n",
       "      <td>0</td>\n",
       "      <td>4</td>\n",
       "      <td>0.25</td>\n",
       "    </tr>\n",
       "    <tr>\n",
       "      <th>11</th>\n",
       "      <td>True</td>\n",
       "      <td>4</td>\n",
       "      <td>0</td>\n",
       "      <td>4</td>\n",
       "      <td>0.25</td>\n",
       "    </tr>\n",
       "    <tr>\n",
       "      <th>12</th>\n",
       "      <td>True</td>\n",
       "      <td>4</td>\n",
       "      <td>0</td>\n",
       "      <td>4</td>\n",
       "      <td>0.25</td>\n",
       "    </tr>\n",
       "    <tr>\n",
       "      <th>13</th>\n",
       "      <td>True</td>\n",
       "      <td>4</td>\n",
       "      <td>0</td>\n",
       "      <td>4</td>\n",
       "      <td>0.25</td>\n",
       "    </tr>\n",
       "    <tr>\n",
       "      <th>14</th>\n",
       "      <td>True</td>\n",
       "      <td>4</td>\n",
       "      <td>0</td>\n",
       "      <td>4</td>\n",
       "      <td>0.25</td>\n",
       "    </tr>\n",
       "    <tr>\n",
       "      <th>15</th>\n",
       "      <td>True</td>\n",
       "      <td>4</td>\n",
       "      <td>0</td>\n",
       "      <td>4</td>\n",
       "      <td>0.25</td>\n",
       "    </tr>\n",
       "    <tr>\n",
       "      <th>16</th>\n",
       "      <td>True</td>\n",
       "      <td>4</td>\n",
       "      <td>0</td>\n",
       "      <td>4</td>\n",
       "      <td>0.25</td>\n",
       "    </tr>\n",
       "    <tr>\n",
       "      <th>17</th>\n",
       "      <td>True</td>\n",
       "      <td>4</td>\n",
       "      <td>0</td>\n",
       "      <td>4</td>\n",
       "      <td>0.25</td>\n",
       "    </tr>\n",
       "    <tr>\n",
       "      <th>18</th>\n",
       "      <td>True</td>\n",
       "      <td>4</td>\n",
       "      <td>0</td>\n",
       "      <td>4</td>\n",
       "      <td>0.25</td>\n",
       "    </tr>\n",
       "    <tr>\n",
       "      <th>19</th>\n",
       "      <td>True</td>\n",
       "      <td>4</td>\n",
       "      <td>0</td>\n",
       "      <td>4</td>\n",
       "      <td>0.25</td>\n",
       "    </tr>\n",
       "    <tr>\n",
       "      <th>20</th>\n",
       "      <td>True</td>\n",
       "      <td>4</td>\n",
       "      <td>0</td>\n",
       "      <td>4</td>\n",
       "      <td>0.25</td>\n",
       "    </tr>\n",
       "    <tr>\n",
       "      <th>21</th>\n",
       "      <td>True</td>\n",
       "      <td>4</td>\n",
       "      <td>0</td>\n",
       "      <td>4</td>\n",
       "      <td>0.25</td>\n",
       "    </tr>\n",
       "  </tbody>\n",
       "</table>\n",
       "</div>"
      ],
      "text/plain": [
       "     acs  antecedent_size  minimal_witness_size  denumerator  responsibility\n",
       "0   True                4                     0            4            0.25\n",
       "1   True                4                     0            4            0.25\n",
       "2   True                4                     0            4            0.25\n",
       "3   True                4                     0            4            0.25\n",
       "4   True                4                     0            4            0.25\n",
       "5   True                4                     0            4            0.25\n",
       "6   True                4                     0            4            0.25\n",
       "7   True                4                     0            4            0.25\n",
       "8   True                4                     0            4            0.25\n",
       "9   True                4                     0            4            0.25\n",
       "10  True                4                     0            4            0.25\n",
       "11  True                4                     0            4            0.25\n",
       "12  True                4                     0            4            0.25\n",
       "13  True                4                     0            4            0.25\n",
       "14  True                4                     0            4            0.25\n",
       "15  True                4                     0            4            0.25\n",
       "16  True                4                     0            4            0.25\n",
       "17  True                4                     0            4            0.25\n",
       "18  True                4                     0            4            0.25\n",
       "19  True                4                     0            4            0.25\n",
       "20  True                4                     0            4            0.25\n",
       "21  True                4                     0            4            0.25"
      ]
     },
     "execution_count": 52,
     "metadata": {},
     "output_type": "execute_result"
    }
   ],
   "source": [
    "# but the size-minimal actual causes are all of size 4\n",
    "# so your responsibility is 1/4\n",
    "\n",
    "everyone_voted_HPR.responsibilityDF\n"
   ]
  },
  {
   "cell_type": "code",
   "execution_count": 53,
   "metadata": {},
   "outputs": [
    {
     "data": {
      "text/plain": [
       "0.25"
      ]
     },
     "execution_count": 53,
     "metadata": {},
     "output_type": "execute_result"
    }
   ],
   "source": [
    "# four people would need to change their votes\n",
    "# to change the outcome\n",
    "# so your responsibility is 1/4\n",
    "\n",
    "everyone_voted_HPR.responsibility"
   ]
  },
  {
   "cell_type": "code",
   "execution_count": 54,
   "metadata": {},
   "outputs": [],
   "source": [
    "# if only seven people voted for, \n",
    "# your responsibility changes to 1/3\n",
    "\n",
    "seven_voted_for_HPR = HalpernPearlResponsibilityApproximate(\n",
    "    model = voting_model,\n",
    "    nodes = [f\"vote{i}\" for i in range(0,8,)],\n",
    "    antecedent = \"vote0\", outcome = \"outcome\",\n",
    "    observations = dict(u_vote0=1., u_vote1=1., u_vote2=1.,\n",
    "    u_vote3=1., u_vote4=1., u_vote5=1., u_vote6 = 1., u_vote7 = 0.), \n",
    "    runs_n=500\n",
    "    )\n",
    "\n",
    "pyro.set_rng_seed(42)\n",
    "seven_voted_for_HPR()"
   ]
  },
  {
   "cell_type": "code",
   "execution_count": 56,
   "metadata": {},
   "outputs": [
    {
     "data": {
      "text/plain": [
       "0.3333333333333333"
      ]
     },
     "execution_count": 56,
     "metadata": {},
     "output_type": "execute_result"
    }
   ],
   "source": [
    "# your responsibility is 1/3 as in this case\n",
    "# it would be enough for three people to vote against\n",
    "# to change the outcome\n",
    "\n",
    "seven_voted_for_HPR.responsibility"
   ]
  },
  {
   "attachments": {},
   "cell_type": "markdown",
   "metadata": {},
   "source": [
    "### Stone-throwing\n"
   ]
  },
  {
   "attachments": {},
   "cell_type": "markdown",
   "metadata": {},
   "source": [
    "We've already discussed the model in the actual causality notebook. Sally and Bill throw stones at a bottle, Sally throws first. Bill is perfectly accurate, so his stone would have shattered the bottle had not Sally's stone done it. The model is worth looking at, as the causal structure is less trivial. Again, we will see that responsibility judgment might to some extent disagree with actual causality."
   ]
  },
  {
   "cell_type": "code",
   "execution_count": 57,
   "metadata": {},
   "outputs": [],
   "source": [
    "def stones_model():        \n",
    "    prob_sally_throws = pyro.sample(\"prob_sally_throws\", dist.Beta(1, 1))\n",
    "    prob_bill_throws = pyro.sample(\"prob_bill_throws\", dist.Beta(1, 1))\n",
    "    prob_sally_hits = pyro.sample(\"prob_sally_hits\", dist.Beta(1, 1))\n",
    "    prob_bill_hits = pyro.sample(\"prob_bill_hits\", dist.Beta(1, 1))\n",
    "    prob_bottle_shatters_if_sally = pyro.sample(\"prob_bottle_shatters_if_sally\", dist.Beta(1, 1))\n",
    "    prob_bottle_shatters_if_bill = pyro.sample(\"prob_bottle_shatters_if_bill\", dist.Beta(1, 1))\n",
    "\n",
    "\n",
    "    sally_throws = pyro.sample(\"sally_throws\", dist.Bernoulli(prob_sally_throws))\n",
    "    bill_throws = pyro.sample(\"bill_throws\", dist.Bernoulli(prob_bill_throws))\n",
    "\n",
    "    new_shp = torch.where(sally_throws == 1,prob_sally_hits , 0.0)\n",
    "\n",
    "    sally_hits = pyro.sample(\"sally_hits\",dist.Bernoulli(new_shp))\n",
    "\n",
    "    new_bhp = torch.where(\n",
    "            (\n",
    "                bill_throws.bool()\n",
    "                & (~sally_hits.bool())\n",
    "            )\n",
    "            == 1,\n",
    "            prob_bill_hits,\n",
    "            torch.tensor(0.0),\n",
    "        )\n",
    "\n",
    "\n",
    "    bill_hits = pyro.sample(\"bill_hits\", dist.Bernoulli(new_bhp))\n",
    "\n",
    "    new_bsp = torch.where(\n",
    "            bill_hits.bool() == 1,\n",
    "            prob_bottle_shatters_if_bill,\n",
    "            torch.where(\n",
    "                sally_hits.bool() == 1,\n",
    "                prob_bottle_shatters_if_sally,\n",
    "                torch.tensor(0.0),\n",
    "            ),\n",
    "        )\n",
    "\n",
    "    bottle_shatters = pyro.sample(\n",
    "            \"bottle_shatters\", dist.Bernoulli(new_bsp)\n",
    "        )\n",
    "\n",
    "    return {\n",
    "            \"sally_throws\": sally_throws,\n",
    "            \"bill_throws\": bill_throws,\n",
    "            \"sally_hits\": sally_hits,\n",
    "            \"bill_hits\": bill_hits,\n",
    "            \"bottle_shatters\": bottle_shatters,\n",
    "        }\n",
    "\n",
    "stones_model.nodes = [\n",
    "            \"sally_throws\",\n",
    "            \"bill_throws\",\n",
    "            \"sally_hits\",\n",
    "            \"bill_hits\",\n",
    "            \"bottle_shatters\",\n",
    "        ]"
   ]
  },
  {
   "cell_type": "code",
   "execution_count": 58,
   "metadata": {},
   "outputs": [],
   "source": [
    "pyro.set_rng_seed(101)\n",
    "responsibility_stones_sally_HPR = HalpernPearlResponsibilityApproximate(\n",
    "    model = stones_model,\n",
    "    nodes = stones_model.nodes,\n",
    "    antecedent = \"sally_throws\", outcome = \"bottle_shatters\",\n",
    "    observations = {\"prob_sally_throws\": 1, \n",
    "                    \"prob_bill_throws\": 1,\n",
    "                    \"prob_sally_hits\": 1,\n",
    "                    \"prob_bill_hits\": 1,\n",
    "                    \"prob_bottle_shatters_if_sally\": 1,\n",
    "                    \"prob_bottle_shatters_if_bill\": 1,\n",
    "                    \"sally_throws\": 1, \"bill_throws\": 1},\n",
    "                      runs_n=100)\n",
    "\n",
    "responsibility_stones_sally_HPR()"
   ]
  },
  {
   "cell_type": "code",
   "execution_count": 59,
   "metadata": {},
   "outputs": [
    {
     "data": {
      "text/html": [
       "<div>\n",
       "<style scoped>\n",
       "    .dataframe tbody tr th:only-of-type {\n",
       "        vertical-align: middle;\n",
       "    }\n",
       "\n",
       "    .dataframe tbody tr th {\n",
       "        vertical-align: top;\n",
       "    }\n",
       "\n",
       "    .dataframe thead th {\n",
       "        text-align: right;\n",
       "    }\n",
       "</style>\n",
       "<table border=\"1\" class=\"dataframe\">\n",
       "  <thead>\n",
       "    <tr style=\"text-align: right;\">\n",
       "      <th></th>\n",
       "      <th>acs</th>\n",
       "      <th>antecedent_size</th>\n",
       "      <th>minimal_witness_size</th>\n",
       "      <th>denumerator</th>\n",
       "      <th>responsibility</th>\n",
       "    </tr>\n",
       "  </thead>\n",
       "  <tbody>\n",
       "    <tr>\n",
       "      <th>0</th>\n",
       "      <td>True</td>\n",
       "      <td>1</td>\n",
       "      <td>1</td>\n",
       "      <td>2</td>\n",
       "      <td>0.5</td>\n",
       "    </tr>\n",
       "  </tbody>\n",
       "</table>\n",
       "</div>"
      ],
      "text/plain": [
       "    acs  antecedent_size  minimal_witness_size  denumerator  responsibility\n",
       "0  True                1                     1            2             0.5"
      ]
     },
     "execution_count": 59,
     "metadata": {},
     "output_type": "execute_result"
    }
   ],
   "source": [
    "# minimal witness size becomes non-trivial here\n",
    "# we only record different minimal difference-making scenarios\n",
    "\n",
    "responsibility_stones_sally_HPR.responsibilityDF"
   ]
  },
  {
   "cell_type": "code",
   "execution_count": 60,
   "metadata": {},
   "outputs": [
    {
     "data": {
      "text/plain": [
       "0.5"
      ]
     },
     "execution_count": 60,
     "metadata": {},
     "output_type": "execute_result"
    }
   ],
   "source": [
    "# following Halpern\n",
    "# Sally's responsibility is 1/2\n",
    "\n",
    "responsibility_stones_sally_HPR.responsibility"
   ]
  },
  {
   "cell_type": "code",
   "execution_count": 68,
   "metadata": {},
   "outputs": [],
   "source": [
    "\n",
    "# Billy has degree of responsibility 0\n",
    "# for the bottle shattering,\n",
    "# as his throw is not a part of an actual cause\n",
    "\n",
    "pyro.set_rng_seed(102)\n",
    "\n",
    "responsibility_stones_bill_HPR = HalpernPearlResponsibilityApproximate(\n",
    "    model = stones_model,\n",
    "    nodes = stones_model.nodes,\n",
    "    antecedent = \"bill_throws\", outcome = \"bottle_shatters\",\n",
    "    observations = {\"prob_sally_throws\": 1, \n",
    "                    \"prob_bill_throws\": 1,\n",
    "                    \"prob_sally_hits\": 1,\n",
    "                    \"prob_bill_hits\": 1,\n",
    "                    \"prob_bottle_shatters_if_sally\": 1,\n",
    "                    \"prob_bottle_shatters_if_bill\": 1,\n",
    "                    \"sally_throws\": 1, \"bill_throws\": 1},\n",
    "                      runs_n=10)"
   ]
  },
  {
   "cell_type": "code",
   "execution_count": 66,
   "metadata": {},
   "outputs": [],
   "source": [
    "pyro.set_rng_seed(101)\n",
    "responsibility_stones_bill_HPR()"
   ]
  },
  {
   "cell_type": "code",
   "execution_count": 67,
   "metadata": {},
   "outputs": [
    {
     "data": {
      "text/plain": [
       "0"
      ]
     },
     "execution_count": 67,
     "metadata": {},
     "output_type": "execute_result"
    }
   ],
   "source": [
    "responsibility_stones_bill_HPR.responsibility"
   ]
  },
  {
   "attachments": {},
   "cell_type": "markdown",
   "metadata": {},
   "source": [
    "### Firing squad"
   ]
  },
  {
   "attachments": {},
   "cell_type": "markdown",
   "metadata": {},
   "source": [
    "There is a firing squad consisting of five excellent marksmen. Only one of them has a live bullet in his rifle and the rest have blanks. They shoot and the prisoner dies. The marksmen shoot at the prisoner and he dies. The only cause of the prisoner’s death is the marksman with the live bullet. That marksman has degree of responsibility 1 for the death and all the others have degree of responsibility 0. In the notebook on blame, TODO add link we will see that if the marksmen completely do not know which of them has the live bullet, blame is nevertheless equally distributed between them."
   ]
  },
  {
   "cell_type": "code",
   "execution_count": 69,
   "metadata": {},
   "outputs": [],
   "source": [
    "\n",
    "def firing_squad_model():\n",
    "    probs = pyro.sample(\"probs\", dist.Dirichlet(torch.ones(5)))\n",
    "\n",
    "    who_has_bullet = pyro.sample(\"who_has_bullet\", dist.OneHotCategorical(probs))\n",
    "\n",
    "    mark0 = pyro.deterministic(\"mark0\", torch.tensor([who[0] for who in who_has_bullet]), event_dim=0)\n",
    "    mark1 = pyro.deterministic(\"mark1\", torch.tensor([who[1] for who in who_has_bullet]), event_dim=0)\n",
    "    mark2 = pyro.deterministic(\"mark2\", torch.tensor([who[2] for who in who_has_bullet]), event_dim=0)\n",
    "    mark3 = pyro.deterministic(\"mark3\", torch.tensor([who[3] for who in who_has_bullet]), event_dim=0)\n",
    "    mark4 = pyro.deterministic(\"mark4\", torch.tensor([who[4] for who in who_has_bullet]), event_dim=0)\n",
    "\n",
    "    dead = pyro.deterministic(\"dead\", mark0 + mark1 + mark2 + mark3 + \n",
    "                                mark4  > 0)\n",
    "    \n",
    "    return {\"probs\": probs,\n",
    "            \"mark0\": mark0,\n",
    "            \"mark1\": mark1,\n",
    "            \"mark2\": mark2,\n",
    "            \"mark3\": mark3,\n",
    "            \"mark4\": mark4, \n",
    "            \"dead\": dead}\n",
    "\n"
   ]
  },
  {
   "cell_type": "code",
   "execution_count": 70,
   "metadata": {},
   "outputs": [],
   "source": [
    "pyro.set_rng_seed(102)\n",
    "\n",
    "responsibility_loaded_HPR = HalpernPearlResponsibilityApproximate(\n",
    "    model = firing_squad_model,\n",
    "    nodes = [\"mark\" + str(i) for i in range(0,5)],\n",
    "    antecedent = \"mark0\", outcome = \"dead\",\n",
    "    observations = {\"probs\": torch.tensor([1., 0., 0., 0., 0.]),},\n",
    "                      runs_n=50)\n"
   ]
  },
  {
   "cell_type": "code",
   "execution_count": 71,
   "metadata": {},
   "outputs": [],
   "source": [
    "pyro.set_rng_seed(102)\n",
    "\n",
    "responsibility_empty_HPR = HalpernPearlResponsibilityApproximate(\n",
    "    model = firing_squad_model,\n",
    "    nodes = [\"mark\" + str(i) for i in range(0,5)],\n",
    "    antecedent = \"mark1\", outcome = \"dead\",\n",
    "    observations = {\"probs\": torch.tensor([1., 0., 0., 0., 0.]),},\n",
    "                      runs_n=50)"
   ]
  },
  {
   "cell_type": "code",
   "execution_count": 75,
   "metadata": {},
   "outputs": [
    {
     "data": {
      "text/plain": [
       "1.0"
      ]
     },
     "execution_count": 75,
     "metadata": {},
     "output_type": "execute_result"
    }
   ],
   "source": [
    "# If you have the live bullet\n",
    "\n",
    "responsibility_loaded_HPR()\n",
    "responsibility_loaded_HPR.responsibility"
   ]
  },
  {
   "cell_type": "code",
   "execution_count": 74,
   "metadata": {},
   "outputs": [
    {
     "data": {
      "text/plain": [
       "0"
      ]
     },
     "execution_count": 74,
     "metadata": {},
     "output_type": "execute_result"
    }
   ],
   "source": [
    "# if you have a blank,\n",
    "# as we keep bullet's location constant in the model\n",
    "# nothing can make a difference to mark1's contribution\n",
    "# so his responsibility is zero\n",
    "\n",
    "responsibility_empty_HPR()\n",
    "responsibility_empty_HPR.responsibility"
   ]
  }
 ],
 "metadata": {
  "kernelspec": {
   "display_name": "causal_pyro",
   "language": "python",
   "name": "python3"
  },
  "language_info": {
   "codemirror_mode": {
    "name": "ipython",
    "version": 3
   },
   "file_extension": ".py",
   "mimetype": "text/x-python",
   "name": "python",
   "nbconvert_exporter": "python",
   "pygments_lexer": "ipython3",
   "version": "3.10.9"
  },
  "orig_nbformat": 4
 },
 "nbformat": 4,
 "nbformat_minor": 2
}

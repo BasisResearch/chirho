{
 "cells": [
  {
   "cell_type": "code",
   "execution_count": 24,
   "metadata": {},
   "outputs": [
    {
     "name": "stdout",
     "output_type": "stream",
     "text": [
      "env: CUDA_VISIBLE_DEVICES=-1\n"
     ]
    }
   ],
   "source": [
    "%env CUDA_VISIBLE_DEVICES=-1\n",
    "from typing import Callable, Dict, List, Optional\n",
    "\n",
    "import math\n",
    "import pyro\n",
    "import pyro.distributions as dist\n",
    "import pyro.distributions.constraints as constraints\n",
    "import torch\n",
    "from chirho.counterfactual.handlers.counterfactual import \\\n",
    "    MultiWorldCounterfactual\n",
    "from chirho.explainable.handlers import ExtractSupports, SearchForExplanation\n",
    "from chirho.indexed.ops import IndexSet, gather\n",
    "from chirho.observational.handlers import condition\n",
    "from chirho.observational.handlers.soft_conditioning import soft_eq, KernelSoftConditionReparam\n",
    "\n",
    "pyro.settings.set(module_local_params=True)"
   ]
  },
  {
   "cell_type": "code",
   "execution_count": 25,
   "metadata": {},
   "outputs": [],
   "source": [
    "def importance_infer(\n",
    "    model: Optional[Callable] = None, *, num_samples: int\n",
    "):\n",
    "    \n",
    "    if model is None:\n",
    "        return lambda m: importance_infer(m, num_samples=num_samples)\n",
    "\n",
    "    def _wrapped_model(\n",
    "        *args,\n",
    "        **kwargs\n",
    "    ):\n",
    "\n",
    "        guide = pyro.poutine.block(hide_fn=lambda msg: msg[\"is_observed\"])(model)\n",
    "\n",
    "        max_plate_nesting = 9  # TODO guess\n",
    "\n",
    "        with pyro.poutine.block(), MultiWorldCounterfactual() as mwc:\n",
    "            log_weights, importance_tr, _ = pyro.infer.importance.vectorized_importance_weights(\n",
    "                model,\n",
    "                guide,\n",
    "                *args,\n",
    "                num_samples=num_samples,\n",
    "                max_plate_nesting=max_plate_nesting,\n",
    "                normalized=False,\n",
    "                **kwargs\n",
    "            )\n",
    "\n",
    "        return torch.logsumexp(log_weights, dim=0) - math.log(num_samples), importance_tr, mwc, log_weights\n",
    "\n",
    "    return _wrapped_model"
   ]
  },
  {
   "cell_type": "code",
   "execution_count": 26,
   "metadata": {},
   "outputs": [],
   "source": [
    "def example():\n",
    "    A = pyro.sample(\"A\", dist.Bernoulli(0.5))\n",
    "    B = pyro.sample(\"B\", dist.Bernoulli(0.5))\n",
    "    C = pyro.sample(\"C\", dist.Bernoulli(A))\n",
    "    return {\"A\": A, \"B\": B, \"C\": C}\n",
    "\n",
    "with ExtractSupports() as extract_supports:\n",
    "    example()"
   ]
  },
  {
   "cell_type": "code",
   "execution_count": 30,
   "metadata": {},
   "outputs": [
    {
     "name": "stdout",
     "output_type": "stream",
     "text": [
      "tensor(0.1057)\n"
     ]
    }
   ],
   "source": [
    "query = SearchForExplanation(\n",
    "    supports=extract_supports.supports,\n",
    "    antecedents={\"A\": 1.0, \"B\": 1.0},\n",
    "    consequents={\"C\": torch.tensor(1.0)},\n",
    "    witnesses={},\n",
    "    alternatives={\"A\": 0.0, \"B\": 0.0},\n",
    "    antecedent_bias=0.4,\n",
    "    consequent_scale=1e-5,\n",
    ")(example)\n",
    "\n",
    "logp, trace, mwc, log_weights = importance_infer(num_samples=10000)(query)()\n",
    "print(torch.exp(logp))"
   ]
  },
  {
   "cell_type": "code",
   "execution_count": 31,
   "metadata": {},
   "outputs": [
    {
     "name": "stdout",
     "output_type": "stream",
     "text": [
      "tensor(0.1077)\n"
     ]
    }
   ],
   "source": [
    "mask_intervened = (trace.nodes[\"__cause____antecedent_B\"][\"value\"] == 0)\n",
    "print(torch.sum(torch.exp(log_weights) * mask_intervened.float().squeeze())/mask_intervened.float().sum())\n",
    "# Marginalizing over the fact that B was intervened on gives the following answer which accounts for the causal role of the set {A = 1, B = 1}"
   ]
  },
  {
   "cell_type": "code",
   "execution_count": 29,
   "metadata": {},
   "outputs": [
    {
     "name": "stdout",
     "output_type": "stream",
     "text": [
      "tensor(5.1220e-06)\n"
     ]
    }
   ],
   "source": [
    "mask_intervened = (trace.nodes[\"__cause____antecedent_B\"][\"value\"] == 0) & (trace.nodes[\"__cause____antecedent_A\"][\"value\"] == 1)\n",
    "print(torch.sum(torch.exp(log_weights) * mask_intervened.float().squeeze())/mask_intervened.float().sum())\n",
    "# Marginalizing over the fact that B was intervened on and A was not gives the following answer which agrees with the fact that B has no causal role\n"
   ]
  }
 ],
 "metadata": {
  "kernelspec": {
   "display_name": ".venv",
   "language": "python",
   "name": "python3"
  },
  "language_info": {
   "codemirror_mode": {
    "name": "ipython",
    "version": 3
   },
   "file_extension": ".py",
   "mimetype": "text/x-python",
   "name": "python",
   "nbconvert_exporter": "python",
   "pygments_lexer": "ipython3",
   "version": "3.10.14"
  }
 },
 "nbformat": 4,
 "nbformat_minor": 2
}

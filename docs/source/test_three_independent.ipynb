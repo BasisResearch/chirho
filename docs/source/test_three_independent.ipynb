{
 "cells": [
  {
   "cell_type": "code",
   "execution_count": 9,
   "metadata": {},
   "outputs": [],
   "source": [
    "import math\n",
    "\n",
    "import pyro\n",
    "import pyro.distributions as dist\n",
    "import pyro.distributions.constraints as constraints\n",
    "import torch\n",
    "\n",
    "from typing import Callable, Mapping, Optional, TypeVar, Union\n",
    "\n",
    "\n",
    "from chirho.explainable.handlers.components import (\n",
    "    consequent_eq_neq,\n",
    "    random_intervention,\n",
    "    sufficiency_intervention,\n",
    "    undo_split,\n",
    ")\n",
    "\n",
    "from chirho.observational.handlers.condition import Factors\n",
    "from chirho.counterfactual.handlers.counterfactual import MultiWorldCounterfactual\n",
    "from chirho.counterfactual.handlers.selection import get_factual_indices\n",
    "from chirho.explainable.handlers.components import undo_split, consequent_eq_neq, sufficiency_intervention\n",
    "from chirho.explainable.handlers.explanation import SearchForExplanation, SplitSubsets\n",
    "from chirho.explainable.handlers import ExtractSupports\n",
    "from chirho.observational.handlers.condition import Factors\n",
    "from chirho.interventional.handlers import do\n",
    "from chirho.explainable.handlers.preemptions import Preemptions\n",
    "from chirho.indexed.ops import IndexSet, gather\n",
    "from chirho.observational.handlers.condition import condition\n",
    "from chirho.indexed.ops import indices_of\n",
    "\n",
    "S = TypeVar(\"S\")\n",
    "T = TypeVar(\"T\")"
   ]
  },
  {
   "cell_type": "code",
   "execution_count": 10,
   "metadata": {},
   "outputs": [],
   "source": [
    "def model_three_independent():\n",
    "    X = pyro.sample(\"X\", dist.Bernoulli(0.5))\n",
    "    Y = pyro.sample(\"Y\", dist.Bernoulli(0.5))\n",
    "    Z = pyro.sample(\"Z\", dist.Bernoulli(0.5))\n",
    "    return {\"X\": X, \"Y\": Y, \"Z\": Z}\n",
    "\n",
    "with ExtractSupports() as supports_independent:\n",
    "    model_three_independent()"
   ]
  },
  {
   "cell_type": "code",
   "execution_count": 16,
   "metadata": {},
   "outputs": [
    {
     "name": "stdout",
     "output_type": "stream",
     "text": [
      "consequent tensor([1.])\n",
      "IndexSet({'X': {0}})\n",
      "dict_keys(['X', 'Z'])\n",
      "IndexSet({})\n"
     ]
    },
    {
     "ename": "AssertionError",
     "evalue": "",
     "output_type": "error",
     "traceback": [
      "\u001b[0;31m---------------------------------------------------------------------------\u001b[0m",
      "\u001b[0;31mAssertionError\u001b[0m                            Traceback (most recent call last)",
      "Cell \u001b[0;32mIn[16], line 17\u001b[0m\n\u001b[1;32m     15\u001b[0m trace_independent\u001b[38;5;241m.\u001b[39mtrace\u001b[38;5;241m.\u001b[39mcompute_log_prob\n\u001b[1;32m     16\u001b[0m nodes \u001b[38;5;241m=\u001b[39m trace_independent\u001b[38;5;241m.\u001b[39mtrace\u001b[38;5;241m.\u001b[39mnodes\n\u001b[0;32m---> 17\u001b[0m \u001b[38;5;28;01massert\u001b[39;00m nodes[\u001b[38;5;124m\"\u001b[39m\u001b[38;5;124m__cause____consequent_Y\u001b[39m\u001b[38;5;124m\"\u001b[39m][\u001b[38;5;124m\"\u001b[39m\u001b[38;5;124mfn\u001b[39m\u001b[38;5;124m\"\u001b[39m]\u001b[38;5;241m.\u001b[39mlog_factor\u001b[38;5;241m.\u001b[39mshape \u001b[38;5;241m==\u001b[39m torch\u001b[38;5;241m.\u001b[39mSize([\u001b[38;5;241m3\u001b[39m, \u001b[38;5;241m3\u001b[39m, \u001b[38;5;241m1\u001b[39m, \u001b[38;5;241m1\u001b[39m, \u001b[38;5;241m1\u001b[39m, \u001b[38;5;241m1\u001b[39m])\n",
      "\u001b[0;31mAssertionError\u001b[0m: "
     ]
    }
   ],
   "source": [
    "with MultiWorldCounterfactual() as mwc_independent: \n",
    "        with SearchForExplanation(\n",
    "            supports=supports_independent.supports,\n",
    "            antecedents={\"X\": torch.tensor(1.0), \"Z\": torch.tensor(1.0)},\n",
    "            consequents={\"Y\": torch.tensor(1.0)},\n",
    "            witnesses={},\n",
    "            alternatives={\"X\": torch.tensor(0.0), \"Z\": torch.tensor(0.0)},\n",
    "            antecedent_bias=-0.5,\n",
    "            consequent_scale=0,\n",
    "        ):\n",
    "            with pyro.plate(\"sample\", size=1):\n",
    "                with pyro.poutine.trace() as trace_independent:\n",
    "                    model_three_independent()\n",
    "\n",
    "trace_independent.trace.compute_log_prob\n",
    "nodes = trace_independent.trace.nodes\n",
    "assert nodes[\"__cause____consequent_Y\"][\"fn\"].log_factor.shape == torch.Size([3, 3, 1, 1, 1, 1])\n",
    "\n"
   ]
  }
 ],
 "metadata": {
  "kernelspec": {
   "display_name": ".venv",
   "language": "python",
   "name": "python3"
  },
  "language_info": {
   "codemirror_mode": {
    "name": "ipython",
    "version": 3
   },
   "file_extension": ".py",
   "mimetype": "text/x-python",
   "name": "python",
   "nbconvert_exporter": "python",
   "pygments_lexer": "ipython3",
   "version": "3.10.14"
  }
 },
 "nbformat": 4,
 "nbformat_minor": 2
}

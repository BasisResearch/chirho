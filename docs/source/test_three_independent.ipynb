{
 "cells": [
  {
   "cell_type": "code",
   "execution_count": 15,
   "metadata": {},
   "outputs": [],
   "source": [
    "import math\n",
    "\n",
    "import pyro\n",
    "import pyro.distributions as dist\n",
    "import pyro.distributions.constraints as constraints\n",
    "import torch\n",
    "\n",
    "from typing import Callable, Mapping, Optional, TypeVar, Union\n",
    "\n",
    "\n",
    "from chirho.explainable.handlers.components import (\n",
    "    consequent_eq_neq,\n",
    "    random_intervention,\n",
    "    sufficiency_intervention,\n",
    "    undo_split,\n",
    ")\n",
    "\n",
    "from chirho.observational.handlers.condition import Factors\n",
    "from chirho.counterfactual.handlers.counterfactual import MultiWorldCounterfactual\n",
    "from chirho.counterfactual.handlers.selection import get_factual_indices\n",
    "from chirho.explainable.handlers.components import undo_split, consequent_eq_neq, sufficiency_intervention\n",
    "from chirho.explainable.handlers.explanation import SearchForExplanation, SplitSubsets\n",
    "from chirho.explainable.handlers import ExtractSupports\n",
    "from chirho.observational.handlers.condition import Factors\n",
    "from chirho.interventional.handlers import do\n",
    "from chirho.explainable.handlers.preemptions import Preemptions\n",
    "from chirho.indexed.ops import IndexSet, gather\n",
    "from chirho.observational.handlers.condition import condition\n",
    "from chirho.indexed.ops import indices_of\n",
    "\n",
    "S = TypeVar(\"S\")\n",
    "T = TypeVar(\"T\")"
   ]
  },
  {
   "cell_type": "code",
   "execution_count": 16,
   "metadata": {},
   "outputs": [],
   "source": [
    "def model_three_independent():\n",
    "    X = pyro.sample(\"X\", dist.Bernoulli(0.5))\n",
    "    Y = pyro.sample(\"Y\", dist.Bernoulli(0.5))\n",
    "    Z = pyro.sample(\"Z\", dist.Bernoulli(0.5))\n",
    "    return {\"X\": X, \"Y\": Y, \"Z\": Z}\n",
    "\n",
    "with ExtractSupports() as supports_independent:\n",
    "    model_three_independent()"
   ]
  },
  {
   "cell_type": "code",
   "execution_count": 17,
   "metadata": {},
   "outputs": [
    {
     "name": "stdout",
     "output_type": "stream",
     "text": [
      "X Y Z\n",
      "X Z Y\n"
     ]
    }
   ],
   "source": [
    "antecedent_sets = [{\"X\": torch.tensor(1.0), \"Y\": torch.tensor(1.0)}, {\"X\": torch.tensor(1.0), \"Z\": torch.tensor(1.0)}]\n",
    "consequent_sets = [{\"Z\": torch.tensor(1.0)}, {\"Y\": torch.tensor(1.0)}]\n",
    "\n",
    "tests = [(\"X\", \"Y\", \"Z\"), (\"X\", \"Z\", \"Y\")]\n",
    "for antecedent1, antecedent2, consequent in tests:\n",
    "    print(antecedent1, antecedent2, consequent)\n",
    "    with MultiWorldCounterfactual() as mwc_independent: \n",
    "        with SearchForExplanation(\n",
    "            supports=supports_independent.supports,\n",
    "            antecedents={antecedent1: torch.tensor(0.0), antecedent2: torch.tensor(0.0)},\n",
    "            consequents={consequent: torch.tensor(1.0)},\n",
    "            witnesses={},\n",
    "            alternatives={antecedent1: torch.tensor(0.0), antecedent2: torch.tensor(0.0)},\n",
    "            antecedent_bias=-0.5,\n",
    "            consequent_scale=0,\n",
    "        ):\n",
    "            with pyro.plate(\"sample\", size=1):\n",
    "                with pyro.poutine.trace() as trace_independent:\n",
    "                    model_three_independent()\n",
    "\n",
    "    trace_independent.trace.compute_log_prob\n",
    "    nodes = trace_independent.trace.nodes\n",
    "\n",
    "    log_probs = nodes[f\"__cause____consequent_{consequent}\"][\"fn\"].log_factor\n",
    "\n",
    "    assert log_probs.shape == torch.Size([3, 3, 1, 1, 1, 1])\n",
    "\n",
    "    nec_worlds = IndexSet(**{name : {1} for name in [antecedent1, antecedent2]})\n",
    "    suff_worlds = IndexSet(**{name : {2} for name in [antecedent1, antecedent2]})\n",
    "\n",
    "    with mwc_independent:\n",
    "        nec_lp = gather(log_probs, nec_worlds)\n",
    "        if nodes[consequent][\"value\"].item() == 1:\n",
    "            assert nec_lp.exp().item() == 0.0 \n",
    "        else:\n",
    "            assert nec_lp.exp().item() == 1.0\n",
    "\n",
    "        suff_lp = gather(log_probs, suff_worlds)\n",
    "        if nodes[consequent][\"value\"].item() == 1:\n",
    "            assert suff_lp.exp().item() == 1.0\n",
    "        else:\n",
    "            assert suff_lp.exp().item() == 0.0\n",
    "\n",
    "    assert torch.allclose(log_probs.squeeze().fill_diagonal_(0.0), torch.tensor(0.0))"
   ]
  }
 ],
 "metadata": {
  "kernelspec": {
   "display_name": ".venv",
   "language": "python",
   "name": "python3"
  },
  "language_info": {
   "codemirror_mode": {
    "name": "ipython",
    "version": 3
   },
   "file_extension": ".py",
   "mimetype": "text/x-python",
   "name": "python",
   "nbconvert_exporter": "python",
   "pygments_lexer": "ipython3",
   "version": "3.10.14"
  }
 },
 "nbformat": 4,
 "nbformat_minor": 2
}

{
 "cells": [
  {
   "cell_type": "markdown",
   "metadata": {},
   "source": [
    "# Example: Deep structural causal model counterfactuals"
   ]
  },
  {
   "cell_type": "code",
   "execution_count": 1,
   "metadata": {},
   "outputs": [
    {
     "name": "stderr",
     "output_type": "stream",
     "text": [
      "/Users/archana/opt/anaconda3/envs/causal_pyro/lib/python3.9/site-packages/tqdm-4.64.1-py3.9.egg/tqdm/auto.py:22: TqdmWarning: IProgress not found. Please update jupyter and ipywidgets. See https://ipywidgets.readthedocs.io/en/stable/user_install.html\n",
      "  from .autonotebook import tqdm as notebook_tqdm\n"
     ]
    }
   ],
   "source": [
    "from typing import Dict, List, Optional, Tuple, Union, TypeVar\n",
    "\n",
    "import torch\n",
    "import pyro\n",
    "import pyro.distributions as dist\n",
    "from pyro.poutine import condition, reparam\n",
    "from pyro.nn import PyroParam, PyroSample, PyroModule\n",
    "import pyro.distributions.transforms as Transforms\n",
    "from pyro.infer import SVI, Trace_ELBO\n",
    "\n",
    "import causal_pyro\n",
    "from causal_pyro.query.do_messenger import do\n",
    "from causal_pyro.counterfactual.handlers import Factual, MultiWorldCounterfactual, TwinWorldCounterfactual\n",
    "\n",
    "import pandas as pd\n",
    "import os\n",
    "import gzip\n",
    "import struct\n",
    "import numpy as np\n",
    "# import seaborn as sns\n",
    "import matplotlib.pyplot as plt"
   ]
  },
  {
   "cell_type": "markdown",
   "metadata": {},
   "source": [
    "## Background: Normalizing flows and counterfactuals\n",
    "\n",
    "Much of the causal inference literature has focused on relatively simple\n",
    "causal models with low dimensional data. In order to perform\n",
    "counterfactual reasoning in more complex domains with high dimensional\n",
    "data, Palowski et al. [@pawlowski2020deep] introduced *deep structural\n",
    "causal models* (Deep SCMs): SCMs with neural networks as the functional\n",
    "mechanisms between variables.\n",
    "\n",
    "Specifically, the neural networks are\n",
    "*normalizing flows*. A normalizing flow transforms a base probability\n",
    "distribution (often a simple distribution, such as a multivariate\n",
    "Gaussian) through a sequence of invertible transformations into a more\n",
    "complex distribution (such as a distribution over images). When used\n",
    "within a Deep SCM, the flow's base distribution is an exogenous noise\n",
    "variable, and its output is an endogenous variable.\n",
    "\n",
    "A salient property\n",
    "of normalizing flows is that computing the likelihood of data can be\n",
    "done both exactly and efficiently, and hence training a flow to model a\n",
    "data distribution through maximum likelihood is straightforward. In\n",
    "addition, the inverse of a normalizing flow can also typically be\n",
    "efficiently computed, which renders the abduction step of a\n",
    "counterfactual---inferring the posterior over exogenous variables given\n",
    "evidence---trivial."
   ]
  },
  {
   "cell_type": "markdown",
   "metadata": {},
   "source": [
    "## Example: Morpho-MNIST\n",
    "\n",
    "We consider a synthetic dataset based on MNIST, where the image of each digit ($X$) depends on stroke thickness ($T$) and brightness ($I$) of the image and the thickness depends on brightness as well.\n",
    "\n",
    "We assume we know full causal structure (i.e., there are no unconfounded variables)."
   ]
  },
  {
   "cell_type": "code",
   "execution_count": 2,
   "metadata": {},
   "outputs": [],
   "source": [
    "def load_idx(path: str) -> np.ndarray:\n",
    "    \"\"\"Reads an array in IDX format from disk.\n",
    "    Parameters\n",
    "    ----------\n",
    "    path : str\n",
    "        Path of the input file. Will uncompress with `gzip` if path ends in '.gz'.\n",
    "    Returns\n",
    "    -------\n",
    "    np.ndarray\n",
    "        Output array of dtype ``uint8``.\n",
    "    References\n",
    "    ----------\n",
    "    http://yann.lecun.com/exdb/mnist/\n",
    "    \"\"\"\n",
    "    open_fcn = gzip.open if path.endswith('.gz') else open\n",
    "    with open_fcn(path, 'rb') as f:\n",
    "        idx_dtype, ndim = struct.unpack('BBBB', f.read(4))[2:]\n",
    "        shape = struct.unpack('>' + 'I' * ndim, f.read(4 * ndim))\n",
    "        buffer_length = int(np.prod(shape))\n",
    "        data = np.frombuffer(f.read(buffer_length), dtype=np.uint8).reshape(shape).astype(np.float32)\n",
    "        return data\n",
    "    \n",
    "path = os.path.join(os.getcwd(), \"../datasets/morphomnist/\")\n",
    "metrics = pd.read_csv(path + \"train-morpho.csv\", index_col= 'index')\n",
    "# raw_labels = load_idx(path+\"train-labels-idx1-ubyte.gz\")\n",
    "raw_images = load_idx(path+\"train-images-idx3-ubyte.gz\")\n",
    "\n",
    "thickness = torch.tensor(metrics[\"thickness\"], dtype=torch.float32)\n",
    "intensity = torch.tensor(metrics[\"intensity\"], dtype=torch.float32)\n",
    "# labels = torch.tensor(raw_labels, dtype=torch.float32)\n",
    "images = torch.tensor(raw_images, dtype=torch.float32)"
   ]
  },
  {
   "cell_type": "code",
   "execution_count": 3,
   "metadata": {},
   "outputs": [
    {
     "data": {
      "image/png": "[encoded data removed]",
      "text/plain": [
       "<Figure size 640x480 with 4 Axes>"
      ]
     },
     "metadata": {},
     "output_type": "display_data"
    }
   ],
   "source": [
    "f, ax = plt.subplots(4, 1)\n",
    "ax[0] = plt.imshow(images[0])\n",
    "ax[1] = plt.imshow(images[1])\n",
    "ax[2] = plt.imshow(images[2])\n",
    "ax[3] = plt.imshow(images[3])\n",
    "plt.show()"
   ]
  },
  {
   "cell_type": "markdown",
   "metadata": {},
   "source": [
    "## Model: deep structural causal model\n",
    "\n",
    "The following code models morphological transformations of MNIST,\n",
    "defining a causal generative model over digits that contains endogenous\n",
    "variables to control the width $t$ and intensity $i$ of the stroke:"
   ]
  },
  {
   "cell_type": "code",
   "execution_count": null,
   "metadata": {},
   "outputs": [],
   "source": [
    "params = {\"intensity_flow_bias\": intensity.min(),\n",
    "\"intensity_flow_weight\": (intensity.max() - intensity.min()),\n",
    "\"thickness_flow_bias\": thickness.log().mean(),\n",
    "\"thickness_flow_weight\": thickness.log().std()}"
   ]
  },
  {
   "cell_type": "code",
   "execution_count": null,
   "metadata": {},
   "outputs": [],
   "source": [
    "# class DeepSCM_old(PyroModule):\n",
    "#     def __init__(self,\n",
    "#                  SetThickness = Transforms.conditional_spline(input_dim=28*28, context_dim=1, count_bins=16),\n",
    "#                  SetIntensity = Transforms.conditional_spline(input_dim=28*28, context_dim=1, count_bins=16)\n",
    "#                 ):\n",
    "#         super().__init__()\n",
    "#         self.SetThickness = SetThickness\n",
    "#         self.SetIntensity = SetIntensity\n",
    "    \n",
    "#     def forward(self):\n",
    "#         UT = dist.Gamma(10, 5).expand([1]).to_event(1)\n",
    "#         UI = dist.Normal(0, 1).expand([1]).to_event(1)\n",
    "#         UX = dist.Normal(0, 1).expand([28*28]).to_event(1)\n",
    "#         T = pyro.sample(\"T\", dist.TransformedDistribution(UT, [Transforms.AffineTransform(0.5, 1)]))\n",
    "#         I_transforms = [\n",
    "#             Transforms.AffineTransform(2*T - 5, 0.5),\n",
    "#             Transforms.SigmoidTransform(),\n",
    "#             Transforms.AffineTransform(64, 191)\n",
    "#         ]\n",
    "#         I = pyro.sample(\"I\", dist.TransformedDistribution(UI, I_transforms))\n",
    "#         flow_dist_thickness = dist.ConditionalTransformedDistribution(UX, [self.SetThickness])\n",
    "#         flow_dist_thickness = flow_dist_thickness.condition(context=T)\n",
    "#         flow_dist_intensity = dist.ConditionalTransformedDistribution(flow_dist_thickness, [self.SetIntensity])\n",
    "#         flow_dist_intensity = flow_dist_intensity.condition(context=I)\n",
    "#         X = pyro.sample(\"X\", flow_dist_intensity)\n",
    "#         return X\n",
    "\n",
    "# scm_old = DeepSCM_old()\n",
    "# print(list(dict(scm_old.named_parameters()).keys()))\n",
    "# pyro.render_model(scm_old, model_args=())"
   ]
  },
  {
   "cell_type": "code",
   "execution_count": null,
   "metadata": {},
   "outputs": [],
   "source": [
    "class DeepSCM(PyroModule):\n",
    "    def __init__(self):\n",
    "        super().__init__()\n",
    "        # Thickness parameters\n",
    "        self.thickness_param = Transforms.Spline(1)\n",
    "        \n",
    "        # Intensity parameters\n",
    "        intensity_net = pyro.nn.ConditionalAutoRegressiveNN(1, 1, hidden_dims=[10], nonlinearity=torch.nn.Identity())\n",
    "        self.intensity_param = Transforms.ConditionalAffineAutoregressive(intensity_net)\n",
    "        \n",
    "        # Image parameters\n",
    "        self.f_X = Transforms.conditional_affine_autoregressive(input_dim=28*28, context_dim=2)\n",
    "        self.img_affine_coupling = Transforms.affine_coupling(input_dim=28*28)\n",
    "#         self.img_batchnorm = Transforms.batchnorm(input_dim=28*28)   # Takes too long -- breaks render_model\n",
    "        self.img_planar = Transforms.affine_autoregressive(input_dim=28*28)\n",
    "        \n",
    "    def forward(self):\n",
    "        UT = dist.Gamma(10, 5).expand([1]).to_event(1)\n",
    "        UI = dist.Normal(0, 1).expand([1]).to_event(1)\n",
    "        UX = dist.Normal(0, 1).expand([28*28]).to_event(1)\n",
    "        T = pyro.sample(\"T\", dist.TransformedDistribution(UT, [Transforms.AffineTransform(0.5, 1)]))\n",
    "        I_transforms = [\n",
    "            Transforms.AffineTransform(2*T - 5, 0.5),\n",
    "            Transforms.SigmoidTransform(),\n",
    "            Transforms.AffineTransform(64, 191)\n",
    "        ]\n",
    "        I = pyro.sample(\"I\", dist.TransformedDistribution(UI, I_transforms))\n",
    "        \n",
    "#         # Thickness:\n",
    "#         UT = dist.Normal(0, 1).expand([1]).to_event(1)\n",
    "#         thickness_flow_loc = params[\"thickness_flow_bias\"]\n",
    "#         thickness_flow_scale = params[\"thickness_flow_weight\"]\n",
    "#         thickness_flow_lognorm = Transforms.AffineTransform(loc=thickness_flow_loc, scale=thickness_flow_scale)\n",
    "#         t_transforms = [\n",
    "#             self.thickness_param,\n",
    "#             thickness_flow_lognorm,\n",
    "#             Transforms.ExpTransform()\n",
    "#         ]\n",
    "#         T = pyro.sample(\"T\", dist.TransformedDistribution(UT, t_transforms))\n",
    "        \n",
    "        \n",
    "#         # Intensity:\n",
    "#         UI = dist.Normal(0, 1).expand([1]).to_event(1)\n",
    "#         intensity_flow_loc = params[\"intensity_flow_bias\"]\n",
    "#         intensity_flow_scale = params[\"intensity_flow_weight\"]\n",
    "#         intensity_flow_norm = Transforms.AffineTransform(loc=intensity_flow_loc, scale=intensity_flow_scale)\n",
    "#         intensity_tranforms = [\n",
    "#             self.intensity_param,\n",
    "#             Transforms.SigmoidTransform(), \n",
    "#             intensity_flow_norm\n",
    "#         ]\n",
    "#         I = pyro.sample(\"I\", dist.ConditionalTransformedDistribution(UI, intensity_tranforms).condition(context=T))\n",
    "        \n",
    "        \n",
    "        # Image:\n",
    "        UX = dist.Normal(0, 1).expand([28*28]).to_event(1)\n",
    "        \n",
    "        # Preprocessing\n",
    "        alpha = 0.005\n",
    "        num_bits = 8\n",
    "        s = Transforms.SigmoidTransform()\n",
    "        preprocess_transform = Transforms.ComposeTransform([\n",
    "            Transforms.AffineTransform(0., (1. / 2 ** num_bits)),\n",
    "            Transforms.AffineTransform(alpha, (1 - alpha)),\n",
    "            s.inv\n",
    "        ])\n",
    "        \n",
    "        # NF Layers for image:\n",
    "        img_affine_coupling = self.img_affine_coupling\n",
    "#         img_batchnorm = self.img_batchnorm\n",
    "        img_planar = self.img_planar\n",
    "        \n",
    "        \n",
    "        h_X = dist.ConditionalTransformedDistribution(UX, [preprocess_transform,\n",
    "                                                           self.f_X, \n",
    "                                                           img_affine_coupling,\n",
    "#                                                          img_batchnorm,\n",
    "                                                           img_planar])\n",
    "        h_X = h_X.condition(context=torch.cat((T, I), dim=-1))\n",
    "        assert torch.cat((T, I), dim=-1).shape[-1:] == (2,)\n",
    "        X = pyro.sample(\"X\", h_X)\n",
    "        return X"
   ]
  },
  {
   "cell_type": "code",
   "execution_count": null,
   "metadata": {},
   "outputs": [],
   "source": [
    "scm = DeepSCM()\n",
    "print(list(dict(scm.named_parameters()).keys()))\n",
    "print(pyro.poutine.trace(scm).get_trace().log_prob_sum())\n",
    "pyro.render_model(scm)"
   ]
  },
  {
   "cell_type": "code",
   "execution_count": null,
   "metadata": {},
   "outputs": [],
   "source": [
    "intervened_scm = do(scm, {\"T\": torch.randn(1)})\n",
    "# intervened_scm()\n",
    "pyro.render_model(intervened_scm)"
   ]
  },
  {
   "cell_type": "code",
   "execution_count": null,
   "metadata": {},
   "outputs": [],
   "source": [
    "def conditioned_scm(model):\n",
    "    def query_model(t_obs, i_obs, x_obs):\n",
    "        with pyro.condition(data={\"X\": x_obs, \"T\": t_obs, \"I\": i_obs}), \\\n",
    "                pyro.plate(\"data\", size=x_obs.shape[0], dim=-1):\n",
    "            return model()\n",
    "    return query_model\n",
    "\n",
    "conditioned_model = conditioned_scm(scm)\n",
    "imgs = conditioned_model(thickness[:3, None], intensity[:3, None], images[:3].reshape(-1, 28*28))\n",
    "pyro.render_model(conditioned_model, model_args=(thickness[:2][..., None], intensity[:2][..., None], images[:2].reshape(-1, 28*28)))"
   ]
  },
  {
   "cell_type": "code",
   "execution_count": null,
   "metadata": {},
   "outputs": [],
   "source": [
    "plt.imshow(imgs[0].reshape((28, 28)))"
   ]
  },
  {
   "cell_type": "code",
   "execution_count": null,
   "metadata": {},
   "outputs": [],
   "source": [
    "adam_params = {\"lr\": 0.0001, \"betas\": (0.90, 0.999)}\n",
    "optimizer = pyro.optim.ClippedAdam(adam_params)\n",
    "empty_guide = lambda *args: None\n",
    "svi = SVI(conditioned_model, empty_guide, optimizer, loss=Trace_ELBO(num_particles=4, vectorize_particles=True))\n",
    "predictive = pyro.infer.Predictive(scm, guide=empty_guide, num_samples=32)\n",
    "\n",
    "pyro.clear_param_store()\n",
    "n_steps = 1000\n",
    "for i in range(5):\n",
    "    batch_idx = torch.randperm(images.shape[0])[:256]\n",
    "    loss = svi.step(thickness[batch_idx, None], intensity[batch_idx, None], images[batch_idx].reshape(-1, 28*28))\n",
    "    print(loss)"
   ]
  },
  {
   "cell_type": "code",
   "execution_count": null,
   "metadata": {},
   "outputs": [],
   "source": [
    "img = predictive()[\"X\"]"
   ]
  },
  {
   "cell_type": "code",
   "execution_count": null,
   "metadata": {},
   "outputs": [],
   "source": [
    "plt.imshow(img.detach().reshape((28, 28)))"
   ]
  },
  {
   "cell_type": "markdown",
   "metadata": {},
   "source": [
    "## Query: counterfactual data generation\n",
    "\n",
    "Next we ask a *counterfactual* question: given an observed digit $X$, what\n",
    "would the digit have been had $t$ been $t + 1$?\n",
    "\n",
    "To compute this quantity we would normally:\n",
    "   1. invert the model to find latent exogenous noise $u$\n",
    "   2. construct an intervened model\n",
    "   3. re-simulate the forward model on the $u$ [@pearl2011algorithmization].  \n",
    "\n",
    "However, we can equivalently\n",
    "represent this process with inference in a single, expanded\n",
    "probabilistic program containing two copies of every deterministic\n",
    "statement (a so-called \\\"twin network\\\" representation of\n",
    "counterfactuals, first described in Chapter 7 of [@pearl] and extended\n",
    "to the PPL setting in [@tavares_2020])"
   ]
  },
  {
   "cell_type": "code",
   "execution_count": null,
   "metadata": {},
   "outputs": [],
   "source": [
    "x_obs = torch.tensor(np.array(Image.open(path+\"images_5/0\")).flatten())\n",
    "plt.imshow(x_obs.detach().reshape((28, 28)))"
   ]
  },
  {
   "cell_type": "code",
   "execution_count": null,
   "metadata": {},
   "outputs": [],
   "source": [
    "def deep_scm_query(model: DeepSCM):\n",
    "    return do(actions={\"T\": 1})(\n",
    "        condition(data={\"X\": x_obs})(\n",
    "            TwinWorldCounterfactual(dim=-1)(\n",
    "                reparam(config=pyro.infer.reparam.AutoReparam())(\n",
    "                    model))))\n",
    "\n",
    "cf_model = deep_scm_query(p)"
   ]
  },
  {
   "cell_type": "code",
   "execution_count": null,
   "metadata": {},
   "outputs": [],
   "source": [
    "plt.imshow(cf_model().detach().reshape((28, 28)))"
   ]
  },
  {
   "cell_type": "markdown",
   "metadata": {},
   "source": [
    "Like all counterfactuals, this estimand is not identified in general\n",
    "without further assumptions: learning parameters $\\theta$ that match\n",
    "observed data does not guarantee that the counterfactual distribution\n",
    "will match that of the true causal model. \n",
    "\n",
    "However, as discussed in the\n",
    "original paper [@pawlowski2020deep] in the context of modeling MRI\n",
    "images, there are a number of valid practical reasons one might wish to\n",
    "compute it anyway, such as explanation or expert evaluation."
   ]
  },
  {
   "cell_type": "markdown",
   "metadata": {},
   "source": []
  }
 ],
 "metadata": {
  "kernelspec": {
   "display_name": "Python 3.9.6 64-bit",
   "language": "python",
   "name": "python3"
  },
  "language_info": {
   "codemirror_mode": {
    "name": "ipython",
    "version": 3
   },
   "file_extension": ".py",
   "mimetype": "text/x-python",
   "name": "python",
   "nbconvert_exporter": "python",
   "pygments_lexer": "ipython3",
   "version": "3.9.6"
  },
  "vscode": {
   "interpreter": {
    "hash": "31f2aee4e71d21fbe5cf8b01ff0e069b9275f58929596ceb00d14d90e3e16cd6"
   }
  }
 },
 "nbformat": 4,
 "nbformat_minor": 2
}

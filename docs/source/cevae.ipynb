{
 "cells": [
  {
   "attachments": {},
   "cell_type": "markdown",
   "metadata": {},
   "source": [
    "# Causal Effect Variational Autoencoder Example"
   ]
  },
  {
   "attachments": {},
   "cell_type": "markdown",
   "metadata": {},
   "source": [
    "## Outline\n",
    "\n",
    "[Setup](#setup)\n",
    "\n",
    "[Overview: Systematically adjusting for observed confounding](#overview-systematically-adjusting-for-observed-confounding)\n",
    "- [Task: Treatment effect estimation with observational data](#task-treatment-effect-estimation-with-observational-data)\n",
    "- [Challenge: Confounding](#challenge-confounding)\n",
    "- [Assumptions: All latent confounders influence at least one \"proxy\" covariate](#assumptions-all-latent-confounders-influence-at-least-one-proxy-covariate)\n",
    "- [Intuition: Adjusting for confounding via proxies](#intuition-adjusting-for-confounding-via-proxies)\n",
    "\n",
    "[Example: Synthetic data](#example-synthetic-data)\n",
    "\n",
    "[Causal Probabilistic Program](#causal-probabilistic-program)\n",
    "- [Model Description](#model-description)\n",
    "- [Prior Description](#prior-description)\n",
    "\n",
    "[Causal Query: conditional average treatment effect](#causal-query-average-treatment-effect-ate)\n",
    "- [Fit parameter via maximum likelihood](#fit-parameters-via-maximum-likelihood)\n",
    "\n",
    "[Causal Inference as Probabilistic Inference](#causal-inference-as-probabilistic-inference)\n",
    "- [Maximum Likelihood Inference](#maximum-likelihood-inference)\n",
    "- [Maximum a Posteriori Inference](#maximum-a-posteriori-inference)\n",
    "\n",
    "[Results](#results)\n"
   ]
  },
  {
   "attachments": {},
   "cell_type": "markdown",
   "metadata": {},
   "source": [
    "## Setup"
   ]
  },
  {
   "attachments": {},
   "cell_type": "markdown",
   "metadata": {},
   "source": [
    "Here, we install the necessary Pytorch, Pyro, and Causal Pyro dependencies for this example."
   ]
  },
  {
   "cell_type": "code",
   "execution_count": 34,
   "metadata": {},
   "outputs": [],
   "source": [
    "# TODO trim this down to just the CEVAE example.\n",
    "\n",
    "# from typing import Callable, Dict, List, Optional, Tuple, Union, TypeVar\n",
    "\n",
    "import matplotlib.pyplot as plt\n",
    "\n",
    "import torch\n",
    "import torch.nn as nn\n",
    "# from torch.utils.data import DataLoader, TensorDataset\n",
    "\n",
    "import pyro\n",
    "import pyro.distributions as dist\n",
    "# from pyro.infer import SVI, Trace_ELBO, TraceEnum_ELBO, config_enumerate, infer_discrete\n",
    "# from pyro.infer.util import torch_item\n",
    "from pyro.nn import PyroModule#, PyroSample, PyroParam\n",
    "# from pyro.contrib.autoname import scope\n",
    "from pyro.poutine import condition#, reparam\n",
    "# from pyro.optim import ClippedAdam\n",
    "# from pyro.util import torch_isnan\n",
    "\n",
    "# import causal_pyro\n",
    "from causal_pyro.interventional.handlers import do\n",
    "# from causal_pyro.counterfactual.handlers import Factual, MultiWorldCounterfactual, TwinWorldCounterfactual\n",
    "from causal_pyro.counterfactual.handlers import MultiWorldCounterfactual\n"
   ]
  },
  {
   "attachments": {},
   "cell_type": "markdown",
   "metadata": {},
   "source": [
    "## Overview: Proxy variables and latent confounders"
   ]
  },
  {
   "attachments": {},
   "cell_type": "markdown",
   "metadata": {},
   "source": [
    "### **Task:** Treatment effect estimation with observational data\n",
    "\n",
    "Just as in the [backdoor](backdoor.ipynb) and [slc](slc.ipynb) examples, in this example we are interested in estimating how changes (or interventions) to a particular treatment variable $T$ influence a particular outcome variable $Y$. We wish to estimate this causal effect using *observational* (non-randomized) data from $T$, $Y$, and some collection of covariates $X =\\{X_1, ..., X_d\\}$."
   ]
  },
  {
   "attachments": {},
   "cell_type": "markdown",
   "metadata": {},
   "source": [
    "### **Challenge:** Confounding\n",
    "\n",
    "As the task here is exactly identical to the [backdoor](backdoor.ipynb) and [slc](slc.ipynb) examples, so too are the challenges. From the [backdoor](backdoor.ipynb) example: \n",
    "\n",
    "\"Unfortunately, naively estimating the effect of an intervention by simply approximating $P(Y|T)$ alone may produce poor estimates of $T$'s effect on $Y$.\"\n",
    "\n",
    "Note: While the challenges remain the same between these examples, the assumptions we make will differ substantially."
   ]
  },
  {
   "attachments": {},
   "cell_type": "markdown",
   "metadata": {},
   "source": [
    "### **Assumptions:** All latent confounders influence at least one \"proxy\" covariate\n",
    "\n",
    "In the [backdoor](backdoor.ipynb) example we saw how to estimate causal effects from observational data when all confounders were observed. In the [slc](slc.ipynb) example we softened this assumption, instead allowing some latent confounders to be shared between instances (e.g. students) belonging to the same object (e.g. school). In this example we again soften the restrictive assumptions made in the [backdoor](backdoor.ipynb) example, however using a different assumption about the relationship between potential latent confounders $Z$ and data $T$, $Y$, and $X$.\n",
    "\n",
    "Specifically, in this example we assume that every latent confounder $Z_i \\in Z$ is a cause of at least one \"proxy\" covariate $X_j \\in X$. See Figure 1 in Louizos et al. [louizos2017causal] for a graphical description of these assumptions.\n",
    "\n",
    "Importantly, in this work we do not wish to make strong parameteric assumptions (e.g. linear structural functions) relating latent confounders, proxy covariates, treatment, and outcome. As we'll see later, we can instead approximate these local causal dependencies using probabilistic models with neural network components.\n",
    "\n",
    "**Note:** In the original paper introducing the CEVAE model [louizos2017causal], the authors prove a theorem (Theorem 1) stating that the conditional average treatment effect is identifiable if the model is correctly specified, including a strong assumption about the marginal distribution over latent confounders $Z$. Recent work [rissanen2021critical] has investigated the consequences of misspecifying components of the CEVAE model, concluding that its derived causal estimate are in fact sensitive to these detailed assumptions about the generative model. While some more restrictive settings may yield more robust identification results or bounds on causal effects (e.g. binary variables [kuroki2014measurement]), to the best of our knowledge little more is known about the nonparametric or semiparametric settings.\n",
    "\n",
    "Rissanen, Severi, and Pekka Marttinen. \"A critical look at the consistency of causal estimation with deep latent variable models.\" Advances in Neural Information Processing Systems 34 (2021): 4207-4217.\n",
    "\n",
    "Kuroki, Manabu, and Judea Pearl. \"Measurement bias and effect restoration in causal inference.\" Biometrika 101.2 (2014): 423-437."
   ]
  },
  {
   "attachments": {},
   "cell_type": "markdown",
   "metadata": {},
   "source": [
    "### **Intuition:** Adjusting for confounding via proxies\n",
    "\n",
    "In the [backdoor](backdoor.ipynb) tutorial we discussed how to estiamte causal effects with observational data by partitioning individual units into nonoverlapping subgroups such that each subgroup had similar or identical values of observed covariates $X$. When all confounders are observed, \"adjusting for\" confounders in this way produces unbiased estimates of the population-level causal effects we are interested in. However, this is not the case when some confounders are latent.\n",
    "\n",
    "In this example we have made an additional assumption that all latent confounders causally influence at least one observed covariate, which we call \"proxy confounders\". Imagine for moment a scenario where this causal relationship is deterministic, bijective, and smooth. In this idealized scenario partitioning groups of individuals based on observed covariates $X$ produces groups that are equivalent to those we would have produced if the latent confounders $Z$ were in fact observed. This is true even though we don't know the true assignments of $Z$ for our observed data; as every subgroup will have similar values by construction. \n",
    "\n",
    "In practice, the relationship between latent confounders and observed covariates never satisfies this idealized deterministic property. Instead, the CEVAE model includes an explicitly probabilistic relationship between latent confounders and observed covariates, using neural network components as function approximators. With the previous caveat about identifiability and robustness of the CEVAE model aside, we can intuit that conditioning on these proxy confounders will update our posterior beliefs about which latent confounders are similar to each other, albiet without absolute certainty."
   ]
  },
  {
   "attachments": {},
   "cell_type": "markdown",
   "metadata": {},
   "source": [
    "## Example: Synthetic Data\n",
    "\n",
    "In this example we'll use synthetic data to demonstrate the CEVAE model. Here we generate observed and counterfactual data, which can then be used to compute a \"ground truth\" treatment effect for us to compare against when we use Causal Pyro for causal inference later."
   ]
  },
  {
   "cell_type": "code",
   "execution_count": 35,
   "metadata": {},
   "outputs": [],
   "source": [
    "num_train, num_test = 10000, 2000\n",
    "feature_dim = 10\n",
    "z_gap = 1.\n",
    "y_gap = 3.\n",
    "\n",
    "def generate_data(num_data, feature_dim, z_gap, y_gap):\n",
    "\n",
    "    # Latent confounder z is binary.\n",
    "    z = dist.Bernoulli(0.5).sample([num_data])\n",
    "\n",
    "    # Covariates x are normally distributed, with higher variance for z=1.\n",
    "    x = dist.Normal(z * z_gap, 5 * z + 3 * (1 - z)).sample([feature_dim]).t()\n",
    "\n",
    "    # Treatment t is binary, with higher probability for z=1.\n",
    "    t = dist.Bernoulli(0.75 * z + 0.25 * (1 - z)).sample()\n",
    "\n",
    "    # Outcome y is binary, with higher probability for z=1 and t=1.\n",
    "    y = dist.Bernoulli(logits=y_gap * (z + 2 * (2 * t - 1))).sample()\n",
    "\n",
    "    # Compute true c-specific CATE for evaluation.\n",
    "    t0_t1 = torch.tensor([[0.0], [1.0]])\n",
    "    y_t0, y_t1 = dist.Bernoulli(logits=y_gap * (z + 2 * (2 * t0_t1 - 1))).mean\n",
    "    true_cates = y_t1 - y_t0\n",
    "    return x, t, y, z, true_cates\n",
    "\n",
    "# Note: In the CEVAE paper they refer to c-specific causal effects as individual treatment effects.\n",
    "# We use the term c-specific causal effects to be consistent with the terminology in the broader causal inference literature.\n",
    "\n",
    "x, t, y, _, _ = generate_data(num_train, feature_dim, z_gap, y_gap)\n",
    "x_test, _, _, z_test, true_cates = generate_data(num_test, feature_dim, z_gap, y_gap)"
   ]
  },
  {
   "attachments": {},
   "cell_type": "markdown",
   "metadata": {},
   "source": [
    "## Causal Probabilistic Program\n",
    "\n",
    "Our causal assumptions can be encoded as a probabilistic program in Pyro. Here, unlike the [backdoor](backdoor.ipynb) and [slc](slc.ipynb) tutorials, we'll perform maximum likelihood inference over neural network parameters, and then only later use variational approximations for the latent proxy confounders $Z$."
   ]
  },
  {
   "attachments": {},
   "cell_type": "markdown",
   "metadata": {},
   "source": [
    "### Model Description\n",
    "\n",
    "Our model captures the intuition that our three observed variables, $X$, $t$, and $y$, may be correlated, thanks to unobserved confounders $z$. Here, $f$, $g$, and $h$ are neural networks parameterized by different parts of the parameter set $\\theta$, which are implicitly defined when the neural network modules are instantiated. As you can see in the automatically constructed rendering below, our probabilistically program model is faithful to the assumed causal structure in the CEVAE paper [louizos2017causal].\n",
    "\n",
    "**Note:** In the CEVAE paper the authors propose a more sophisticated inference scheme using both a probabilsitic encoder and decoder network. Here, we simply show maximum likelihood estimation for brevity, but one could straightforwardly extend this example to include the full VAE training infrastructure using Pyro."
   ]
  },
  {
   "attachments": {},
   "cell_type": "markdown",
   "metadata": {},
   "source": [
    "### Prior Description\n",
    "\n",
    "As we only apply maximum likelihood inference in this example, we do not place priors on any of the latent parameters in the CEVAE model."
   ]
  },
  {
   "cell_type": "code",
   "execution_count": 36,
   "metadata": {},
   "outputs": [],
   "source": [
    "class FullyConnected(nn.Sequential):\n",
    "    # Fully connected neural network with ELU activations.\n",
    "    def __init__(self, sizes):\n",
    "        layers = []\n",
    "        for in_size, out_size in zip(sizes, sizes[1:]):\n",
    "            layers.append(nn.Linear(in_size, out_size))\n",
    "            layers.append(nn.ELU())\n",
    "        layers.pop(-1)\n",
    "        super().__init__(*layers)\n",
    "\n",
    "\n",
    "class DiagNormalNet(FullyConnected):\n",
    "    # Fully connected neural network with ELU activations, followed by a diagonal Gaussian.\n",
    "    def __init__(self, sizes):\n",
    "        assert len(sizes) >= 2\n",
    "        sizes = sizes[:-1] + [sizes[-1] * 2]\n",
    "        super().__init__(sizes)\n",
    "\n",
    "    def forward(self, x):\n",
    "        loc, scale = super().forward(x).chunk(2, dim=-1)\n",
    "        return loc, nn.functional.softplus(scale)\n",
    "\n",
    "\n",
    "class BernoulliNet(FullyConnected):\n",
    "    # Fully connected neural network with ELU activations, followed by a Bernoulli.\n",
    "    def __init__(self, sizes):\n",
    "        super().__init__(sizes + [1])\n",
    "\n",
    "    def forward(self, x):\n",
    "        return super().forward(x).squeeze(-1).clamp(min=-10, max=10)\n",
    "\n",
    "\n",
    "class PreWhitener(nn.Module):\n",
    "    \"\"\"\n",
    "    Data pre-whitener.\n",
    "    \"\"\"\n",
    "    def __init__(self, data):\n",
    "        super().__init__()\n",
    "        with torch.no_grad():\n",
    "            loc = data.mean(0)\n",
    "            scale = data.std(0)\n",
    "            scale[~(scale > 0)] = 1.0\n",
    "            self.register_buffer(\"loc\", loc)\n",
    "            self.register_buffer(\"inv_scale\", scale.reciprocal())\n",
    "\n",
    "    def forward(self, data):\n",
    "        return (data - self.loc) * self.inv_scale"
   ]
  },
  {
   "cell_type": "code",
   "execution_count": 37,
   "metadata": {},
   "outputs": [
    {
     "data": {
      "image/svg+xml": [
       "<?xml version=\"1.0\" encoding=\"UTF-8\" standalone=\"no\"?>\n",
       "<!DOCTYPE svg PUBLIC \"-//W3C//DTD SVG 1.1//EN\"\n",
       " \"http://www.w3.org/Graphics/SVG/1.1/DTD/svg11.dtd\">\n",
       "<!-- Generated by graphviz version 6.0.2 (20221011.1828)\n",
       " -->\n",
       "<!-- Pages: 1 -->\n",
       "<svg width=\"242pt\" height=\"220pt\"\n",
       " viewBox=\"0.00 0.00 241.50 220.00\" xmlns=\"http://www.w3.org/2000/svg\" xmlns:xlink=\"http://www.w3.org/1999/xlink\">\n",
       "<g id=\"graph0\" class=\"graph\" transform=\"scale(1 1) rotate(0) translate(4 216)\">\n",
       "<polygon fill=\"white\" stroke=\"none\" points=\"-4,4 -4,-216 237.5,-216 237.5,4 -4,4\"/>\n",
       "<!-- z -->\n",
       "<g id=\"node1\" class=\"node\">\n",
       "<title>z</title>\n",
       "<ellipse fill=\"white\" stroke=\"black\" cx=\"99\" cy=\"-178\" rx=\"27\" ry=\"18\"/>\n",
       "<text text-anchor=\"middle\" x=\"99\" y=\"-174.3\" font-family=\"Times,serif\" font-size=\"14.00\">z</text>\n",
       "</g>\n",
       "<!-- x -->\n",
       "<g id=\"node2\" class=\"node\">\n",
       "<title>x</title>\n",
       "<ellipse fill=\"white\" stroke=\"black\" cx=\"27\" cy=\"-90\" rx=\"27\" ry=\"18\"/>\n",
       "<text text-anchor=\"middle\" x=\"27\" y=\"-86.3\" font-family=\"Times,serif\" font-size=\"14.00\">x</text>\n",
       "</g>\n",
       "<!-- z&#45;&gt;x -->\n",
       "<g id=\"edge1\" class=\"edge\">\n",
       "<title>z&#45;&gt;x</title>\n",
       "<path fill=\"none\" stroke=\"black\" d=\"M86.46,-162.02C75.38,-148.78 59.04,-129.27 46.29,-114.05\"/>\n",
       "<polygon fill=\"black\" stroke=\"black\" points=\"48.74,-111.52 39.64,-106.1 43.38,-116.01 48.74,-111.52\"/>\n",
       "</g>\n",
       "<!-- t -->\n",
       "<g id=\"node3\" class=\"node\">\n",
       "<title>t</title>\n",
       "<ellipse fill=\"white\" stroke=\"black\" cx=\"99\" cy=\"-90\" rx=\"27\" ry=\"18\"/>\n",
       "<text text-anchor=\"middle\" x=\"99\" y=\"-86.3\" font-family=\"Times,serif\" font-size=\"14.00\">t</text>\n",
       "</g>\n",
       "<!-- z&#45;&gt;t -->\n",
       "<g id=\"edge2\" class=\"edge\">\n",
       "<title>z&#45;&gt;t</title>\n",
       "<path fill=\"none\" stroke=\"black\" d=\"M99,-159.6C99,-147.75 99,-131.82 99,-118.29\"/>\n",
       "<polygon fill=\"black\" stroke=\"black\" points=\"102.5,-118.08 99,-108.08 95.5,-118.08 102.5,-118.08\"/>\n",
       "</g>\n",
       "<!-- y -->\n",
       "<g id=\"node4\" class=\"node\">\n",
       "<title>y</title>\n",
       "<ellipse fill=\"white\" stroke=\"black\" cx=\"126\" cy=\"-18\" rx=\"27\" ry=\"18\"/>\n",
       "<text text-anchor=\"middle\" x=\"126\" y=\"-14.3\" font-family=\"Times,serif\" font-size=\"14.00\">y</text>\n",
       "</g>\n",
       "<!-- z&#45;&gt;y -->\n",
       "<g id=\"edge3\" class=\"edge\">\n",
       "<title>z&#45;&gt;y</title>\n",
       "<path fill=\"none\" stroke=\"black\" d=\"M109.92,-161.43C118.64,-147.99 130.17,-127.68 135,-108 140.04,-87.45 137.16,-63.56 133.37,-45.71\"/>\n",
       "<polygon fill=\"black\" stroke=\"black\" points=\"136.78,-44.9 131.09,-35.97 129.96,-46.5 136.78,-44.9\"/>\n",
       "</g>\n",
       "<!-- t&#45;&gt;y -->\n",
       "<g id=\"edge4\" class=\"edge\">\n",
       "<title>t&#45;&gt;y</title>\n",
       "<path fill=\"none\" stroke=\"black\" d=\"M105.4,-72.41C108.51,-64.34 112.33,-54.43 115.83,-45.35\"/>\n",
       "<polygon fill=\"black\" stroke=\"black\" points=\"119.13,-46.55 119.46,-35.96 112.6,-44.03 119.13,-46.55\"/>\n",
       "</g>\n",
       "<!-- distribution_description_node -->\n",
       "<g id=\"node5\" class=\"node\">\n",
       "<title>distribution_description_node</title>\n",
       "<text text-anchor=\"start\" x=\"152.5\" y=\"-196.8\" font-family=\"Times,serif\" font-size=\"14.00\">z ~ Normal</text>\n",
       "<text text-anchor=\"start\" x=\"152.5\" y=\"-181.8\" font-family=\"Times,serif\" font-size=\"14.00\">x ~ Normal</text>\n",
       "<text text-anchor=\"start\" x=\"152.5\" y=\"-166.8\" font-family=\"Times,serif\" font-size=\"14.00\">t ~ Bernoulli</text>\n",
       "<text text-anchor=\"start\" x=\"152.5\" y=\"-151.8\" font-family=\"Times,serif\" font-size=\"14.00\">y ~ Bernoulli</text>\n",
       "</g>\n",
       "</g>\n",
       "</svg>\n"
      ],
      "text/plain": [
       "<graphviz.graphs.Digraph at 0x7f8d196d3400>"
      ]
     },
     "execution_count": 37,
     "metadata": {},
     "output_type": "execute_result"
    }
   ],
   "source": [
    "class ProxyConfounderModel(PyroModule):\n",
    "    \"\"\"\n",
    "    :param dict config: A dict specifying ``feature_dim``, ``latent_dim``,\n",
    "        ``hidden_dim``, ``num_layers``, and ``outcome_dist``.\n",
    "    \"\"\"\n",
    "\n",
    "    def __init__(self, feature_dim: int, latent_dim: int, hidden_dim: int, num_layers: int):\n",
    "        super().__init__()\n",
    "        self.latent_dim = latent_dim\n",
    "        self.hidden_dim = hidden_dim\n",
    "        self.num_layers = num_layers\n",
    "        self.feature_dim = feature_dim\n",
    "        self.x_nn = DiagNormalNet([latent_dim] + [hidden_dim] * num_layers + [feature_dim])\n",
    "        self.t_nn = BernoulliNet([latent_dim])\n",
    "        # The y network is split between the two t values.\n",
    "        self.y0_nn = BernoulliNet([latent_dim] + [hidden_dim] * num_layers)\n",
    "        self.y1_nn = BernoulliNet([latent_dim] + [hidden_dim] * num_layers)\n",
    "\n",
    "    def forward(self):\n",
    "        # Proxy confounder\n",
    "        z = pyro.sample(\"z\", dist.Normal(0, 1).expand([self.latent_dim]).to_event(1))\n",
    "        # Observed covariates\n",
    "        x = pyro.sample(\"x\", dist.Normal(*self.x_nn(z)).to_event(1))\n",
    "        # Treatment\n",
    "        t = pyro.sample(\"t\", dist.Bernoulli(logits=self.t_nn(z)))\n",
    "        # parameters are not shared among values of t\n",
    "        y_logits = torch.where(t == 1, self.y1_nn(z), self.y0_nn(z))\n",
    "        # Outcome\n",
    "        y = pyro.sample(\"y\", dist.Bernoulli(logits=y_logits))\n",
    "        return y\n",
    "\n",
    "\n",
    "individual_model = ProxyConfounderModel(\n",
    "    feature_dim=x.shape[-1],\n",
    "    latent_dim=5,\n",
    "    hidden_dim=200,\n",
    "    num_layers=3,\n",
    ")\n",
    "pyro.render_model(individual_model, model_args=(), render_distributions=True)"
   ]
  },
  {
   "attachments": {},
   "cell_type": "markdown",
   "metadata": {},
   "source": [
    "## Causal Query: conditional average treatment effect (CATE)\n",
    "\n",
    "In this setting we wish to compute the *conditional average treatment effect*, $CATE = \\mathbb{E}[Y=1|do(T=1), X=x] - \\mathbb{E}[Y=1|do(T=0), X=x]$. The `do` notation indicates that the expectations are taken according to *intervened* versions of the model, with $T$ set to a particular value. Note from our [tutorial](tutorial_i.ipynb) that this is different from conditioning on $T$ in the original `causal_model`, which assumes $Z$ and $T$, and thus $X$ and $Y$ are dependent.\n",
    "\n",
    "In words, in this setting the CATE tells us how much greater the outcome would be across all individuals with the same set of covariates if we forced those individuals to receive treatment relative to if we forced them to not receive treatment. Here, we are interested in the average only over that subpopulation of individuals with the same value of the covariates. \n",
    "\n",
    "As we're using maximum likelihood inference here, we'll first condition our model to update neural network parameters, and then afterwards transform the model with learned parameters according to the desired intervention. This two-stage procedure separates the computation for convenience, but could instead be implemented in a single inference run in an extended model like the [backdoor](backdoor.ipynb) and [slc](slc.ipynb) models."
   ]
  },
  {
   "attachments": {},
   "cell_type": "markdown",
   "metadata": {},
   "source": [
    "### Fit parameters via maximum likelihood\n",
    "\n",
    "Before estimating the query, we fit deterministic neural network parameters in the model to the observed data via maximum likelihood.\n",
    "\n",
    "First, we must extend the model over individual instances to be a model over the entire population using Pyro's `plate` effect handler."
   ]
  },
  {
   "cell_type": "code",
   "execution_count": 38,
   "metadata": {},
   "outputs": [
    {
     "data": {
      "image/svg+xml": [
       "<?xml version=\"1.0\" encoding=\"UTF-8\" standalone=\"no\"?>\n",
       "<!DOCTYPE svg PUBLIC \"-//W3C//DTD SVG 1.1//EN\"\n",
       " \"http://www.w3.org/Graphics/SVG/1.1/DTD/svg11.dtd\">\n",
       "<!-- Generated by graphviz version 6.0.2 (20221011.1828)\n",
       " -->\n",
       "<!-- Pages: 1 -->\n",
       "<svg width=\"276pt\" height=\"259pt\"\n",
       " viewBox=\"0.00 0.00 275.50 259.00\" xmlns=\"http://www.w3.org/2000/svg\" xmlns:xlink=\"http://www.w3.org/1999/xlink\">\n",
       "<g id=\"graph0\" class=\"graph\" transform=\"scale(1 1) rotate(0) translate(4 255)\">\n",
       "<polygon fill=\"white\" stroke=\"none\" points=\"-4,4 -4,-255 271.5,-255 271.5,4 -4,4\"/>\n",
       "<g id=\"clust1\" class=\"cluster\">\n",
       "<title>cluster_observations</title>\n",
       "<polygon fill=\"none\" stroke=\"black\" points=\"8,-8 8,-243 170,-243 170,-8 8,-8\"/>\n",
       "<text text-anchor=\"middle\" x=\"127.5\" y=\"-15.8\" font-family=\"Times,serif\" font-size=\"14.00\">observations</text>\n",
       "</g>\n",
       "<!-- z -->\n",
       "<g id=\"node1\" class=\"node\">\n",
       "<title>z</title>\n",
       "<ellipse fill=\"white\" stroke=\"black\" cx=\"115\" cy=\"-217\" rx=\"27\" ry=\"18\"/>\n",
       "<text text-anchor=\"middle\" x=\"115\" y=\"-213.3\" font-family=\"Times,serif\" font-size=\"14.00\">z</text>\n",
       "</g>\n",
       "<!-- x -->\n",
       "<g id=\"node2\" class=\"node\">\n",
       "<title>x</title>\n",
       "<ellipse fill=\"gray\" stroke=\"black\" cx=\"43\" cy=\"-129\" rx=\"27\" ry=\"18\"/>\n",
       "<text text-anchor=\"middle\" x=\"43\" y=\"-125.3\" font-family=\"Times,serif\" font-size=\"14.00\">x</text>\n",
       "</g>\n",
       "<!-- z&#45;&gt;x -->\n",
       "<g id=\"edge1\" class=\"edge\">\n",
       "<title>z&#45;&gt;x</title>\n",
       "<path fill=\"none\" stroke=\"black\" d=\"M102.46,-201.02C91.38,-187.78 75.04,-168.27 62.29,-153.05\"/>\n",
       "<polygon fill=\"black\" stroke=\"black\" points=\"64.74,-150.52 55.64,-145.1 59.38,-155.01 64.74,-150.52\"/>\n",
       "</g>\n",
       "<!-- t -->\n",
       "<g id=\"node3\" class=\"node\">\n",
       "<title>t</title>\n",
       "<ellipse fill=\"gray\" stroke=\"black\" cx=\"115\" cy=\"-129\" rx=\"27\" ry=\"18\"/>\n",
       "<text text-anchor=\"middle\" x=\"115\" y=\"-125.3\" font-family=\"Times,serif\" font-size=\"14.00\">t</text>\n",
       "</g>\n",
       "<!-- z&#45;&gt;t -->\n",
       "<g id=\"edge2\" class=\"edge\">\n",
       "<title>z&#45;&gt;t</title>\n",
       "<path fill=\"none\" stroke=\"black\" d=\"M115,-198.6C115,-186.75 115,-170.82 115,-157.29\"/>\n",
       "<polygon fill=\"black\" stroke=\"black\" points=\"118.5,-157.08 115,-147.08 111.5,-157.08 118.5,-157.08\"/>\n",
       "</g>\n",
       "<!-- y -->\n",
       "<g id=\"node4\" class=\"node\">\n",
       "<title>y</title>\n",
       "<ellipse fill=\"gray\" stroke=\"black\" cx=\"125\" cy=\"-57\" rx=\"27\" ry=\"18\"/>\n",
       "<text text-anchor=\"middle\" x=\"125\" y=\"-53.3\" font-family=\"Times,serif\" font-size=\"14.00\">y</text>\n",
       "</g>\n",
       "<!-- z&#45;&gt;y -->\n",
       "<g id=\"edge3\" class=\"edge\">\n",
       "<title>z&#45;&gt;y</title>\n",
       "<path fill=\"none\" stroke=\"black\" d=\"M125.92,-200.43C134.64,-186.99 146.17,-166.68 151,-147 154.81,-131.46 154.62,-126.59 151,-111 148.78,-101.43 144.57,-91.59 140.18,-83.02\"/>\n",
       "<polygon fill=\"black\" stroke=\"black\" points=\"143.11,-81.08 135.24,-73.98 136.96,-84.44 143.11,-81.08\"/>\n",
       "</g>\n",
       "<!-- t&#45;&gt;y -->\n",
       "<g id=\"edge4\" class=\"edge\">\n",
       "<title>t&#45;&gt;y</title>\n",
       "<path fill=\"none\" stroke=\"black\" d=\"M117.42,-111.05C118.52,-103.35 119.85,-94.03 121.09,-85.36\"/>\n",
       "<polygon fill=\"black\" stroke=\"black\" points=\"124.58,-85.67 122.53,-75.28 117.65,-84.68 124.58,-85.67\"/>\n",
       "</g>\n",
       "<!-- distribution_description_node -->\n",
       "<g id=\"node5\" class=\"node\">\n",
       "<title>distribution_description_node</title>\n",
       "<text text-anchor=\"start\" x=\"186.5\" y=\"-235.8\" font-family=\"Times,serif\" font-size=\"14.00\">z ~ Normal</text>\n",
       "<text text-anchor=\"start\" x=\"186.5\" y=\"-220.8\" font-family=\"Times,serif\" font-size=\"14.00\">x ~ Normal</text>\n",
       "<text text-anchor=\"start\" x=\"186.5\" y=\"-205.8\" font-family=\"Times,serif\" font-size=\"14.00\">t ~ Bernoulli</text>\n",
       "<text text-anchor=\"start\" x=\"186.5\" y=\"-190.8\" font-family=\"Times,serif\" font-size=\"14.00\">y ~ Bernoulli</text>\n",
       "</g>\n",
       "</g>\n",
       "</svg>\n"
      ],
      "text/plain": [
       "<graphviz.graphs.Digraph at 0x7f8d196c8e20>"
      ]
     },
     "execution_count": 38,
     "metadata": {},
     "output_type": "execute_result"
    }
   ],
   "source": [
    "class CEVAE_Population(PyroModule):\n",
    "    def __init__(self, individual_model: ProxyConfounderModel):\n",
    "        super().__init__()\n",
    "        self.individual_model = individual_model\n",
    "\n",
    "    def forward(self, x_obs, t_obs, y_obs):\n",
    "        # Condition on observed x, t, y\n",
    "        # Use a plate to indicate that the following observations are conditionally independent given NN parameters.\n",
    "        with pyro.condition(data=dict(x=x_obs, t=t_obs, y=y_obs)), \\\n",
    "                pyro.plate(\"observations\", size=x_obs.shape[0], dim=-1):\n",
    "            return self.individual_model()\n",
    "\n",
    "\n",
    "mle_model = CEVAE_Population(individual_model)\n",
    "pyro.render_model(mle_model, model_args=(x, t ,y), render_distributions=True)"
   ]
  },
  {
   "attachments": {},
   "cell_type": "markdown",
   "metadata": {},
   "source": [
    "Second, we condition the model on data and run maximum likelihood estimation for neural network parameters using Pyro's `SVI`."
   ]
  },
  {
   "cell_type": "code",
   "execution_count": 40,
   "metadata": {},
   "outputs": [
    {
     "name": "stdout",
     "output_type": "stream",
     "text": [
      "[iteration 0001] loss: 38.3684\n",
      "[iteration 0101] loss: 36.9566\n",
      "[iteration 0201] loss: 36.3244\n",
      "[iteration 0301] loss: 35.6663\n",
      "[iteration 0401] loss: 34.7696\n",
      "[iteration 0501] loss: 33.9689\n",
      "[iteration 0601] loss: 33.2753\n",
      "[iteration 0701] loss: 32.6847\n",
      "[iteration 0801] loss: 32.1782\n",
      "[iteration 0901] loss: 31.7369\n",
      "[iteration 1001] loss: 31.3967\n",
      "[iteration 1101] loss: 31.0816\n",
      "[iteration 1201] loss: 30.8254\n",
      "[iteration 1301] loss: 30.6175\n",
      "[iteration 1401] loss: 30.4193\n",
      "[iteration 1501] loss: 30.2456\n",
      "[iteration 1601] loss: 30.1155\n",
      "[iteration 1701] loss: 29.9953\n",
      "[iteration 1801] loss: 29.8844\n",
      "[iteration 1901] loss: 29.7883\n",
      "[iteration 2001] loss: 29.6983\n",
      "[iteration 2101] loss: 29.6156\n",
      "[iteration 2201] loss: 29.5627\n",
      "[iteration 2301] loss: 29.4801\n",
      "[iteration 2401] loss: 29.4295\n"
     ]
    }
   ],
   "source": [
    "# Opimization parameters\n",
    "pyro.clear_param_store()\n",
    "num_iterations = 2500\n",
    "batch_size = 100 \n",
    "learning_rate = 1e-3 \n",
    "learning_rate_decay = 0.1 \n",
    "weight_decay = 1e-4\n",
    "jit = False \n",
    "\n",
    "x_data = x.clone().detach()\n",
    "t_data = t.clone().detach()\n",
    "y_data = y.clone().detach()\n",
    "\n",
    "# Create the variational approximation and optimizer\n",
    "mle_guide = pyro.infer.autoguide.AutoNormal(mle_model)\n",
    "adam = pyro.optim.Adam({\"lr\": learning_rate, \"weight_decay\": weight_decay})\n",
    "elbo = pyro.infer.Trace_ELBO()\n",
    "svi = pyro.infer.SVI(mle_model, mle_guide, adam, elbo)\n",
    "\n",
    "for j in range(num_iterations):\n",
    "    # calculate the loss and take a gradient step\n",
    "    loss = svi.step(x_data, t_data, y_data)\n",
    "    if j % 100 == 0:\n",
    "        print(\"[iteration %04d] loss: %.4f\" % (j + 1, loss / len(x_data)))\n"
   ]
  },
  {
   "attachments": {},
   "cell_type": "markdown",
   "metadata": {},
   "source": [
    "Now that we've learned neural network parameters, we can construct a transformed model using causal_pyro's `do` effect handler to represent interventions and its `MultiWorldCounterfactual` handler to automatically instantiate multiple counterfactual worlds. In the next section we discuss why we condition on `x_pred` in this new transformed model."
   ]
  },
  {
   "cell_type": "code",
   "execution_count": 41,
   "metadata": {},
   "outputs": [
    {
     "data": {
      "image/svg+xml": [
       "<?xml version=\"1.0\" encoding=\"UTF-8\" standalone=\"no\"?>\n",
       "<!DOCTYPE svg PUBLIC \"-//W3C//DTD SVG 1.1//EN\"\n",
       " \"http://www.w3.org/Graphics/SVG/1.1/DTD/svg11.dtd\">\n",
       "<!-- Generated by graphviz version 6.0.2 (20221011.1828)\n",
       " -->\n",
       "<!-- Pages: 1 -->\n",
       "<svg width=\"470pt\" height=\"336pt\"\n",
       " viewBox=\"0.00 0.00 470.00 336.00\" xmlns=\"http://www.w3.org/2000/svg\" xmlns:xlink=\"http://www.w3.org/1999/xlink\">\n",
       "<g id=\"graph0\" class=\"graph\" transform=\"scale(1 1) rotate(0) translate(4 332)\">\n",
       "<polygon fill=\"white\" stroke=\"none\" points=\"-4,4 -4,-332 466,-332 466,4 -4,4\"/>\n",
       "<g id=\"clust1\" class=\"cluster\">\n",
       "<title>cluster_test_data</title>\n",
       "<polygon fill=\"none\" stroke=\"black\" points=\"8,-8 8,-312.5 296,-312.5 296,-8 8,-8\"/>\n",
       "<text text-anchor=\"middle\" x=\"263.5\" y=\"-15.8\" font-family=\"Times,serif\" font-size=\"14.00\">test_data</text>\n",
       "</g>\n",
       "<g id=\"clust2\" class=\"cluster\">\n",
       "<title>cluster_intervention_2</title>\n",
       "<polygon fill=\"none\" stroke=\"black\" points=\"16,-39 16,-153 288,-153 288,-39 16,-39\"/>\n",
       "<text text-anchor=\"middle\" x=\"240.5\" y=\"-46.8\" font-family=\"Times,serif\" font-size=\"14.00\">intervention_2</text>\n",
       "</g>\n",
       "<g id=\"clust3\" class=\"cluster\">\n",
       "<title>cluster_intervention_3</title>\n",
       "<polygon fill=\"none\" stroke=\"black\" points=\"24,-70 24,-145 280,-145 280,-70 24,-70\"/>\n",
       "<text text-anchor=\"middle\" x=\"232.5\" y=\"-77.8\" font-family=\"Times,serif\" font-size=\"14.00\">intervention_3</text>\n",
       "</g>\n",
       "<!-- z -->\n",
       "<g id=\"node1\" class=\"node\">\n",
       "<title>z</title>\n",
       "<ellipse fill=\"white\" stroke=\"black\" cx=\"127\" cy=\"-286.5\" rx=\"27\" ry=\"18\"/>\n",
       "<text text-anchor=\"middle\" x=\"127\" y=\"-282.8\" font-family=\"Times,serif\" font-size=\"14.00\">z</text>\n",
       "</g>\n",
       "<!-- x -->\n",
       "<g id=\"node2\" class=\"node\">\n",
       "<title>x</title>\n",
       "<ellipse fill=\"gray\" stroke=\"black\" cx=\"58\" cy=\"-191\" rx=\"27\" ry=\"18\"/>\n",
       "<text text-anchor=\"middle\" x=\"58\" y=\"-187.3\" font-family=\"Times,serif\" font-size=\"14.00\">x</text>\n",
       "</g>\n",
       "<!-- z&#45;&gt;x -->\n",
       "<g id=\"edge1\" class=\"edge\">\n",
       "<title>z&#45;&gt;x</title>\n",
       "<path fill=\"none\" stroke=\"black\" d=\"M115.61,-270.06C104.72,-255.31 88.15,-232.86 75.57,-215.81\"/>\n",
       "<polygon fill=\"black\" stroke=\"black\" points=\"78.16,-213.43 69.41,-207.46 72.53,-217.59 78.16,-213.43\"/>\n",
       "</g>\n",
       "<!-- t -->\n",
       "<g id=\"node3\" class=\"node\">\n",
       "<title>t</title>\n",
       "<ellipse fill=\"white\" stroke=\"black\" cx=\"150\" cy=\"-191\" rx=\"27\" ry=\"18\"/>\n",
       "<text text-anchor=\"middle\" x=\"150\" y=\"-187.3\" font-family=\"Times,serif\" font-size=\"14.00\">t</text>\n",
       "</g>\n",
       "<!-- z&#45;&gt;t -->\n",
       "<g id=\"edge2\" class=\"edge\">\n",
       "<title>z&#45;&gt;t</title>\n",
       "<path fill=\"none\" stroke=\"black\" d=\"M131.22,-268.35C134.62,-254.51 139.47,-234.79 143.39,-218.86\"/>\n",
       "<polygon fill=\"black\" stroke=\"black\" points=\"146.82,-219.59 145.81,-209.04 140.02,-217.92 146.82,-219.59\"/>\n",
       "</g>\n",
       "<!-- y_observed -->\n",
       "<g id=\"node4\" class=\"node\">\n",
       "<title>y_observed</title>\n",
       "<ellipse fill=\"white\" stroke=\"black\" cx=\"83\" cy=\"-119\" rx=\"51.19\" ry=\"18\"/>\n",
       "<text text-anchor=\"middle\" x=\"83\" y=\"-115.3\" font-family=\"Times,serif\" font-size=\"14.00\">y_observed</text>\n",
       "</g>\n",
       "<!-- z&#45;&gt;y_observed -->\n",
       "<g id=\"edge3\" class=\"edge\">\n",
       "<title>z&#45;&gt;y_observed</title>\n",
       "<path fill=\"none\" stroke=\"black\" d=\"M122.54,-268.72C114.94,-240.12 99.4,-181.69 90.23,-147.2\"/>\n",
       "<polygon fill=\"black\" stroke=\"black\" points=\"93.56,-146.09 87.6,-137.32 86.79,-147.88 93.56,-146.09\"/>\n",
       "</g>\n",
       "<!-- y_unobserved -->\n",
       "<g id=\"node5\" class=\"node\">\n",
       "<title>y_unobserved</title>\n",
       "<ellipse fill=\"white\" stroke=\"black\" cx=\"212\" cy=\"-119\" rx=\"59.59\" ry=\"18\"/>\n",
       "<text text-anchor=\"middle\" x=\"212\" y=\"-115.3\" font-family=\"Times,serif\" font-size=\"14.00\">y_unobserved</text>\n",
       "</g>\n",
       "<!-- z&#45;&gt;y_unobserved -->\n",
       "<g id=\"edge5\" class=\"edge\">\n",
       "<title>z&#45;&gt;y_unobserved</title>\n",
       "<path fill=\"none\" stroke=\"black\" d=\"M141.04,-270.84C154.33,-256.22 173.98,-232.62 186,-209 196.01,-189.33 202.75,-165.2 206.86,-147.04\"/>\n",
       "<polygon fill=\"black\" stroke=\"black\" points=\"210.31,-147.62 208.98,-137.1 203.47,-146.15 210.31,-147.62\"/>\n",
       "</g>\n",
       "<!-- t&#45;&gt;y_observed -->\n",
       "<g id=\"edge4\" class=\"edge\">\n",
       "<title>t&#45;&gt;y_observed</title>\n",
       "<path fill=\"none\" stroke=\"black\" d=\"M136.12,-175.5C127.3,-166.28 115.67,-154.14 105.55,-143.56\"/>\n",
       "<polygon fill=\"black\" stroke=\"black\" points=\"107.95,-141 98.5,-136.2 102.89,-145.84 107.95,-141\"/>\n",
       "</g>\n",
       "<!-- t&#45;&gt;y_unobserved -->\n",
       "<g id=\"edge6\" class=\"edge\">\n",
       "<title>t&#45;&gt;y_unobserved</title>\n",
       "<path fill=\"none\" stroke=\"black\" d=\"M163.15,-175.15C171.08,-166.2 181.38,-154.58 190.47,-144.31\"/>\n",
       "<polygon fill=\"black\" stroke=\"black\" points=\"193.12,-146.6 197.13,-136.79 187.88,-141.95 193.12,-146.6\"/>\n",
       "</g>\n",
       "<!-- distribution_description_node -->\n",
       "<g id=\"node6\" class=\"node\">\n",
       "<title>distribution_description_node</title>\n",
       "<text text-anchor=\"start\" x=\"312\" y=\"-312.8\" font-family=\"Times,serif\" font-size=\"14.00\">z ~ Normal</text>\n",
       "<text text-anchor=\"start\" x=\"312\" y=\"-297.8\" font-family=\"Times,serif\" font-size=\"14.00\">x ~ Normal</text>\n",
       "<text text-anchor=\"start\" x=\"312\" y=\"-282.8\" font-family=\"Times,serif\" font-size=\"14.00\">t ~ Bernoulli</text>\n",
       "<text text-anchor=\"start\" x=\"312\" y=\"-267.8\" font-family=\"Times,serif\" font-size=\"14.00\">y_observed ~ Bernoulli</text>\n",
       "<text text-anchor=\"start\" x=\"312\" y=\"-252.8\" font-family=\"Times,serif\" font-size=\"14.00\">y_unobserved ~ Bernoulli</text>\n",
       "</g>\n",
       "</g>\n",
       "</svg>\n"
      ],
      "text/plain": [
       "<graphviz.graphs.Digraph at 0x7f8d61aa1ee0>"
      ]
     },
     "execution_count": 41,
     "metadata": {},
     "output_type": "execute_result"
    }
   ],
   "source": [
    "class CEVAE_CATE(PyroModule):\n",
    "    def __init__(self, individual_model: ProxyConfounderModel):\n",
    "        super().__init__()\n",
    "        self.individual_model = individual_model\n",
    "\n",
    "    def forward(self, x_pred):\n",
    "        # As we're evaluating the CATE, we need to condition on the observed data at test time.\n",
    "        extended_model = do(actions = {\"t\": 0.0})(\n",
    "                            do(actions = {\"t\": 1.0})(\n",
    "                                pyro.plate(\"test_data\", size=x_pred.shape[0], dim=-1)(\n",
    "                                    condition(data=dict(x=x_pred))(self.individual_model))))\n",
    "        \n",
    "        with MultiWorldCounterfactual(-2):\n",
    "            Ys_pred = extended_model()\n",
    "\n",
    "        return Ys_pred\n",
    "\n",
    "\n",
    "cate_model = CEVAE_CATE(individual_model)\n",
    "pyro.render_model(cate_model, model_args=(x,), render_distributions=True)"
   ]
  },
  {
   "attachments": {},
   "cell_type": "markdown",
   "metadata": {},
   "source": [
    "## Causal Inference as Probabilistic Inference\n",
    "\n",
    "In the [backdoor](backdoor.ipynb) and [slc](slc.ipynb) examples we only used Pyro's approximate inference utilities to estimate posterior distributions over model parameters, and then used those inferred (distributions over) parameters to estimate causal effects using Causal Pyro's interventions. Here the story is somewhat more complicated by the fact that we are estimating the conditional average treatment effect for yet unseen test data. Therefore, not only do we need to estimate model parameters as we've done above, we also must estimate posterior distributions over latent $Z$ conditional on observed covariates $X$. Similar to previous example, any inference method available in Pyro could be used to estimate the CATE, including amortized variational inference \\[Kingma and Welling, 2013\\] as in the original paper \\[Louizos et al., 2017\\].\n",
    "\n"
   ]
  },
  {
   "cell_type": "code",
   "execution_count": 42,
   "metadata": {},
   "outputs": [
    {
     "name": "stdout",
     "output_type": "stream",
     "text": [
      "[iteration 0001] loss: 48.0151\n",
      "[iteration 0101] loss: 43.8538\n",
      "[iteration 0201] loss: 40.8967\n",
      "[iteration 0301] loss: 38.5867\n",
      "[iteration 0401] loss: 36.7424\n",
      "[iteration 0501] loss: 35.2974\n",
      "[iteration 0601] loss: 34.2152\n",
      "[iteration 0701] loss: 33.3424\n",
      "[iteration 0801] loss: 32.5093\n",
      "[iteration 0901] loss: 31.9002\n",
      "[iteration 1001] loss: 31.3598\n",
      "[iteration 1101] loss: 30.9151\n",
      "[iteration 1201] loss: 30.5523\n",
      "[iteration 1301] loss: 30.2723\n",
      "[iteration 1401] loss: 30.0513\n",
      "[iteration 1501] loss: 29.8141\n",
      "[iteration 1601] loss: 29.6821\n",
      "[iteration 1701] loss: 29.5129\n",
      "[iteration 1801] loss: 29.4130\n",
      "[iteration 1901] loss: 29.3077\n",
      "[iteration 2001] loss: 29.2265\n",
      "[iteration 2101] loss: 29.1985\n",
      "[iteration 2201] loss: 29.1484\n",
      "[iteration 2301] loss: 29.0833\n",
      "[iteration 2401] loss: 29.0341\n"
     ]
    }
   ],
   "source": [
    "# intialize the model and guide\n",
    "pyro.clear_param_store()\n",
    "num_iterations = 2500\n",
    "x_pred_data = x_test.clone().detach()\n",
    "whiten = PreWhitener(x_pred_data)\n",
    "\n",
    "cate_model_fit = pyro.poutine.block(hide_types=[\"param\",])(\n",
    "    pyro.infer.config_enumerate(cate_model))\n",
    "cate_guide = pyro.infer.autoguide.AutoNormal(pyro.poutine.block(cate_model_fit, hide=['t', 'y_observed', 'y_unobserved']))\n",
    "elbo = pyro.infer.TraceEnum_ELBO()\n",
    "\n",
    "adam = pyro.optim.Adam({\"lr\": learning_rate, \"weight_decay\": weight_decay})\n",
    "svi = pyro.infer.SVI(cate_model_fit, cate_guide, adam, elbo)\n",
    "\n",
    "for j in range(num_iterations):\n",
    "    # calculate the loss and take a gradient step\n",
    "    x_data = whiten(x_pred_data)\n",
    "    loss = svi.step(x_pred_data)\n",
    "    if j % 100 == 0:\n",
    "        print(\"[iteration %04d] loss: %.4f\" % (j + 1, loss / len(x_pred_data)))"
   ]
  },
  {
   "attachments": {},
   "cell_type": "markdown",
   "metadata": {},
   "source": [
    "## Results"
   ]
  },
  {
   "attachments": {},
   "cell_type": "markdown",
   "metadata": {},
   "source": [
    "To analyze the results of inference we generate samples from the posterior predictive distribution over counterfactual outcomes, and then compute estimated causal effects with simple arithmetic operations."
   ]
  },
  {
   "cell_type": "code",
   "execution_count": 48,
   "metadata": {},
   "outputs": [],
   "source": [
    "# Generate samples from the posterior predictive distribution\n",
    "predictive = pyro.infer.Predictive(cate_model, guide=cate_guide, num_samples=500, return_sites=(\"t\", \"x\", \"z\", \"y_unobserved\",))\n",
    "preds = predictive(x_pred_data)\n",
    "ys_pred, t_pred, zs_pred = preds[\"y_unobserved\"], preds[\"t\"], preds[\"z\"]\n",
    "\n",
    "# Evaluate the c-specific causal effects for each individual and for each posterior sample\n",
    "ys_diff = ys_pred[..., 1, 0, :] - ys_pred[..., 0, 1, :]\n",
    "est_cates = ys_diff.mean(0)\n",
    "\n",
    "# Evaluate the average causal effect by taking the mean over the individual-specific effects\n",
    "# ate = est_cates.mean(0)\n",
    "true_ate = true_cates.mean()\n",
    "est_ate = ys_diff.mean(-1)\n",
    "\n",
    "mae_ate = torch.abs(true_cates - est_cates).mean()"
   ]
  },
  {
   "attachments": {},
   "cell_type": "markdown",
   "metadata": {},
   "source": [
    "As the synthetic data assumes a boolean random variable for the latent confounder, each instance with $Z=0$ (and analogously for $Z=1$) has exactly the same ground-truth value for the CATE. Therefore,\n",
    "to compare our estimates with the ground truth we can simply partition our test data based on the true value of $Z$."
   ]
  },
  {
   "cell_type": "code",
   "execution_count": 49,
   "metadata": {},
   "outputs": [],
   "source": [
    "z0_indeces = z_test == 0\n",
    "z1_indeces = z_test == 1\n",
    "est_cates_z0 = est_cates[z0_indeces]\n",
    "est_cates_z1 = est_cates[z1_indeces]\n",
    "true_cates_z0 = true_cates[z0_indeces]\n",
    "true_cates_z1 = true_cates[z1_indeces]"
   ]
  },
  {
   "cell_type": "code",
   "execution_count": 52,
   "metadata": {},
   "outputs": [
    {
     "data": {
      "text/plain": [
       "<matplotlib.legend.Legend at 0x7f8d51f89760>"
      ]
     },
     "execution_count": 52,
     "metadata": {},
     "output_type": "execute_result"
    },
    {
     "data": {
      "image/png": "[encoded data removed]",
      "text/plain": [
       "<Figure size 640x480 with 1 Axes>"
      ]
     },
     "metadata": {},
     "output_type": "display_data"
    }
   ],
   "source": [
    "plt.hist(est_cates_z0.detach().cpu().numpy(), bins=50, color='red', label=\"Estimated CATE\", alpha=0.5)\n",
    "plt.vlines(true_cates_z0.mean().item(), 0, 600, color=\"black\", label=\"Ground Truth CATE\")\n",
    "plt.title(f'Individual CATE estimates for Z=0 in synthetic data')\n",
    "plt.legend()"
   ]
  },
  {
   "cell_type": "code",
   "execution_count": 53,
   "metadata": {},
   "outputs": [
    {
     "data": {
      "text/plain": [
       "<matplotlib.legend.Legend at 0x7f8d1a3956a0>"
      ]
     },
     "execution_count": 53,
     "metadata": {},
     "output_type": "execute_result"
    },
    {
     "data": {
      "image/png": "[encoded data removed]",
      "text/plain": [
       "<Figure size 640x480 with 1 Axes>"
      ]
     },
     "metadata": {},
     "output_type": "display_data"
    }
   ],
   "source": [
    "plt.hist(est_cates_z1.detach().cpu().numpy(), bins=50, color='red', label=\"Estimated CATE\", alpha=0.5)\n",
    "plt.vlines(true_cates_z1.mean().item(), 0, 600, color=\"black\", label=\"Ground Truth CATE\")\n",
    "plt.title(f'Individual CATE estimates for Z=1 in synthetic data')\n",
    "plt.legend()"
   ]
  },
  {
   "attachments": {},
   "cell_type": "markdown",
   "metadata": {},
   "source": [
    "Similarly, we can estimate the average treatment effect by further aggregating the individual-level differences in counterfactual outcomes."
   ]
  },
  {
   "cell_type": "code",
   "execution_count": 58,
   "outputs": [
    {
     "data": {
      "text/plain": [
       "<matplotlib.legend.Legend at 0x7f8d520f7cd0>"
      ]
     },
     "execution_count": 58,
     "metadata": {},
     "output_type": "execute_result"
    },
    {
     "data": {
      "image/png": "[encoded data removed]",
      "text/plain": [
       "<Figure size 640x480 with 1 Axes>"
      ]
     },
     "metadata": {},
     "output_type": "display_data"
    }
   ],
   "source": [
    "plt.hist(est_ate.detach().cpu().numpy(), bins=10, color='red', label=\"Estimated ATE\", alpha=0.5)\n",
    "plt.vlines(true_ate.item(), 0, 600, color=\"black\", label=\"Ground Truth ATE\")\n",
    "plt.title(f'ATE estimates')\n",
    "plt.legend()"
   ],
   "metadata": {
    "collapsed": false
   }
  },
  {
   "cell_type": "markdown",
   "source": [
    "While the posterior predictive distribution for ATE estimates does not cover the ground truth ATE, we can see that the estimates are still relatively close in total magnitude. As we discussed in the beginning of this example, misspecification of the latent confounder (as we do here) can result in inaccurate causal effect estimates."
   ],
   "metadata": {
    "collapsed": false
   }
  },
  {
   "cell_type": "markdown",
   "source": [
    "## References\n",
    "\n",
    "Kingma, Diederik P, and Max Welling. “Auto-Encoding Variational Bayes,” 2013. https://doi.org/10.48550/ARXIV.1312.6114.\n",
    "\n",
    "Louizos, Christos, Uri Shalit, Joris Mooij, David Sontag, Richard Zemel, and Max Welling. “Causal Effect Inference with Deep Latent-Variable Models.” arXiv, November 6, 2017. http://arxiv.org/abs/1705.08821.\n"
   ],
   "metadata": {
    "collapsed": false
   }
  }
 ],
 "metadata": {
  "kernelspec": {
   "display_name": "Python 3.9.7 ('base')",
   "language": "python",
   "name": "python3"
  },
  "language_info": {
   "codemirror_mode": {
    "name": "ipython",
    "version": 3
   },
   "file_extension": ".py",
   "mimetype": "text/x-python",
   "name": "python",
   "nbconvert_exporter": "python",
   "pygments_lexer": "ipython3",
   "version": "3.9.15"
  },
  "vscode": {
   "interpreter": {
    "hash": "b21c0b9d110a5a3043a375d760ca16faf426bffca7e8cbf746b0d228ab037b0a"
   }
  }
 },
 "nbformat": 4,
 "nbformat_minor": 2
}

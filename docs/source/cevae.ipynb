{
 "cells": [
  {
   "cell_type": "markdown",
   "metadata": {},
   "source": [
    "# Example: the causal effect variational autoencoder"
   ]
  },
  {
   "cell_type": "code",
   "execution_count": 36,
   "metadata": {},
   "outputs": [],
   "source": [
    "from typing import Callable, Dict, List, Optional, Tuple, Union, TypeVar\n",
    "\n",
    "import torch\n",
    "import torch.nn as nn\n",
    "from torch.utils.data import DataLoader, TensorDataset\n",
    "\n",
    "import pyro\n",
    "import pyro.distributions as dist\n",
    "from pyro.infer import SVI, Trace_ELBO, TraceEnum_ELBO, config_enumerate, infer_discrete\n",
    "from pyro.infer.util import torch_item\n",
    "from pyro.nn import PyroModule, PyroSample, PyroParam\n",
    "from pyro.contrib.autoname import scope\n",
    "from pyro.poutine import condition, reparam\n",
    "from pyro.optim import ClippedAdam\n",
    "from pyro.util import torch_isnan\n",
    "\n",
    "import causal_pyro\n",
    "from causal_pyro.query.do_messenger import do\n",
    "from causal_pyro.counterfactual.handlers import Factual, MultiWorldCounterfactual, TwinWorldCounterfactual\n"
   ]
  },
  {
   "cell_type": "markdown",
   "metadata": {},
   "source": [
    "## Background: Proxy variables and latent confounders\n",
    "\n",
    "The backdoor adjustment example assumed that it was always possible to measure all\n",
    "potential confounders $X$, but when this is not the case, additional\n",
    "assumptions are necessary to perform causal inference. This example,\n",
    "derived from @louizos2017causal, considers a setting where parametric\n",
    "assumptions are necessary for a causal model to be fully identifiable\n",
    "from observed data.\n",
    "\n",
    "Suppose we observe a population of individuals with features $X_i$\n",
    "undergo treatment $t_i \\in \\{0, 1\\}$ with outcome $y_i$. The treatment\n",
    "variable might represent a medication or an educational strategy, for\n",
    "example, for populations of patients or students, respectively.\n",
    "\n",
    "The task\n",
    "is to estimate the *conditional average treatment effect*: for a new\n",
    "individual with features $X_*$, what difference in outcome $y_*$ should\n",
    "we expect if we assign treatment $t_* = 1$ vs. $t_* = 0$? One cannot\n",
    "simply estimate the conditional probabilities\n",
    "$p(y_* \\mid X = X_*, t = 0)$ and $p(y_* \\mid X = X_*, t = 1)$, because\n",
    "there may be hidden confounders: latent factors $z$ that induce\n",
    "non-causal correlations between $t$ and $y$ even controlling for the\n",
    "observed covariates $X$. \n",
    "\n",
    "For example, a student's socio-economic status\n",
    "might influence both their outcome $y$ and the educational strategy $t$\n",
    "they are exposed to, and the observed covariates $X$ may not fully\n",
    "characterize the student's SES. As a result, conditioning on $t$ may\n",
    "alter the distribution over SES, changing the reported outcome.\n",
    "\n"
   ]
  },
  {
   "cell_type": "code",
   "execution_count": 37,
   "metadata": {},
   "outputs": [],
   "source": [
    "num_data = 1000\n",
    "feature_dim = 5\n",
    "\n",
    "def generate_data(num_data, feature_dim):\n",
    "\n",
    "    z = dist.Bernoulli(0.5).sample([num_data])\n",
    "    x = dist.Normal(z, 5 * z + 3 * (1 - z)).sample([feature_dim]).t()\n",
    "    t = dist.Bernoulli(0.75 * z + 0.25 * (1 - z)).sample()\n",
    "    y = dist.Bernoulli(logits=3 * (z + 2 * (2 * t - 2))).sample()\n",
    "\n",
    "    # Compute true ite for evaluation (via Monte Carlo approximation).\n",
    "    t0_t1 = torch.tensor([[0.0], [1.0]])\n",
    "    y_t0, y_t1 = dist.Bernoulli(logits=3 * (z + 2 * (2 * t0_t1 - 2))).mean\n",
    "    true_ite = y_t1 - y_t0\n",
    "    return x, t, y, true_ite\n",
    "\n",
    "\n",
    "x, t, y, true_ite = generate_data(num_data, feature_dim)"
   ]
  },
  {
   "cell_type": "markdown",
   "metadata": {},
   "source": [
    "## Model: neural surrogate causal Bayesian network\n",
    "\n",
    "Our model captures the intuition that our three observed variables, $X$,\n",
    "$t$, and $y$, may be correlated, thanks to unobserved confounders $z$.\n",
    "Here, $f$, $g$, and $h$ are neural networks parameterized by different\n",
    "parts of the parameter set $\\theta$. The parameters of our model can be fit\n",
    "using standard techniques in Pyro (e.g., stochastic variational\n",
    "inference)."
   ]
  },
  {
   "cell_type": "code",
   "execution_count": 38,
   "metadata": {},
   "outputs": [],
   "source": [
    "class FullyConnected(nn.Sequential):\n",
    "    def __init__(self, sizes):\n",
    "        layers = []\n",
    "        for in_size, out_size in zip(sizes, sizes[1:]):\n",
    "            layers.append(nn.Linear(in_size, out_size))\n",
    "            layers.append(nn.ELU())\n",
    "        layers.pop(-1)\n",
    "        super().__init__(*layers)\n",
    "\n",
    "\n",
    "class DiagNormalNet(FullyConnected):\n",
    "    def __init__(self, sizes):\n",
    "        assert len(sizes) >= 2\n",
    "        sizes = sizes[:-1] + [sizes[-1] * 2]\n",
    "        super().__init__(sizes)\n",
    "\n",
    "    def forward(self, x):\n",
    "        loc, scale = super().forward(x).chunk(2, dim=-1)\n",
    "        return loc, nn.functional.softplus(scale)\n",
    "\n",
    "\n",
    "class BernoulliNet(FullyConnected):\n",
    "    def __init__(self, sizes):\n",
    "        super().__init__(sizes + [1])\n",
    "\n",
    "    def forward(self, x):\n",
    "        return super().forward(x).squeeze(-1).clamp(min=-10, max=10)"
   ]
  },
  {
   "cell_type": "code",
   "execution_count": 39,
   "metadata": {},
   "outputs": [
    {
     "data": {
      "image/svg+xml": "<?xml version=\"1.0\" encoding=\"UTF-8\" standalone=\"no\"?>\n<!DOCTYPE svg PUBLIC \"-//W3C//DTD SVG 1.1//EN\"\n \"http://www.w3.org/Graphics/SVG/1.1/DTD/svg11.dtd\">\n<!-- Generated by graphviz version 2.43.0 (0)\n -->\n<!-- Title: %3 Pages: 1 -->\n<svg width=\"356pt\" height=\"610pt\"\n viewBox=\"0.00 0.00 355.50 610.00\" xmlns=\"http://www.w3.org/2000/svg\" xmlns:xlink=\"http://www.w3.org/1999/xlink\">\n<g id=\"graph0\" class=\"graph\" transform=\"scale(1 1) rotate(0) translate(4 606)\">\n<title>%3</title>\n<polygon fill=\"white\" stroke=\"transparent\" points=\"-4,4 -4,-606 351.5,-606 351.5,4 -4,4\"/>\n<!-- z -->\n<g id=\"node1\" class=\"node\">\n<title>z</title>\n<ellipse fill=\"white\" stroke=\"black\" cx=\"99\" cy=\"-373\" rx=\"27\" ry=\"18\"/>\n<text text-anchor=\"middle\" x=\"99\" y=\"-369.3\" font-family=\"Times,serif\" font-size=\"14.00\">z</text>\n</g>\n<!-- x -->\n<g id=\"node2\" class=\"node\">\n<title>x</title>\n<ellipse fill=\"white\" stroke=\"black\" cx=\"27\" cy=\"-90\" rx=\"27\" ry=\"18\"/>\n<text text-anchor=\"middle\" x=\"27\" y=\"-86.3\" font-family=\"Times,serif\" font-size=\"14.00\">x</text>\n</g>\n<!-- z&#45;&gt;x -->\n<g id=\"edge1\" class=\"edge\">\n<title>z&#45;&gt;x</title>\n<path fill=\"none\" stroke=\"black\" d=\"M94.6,-354.85C82.48,-307.51 48.47,-174.78 33.83,-117.68\"/>\n<polygon fill=\"black\" stroke=\"black\" points=\"37.21,-116.75 31.34,-107.93 30.43,-118.49 37.21,-116.75\"/>\n</g>\n<!-- t -->\n<g id=\"node3\" class=\"node\">\n<title>t</title>\n<ellipse fill=\"white\" stroke=\"black\" cx=\"99\" cy=\"-90\" rx=\"27\" ry=\"18\"/>\n<text text-anchor=\"middle\" x=\"99\" y=\"-86.3\" font-family=\"Times,serif\" font-size=\"14.00\">t</text>\n</g>\n<!-- z&#45;&gt;t -->\n<g id=\"edge2\" class=\"edge\">\n<title>z&#45;&gt;t</title>\n<path fill=\"none\" stroke=\"black\" d=\"M99,-354.85C99,-307.72 99,-175.96 99,-118.44\"/>\n<polygon fill=\"black\" stroke=\"black\" points=\"102.5,-118.29 99,-108.29 95.5,-118.29 102.5,-118.29\"/>\n</g>\n<!-- y -->\n<g id=\"node4\" class=\"node\">\n<title>y</title>\n<ellipse fill=\"white\" stroke=\"black\" cx=\"126\" cy=\"-18\" rx=\"27\" ry=\"18\"/>\n<text text-anchor=\"middle\" x=\"126\" y=\"-14.3\" font-family=\"Times,serif\" font-size=\"14.00\">y</text>\n</g>\n<!-- z&#45;&gt;y -->\n<g id=\"edge3\" class=\"edge\">\n<title>z&#45;&gt;y</title>\n<path fill=\"none\" stroke=\"black\" d=\"M102.12,-355.09C109.64,-313.34 128.63,-201.92 135,-108 136.08,-92.04 136.34,-87.94 135,-72 134.28,-63.5 132.93,-54.31 131.49,-46.01\"/>\n<polygon fill=\"black\" stroke=\"black\" points=\"134.91,-45.29 129.65,-36.09 128.03,-46.56 134.91,-45.29\"/>\n</g>\n<!-- t&#45;&gt;y -->\n<g id=\"edge4\" class=\"edge\">\n<title>t&#45;&gt;y</title>\n<path fill=\"none\" stroke=\"black\" d=\"M105.4,-72.41C108.51,-64.34 112.33,-54.43 115.83,-45.35\"/>\n<polygon fill=\"black\" stroke=\"black\" points=\"119.13,-46.55 119.46,-35.96 112.6,-44.03 119.13,-46.55\"/>\n</g>\n<!-- distribution_description_node -->\n<g id=\"node5\" class=\"node\">\n<title>distribution_description_node</title>\n<text text-anchor=\"start\" x=\"152.5\" y=\"-586.8\" font-family=\"Times,serif\" font-size=\"14.00\">z ~ Normal</text>\n<text text-anchor=\"start\" x=\"152.5\" y=\"-571.8\" font-family=\"Times,serif\" font-size=\"14.00\">x ~ Normal</text>\n<text text-anchor=\"start\" x=\"152.5\" y=\"-556.8\" font-family=\"Times,serif\" font-size=\"14.00\">t ~ Bernoulli</text>\n<text text-anchor=\"start\" x=\"152.5\" y=\"-541.8\" font-family=\"Times,serif\" font-size=\"14.00\">y ~ Bernoulli</text>\n<text text-anchor=\"start\" x=\"152.5\" y=\"-526.8\" font-family=\"Times,serif\" font-size=\"14.00\">x_nn$$$0.weight : Real()</text>\n<text text-anchor=\"start\" x=\"152.5\" y=\"-511.8\" font-family=\"Times,serif\" font-size=\"14.00\">x_nn$$$0.bias : Real()</text>\n<text text-anchor=\"start\" x=\"152.5\" y=\"-496.8\" font-family=\"Times,serif\" font-size=\"14.00\">x_nn$$$2.weight : Real()</text>\n<text text-anchor=\"start\" x=\"152.5\" y=\"-481.8\" font-family=\"Times,serif\" font-size=\"14.00\">x_nn$$$2.bias : Real()</text>\n<text text-anchor=\"start\" x=\"152.5\" y=\"-466.8\" font-family=\"Times,serif\" font-size=\"14.00\">x_nn$$$4.weight : Real()</text>\n<text text-anchor=\"start\" x=\"152.5\" y=\"-451.8\" font-family=\"Times,serif\" font-size=\"14.00\">x_nn$$$4.bias : Real()</text>\n<text text-anchor=\"start\" x=\"152.5\" y=\"-436.8\" font-family=\"Times,serif\" font-size=\"14.00\">x_nn$$$6.weight : Real()</text>\n<text text-anchor=\"start\" x=\"152.5\" y=\"-421.8\" font-family=\"Times,serif\" font-size=\"14.00\">x_nn$$$6.bias : Real()</text>\n<text text-anchor=\"start\" x=\"152.5\" y=\"-406.8\" font-family=\"Times,serif\" font-size=\"14.00\">t_nn$$$0.weight : Real()</text>\n<text text-anchor=\"start\" x=\"152.5\" y=\"-391.8\" font-family=\"Times,serif\" font-size=\"14.00\">t_nn$$$0.bias : Real()</text>\n<text text-anchor=\"start\" x=\"152.5\" y=\"-376.8\" font-family=\"Times,serif\" font-size=\"14.00\">y1_nn$$$0.weight : Real()</text>\n<text text-anchor=\"start\" x=\"152.5\" y=\"-361.8\" font-family=\"Times,serif\" font-size=\"14.00\">y1_nn$$$0.bias : Real()</text>\n<text text-anchor=\"start\" x=\"152.5\" y=\"-346.8\" font-family=\"Times,serif\" font-size=\"14.00\">y1_nn$$$2.weight : Real()</text>\n<text text-anchor=\"start\" x=\"152.5\" y=\"-331.8\" font-family=\"Times,serif\" font-size=\"14.00\">y1_nn$$$2.bias : Real()</text>\n<text text-anchor=\"start\" x=\"152.5\" y=\"-316.8\" font-family=\"Times,serif\" font-size=\"14.00\">y1_nn$$$4.weight : Real()</text>\n<text text-anchor=\"start\" x=\"152.5\" y=\"-301.8\" font-family=\"Times,serif\" font-size=\"14.00\">y1_nn$$$4.bias : Real()</text>\n<text text-anchor=\"start\" x=\"152.5\" y=\"-286.8\" font-family=\"Times,serif\" font-size=\"14.00\">y1_nn$$$6.weight : Real()</text>\n<text text-anchor=\"start\" x=\"152.5\" y=\"-271.8\" font-family=\"Times,serif\" font-size=\"14.00\">y1_nn$$$6.bias : Real()</text>\n<text text-anchor=\"start\" x=\"152.5\" y=\"-256.8\" font-family=\"Times,serif\" font-size=\"14.00\">y0_nn$$$0.weight : Real()</text>\n<text text-anchor=\"start\" x=\"152.5\" y=\"-241.8\" font-family=\"Times,serif\" font-size=\"14.00\">y0_nn$$$0.bias : Real()</text>\n<text text-anchor=\"start\" x=\"152.5\" y=\"-226.8\" font-family=\"Times,serif\" font-size=\"14.00\">y0_nn$$$2.weight : Real()</text>\n<text text-anchor=\"start\" x=\"152.5\" y=\"-211.8\" font-family=\"Times,serif\" font-size=\"14.00\">y0_nn$$$2.bias : Real()</text>\n<text text-anchor=\"start\" x=\"152.5\" y=\"-196.8\" font-family=\"Times,serif\" font-size=\"14.00\">y0_nn$$$4.weight : Real()</text>\n<text text-anchor=\"start\" x=\"152.5\" y=\"-181.8\" font-family=\"Times,serif\" font-size=\"14.00\">y0_nn$$$4.bias : Real()</text>\n<text text-anchor=\"start\" x=\"152.5\" y=\"-166.8\" font-family=\"Times,serif\" font-size=\"14.00\">y0_nn$$$6.weight : Real()</text>\n<text text-anchor=\"start\" x=\"152.5\" y=\"-151.8\" font-family=\"Times,serif\" font-size=\"14.00\">y0_nn$$$6.bias : Real()</text>\n</g>\n</g>\n</svg>\n",
      "text/plain": [
       "<graphviz.graphs.Digraph at 0x7fca9d27b340>"
      ]
     },
     "execution_count": 39,
     "metadata": {},
     "output_type": "execute_result"
    }
   ],
   "source": [
    "class ProxyConfounderModel(PyroModule):\n",
    "    \"\"\"\n",
    "    :param dict config: A dict specifying ``feature_dim``, ``latent_dim``,\n",
    "        ``hidden_dim``, ``num_layers``, and ``outcome_dist``.\n",
    "    \"\"\"\n",
    "\n",
    "    def __init__(self, config):\n",
    "        self.latent_dim = config[\"latent_dim\"]\n",
    "        self.hidden_dim = config[\"hidden_dim\"]\n",
    "        self.num_layers = config[\"num_layers\"]\n",
    "        self.outcome_dist = config[\"outcome_dist\"]\n",
    "        self.feature_dim = config[\"feature_dim\"]\n",
    "        super().__init__()\n",
    "        self.x_nn = DiagNormalNet(\n",
    "            [config[\"latent_dim\"]]\n",
    "            + [config[\"hidden_dim\"]] * config[\"num_layers\"]\n",
    "            + [config[\"feature_dim\"]]\n",
    "        )\n",
    "        if config[\"outcome_dist\"] == \"bernoulli\":\n",
    "            OutcomeNet = BernoulliNet\n",
    "        else:\n",
    "            raise NotImplementedError(config[\"outcome_dist\"])\n",
    "        # The y network is split between the two t values.\n",
    "        self.y0_nn = OutcomeNet(\n",
    "            [config[\"latent_dim\"]] + [config[\"hidden_dim\"]] * config[\"num_layers\"]\n",
    "        )\n",
    "        self.y1_nn = OutcomeNet(\n",
    "            [config[\"latent_dim\"]] + [config[\"hidden_dim\"]] * config[\"num_layers\"]\n",
    "        )\n",
    "        self.t_nn = BernoulliNet([config[\"latent_dim\"]])\n",
    "\n",
    "    def forward(self):\n",
    "        z = pyro.sample(\"z\", dist.Normal(0, 1).expand([self.latent_dim]).to_event(1))\n",
    "        x = pyro.sample(\"x\", dist.Normal(*self.x_nn(z)).to_event(1))\n",
    "        t = pyro.sample(\"t\", dist.Bernoulli(logits=self.t_nn(z)))\n",
    "        # parameters are not shared among values of t\n",
    "        y_logits = torch.where(t == 1, self.y1_nn(z), self.y0_nn(z))\n",
    "        y = pyro.sample(\"y\", dist.Bernoulli(logits=y_logits))\n",
    "        return y\n",
    "\n",
    "\n",
    "individual_model = ProxyConfounderModel(dict(\n",
    "    feature_dim=x.shape[-1],\n",
    "    latent_dim=20,\n",
    "    hidden_dim=200,\n",
    "    num_layers=3,\n",
    "    num_samples=20,\n",
    "    outcome_dist=\"bernoulli\",\n",
    "))\n",
    "pyro.render_model(individual_model, model_args=(), render_distributions=True, render_params=True)"
   ]
  },
  {
   "cell_type": "markdown",
   "metadata": {},
   "source": [
    "## Query: conditional average treatment effect (CATE)\n",
    "\n",
    "We can now set up a larger model in which the *conditional average\n",
    "treatment effect* (CATE) we want to estimate is a random variable."
   ]
  },
  {
   "cell_type": "markdown",
   "metadata": {},
   "source": [
    "### Fit parameters via maximum likelihood\n",
    "\n",
    "Before estimating the query, we fit deterministic parameters in the model to the observed data using maximum likelihood."
   ]
  },
  {
   "cell_type": "code",
   "execution_count": 40,
   "metadata": {},
   "outputs": [
    {
     "data": {
      "image/svg+xml": "<?xml version=\"1.0\" encoding=\"UTF-8\" standalone=\"no\"?>\n<!DOCTYPE svg PUBLIC \"-//W3C//DTD SVG 1.1//EN\"\n \"http://www.w3.org/Graphics/SVG/1.1/DTD/svg11.dtd\">\n<!-- Generated by graphviz version 2.43.0 (0)\n -->\n<!-- Title: %3 Pages: 1 -->\n<svg width=\"515pt\" height=\"649pt\"\n viewBox=\"0.00 0.00 514.50 649.00\" xmlns=\"http://www.w3.org/2000/svg\" xmlns:xlink=\"http://www.w3.org/1999/xlink\">\n<g id=\"graph0\" class=\"graph\" transform=\"scale(1 1) rotate(0) translate(4 645)\">\n<title>%3</title>\n<polygon fill=\"white\" stroke=\"transparent\" points=\"-4,4 -4,-645 510.5,-645 510.5,4 -4,4\"/>\n<g id=\"clust1\" class=\"cluster\">\n<title>cluster_observations</title>\n<polygon fill=\"none\" stroke=\"black\" points=\"8,-8 8,-438 170,-438 170,-8 8,-8\"/>\n<text text-anchor=\"middle\" x=\"116\" y=\"-15.8\" font-family=\"Times,serif\" font-size=\"14.00\">observations</text>\n</g>\n<!-- z -->\n<g id=\"node1\" class=\"node\">\n<title>z</title>\n<ellipse fill=\"white\" stroke=\"black\" cx=\"115\" cy=\"-412\" rx=\"27\" ry=\"18\"/>\n<text text-anchor=\"middle\" x=\"115\" y=\"-408.3\" font-family=\"Times,serif\" font-size=\"14.00\">z</text>\n</g>\n<!-- x -->\n<g id=\"node2\" class=\"node\">\n<title>x</title>\n<ellipse fill=\"grey\" stroke=\"black\" cx=\"43\" cy=\"-129\" rx=\"27\" ry=\"18\"/>\n<text text-anchor=\"middle\" x=\"43\" y=\"-125.3\" font-family=\"Times,serif\" font-size=\"14.00\">x</text>\n</g>\n<!-- z&#45;&gt;x -->\n<g id=\"edge1\" class=\"edge\">\n<title>z&#45;&gt;x</title>\n<path fill=\"none\" stroke=\"black\" d=\"M110.6,-393.85C98.48,-346.51 64.47,-213.78 49.83,-156.68\"/>\n<polygon fill=\"black\" stroke=\"black\" points=\"53.21,-155.75 47.34,-146.93 46.43,-157.49 53.21,-155.75\"/>\n</g>\n<!-- t -->\n<g id=\"node3\" class=\"node\">\n<title>t</title>\n<ellipse fill=\"grey\" stroke=\"black\" cx=\"115\" cy=\"-129\" rx=\"27\" ry=\"18\"/>\n<text text-anchor=\"middle\" x=\"115\" y=\"-125.3\" font-family=\"Times,serif\" font-size=\"14.00\">t</text>\n</g>\n<!-- z&#45;&gt;t -->\n<g id=\"edge2\" class=\"edge\">\n<title>z&#45;&gt;t</title>\n<path fill=\"none\" stroke=\"black\" d=\"M115,-393.85C115,-346.72 115,-214.96 115,-157.44\"/>\n<polygon fill=\"black\" stroke=\"black\" points=\"118.5,-157.29 115,-147.29 111.5,-157.29 118.5,-157.29\"/>\n</g>\n<!-- y -->\n<g id=\"node4\" class=\"node\">\n<title>y</title>\n<ellipse fill=\"grey\" stroke=\"black\" cx=\"125\" cy=\"-57\" rx=\"27\" ry=\"18\"/>\n<text text-anchor=\"middle\" x=\"125\" y=\"-53.3\" font-family=\"Times,serif\" font-size=\"14.00\">y</text>\n</g>\n<!-- z&#45;&gt;y -->\n<g id=\"edge3\" class=\"edge\">\n<title>z&#45;&gt;y</title>\n<path fill=\"none\" stroke=\"black\" d=\"M118.12,-394.09C125.64,-352.34 144.63,-240.92 151,-147 152.08,-131.04 154.62,-126.59 151,-111 148.78,-101.43 144.57,-91.59 140.18,-83.02\"/>\n<polygon fill=\"black\" stroke=\"black\" points=\"143.11,-81.08 135.24,-73.98 136.96,-84.44 143.11,-81.08\"/>\n</g>\n<!-- t&#45;&gt;y -->\n<g id=\"edge4\" class=\"edge\">\n<title>t&#45;&gt;y</title>\n<path fill=\"none\" stroke=\"black\" d=\"M117.42,-111.05C118.52,-103.35 119.85,-94.03 121.09,-85.36\"/>\n<polygon fill=\"black\" stroke=\"black\" points=\"124.58,-85.67 122.53,-75.28 117.65,-84.68 124.58,-85.67\"/>\n</g>\n<!-- distribution_description_node -->\n<g id=\"node5\" class=\"node\">\n<title>distribution_description_node</title>\n<text text-anchor=\"start\" x=\"185.5\" y=\"-625.8\" font-family=\"Times,serif\" font-size=\"14.00\">z ~ Normal</text>\n<text text-anchor=\"start\" x=\"185.5\" y=\"-610.8\" font-family=\"Times,serif\" font-size=\"14.00\">x ~ Normal</text>\n<text text-anchor=\"start\" x=\"185.5\" y=\"-595.8\" font-family=\"Times,serif\" font-size=\"14.00\">t ~ Bernoulli</text>\n<text text-anchor=\"start\" x=\"185.5\" y=\"-580.8\" font-family=\"Times,serif\" font-size=\"14.00\">y ~ Bernoulli</text>\n<text text-anchor=\"start\" x=\"185.5\" y=\"-565.8\" font-family=\"Times,serif\" font-size=\"14.00\">individual_model.x_nn$$$0.weight : Real()</text>\n<text text-anchor=\"start\" x=\"185.5\" y=\"-550.8\" font-family=\"Times,serif\" font-size=\"14.00\">individual_model.x_nn$$$0.bias : Real()</text>\n<text text-anchor=\"start\" x=\"185.5\" y=\"-535.8\" font-family=\"Times,serif\" font-size=\"14.00\">individual_model.x_nn$$$2.weight : Real()</text>\n<text text-anchor=\"start\" x=\"185.5\" y=\"-520.8\" font-family=\"Times,serif\" font-size=\"14.00\">individual_model.x_nn$$$2.bias : Real()</text>\n<text text-anchor=\"start\" x=\"185.5\" y=\"-505.8\" font-family=\"Times,serif\" font-size=\"14.00\">individual_model.x_nn$$$4.weight : Real()</text>\n<text text-anchor=\"start\" x=\"185.5\" y=\"-490.8\" font-family=\"Times,serif\" font-size=\"14.00\">individual_model.x_nn$$$4.bias : Real()</text>\n<text text-anchor=\"start\" x=\"185.5\" y=\"-475.8\" font-family=\"Times,serif\" font-size=\"14.00\">individual_model.x_nn$$$6.weight : Real()</text>\n<text text-anchor=\"start\" x=\"185.5\" y=\"-460.8\" font-family=\"Times,serif\" font-size=\"14.00\">individual_model.x_nn$$$6.bias : Real()</text>\n<text text-anchor=\"start\" x=\"185.5\" y=\"-445.8\" font-family=\"Times,serif\" font-size=\"14.00\">individual_model.t_nn$$$0.weight : Real()</text>\n<text text-anchor=\"start\" x=\"185.5\" y=\"-430.8\" font-family=\"Times,serif\" font-size=\"14.00\">individual_model.t_nn$$$0.bias : Real()</text>\n<text text-anchor=\"start\" x=\"185.5\" y=\"-415.8\" font-family=\"Times,serif\" font-size=\"14.00\">individual_model.y1_nn$$$0.weight : Real()</text>\n<text text-anchor=\"start\" x=\"185.5\" y=\"-400.8\" font-family=\"Times,serif\" font-size=\"14.00\">individual_model.y1_nn$$$0.bias : Real()</text>\n<text text-anchor=\"start\" x=\"185.5\" y=\"-385.8\" font-family=\"Times,serif\" font-size=\"14.00\">individual_model.y1_nn$$$2.weight : Real()</text>\n<text text-anchor=\"start\" x=\"185.5\" y=\"-370.8\" font-family=\"Times,serif\" font-size=\"14.00\">individual_model.y1_nn$$$2.bias : Real()</text>\n<text text-anchor=\"start\" x=\"185.5\" y=\"-355.8\" font-family=\"Times,serif\" font-size=\"14.00\">individual_model.y1_nn$$$4.weight : Real()</text>\n<text text-anchor=\"start\" x=\"185.5\" y=\"-340.8\" font-family=\"Times,serif\" font-size=\"14.00\">individual_model.y1_nn$$$4.bias : Real()</text>\n<text text-anchor=\"start\" x=\"185.5\" y=\"-325.8\" font-family=\"Times,serif\" font-size=\"14.00\">individual_model.y1_nn$$$6.weight : Real()</text>\n<text text-anchor=\"start\" x=\"185.5\" y=\"-310.8\" font-family=\"Times,serif\" font-size=\"14.00\">individual_model.y1_nn$$$6.bias : Real()</text>\n<text text-anchor=\"start\" x=\"185.5\" y=\"-295.8\" font-family=\"Times,serif\" font-size=\"14.00\">individual_model.y0_nn$$$0.weight : Real()</text>\n<text text-anchor=\"start\" x=\"185.5\" y=\"-280.8\" font-family=\"Times,serif\" font-size=\"14.00\">individual_model.y0_nn$$$0.bias : Real()</text>\n<text text-anchor=\"start\" x=\"185.5\" y=\"-265.8\" font-family=\"Times,serif\" font-size=\"14.00\">individual_model.y0_nn$$$2.weight : Real()</text>\n<text text-anchor=\"start\" x=\"185.5\" y=\"-250.8\" font-family=\"Times,serif\" font-size=\"14.00\">individual_model.y0_nn$$$2.bias : Real()</text>\n<text text-anchor=\"start\" x=\"185.5\" y=\"-235.8\" font-family=\"Times,serif\" font-size=\"14.00\">individual_model.y0_nn$$$4.weight : Real()</text>\n<text text-anchor=\"start\" x=\"185.5\" y=\"-220.8\" font-family=\"Times,serif\" font-size=\"14.00\">individual_model.y0_nn$$$4.bias : Real()</text>\n<text text-anchor=\"start\" x=\"185.5\" y=\"-205.8\" font-family=\"Times,serif\" font-size=\"14.00\">individual_model.y0_nn$$$6.weight : Real()</text>\n<text text-anchor=\"start\" x=\"185.5\" y=\"-190.8\" font-family=\"Times,serif\" font-size=\"14.00\">individual_model.y0_nn$$$6.bias : Real()</text>\n</g>\n</g>\n</svg>\n",
      "text/plain": [
       "<graphviz.graphs.Digraph at 0x7fcaa4751e80>"
      ]
     },
     "execution_count": 40,
     "metadata": {},
     "output_type": "execute_result"
    }
   ],
   "source": [
    "class CEVAE_MLE(PyroModule):\n",
    "    def __init__(self, individual_model: ProxyConfounderModel):\n",
    "        super().__init__()\n",
    "        self.individual_model = individual_model\n",
    "\n",
    "    def forward(self, x_obs, t_obs, y_obs):\n",
    "        with pyro.condition(data=dict(x=x_obs, t=t_obs, y=y_obs)), \\\n",
    "                pyro.plate(\"observations\", size=x_obs.shape[0], dim=-1):\n",
    "            return self.individual_model()\n",
    "\n",
    "\n",
    "mle_model = CEVAE_MLE(individual_model)\n",
    "pyro.render_model(mle_model, model_args=(x, t ,y), render_distributions=True, render_params=True)"
   ]
  },
  {
   "cell_type": "code",
   "execution_count": 41,
   "metadata": {},
   "outputs": [],
   "source": [
    "class PreWhitener(nn.Module):\n",
    "    \"\"\"\n",
    "    Data pre-whitener.\n",
    "    \"\"\"\n",
    "    def __init__(self, data):\n",
    "        super().__init__()\n",
    "        with torch.no_grad():\n",
    "            loc = data.mean(0)\n",
    "            scale = data.std(0)\n",
    "            scale[~(scale > 0)] = 1.0\n",
    "            self.register_buffer(\"loc\", loc)\n",
    "            self.register_buffer(\"inv_scale\", scale.reciprocal())\n",
    "\n",
    "    def forward(self, data):\n",
    "        return (data - self.loc) * self.inv_scale"
   ]
  },
  {
   "cell_type": "code",
   "execution_count": 42,
   "metadata": {},
   "outputs": [
    {
     "name": "stdout",
     "output_type": "stream",
     "text": [
      "[iteration 0001] loss: 129.4691\n",
      "[iteration 0101] loss: 48.8817\n",
      "[iteration 0201] loss: 46.8395\n",
      "[iteration 0301] loss: 44.8455\n",
      "[iteration 0401] loss: 42.9915\n",
      "[iteration 0501] loss: 40.5664\n",
      "[iteration 0601] loss: 38.1970\n",
      "[iteration 0701] loss: 35.9802\n",
      "[iteration 0801] loss: 34.1147\n",
      "[iteration 0901] loss: 32.1258\n",
      "[iteration 1001] loss: 30.2474\n",
      "[iteration 1101] loss: 29.0302\n",
      "[iteration 1201] loss: 27.7385\n",
      "[iteration 1301] loss: 26.5841\n",
      "[iteration 1401] loss: 25.8070\n"
     ]
    }
   ],
   "source": [
    "pyro.clear_param_store()\n",
    "num_iterations = 1500 \n",
    "batch_size = 100 \n",
    "learning_rate = 1e-3 \n",
    "learning_rate_decay = 0.1 \n",
    "weight_decay = 1e-4\n",
    "jit = False \n",
    "\n",
    "x_data = x.clone().detach()\n",
    "t_data = t.clone().detach()\n",
    "y_data = y.clone().detach()\n",
    "\n",
    "guide = pyro.infer.autoguide.AutoNormal(mle_model)\n",
    "adam = pyro.optim.Adam({\"lr\": learning_rate})\n",
    "elbo = pyro.infer.Trace_ELBO()\n",
    "svi = pyro.infer.SVI(mle_model, guide, adam, elbo)\n",
    "\n",
    "for j in range(num_iterations):\n",
    "    # calculate the loss and take a gradient step\n",
    "    loss = svi.step(x_data, t_data, y_data)\n",
    "    if j % 100 == 0:\n",
    "        print(\"[iteration %04d] loss: %.4f\" % (j + 1, loss / len(x_data)))\n"
   ]
  },
  {
   "cell_type": "markdown",
   "metadata": {},
   "source": [
    "Now we can set up the extended model corresponding to the CATE:"
   ]
  },
  {
   "cell_type": "code",
   "execution_count": 43,
   "metadata": {},
   "outputs": [
    {
     "data": {
      "image/svg+xml": "<?xml version=\"1.0\" encoding=\"UTF-8\" standalone=\"no\"?>\n<!DOCTYPE svg PUBLIC \"-//W3C//DTD SVG 1.1//EN\"\n \"http://www.w3.org/Graphics/SVG/1.1/DTD/svg11.dtd\">\n<!-- Generated by graphviz version 2.43.0 (0)\n -->\n<!-- Title: %3 Pages: 1 -->\n<svg width=\"695pt\" height=\"726pt\"\n viewBox=\"0.00 0.00 694.50 726.00\" xmlns=\"http://www.w3.org/2000/svg\" xmlns:xlink=\"http://www.w3.org/1999/xlink\">\n<g id=\"graph0\" class=\"graph\" transform=\"scale(1 1) rotate(0) translate(4 722)\">\n<title>%3</title>\n<polygon fill=\"white\" stroke=\"transparent\" points=\"-4,4 -4,-722 690.5,-722 690.5,4 -4,4\"/>\n<g id=\"clust1\" class=\"cluster\">\n<title>cluster_data</title>\n<polygon fill=\"none\" stroke=\"black\" points=\"8,-8 8,-507.5 350,-507.5 350,-8 8,-8\"/>\n<text text-anchor=\"middle\" x=\"326\" y=\"-15.8\" font-family=\"Times,serif\" font-size=\"14.00\">data</text>\n</g>\n<g id=\"clust2\" class=\"cluster\">\n<title>cluster_intervention_2</title>\n<polygon fill=\"none\" stroke=\"black\" points=\"16,-39 16,-153 342,-153 342,-39 16,-39\"/>\n<text text-anchor=\"middle\" x=\"282\" y=\"-46.8\" font-family=\"Times,serif\" font-size=\"14.00\">intervention_2</text>\n</g>\n<g id=\"clust3\" class=\"cluster\">\n<title>cluster_intervention_3</title>\n<polygon fill=\"none\" stroke=\"black\" points=\"24,-70 24,-145 334,-145 334,-70 24,-70\"/>\n<text text-anchor=\"middle\" x=\"274\" y=\"-77.8\" font-family=\"Times,serif\" font-size=\"14.00\">intervention_3</text>\n</g>\n<!-- z -->\n<g id=\"node1\" class=\"node\">\n<title>z</title>\n<ellipse fill=\"white\" stroke=\"black\" cx=\"134\" cy=\"-481.5\" rx=\"27\" ry=\"18\"/>\n<text text-anchor=\"middle\" x=\"134\" y=\"-477.8\" font-family=\"Times,serif\" font-size=\"14.00\">z</text>\n</g>\n<!-- x -->\n<g id=\"node2\" class=\"node\">\n<title>x</title>\n<ellipse fill=\"grey\" stroke=\"black\" cx=\"65\" cy=\"-191\" rx=\"27\" ry=\"18\"/>\n<text text-anchor=\"middle\" x=\"65\" y=\"-187.3\" font-family=\"Times,serif\" font-size=\"14.00\">x</text>\n</g>\n<!-- z&#45;&gt;x -->\n<g id=\"edge1\" class=\"edge\">\n<title>z&#45;&gt;x</title>\n<path fill=\"none\" stroke=\"black\" d=\"M129.89,-463.32C118.34,-415.01 85.5,-277.72 71.48,-219.09\"/>\n<polygon fill=\"black\" stroke=\"black\" points=\"74.82,-218 69.09,-209.09 68.01,-219.63 74.82,-218\"/>\n</g>\n<!-- t -->\n<g id=\"node3\" class=\"node\">\n<title>t</title>\n<ellipse fill=\"white\" stroke=\"black\" cx=\"157\" cy=\"-191\" rx=\"27\" ry=\"18\"/>\n<text text-anchor=\"middle\" x=\"157\" y=\"-187.3\" font-family=\"Times,serif\" font-size=\"14.00\">t</text>\n</g>\n<!-- z&#45;&gt;t -->\n<g id=\"edge2\" class=\"edge\">\n<title>z&#45;&gt;t</title>\n<path fill=\"none\" stroke=\"black\" d=\"M135.37,-463.32C139.22,-415.01 150.17,-277.72 154.84,-219.09\"/>\n<polygon fill=\"black\" stroke=\"black\" points=\"158.33,-219.34 155.64,-209.09 151.35,-218.78 158.33,-219.34\"/>\n</g>\n<!-- y_observed -->\n<g id=\"node4\" class=\"node\">\n<title>y_observed</title>\n<ellipse fill=\"white\" stroke=\"black\" cx=\"95\" cy=\"-119\" rx=\"63.09\" ry=\"18\"/>\n<text text-anchor=\"middle\" x=\"95\" y=\"-115.3\" font-family=\"Times,serif\" font-size=\"14.00\">y_observed</text>\n</g>\n<!-- z&#45;&gt;y_observed -->\n<g id=\"edge3\" class=\"edge\">\n<title>z&#45;&gt;y_observed</title>\n<path fill=\"none\" stroke=\"black\" d=\"M132.21,-463.5C127.31,-416.98 113.21,-283.74 101,-173 100.07,-164.59 99.04,-155.42 98.1,-147.12\"/>\n<polygon fill=\"black\" stroke=\"black\" points=\"101.58,-146.72 96.97,-137.18 94.62,-147.51 101.58,-146.72\"/>\n</g>\n<!-- y_unobserved -->\n<g id=\"node5\" class=\"node\">\n<title>y_unobserved</title>\n<ellipse fill=\"white\" stroke=\"black\" cx=\"251\" cy=\"-119\" rx=\"74.99\" ry=\"18\"/>\n<text text-anchor=\"middle\" x=\"251\" y=\"-115.3\" font-family=\"Times,serif\" font-size=\"14.00\">y_unobserved</text>\n</g>\n<!-- z&#45;&gt;y_unobserved -->\n<g id=\"edge5\" class=\"edge\">\n<title>z&#45;&gt;y_unobserved</title>\n<path fill=\"none\" stroke=\"black\" d=\"M139.49,-463.6C158.14,-406.13 219.2,-217.97 242.17,-147.22\"/>\n<polygon fill=\"black\" stroke=\"black\" points=\"245.63,-147.88 245.39,-137.29 238.97,-145.72 245.63,-147.88\"/>\n</g>\n<!-- t&#45;&gt;y_observed -->\n<g id=\"edge4\" class=\"edge\">\n<title>t&#45;&gt;y_observed</title>\n<path fill=\"none\" stroke=\"black\" d=\"M143.85,-175.15C135.92,-166.2 125.62,-154.58 116.53,-144.31\"/>\n<polygon fill=\"black\" stroke=\"black\" points=\"119.12,-141.95 109.87,-136.79 113.88,-146.6 119.12,-141.95\"/>\n</g>\n<!-- t&#45;&gt;y_unobserved -->\n<g id=\"edge6\" class=\"edge\">\n<title>t&#45;&gt;y_unobserved</title>\n<path fill=\"none\" stroke=\"black\" d=\"M174.68,-176.83C187.69,-167.14 205.7,-153.73 220.95,-142.37\"/>\n<polygon fill=\"black\" stroke=\"black\" points=\"223.17,-145.09 229.1,-136.31 218.99,-139.48 223.17,-145.09\"/>\n</g>\n<!-- distribution_description_node -->\n<g id=\"node6\" class=\"node\">\n<title>distribution_description_node</title>\n<text text-anchor=\"start\" x=\"365.5\" y=\"-702.8\" font-family=\"Times,serif\" font-size=\"14.00\">z ~ Normal</text>\n<text text-anchor=\"start\" x=\"365.5\" y=\"-687.8\" font-family=\"Times,serif\" font-size=\"14.00\">x ~ Normal</text>\n<text text-anchor=\"start\" x=\"365.5\" y=\"-672.8\" font-family=\"Times,serif\" font-size=\"14.00\">t ~ Bernoulli</text>\n<text text-anchor=\"start\" x=\"365.5\" y=\"-657.8\" font-family=\"Times,serif\" font-size=\"14.00\">y_observed ~ Bernoulli</text>\n<text text-anchor=\"start\" x=\"365.5\" y=\"-642.8\" font-family=\"Times,serif\" font-size=\"14.00\">y_unobserved ~ Bernoulli</text>\n<text text-anchor=\"start\" x=\"365.5\" y=\"-627.8\" font-family=\"Times,serif\" font-size=\"14.00\">individual_model.x_nn$$$0.weight : Real()</text>\n<text text-anchor=\"start\" x=\"365.5\" y=\"-612.8\" font-family=\"Times,serif\" font-size=\"14.00\">individual_model.x_nn$$$0.bias : Real()</text>\n<text text-anchor=\"start\" x=\"365.5\" y=\"-597.8\" font-family=\"Times,serif\" font-size=\"14.00\">individual_model.x_nn$$$2.weight : Real()</text>\n<text text-anchor=\"start\" x=\"365.5\" y=\"-582.8\" font-family=\"Times,serif\" font-size=\"14.00\">individual_model.x_nn$$$2.bias : Real()</text>\n<text text-anchor=\"start\" x=\"365.5\" y=\"-567.8\" font-family=\"Times,serif\" font-size=\"14.00\">individual_model.x_nn$$$4.weight : Real()</text>\n<text text-anchor=\"start\" x=\"365.5\" y=\"-552.8\" font-family=\"Times,serif\" font-size=\"14.00\">individual_model.x_nn$$$4.bias : Real()</text>\n<text text-anchor=\"start\" x=\"365.5\" y=\"-537.8\" font-family=\"Times,serif\" font-size=\"14.00\">individual_model.x_nn$$$6.weight : Real()</text>\n<text text-anchor=\"start\" x=\"365.5\" y=\"-522.8\" font-family=\"Times,serif\" font-size=\"14.00\">individual_model.x_nn$$$6.bias : Real()</text>\n<text text-anchor=\"start\" x=\"365.5\" y=\"-507.8\" font-family=\"Times,serif\" font-size=\"14.00\">individual_model.t_nn$$$0.weight : Real()</text>\n<text text-anchor=\"start\" x=\"365.5\" y=\"-492.8\" font-family=\"Times,serif\" font-size=\"14.00\">individual_model.t_nn$$$0.bias : Real()</text>\n<text text-anchor=\"start\" x=\"365.5\" y=\"-477.8\" font-family=\"Times,serif\" font-size=\"14.00\">individual_model.y1_nn$$$0.weight : Real()</text>\n<text text-anchor=\"start\" x=\"365.5\" y=\"-462.8\" font-family=\"Times,serif\" font-size=\"14.00\">individual_model.y1_nn$$$0.bias : Real()</text>\n<text text-anchor=\"start\" x=\"365.5\" y=\"-447.8\" font-family=\"Times,serif\" font-size=\"14.00\">individual_model.y1_nn$$$2.weight : Real()</text>\n<text text-anchor=\"start\" x=\"365.5\" y=\"-432.8\" font-family=\"Times,serif\" font-size=\"14.00\">individual_model.y1_nn$$$2.bias : Real()</text>\n<text text-anchor=\"start\" x=\"365.5\" y=\"-417.8\" font-family=\"Times,serif\" font-size=\"14.00\">individual_model.y1_nn$$$4.weight : Real()</text>\n<text text-anchor=\"start\" x=\"365.5\" y=\"-402.8\" font-family=\"Times,serif\" font-size=\"14.00\">individual_model.y1_nn$$$4.bias : Real()</text>\n<text text-anchor=\"start\" x=\"365.5\" y=\"-387.8\" font-family=\"Times,serif\" font-size=\"14.00\">individual_model.y1_nn$$$6.weight : Real()</text>\n<text text-anchor=\"start\" x=\"365.5\" y=\"-372.8\" font-family=\"Times,serif\" font-size=\"14.00\">individual_model.y1_nn$$$6.bias : Real()</text>\n<text text-anchor=\"start\" x=\"365.5\" y=\"-357.8\" font-family=\"Times,serif\" font-size=\"14.00\">individual_model.y0_nn$$$0.weight : Real()</text>\n<text text-anchor=\"start\" x=\"365.5\" y=\"-342.8\" font-family=\"Times,serif\" font-size=\"14.00\">individual_model.y0_nn$$$0.bias : Real()</text>\n<text text-anchor=\"start\" x=\"365.5\" y=\"-327.8\" font-family=\"Times,serif\" font-size=\"14.00\">individual_model.y0_nn$$$2.weight : Real()</text>\n<text text-anchor=\"start\" x=\"365.5\" y=\"-312.8\" font-family=\"Times,serif\" font-size=\"14.00\">individual_model.y0_nn$$$2.bias : Real()</text>\n<text text-anchor=\"start\" x=\"365.5\" y=\"-297.8\" font-family=\"Times,serif\" font-size=\"14.00\">individual_model.y0_nn$$$4.weight : Real()</text>\n<text text-anchor=\"start\" x=\"365.5\" y=\"-282.8\" font-family=\"Times,serif\" font-size=\"14.00\">individual_model.y0_nn$$$4.bias : Real()</text>\n<text text-anchor=\"start\" x=\"365.5\" y=\"-267.8\" font-family=\"Times,serif\" font-size=\"14.00\">individual_model.y0_nn$$$6.weight : Real()</text>\n<text text-anchor=\"start\" x=\"365.5\" y=\"-252.8\" font-family=\"Times,serif\" font-size=\"14.00\">individual_model.y0_nn$$$6.bias : Real()</text>\n</g>\n</g>\n</svg>\n",
      "text/plain": [
       "<graphviz.graphs.Digraph at 0x7fcaa474b400>"
      ]
     },
     "execution_count": 43,
     "metadata": {},
     "output_type": "execute_result"
    }
   ],
   "source": [
    "class CEVAE_CATE(PyroModule):\n",
    "    def __init__(self, individual_model: ProxyConfounderModel):\n",
    "        super().__init__()\n",
    "        self.individual_model = individual_model\n",
    "\n",
    "    def forward(self, x_pred):\n",
    "        extended_model = do(actions = {\"t\": 0})(\n",
    "                            do(actions = {\"t\": 1})(\n",
    "                                pyro.plate(\"data\", size=x_pred.shape[0], dim=-1)(\n",
    "                                    condition(data={\"x\": x_pred})(self.individual_model))))\n",
    "        with MultiWorldCounterfactual(-2):\n",
    "            Ys_pred = extended_model()\n",
    "        return Ys_pred\n",
    "\n",
    "\n",
    "cate_model = CEVAE_CATE(individual_model)\n",
    "pyro.render_model(cate_model, model_args=(x,), render_distributions=True, render_params=True)\n"
   ]
  },
  {
   "cell_type": "markdown",
   "metadata": {},
   "source": [
    "The CATE is the expected return value of this new model, conditioning on\n",
    "the observed covariates $X$. Any inference method available in Pyro\n",
    "could be used to estimate it, including amortized variational inference\n",
    "[@kingma2013auto] as in the original paper [@louizos2017causal]."
   ]
  },
  {
   "cell_type": "code",
   "execution_count": 45,
   "metadata": {},
   "outputs": [
    {
     "name": "stdout",
     "output_type": "stream",
     "text": [
      "[iteration 0001] loss: 56.0073\n",
      "[iteration 0101] loss: 46.9357\n",
      "[iteration 0201] loss: 42.8684\n",
      "[iteration 0301] loss: 40.4332\n",
      "[iteration 0401] loss: 38.6539\n",
      "[iteration 0501] loss: 36.8557\n",
      "[iteration 0601] loss: 35.5130\n",
      "[iteration 0701] loss: 34.1891\n",
      "[iteration 0801] loss: 32.8429\n",
      "[iteration 0901] loss: 31.6592\n",
      "[iteration 1001] loss: 30.5747\n",
      "[iteration 1101] loss: 29.4207\n",
      "[iteration 1201] loss: 28.6107\n",
      "[iteration 1301] loss: 27.4290\n",
      "[iteration 1401] loss: 26.7384\n"
     ]
    }
   ],
   "source": [
    "pyro.clear_param_store()\n",
    "num_iterations = 1500 \n",
    "x_pred_data = x.clone().detach()\n",
    "whiten = PreWhitener(x_pred_data)\n",
    "\n",
    "cate_guide = pyro.infer.autoguide.AutoNormal(pyro.poutine.block(cate_model, hide=['t', 'y_observed', 'y_unobserved']))\n",
    "adam = pyro.optim.Adam({\"lr\": learning_rate})\n",
    "elbo = pyro.infer.TraceEnum_ELBO()\n",
    "svi = pyro.infer.SVI(pyro.infer.config_enumerate(cate_model, \"parallel\"), cate_guide, adam, elbo)\n",
    "\n",
    "for j in range(num_iterations):\n",
    "    # calculate the loss and take a gradient step\n",
    "    x_data = whiten(x_pred_data)\n",
    "    loss = svi.step(x_pred_data)\n",
    "    if j % 100 == 0:\n",
    "        print(\"[iteration %04d] loss: %.4f\" % (j + 1, loss / len(x_pred_data)))"
   ]
  },
  {
   "cell_type": "code",
   "execution_count": null,
   "metadata": {},
   "outputs": [],
   "source": []
  }
 ],
 "metadata": {
  "kernelspec": {
   "display_name": "Python 3 (ipykernel)",
   "language": "python",
   "name": "python3"
  },
  "language_info": {
   "codemirror_mode": {
    "name": "ipython",
    "version": 3
   },
   "file_extension": ".py",
   "mimetype": "text/x-python",
   "name": "python",
   "nbconvert_exporter": "python",
   "pygments_lexer": "ipython3",
   "version": "3.9.12"
  },
  "vscode": {
   "interpreter": {
    "hash": "916dbcbb3f70747c44a77c7bcd40155683ae19c65e1c03b4aa3499c5328201f1"
   }
  }
 },
 "nbformat": 4,
 "nbformat_minor": 2
}

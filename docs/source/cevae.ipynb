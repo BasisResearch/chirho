{
 "cells": [
  {
   "cell_type": "markdown",
   "metadata": {},
   "source": [
    "# Example: the causal effect variational autoencoder"
   ]
  },
  {
   "cell_type": "code",
   "execution_count": 10,
   "metadata": {},
   "outputs": [],
   "source": [
    "from typing import Callable, Dict, List, Optional, Tuple, Union, TypeVar\n",
    "\n",
    "import matplotlib.pyplot as plt\n",
    "\n",
    "import torch\n",
    "import torch.nn as nn\n",
    "from torch.utils.data import DataLoader, TensorDataset\n",
    "\n",
    "import pyro\n",
    "import pyro.distributions as dist\n",
    "from pyro.infer import SVI, Trace_ELBO, TraceEnum_ELBO, config_enumerate, infer_discrete\n",
    "from pyro.infer.util import torch_item\n",
    "from pyro.nn import PyroModule, PyroSample, PyroParam\n",
    "from pyro.contrib.autoname import scope\n",
    "from pyro.poutine import condition, reparam\n",
    "from pyro.optim import ClippedAdam\n",
    "from pyro.util import torch_isnan\n",
    "\n",
    "import causal_pyro\n",
    "from causal_pyro.query.do_messenger import do\n",
    "from causal_pyro.counterfactual.handlers import Factual, MultiWorldCounterfactual, TwinWorldCounterfactual\n"
   ]
  },
  {
   "cell_type": "markdown",
   "metadata": {},
   "source": [
    "## Background: Proxy variables and latent confounders\n",
    "\n",
    "The backdoor adjustment example assumed that it was always possible to measure all\n",
    "potential confounders $X$, but when this is not the case, additional\n",
    "assumptions are necessary to perform causal inference. This example,\n",
    "derived from @louizos2017causal, considers a setting where parametric\n",
    "assumptions are necessary for a causal model to be fully identifiable\n",
    "from observed data.\n",
    "\n",
    "Suppose we observe a population of individuals with features $X_i$\n",
    "undergo treatment $t_i \\in \\{0, 1\\}$ with outcome $y_i$. The treatment\n",
    "variable might represent a medication or an educational strategy, for\n",
    "example, for populations of patients or students, respectively.\n",
    "\n",
    "The task\n",
    "is to estimate the *conditional average treatment effect*: for a new\n",
    "individual with features $X_*$, what difference in outcome $y_*$ should\n",
    "we expect if we assign treatment $t_* = 1$ vs. $t_* = 0$? One cannot\n",
    "simply estimate the conditional probabilities\n",
    "$p(y_* \\mid X = X_*, t = 0)$ and $p(y_* \\mid X = X_*, t = 1)$, because\n",
    "there may be hidden confounders: latent factors $z$ that induce\n",
    "non-causal correlations between $t$ and $y$ even controlling for the\n",
    "observed covariates $X$. \n",
    "\n",
    "For example, a student's socio-economic status\n",
    "might influence both their outcome $y$ and the educational strategy $t$\n",
    "they are exposed to, and the observed covariates $X$ may not fully\n",
    "characterize the student's SES. As a result, conditioning on $t$ may\n",
    "alter the distribution over SES, changing the reported outcome.\n",
    "\n"
   ]
  },
  {
   "cell_type": "code",
   "execution_count": 11,
   "metadata": {},
   "outputs": [],
   "source": [
    "num_data = 1000\n",
    "feature_dim = 5\n",
    "\n",
    "def generate_data(num_data, feature_dim):\n",
    "\n",
    "    z = dist.Bernoulli(0.5).sample([num_data])\n",
    "    x = dist.Normal(z, 5 * z + 3 * (1 - z)).sample([feature_dim]).t()\n",
    "    t = dist.Bernoulli(0.75 * z + 0.25 * (1 - z)).sample()\n",
    "    y = dist.Bernoulli(logits=3 * (z + 2 * (2 * t - 2))).sample()\n",
    "\n",
    "    # Compute true ite for evaluation (via Monte Carlo approximation).\n",
    "    t0_t1 = torch.tensor([[0.0], [1.0]])\n",
    "    y_t0, y_t1 = dist.Bernoulli(logits=3 * (z + 2 * (2 * t0_t1 - 2))).mean\n",
    "    true_ite = y_t1 - y_t0\n",
    "    return x, t, y, true_ite\n",
    "\n",
    "\n",
    "x, t, y, true_ite = generate_data(num_data, feature_dim)"
   ]
  },
  {
   "cell_type": "markdown",
   "metadata": {},
   "source": [
    "## Model: neural surrogate causal Bayesian network\n",
    "\n",
    "Our model captures the intuition that our three observed variables, $X$,\n",
    "$t$, and $y$, may be correlated, thanks to unobserved confounders $z$.\n",
    "Here, $f$, $g$, and $h$ are neural networks parameterized by different\n",
    "parts of the parameter set $\\theta$. The parameters of our model can be fit\n",
    "using standard techniques in Pyro (e.g., stochastic variational\n",
    "inference)."
   ]
  },
  {
   "cell_type": "code",
   "execution_count": 12,
   "metadata": {},
   "outputs": [],
   "source": [
    "class FullyConnected(nn.Sequential):\n",
    "    def __init__(self, sizes):\n",
    "        layers = []\n",
    "        for in_size, out_size in zip(sizes, sizes[1:]):\n",
    "            layers.append(nn.Linear(in_size, out_size))\n",
    "            layers.append(nn.ELU())\n",
    "        layers.pop(-1)\n",
    "        super().__init__(*layers)\n",
    "\n",
    "\n",
    "class DiagNormalNet(FullyConnected):\n",
    "    def __init__(self, sizes):\n",
    "        assert len(sizes) >= 2\n",
    "        sizes = sizes[:-1] + [sizes[-1] * 2]\n",
    "        super().__init__(sizes)\n",
    "\n",
    "    def forward(self, x):\n",
    "        loc, scale = super().forward(x).chunk(2, dim=-1)\n",
    "        return loc, nn.functional.softplus(scale)\n",
    "\n",
    "\n",
    "class BernoulliNet(FullyConnected):\n",
    "    def __init__(self, sizes):\n",
    "        super().__init__(sizes + [1])\n",
    "\n",
    "    def forward(self, x):\n",
    "        return super().forward(x).squeeze(-1).clamp(min=-10, max=10)"
   ]
  },
  {
   "cell_type": "code",
   "execution_count": 13,
   "metadata": {},
   "outputs": [
    {
     "data": {
      "image/svg+xml": "<?xml version=\"1.0\" encoding=\"UTF-8\" standalone=\"no\"?>\n<!DOCTYPE svg PUBLIC \"-//W3C//DTD SVG 1.1//EN\"\n \"http://www.w3.org/Graphics/SVG/1.1/DTD/svg11.dtd\">\n<!-- Generated by graphviz version 2.43.0 (0)\n -->\n<!-- Title: %3 Pages: 1 -->\n<svg width=\"264pt\" height=\"220pt\"\n viewBox=\"0.00 0.00 263.50 220.00\" xmlns=\"http://www.w3.org/2000/svg\" xmlns:xlink=\"http://www.w3.org/1999/xlink\">\n<g id=\"graph0\" class=\"graph\" transform=\"scale(1 1) rotate(0) translate(4 216)\">\n<title>%3</title>\n<polygon fill=\"white\" stroke=\"transparent\" points=\"-4,4 -4,-216 259.5,-216 259.5,4 -4,4\"/>\n<!-- z -->\n<g id=\"node1\" class=\"node\">\n<title>z</title>\n<ellipse fill=\"white\" stroke=\"black\" cx=\"99\" cy=\"-178\" rx=\"27\" ry=\"18\"/>\n<text text-anchor=\"middle\" x=\"99\" y=\"-174.3\" font-family=\"Times,serif\" font-size=\"14.00\">z</text>\n</g>\n<!-- x -->\n<g id=\"node2\" class=\"node\">\n<title>x</title>\n<ellipse fill=\"white\" stroke=\"black\" cx=\"27\" cy=\"-90\" rx=\"27\" ry=\"18\"/>\n<text text-anchor=\"middle\" x=\"27\" y=\"-86.3\" font-family=\"Times,serif\" font-size=\"14.00\">x</text>\n</g>\n<!-- z&#45;&gt;x -->\n<g id=\"edge1\" class=\"edge\">\n<title>z&#45;&gt;x</title>\n<path fill=\"none\" stroke=\"black\" d=\"M86.46,-162.02C75.38,-148.78 59.04,-129.27 46.29,-114.05\"/>\n<polygon fill=\"black\" stroke=\"black\" points=\"48.74,-111.52 39.64,-106.1 43.38,-116.01 48.74,-111.52\"/>\n</g>\n<!-- t -->\n<g id=\"node3\" class=\"node\">\n<title>t</title>\n<ellipse fill=\"white\" stroke=\"black\" cx=\"99\" cy=\"-90\" rx=\"27\" ry=\"18\"/>\n<text text-anchor=\"middle\" x=\"99\" y=\"-86.3\" font-family=\"Times,serif\" font-size=\"14.00\">t</text>\n</g>\n<!-- z&#45;&gt;t -->\n<g id=\"edge2\" class=\"edge\">\n<title>z&#45;&gt;t</title>\n<path fill=\"none\" stroke=\"black\" d=\"M99,-159.6C99,-147.75 99,-131.82 99,-118.29\"/>\n<polygon fill=\"black\" stroke=\"black\" points=\"102.5,-118.08 99,-108.08 95.5,-118.08 102.5,-118.08\"/>\n</g>\n<!-- y -->\n<g id=\"node4\" class=\"node\">\n<title>y</title>\n<ellipse fill=\"white\" stroke=\"black\" cx=\"126\" cy=\"-18\" rx=\"27\" ry=\"18\"/>\n<text text-anchor=\"middle\" x=\"126\" y=\"-14.3\" font-family=\"Times,serif\" font-size=\"14.00\">y</text>\n</g>\n<!-- z&#45;&gt;y -->\n<g id=\"edge3\" class=\"edge\">\n<title>z&#45;&gt;y</title>\n<path fill=\"none\" stroke=\"black\" d=\"M109.92,-161.43C118.64,-147.99 130.17,-127.68 135,-108 140.04,-87.45 137.16,-63.56 133.37,-45.71\"/>\n<polygon fill=\"black\" stroke=\"black\" points=\"136.78,-44.9 131.09,-35.97 129.96,-46.5 136.78,-44.9\"/>\n</g>\n<!-- t&#45;&gt;y -->\n<g id=\"edge4\" class=\"edge\">\n<title>t&#45;&gt;y</title>\n<path fill=\"none\" stroke=\"black\" d=\"M105.4,-72.41C108.51,-64.34 112.33,-54.43 115.83,-45.35\"/>\n<polygon fill=\"black\" stroke=\"black\" points=\"119.13,-46.55 119.46,-35.96 112.6,-44.03 119.13,-46.55\"/>\n</g>\n<!-- distribution_description_node -->\n<g id=\"node5\" class=\"node\">\n<title>distribution_description_node</title>\n<text text-anchor=\"start\" x=\"152.5\" y=\"-196.8\" font-family=\"Times,serif\" font-size=\"14.00\">z ~ Normal</text>\n<text text-anchor=\"start\" x=\"152.5\" y=\"-181.8\" font-family=\"Times,serif\" font-size=\"14.00\">x ~ Normal</text>\n<text text-anchor=\"start\" x=\"152.5\" y=\"-166.8\" font-family=\"Times,serif\" font-size=\"14.00\">t ~ Bernoulli</text>\n<text text-anchor=\"start\" x=\"152.5\" y=\"-151.8\" font-family=\"Times,serif\" font-size=\"14.00\">y ~ Bernoulli</text>\n</g>\n</g>\n</svg>\n",
      "text/plain": [
       "<graphviz.graphs.Digraph at 0x7f856c0c2be0>"
      ]
     },
     "execution_count": 13,
     "metadata": {},
     "output_type": "execute_result"
    }
   ],
   "source": [
    "class ProxyConfounderModel(PyroModule):\n",
    "    \"\"\"\n",
    "    :param dict config: A dict specifying ``feature_dim``, ``latent_dim``,\n",
    "        ``hidden_dim``, ``num_layers``, and ``outcome_dist``.\n",
    "    \"\"\"\n",
    "\n",
    "    def __init__(self, config):\n",
    "        self.latent_dim = config[\"latent_dim\"]\n",
    "        self.hidden_dim = config[\"hidden_dim\"]\n",
    "        self.num_layers = config[\"num_layers\"]\n",
    "        self.outcome_dist = config[\"outcome_dist\"]\n",
    "        self.feature_dim = config[\"feature_dim\"]\n",
    "        super().__init__()\n",
    "        self.x_nn = DiagNormalNet(\n",
    "            [config[\"latent_dim\"]]\n",
    "            + [config[\"hidden_dim\"]] * config[\"num_layers\"]\n",
    "            + [config[\"feature_dim\"]]\n",
    "        )\n",
    "        if config[\"outcome_dist\"] == \"bernoulli\":\n",
    "            OutcomeNet = BernoulliNet\n",
    "        else:\n",
    "            raise NotImplementedError(config[\"outcome_dist\"])\n",
    "        # The y network is split between the two t values.\n",
    "        self.y0_nn = OutcomeNet(\n",
    "            [config[\"latent_dim\"]] + [config[\"hidden_dim\"]] * config[\"num_layers\"]\n",
    "        )\n",
    "        self.y1_nn = OutcomeNet(\n",
    "            [config[\"latent_dim\"]] + [config[\"hidden_dim\"]] * config[\"num_layers\"]\n",
    "        )\n",
    "        self.t_nn = BernoulliNet([config[\"latent_dim\"]])\n",
    "\n",
    "    def forward(self):\n",
    "        z = pyro.sample(\"z\", dist.Normal(0, 1).expand([self.latent_dim]).to_event(1))\n",
    "        x = pyro.sample(\"x\", dist.Normal(*self.x_nn(z)).to_event(1))\n",
    "        t = pyro.sample(\"t\", dist.Bernoulli(logits=self.t_nn(z)))\n",
    "        # parameters are not shared among values of t\n",
    "        y_logits = torch.where(t == 1, self.y1_nn(z), self.y0_nn(z))\n",
    "        y = pyro.sample(\"y\", dist.Bernoulli(logits=y_logits))\n",
    "        return y\n",
    "\n",
    "\n",
    "individual_model = ProxyConfounderModel(dict(\n",
    "    feature_dim=x.shape[-1],\n",
    "    latent_dim=20,\n",
    "    hidden_dim=200,\n",
    "    num_layers=3,\n",
    "    num_samples=20,\n",
    "    outcome_dist=\"bernoulli\",\n",
    "))\n",
    "pyro.render_model(individual_model, model_args=(), render_distributions=True)"
   ]
  },
  {
   "cell_type": "markdown",
   "metadata": {},
   "source": [
    "## Query: conditional average treatment effect (CATE)\n",
    "\n",
    "We can now set up a larger model in which the *conditional average\n",
    "treatment effect* (CATE) we want to estimate is a random variable."
   ]
  },
  {
   "cell_type": "markdown",
   "metadata": {},
   "source": [
    "### Fit parameters via maximum likelihood\n",
    "\n",
    "Before estimating the query, we fit deterministic parameters in the model to the observed data using maximum likelihood."
   ]
  },
  {
   "cell_type": "code",
   "execution_count": 14,
   "metadata": {},
   "outputs": [
    {
     "data": {
      "image/svg+xml": "<?xml version=\"1.0\" encoding=\"UTF-8\" standalone=\"no\"?>\n<!DOCTYPE svg PUBLIC \"-//W3C//DTD SVG 1.1//EN\"\n \"http://www.w3.org/Graphics/SVG/1.1/DTD/svg11.dtd\">\n<!-- Generated by graphviz version 2.43.0 (0)\n -->\n<!-- Title: %3 Pages: 1 -->\n<svg width=\"297pt\" height=\"259pt\"\n viewBox=\"0.00 0.00 296.50 259.00\" xmlns=\"http://www.w3.org/2000/svg\" xmlns:xlink=\"http://www.w3.org/1999/xlink\">\n<g id=\"graph0\" class=\"graph\" transform=\"scale(1 1) rotate(0) translate(4 255)\">\n<title>%3</title>\n<polygon fill=\"white\" stroke=\"transparent\" points=\"-4,4 -4,-255 292.5,-255 292.5,4 -4,4\"/>\n<g id=\"clust1\" class=\"cluster\">\n<title>cluster_observations</title>\n<polygon fill=\"none\" stroke=\"black\" points=\"8,-8 8,-243 170,-243 170,-8 8,-8\"/>\n<text text-anchor=\"middle\" x=\"116\" y=\"-15.8\" font-family=\"Times,serif\" font-size=\"14.00\">observations</text>\n</g>\n<!-- z -->\n<g id=\"node1\" class=\"node\">\n<title>z</title>\n<ellipse fill=\"white\" stroke=\"black\" cx=\"115\" cy=\"-217\" rx=\"27\" ry=\"18\"/>\n<text text-anchor=\"middle\" x=\"115\" y=\"-213.3\" font-family=\"Times,serif\" font-size=\"14.00\">z</text>\n</g>\n<!-- x -->\n<g id=\"node2\" class=\"node\">\n<title>x</title>\n<ellipse fill=\"grey\" stroke=\"black\" cx=\"43\" cy=\"-129\" rx=\"27\" ry=\"18\"/>\n<text text-anchor=\"middle\" x=\"43\" y=\"-125.3\" font-family=\"Times,serif\" font-size=\"14.00\">x</text>\n</g>\n<!-- z&#45;&gt;x -->\n<g id=\"edge1\" class=\"edge\">\n<title>z&#45;&gt;x</title>\n<path fill=\"none\" stroke=\"black\" d=\"M102.46,-201.02C91.38,-187.78 75.04,-168.27 62.29,-153.05\"/>\n<polygon fill=\"black\" stroke=\"black\" points=\"64.74,-150.52 55.64,-145.1 59.38,-155.01 64.74,-150.52\"/>\n</g>\n<!-- t -->\n<g id=\"node3\" class=\"node\">\n<title>t</title>\n<ellipse fill=\"grey\" stroke=\"black\" cx=\"115\" cy=\"-129\" rx=\"27\" ry=\"18\"/>\n<text text-anchor=\"middle\" x=\"115\" y=\"-125.3\" font-family=\"Times,serif\" font-size=\"14.00\">t</text>\n</g>\n<!-- z&#45;&gt;t -->\n<g id=\"edge2\" class=\"edge\">\n<title>z&#45;&gt;t</title>\n<path fill=\"none\" stroke=\"black\" d=\"M115,-198.6C115,-186.75 115,-170.82 115,-157.29\"/>\n<polygon fill=\"black\" stroke=\"black\" points=\"118.5,-157.08 115,-147.08 111.5,-157.08 118.5,-157.08\"/>\n</g>\n<!-- y -->\n<g id=\"node4\" class=\"node\">\n<title>y</title>\n<ellipse fill=\"grey\" stroke=\"black\" cx=\"125\" cy=\"-57\" rx=\"27\" ry=\"18\"/>\n<text text-anchor=\"middle\" x=\"125\" y=\"-53.3\" font-family=\"Times,serif\" font-size=\"14.00\">y</text>\n</g>\n<!-- z&#45;&gt;y -->\n<g id=\"edge3\" class=\"edge\">\n<title>z&#45;&gt;y</title>\n<path fill=\"none\" stroke=\"black\" d=\"M125.92,-200.43C134.64,-186.99 146.17,-166.68 151,-147 154.81,-131.46 154.62,-126.59 151,-111 148.78,-101.43 144.57,-91.59 140.18,-83.02\"/>\n<polygon fill=\"black\" stroke=\"black\" points=\"143.11,-81.08 135.24,-73.98 136.96,-84.44 143.11,-81.08\"/>\n</g>\n<!-- t&#45;&gt;y -->\n<g id=\"edge4\" class=\"edge\">\n<title>t&#45;&gt;y</title>\n<path fill=\"none\" stroke=\"black\" d=\"M117.42,-111.05C118.52,-103.35 119.85,-94.03 121.09,-85.36\"/>\n<polygon fill=\"black\" stroke=\"black\" points=\"124.58,-85.67 122.53,-75.28 117.65,-84.68 124.58,-85.67\"/>\n</g>\n<!-- distribution_description_node -->\n<g id=\"node5\" class=\"node\">\n<title>distribution_description_node</title>\n<text text-anchor=\"start\" x=\"185.5\" y=\"-235.8\" font-family=\"Times,serif\" font-size=\"14.00\">z ~ Normal</text>\n<text text-anchor=\"start\" x=\"185.5\" y=\"-220.8\" font-family=\"Times,serif\" font-size=\"14.00\">x ~ Normal</text>\n<text text-anchor=\"start\" x=\"185.5\" y=\"-205.8\" font-family=\"Times,serif\" font-size=\"14.00\">t ~ Bernoulli</text>\n<text text-anchor=\"start\" x=\"185.5\" y=\"-190.8\" font-family=\"Times,serif\" font-size=\"14.00\">y ~ Bernoulli</text>\n</g>\n</g>\n</svg>\n",
      "text/plain": [
       "<graphviz.graphs.Digraph at 0x7f85ac7d0130>"
      ]
     },
     "execution_count": 14,
     "metadata": {},
     "output_type": "execute_result"
    }
   ],
   "source": [
    "class CEVAE_MLE(PyroModule):\n",
    "    def __init__(self, individual_model: ProxyConfounderModel):\n",
    "        super().__init__()\n",
    "        self.individual_model = individual_model\n",
    "\n",
    "    def forward(self, x_obs, t_obs, y_obs):\n",
    "        with pyro.condition(data=dict(x=x_obs, t=t_obs, y=y_obs)), \\\n",
    "                pyro.plate(\"observations\", size=x_obs.shape[0], dim=-1):\n",
    "            return self.individual_model()\n",
    "\n",
    "\n",
    "mle_model = CEVAE_MLE(individual_model)\n",
    "pyro.render_model(mle_model, model_args=(x, t ,y), render_distributions=True)"
   ]
  },
  {
   "cell_type": "code",
   "execution_count": 15,
   "metadata": {},
   "outputs": [],
   "source": [
    "class PreWhitener(nn.Module):\n",
    "    \"\"\"\n",
    "    Data pre-whitener.\n",
    "    \"\"\"\n",
    "    def __init__(self, data):\n",
    "        super().__init__()\n",
    "        with torch.no_grad():\n",
    "            loc = data.mean(0)\n",
    "            scale = data.std(0)\n",
    "            scale[~(scale > 0)] = 1.0\n",
    "            self.register_buffer(\"loc\", loc)\n",
    "            self.register_buffer(\"inv_scale\", scale.reciprocal())\n",
    "\n",
    "    def forward(self, data):\n",
    "        return (data - self.loc) * self.inv_scale"
   ]
  },
  {
   "cell_type": "code",
   "execution_count": 16,
   "metadata": {},
   "outputs": [
    {
     "name": "stdout",
     "output_type": "stream",
     "text": [
      "[iteration 0001] loss: 129.5689\n",
      "[iteration 0101] loss: 48.5551\n",
      "[iteration 0201] loss: 46.7760\n",
      "[iteration 0301] loss: 44.7273\n",
      "[iteration 0401] loss: 42.9775\n",
      "[iteration 0501] loss: 41.1136\n",
      "[iteration 0601] loss: 38.8661\n",
      "[iteration 0701] loss: 36.5752\n",
      "[iteration 0801] loss: 34.2952\n",
      "[iteration 0901] loss: 32.3228\n",
      "[iteration 1001] loss: 30.5203\n",
      "[iteration 1101] loss: 29.0929\n",
      "[iteration 1201] loss: 27.6913\n",
      "[iteration 1301] loss: 26.7057\n",
      "[iteration 1401] loss: 25.7089\n",
      "[iteration 1501] loss: 24.7063\n",
      "[iteration 1601] loss: 23.9357\n",
      "[iteration 1701] loss: 23.1497\n",
      "[iteration 1801] loss: 22.2999\n",
      "[iteration 1901] loss: 21.7618\n",
      "[iteration 2001] loss: 21.1170\n",
      "[iteration 2101] loss: 20.5775\n",
      "[iteration 2201] loss: 19.9896\n",
      "[iteration 2301] loss: 19.6201\n",
      "[iteration 2401] loss: 19.2254\n",
      "[iteration 2501] loss: 18.6658\n",
      "[iteration 2601] loss: 18.2828\n",
      "[iteration 2701] loss: 18.0456\n",
      "[iteration 2801] loss: 17.8085\n",
      "[iteration 2901] loss: 17.4591\n",
      "[iteration 3001] loss: 17.1140\n",
      "[iteration 3101] loss: 17.0020\n",
      "[iteration 3201] loss: 16.7634\n",
      "[iteration 3301] loss: 16.6576\n",
      "[iteration 3401] loss: 16.4674\n"
     ]
    }
   ],
   "source": [
    "pyro.clear_param_store()\n",
    "num_iterations = 3500 \n",
    "batch_size = 100 \n",
    "learning_rate = 1e-3 \n",
    "learning_rate_decay = 0.1 \n",
    "weight_decay = 1e-4\n",
    "jit = False \n",
    "\n",
    "x_data = x.clone().detach()\n",
    "t_data = t.clone().detach()\n",
    "y_data = y.clone().detach()\n",
    "\n",
    "guide = pyro.infer.autoguide.AutoNormal(mle_model)\n",
    "adam = pyro.optim.Adam({\"lr\": learning_rate})\n",
    "elbo = pyro.infer.Trace_ELBO()\n",
    "svi = pyro.infer.SVI(mle_model, guide, adam, elbo)\n",
    "\n",
    "for j in range(num_iterations):\n",
    "    # calculate the loss and take a gradient step\n",
    "    loss = svi.step(x_data, t_data, y_data)\n",
    "    if j % 100 == 0:\n",
    "        print(\"[iteration %04d] loss: %.4f\" % (j + 1, loss / len(x_data)))\n"
   ]
  },
  {
   "cell_type": "markdown",
   "metadata": {},
   "source": [
    "Now we can set up the extended model corresponding to the CATE:"
   ]
  },
  {
   "cell_type": "code",
   "execution_count": 17,
   "metadata": {},
   "outputs": [
    {
     "data": {
      "image/svg+xml": "<?xml version=\"1.0\" encoding=\"UTF-8\" standalone=\"no\"?>\n<!DOCTYPE svg PUBLIC \"-//W3C//DTD SVG 1.1//EN\"\n \"http://www.w3.org/Graphics/SVG/1.1/DTD/svg11.dtd\">\n<!-- Generated by graphviz version 2.43.0 (0)\n -->\n<!-- Title: %3 Pages: 1 -->\n<svg width=\"568pt\" height=\"336pt\"\n viewBox=\"0.00 0.00 567.50 336.00\" xmlns=\"http://www.w3.org/2000/svg\" xmlns:xlink=\"http://www.w3.org/1999/xlink\">\n<g id=\"graph0\" class=\"graph\" transform=\"scale(1 1) rotate(0) translate(4 332)\">\n<title>%3</title>\n<polygon fill=\"white\" stroke=\"transparent\" points=\"-4,4 -4,-332 563.5,-332 563.5,4 -4,4\"/>\n<g id=\"clust1\" class=\"cluster\">\n<title>cluster_data</title>\n<polygon fill=\"none\" stroke=\"black\" points=\"8,-8 8,-312.5 350,-312.5 350,-8 8,-8\"/>\n<text text-anchor=\"middle\" x=\"326\" y=\"-15.8\" font-family=\"Times,serif\" font-size=\"14.00\">data</text>\n</g>\n<g id=\"clust2\" class=\"cluster\">\n<title>cluster_intervention_2</title>\n<polygon fill=\"none\" stroke=\"black\" points=\"16,-39 16,-153 342,-153 342,-39 16,-39\"/>\n<text text-anchor=\"middle\" x=\"282\" y=\"-46.8\" font-family=\"Times,serif\" font-size=\"14.00\">intervention_2</text>\n</g>\n<g id=\"clust3\" class=\"cluster\">\n<title>cluster_intervention_3</title>\n<polygon fill=\"none\" stroke=\"black\" points=\"24,-70 24,-145 334,-145 334,-70 24,-70\"/>\n<text text-anchor=\"middle\" x=\"274\" y=\"-77.8\" font-family=\"Times,serif\" font-size=\"14.00\">intervention_3</text>\n</g>\n<!-- z -->\n<g id=\"node1\" class=\"node\">\n<title>z</title>\n<ellipse fill=\"white\" stroke=\"black\" cx=\"134\" cy=\"-286.5\" rx=\"27\" ry=\"18\"/>\n<text text-anchor=\"middle\" x=\"134\" y=\"-282.8\" font-family=\"Times,serif\" font-size=\"14.00\">z</text>\n</g>\n<!-- x -->\n<g id=\"node2\" class=\"node\">\n<title>x</title>\n<ellipse fill=\"grey\" stroke=\"black\" cx=\"65\" cy=\"-191\" rx=\"27\" ry=\"18\"/>\n<text text-anchor=\"middle\" x=\"65\" y=\"-187.3\" font-family=\"Times,serif\" font-size=\"14.00\">x</text>\n</g>\n<!-- z&#45;&gt;x -->\n<g id=\"edge1\" class=\"edge\">\n<title>z&#45;&gt;x</title>\n<path fill=\"none\" stroke=\"black\" d=\"M122.61,-270.06C111.72,-255.31 95.15,-232.86 82.57,-215.81\"/>\n<polygon fill=\"black\" stroke=\"black\" points=\"85.16,-213.43 76.41,-207.46 79.53,-217.59 85.16,-213.43\"/>\n</g>\n<!-- t -->\n<g id=\"node3\" class=\"node\">\n<title>t</title>\n<ellipse fill=\"white\" stroke=\"black\" cx=\"157\" cy=\"-191\" rx=\"27\" ry=\"18\"/>\n<text text-anchor=\"middle\" x=\"157\" y=\"-187.3\" font-family=\"Times,serif\" font-size=\"14.00\">t</text>\n</g>\n<!-- z&#45;&gt;t -->\n<g id=\"edge2\" class=\"edge\">\n<title>z&#45;&gt;t</title>\n<path fill=\"none\" stroke=\"black\" d=\"M138.22,-268.35C141.62,-254.51 146.47,-234.79 150.39,-218.86\"/>\n<polygon fill=\"black\" stroke=\"black\" points=\"153.82,-219.59 152.81,-209.04 147.02,-217.92 153.82,-219.59\"/>\n</g>\n<!-- y_observed -->\n<g id=\"node4\" class=\"node\">\n<title>y_observed</title>\n<ellipse fill=\"white\" stroke=\"black\" cx=\"95\" cy=\"-119\" rx=\"63.09\" ry=\"18\"/>\n<text text-anchor=\"middle\" x=\"95\" y=\"-115.3\" font-family=\"Times,serif\" font-size=\"14.00\">y_observed</text>\n</g>\n<!-- z&#45;&gt;y_observed -->\n<g id=\"edge3\" class=\"edge\">\n<title>z&#45;&gt;y_observed</title>\n<path fill=\"none\" stroke=\"black\" d=\"M129.97,-268.41C123.2,-239.67 109.48,-181.44 101.38,-147.08\"/>\n<polygon fill=\"black\" stroke=\"black\" points=\"104.76,-146.17 99.06,-137.24 97.95,-147.78 104.76,-146.17\"/>\n</g>\n<!-- y_unobserved -->\n<g id=\"node5\" class=\"node\">\n<title>y_unobserved</title>\n<ellipse fill=\"white\" stroke=\"black\" cx=\"251\" cy=\"-119\" rx=\"74.99\" ry=\"18\"/>\n<text text-anchor=\"middle\" x=\"251\" y=\"-115.3\" font-family=\"Times,serif\" font-size=\"14.00\">y_unobserved</text>\n</g>\n<!-- z&#45;&gt;y_unobserved -->\n<g id=\"edge6\" class=\"edge\">\n<title>z&#45;&gt;y_unobserved</title>\n<path fill=\"none\" stroke=\"black\" d=\"M146.34,-270.24C158.54,-254.99 177.56,-230.75 193,-209 207.82,-188.12 223.62,-163.72 234.98,-145.75\"/>\n<polygon fill=\"black\" stroke=\"black\" points=\"238.13,-147.33 240.49,-137 232.2,-143.6 238.13,-147.33\"/>\n</g>\n<!-- t&#45;&gt;y_observed -->\n<g id=\"edge4\" class=\"edge\">\n<title>t&#45;&gt;y_observed</title>\n<path fill=\"none\" stroke=\"black\" d=\"M143.85,-175.15C135.92,-166.2 125.62,-154.58 116.53,-144.31\"/>\n<polygon fill=\"black\" stroke=\"black\" points=\"119.12,-141.95 109.87,-136.79 113.88,-146.6 119.12,-141.95\"/>\n</g>\n<!-- t&#45;&gt;y_unobserved -->\n<g id=\"edge5\" class=\"edge\">\n<title>t&#45;&gt;y_unobserved</title>\n<path fill=\"none\" stroke=\"black\" d=\"M174.68,-176.83C187.69,-167.14 205.7,-153.73 220.95,-142.37\"/>\n<polygon fill=\"black\" stroke=\"black\" points=\"223.17,-145.09 229.1,-136.31 218.99,-139.48 223.17,-145.09\"/>\n</g>\n<!-- distribution_description_node -->\n<g id=\"node6\" class=\"node\">\n<title>distribution_description_node</title>\n<text text-anchor=\"start\" x=\"366.5\" y=\"-312.8\" font-family=\"Times,serif\" font-size=\"14.00\">z ~ Normal</text>\n<text text-anchor=\"start\" x=\"366.5\" y=\"-297.8\" font-family=\"Times,serif\" font-size=\"14.00\">x ~ Normal</text>\n<text text-anchor=\"start\" x=\"366.5\" y=\"-282.8\" font-family=\"Times,serif\" font-size=\"14.00\">t ~ Bernoulli</text>\n<text text-anchor=\"start\" x=\"366.5\" y=\"-267.8\" font-family=\"Times,serif\" font-size=\"14.00\">y_observed ~ Bernoulli</text>\n<text text-anchor=\"start\" x=\"366.5\" y=\"-252.8\" font-family=\"Times,serif\" font-size=\"14.00\">y_unobserved ~ Bernoulli</text>\n</g>\n</g>\n</svg>\n",
      "text/plain": [
       "<graphviz.graphs.Digraph at 0x7f856c10bd60>"
      ]
     },
     "execution_count": 17,
     "metadata": {},
     "output_type": "execute_result"
    }
   ],
   "source": [
    "class CEVAE_CATE(PyroModule):\n",
    "    def __init__(self, individual_model: ProxyConfounderModel):\n",
    "        super().__init__()\n",
    "        self.individual_model = individual_model\n",
    "\n",
    "    def forward(self, x_pred):\n",
    "        extended_model = do(actions = {\"t\": 0})(\n",
    "                            do(actions = {\"t\": 1})(\n",
    "                                pyro.plate(\"data\", size=x_pred.shape[0], dim=-1)(\n",
    "                                    condition(data={\"x\": x_pred})(self.individual_model))))\n",
    "        with MultiWorldCounterfactual(-2):\n",
    "            Ys_pred = extended_model()\n",
    "\n",
    "        return Ys_pred\n",
    "\n",
    "\n",
    "cate_model = CEVAE_CATE(individual_model)\n",
    "pyro.render_model(cate_model, model_args=(x,), render_distributions=True)\n"
   ]
  },
  {
   "cell_type": "markdown",
   "metadata": {},
   "source": [
    "The CATE is the expected return value of this new model, conditioning on\n",
    "the observed covariates $X$. Any inference method available in Pyro\n",
    "could be used to estimate it, including amortized variational inference\n",
    "[@kingma2013auto] as in the original paper [@louizos2017causal]."
   ]
  },
  {
   "cell_type": "code",
   "execution_count": 18,
   "metadata": {},
   "outputs": [
    {
     "name": "stdout",
     "output_type": "stream",
     "text": [
      "[iteration 0001] loss: 50.8529\n",
      "[iteration 0101] loss: 47.4522\n",
      "[iteration 0201] loss: 44.9659\n",
      "[iteration 0301] loss: 42.6034\n",
      "[iteration 0401] loss: 40.6758\n",
      "[iteration 0501] loss: 38.9875\n",
      "[iteration 0601] loss: 36.7155\n",
      "[iteration 0701] loss: 35.2826\n",
      "[iteration 0801] loss: 33.5850\n",
      "[iteration 0901] loss: 31.7743\n",
      "[iteration 1001] loss: 30.5693\n",
      "[iteration 1101] loss: 28.9674\n",
      "[iteration 1201] loss: 27.4068\n",
      "[iteration 1301] loss: 26.1127\n",
      "[iteration 1401] loss: 24.9042\n",
      "[iteration 1501] loss: 23.7454\n",
      "[iteration 1601] loss: 22.6495\n",
      "[iteration 1701] loss: 21.5405\n",
      "[iteration 1801] loss: 20.7120\n",
      "[iteration 1901] loss: 19.8102\n",
      "[iteration 2001] loss: 19.2535\n",
      "[iteration 2101] loss: 18.5272\n",
      "[iteration 2201] loss: 17.9195\n",
      "[iteration 2301] loss: 17.3589\n",
      "[iteration 2401] loss: 17.0933\n",
      "[iteration 2501] loss: 16.5604\n",
      "[iteration 2601] loss: 16.2209\n",
      "[iteration 2701] loss: 16.0141\n",
      "[iteration 2801] loss: 15.7820\n",
      "[iteration 2901] loss: 15.5478\n",
      "[iteration 3001] loss: 15.4996\n",
      "[iteration 3101] loss: 15.2833\n",
      "[iteration 3201] loss: 15.1964\n",
      "[iteration 3301] loss: 15.1146\n",
      "[iteration 3401] loss: 14.9726\n"
     ]
    }
   ],
   "source": [
    "pyro.clear_param_store()\n",
    "num_iterations = 3500 \n",
    "x_pred_data = x.clone().detach()\n",
    "whiten = PreWhitener(x_pred_data)\n",
    "\n",
    "cate_model_fit = pyro.poutine.block(hide_types=[\"param\",])(\n",
    "    pyro.infer.config_enumerate(cate_model))\n",
    "cate_guide = pyro.infer.autoguide.AutoNormal(pyro.poutine.block(cate_model_fit, hide=['t', 'y_observed', 'y_unobserved']))\n",
    "adam = pyro.optim.Adam({\"lr\": learning_rate})\n",
    "elbo = pyro.infer.TraceEnum_ELBO()\n",
    "svi = pyro.infer.SVI(cate_model_fit, cate_guide, adam, elbo)\n",
    "\n",
    "for j in range(num_iterations):\n",
    "    # calculate the loss and take a gradient step\n",
    "    x_data = whiten(x_pred_data)\n",
    "    loss = svi.step(x_pred_data)\n",
    "    if j % 100 == 0:\n",
    "        print(\"[iteration %04d] loss: %.4f\" % (j + 1, loss / len(x_pred_data)))"
   ]
  },
  {
   "cell_type": "code",
   "execution_count": 38,
   "metadata": {},
   "outputs": [
    {
     "name": "stdout",
     "output_type": "stream",
     "text": [
      "torch.Size([1000]) torch.Size([100, 1000]) torch.Size([1000])\n"
     ]
    }
   ],
   "source": [
    "predictive = pyro.infer.Predictive(pyro.infer.infer_discrete(config_enumerate(cate_model), -4), guide=cate_guide, num_samples=100, return_sites=(\"t\", \"y_unobserved\",))\n",
    "preds = predictive(x_pred_data)\n",
    "ys_pred, t_pred = preds[\"y_unobserved\"], preds[\"t\"]\n",
    "est_ites = ys_pred[..., 1, 0, :] - ys_pred[..., 0, 1, :]\n",
    "cate = est_ites.mean(0)\n",
    "print(true_ite.shape, est_ites.shape, cate.shape)\n",
    "true_ate = true_ite.mean()\n",
    "est_ate = cate.mean()"
   ]
  },
  {
   "cell_type": "code",
   "execution_count": 41,
   "metadata": {},
   "outputs": [
    {
     "data": {
      "text/plain": [
       "Text(0, 0.5, 'Estimated ITE')"
      ]
     },
     "execution_count": 41,
     "metadata": {},
     "output_type": "execute_result"
    },
    {
     "data": {
      "image/png": "[encoded data removed]",
      "text/plain": [
       "<Figure size 432x288 with 1 Axes>"
      ]
     },
     "metadata": {
      "needs_background": "light"
     },
     "output_type": "display_data"
    }
   ],
   "source": [
    "plt.scatter(true_ite, cate)\n",
    "plt.scatter(torch.linspace(-1, 1, 1000), torch.linspace(-1, 1, 1000), color='red', marker='.')\n",
    "plt.scatter(true_ate, est_ate, color='green')\n",
    "plt.xlim(0, 1)\n",
    "plt.ylim(0, 1)\n",
    "plt.xlabel('True ITE')\n",
    "plt.ylabel('Estimated ITE')"
   ]
  },
  {
   "cell_type": "code",
   "execution_count": 37,
   "metadata": {},
   "outputs": [
    {
     "data": {
      "text/plain": [
       "<matplotlib.legend.Legend at 0x7f8533bbc700>"
      ]
     },
     "execution_count": 37,
     "metadata": {},
     "output_type": "execute_result"
    },
    {
     "data": {
      "image/png": "[encoded data removed]",
      "text/plain": [
       "<Figure size 432x288 with 1 Axes>"
      ]
     },
     "metadata": {
      "needs_background": "light"
     },
     "output_type": "display_data"
    }
   ],
   "source": [
    "plt.hist(true_ite.cpu().numpy(), bins=100, alpha=0.5, label='true')\n",
    "plt.hist(cate.cpu().numpy(), bins=100, alpha=0.5, label='predicted')\n",
    "plt.xlim(0, 1)\n",
    "plt.legend()"
   ]
  },
  {
   "cell_type": "code",
   "execution_count": null,
   "metadata": {},
   "outputs": [],
   "source": []
  }
 ],
 "metadata": {
  "kernelspec": {
   "display_name": "Python 3 (ipykernel)",
   "language": "python",
   "name": "python3"
  },
  "language_info": {
   "codemirror_mode": {
    "name": "ipython",
    "version": 3
   },
   "file_extension": ".py",
   "mimetype": "text/x-python",
   "name": "python",
   "nbconvert_exporter": "python",
   "pygments_lexer": "ipython3",
   "version": "3.9.12"
  },
  "vscode": {
   "interpreter": {
    "hash": "916dbcbb3f70747c44a77c7bcd40155683ae19c65e1c03b4aa3499c5328201f1"
   }
  }
 },
 "nbformat": 4,
 "nbformat_minor": 2
}

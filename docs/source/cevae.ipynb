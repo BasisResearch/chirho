{
 "cells": [
  {
   "attachments": {},
   "cell_type": "markdown",
   "metadata": {},
   "source": [
    "# Causal effect variational autoencoder"
   ]
  },
  {
   "attachments": {},
   "cell_type": "markdown",
   "metadata": {},
   "source": [
    "## Outline\n",
    "\n",
    "- [Setup](#setup)\n",
    "- [Overview: Proxy variables and latent confounders](#overview:-proxy-variables-and-latent-confounders)\n",
    "    - [Task: Treatment effect estimation with observational data](#task:-treatment-effect-estimation-with-observational-data)\n",
    "    - [Challenge: Confounding](#challenge:-confounding)\n",
    "    - [Assumptions: All latent confounders influence at least one \"proxy\" covariate](#assumptions:-all-latent-confounders-influence-at-least-one-\\\"proxy\\\"-covariate)\n",
    "    - [Intuition: Adjusting for confounding via proxies](#intuition:-adjusting-for-confounding-via-proxies)\n",
    "- [Example: Synthetic data](#example:-synthetic-data)\n",
    "- [Causal Probabilistic Program](#causal-probabilistic-program)\n",
    "    - [Model Description](#model-description)\n",
    "    - [Prior Description](#prior-description)\n",
    "- [Causal Query: conditional average treatment effect (CATE)](#causal-query:-conditional-average-treatment-effect-\\(CATE\\))\n",
    "    - [Fit parameter via maximum likelihood](#fit-parameters-via-maximum-likelihood)\n",
    "- [Causal Inference as Probabilistic Inference](#causal-inference-as-probabilistic-inference)\n",
    "- [Results](#results)\n"
   ]
  },
  {
   "attachments": {},
   "cell_type": "markdown",
   "metadata": {},
   "source": [
    "## Setup"
   ]
  },
  {
   "attachments": {},
   "cell_type": "markdown",
   "metadata": {},
   "source": [
    "Here, we install the necessary Pytorch, Pyro, and ChiRho dependencies for this example."
   ]
  },
  {
   "cell_type": "code",
   "execution_count": 1,
   "metadata": {},
   "outputs": [
    {
     "name": "stdout",
     "output_type": "stream",
     "text": [
      "Automatic pdb calling has been turned OFF\n"
     ]
    }
   ],
   "source": [
    "%reload_ext autoreload\n",
    "%autoreload 2\n",
    "%pdb off\n",
    "\n",
    "import matplotlib.pyplot as plt\n",
    "\n",
    "import torch\n",
    "import torch.nn as nn\n",
    "import pytorch_lightning as pl\n",
    "\n",
    "import pyro\n",
    "import pyro.distributions as dist\n",
    "from pyro.nn import PyroModule\n",
    "\n",
    "from chirho.counterfactual.handlers import MultiWorldCounterfactual\n",
    "from chirho.indexed.ops import IndexSet, gather\n",
    "from chirho.interventional.handlers import do\n",
    "from chirho.observational.handlers import condition\n",
    "\n",
    "torch.set_float32_matmul_precision('medium')\n",
    "pyro.clear_param_store()\n",
    "pyro.set_rng_seed(1234)\n",
    "pyro.settings.set(module_local_params=True)"
   ]
  },
  {
   "attachments": {},
   "cell_type": "markdown",
   "metadata": {},
   "source": [
    "## Overview: Proxy variables and latent confounders"
   ]
  },
  {
   "attachments": {},
   "cell_type": "markdown",
   "metadata": {},
   "source": [
    "### **Task:** Treatment effect estimation with observational data\n",
    "\n",
    "Just as in the [backdoor](backdoor.ipynb) and [slc](slc.ipynb) examples, in this example we are interested in estimating how changes (or interventions) to a particular treatment variable $T$ influence a particular outcome variable $Y$. We wish to estimate this causal effect using *observational* (non-randomized) data from $T$, $Y$, and some collection of covariates $X =\\{X_1, ..., X_d\\}$."
   ]
  },
  {
   "attachments": {},
   "cell_type": "markdown",
   "metadata": {},
   "source": [
    "### **Challenge:** Confounding\n",
    "\n",
    "As the task here is exactly identical to the [backdoor](backdoor.ipynb) and [slc](slc.ipynb) examples, so too are the challenges. From the [backdoor](backdoor.ipynb) example: \n",
    "\n",
    "\"Unfortunately, naively estimating the effect of an intervention by simply approximating $P(Y|T)$ alone may produce poor estimates of $T$'s effect on $Y$.\"\n",
    "\n",
    "Note: While the challenges remain the same between these examples, the assumptions we make will differ substantially."
   ]
  },
  {
   "attachments": {},
   "cell_type": "markdown",
   "metadata": {},
   "source": [
    "### **Assumptions:** All latent confounders influence at least one \"proxy\" covariate\n",
    "\n",
    "In the [backdoor](backdoor.ipynb) example we saw how to estimate causal effects from observational data when all confounders were observed. In the [slc](slc.ipynb) example we softened this assumption, instead allowing some latent confounders to be shared between instances (e.g. students) belonging to the same object (e.g. school). In this example we again soften the restrictive assumptions made in the [backdoor](backdoor.ipynb) example, however using a different assumption about the relationship between potential latent confounders $Z$ and data $T$, $Y$, and $X$.\n",
    "\n",
    "Specifically, in this example we assume that every latent confounder $Z_i \\in Z$ is a cause of at least one \"proxy\" covariate $X_j \\in X$, $1 \\leq j \\leq d$. See Figure 1 in Louizos et al. [louizos2017causal] for a graphical description of these assumptions.\n",
    "\n",
    "Importantly, in this work we do not wish to make strong parameteric assumptions (e.g. linear structural functions) relating latent confounders, proxy covariates, treatment, and outcome. As we'll see later, we can instead approximate these local causal dependencies using probabilistic models with neural network components.\n",
    "\n",
    "**Note:** In the original paper introducing the CEVAE model [louizos2017causal], the authors prove a theorem (Theorem 1) stating that the conditional average treatment effect is identifiable if the model is correctly specified, including a strong assumption about the marginal distribution over latent confounders $Z$. Recent work [rissanen2021critical] has investigated the consequences of misspecifying components of the CEVAE model, concluding that its derived causal estimate are in fact sensitive to these detailed assumptions about the generative model. While some more restrictive settings may yield more robust identification results or bounds on causal effects (e.g. binary variables [kuroki2014measurement]), to the best of our knowledge little more is known about the nonparametric or semiparametric settings."
   ]
  },
  {
   "attachments": {},
   "cell_type": "markdown",
   "metadata": {},
   "source": [
    "### **Intuition:** Adjusting for confounding via proxies\n",
    "\n",
    "In the [backdoor](backdoor.ipynb) tutorial we discussed how to estimate causal effects with observational data by partitioning individual units into nonoverlapping subgroups such that each subgroup had similar or identical values of observed covariates $X$. When all confounders are observed, \"adjusting for\" confounders in this way produces unbiased estimates of the population-level causal effects we are interested in. However, this is not the case when some confounders are latent.\n",
    "\n",
    "In this example we have made an additional assumption that all latent confounders causally influence at least one observed covariate, which we call \"proxy confounders\". Imagine for moment a scenario where this causal relationship is deterministic, bijective, and smooth. In this idealized scenario partitioning groups of individuals based on observed covariates $X$ produces groups that are equivalent to those we would have produced if the latent confounders $Z$ were in fact observed. This is true even though we don't know the true assignments of $Z$ for our observed data; as every subgroup will have similar values by construction. \n",
    "\n",
    "In practice, the relationship between latent confounders and observed covariates never satisfies this idealized deterministic property. Instead, the CEVAE model includes an explicitly probabilistic relationship between latent confounders and observed covariates, using neural network components as function approximators. With the previous caveat about identifiability and robustness of the CEVAE model aside, we can intuit that conditioning on these proxy confounders will update our posterior beliefs about which latent confounders are similar to each other, albiet without absolute certainty."
   ]
  },
  {
   "attachments": {},
   "cell_type": "markdown",
   "metadata": {},
   "source": [
    "## Example: Synthetic Data\n",
    "\n",
    "In this example we'll use synthetic data to demonstrate the CEVAE model. Here we generate observed and counterfactual data, which can then be used to compute a \"ground truth\" treatment effect for us to compare against when we use ChiRho for causal inference later."
   ]
  },
  {
   "cell_type": "code",
   "execution_count": 2,
   "metadata": {},
   "outputs": [],
   "source": [
    "num_train, num_test = 10000, 2000\n",
    "feature_dim = 10\n",
    "z_gap = 1.\n",
    "y_gap = 3.\n",
    "\n",
    "def generate_data(num_data, feature_dim, z_gap, y_gap):\n",
    "    # Latent confounder z is binary.\n",
    "    z = dist.Bernoulli(0.5).sample([num_data])\n",
    "\n",
    "    # Covariates x are normally distributed, with higher variance for z=1.\n",
    "    x = dist.Normal(z * z_gap, 5 * z + 3 * (1 - z)).sample([feature_dim]).t()\n",
    "\n",
    "    # Treatment t is binary, with higher probability for z=1.\n",
    "    t = dist.Bernoulli(0.75 * z + 0.25 * (1 - z)).sample()\n",
    "\n",
    "    # Outcome y is binary, with higher probability for z=1 and t=1.\n",
    "    y = dist.Bernoulli(logits=y_gap * (z + 2 * (2 * t - 1))).sample()\n",
    "\n",
    "    # Compute true c-specific CATE for evaluation.\n",
    "    t0_t1 = torch.tensor([[0.0], [1.0]])\n",
    "    y_t0, y_t1 = dist.Bernoulli(logits=y_gap * (z + 2 * (2 * t0_t1 - 1))).mean\n",
    "    true_cates = y_t1 - y_t0\n",
    "    return x, t, y, z, true_cates\n",
    "\n",
    "# Note: In the CEVAE paper they refer to c-specific causal effects as individual treatment effects.\n",
    "# We use the term c-specific causal effects to be consistent with the terminology in the broader causal inference literature.\n",
    "# with torch.no_grad():\n",
    "x_train, t_train, y_train, _, _ = generate_data(num_train, feature_dim, z_gap, y_gap)\n",
    "x_test, _, _, z_test, true_cates = generate_data(num_test, feature_dim, z_gap, y_gap)"
   ]
  },
  {
   "attachments": {},
   "cell_type": "markdown",
   "metadata": {},
   "source": [
    "## Causal Probabilistic Program\n",
    "\n",
    "Our causal assumptions can be encoded as a probabilistic program in Pyro. Here, unlike the [backdoor](backdoor.ipynb) and [slc](slc.ipynb) tutorials, we'll perform maximum likelihood inference over neural network parameters, and then only later use variational approximations for the latent proxy confounders $Z$."
   ]
  },
  {
   "attachments": {},
   "cell_type": "markdown",
   "metadata": {},
   "source": [
    "### Model Description\n",
    "\n",
    "Our model captures the intuition that our three observed variables, $X$, $t$, and $y$, may be correlated, thanks to unobserved confounders $z$. Here, $f$, $g$, and $h$ are neural networks parameterized by different parts of the parameter set $\\theta$, which are implicitly defined when the neural network modules are instantiated. As you can see in the automatically constructed rendering below, our probabilistically program model is faithful to the assumed causal structure in the CEVAE paper [louizos2017causal].\n",
    "\n",
    "**Note:** In the CEVAE paper the authors propose a more sophisticated inference scheme using both a probabilsitic encoder and decoder network. Here, we simply show maximum likelihood estimation for brevity, but one could straightforwardly extend this example to include the full VAE training infrastructure using Pyro."
   ]
  },
  {
   "attachments": {},
   "cell_type": "markdown",
   "metadata": {},
   "source": [
    "### Prior Description\n",
    "\n",
    "As we only apply maximum likelihood inference in this example, we do not place priors on any of the latent parameters in the CEVAE model."
   ]
  },
  {
   "cell_type": "code",
   "execution_count": 3,
   "metadata": {},
   "outputs": [],
   "source": [
    "class FullyConnected(nn.Sequential):\n",
    "    # Fully connected neural network with ELU activations.\n",
    "    def __init__(self, sizes):\n",
    "        layers = []\n",
    "        for in_size, out_size in zip(sizes, sizes[1:]):\n",
    "            layers.append(nn.Linear(in_size, out_size))\n",
    "            layers.append(nn.ELU())\n",
    "        layers.pop(-1)\n",
    "        super().__init__(*layers)\n",
    "\n",
    "\n",
    "class DiagNormalNet(FullyConnected):\n",
    "    # Fully connected neural network with ELU activations, followed by a diagonal Gaussian.\n",
    "    def __init__(self, sizes):\n",
    "        assert len(sizes) >= 2\n",
    "        sizes = sizes[:-1] + [sizes[-1] * 2]\n",
    "        super().__init__(sizes)\n",
    "\n",
    "    def forward(self, x):\n",
    "        loc, scale = super().forward(x).chunk(2, dim=-1)\n",
    "        return loc, nn.functional.softplus(scale)\n",
    "\n",
    "\n",
    "class BernoulliNet(FullyConnected):\n",
    "    # Fully connected neural network with ELU activations, followed by a Bernoulli.\n",
    "    def __init__(self, sizes):\n",
    "        super().__init__(sizes + [1])\n",
    "\n",
    "    def forward(self, x):\n",
    "        return super().forward(x).squeeze(-1).clamp(min=-10, max=10)\n",
    "\n",
    "\n",
    "class PreWhitener(nn.Module):\n",
    "    \"\"\"\n",
    "    Data pre-whitener.\n",
    "    \"\"\"\n",
    "    def __init__(self, data):\n",
    "        super().__init__()\n",
    "        with torch.no_grad():\n",
    "            loc = data.mean(0)\n",
    "            scale = data.std(0)\n",
    "            scale[~(scale > 0)] = 1.0\n",
    "            self.register_buffer(\"loc\", loc)\n",
    "            self.register_buffer(\"inv_scale\", scale.reciprocal())\n",
    "\n",
    "    def forward(self, data):\n",
    "        return (data - self.loc) * self.inv_scale"
   ]
  },
  {
   "cell_type": "code",
   "execution_count": 4,
   "metadata": {},
   "outputs": [
    {
     "data": {
      "image/svg+xml": [
       "<?xml version=\"1.0\" encoding=\"UTF-8\" standalone=\"no\"?>\n",
       "<!DOCTYPE svg PUBLIC \"-//W3C//DTD SVG 1.1//EN\"\n",
       " \"http://www.w3.org/Graphics/SVG/1.1/DTD/svg11.dtd\">\n",
       "<!-- Generated by graphviz version 2.43.0 (0)\n",
       " -->\n",
       "<!-- Title: %3 Pages: 1 -->\n",
       "<svg width=\"264pt\" height=\"220pt\"\n",
       " viewBox=\"0.00 0.00 263.50 220.00\" xmlns=\"http://www.w3.org/2000/svg\" xmlns:xlink=\"http://www.w3.org/1999/xlink\">\n",
       "<g id=\"graph0\" class=\"graph\" transform=\"scale(1 1) rotate(0) translate(4 216)\">\n",
       "<title>%3</title>\n",
       "<polygon fill=\"white\" stroke=\"transparent\" points=\"-4,4 -4,-216 259.5,-216 259.5,4 -4,4\"/>\n",
       "<!-- z -->\n",
       "<g id=\"node1\" class=\"node\">\n",
       "<title>z</title>\n",
       "<ellipse fill=\"white\" stroke=\"black\" cx=\"99\" cy=\"-178\" rx=\"27\" ry=\"18\"/>\n",
       "<text text-anchor=\"middle\" x=\"99\" y=\"-174.3\" font-family=\"Times,serif\" font-size=\"14.00\">z</text>\n",
       "</g>\n",
       "<!-- x -->\n",
       "<g id=\"node2\" class=\"node\">\n",
       "<title>x</title>\n",
       "<ellipse fill=\"white\" stroke=\"black\" cx=\"27\" cy=\"-90\" rx=\"27\" ry=\"18\"/>\n",
       "<text text-anchor=\"middle\" x=\"27\" y=\"-86.3\" font-family=\"Times,serif\" font-size=\"14.00\">x</text>\n",
       "</g>\n",
       "<!-- z&#45;&gt;x -->\n",
       "<g id=\"edge1\" class=\"edge\">\n",
       "<title>z&#45;&gt;x</title>\n",
       "<path fill=\"none\" stroke=\"black\" d=\"M86.46,-162.02C75.38,-148.78 59.04,-129.27 46.29,-114.05\"/>\n",
       "<polygon fill=\"black\" stroke=\"black\" points=\"48.74,-111.52 39.64,-106.1 43.38,-116.01 48.74,-111.52\"/>\n",
       "</g>\n",
       "<!-- t -->\n",
       "<g id=\"node3\" class=\"node\">\n",
       "<title>t</title>\n",
       "<ellipse fill=\"white\" stroke=\"black\" cx=\"99\" cy=\"-90\" rx=\"27\" ry=\"18\"/>\n",
       "<text text-anchor=\"middle\" x=\"99\" y=\"-86.3\" font-family=\"Times,serif\" font-size=\"14.00\">t</text>\n",
       "</g>\n",
       "<!-- z&#45;&gt;t -->\n",
       "<g id=\"edge2\" class=\"edge\">\n",
       "<title>z&#45;&gt;t</title>\n",
       "<path fill=\"none\" stroke=\"black\" d=\"M99,-159.6C99,-147.75 99,-131.82 99,-118.29\"/>\n",
       "<polygon fill=\"black\" stroke=\"black\" points=\"102.5,-118.08 99,-108.08 95.5,-118.08 102.5,-118.08\"/>\n",
       "</g>\n",
       "<!-- y -->\n",
       "<g id=\"node4\" class=\"node\">\n",
       "<title>y</title>\n",
       "<ellipse fill=\"white\" stroke=\"black\" cx=\"126\" cy=\"-18\" rx=\"27\" ry=\"18\"/>\n",
       "<text text-anchor=\"middle\" x=\"126\" y=\"-14.3\" font-family=\"Times,serif\" font-size=\"14.00\">y</text>\n",
       "</g>\n",
       "<!-- z&#45;&gt;y -->\n",
       "<g id=\"edge3\" class=\"edge\">\n",
       "<title>z&#45;&gt;y</title>\n",
       "<path fill=\"none\" stroke=\"black\" d=\"M109.92,-161.43C118.64,-147.99 130.17,-127.68 135,-108 140.04,-87.45 137.16,-63.56 133.37,-45.71\"/>\n",
       "<polygon fill=\"black\" stroke=\"black\" points=\"136.78,-44.9 131.09,-35.97 129.96,-46.5 136.78,-44.9\"/>\n",
       "</g>\n",
       "<!-- t&#45;&gt;y -->\n",
       "<g id=\"edge4\" class=\"edge\">\n",
       "<title>t&#45;&gt;y</title>\n",
       "<path fill=\"none\" stroke=\"black\" d=\"M105.4,-72.41C108.51,-64.34 112.33,-54.43 115.83,-45.35\"/>\n",
       "<polygon fill=\"black\" stroke=\"black\" points=\"119.13,-46.55 119.46,-35.96 112.6,-44.03 119.13,-46.55\"/>\n",
       "</g>\n",
       "<!-- distribution_description_node -->\n",
       "<g id=\"node5\" class=\"node\">\n",
       "<title>distribution_description_node</title>\n",
       "<text text-anchor=\"start\" x=\"152.5\" y=\"-196.8\" font-family=\"Times,serif\" font-size=\"14.00\">z ~ Normal</text>\n",
       "<text text-anchor=\"start\" x=\"152.5\" y=\"-181.8\" font-family=\"Times,serif\" font-size=\"14.00\">x ~ Normal</text>\n",
       "<text text-anchor=\"start\" x=\"152.5\" y=\"-166.8\" font-family=\"Times,serif\" font-size=\"14.00\">t ~ Bernoulli</text>\n",
       "<text text-anchor=\"start\" x=\"152.5\" y=\"-151.8\" font-family=\"Times,serif\" font-size=\"14.00\">y ~ Bernoulli</text>\n",
       "</g>\n",
       "</g>\n",
       "</svg>\n"
      ],
      "text/plain": [
       "<graphviz.graphs.Digraph at 0x7f362aaa4430>"
      ]
     },
     "execution_count": 4,
     "metadata": {},
     "output_type": "execute_result"
    }
   ],
   "source": [
    "class ProxyConfounderModel(PyroModule):\n",
    "    \"\"\"\n",
    "    :param dict config: A dict specifying ``feature_dim``, ``latent_dim``,\n",
    "        ``hidden_dim``, ``num_layers``, and ``outcome_dist``.\n",
    "    \"\"\"\n",
    "\n",
    "    def __init__(self, feature_dim: int, latent_dim: int, hidden_dim: int, num_layers: int):\n",
    "        super().__init__()\n",
    "        self.latent_dim = latent_dim\n",
    "        self.hidden_dim = hidden_dim\n",
    "        self.num_layers = num_layers\n",
    "        self.feature_dim = feature_dim\n",
    "        self.register_buffer(\"zero\", torch.tensor(0.))\n",
    "        self.register_buffer(\"one\", torch.tensor(1.))\n",
    "        self.x_nn = DiagNormalNet([latent_dim] + [hidden_dim] * num_layers + [feature_dim])\n",
    "        self.t_nn = BernoulliNet([latent_dim])\n",
    "        # The y network is split between the two t values.\n",
    "        self.y0_nn = BernoulliNet([latent_dim] + [hidden_dim] * num_layers)\n",
    "        self.y1_nn = BernoulliNet([latent_dim] + [hidden_dim] * num_layers)\n",
    "\n",
    "    def forward(self):\n",
    "        # Proxy confounder\n",
    "        z = pyro.sample(\"z\", dist.Normal(self.zero, self.one).expand([self.latent_dim]).to_event(1))\n",
    "        # Observed covariates\n",
    "        x = pyro.sample(\"x\", dist.Normal(*self.x_nn(z)).to_event(1))\n",
    "        # Treatment\n",
    "        t = pyro.sample(\"t\", dist.Bernoulli(logits=self.t_nn(z)))\n",
    "        # parameters are not shared among values of t\n",
    "        y_logits = torch.where(t == 1, self.y1_nn(z), self.y0_nn(z))\n",
    "        # Outcome\n",
    "        y = pyro.sample(\"y\", dist.Bernoulli(logits=y_logits))\n",
    "        return y\n",
    "\n",
    "\n",
    "individual_model = ProxyConfounderModel(\n",
    "    feature_dim=x_train.shape[-1],\n",
    "    latent_dim=5,\n",
    "    hidden_dim=200,\n",
    "    num_layers=3,\n",
    ")\n",
    "pyro.render_model(individual_model, render_distributions=True)"
   ]
  },
  {
   "attachments": {},
   "cell_type": "markdown",
   "metadata": {},
   "source": [
    "## Causal Query: conditional average treatment effect (CATE)\n",
    "\n",
    "In this setting we wish to compute the *conditional average treatment effect*, $CATE = \\mathbb{E}[Y=1|do(T=1), X=x] - \\mathbb{E}[Y=1|do(T=0), X=x]$. The `do` notation indicates that the expectations are taken according to *intervened* versions of the model, with $T$ set to a particular value. Note from our [tutorial](tutorial_i.ipynb) that this is different from conditioning on $T$ in the original `causal_model`, which assumes $Z$ and $T$, and thus $X$ and $Y$ are dependent.\n",
    "\n",
    "In words, in this setting the CATE tells us how much greater the outcome would be across all individuals with the same set of covariates if we forced those individuals to receive treatment relative to if we forced them to not receive treatment. Here, we are interested in the average only over that subpopulation of individuals with the same value of the covariates. \n",
    "\n",
    "As we're using maximum likelihood inference here, we'll first condition our model to update neural network parameters, and then afterwards transform the model with learned parameters according to the desired intervention. This two-stage procedure separates the computation for convenience, but could instead be implemented in a single inference run in an extended model like the [backdoor](backdoor.ipynb) and [slc](slc.ipynb) models."
   ]
  },
  {
   "attachments": {},
   "cell_type": "markdown",
   "metadata": {},
   "source": [
    "### Fit parameters via maximum likelihood\n",
    "\n",
    "Before estimating the query, we fit deterministic neural network parameters in the model to the observed data via maximum likelihood.\n",
    "\n",
    "First, we must extend the model over individual instances to be a model over the entire population using Pyro's `plate` effect handler."
   ]
  },
  {
   "cell_type": "code",
   "execution_count": 5,
   "metadata": {},
   "outputs": [
    {
     "data": {
      "image/svg+xml": [
       "<?xml version=\"1.0\" encoding=\"UTF-8\" standalone=\"no\"?>\n",
       "<!DOCTYPE svg PUBLIC \"-//W3C//DTD SVG 1.1//EN\"\n",
       " \"http://www.w3.org/Graphics/SVG/1.1/DTD/svg11.dtd\">\n",
       "<!-- Generated by graphviz version 2.43.0 (0)\n",
       " -->\n",
       "<!-- Title: %3 Pages: 1 -->\n",
       "<svg width=\"297pt\" height=\"259pt\"\n",
       " viewBox=\"0.00 0.00 296.50 259.00\" xmlns=\"http://www.w3.org/2000/svg\" xmlns:xlink=\"http://www.w3.org/1999/xlink\">\n",
       "<g id=\"graph0\" class=\"graph\" transform=\"scale(1 1) rotate(0) translate(4 255)\">\n",
       "<title>%3</title>\n",
       "<polygon fill=\"white\" stroke=\"transparent\" points=\"-4,4 -4,-255 292.5,-255 292.5,4 -4,4\"/>\n",
       "<g id=\"clust1\" class=\"cluster\">\n",
       "<title>cluster_observations</title>\n",
       "<polygon fill=\"none\" stroke=\"black\" points=\"8,-8 8,-243 170,-243 170,-8 8,-8\"/>\n",
       "<text text-anchor=\"middle\" x=\"116\" y=\"-15.8\" font-family=\"Times,serif\" font-size=\"14.00\">observations</text>\n",
       "</g>\n",
       "<!-- z -->\n",
       "<g id=\"node1\" class=\"node\">\n",
       "<title>z</title>\n",
       "<ellipse fill=\"white\" stroke=\"black\" cx=\"115\" cy=\"-217\" rx=\"27\" ry=\"18\"/>\n",
       "<text text-anchor=\"middle\" x=\"115\" y=\"-213.3\" font-family=\"Times,serif\" font-size=\"14.00\">z</text>\n",
       "</g>\n",
       "<!-- x -->\n",
       "<g id=\"node2\" class=\"node\">\n",
       "<title>x</title>\n",
       "<ellipse fill=\"gray\" stroke=\"black\" cx=\"43\" cy=\"-129\" rx=\"27\" ry=\"18\"/>\n",
       "<text text-anchor=\"middle\" x=\"43\" y=\"-125.3\" font-family=\"Times,serif\" font-size=\"14.00\">x</text>\n",
       "</g>\n",
       "<!-- z&#45;&gt;x -->\n",
       "<g id=\"edge1\" class=\"edge\">\n",
       "<title>z&#45;&gt;x</title>\n",
       "<path fill=\"none\" stroke=\"black\" d=\"M102.46,-201.02C91.38,-187.78 75.04,-168.27 62.29,-153.05\"/>\n",
       "<polygon fill=\"black\" stroke=\"black\" points=\"64.74,-150.52 55.64,-145.1 59.38,-155.01 64.74,-150.52\"/>\n",
       "</g>\n",
       "<!-- t -->\n",
       "<g id=\"node3\" class=\"node\">\n",
       "<title>t</title>\n",
       "<ellipse fill=\"gray\" stroke=\"black\" cx=\"115\" cy=\"-129\" rx=\"27\" ry=\"18\"/>\n",
       "<text text-anchor=\"middle\" x=\"115\" y=\"-125.3\" font-family=\"Times,serif\" font-size=\"14.00\">t</text>\n",
       "</g>\n",
       "<!-- z&#45;&gt;t -->\n",
       "<g id=\"edge2\" class=\"edge\">\n",
       "<title>z&#45;&gt;t</title>\n",
       "<path fill=\"none\" stroke=\"black\" d=\"M115,-198.6C115,-186.75 115,-170.82 115,-157.29\"/>\n",
       "<polygon fill=\"black\" stroke=\"black\" points=\"118.5,-157.08 115,-147.08 111.5,-157.08 118.5,-157.08\"/>\n",
       "</g>\n",
       "<!-- y -->\n",
       "<g id=\"node4\" class=\"node\">\n",
       "<title>y</title>\n",
       "<ellipse fill=\"gray\" stroke=\"black\" cx=\"125\" cy=\"-57\" rx=\"27\" ry=\"18\"/>\n",
       "<text text-anchor=\"middle\" x=\"125\" y=\"-53.3\" font-family=\"Times,serif\" font-size=\"14.00\">y</text>\n",
       "</g>\n",
       "<!-- z&#45;&gt;y -->\n",
       "<g id=\"edge3\" class=\"edge\">\n",
       "<title>z&#45;&gt;y</title>\n",
       "<path fill=\"none\" stroke=\"black\" d=\"M125.92,-200.43C134.64,-186.99 146.17,-166.68 151,-147 154.81,-131.46 154.62,-126.59 151,-111 148.78,-101.43 144.57,-91.59 140.18,-83.02\"/>\n",
       "<polygon fill=\"black\" stroke=\"black\" points=\"143.11,-81.08 135.24,-73.98 136.96,-84.44 143.11,-81.08\"/>\n",
       "</g>\n",
       "<!-- t&#45;&gt;y -->\n",
       "<g id=\"edge4\" class=\"edge\">\n",
       "<title>t&#45;&gt;y</title>\n",
       "<path fill=\"none\" stroke=\"black\" d=\"M117.42,-111.05C118.52,-103.35 119.85,-94.03 121.09,-85.36\"/>\n",
       "<polygon fill=\"black\" stroke=\"black\" points=\"124.58,-85.67 122.53,-75.28 117.65,-84.68 124.58,-85.67\"/>\n",
       "</g>\n",
       "<!-- distribution_description_node -->\n",
       "<g id=\"node5\" class=\"node\">\n",
       "<title>distribution_description_node</title>\n",
       "<text text-anchor=\"start\" x=\"185.5\" y=\"-235.8\" font-family=\"Times,serif\" font-size=\"14.00\">z ~ Normal</text>\n",
       "<text text-anchor=\"start\" x=\"185.5\" y=\"-220.8\" font-family=\"Times,serif\" font-size=\"14.00\">x ~ Normal</text>\n",
       "<text text-anchor=\"start\" x=\"185.5\" y=\"-205.8\" font-family=\"Times,serif\" font-size=\"14.00\">t ~ Bernoulli</text>\n",
       "<text text-anchor=\"start\" x=\"185.5\" y=\"-190.8\" font-family=\"Times,serif\" font-size=\"14.00\">y ~ Bernoulli</text>\n",
       "</g>\n",
       "</g>\n",
       "</svg>\n"
      ],
      "text/plain": [
       "<graphviz.graphs.Digraph at 0x7f362aab7af0>"
      ]
     },
     "execution_count": 5,
     "metadata": {},
     "output_type": "execute_result"
    }
   ],
   "source": [
    "class CEVAE_Population(PyroModule):\n",
    "    def __init__(self, individual_model: ProxyConfounderModel):\n",
    "        super().__init__()\n",
    "        self.individual_model = individual_model\n",
    "\n",
    "    def forward(self, x_obs, t_obs, y_obs):\n",
    "        # Condition on observed x, t, y\n",
    "        # Use a plate to indicate that the following observations\n",
    "        #   are conditionally independent given NN parameters.\n",
    "        with condition(data=dict(x=x_obs, t=t_obs, y=y_obs)), \\\n",
    "                pyro.plate(\"observations\", size=x_obs.shape[0], dim=-1):\n",
    "            return self.individual_model()\n",
    "\n",
    "\n",
    "mle_model = CEVAE_Population(individual_model)\n",
    "pyro.render_model(mle_model, model_args=(x_train, t_train, y_train), render_distributions=True)"
   ]
  },
  {
   "attachments": {},
   "cell_type": "markdown",
   "metadata": {},
   "source": [
    "Second, we condition the model on data and run maximum likelihood estimation for neural network parameters using Pyro's `SVI`."
   ]
  },
  {
   "cell_type": "code",
   "execution_count": 6,
   "metadata": {},
   "outputs": [
    {
     "name": "stderr",
     "output_type": "stream",
     "text": [
      "GPU available: True (cuda), used: True\n",
      "TPU available: False, using: 0 TPU cores\n",
      "IPU available: False, using: 0 IPUs\n",
      "HPU available: False, using: 0 HPUs\n",
      "/home/eli/miniconda3/lib/python3.10/site-packages/pytorch_lightning/trainer/connectors/logger_connector/logger_connector.py:67: UserWarning: Starting from v1.9.0, `tensorboardX` has been removed as a dependency of the `pytorch_lightning` package, due to potential conflicts with other packages in the ML ecosystem. For this reason, `logger=True` will use `CSVLogger` as the default logger, unless the `tensorboard` or `tensorboardX` packages are found. Please `pip install lightning[extra]` or one of them to enable TensorBoard support by default\n",
      "  warning_cache.warn(\n",
      "LOCAL_RANK: 0 - CUDA_VISIBLE_DEVICES: [0]\n",
      "\n",
      "  | Name | Type       | Params\n",
      "------------------------------------\n",
      "0 | elbo | ELBOModule | 349 K \n",
      "------------------------------------\n",
      "349 K     Trainable params\n",
      "0         Non-trainable params\n",
      "349 K     Total params\n",
      "1.397     Total estimated model params size (MB)\n",
      "/home/eli/miniconda3/lib/python3.10/site-packages/pytorch_lightning/trainer/connectors/data_connector.py:430: PossibleUserWarning: The dataloader, train_dataloader, does not have many workers which may be a bottleneck. Consider increasing the value of the `num_workers` argument` (try 32 which is the number of cpus on this machine) in the `DataLoader` init to improve performance.\n",
      "  rank_zero_warn(\n"
     ]
    },
    {
     "data": {
      "application/vnd.jupyter.widget-view+json": {
       "model_id": "2eaa5090f08640bcac2697b9799d05a3",
       "version_major": 2,
       "version_minor": 0
      },
      "text/plain": [
       "Training: 0it [00:00, ?it/s]"
      ]
     },
     "metadata": {},
     "output_type": "display_data"
    },
    {
     "name": "stderr",
     "output_type": "stream",
     "text": [
      "`Trainer.fit` stopped: `max_epochs=2500` reached.\n"
     ]
    }
   ],
   "source": [
    "class LightningSVI(pl.LightningModule):\n",
    "    def __init__(self, elbo: pyro.infer.elbo.ELBOModule, **optim_params):\n",
    "        super().__init__()\n",
    "        self.optim_params = dict(optim_params)\n",
    "        self.elbo = elbo\n",
    "\n",
    "    def configure_optimizers(self):\n",
    "        return torch.optim.Adam(self.elbo.parameters(), **self.optim_params)\n",
    "\n",
    "    def training_step(self, batch, batch_idx):\n",
    "        return self.elbo(*batch)\n",
    "\n",
    "# elbo and guide\n",
    "mle_guide = pyro.infer.autoguide.AutoNormal(mle_model)\n",
    "elbo = pyro.infer.Trace_ELBO()(mle_model, mle_guide)\n",
    "\n",
    "# initialize parameters\n",
    "elbo(x_train, t_train, y_train)\n",
    "\n",
    "# data\n",
    "train_dataset = torch.utils.data.TensorDataset(x_train, t_train, y_train)\n",
    "train_dataloader = torch.utils.data.DataLoader(train_dataset, batch_size=x_train.shape[0])\n",
    "\n",
    "# fit parameters\n",
    "svi = LightningSVI(elbo, lr=1e-3, weight_decay=1e-4)\n",
    "trainer = pl.Trainer(max_epochs=2500, log_every_n_steps=1)\n",
    "trainer.fit(svi, train_dataloaders=train_dataloader)"
   ]
  },
  {
   "attachments": {},
   "cell_type": "markdown",
   "metadata": {},
   "source": [
    "Now that we've learned neural network parameters, we can construct a transformed model using chirho's `do` effect handler to represent interventions and its `MultiWorldCounterfactual` handler to automatically instantiate multiple counterfactual worlds. In the next section we discuss why we condition on `x_pred` in this new transformed model."
   ]
  },
  {
   "cell_type": "code",
   "execution_count": 7,
   "metadata": {},
   "outputs": [
    {
     "data": {
      "image/svg+xml": [
       "<?xml version=\"1.0\" encoding=\"UTF-8\" standalone=\"no\"?>\n",
       "<!DOCTYPE svg PUBLIC \"-//W3C//DTD SVG 1.1//EN\"\n",
       " \"http://www.w3.org/Graphics/SVG/1.1/DTD/svg11.dtd\">\n",
       "<!-- Generated by graphviz version 2.43.0 (0)\n",
       " -->\n",
       "<!-- Title: %3 Pages: 1 -->\n",
       "<svg width=\"446pt\" height=\"335pt\"\n",
       " viewBox=\"0.00 0.00 445.50 335.00\" xmlns=\"http://www.w3.org/2000/svg\" xmlns:xlink=\"http://www.w3.org/1999/xlink\">\n",
       "<g id=\"graph0\" class=\"graph\" transform=\"scale(1 1) rotate(0) translate(4 331)\">\n",
       "<title>%3</title>\n",
       "<polygon fill=\"white\" stroke=\"transparent\" points=\"-4,4 -4,-331 441.5,-331 441.5,4 -4,4\"/>\n",
       "<g id=\"clust1\" class=\"cluster\">\n",
       "<title>cluster_test_data</title>\n",
       "<polygon fill=\"none\" stroke=\"black\" points=\"8,-8 8,-296.5 312,-296.5 312,-8 8,-8\"/>\n",
       "<text text-anchor=\"middle\" x=\"270.5\" y=\"-15.8\" font-family=\"Times,serif\" font-size=\"14.00\">test_data</text>\n",
       "</g>\n",
       "<g id=\"clust2\" class=\"cluster\">\n",
       "<title>cluster___index_plate___t</title>\n",
       "<polygon fill=\"none\" stroke=\"black\" points=\"160,-39 160,-114 298,-114 298,-39 160,-39\"/>\n",
       "<text text-anchor=\"middle\" x=\"229\" y=\"-46.8\" font-family=\"Times,serif\" font-size=\"14.00\">__index_plate___t</text>\n",
       "</g>\n",
       "<!-- z -->\n",
       "<g id=\"node1\" class=\"node\">\n",
       "<title>z</title>\n",
       "<ellipse fill=\"white\" stroke=\"black\" cx=\"277\" cy=\"-270.5\" rx=\"27\" ry=\"18\"/>\n",
       "<text text-anchor=\"middle\" x=\"277\" y=\"-266.8\" font-family=\"Times,serif\" font-size=\"14.00\">z</text>\n",
       "</g>\n",
       "<!-- x -->\n",
       "<g id=\"node2\" class=\"node\">\n",
       "<title>x</title>\n",
       "<ellipse fill=\"gray\" stroke=\"black\" cx=\"185\" cy=\"-160\" rx=\"27\" ry=\"18\"/>\n",
       "<text text-anchor=\"middle\" x=\"185\" y=\"-156.3\" font-family=\"Times,serif\" font-size=\"14.00\">x</text>\n",
       "</g>\n",
       "<!-- z&#45;&gt;x -->\n",
       "<g id=\"edge1\" class=\"edge\">\n",
       "<title>z&#45;&gt;x</title>\n",
       "<path fill=\"none\" stroke=\"black\" d=\"M267.86,-253.25C261.09,-241.8 251.29,-226.36 241,-214 231.31,-202.36 219.24,-190.65 208.8,-181.22\"/>\n",
       "<polygon fill=\"black\" stroke=\"black\" points=\"211,-178.49 201.19,-174.48 206.36,-183.73 211,-178.49\"/>\n",
       "</g>\n",
       "<!-- t -->\n",
       "<g id=\"node3\" class=\"node\">\n",
       "<title>t</title>\n",
       "<ellipse fill=\"white\" stroke=\"black\" cx=\"257\" cy=\"-160\" rx=\"27\" ry=\"18\"/>\n",
       "<text text-anchor=\"middle\" x=\"257\" y=\"-156.3\" font-family=\"Times,serif\" font-size=\"14.00\">t</text>\n",
       "</g>\n",
       "<!-- z&#45;&gt;t -->\n",
       "<g id=\"edge2\" class=\"edge\">\n",
       "<title>z&#45;&gt;t</title>\n",
       "<path fill=\"none\" stroke=\"black\" d=\"M273.88,-252.55C270.69,-235.29 265.71,-208.28 261.99,-188.06\"/>\n",
       "<polygon fill=\"black\" stroke=\"black\" points=\"265.42,-187.39 260.17,-178.19 258.54,-188.66 265.42,-187.39\"/>\n",
       "</g>\n",
       "<!-- y -->\n",
       "<g id=\"node4\" class=\"node\">\n",
       "<title>y</title>\n",
       "<ellipse fill=\"white\" stroke=\"black\" cx=\"260\" cy=\"-88\" rx=\"27\" ry=\"18\"/>\n",
       "<text text-anchor=\"middle\" x=\"260\" y=\"-84.3\" font-family=\"Times,serif\" font-size=\"14.00\">y</text>\n",
       "</g>\n",
       "<!-- z&#45;&gt;y -->\n",
       "<g id=\"edge3\" class=\"edge\">\n",
       "<title>z&#45;&gt;y</title>\n",
       "<path fill=\"none\" stroke=\"black\" d=\"M283.31,-252.67C291.64,-227.96 304.04,-180.61 293,-142 290.01,-131.53 284.28,-121.11 278.42,-112.32\"/>\n",
       "<polygon fill=\"black\" stroke=\"black\" points=\"281.26,-110.26 272.62,-104.12 275.54,-114.31 281.26,-110.26\"/>\n",
       "</g>\n",
       "<!-- t&#45;&gt;y -->\n",
       "<g id=\"edge4\" class=\"edge\">\n",
       "<title>t&#45;&gt;y</title>\n",
       "<path fill=\"none\" stroke=\"black\" d=\"M257.74,-141.7C258.07,-133.98 258.47,-124.71 258.84,-116.11\"/>\n",
       "<polygon fill=\"black\" stroke=\"black\" points=\"262.34,-116.25 259.27,-106.1 255.34,-115.95 262.34,-116.25\"/>\n",
       "</g>\n",
       "<!-- Y0 -->\n",
       "<g id=\"node5\" class=\"node\">\n",
       "<title>Y0</title>\n",
       "<ellipse fill=\"gray\" stroke=\"black\" cx=\"205\" cy=\"-270.5\" rx=\"27\" ry=\"18\"/>\n",
       "<text text-anchor=\"middle\" x=\"205\" y=\"-266.8\" font-family=\"Times,serif\" font-size=\"14.00\">Y0</text>\n",
       "</g>\n",
       "<!-- Y1 -->\n",
       "<g id=\"node6\" class=\"node\">\n",
       "<title>Y1</title>\n",
       "<ellipse fill=\"gray\" stroke=\"black\" cx=\"133\" cy=\"-270.5\" rx=\"27\" ry=\"18\"/>\n",
       "<text text-anchor=\"middle\" x=\"133\" y=\"-266.8\" font-family=\"Times,serif\" font-size=\"14.00\">Y1</text>\n",
       "</g>\n",
       "<!-- CATE -->\n",
       "<g id=\"node7\" class=\"node\">\n",
       "<title>CATE</title>\n",
       "<ellipse fill=\"gray\" stroke=\"black\" cx=\"52\" cy=\"-270.5\" rx=\"36.29\" ry=\"18\"/>\n",
       "<text text-anchor=\"middle\" x=\"52\" y=\"-266.8\" font-family=\"Times,serif\" font-size=\"14.00\">CATE</text>\n",
       "</g>\n",
       "<!-- distribution_description_node -->\n",
       "<g id=\"node8\" class=\"node\">\n",
       "<title>distribution_description_node</title>\n",
       "<text text-anchor=\"start\" x=\"330.5\" y=\"-311.8\" font-family=\"Times,serif\" font-size=\"14.00\">z ~ Normal</text>\n",
       "<text text-anchor=\"start\" x=\"330.5\" y=\"-296.8\" font-family=\"Times,serif\" font-size=\"14.00\">x ~ Normal</text>\n",
       "<text text-anchor=\"start\" x=\"330.5\" y=\"-281.8\" font-family=\"Times,serif\" font-size=\"14.00\">t ~ Bernoulli</text>\n",
       "<text text-anchor=\"start\" x=\"330.5\" y=\"-266.8\" font-family=\"Times,serif\" font-size=\"14.00\">y ~ Bernoulli</text>\n",
       "<text text-anchor=\"start\" x=\"330.5\" y=\"-251.8\" font-family=\"Times,serif\" font-size=\"14.00\">Y0 ~ Delta</text>\n",
       "<text text-anchor=\"start\" x=\"330.5\" y=\"-236.8\" font-family=\"Times,serif\" font-size=\"14.00\">Y1 ~ Delta</text>\n",
       "<text text-anchor=\"start\" x=\"330.5\" y=\"-221.8\" font-family=\"Times,serif\" font-size=\"14.00\">CATE ~ Delta</text>\n",
       "</g>\n",
       "</g>\n",
       "</svg>\n"
      ],
      "text/plain": [
       "<graphviz.graphs.Digraph at 0x7f362aab79d0>"
      ]
     },
     "execution_count": 7,
     "metadata": {},
     "output_type": "execute_result"
    }
   ],
   "source": [
    "class CEVAE_CATE(PyroModule):\n",
    "    def __init__(self, individual_model: ProxyConfounderModel):\n",
    "        super().__init__()\n",
    "        self.individual_model = individual_model\n",
    "\n",
    "    @pyro.infer.config_enumerate\n",
    "    def forward(self, x_pred):\n",
    "        # As we're evaluating the CATE, we need to condition on the observed data at test time.\n",
    "        with MultiWorldCounterfactual(), \\\n",
    "                do(actions=dict(t=(0., 1.))), \\\n",
    "                condition(data=dict(x=x_pred)), \\\n",
    "                pyro.plate(\"test_data\", size=x_pred.shape[0], dim=-1):\n",
    "            \n",
    "            Ys_pred = self.individual_model()\n",
    "            Y0 = pyro.deterministic(\"Y0\", gather(Ys_pred, IndexSet(t={1})), event_dim=0)\n",
    "            Y1 = pyro.deterministic(\"Y1\", gather(Ys_pred, IndexSet(t={2})), event_dim=0)\n",
    "            return pyro.deterministic(\"CATE\", Y1 - Y0, event_dim=0)\n",
    "\n",
    "\n",
    "cate_model = CEVAE_CATE(individual_model)\n",
    "pyro.render_model(cate_model, model_args=(x_train,), render_distributions=True)"
   ]
  },
  {
   "attachments": {},
   "cell_type": "markdown",
   "metadata": {},
   "source": [
    "## Causal Inference as Probabilistic Inference\n",
    "\n",
    "In the [backdoor](backdoor.ipynb) and [slc](slc.ipynb) examples we only used Pyro's approximate inference utilities to estimate posterior distributions over model parameters, and then used those inferred (distributions over) parameters to estimate causal effects using ChiRho's interventions. Here the story is somewhat more complicated by the fact that we are estimating the conditional average treatment effect for yet unseen test data. Therefore, not only do we need to estimate model parameters as we've done above, but also we must estimate posterior distributions over latent $Z$ conditional on observed covariates $X$. Similar to previous example, any inference method available in Pyro could be used to estimate the CATE, including amortized variational inference \\[Kingma and Welling, 2013\\] as in the original paper \\[Louizos et al., 2017\\].\n",
    "\n"
   ]
  },
  {
   "cell_type": "code",
   "execution_count": 8,
   "metadata": {},
   "outputs": [
    {
     "name": "stderr",
     "output_type": "stream",
     "text": [
      "/home/eli/development/pyro/pyro/primitives.py:443: UserWarning: 0.weight was not registered in the param store because requires_grad=False. You can silence this warning by calling my_module.train(False)\n",
      "  warnings.warn(\n",
      "/home/eli/development/pyro/pyro/primitives.py:443: UserWarning: 0.bias was not registered in the param store because requires_grad=False. You can silence this warning by calling my_module.train(False)\n",
      "  warnings.warn(\n",
      "/home/eli/development/pyro/pyro/primitives.py:443: UserWarning: 2.weight was not registered in the param store because requires_grad=False. You can silence this warning by calling my_module.train(False)\n",
      "  warnings.warn(\n",
      "/home/eli/development/pyro/pyro/primitives.py:443: UserWarning: 2.bias was not registered in the param store because requires_grad=False. You can silence this warning by calling my_module.train(False)\n",
      "  warnings.warn(\n",
      "/home/eli/development/pyro/pyro/primitives.py:443: UserWarning: 4.weight was not registered in the param store because requires_grad=False. You can silence this warning by calling my_module.train(False)\n",
      "  warnings.warn(\n",
      "/home/eli/development/pyro/pyro/primitives.py:443: UserWarning: 4.bias was not registered in the param store because requires_grad=False. You can silence this warning by calling my_module.train(False)\n",
      "  warnings.warn(\n",
      "/home/eli/development/pyro/pyro/primitives.py:443: UserWarning: 6.weight was not registered in the param store because requires_grad=False. You can silence this warning by calling my_module.train(False)\n",
      "  warnings.warn(\n",
      "/home/eli/development/pyro/pyro/primitives.py:443: UserWarning: 6.bias was not registered in the param store because requires_grad=False. You can silence this warning by calling my_module.train(False)\n",
      "  warnings.warn(\n",
      "GPU available: True (cuda), used: False\n",
      "TPU available: False, using: 0 TPU cores\n",
      "IPU available: False, using: 0 IPUs\n",
      "HPU available: False, using: 0 HPUs\n",
      "/home/eli/miniconda3/lib/python3.10/site-packages/pytorch_lightning/trainer/setup.py:176: PossibleUserWarning: GPU available but not used. Set `accelerator` and `devices` using `Trainer(accelerator='gpu', devices=1)`.\n",
      "  rank_zero_warn(\n",
      "\n",
      "  | Name         | Type        | Params\n",
      "---------------------------------------------\n",
      "0 | elbo         | ELBOModule  | 269 K \n",
      "1 | pre_whitener | PreWhitener | 0     \n",
      "---------------------------------------------\n",
      "20.0 K    Trainable params\n",
      "249 K     Non-trainable params\n",
      "269 K     Total params\n",
      "1.077     Total estimated model params size (MB)\n",
      "/home/eli/miniconda3/lib/python3.10/site-packages/pytorch_lightning/trainer/connectors/data_connector.py:430: PossibleUserWarning: The dataloader, train_dataloader, does not have many workers which may be a bottleneck. Consider increasing the value of the `num_workers` argument` (try 32 which is the number of cpus on this machine) in the `DataLoader` init to improve performance.\n",
      "  rank_zero_warn(\n"
     ]
    },
    {
     "data": {
      "application/vnd.jupyter.widget-view+json": {
       "model_id": "c63262c66adb4dc29e7423236c6c6ea9",
       "version_major": 2,
       "version_minor": 0
      },
      "text/plain": [
       "Training: 0it [00:00, ?it/s]"
      ]
     },
     "metadata": {},
     "output_type": "display_data"
    },
    {
     "name": "stderr",
     "output_type": "stream",
     "text": [
      "`Trainer.fit` stopped: `max_epochs=2500` reached.\n"
     ]
    }
   ],
   "source": [
    "class LightningSVITest(pl.LightningModule):\n",
    "    def __init__(self, elbo: pyro.infer.elbo.ELBOModule, pre_whitener: PreWhitener, **optim_params):\n",
    "        super().__init__()\n",
    "        self.optim_params = dict(optim_params)\n",
    "        self.elbo = elbo\n",
    "        self.pre_whitener = pre_whitener\n",
    "\n",
    "    def configure_optimizers(self):  # only optimize guide parameters at test time\n",
    "        return torch.optim.Adam(self.elbo.guide.parameters(), **self.optim_params)\n",
    "\n",
    "    def training_step(self, batch, batch_idx):\n",
    "        x_data, = batch\n",
    "        return self.elbo(self.pre_whitener(x_data))\n",
    "\n",
    "cate_model = cate_model.requires_grad_(False)\n",
    "cate_guide = pyro.infer.autoguide.AutoNormal(pyro.poutine.block(cate_model, hide=['t', 'y']))\n",
    "elbo = pyro.infer.TraceEnum_ELBO()(cate_model, cate_guide)\n",
    "\n",
    "# initialize parameters\n",
    "elbo(x_test)\n",
    "\n",
    "# data\n",
    "pre_whitener = PreWhitener(x_test)\n",
    "test_dataset = torch.utils.data.TensorDataset(x_test)\n",
    "test_dataloader = torch.utils.data.DataLoader(test_dataset, batch_size=x_test.shape[0])\n",
    "\n",
    "# fit parameters\n",
    "svi_test = LightningSVITest(elbo, pre_whitener, lr=1e-3, weight_decay=1e-4)\n",
    "trainer = pl.Trainer(max_epochs=2500, log_every_n_steps=1, accelerator='cpu') # issue w/ using GPU on new macbook\n",
    "trainer.fit(svi_test, train_dataloaders=test_dataloader)"
   ]
  },
  {
   "attachments": {},
   "cell_type": "markdown",
   "metadata": {},
   "source": [
    "## Results"
   ]
  },
  {
   "attachments": {},
   "cell_type": "markdown",
   "metadata": {},
   "source": [
    "To analyze the results of inference, we generate samples from the posterior predictive distribution over counterfactual outcomes, and then compute estimated causal effects with simple arithmetic operations."
   ]
  },
  {
   "cell_type": "code",
   "execution_count": 9,
   "metadata": {},
   "outputs": [
    {
     "name": "stdout",
     "output_type": "stream",
     "text": [
      "Mean absolute error for ATE:  tensor(0.0265)\n"
     ]
    }
   ],
   "source": [
    "# Generate samples from the posterior predictive distribution\n",
    "predictive = pyro.infer.Predictive(cate_model, guide=cate_guide, num_samples=500, parallel=False)\n",
    "preds = predictive(x_test)\n",
    "ys_diff, t_pred, zs_pred = preds[\"CATE\"], preds[\"t\"], preds[\"z\"]\n",
    "\n",
    "# Evaluate the c-specific causal effects for each individual and for each posterior sample\n",
    "est_cates = ys_diff.mean(0).squeeze()\n",
    "\n",
    "# Evaluate the average causal effect by taking the mean over the individual-specific effects\n",
    "# ate = est_cates.mean(0)\n",
    "true_ate = true_cates.mean()\n",
    "est_ate = ys_diff.mean(-1).squeeze()\n",
    "\n",
    "mae_ate = torch.abs(true_cates - est_cates).mean()\n",
    "print(f\"Mean absolute error for ATE: \", mae_ate)"
   ]
  },
  {
   "attachments": {},
   "cell_type": "markdown",
   "metadata": {},
   "source": [
    "As the synthetic data assumes a boolean random variable for the latent confounder, each instance with $Z=0$ (and analogously for $Z=1$) has exactly the same ground-truth value for the CATE. Therefore,\n",
    "to compare our estimates with the ground truth we can simply partition our test data based on the true value of $Z$."
   ]
  },
  {
   "cell_type": "code",
   "execution_count": 10,
   "metadata": {},
   "outputs": [],
   "source": [
    "est_cates_z0, true_cates_z0 = est_cates[z_test == 0], true_cates[z_test == 0]\n",
    "est_cates_z1, true_cates_z1 = est_cates[z_test == 1], true_cates[z_test == 1]"
   ]
  },
  {
   "cell_type": "code",
   "execution_count": 11,
   "metadata": {},
   "outputs": [
    {
     "data": {
      "text/plain": [
       "<matplotlib.legend.Legend at 0x7f353f5621a0>"
      ]
     },
     "execution_count": 11,
     "metadata": {},
     "output_type": "execute_result"
    },
    {
     "data": {
      "image/png": "[encoded data removed]",
      "text/plain": [
       "<Figure size 640x480 with 1 Axes>"
      ]
     },
     "metadata": {},
     "output_type": "display_data"
    }
   ],
   "source": [
    "plt.hist(est_cates_z0.detach().cpu().numpy(), bins=20, color='red', label=\"Estimated CATE\", alpha=0.5)\n",
    "plt.vlines(true_cates_z0.mean().item(), 0, 600, color=\"black\", label=\"Ground Truth CATE\")\n",
    "plt.title(f'Individual CATE estimates for Z=0 in synthetic data')\n",
    "# plt.xlim(0.9, 1.05)\n",
    "plt.legend()"
   ]
  },
  {
   "cell_type": "code",
   "execution_count": 12,
   "metadata": {},
   "outputs": [
    {
     "data": {
      "text/plain": [
       "<matplotlib.legend.Legend at 0x7f3544203af0>"
      ]
     },
     "execution_count": 12,
     "metadata": {},
     "output_type": "execute_result"
    },
    {
     "data": {
      "image/png": "[encoded data removed]",
      "text/plain": [
       "<Figure size 640x480 with 1 Axes>"
      ]
     },
     "metadata": {},
     "output_type": "display_data"
    }
   ],
   "source": [
    "plt.hist(est_cates_z1.detach().cpu().numpy(), bins=50, color='red', label=\"Estimated CATE\", alpha=0.5)\n",
    "plt.vlines(true_cates_z1.mean().item(), 0, 600, color=\"black\", label=\"Ground Truth CATE\")\n",
    "plt.title(f'Individual CATE estimates for Z=1 in synthetic data')\n",
    "# plt.xlim(0.9, 1.05)\n",
    "plt.legend()"
   ]
  },
  {
   "attachments": {},
   "cell_type": "markdown",
   "metadata": {},
   "source": [
    "Similarly, we can estimate the average treatment effect by further aggregating the individual-level differences in counterfactual outcomes."
   ]
  },
  {
   "cell_type": "code",
   "execution_count": 13,
   "metadata": {
    "collapsed": false
   },
   "outputs": [
    {
     "data": {
      "text/plain": [
       "<matplotlib.legend.Legend at 0x7f350c5e1480>"
      ]
     },
     "execution_count": 13,
     "metadata": {},
     "output_type": "execute_result"
    },
    {
     "data": {
      "image/png": "[encoded data removed]",
      "text/plain": [
       "<Figure size 640x480 with 1 Axes>"
      ]
     },
     "metadata": {},
     "output_type": "display_data"
    }
   ],
   "source": [
    "plt.hist(est_ate.detach().cpu().numpy(), bins=10, color='red', label=\"Estimated ATE\", alpha=0.5)\n",
    "plt.vlines(true_ate.item(), 0, 600, color=\"black\", label=\"Ground Truth ATE\")\n",
    "plt.title(f'ATE estimates')\n",
    "# plt.xlim(0.9, 1.05)\n",
    "plt.legend()"
   ]
  },
  {
   "attachments": {},
   "cell_type": "markdown",
   "metadata": {
    "collapsed": false
   },
   "source": [
    "While the posterior predictive distribution for ATE estimates does not cover the ground truth ATE, we can see that the estimates are still relatively close in total magnitude. As we discussed in the beginning of this example, misspecification of the latent confounder (as we do here) can result in inaccurate causal effect estimates."
   ]
  },
  {
   "attachments": {},
   "cell_type": "markdown",
   "metadata": {
    "collapsed": false
   },
   "source": [
    "## References\n",
    "\n",
    "Kingma, Diederik P, and Max Welling. “Auto-Encoding Variational Bayes,” 2013. https://doi.org/10.48550/ARXIV.1312.6114.\n",
    "\n",
    "Kuroki, Manabu, and Judea Pearl. \"Measurement bias and effect restoration in causal inference.\" Biometrika 101.2 (2014): 423-437.\n",
    "\n",
    "Louizos, Christos, Uri Shalit, Joris Mooij, David Sontag, Richard Zemel, and Max Welling. “Causal Effect Inference with Deep Latent-Variable Models.” arXiv, November 6, 2017. http://arxiv.org/abs/1705.08821.\n",
    "\n",
    "Rissanen, Severi, and Pekka Marttinen. \"A critical look at the consistency of causal estimation with deep latent variable models.\" Advances in Neural Information Processing Systems 34 (2021): 4207-4217."
   ]
  },
  {
   "attachments": {},
   "cell_type": "markdown",
   "metadata": {},
   "source": []
  }
 ],
 "metadata": {
  "kernelspec": {
   "display_name": "Python 3 (ipykernel)",
   "language": "python",
   "name": "python3"
  },
  "language_info": {
   "codemirror_mode": {
    "name": "ipython",
    "version": 3
   },
   "file_extension": ".py",
   "mimetype": "text/x-python",
   "name": "python",
   "nbconvert_exporter": "python",
   "pygments_lexer": "ipython3",
   "version": "3.9.15"
  },
  "vscode": {
   "interpreter": {
    "hash": "b21c0b9d110a5a3043a375d760ca16faf426bffca7e8cbf746b0d228ab037b0a"
   }
  }
 },
 "nbformat": 4,
 "nbformat_minor": 4
}

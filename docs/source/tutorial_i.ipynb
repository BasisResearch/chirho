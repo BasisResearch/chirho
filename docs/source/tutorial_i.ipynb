{
 "cells": [
  {
   "cell_type": "markdown",
   "metadata": {},
   "source": [
    "# Causal probabilistic programming without tears"
   ]
  },
  {
   "cell_type": "markdown",
   "metadata": {},
   "source": [
    "Despite the tremendous progress over the last two decades in reducing\n",
    "causal inference to statistical practice, the \\\"causal revolution\\\"\n",
    "proclaimed by Judea Pearl and others remains incomplete, with a sprawling and\n",
    "fragmented literature inaccessible to non-experts and still somewhat\n",
    "isolated from cutting-edge machine learning research and software tools.\n",
    "\n",
    "Functional probabilistic programming languages are promising substrates for bridging this gap thanks to the close correspondence between their operational semantics and the field’s standard mathematical formalism of structural causal models. \n",
    "\n",
    "In this tutorial we elaborate on this idea with three key observations inspiring Causal Pyro's design, and outline a causal Bayesian workflow for using Causal Pyro to answer causal questions."
   ]
  },
  {
   "cell_type": "markdown",
   "metadata": {},
   "source": [
    "## Observation 1: causal models are probabilistic programs"
   ]
  },
  {
   "cell_type": "markdown",
   "metadata": {},
   "source": [
    "Probabilistic programmers typically think of their code as defining a\n",
    "probability distribution over a set of variables, but programs often contain\n",
    "more information than just the joint distributions they induce. In practice,\n",
    "when we write probabilistic programs in languages like Pyro we often bring\n",
    "to bear knowledge of causal relationships between variables, and implicitly,\n",
    "how changes to one variable would propagate to changes in others.\n",
    "\n",
    "Formally, a causal model specifies a *family* of probability\n",
    "distributions, indexed by a set of *interventions*. An intervention\n",
    "represents a hypothetical change to the domain, under which we'd\n",
    "expect the joint distribution over the variables of interest to change.\n",
    "\n",
    "To ground this out a bit more concretely, consider the following Pyro program\n",
    "describing the joint distribution over three random variables, *stress*, *smokes*,\n",
    "and *cancer*. We'll call this model an `observational_model` for reasons that will\n",
    "become apparent when we want to reason about cause and effect later."
   ]
  },
  {
   "cell_type": "code",
   "execution_count": 6,
   "metadata": {},
   "outputs": [],
   "source": [
    "import pyro\n",
    "import torch\n",
    "from pyro.distributions import Bernoulli\n",
    "\n",
    "def observational_model(stress_pt, smokes_cpt, cancer_cpt):\n",
    "    stress = pyro.sample(\"stress\", Bernoulli(stress_pt)).long()\n",
    "    smokes = pyro.sample(\"smokes\", Bernoulli(smokes_cpt[stress])).long()\n",
    "    cancer = pyro.sample(\"cancer\", Bernoulli(cancer_cpt[stress, smokes])).long()\n",
    "\n",
    "    return stress, smokes, cancer"
   ]
  },
  {
   "cell_type": "markdown",
   "metadata": {},
   "source": [
    "Our `observational_model` takes as input three sets of parameters, here just marginal and conditional probability tables, \n",
    "and returns a sample from the joint distribution over a single individual's *stress*, *smokes*, and *cancer* attributes.\n",
    "\n",
    "Using Pyro's `plate` effect handler, we can easily sample repeatedly from the `observational_model`\n",
    "to yield a joint distribution of an entire population of individual's attributes. For now we'll just \n",
    "choose some parameters by hand, but later we'll see how we can use Pyro's inference to infer likely\n",
    "parameters from data."
   ]
  },
  {
   "cell_type": "code",
   "execution_count": 8,
   "metadata": {},
   "outputs": [],
   "source": [
    "stressed_pt = torch.tensor([0.5])\n",
    "smokes_cpt  = torch.tensor([0.1, 0.5])\n",
    "cancer_cpt  = torch.tensor([[0.05, 0.3], [0.1, 0.35]])\n",
    "\n",
    "n_individuals = 10000\n",
    "\n",
    "with pyro.plate(\"individuals\", n_individuals, dim=-1):\n",
    "    stressed_obs, smokes_obs, cancer_obs = observational_model(stressed_pt, smokes_cpt, cancer_cpt)"
   ]
  },
  {
   "cell_type": "markdown",
   "metadata": {},
   "source": [
    "Let's pretend for a moment that we're only interested in the relationship between whether individuals smoke\n",
    "and how likely they are to get cancer. Let's visualize our simulated population!"
   ]
  },
  {
   "cell_type": "code",
   "execution_count": 9,
   "metadata": {},
   "outputs": [
    {
     "data": {
      "text/plain": [
       "[Text(0.5, 1.0, 'Observational Data')]"
      ]
     },
     "execution_count": 9,
     "metadata": {},
     "output_type": "execute_result"
    },
    {
     "data": {
      "image/png": "[encoded data removed]",
      "text/plain": [
       "<Figure size 640x480 with 1 Axes>"
      ]
     },
     "metadata": {},
     "output_type": "display_data"
    }
   ],
   "source": [
    "import matplotlib.pyplot as plt\n",
    "import seaborn as sns\n",
    "import pandas as pd\n",
    "\n",
    "obs_data = torch.concat((stressed_obs.reshape(-1, 1), smokes_obs.reshape(-1, 1), cancer_obs.reshape(-1, 1)), axis=-1)\n",
    "\n",
    "obs_frame = pd.DataFrame(obs_data.numpy(), columns=[\"stressed\", \"smokes\", \"cancer\"]).astype(\"category\").replace({0:\"0\", 1:\"1\"})\n",
    "\n",
    "sns.histplot(x='smokes', hue='cancer', multiple=\"dodge\", shrink=0.7, data=obs_frame).set(title='Observational Data')"
   ]
  },
  {
   "cell_type": "code",
   "execution_count": null,
   "metadata": {},
   "outputs": [],
   "source": []
  },
  {
   "cell_type": "markdown",
   "metadata": {},
   "source": [
    "As we can see clearly, our model tells us that individuals who smoke are much more likely to get cancer than individuals\n",
    "who don't. Of the 7,000 simulated individuals who don't smoke only "
   ]
  },
  {
   "cell_type": "markdown",
   "metadata": {},
   "source": [
    "So far we have a program that describes the distribution over data given model parameters. \n",
    "Somewhat more abstractly, we can imagine this process of simulating from a model as we've done above\n",
    "with the following (somewhat cartoonish) diagram. Here, each point in \"model space\" or \"parameter space\"\n",
    "induces a joint distribution over data."
   ]
  },
  {
   "cell_type": "markdown",
   "metadata": {},
   "source": [
    "![title](figures/Conditional_Distribution_of_Data.png)"
   ]
  },
  {
   "cell_type": "markdown",
   "metadata": {},
   "source": [
    "\n",
    "\n",
    "For example, in a model over the variables *smokes* and *cancer*, the\n",
    "joint distribution would change under the experimental condition that\n",
    "randomly assigns each participant to either smoke or not smoke. In\n",
    "this example, the marginal probability of *smokes* is changed to 50%, \n",
    "regardless of the individual's attributes.\n",
    "\n",
    "To ground this out a bit more concretely, consider the following two Pyro programs; \n",
    "an `observational_model` representing the scenario where each individual chooses whether to smoke or not and an `experimental_model`\n",
    "representing the scenario where each individual's smoking behavior is assigned randomly."
   ]
  },
  {
   "cell_type": "code",
   "execution_count": null,
   "metadata": {},
   "outputs": [],
   "source": [
    "\n",
    "def experimental_model(stressed_pt, smokes_cpt, cancer_cpt):\n",
    "    stressed = pyro.sample(\"stressed\", Bernoulli(stressed_pt)).long()\n",
    "    # smokes no longer depends on stressed.\n",
    "    smokes   = pyro.sample(\"smokes\", Bernoulli(0.5)).long()\n",
    "    cancer   = pyro.sample(\"cancer\", Bernoulli(cancer_cpt[stressed, smokes])).long()\n",
    "\n",
    "    return stressed, smokes, cancer"
   ]
  },
  {
   "cell_type": "code",
   "execution_count": 137,
   "metadata": {},
   "outputs": [],
   "source": [
    "with pyro.plate(\"individuals\", n_individuals, dim=-1):\n",
    "    stressed_exp, smokes_exp, cancer_exp = experimental_model(stressed_pt, smokes_cpt, cancer_cpt)"
   ]
  },
  {
   "cell_type": "code",
   "execution_count": 138,
   "metadata": {},
   "outputs": [
    {
     "data": {
      "text/plain": [
       "[Text(0.5, 1.0, 'Experimental Data')]"
      ]
     },
     "execution_count": 138,
     "metadata": {},
     "output_type": "execute_result"
    },
    {
     "data": {
      "image/png": "[encoded data removed]",
      "text/plain": [
       "<Figure size 640x480 with 2 Axes>"
      ]
     },
     "metadata": {},
     "output_type": "display_data"
    }
   ],
   "source": [
    "import matplotlib.pyplot as plt\n",
    "import seaborn as sns\n",
    "import pandas as pd\n",
    "\n",
    "obs_data = torch.concat((stressed_obs.reshape(-1, 1), smokes_obs.reshape(-1, 1), cancer_obs.reshape(-1, 1)), axis=-1)\n",
    "exp_data = torch.concat((stressed_exp.reshape(-1, 1), smokes_exp.reshape(-1, 1), cancer_exp.reshape(-1, 1)), axis=-1)\n",
    "\n",
    "obs_frame = pd.DataFrame(obs_data.numpy(), columns=[\"stressed\", \"smokes\", \"cancer\"]).astype(\"category\").replace({0:\"0\", 1:\"1\"})\n",
    "exp_frame = pd.DataFrame(exp_data.numpy(), columns=[\"stressed\", \"smokes\", \"cancer\"]).astype(\"category\").replace({0:\"0\", 1:\"1\"})\n",
    "\n",
    "\n",
    "_, ax = plt.subplots(1, 2, sharey=True)\n",
    "\n",
    "sns.histplot(x='smokes', hue='cancer', multiple=\"dodge\", shrink=0.7, data=obs_frame, ax=ax[0]).set(title='Observational Data')\n",
    "sns.histplot(x='smokes', hue='cancer', multiple=\"dodge\", shrink=0.7, data=exp_frame, ax=ax[1]).set(title='Experimental Data')"
   ]
  },
  {
   "cell_type": "markdown",
   "metadata": {},
   "source": [
    "\n",
    "\n",
    "For one\n",
    "thing, the marginal probability of *smokes* would be changed to 50%.)\n",
    "\n",
    "In probabilistic programs, we can understand interventions as **program\n",
    "transformations**. For example, in the smoking/cancer model, the\n",
    "experiment we considered above might be encoded as a program\n",
    "transformation that replaces assignments to the *smokes* variable in the\n",
    "true causal program with the line $smokes \\sim bernoulli(0.5)$.\n",
    "\n",
    "A probabilistic program specifies a causal model in that it\n",
    "  1. specifies a \"default\" or \"observational\" joint distribution over the\n",
    "variables of interest according to the usual semantics of probabilistic\n",
    "programming languages\n",
    "  2. encodes the necessary information to\n",
    "determine the new joint distribution under an arbitrary intervention\n",
    "(program transformation)---apply the transformation and derive the new\n",
    "joint distribution.\n"
   ]
  },
  {
   "cell_type": "markdown",
   "metadata": {},
   "source": [
    "## Observation 2: causal computations are probabilistic computations\n",
    "\n",
    "Once we have a causal model, what can we use it for? We briefly describe\n",
    "several problem types that practitioners of causal inference may be\n",
    "interested in solving (but do not claim that this is an exhaustive\n",
    "list):\n",
    "\n",
    "-   **Causal discovery.** Given data (either observational, or collected\n",
    "    under experimental conditions, or both), infer the underlying causal\n",
    "    model, from a class of possible models.\n",
    "\n",
    "-   **Parameter estimation.** Given data (either observational, or\n",
    "    collected under experimental conditions, or both), and a causal\n",
    "    model with unknown parameters $\\theta$, infer plausible values of\n",
    "    $\\theta$.\n",
    "\n",
    "-   **Causal effect estimation.** Given data (either observational, or\n",
    "    collected under experimental conditions, or both), and a causal\n",
    "    model (possibly with unknown structure or parameters), estimate a\n",
    "    *causal effect*, e.g. the Average Treatment Effect or the Individual\n",
    "    Average Treatment Effect. Such queries are designed to answer\n",
    "    questions like, \"On average, how much better would a patient fare if\n",
    "    they were given one medication vs. another?\"\n",
    "\n",
    "-   **Counterfactual prediction.** Given observed data, and a causal\n",
    "    model (possibly with unknown structure or parameters), estimate a\n",
    "    *counterfactual query*, designed to answer questions like, \"Given\n",
    "    what we know about this patient (including their observed health\n",
    "    outcome), how would their outcome have differed had we treated them\n",
    "    differently?\"\n",
    "\n",
    "All of these questions can be posed in a Bayesian framework. In particular, \n",
    "causal discovery, parameter estimation, causal effect estimation, and counterfactual prediction can be framed as Bayesian inference in appropriately specified generative models.\n",
    "\n",
    "\n",
    "The quantities over which we have uncertainty are:\n",
    "\n",
    "-   the structure of the true causal model,\n",
    "\n",
    "-   the parameters of the true causal model, and\n",
    "\n",
    "-   the values of any latent variables posited by the true causal model,\n",
    "    for each subject in our dataset. (In the presence of experimental\n",
    "    data, we are also uncertain about the latent variables posited by\n",
    "    the intervened version of the true causal model, for each subject in\n",
    "    the experimental dataset.)\n",
    "\n",
    "We can express priors over these quantities, and likelihoods that relate\n",
    "them to the observations. For example, suppose we are uncertain about\n",
    "the true model structure $m$, and its unknown parameters $\\theta$, as\n",
    "well as the values of latent variables $x$, but we have observed $y$ for\n",
    "a number of subjects, indexed $j = 1, \\dots, N$. Then the likelihood for\n",
    "$y_j$ is $p(y_j \\mid m, \\theta, x_j) = m_\\theta(y_j \\mid x_j)$. If we\n",
    "also have observations $y'$ from an experimental setting modeled by\n",
    "intervention $i$, then the likelihood is\n",
    "$p(y'_j \\mid m, \\theta, x_j) = \\text{intervene}(m_\\theta, i)(y'_j \\mid x_j)$.\n",
    "\n",
    "Having expressed a prior and a likelihood, posterior inference can\n",
    "recover causal structures $m$ and parameters $\\theta$. Causal effects\n",
    "and counterfactuals can be estimated by introducing additional variables\n",
    "representing hypothetical *potential outcomes*. Such constructions might\n",
    "usefully be automated by probabilistic programming languages, at which\n",
    "point existing PPL inference machinery could be applied to estimating\n",
    "the posterior.\n"
   ]
  },
  {
   "cell_type": "markdown",
   "metadata": {},
   "source": [
    "## Observation 3: causal uncertainty is probabilistic uncertainty\n",
    "\n",
    "Bayesian causal inference places identifiability on a principled continuum of irreducible causal uncertainty.\n",
    "\n",
    "On the surface, to claim that causal reasoning can be encapsulated by\n",
    "probabilistic computation appears to be in direct conflict with Pearl's\n",
    "insistence that causal and statistical concepts be kept\n",
    "separate [@pearl2001bayesian]. As Pearl describes them, statistical\n",
    "concepts are those that summarize the distribution over observed\n",
    "variables.\n",
    "\n",
    "The probabilistic computations that we discuss in this\n",
    "documentation are different in-kind from these assumption-free\n",
    "summaries of data, in that we aim compute to probabilities of *latent*\n",
    "causal structure, effects, and counterfactuals. In our proposed\n",
    "approach, causal probabilistic programs play the role of causal\n",
    "assumptions, relating observations to the latent causal quantities of\n",
    "interest.\n",
    "\n",
    "Casting causal inference as a particular instantiation of probabilistic\n",
    "inference does not change the reality that many causal conclusions\n",
    "cannot be unambiguously identified from data, regardless of sample size.\n",
    "How much of the mutual information between treatment and outcome is\n",
    "attributable to latent confounding? Does A cause B or does B cause A? If\n",
    "C were c, what would have happened to D? Answers to all of these\n",
    "questions are often ambiguous. \n",
    "\n",
    "Surprisingly, most existing formulations\n",
    "of causal inference avoid quantifying these uncertainties, instead\n",
    "abandoning problems in which latent causal quantities cannot be uniquely\n",
    "inferred from data.[^2] Instead, the probabilistic programming approach\n",
    "we espouse here enables users to express their assumptions, compute the\n",
    "resulting uncertainty, be it irreducible or not, and then make decisions\n",
    "accordingly."
   ]
  },
  {
   "cell_type": "markdown",
   "metadata": {},
   "source": [
    "## A Causal Bayesian Workflow"
   ]
  },
  {
   "cell_type": "markdown",
   "metadata": {},
   "source": []
  }
 ],
 "metadata": {
  "kernelspec": {
   "display_name": "Python 3.10.4 ('causal_pyro')",
   "language": "python",
   "name": "python3"
  },
  "language_info": {
   "codemirror_mode": {
    "name": "ipython",
    "version": 3
   },
   "file_extension": ".py",
   "mimetype": "text/x-python",
   "name": "python",
   "nbconvert_exporter": "python",
   "pygments_lexer": "ipython3",
   "version": "3.9.15"
  },
  "orig_nbformat": 4,
  "vscode": {
   "interpreter": {
    "hash": "cffe1a1fa048e49a173ef425a4ae5289f738a2b81f14c36ed87498058f2b9506"
   }
  }
 },
 "nbformat": 4,
 "nbformat_minor": 2
}

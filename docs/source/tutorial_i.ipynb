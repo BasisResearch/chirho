{
 "cells": [
  {
   "cell_type": "markdown",
   "metadata": {},
   "source": [
    "# Causal probabilistic programming without tears"
   ]
  },
  {
   "cell_type": "markdown",
   "metadata": {},
   "source": [
    "Despite the tremendous progress over the last several decades in reducing\n",
    "causal inference to statistical practice, the \\\"causal revolution\\\"\n",
    "proclaimed by Judea Pearl and others remains incomplete, with a sprawling and\n",
    "fragmented literature inaccessible to non-experts and still somewhat\n",
    "isolated from cutting-edge machine learning research and software tools.\n",
    "\n",
    "Functional probabilistic programming languages are promising substrates for bridging this gap thanks to the close correspondence between their operational semantics and the field’s standard mathematical formalism of structural causal models. \n",
    "\n",
    "In this tutorial we elaborate on this idea with three key observations inspiring Causal Pyro's design, and outline a causal Bayesian workflow for using Causal Pyro to answer causal questions."
   ]
  },
  {
   "cell_type": "markdown",
   "metadata": {},
   "source": [
    "## Observation 1: causal models are probabilistic programs"
   ]
  },
  {
   "cell_type": "markdown",
   "metadata": {},
   "source": [
    "Probabilistic programmers typically think of their code as defining a\n",
    "probability distribution over a set of variables, but programs often contain\n",
    "more information than just the joint distributions they induce. In practice,\n",
    "when we write probabilistic programs in languages like Pyro we often bring\n",
    "to bear knowledge of causal relationships between variables, and implicitly,\n",
    "how changes to one variable would propagate to changes in others.\n",
    "\n",
    "Formally, a causal model specifies a *family* of probability\n",
    "distributions, indexed by a set of *interventions*. An intervention\n",
    "represents a hypothetical change to the domain, under which we'd\n",
    "expect the joint distribution over the variables of interest to change.\n",
    "\n",
    "To ground this out a bit more concretely, consider the following Pyro program\n",
    "describing the joint distribution over three random variables, *stress*, *smokes*,\n",
    "and *cancer*. We'll call this model an `observational_model` for reasons that will\n",
    "become apparent when we want to reason about cause and effect later."
   ]
  },
  {
   "cell_type": "code",
   "execution_count": 2,
   "metadata": {},
   "outputs": [],
   "source": [
    "import pyro\n",
    "import torch\n",
    "from pyro.distributions import Bernoulli\n",
    "\n",
    "def observational_model(stress_pt, smokes_cpt, cancer_cpt):\n",
    "    stress = pyro.sample(\"stress\", Bernoulli(stress_pt)).long()\n",
    "    smokes = pyro.sample(\"smokes\", Bernoulli(smokes_cpt[stress])).long()\n",
    "    cancer = pyro.sample(\"cancer\", Bernoulli(cancer_cpt[stress, smokes])).long()\n",
    "\n",
    "    return stress, smokes, cancer"
   ]
  },
  {
   "cell_type": "markdown",
   "metadata": {},
   "source": [
    "Our `observational_model` takes as input three sets of parameters, here just marginal and conditional probability tables, \n",
    "and returns a sample from the joint distribution over a single individual's *stress*, *smokes*, and *cancer* attributes.\n",
    "\n",
    "Using Pyro's `plate` effect handler, we can easily sample repeatedly from the `observational_model`\n",
    "to yield a joint distribution of an entire population of individual's attributes. For now we'll just \n",
    "choose some parameters by hand, but later we'll see how we can use Pyro's inference to infer likely\n",
    "parameters from data."
   ]
  },
  {
   "cell_type": "code",
   "execution_count": 3,
   "metadata": {},
   "outputs": [],
   "source": [
    "stress_pt = torch.tensor([0.5])\n",
    "smokes_cpt  = torch.tensor([0.2, 0.8])\n",
    "cancer_cpt  = torch.tensor([[0.1, 0.15], \n",
    "                            [0.8, 0.85]])\n",
    "\n",
    "n_individuals = 10000\n",
    "with pyro.plate(\"individuals\", n_individuals, dim=-1):\n",
    "    stress_obs, smokes_obs, cancer_obs = observational_model(stress_pt, smokes_cpt, cancer_cpt)"
   ]
  },
  {
   "cell_type": "markdown",
   "metadata": {},
   "source": [
    "Let's pretend for a moment that we're only interested in the relationship between whether individuals smoke\n",
    "and how likely they are to get cancer. To understand this relationship a bit better, we can visualize the simulation from our model."
   ]
  },
  {
   "cell_type": "code",
   "execution_count": 4,
   "metadata": {},
   "outputs": [
    {
     "data": {
      "text/plain": [
       "[Text(0.5, 1.0, 'Observational Data')]"
      ]
     },
     "execution_count": 4,
     "metadata": {},
     "output_type": "execute_result"
    },
    {
     "data": {
      "image/png": "[encoded data removed]",
      "text/plain": [
       "<Figure size 640x480 with 1 Axes>"
      ]
     },
     "metadata": {},
     "output_type": "display_data"
    }
   ],
   "source": [
    "import matplotlib.pyplot as plt\n",
    "import seaborn as sns\n",
    "import pandas as pd\n",
    "\n",
    "data_obs = torch.concat((stress_obs.reshape(-1, 1), smokes_obs.reshape(-1, 1), cancer_obs.reshape(-1, 1)), axis=-1)\n",
    "\n",
    "frame_obs = pd.DataFrame(data_obs.numpy(), columns=[\"stressed\", \"smokes\", \"cancer\"]).astype(\"category\").replace({0:\"0\", 1:\"1\"})\n",
    "\n",
    "sns.histplot(x='smokes', hue='cancer', multiple=\"dodge\", shrink=0.7, data=frame_obs).set(title='Observational Data')"
   ]
  },
  {
   "cell_type": "markdown",
   "metadata": {},
   "source": [
    "As we can see clearly, our model tells us that individuals who smoke are much more likely to get cancer than individuals\n",
    "who don't. Of the ~7,000 simulated individuals who don't smoke only ~500 got cancer, roughly 7% of the non-smokers. Of the \n",
    "remaining ~3,000 simulated individuals who did smoke ~1,000 individuals got cancer, a much high 33% of the smoking population.\n",
    "\n",
    "(TODO: edit these numbers once parameters are finalized. They've already drifted from the figures because I was playing with parameters to tell the story.)"
   ]
  },
  {
   "cell_type": "markdown",
   "metadata": {},
   "source": [
    "So far we have a program that describes the distribution over data given model parameters. \n",
    "Somewhat more abstractly, we can imagine this process of simulating from a model as we've done above\n",
    "with the following (somewhat cartoonish) diagram. Here, each point in \"model space\" or \"parameter space\"\n",
    "induces a joint distribution over data.\n",
    "\n",
    "(TODO: replace SCM with \"program\" and change colors a bit.)"
   ]
  },
  {
   "cell_type": "markdown",
   "metadata": {},
   "source": [
    "![title](figures/Conditional_Distribution_of_Data.png)"
   ]
  },
  {
   "cell_type": "markdown",
   "metadata": {},
   "source": [
    "Simulating from our `observational_model` is certainly interesting and (perhaps) informative, but it doesn't exactly give us answers to what what we're interested in. Instead, we want to\n",
    "know to what extent smoking *causes* cancer, not just it's predictive ability. To answer this question, we can instead\n",
    "sample from modified versions of our model in which individuals are forced to smoke or not smoke, regardless of their level of stress. We can instatiate these thought experiments\n",
    "as new programs in our probabilistic programming language.\n",
    "\n",
    "To ground this out a bit more concretely, consider the following two new Pyro programs; \n",
    "`always_smokes_model` and `never_smokes_model`, which closely resemble our original `observational_model` except \n",
    "in how the *smokes* attribute is assigned. Specifically, we've replaced the expression `smokes = pyro.sample(\"smokes\", Bernoulli(smokes_cpt[stress])).long()`\n",
    "with the expressions `smokes   = pyro.deterministic(\"smokes\", torch.ones_like(stress))` and `smokes   = pyro.deterministic(\"smokes\", torch.zeros_like(stress))` respectively.\n",
    "In other words, we set the *smokes* variable to be either $1$ or $0$ regardless of the individual's stress."
   ]
  },
  {
   "cell_type": "code",
   "execution_count": 14,
   "metadata": {},
   "outputs": [],
   "source": [
    "def always_smokes_model(stress_pt, smokes_cpt, cancer_cpt):\n",
    "    stress = pyro.sample(\"stress\", Bernoulli(stress_pt)).long()\n",
    "    # smokes no longer depends on stress.\n",
    "    smokes   = pyro.deterministic(\"smokes\", torch.ones_like(stress))\n",
    "    cancer   = pyro.sample(\"cancer\", Bernoulli(cancer_cpt[stress, smokes])).long()\n",
    "\n",
    "    return stress, smokes, cancer\n",
    "\n",
    "def never_smokes_model(stress_pt, smokes_cpt, cancer_cpt):\n",
    "    stress = pyro.sample(\"stress\", Bernoulli(stress_pt)).long()\n",
    "    # smokes no longer depends on stress.\n",
    "    smokes   = pyro.deterministic(\"smokes\", torch.zeros_like(stress))\n",
    "    cancer   = pyro.sample(\"cancer\", Bernoulli(cancer_cpt[stress, smokes])).long()\n",
    "\n",
    "    return stress, smokes, cancer\n",
    "\n",
    "# Let's pretend that we force half the people to always smoke and half to never smoke.\n",
    "with pyro.plate(\"counterfactual_individuals\", n_individuals/2, dim=-1):\n",
    "    # Sample from a population of individuals under the \"always smokes\" thought experiment.\n",
    "    stress_as, smokes_as, cancer_as = always_smokes_model(stress_pt, smokes_cpt, cancer_cpt)\n",
    "    stress_ns, smokes_ns, cancer_ns = never_smokes_model(stress_pt, smokes_cpt, cancer_cpt)"
   ]
  },
  {
   "cell_type": "markdown",
   "metadata": {},
   "source": [
    "Let's visualize a simulation from these new programs and compare against our original simulation."
   ]
  },
  {
   "cell_type": "code",
   "execution_count": 15,
   "metadata": {},
   "outputs": [
    {
     "data": {
      "text/plain": [
       "[Text(0.5, 1.0, 'Thought Experiment')]"
      ]
     },
     "execution_count": 15,
     "metadata": {},
     "output_type": "execute_result"
    },
    {
     "data": {
      "image/png": "[encoded data removed]",
      "text/plain": [
       "<Figure size 640x480 with 2 Axes>"
      ]
     },
     "metadata": {},
     "output_type": "display_data"
    }
   ],
   "source": [
    "data_as = torch.concat((stress_as.reshape(-1, 1), smokes_as.reshape(-1, 1), cancer_as.reshape(-1, 1)), axis=-1)\n",
    "data_ns = torch.concat((stress_ns.reshape(-1, 1), smokes_ns.reshape(-1, 1), cancer_ns.reshape(-1, 1)), axis=-1)\n",
    "\n",
    "frame_as = pd.DataFrame(data_as.numpy(), columns=[\"stressed\", \"smokes\", \"cancer\"]).astype(\"category\").replace({0:\"0\", 1:\"1\"})\n",
    "frame_ns = pd.DataFrame(data_ns.numpy(), columns=[\"stressed\", \"smokes\", \"cancer\"]).astype(\"category\").replace({0:\"0\", 1:\"1\"})\n",
    "\n",
    "_, ax = plt.subplots(1, 2, sharey=True)\n",
    "\n",
    "sns.histplot(x='smokes', hue='cancer', multiple=\"dodge\", shrink=0.7, data=frame_obs, ax=ax[0]).set(title='Observational Data')\n",
    "sns.histplot(x='smokes', hue='cancer', multiple=\"dodge\", shrink=0.7, data=frame_ns, ax=ax[1])\n",
    "sns.histplot(x='smokes', hue='cancer', multiple=\"dodge\", shrink=0.7, data=frame_as, ax=ax[1]).set(title='Thought Experiment')\n"
   ]
  },
  {
   "cell_type": "markdown",
   "metadata": {},
   "source": [
    "Using our intervened models we can clearly see that changing the mechanism by which individuals\n",
    "choose whether or not to smoke dramatically changes the joint distribution between smoking and cancer. In our observational model\n",
    "individuals who smoke are much more likely to get cancer than those who don't smoke. However, in our modified model in which individuals\n",
    "are forced to smoke or not smoke, the dependence between smoking and cancer nearly disapears.\n",
    "\n",
    "This phenomenon we're observing in this (contrived) example is known as confounding. Here, the reason we see a statistical dependency between\n",
    "smoking in cancer in our observational model is because of the individuals' stress. Individuals who are stressed are more likely to smoke, and stress\n",
    "causes an increase in cancer. The confounding effect of stress dissapears in our intervened programs, as stress no longer influences whether individuals smoke or not.\n",
    "\n",
    "Before we move on, let's be a bit more precise about the causal query we'd like to answer. One quantity we may wish to estimate is how much, on average, smoking increases the risk of cancer.\n",
    "We can define this *average treatment effect* mathematically as the difference between the proportion of individuals who get cancer under our `always_smokes_model` and our `never_smokes_model`.\n",
    "Again, we can easily write this as code."
   ]
  },
  {
   "cell_type": "code",
   "execution_count": 30,
   "metadata": {},
   "outputs": [
    {
     "data": {
      "text/plain": [
       "tensor(0.0448)"
      ]
     },
     "execution_count": 30,
     "metadata": {},
     "output_type": "execute_result"
    }
   ],
   "source": [
    "effect = cancer_as.float().mean() - cancer_ns.float().mean()\n",
    "effect"
   ]
  },
  {
   "cell_type": "markdown",
   "metadata": {},
   "source": [
    "So far, we've defined a model describing how data is generated in the actual world we can observe, which we called `observational_model`, and then transformed\n",
    "our original model to represent our thought experiments, or interventions, which we called `always_smokes_model` and `never_smokes_model`. Then, we sampled\n",
    "from our original and transformed models to generate simulated outcomes, and finally summarized the simulated outcomes yielding an answer to our causal query. Again,\n",
    "this process can be viewed somewhat abstractly as follows:"
   ]
  },
  {
   "cell_type": "markdown",
   "metadata": {},
   "source": [
    "![title](figures/Interventional_Conditional.png)"
   ]
  },
  {
   "cell_type": "markdown",
   "metadata": {},
   "source": [
    "\n",
    "One of the key insights behind Causal Pyro (and borrowed from Pearl's structural formalism) is that these kinds of interventions can be formalized as model agnostic\n",
    "program transformations, i.e. a function $I: \\mathcal{P} \\rightarrow \\mathcal{P}$, where $\\mathcal{P}$ is the space of programs in our language.\n",
    "\n",
    "Thusfar we've accomplished some limited form of causal reasoning by manually rewriting our original program, replacing the mechanism for how individuals choose to smoke directly in Pyro's syntax, and then simulating from the new programs.\n",
    "This is a perfectly reasonable thing to do in these kinds of simple scenarios where we have a single model and a single \"thought experiment\" we want to explore. However, as we'll see throughout these tutorials and examples,\n",
    "reasoning about cause and effect can often involve much more involved program transformations than this simple example. For example, in our mediation analysis example (TODO: add pointer to example) we'll need to simulate\n",
    "multiple counterfactual models simultaneously, with intervention assignments in one that depend on simulated outcomes in another. \n",
    "\n",
    "Instead, Causal Pyro addresses the complexity of causal reasoning by automating a number of probabilistic program transformations; including\n",
    "interventions, construction of counterfactual worlds, and (as we'll see in subsequent tutorials) automatic reparameterization for counterfactual or \"what if\" reasoning. \n",
    "\n",
    "For example, we can much more succinctly implement `always_smokes_model` and `never_smokes_model` succinctly as follows, using Causal Pyro's `do` program transformation.\n",
    "This special function `do` takes as input a probabilistic program and a dictionary describing the intervention assignment and returns a transformed probabilistic program with the intervention applied."
   ]
  },
  {
   "cell_type": "code",
   "execution_count": 31,
   "metadata": {},
   "outputs": [],
   "source": [
    "from causal_pyro.query.do_messenger import do\n",
    "\n",
    "always_smokes_model = do(observational_model, {\"smokes\": torch.tensor([1.])})\n",
    "never_smokes_model  = do(observational_model, {\"smokes\": torch.tensor([0.])})"
   ]
  },
  {
   "cell_type": "markdown",
   "metadata": {},
   "source": [
    "Just like our original implementation of `always_smokes_model` and `never_smokes_model`, these transformed models are probabilistic programs in Pyro, and can thus freely compose with all of Pyro's effect handlers.\n",
    "For example, we can again use an `plate` effect handler to sample from a population of individuals."
   ]
  },
  {
   "cell_type": "code",
   "execution_count": 32,
   "metadata": {},
   "outputs": [
    {
     "data": {
      "text/plain": [
       "tensor(0.0512)"
      ]
     },
     "execution_count": 32,
     "metadata": {},
     "output_type": "execute_result"
    }
   ],
   "source": [
    "with pyro.plate(\"counterfactual_individuals\", n_individuals/2, dim=-1):\n",
    "    # Sample from a population of individuals under the \"always smokes\" thought experiment.\n",
    "    stress_as, smokes_as, cancer_as = always_smokes_model(stress_pt, smokes_cpt, cancer_cpt)\n",
    "    stress_ns, smokes_ns, cancer_ns = never_smokes_model(stress_pt, smokes_cpt, cancer_cpt)\n",
    "\n",
    "effect = cancer_as.float().mean() - cancer_ns.float().mean()\n",
    "effect"
   ]
  },
  {
   "cell_type": "markdown",
   "metadata": {},
   "source": [
    "In this section we've seen that a probabilistic program specifies a causal model in that it\n",
    "  1. specifies a \"default\" or \"observational\" joint distribution over the\n",
    "variables of interest according to the usual semantics of probabilistic\n",
    "programming languages\n",
    "  2. encodes the necessary information to\n",
    "determine the new joint distribution under an arbitrary intervention\n",
    "(program transformation)---apply the transformation and derive the new\n",
    "joint distribution.\n"
   ]
  },
  {
   "cell_type": "markdown",
   "metadata": {},
   "source": [
    "## Observation 2: causal uncertainty is probabilistic uncertainty\n",
    "\n",
    "So far we've shown how to define a causal model as a probabilistic program, and how to use Causal Pyro's intervention program transformations, `do`,\n",
    "to answer causal questions. However, in doing so we made a few very strong assumptions.\n",
    "\n",
    "1. We assumed that we knew the structure of our causal model exactly, i.e. we asserted *which* variables causally affect which other variables.\n",
    "2. We assumed that we knew the parameters of our causal model exactly, i.e. we asserted *how much* variables causally affect which other variables.\n",
    "\n",
    "In this section we'll show how we can use Causal Pyro to substantially relax these assumptions, representing broad uncertainty over causal structure and parameters.\n",
    "\n",
    "Mathematically, the `observational_model` we defined previously can be thought of as a programatic representation of the conditional distribution $P(stress, smokes, cancer | \\theta)$, where $\\theta$ \n",
    "represents all of the parameters taken as arguments. To instead represent the joint distribution $P(stress, smokes, cancer, \\theta)$ we can simply define a program representing the prior $P(\\theta)$\n",
    "and then call our `observational_model` using samples from the prior program as follows."
   ]
  },
  {
   "cell_type": "code",
   "execution_count": 63,
   "metadata": {},
   "outputs": [],
   "source": [
    "from pyro.distributions import Beta\n",
    "\n",
    "def parameter_prior():\n",
    "\n",
    "    pyro.sample(\"stress_pt\", Beta(torch.ones(1), torch.ones(1)))\n",
    "    pyro.sample(\"smokes_cpt\", Beta(torch.ones(2), torch.ones(2)))\n",
    "    pyro.sample(\"smokes_cpt\", Beta(torch.ones(2, 2), torch.ones(2, 2))) \n",
    "\n",
    "    return stress_pt, smokes_cpt, cancer_cpt\n",
    "\n",
    "def bayesian_observational_model(n_individuals):\n",
    "    stress_pt, smokes_cpt, cancer_cpt = parameter_prior()\n",
    "\n",
    "    with pyro.plate(\"individuals\", n_individuals, dim=-1):\n",
    "        observational_model(stress_pt, smokes_cpt, cancer_cpt)\n"
   ]
  },
  {
   "cell_type": "markdown",
   "metadata": {},
   "source": [
    "TODO: Add below."
   ]
  },
  {
   "cell_type": "markdown",
   "metadata": {},
   "source": [
    "\n",
    "Once we have a causal model, what can we use it for? We briefly describe\n",
    "several problem types that practitioners of causal inference may be\n",
    "interested in solving (but do not claim that this is an exhaustive\n",
    "list):\n",
    "\n",
    "-   **Causal discovery.** Given data (either observational, or collected\n",
    "    under experimental conditions, or both), infer the underlying causal\n",
    "    model, from a class of possible models.\n",
    "\n",
    "-   **Parameter estimation.** Given data (either observational, or\n",
    "    collected under experimental conditions, or both), and a causal\n",
    "    model with unknown parameters $\\theta$, infer plausible values of\n",
    "    $\\theta$.\n",
    "\n",
    "-   **Causal effect estimation.** Given data (either observational, or\n",
    "    collected under experimental conditions, or both), and a causal\n",
    "    model (possibly with unknown structure or parameters), estimate a\n",
    "    *causal effect*, e.g. the Average Treatment Effect or the Individual\n",
    "    Average Treatment Effect. Such queries are designed to answer\n",
    "    questions like, \"On average, how much better would a patient fare if\n",
    "    they were given one medication vs. another?\"\n",
    "\n",
    "-   **Counterfactual prediction.** Given observed data, and a causal\n",
    "    model (possibly with unknown structure or parameters), estimate a\n",
    "    *counterfactual query*, designed to answer questions like, \"Given\n",
    "    what we know about this patient (including their observed health\n",
    "    outcome), how would their outcome have differed had we treated them\n",
    "    differently?\"\n",
    "\n",
    "All of these questions can be posed in a Bayesian framework. In particular, \n",
    "causal discovery, parameter estimation, causal effect estimation, and counterfactual prediction can be framed as Bayesian inference in appropriately specified generative models.\n",
    "\n",
    "\n",
    "The quantities over which we have uncertainty are:\n",
    "\n",
    "-   the structure of the true causal model,\n",
    "\n",
    "-   the parameters of the true causal model, and\n",
    "\n",
    "-   the values of any latent variables posited by the true causal model,\n",
    "    for each subject in our dataset. (In the presence of experimental\n",
    "    data, we are also uncertain about the latent variables posited by\n",
    "    the intervened version of the true causal model, for each subject in\n",
    "    the experimental dataset.)\n",
    "\n",
    "We can express priors over these quantities, and likelihoods that relate\n",
    "them to the observations. For example, suppose we are uncertain about\n",
    "the true model structure $m$, and its unknown parameters $\\theta$, as\n",
    "well as the values of latent variables $x$, but we have observed $y$ for\n",
    "a number of subjects, indexed $j = 1, \\dots, N$. Then the likelihood for\n",
    "$y_j$ is $p(y_j \\mid m, \\theta, x_j) = m_\\theta(y_j \\mid x_j)$. If we\n",
    "also have observations $y'$ from an experimental setting modeled by\n",
    "intervention $i$, then the likelihood is\n",
    "$p(y'_j \\mid m, \\theta, x_j) = \\text{intervene}(m_\\theta, i)(y'_j \\mid x_j)$.\n",
    "\n",
    "Having expressed a prior and a likelihood, posterior inference can\n",
    "recover causal structures $m$ and parameters $\\theta$. Causal effects\n",
    "and counterfactuals can be estimated by introducing additional variables\n",
    "representing hypothetical *potential outcomes*. Such constructions might\n",
    "usefully be automated by probabilistic programming languages, at which\n",
    "point existing PPL inference machinery could be applied to estimating\n",
    "the posterior.\n"
   ]
  },
  {
   "cell_type": "markdown",
   "metadata": {},
   "source": [
    "## Observation 3: causal inference is probabilistic inference\n",
    "\n",
    "Bayesian causal inference places identifiability on a principled continuum of irreducible causal uncertainty.\n",
    "\n",
    "On the surface, to claim that causal reasoning can be encapsulated by\n",
    "probabilistic computation appears to be in direct conflict with Pearl's\n",
    "insistence that causal and statistical concepts be kept\n",
    "separate [@pearl2001bayesian]. As Pearl describes them, statistical\n",
    "concepts are those that summarize the distribution over observed\n",
    "variables.\n",
    "\n",
    "The probabilistic computations that we discuss in this\n",
    "documentation are different in-kind from these assumption-free\n",
    "summaries of data, in that we aim compute to probabilities of *latent*\n",
    "causal structure, effects, and counterfactuals. In our proposed\n",
    "approach, causal probabilistic programs play the role of causal\n",
    "assumptions, relating observations to the latent causal quantities of\n",
    "interest.\n",
    "\n",
    "Casting causal inference as a particular instantiation of probabilistic\n",
    "inference does not change the reality that many causal conclusions\n",
    "cannot be unambiguously identified from data, regardless of sample size.\n",
    "How much of the mutual information between treatment and outcome is\n",
    "attributable to latent confounding? Does A cause B or does B cause A? If\n",
    "C were c, what would have happened to D? Answers to all of these\n",
    "questions are often ambiguous. \n",
    "\n",
    "Surprisingly, most existing formulations\n",
    "of causal inference avoid quantifying these uncertainties, instead\n",
    "abandoning problems in which latent causal quantities cannot be uniquely\n",
    "inferred from data.[^2] Instead, the probabilistic programming approach\n",
    "we espouse here enables users to express their assumptions, compute the\n",
    "resulting uncertainty, be it irreducible or not, and then make decisions\n",
    "accordingly."
   ]
  },
  {
   "cell_type": "markdown",
   "metadata": {},
   "source": [
    "## A Causal Bayesian Workflow"
   ]
  },
  {
   "cell_type": "markdown",
   "metadata": {},
   "source": []
  }
 ],
 "metadata": {
  "kernelspec": {
   "display_name": "Python 3.10.4 ('causal_pyro')",
   "language": "python",
   "name": "python3"
  },
  "language_info": {
   "codemirror_mode": {
    "name": "ipython",
    "version": 3
   },
   "file_extension": ".py",
   "mimetype": "text/x-python",
   "name": "python",
   "nbconvert_exporter": "python",
   "pygments_lexer": "ipython3",
   "version": "3.9.15"
  },
  "orig_nbformat": 4,
  "vscode": {
   "interpreter": {
    "hash": "cffe1a1fa048e49a173ef425a4ae5289f738a2b81f14c36ed87498058f2b9506"
   }
  }
 },
 "nbformat": 4,
 "nbformat_minor": 2
}

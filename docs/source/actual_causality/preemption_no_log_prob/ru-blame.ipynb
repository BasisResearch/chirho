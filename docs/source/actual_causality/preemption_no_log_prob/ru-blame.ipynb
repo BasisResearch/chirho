{
 "cells": [
  {
   "cell_type": "markdown",
   "metadata": {},
   "source": [
    "# Blame and actual causality"
   ]
  },
  {
   "attachments": {},
   "cell_type": "markdown",
   "metadata": {},
   "source": [
    "**Preceding notebooks**\n",
    "\n",
    "- [Actual Causality: the modified Halpern-Pearl definition]() TODO add link\n",
    "\n",
    "- [Responsibility and actual causality]() TODO add link\n",
    "\n",
    "**Summary**\n",
    "\n",
    "We use the causal-model based explication of responsibility by J. Halpern (*Actual Causality, MIT Press, 2016), explained in a previous notebook to follow Halpern's explication of blame in terms of responsibility."
   ]
  },
  {
   "attachments": {},
   "cell_type": "markdown",
   "metadata": {},
   "source": [
    "**Outline:**\n",
    "\n",
    "[Intuitions](##intuitions)\n",
    "    \n",
    "[Formalization](#formalization)\n",
    "\n",
    "[Implementation](#implementation)\n",
    "\n",
    "[Examples](#examples)\n",
    "\n",
    "- [Comments on example selection](#comments-on-example-selection)\n",
    "  \n",
    "- [Voting](#voting)\n",
    "\n",
    "- [Stone-throwing](#stone-throwing)\n",
    "\n",
    "- [Firing squad](#firing-squad)\n"
   ]
  },
  {
   "cell_type": "markdown",
   "metadata": {},
   "source": [
    "## Intuitions"
   ]
  },
  {
   "attachments": {},
   "cell_type": "markdown",
   "metadata": {},
   "source": [
    "Blame assigned to agents, on this approach, depends on their epistemic state - if an agent had no reason to believe that performing a given action would lead to a given outcome, they should not be blamed for this action even if this outcome came about. (They might be blamed for not performing their epistemic duties in properly finding out whether the outcome would come about, but that is another action that the agent might still be blamed for). Blame, on this approach, is the agent's expected responsibility for a given outcome, relative to the agent's probability distribution over possible causal models (including states of the exogenous variables)."
   ]
  },
  {
   "attachments": {},
   "cell_type": "markdown",
   "metadata": {},
   "source": [
    "## Formalization"
   ]
  },
  {
   "attachments": {},
   "cell_type": "markdown",
   "metadata": {},
   "source": [
    "Say the epistemic state of an agent is represented as $\\langle K, \\Pr\\rangle$, where $K$ is a set of causal settings, and $Pr$ is a probability distribution over $K$, representing the agent's uncertainty. Then the degree of blame of $X=x$ for $\\varphi$ relative to $\\langle K, \\Pr\\rangle$ is $\\sum_{\\langle M, \\vec{u}\\rangle \\in K} dr\\left( \\langle M, \\vec{u}\\rangle, X=x, \\varphi\\right)Pr\\left(\\langle M, \\vec{u}\\rangle\\right)$, where $dr$ is the degree of responsibility of $X=x$ for $\\varphi$ in $\\langle M, \\vec{u}\\rangle$, as defined in a previous notebook TODO add link"
   ]
  },
  {
   "attachments": {},
   "cell_type": "markdown",
   "metadata": {},
   "source": [
    "## Implementation"
   ]
  },
  {
   "attachments": {},
   "cell_type": "markdown",
   "metadata": {},
   "source": [
    "Here we simply re-use the implementations of actual causality and responsibility from the previous notebooks. All that remains is the calculation of expected values."
   ]
  },
  {
   "cell_type": "code",
   "execution_count": 1,
   "metadata": {},
   "outputs": [],
   "source": [
    "import functools\n",
    "\n",
    "import numpy as np\n",
    "\n",
    "import torch\n",
    "from typing import Dict, List, Optional,  Union, Callable\n",
    "\n",
    "import matplotlib.pyplot as plt\n",
    "import pandas as pd\n",
    "import seaborn as sns\n",
    "\n",
    "import pyro\n",
    "import pyro.distributions as dist\n",
    "\n",
    "import random\n",
    "\n",
    "import pyro\n",
    "import pyro.distributions as dist\n",
    "from chirho.indexed.ops import IndexSet, gather, indices_of, scatter\n",
    "from chirho.interventional.handlers import do\n",
    "from chirho.counterfactual.handlers.counterfactual import MultiWorldCounterfactual, Preemptions, BiasedPreemptions\n",
    "from chirho.observational.handlers import condition"
   ]
  },
  {
   "cell_type": "code",
   "execution_count": 2,
   "metadata": {},
   "outputs": [],
   "source": [
    "class HalpernPearlModifiedApproximate:\n",
    "\n",
    "    def __init__(\n",
    "        self, \n",
    "        model: Callable,\n",
    "        antecedents: Union[Dict[str, torch.Tensor], List[str]],\n",
    "        outcome: str,\n",
    "        witness_candidates: List[str],\n",
    "        observations: Optional[Dict[str, torch.Tensor]],\n",
    "        sample_size: int = 100,\n",
    "        event_dim: int = 0\n",
    "        ):\n",
    "        \n",
    "        self.model = model\n",
    "        self.antecedents = antecedents\n",
    "        self.outcome = outcome\n",
    "        self.witness_candidates = witness_candidates\n",
    "        self.nodes = antecedents + [outcome] + witness_candidates\n",
    "        self.observations = observations\n",
    "        self.sample_size = sample_size\n",
    "\n",
    "        self.antecedents_dict = (\n",
    "            self.antecedents if isinstance(self.antecedents, dict)\n",
    "            else self.revert_antecedents(self.antecedents)\n",
    "        )\n",
    "    \n",
    "        self.preemptions = {candidate: functools.partial(self.preempt_with_factual,\n",
    "                                             antecedents = self.antecedents) for \n",
    "                                             candidate in self.witness_candidates}\n",
    "        \n",
    "\n",
    "    @staticmethod\n",
    "    def revert_antecedents(antecedents: List[str]) -> Dict[str, Callable[[torch.Tensor], torch.Tensor]]:\n",
    "        return {antecedent: (lambda v: 1 - v) for antecedent in antecedents}\n",
    "\n",
    "    @staticmethod   \n",
    "    def preempt_with_factual(value: torch.Tensor, *,\n",
    "                          antecedents: List[str] = None, event_dim: int = 0):\n",
    "    \n",
    "        if antecedents is None:\n",
    "            antecedents = []\n",
    "\n",
    "        antecedents = [a for a in antecedents if a in indices_of(value, event_dim=event_dim)]\n",
    "\n",
    "        factual_value = gather(value, IndexSet(**{antecedent: {0} for antecedent in antecedents}),\n",
    "                                event_dim=event_dim)\n",
    "            \n",
    "        return scatter({\n",
    "            IndexSet(**{antecedent: {0} for antecedent in antecedents}): factual_value,\n",
    "            IndexSet(**{antecedent: {1} for antecedent in antecedents}): factual_value,\n",
    "        }, event_dim=event_dim)\n",
    "        \n",
    "        \n",
    "    def __call__(self, *args, **kwargs):\n",
    "        with pyro.poutine.trace() as trace:\n",
    "            with MultiWorldCounterfactual():\n",
    "                with do(actions=self.antecedents_dict):\n",
    "                    with Preemptions(actions = self.preemptions):\n",
    "                        with pyro.condition(data={k: torch.as_tensor(v) for k, v in self.observations.items()}):\n",
    "                            with pyro.plate(\"plate\", self.sample_size):\n",
    "                                self.consequent = self.model()[self.outcome]\n",
    "                                self.intervened_consequent = gather(self.consequent, IndexSet(**{ant: {1} for ant in self.antecedents}))\n",
    "                                self.observed_consequent = gather(self.consequent, IndexSet(**{ant: {0} for ant in self.antecedents}))\n",
    "                                self.consequent_differs = self.intervened_consequent != self.observed_consequent   \n",
    "                                pyro.factor(\"consequent_differs\", torch.where(self.consequent_differs, torch.tensor(0.0), torch.tensor(-1e8)))\n",
    "                            \n",
    "        self.trace = trace.trace\n",
    "        self.nodes_trace = {node: self.trace.nodes[node]['value'] for node in self.nodes}\n",
    "        \n",
    "        \n",
    "         # slightly hacky solution for odd witness candidate sets\n",
    "        if  isinstance(self.consequent_differs.squeeze().tolist(), bool):\n",
    "            self.existential_but_for = self.consequent_differs.squeeze()\n",
    "        else:\n",
    "            #if (len(self.consequent_differs.squeeze().tolist() )>1):\n",
    "            self.existential_but_for = any(self.consequent_differs.squeeze().tolist()                )  \n",
    "\n",
    "\n",
    "        witness_dict = dict()\n",
    "        if self.witness_candidates:\n",
    "            witness_keys = [\"__split_\" + candidate for candidate in self.witness_candidates]\n",
    "            witness_dict = {key: self.trace.nodes[key]['value']  for key in witness_keys}\n",
    "            \n",
    "\n",
    "        witness_dict['observed'] = self.observed_consequent.squeeze()\n",
    "        witness_dict['intervened'] = self.intervened_consequent.squeeze()\n",
    "        witness_dict['consequent_differs'] = self.consequent_differs.squeeze()\n",
    "\n",
    "        # slightly hacky as above\n",
    "        self.witness_df = pd.DataFrame(witness_dict) if self.witness_candidates else witness_dict\n",
    "\n",
    "        if self.witness_candidates:\n",
    "            self.witness_df['witness_size'] = self.witness_df[witness_keys].sum(axis = 1)\n",
    "            satisfactory = self.witness_df[self.witness_df['consequent_differs'] == True]\n",
    "            \n",
    "        self.minimal_witness_size = satisfactory['witness_size'].min() if self.witness_candidates else 0\n",
    "        self.responsibility_internal = 1/(len(self.antecedents) + self.minimal_witness_size)\n"
   ]
  },
  {
   "cell_type": "code",
   "execution_count": 3,
   "metadata": {},
   "outputs": [],
   "source": [
    "class HalpernPearlResponsibilityApproximate:\n",
    "\n",
    "    def __init__(\n",
    "        self, \n",
    "        model: Callable,\n",
    "        nodes: List,\n",
    "        antecedent: str,\n",
    "        outcome: str,\n",
    "        observations: Dict[str, torch.Tensor], \n",
    "        runs_n: int \n",
    "    ):\n",
    "        self.model = model\n",
    "        self.nodes = nodes\n",
    "        self.antecedent = antecedent\n",
    "        self.outcome = outcome\n",
    "        self.observations = observations\n",
    "        self.runs_n = runs_n\n",
    "        \n",
    "        self.minimal_antecedents_cache = []\n",
    "        self.antecedent_sizes = []\n",
    "        self.existential_but_fors = []\n",
    "        self.minimal_witness_sizes = []\n",
    "        self.responsibilities = []\n",
    "        self.HPMs = []\n",
    "\n",
    "    def __call__(self):\n",
    "        \n",
    "        for step in range(1,self.runs_n):\n",
    "\n",
    "            nodes = self.nodes\n",
    "            if self.outcome in nodes:\n",
    "                nodes.remove(self.outcome) \n",
    "            \n",
    "            companion_size = random.randint(0,len(nodes))\n",
    "            companion_candidates = random.sample(self.nodes, companion_size)\n",
    "            witness_candidates = [node for node in self.nodes if \n",
    "                                node != self.antecedent and \n",
    "                                node != self.outcome and \n",
    "                                    node not in companion_candidates]\n",
    "\n",
    "            HPM = HalpernPearlModifiedApproximate(\n",
    "                model = self.model,\n",
    "                antecedents = companion_candidates,\n",
    "                outcome = self.outcome,\n",
    "                witness_candidates = witness_candidates,\n",
    "                observations = self.observations,\n",
    "                sample_size = 1000)\n",
    "            \n",
    "            HPM()\n",
    "\n",
    "            self.HPMs.append(HPM)\n",
    "\n",
    "\n",
    "            if  HPM.existential_but_for:\n",
    "\n",
    "\n",
    "                subset_in_cache = any([s.issubset(set(HPM.antecedents)) for s in self.minimal_antecedents_cache])\n",
    "                if not subset_in_cache:\n",
    "                    self.minimal_antecedents_cache.append(set(HPM.antecedents))\n",
    "\n",
    "                    if self.antecedent in HPM.antecedents:\n",
    "                        self.antecedent_sizes.append(len(HPM.antecedents))\n",
    "                        self.existential_but_fors.append(HPM.existential_but_for)\n",
    "                        self.minimal_witness_sizes.append(HPM.minimal_witness_size)\n",
    "                        self.responsibilities.append(HPM.responsibility_internal)\n",
    "\n",
    "\n",
    "        self.denumerators = [x + y for x, y in zip(self.antecedent_sizes, self.minimal_witness_sizes)]\n",
    "\n",
    "        self.responsibilityDF = pd.DataFrame(\n",
    "            {\"existential_but_for\": [bool(value) for value in self.existential_but_fors],\n",
    "                \"antecedent_size\": self.antecedent_sizes, \n",
    "                \"minimal_witness_size\": self.minimal_witness_sizes,\n",
    "                \"denumerator\": self.denumerators,\n",
    "                \"responsibility\": self.responsibilities\n",
    "            }\n",
    "            )\n",
    "        if len(self.responsibilityDF['existential_but_for']) == 0:\n",
    "            self.responsibility = 0\n",
    "        else:\n",
    "            min_denumerator = min(self.responsibilityDF['denumerator'])\n",
    "            self.responsibility = 1/min_denumerator\n",
    "\n",
    " "
   ]
  },
  {
   "attachments": {},
   "cell_type": "markdown",
   "metadata": {},
   "source": [
    "## Examples"
   ]
  },
  {
   "attachments": {},
   "cell_type": "markdown",
   "metadata": {},
   "source": [
    "### Comments on example selection"
   ]
  },
  {
   "attachments": {},
   "cell_type": "markdown",
   "metadata": {},
   "source": [
    "- **firing squad:**  in this case we illustrate that while responsibility will be solely with the single marksman who has the live bullet (see a previous notebook on responsibility), blame assignments will be proportionate to the probabilities. \n",
    "  \n",
    "- **voters:** while Halpern only considered responsibility for an outcome if one votes (and suggests that blame can be calculated), we go somewhat further. We investigate the blame for an outcome assigned to a voter who decides not to vote. We also use this example to illustrate that the definition of responsibility in terms of node-counting is naive, as the same situation can easily be represented using models with different node counts, which will have impact on responsibility and blame calculations.\n",
    "\n",
    "- **pollution:** Halpern describes expected responsibility calculations for four scenarios involving two companies dumping pollutants into a river. We go further and show how approximate blame calculations in a continuous case (involving uncertainties about the amounts of pollutant dumped by the companies and about the threshold sufficient for the fish to die)."
   ]
  },
  {
   "attachments": {},
   "cell_type": "markdown",
   "metadata": {},
   "source": [
    "### Firing squad"
   ]
  },
  {
   "attachments": {},
   "cell_type": "markdown",
   "metadata": {},
   "source": [
    "We already discuss responsibility assignment in this scenario in the responsibility notebook. There is a firing squad consisting of five excellent marksmen. Only one of them has a live bullet in his rifle and the rest have blanks. They shoot and the prisoner dies.The marksmen shoot at the prisoner and he dies. The only cause of the prisoner’s death is the marksman with the live bullet. We have already seen that marksman has degree of responsibility 1 for the death and all the others have degree of responsibility 0. Now we will see that if the marksmen completely do not know which of them has the live bullet, blame is nevertheless equally distributed between them."
   ]
  },
  {
   "cell_type": "code",
   "execution_count": 4,
   "metadata": {},
   "outputs": [],
   "source": [
    "def firing_squad_model():\n",
    "    probs = pyro.sample(\"probs\", dist.Dirichlet(torch.ones(5)))\n",
    "\n",
    "    who_has_bullet = pyro.sample(\"who_has_bullet\", dist.OneHotCategorical(probs))\n",
    "\n",
    "    mark0 = pyro.deterministic(\"mark0\", torch.tensor([who[0] for who in who_has_bullet]), event_dim=0)\n",
    "    mark1 = pyro.deterministic(\"mark1\", torch.tensor([who[1] for who in who_has_bullet]), event_dim=0)\n",
    "    mark2 = pyro.deterministic(\"mark2\", torch.tensor([who[2] for who in who_has_bullet]), event_dim=0)\n",
    "    mark3 = pyro.deterministic(\"mark3\", torch.tensor([who[3] for who in who_has_bullet]), event_dim=0)\n",
    "    mark4 = pyro.deterministic(\"mark4\", torch.tensor([who[4] for who in who_has_bullet]), event_dim=0)\n",
    "\n",
    "    dead = pyro.deterministic(\"dead\", mark0 + mark1 + mark2 + mark3 + \n",
    "                                mark4  > 0)\n",
    "    \n",
    "    return {\"probs\": probs,\n",
    "            \"mark0\": mark0,\n",
    "            \"mark1\": mark1,\n",
    "            \"mark2\": mark2,\n",
    "\n",
    "            \"mark3\": mark3,\n",
    "            \"mark4\": mark4, \n",
    "            \"dead\": dead}"
   ]
  },
  {
   "cell_type": "code",
   "execution_count": 5,
   "metadata": {},
   "outputs": [
    {
     "name": "stdout",
     "output_type": "stream",
     "text": [
      "tensor(0.2000)\n"
     ]
    }
   ],
   "source": [
    "# assign weights to models\n",
    "# and take the weighted average\n",
    "\n",
    "pyro.set_rng_seed(102)\n",
    "\n",
    "marksman0_responsibilities = []\n",
    "for who in range(0,5):\n",
    "    probs = torch.zeros(5)\n",
    "    probs[who] = 1.0\n",
    "\n",
    "\n",
    "    responsibility_marksmen_HPR = HalpernPearlResponsibilityApproximate(\n",
    "        model = firing_squad_model,\n",
    "        nodes = [\"mark\" + str(i) for i in range(0,5)],\n",
    "        antecedent = \"mark0\", outcome = \"dead\",\n",
    "        observations = {\"probs\": probs,},\n",
    "                        runs_n=50)\n",
    "\n",
    "    responsibility_marksmen_HPR()\n",
    "    marksman0_responsibilities.append(responsibility_marksmen_HPR.responsibility)\n",
    "\n",
    "weights = torch.full((5,), .2)\n",
    "\n",
    "# if your pr(mark0) = i, \n",
    "# the blame in this case is i as well \n",
    "\n",
    "print(torch.dot(torch.tensor(marksman0_responsibilities), weights))"
   ]
  },
  {
   "attachments": {},
   "cell_type": "markdown",
   "metadata": {},
   "source": [
    "### Voters"
   ]
  },
  {
   "attachments": {},
   "cell_type": "markdown",
   "metadata": {},
   "source": [
    "\n",
    "The general phenomenon in the voting setup is this: if $a$ voted for and $b$ against, $a>b$, a voter voting for has degree of responsibility $\\frac{1}{\\lceil (a-b)/2\\rceil}$. So much is in Halpern. Now let's go beyond this: what if you decide whether to vote and consider your blame if your candidate looses and you didn't vote? This is still a somewhat simplistic setup: eight other people are about to vote, each outcome among them you consider equally likely, and you consider the blame associated with you skipping the voting if your candidate fails. In the first model, we represent the number of other voters who voted the same way you would have voted by a single node; in the second model, we have a separate node for each voter. We will see that this shift in representation method results in quite a difference in blame assignment. This indicates that counting nodes is a rather crude method of responsibility- or blame-splitting."
   ]
  },
  {
   "cell_type": "code",
   "execution_count": 6,
   "metadata": {},
   "outputs": [],
   "source": [
    "def choose_to_vote_model():\n",
    "    u_a = pyro.sample(\"u_a\", dist.Categorical(logits=torch.ones(8)))\n",
    "    u_skip = pyro.sample(\"u_skip\", dist.Bernoulli(0.5))\n",
    "\n",
    "    a = pyro.deterministic(\"a\", u_a, event_dim=0)\n",
    "    skip = pyro.deterministic(\"skip\", u_skip, event_dim=0)\n",
    "\n",
    "    result = pyro.deterministic(\"result\", \n",
    "                            (a + 1 - skip) > torch.ceil(9 - skip)/2)\n",
    "\n",
    "    return {\"a\": a, \"against\": 8-a, \"voted\": 1 - skip, \"result\": result}"
   ]
  },
  {
   "cell_type": "code",
   "execution_count": 7,
   "metadata": {},
   "outputs": [
    {
     "data": {
      "text/plain": [
       "False"
      ]
     },
     "execution_count": 7,
     "metadata": {},
     "output_type": "execute_result"
    }
   ],
   "source": [
    "# your skipping is not an actual cause if a=1\n",
    "\n",
    "skipping1HPM = HalpernPearlModifiedApproximate(\n",
    "    model = choose_to_vote_model,\n",
    "    antecedents = [\"skip\"],\n",
    "    outcome = \"result\",\n",
    "    witness_candidates = [\"a\"],\n",
    "    observations = dict(u_a=1.),\n",
    "    sample_size = 100)\n",
    "\n",
    "skipping1HPM()\n",
    "\n",
    "skipping1HPM.existential_but_for"
   ]
  },
  {
   "cell_type": "code",
   "execution_count": 8,
   "metadata": {},
   "outputs": [
    {
     "data": {
      "text/plain": [
       "True"
      ]
     },
     "execution_count": 8,
     "metadata": {},
     "output_type": "execute_result"
    }
   ],
   "source": [
    "# but it is, if a = 4\n",
    "\n",
    "skipping4HPM = HalpernPearlModifiedApproximate(\n",
    "    model = choose_to_vote_model,\n",
    "    antecedents = [\"skip\"],\n",
    "    outcome = \"result\",\n",
    "    witness_candidates = [\"a\"],\n",
    "    observations = dict(u_a=4.),\n",
    "    sample_size = 100)\n",
    "\n",
    "skipping4HPM()\n",
    "\n",
    "skipping4HPM.existential_but_for"
   ]
  },
  {
   "cell_type": "code",
   "execution_count": 9,
   "metadata": {},
   "outputs": [
    {
     "data": {
      "text/plain": [
       "0"
      ]
     },
     "execution_count": 9,
     "metadata": {},
     "output_type": "execute_result"
    }
   ],
   "source": [
    "# with this model responsibilities follow the same pattern\n",
    "\n",
    "skipping1HPR = HalpernPearlResponsibilityApproximate(\n",
    "    model = choose_to_vote_model,\n",
    "    nodes = [\"a\", \"skip\"],\n",
    "    antecedent = \"skip\", outcome = \"result\",\n",
    "    observations = dict(u_a=1.), \n",
    "    runs_n=50\n",
    "    )\n",
    "\n",
    "skipping1HPR()\n",
    "skipping1HPR.responsibility"
   ]
  },
  {
   "cell_type": "code",
   "execution_count": 10,
   "metadata": {},
   "outputs": [
    {
     "data": {
      "text/plain": [
       "1.0"
      ]
     },
     "execution_count": 10,
     "metadata": {},
     "output_type": "execute_result"
    }
   ],
   "source": [
    "pyro.set_rng_seed(102)\n",
    "skipping4HPR = HalpernPearlResponsibilityApproximate(\n",
    "    model = choose_to_vote_model,\n",
    "    nodes = [\"a\", \"skip\"],\n",
    "    antecedent = \"skip\", outcome = \"result\",\n",
    "    observations = dict(u_a=4.), \n",
    "    runs_n=50\n",
    "    )\n",
    "\n",
    "skipping4HPR()\n",
    "skipping4HPR.responsibility\n"
   ]
  },
  {
   "cell_type": "code",
   "execution_count": 11,
   "metadata": {},
   "outputs": [],
   "source": [
    "# but now suppose we work with a different representation\n",
    "# in which each voter has their own node\n",
    "\n",
    "def choose_to_vote_wide_model():\n",
    "    u_vote0 = pyro.sample(\"u_vote0\", dist.Bernoulli(0.6))\n",
    "    u_vote1 = pyro.sample(\"u_vote1\", dist.Bernoulli(0.6))\n",
    "    u_vote2 = pyro.sample(\"u_vote2\", dist.Bernoulli(0.6))\n",
    "    u_vote3 = pyro.sample(\"u_vote3\", dist.Bernoulli(0.6))\n",
    "    u_vote4 = pyro.sample(\"u_vote4\", dist.Bernoulli(0.6))\n",
    "    u_vote5 = pyro.sample(\"u_vote5\", dist.Bernoulli(0.6))\n",
    "    u_vote6 = pyro.sample(\"u_vote6\", dist.Bernoulli(0.6))\n",
    "    u_vote7 = pyro.sample(\"u_vote7\", dist.Bernoulli(0.6))\n",
    "    u_skip = pyro.sample(\"u_skip\", dist.Bernoulli(0.5))\n",
    "\n",
    "    vote0 = pyro.deterministic(\"vote0\", u_vote0, event_dim=0)\n",
    "    vote1 = pyro.deterministic(\"vote1\", u_vote1, event_dim=0)\n",
    "    vote2 = pyro.deterministic(\"vote2\", u_vote2, event_dim=0)\n",
    "    vote3 = pyro.deterministic(\"vote3\", u_vote3, event_dim=0)\n",
    "    vote4 = pyro.deterministic(\"vote4\", u_vote4, event_dim=0)\n",
    "    vote5 = pyro.deterministic(\"vote5\", u_vote5, event_dim=0)\n",
    "    vote6 = pyro.deterministic(\"vote6\", u_vote6, event_dim=0)\n",
    "    vote7 = pyro.deterministic(\"vote7\", u_vote7, event_dim=0)\n",
    "    skip = pyro.deterministic(\"skip\", u_skip, event_dim=0)\n",
    "\n",
    "\n",
    "    result = pyro.deterministic(\"result\", vote0 + vote1 + vote2 + vote3 + \n",
    "                                 vote4 + vote5 + vote6 + vote7 + 1 - skip > 4)\n",
    "    return {\"result\": result.float()}\n"
   ]
  },
  {
   "cell_type": "code",
   "execution_count": 12,
   "metadata": {},
   "outputs": [
    {
     "data": {
      "text/plain": [
       "False"
      ]
     },
     "execution_count": 12,
     "metadata": {},
     "output_type": "execute_result"
    }
   ],
   "source": [
    "# if a = 1, skipping is still not an actual cause\n",
    "\n",
    "skipping_wide1HPM = HalpernPearlModifiedApproximate(\n",
    "    model = choose_to_vote_wide_model,\n",
    "    antecedents = [\"skip\"],\n",
    "    outcome = \"result\",\n",
    "    witness_candidates = [f\"vote{i}\" for i in range(0,8)],\n",
    "    observations = dict(u_vote0=1., u_vote1=0., u_vote2=0.,\n",
    "                        u_vote3=0., u_vote4=0., u_vote5=0,\n",
    "                        u_vote6=0., u_vote7=0.),\n",
    "    sample_size = 1000)\n",
    "\n",
    "skipping_wide1HPM()\n",
    "skipping_wide1HPM.existential_but_for\n"
   ]
  },
  {
   "cell_type": "code",
   "execution_count": 13,
   "metadata": {},
   "outputs": [
    {
     "data": {
      "text/plain": [
       "True"
      ]
     },
     "execution_count": 13,
     "metadata": {},
     "output_type": "execute_result"
    }
   ],
   "source": [
    "# if a = 4, skipping still is an actual cause\n",
    "\n",
    "skipping_wide4HPM = HalpernPearlModifiedApproximate(\n",
    "    model = choose_to_vote_wide_model,\n",
    "    antecedents = [\"skip\"],\n",
    "    outcome = \"result\",\n",
    "    witness_candidates = [f\"vote{i}\" for i in range(0,8)],\n",
    "    observations = dict(u_vote0=1., u_vote1=1., u_vote2=1.,\n",
    "                        u_vote3=1., u_vote4=0., u_vote5=0,\n",
    "                        u_vote6=0., u_vote7=0.),\n",
    "    sample_size = 1000)\n",
    "\n",
    "skipping_wide4HPM()\n",
    "skipping_wide4HPM.existential_but_for\n"
   ]
  },
  {
   "cell_type": "code",
   "execution_count": 14,
   "metadata": {},
   "outputs": [
    {
     "data": {
      "text/plain": [
       "0.25"
      ]
     },
     "execution_count": 14,
     "metadata": {},
     "output_type": "execute_result"
    }
   ],
   "source": [
    "# if a = 1 your responsibility is now 1/4\n",
    "# because if you voted for\n",
    "# and three other voters changed their mind,\n",
    "# the outcome would be different\n",
    "\n",
    "skipping_wide1HPR = HalpernPearlResponsibilityApproximate(\n",
    "    model = choose_to_vote_wide_model,\n",
    "    nodes = [f\"vote{i}\" for i in range(0,8,)] + [\"skip\"],\n",
    "    antecedent = \"skip\", outcome = \"result\",\n",
    "    observations =  dict(u_vote0=1., u_vote1=0., u_vote2=0.,\n",
    "                        u_vote3=0., u_vote4=0., u_vote5=0,\n",
    "                        u_vote6=0., u_vote7=0.), \n",
    "    runs_n=500\n",
    "    )\n",
    "\n",
    "skipping_wide1HPR()\n",
    "skipping_wide1HPR.responsibility"
   ]
  },
  {
   "attachments": {},
   "cell_type": "markdown",
   "metadata": {},
   "source": [
    "The above illustrates one reason why what Halpern called the naive definition of responsibility used in Halpern is properly so named: it is highly sensitive to modeling choices and needs to be improved. This is a story for another occasion. Meawhile, let's assume that the wide model is the intended one and see what can be said about blame for failure before the voting happens."
   ]
  },
  {
   "cell_type": "code",
   "execution_count": 15,
   "metadata": {},
   "outputs": [
    {
     "data": {
      "text/plain": [
       "[0, 0, 0, 0, 1.0]"
      ]
     },
     "execution_count": 15,
     "metadata": {},
     "output_type": "execute_result"
    }
   ],
   "source": [
    "# for a>4 blame is zero as your candidate wins\n",
    "# let's use the first model\n",
    "\n",
    "pyro.set_rng_seed(1231)\n",
    "\n",
    "skipping_responsibilities = []\n",
    "\n",
    "for a in range(0,5):\n",
    "\n",
    "    observations = dict(u_a=a)\n",
    "\n",
    "    skipping_stepHPR = HalpernPearlResponsibilityApproximate(\n",
    "    model = choose_to_vote_model,\n",
    "    nodes = [\"a\", \"skip\"],\n",
    "    antecedent = \"skip\", outcome = \"result\",\n",
    "    observations =  observations, \n",
    "    runs_n=100\n",
    "    )\n",
    "    skipping_stepHPR()\n",
    "\n",
    "    skipping_responsibilities.append(skipping_stepHPR.responsibility)\n",
    "\n",
    "skipping_responsibilities"
   ]
  },
  {
   "cell_type": "code",
   "execution_count": 16,
   "metadata": {},
   "outputs": [
    {
     "data": {
      "text/plain": [
       "[0.2, 0.25, 0.3333333333333333, 0.3333333333333333, 1.0]"
      ]
     },
     "execution_count": 16,
     "metadata": {},
     "output_type": "execute_result"
    }
   ],
   "source": [
    "# for a>4 blame is zero as your candidate wins\n",
    "\n",
    "pyro.set_rng_seed(1231)\n",
    "\n",
    "skipping_responsibilities_wide = []\n",
    "\n",
    "for a in range(0,5):\n",
    "\n",
    "    observations = {\"u_vote\"+str(i): 1. if i < a else 0. for i in range(0,8)}\n",
    "\n",
    "    skipping_wide_stepHPR = HalpernPearlResponsibilityApproximate(\n",
    "    model = choose_to_vote_wide_model,\n",
    "    nodes = [f\"vote{i}\" for i in range(0,8,)] + [\"skip\"],\n",
    "    antecedent = \"skip\", outcome = \"result\",\n",
    "    observations =  observations, \n",
    "    runs_n=100\n",
    "    )\n",
    "    skipping_wide_stepHPR()\n",
    "\n",
    "    skipping_responsibilities_wide.append(skipping_wide_stepHPR.responsibility)\n",
    "\n",
    "skipping_responsibilities_wide\n",
    "# [0.2, 0.25, 0.3333333333333333, 0.3333333333333333, 1.0]"
   ]
  },
  {
   "cell_type": "code",
   "execution_count": 17,
   "metadata": {},
   "outputs": [
    {
     "name": "stdout",
     "output_type": "stream",
     "text": [
      "blame in the first model: 0.125 blame in the second model: 0.26458333333333334\n"
     ]
    }
   ],
   "source": [
    "# assuming each value of a has probability 1/8\n",
    "# the expected value of responsibility for failure \n",
    "# if you skip the voting\n",
    "\n",
    "blame = sum([1/8 * resp for resp in skipping_responsibilities])\n",
    "# 1/8\n",
    "\n",
    "blame_wide = sum([1/8 * resp for resp in skipping_responsibilities_wide])\n",
    "# approx. 0.264\n",
    "\n",
    "print(\"blame in the first model:\", blame, \"blame in the second model:\", blame_wide)\n"
   ]
  },
  {
   "attachments": {},
   "cell_type": "markdown",
   "metadata": {},
   "source": [
    "### Pollution\n",
    "\n",
    "In the original example, company A dumps either 0 or 100 kilograms of pollutant, company B dumps either 60 or 0 kilograms, and biologists determine that k kilograms of pollutant sufﬁce for the ﬁsh to die. \n",
    "One problematic case is was when k = 80 and both companies dump pollutants. In this case, only A is a cause of the ﬁsh dying according to the modiﬁed HP deﬁnition. We'll go a bit further: we consider a situation in which the amount that companies have to potentially dump and the threshold come from normal distributions. \n"
   ]
  },
  {
   "cell_type": "code",
   "execution_count": 18,
   "metadata": {},
   "outputs": [],
   "source": [
    "amount_A = 100\n",
    "amount_B = 60\n",
    "\n",
    "def pollution_model():\n",
    "    u_A_dumps = pyro.sample(\"u_A_dumps\", dist.Bernoulli(0.5))\n",
    "    u_B_dumps = pyro.sample(\"u_B_dumps\", dist.Bernoulli(0.5))\n",
    "    u_k = pyro.sample(\"u_k\", dist.Normal(80., 10.))\n",
    "\n",
    "    A_dumps = pyro.deterministic(\"A_dumps\", u_A_dumps, event_dim=0)\n",
    "    B_dumps = pyro.deterministic(\"B_dumps\", u_B_dumps, event_dim=0)\n",
    "    k = pyro.deterministic(\"k\", u_k, event_dim=0)\n",
    "\n",
    "    total_pollution = pyro.deterministic(\"total_pollution\",\n",
    "                                          A_dumps * amount_A + B_dumps * amount_B)\n",
    "    dead = pyro.deterministic(\"dead\", total_pollution > k)\n",
    "\n",
    "    return {\"total_pollution\": total_pollution, \"k\": k, \"dead\": dead}\n"
   ]
  },
  {
   "cell_type": "code",
   "execution_count": 19,
   "metadata": {},
   "outputs": [
    {
     "name": "stdout",
     "output_type": "stream",
     "text": [
      "True False\n"
     ]
    }
   ],
   "source": [
    "# A an actual cause in the original scenario\n",
    "# B not an actual cause in the original scenario\n",
    "# set threshold to 80\n",
    "\n",
    "\n",
    "pollution_strict_A_HPM = HalpernPearlModifiedApproximate(\n",
    "    model = pollution_model,\n",
    "    antecedents = [\"A_dumps\"],\n",
    "    outcome = \"dead\",\n",
    "    witness_candidates = [\"B_dumps\"],\n",
    "    observations = dict(u_A_dumps=1., u_B_dumps=1., u_k=80.),\n",
    "    sample_size = 5)\n",
    "\n",
    "pollution_strict_B_HPM = HalpernPearlModifiedApproximate(\n",
    "    model = pollution_model,\n",
    "    antecedents = [\"B_dumps\"],\n",
    "    outcome = \"dead\",\n",
    "    witness_candidates = [\"A_dumps\"],\n",
    "    observations = dict(u_A_dumps=1., u_B_dumps=1., u_k=80.),\n",
    "    sample_size = 5)\n",
    "\n",
    "pollution_strict_A_HPM()\n",
    "pollution_strict_B_HPM()\n",
    "\n",
    "print(\n",
    "pollution_strict_A_HPM.existential_but_for,\n",
    "pollution_strict_B_HPM.existential_but_for\n",
    ")"
   ]
  },
  {
   "attachments": {},
   "cell_type": "markdown",
   "metadata": {},
   "source": [
    "Moreover, $B$ is not even a part of an actual cause, as the only antecedent set containing it that satisfies the existential but-for condition is the one containing both `A_dumps` and `B_dumps`, but already the singleton containing `A_dumps` is an actual cause, so the two-element set fails to satisfy the minimality condition. So the responsibility of $B$ in this case is 0."
   ]
  },
  {
   "attachments": {},
   "cell_type": "markdown",
   "metadata": {},
   "source": [
    "Let's see how uncertainty about $A$, $B$, and $k$ might propagate and allow for an estimation of actual causality probability and of blame."
   ]
  },
  {
   "cell_type": "code",
   "execution_count": 20,
   "metadata": {},
   "outputs": [],
   "source": [
    "A_causality = []\n",
    "B_causality = []\n",
    "A_responsibility = []\n",
    "B_responsibility = []\n",
    "\n",
    "steps = 100\n",
    "\n",
    "\n",
    "for run in range(0,steps):\n",
    "\n",
    "    amount_A = pyro.sample(\"amount_A\", dist.Normal(100., 25.))\n",
    "    amount_B = pyro.sample(\"amount_B\", dist.Normal(60., 25.))\n",
    "\n",
    "\n",
    "    def pollution_model():\n",
    "        u_A_dumps = pyro.sample(\"u_A_dumps\", dist.Bernoulli(0.5))\n",
    "        u_B_dumps = pyro.sample(\"u_B_dumps\", dist.Bernoulli(0.5))\n",
    "        u_k = pyro.sample(\"u_k\", dist.Normal(80., 10.))\n",
    "\n",
    "        A_dumps = pyro.deterministic(\"A_dumps\", u_A_dumps, event_dim=0)\n",
    "        B_dumps = pyro.deterministic(\"B_dumps\", u_B_dumps, event_dim=0)\n",
    "        k = pyro.deterministic(\"k\", u_k, event_dim=0)\n",
    "\n",
    "        total_pollution = pyro.deterministic(\"total_pollution\",\n",
    "                                            A_dumps * amount_A + B_dumps * amount_B)\n",
    "        dead = pyro.deterministic(\"dead\", total_pollution > k)\n",
    "\n",
    "        return {\"total_pollution\": total_pollution, \"k\": k, \"dead\": dead}\n",
    "\n",
    "\n",
    "    pollution_A_HPM = HalpernPearlModifiedApproximate(\n",
    "        model = pollution_model,\n",
    "        antecedents = [\"A_dumps\"],\n",
    "        outcome = \"dead\",\n",
    "        witness_candidates = [\"B_dumps\"],\n",
    "        observations = dict(u_A_dumps=1., u_B_dumps=1.),\n",
    "        sample_size = 5)\n",
    "\n",
    "    pollution_B_HPM = HalpernPearlModifiedApproximate(\n",
    "        model = pollution_model,\n",
    "        antecedents = [\"B_dumps\"],\n",
    "        outcome = \"dead\",\n",
    "        witness_candidates = [\"A_dumps\"],\n",
    "        observations = dict(u_A_dumps=1., u_B_dumps=1.),\n",
    "        sample_size = 5)\n",
    "\n",
    "\n",
    "    pollution_A_HPR = HalpernPearlResponsibilityApproximate(\n",
    "    model = pollution_model,\n",
    "    nodes = [\"A_dumps\", \"B_dumps\"],\n",
    "    antecedent = \"A_dumps\", outcome = \"dead\",\n",
    "    observations =  dict(u_A_dumps=1., u_B_dumps=1.), \n",
    "    runs_n=50\n",
    "    )\n",
    "\n",
    "    pollution_B_HPR = HalpernPearlResponsibilityApproximate(\n",
    "    model = pollution_model,\n",
    "    nodes = [\"A_dumps\", \"B_dumps\"],\n",
    "    antecedent = \"B_dumps\", outcome = \"dead\",\n",
    "    observations =  dict(u_A_dumps=1., u_B_dumps=1.), \n",
    "    runs_n=50\n",
    "    )\n",
    "\n",
    "\n",
    "    pollution_A_HPM()\n",
    "    pollution_B_HPM()\n",
    "\n",
    "    pollution_A_HPR()\n",
    "    pollution_B_HPR()\n",
    "\n",
    "    A_causality.append(pollution_A_HPM.existential_but_for)\n",
    "    B_causality.append(pollution_B_HPM.existential_but_for)\n",
    "    A_responsibility.append(pollution_A_HPR.responsibility)\n",
    "    B_responsibility.append(pollution_B_HPR.responsibility)\n",
    "\n"
   ]
  },
  {
   "cell_type": "code",
   "execution_count": 21,
   "metadata": {},
   "outputs": [
    {
     "data": {
      "image/png": "[encoded data removed]",
      "text/plain": [
       "<Figure size 800x500 with 1 Axes>"
      ]
     },
     "metadata": {},
     "output_type": "display_data"
    }
   ],
   "source": [
    "np.mean( A_causality)\n",
    "np.mean( B_causality)\n",
    "\n",
    "comb = A_causality + B_causality\n",
    "data = {\"company\": [\"A\"]*steps + [\"B\"]*steps, \"value\": comb}\n",
    "df = pd.DataFrame(data)\n",
    "\n",
    "\n",
    "fig, ax = plt.subplots(figsize=(8, 5))\n",
    "sns.countplot(data=df, x='value', hue='company')\n",
    "\n",
    "ax.set_title('Pr(A):' +  str(np.mean( A_causality)) +\n",
    "                \" Pr(B):\" + str(np.mean( B_causality))\n",
    "                 )\n",
    "\n",
    "plt.show()\n"
   ]
  },
  {
   "cell_type": "code",
   "execution_count": 22,
   "metadata": {},
   "outputs": [
    {
     "data": {
      "image/png": "[encoded data removed]",
      "text/plain": [
       "<Figure size 640x480 with 1 Axes>"
      ]
     },
     "metadata": {},
     "output_type": "display_data"
    }
   ],
   "source": [
    "# despite the fact that uncertainties are expressed\n",
    "# in terms of normal distributions\n",
    "# the range of responsibility values is quite narrow\n",
    "# because of the crude nature of the calculations\n",
    "# which involve division by a the number of nodes\n",
    "\n",
    "A_r_mean = np.mean(A_responsibility)\n",
    "B_r_mean = np.mean(B_responsibility)\n",
    "\n",
    "categories = np.unique(A_responsibility + B_responsibility)\n",
    "A_counts = [A_responsibility.count(cat) for cat in categories]\n",
    "B_counts = [B_responsibility.count(cat) for cat in categories]\n",
    "\n",
    "bar_width = 0.35\n",
    "\n",
    "bar_positions_A = np.arange(len(categories))\n",
    "bar_positions_B = bar_positions_A + bar_width\n",
    "\n",
    "plt.bar(bar_positions_A, A_counts, width=bar_width, label='Company A')\n",
    "plt.bar(bar_positions_B, B_counts, width=bar_width, label='Company B')\n",
    "\n",
    "plt.xlabel('Responsibility score')\n",
    "plt.ylabel('Count')\n",
    "plt.title('Company blame distributions (means: A=' + str(A_r_mean) + ', B=' + str(B_r_mean) + ')')\n",
    "\n",
    "plt.xticks(bar_positions_A + bar_width / 2, categories)\n",
    "plt.legend()\n",
    "\n",
    "plt.show()\n"
   ]
  }
 ],
 "metadata": {
  "kernelspec": {
   "display_name": "causal_pyro",
   "language": "python",
   "name": "python3"
  },
  "language_info": {
   "codemirror_mode": {
    "name": "ipython",
    "version": 3
   },
   "file_extension": ".py",
   "mimetype": "text/x-python",
   "name": "python",
   "nbconvert_exporter": "python",
   "pygments_lexer": "ipython3",
   "version": "3.10.6"
  },
  "orig_nbformat": 4
 },
 "nbformat": 4,
 "nbformat_minor": 2
}

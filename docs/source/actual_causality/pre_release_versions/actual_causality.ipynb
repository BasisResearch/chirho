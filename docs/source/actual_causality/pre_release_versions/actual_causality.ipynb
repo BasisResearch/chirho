{
 "cells": [
  {
   "attachments": {},
   "cell_type": "markdown",
   "metadata": {},
   "source": [
    "# Actual Causality: the modified Halpern-Pearl definition"
   ]
  },
  {
   "attachments": {},
   "cell_type": "markdown",
   "metadata": {},
   "source": [
    "**Summary**\n",
    "\n",
    "Here we show how the tools made available within Causal Pyro  TODO: CHANGE NAME(?) can be used to implement the notion of actual causality developed by Halpern and Pearl (see J. Halpern, *Actual Causality*, 2016), and illustrate its workings by replicating a few key examples from the book."
   ]
  },
  {
   "attachments": {},
   "cell_type": "markdown",
   "metadata": {},
   "source": [
    "**Outline**\n",
    "\n",
    "[Intuitions](##intuitions)\n",
    "    \n",
    "[Formalization](#formalization)\n",
    "\n",
    "- [Structural causal models](#structural-causal-models)\n",
    "\n",
    "- [Halpern-Pearl modified definition of actual causality](#halpern-pearl-modified-definition-of-actual-causality)\n",
    "\n",
    "[Implementation](#implementation)\n",
    "\n",
    "[Examples](#examples)\n",
    "\n",
    "- [Comments on example selection](#comments-on-example-selection)\n",
    "  \n",
    "- [Stone-throwing](#stone-throwing)\n",
    "\n",
    "- [Forest fire](#forest-fire)\n",
    "\n",
    "- [Doctors](#doctors)\n",
    "\n",
    "- [Friendly fire](#friendly-fire)\n",
    "\n",
    "\n",
    "\n"
   ]
  },
  {
   "attachments": {},
   "cell_type": "markdown",
   "metadata": {},
   "source": [
    "## Intuitions"
   ]
  },
  {
   "attachments": {},
   "cell_type": "markdown",
   "metadata": {},
   "source": [
    "Actual causality (sometimes called **token causality** or **specific causality**) is usually contrasted with type causality (sometimes called **general causality**). While the latter is concerned with general statements (such as \"smoking causes cancer\"), actual causality focuses on particular events. For illustration, consider the following causality-related questions:\n",
    "\n",
    "- **Friendly Fire**: On March 24, 2002, A B-52 bomber fired a Joint Direct Attack Munition at a US battalion command post, killing three and injuring twenty special forces soldiers. Out of multiple potential contributing factors, which were **actually** responsible for the incident?\n",
    "  \n",
    "- **Schizophrenia** : The disease arises from the interaction between multiple genetic and environmental factors. Given a particular patient and what we know about them, which of these factors **actually** caused her state?\n",
    "  \n",
    "- **Explainable AI**: Your loan application has been refused. The bank representative informs you the decision was made using predictive modeling to estimate the probability of default. They give you a list of various factors considered in the prediction. But which of these factors **actually** resulted in the rejection, and what were their contributions?\n",
    "  \n",
    "These are questions about **actual causality**. While having answers to such questions is not directly useful for prediction tasks, they are useful for understanding how we can prevent undesirable outcomes similar to ones that we have observed or promote the occurrence of desirable outcomes in contexts similar to the ones in which they had been observed. These context-sensitive causality questions are also an essential element of blame and responsibility assignments, and of at least one prominent account of the notion of explanation (all of which will be explored in other notebooks). TODO add links\n",
    "\n",
    "The general intuition behind the notion of actual causality that we will focus on is that a certain state of antecedent nodes is the cause of a given state of the consequent nodes if there is a part of the actual reality such that if it is kept fixed at what it actually is, and we intervened on the antecedent nodes to be in a different state, the consequent nodes would no longer be in the observed states. A proper explication of this notion requires the context of structural causal models -  we first explain what these are, and then move on to the definition."
   ]
  },
  {
   "attachments": {},
   "cell_type": "markdown",
   "metadata": {},
   "source": [
    "## Formalization "
   ]
  },
  {
   "attachments": {},
   "cell_type": "markdown",
   "metadata": {},
   "source": [
    "### Structural causal models"
   ]
  },
  {
   "attachments": {},
   "cell_type": "markdown",
   "metadata": {},
   "source": [
    "While statistical information might help address questions of actual causality, is not sufficient.  One requires causal theories that explain how the relevant aspects of the world function, as well as information about the actual facts pertaining to the specific case. For this reason, the notion on which we focus in this notebook is formulated within the framework of structural causal models, which can represent such information.\n",
    "\n",
    "The notion is defined in the context of a deterministic structural causal model (SCMs). One major component thereof is a selection of **variables**. For instance, in a very simple model for a forest-fire problem, we might consider a model with three endogenous binary variables: $FF$ (forest fire), $L$ (lightning), and $MD$ (match dropped) whose values are determined by the values of other variables, and two exogenous noise variables $U_{MD}$ and $U_L$ that determine the values of $MD$ and $L$. Moreover, some of those variables/nodes are connected by means of directed **edges**. For instance, in the example at hand, the model contains two edges that go from $U_MD$ to $MD$ and from $U_L$ to $L$ respectively, and two edges that go from $L$ to $FF$ and from $MD$ to $FF$. Each influence is associated with a **structural equation** - for instance, $FF = max(L, MD)$ indicates that a forest fire occurs if either of the two factors occurs. SCMs come also with a **context**, which is the values of **exogenous variables** whose values are not determined by the structural equations, but rather by factors outside the model. In our example, one context might be that both a match has been dropped and a lightning occurred.\n",
    "\n",
    "More formally, a causal model $M$ is a tuple $\\langle S, F\\rangle$, where:\n",
    "\n",
    "- $S$ is a **signature**, that is a tuple $\\langle U, V, R\\rangle$, where $U$ is a set of exogenous variables, $V$ is a set of endogenous variables and $R: U \\cup V \\mapsto R(Y)$, where $R(Y)\\neq \\emptyset$, that is $R$ assigns non-empty ranges to exogenous and endogenous variables.\n",
    "\n",
    "- To each endogenous $X\\in V$, $F$ assigns a function $F_X$, which maps the cross-product of ranges of all variables other than $X$ to $R(X)$. In other words, $F_X$ determines the value of $X$ given the values of other variables in the model (some of them might be redundant in a given equation). The intuition is that these functions correspond to structural equations of the form $X = F_X(U, V)$ which are to be read from right to left: if the values of $U\\cup V$ are fixed to be such-and-such, say $\\vec{u}$ and $\\vec{v}$, this causes $X$ to take the value $F_X(\\vec{u}, \\vec{v})$.\n",
    "\n",
    "A **deterministic causal model** (also called **causal setting**), $\\langle M, \\vec{u}\\rangle$ is a causal model $M$ together with fixed settings $\\vec{u}$ of its exogenous variables $U$. To intervene, say, to make $Y$ have value $y$, is to replace the structural equation for $Y$ of the form $Y = F_Y(U, V)$ with $Y = y$. $\\langle M, \\vec{u}\\rangle \\models [Y \\leftarrow y](X = x)$ means: in the deterministic model obtained from $\\langle M, \\vec{u}\\rangle$ by intervening on $Y$ to have value $y$ $X$ has value $x$. Sometimes, instead of $X = x$, one might be interested in a more general claim $\\varphi$ involving potentially multiple variables, in which case the notation is $\\langle M, \\vec{u}\\rangle \\models [Y \\leftarrow y](\\varphi)$. "
   ]
  },
  {
   "attachments": {},
   "cell_type": "markdown",
   "metadata": {},
   "source": [
    "## Halpern-Pearl modified definition of actual causality"
   ]
  },
  {
   "attachments": {},
   "cell_type": "markdown",
   "metadata": {},
   "source": [
    "It is important to recognize that the straightforward counterfactual strategy, which asks whether the event would have occurred if the antecedent had not taken place, is inadequate as a definition of actual causality. A simple example can help illustrate this point. Suppose I throw a stone, which hits and shatters a bottle. However, just a second later, Bill also throws a stone at the bottle but misses, solely because the bottle was already shattered by my stone. In this scenario, the intuition is that my throw is the cause of the bottle shattering, even though the bottle would still have shattered if I hadn't thrown the stone. \n",
    "This highlights the need for a more elaborate account that considers the actual state, taking into consideration the fact that Bill's stone did not, in fact, hit the bottle. One such account involves the following definition of actual causality:\n",
    "\n",
    "Given an SCM $M$ and a vector of its exogenous variable settings $\\vec{u}$ we'll write $(M, \\vec{u})\\models [ \\vec{Y} \\leftarrow \\vec{y}]\\psi$ just in case $\\psi$ holds in $(M',\\vec{u})$, where $M'$ is the intervened model obtained by replacing the structural equation(s) for $\\vec{Y}$ in $M$ with $\\vec{Y_i} = \\vec{y_i}$. \n",
    "\n",
    "We say that $\\vec{X}=\\vec{x}$ is an actual cause of $\\varphi$ in $(M,\\vec{u})$ just in case:\n",
    "\n",
    "AC1. Factivity: $(M, \\vec{u}) \\models [\\vec{X} = \\vec{x} \\wedge \\varphi]$\n",
    "\n",
    "AC2. Necessity:\n",
    "\n",
    "$\\exists \\vec{W}, \\vec{x}'(M, \\vec{u})\\models [\\vec{X} \\leftarrow \\vec{x}', \\vec{W} = \\vec{w}^{\\star}]   \\neg \\varphi$,\n",
    "where $\\vec{w}^\\star$ are the actual values of $\\vec{W}$, i.e. $(M, \\vec{u}) \\models \\vec{W} = \\vec{w}^\\star$\n",
    "\n",
    "AC3. Minimality: $\\vec{X}$ is a subset-minimal set of potential causes satisfying AC2\n",
    "\n",
    "AC1 requires that both the antecedent and the consequent hold. The intuition behind AC2 is that for $\\vec{X}=\\vec{x}$ to be the actual cause of $\\varphi$, there needs to be a vector of witness nodes $\\vec{W}$ and a vector $\\vec{x'}$ of *alternative* settings of $\\vec{X}$ such that if $\\vec{W}$ are intervened to have their actual values $\\vec{w^\\star}$, and $\\vec{X}$ are intervened to have values $\\vec{x'}$, $\\varphi$ no longer holds in the resulting model. AC3 requires that the antecedent should be a minimal one satisfying AC2."
   ]
  },
  {
   "attachments": {},
   "cell_type": "markdown",
   "metadata": {},
   "source": [
    "## Implementation\n"
   ]
  },
  {
   "cell_type": "code",
   "execution_count": 1,
   "metadata": {},
   "outputs": [],
   "source": [
    "import functools\n",
    "\n",
    "import numpy as np\n",
    "from itertools import combinations\n",
    "\n",
    "import torch\n",
    "from typing import Dict, List, Optional,  Union, Callable, Any\n",
    "\n",
    "import pandas as pd\n",
    "\n",
    "import pyro\n",
    "import pyro.distributions as dist\n",
    "\n",
    "from chirho.indexed.ops import IndexSet, gather, indices_of, scatter\n",
    "from chirho.interventional.handlers import do\n",
    "from chirho.counterfactual.handlers.counterfactual import MultiWorldCounterfactual, Preemptions, BiasedPreemptions\n",
    "from chirho.observational.handlers import condition"
   ]
  },
  {
   "attachments": {},
   "cell_type": "markdown",
   "metadata": {},
   "source": [
    "Here and in later notebooks, instead of full enumeration, we will be approximating the answers with sampling. In particular, answering an actual causality query requires investigating the consequences of intervening on all possible witness candidate nodes in all possible combinations to have the values they actually have in a given model. While complete enumeration would work for smaller models, we implement a more general approximate method, which draws random sets of witness nodes multiple times. For smaller models (as the one used in our examples), complete coverage of all possible combinations is easily obtained. For larger models complete enumeration becomes less feasible.\n",
    "\n",
    "An SCM in this context is represented by a Pyro model, where the exogenous variables are stochastic and introduced using `pyro.sample`, and all the endogenous variables are determined by these, and introduced by `pyro.deterministic` (read on for examples). For simplicity we also assume the antecedent nodes are binary (this assumption can be weakened to them being discrete), and that the consequent nodes are discrete. \n",
    "\n",
    "The key role in this implementation is played by (1) the biased preemption handler, , and (2) the preemption handler, which is used to randomly select some of the witness candidate nodes and preempt them - in our case, with their observed values.\n",
    "\n",
    "The key moves are in our `def __call__`:\n",
    "\n",
    "- `MutliWorldCounterfactual` allows us to keep track of all the scenarios, keeping split records thereof as values at various sites.\n",
    "\n",
    "- `do`  is a handler that intervenes on selected variables to have the specified values. We use it to fix the *counterfactual* combination of values for the antecedent nodes.\n",
    "  \n",
    "- `BiasedPreemptions` is an effect handler that randomly preempts counterfactual interventions on antecedent nodes with an assymetric categorical distribution, so that the resulting log probabilities prefer smaller antecedent sets\n",
    "  \n",
    "- `Preemptions`   is a messenger that fixes a random selection of (witness) nodes to the results of certain actions - in our case, these actions will correspond to the factual values of the variables.\n",
    "  \n",
    "- `pyro.condition` is used to constrain the values of some variables. We use it to fix the values of the exogenous variables. As in the models that we use as examples they are causally upstream from all the other variables, this also fixes the values of the endogenous variables.\n",
    "    \n",
    "- `pyro.poutine.trace` is a messenger that keeps track of sites visited for downstream use.\n",
    "\n"
   ]
  },
  {
   "cell_type": "code",
   "execution_count": 2,
   "metadata": {},
   "outputs": [],
   "source": [
    "class HalpernPearlModifiedApproximate:\n",
    "\n",
    "    def __init__(\n",
    "        self, \n",
    "        model: Callable,\n",
    "        counterfactual_antecedents: Dict[str, torch.Tensor],\n",
    "        outcome: str,\n",
    "        witness_candidates: List[str],\n",
    "        observations: Optional[Dict[str, torch.Tensor]] = None\n",
    "        ):\n",
    "        \n",
    "        if observations is None:\n",
    "            observations = {}\n",
    "\n",
    "        self.model = model\n",
    "        self.counterfactual_antecedents = counterfactual_antecedents\n",
    "        self.outcome = outcome\n",
    "        self.witness_candidates = witness_candidates\n",
    "        self.observations = observations\n",
    "\n",
    "        self.antecedent_preemptions = {antecedent: functools.partial(self.preempt_with_factual,\n",
    "                                                                     antecedents = [antecedent]) for\n",
    "                                                                     antecedent in self.counterfactual_antecedents.keys()}\n",
    "    \n",
    "        self.witness_preemptions = {candidate: functools.partial(self.preempt_with_factual,\n",
    "                                             antecedents = self.counterfactual_antecedents) for \n",
    "                                             candidate in self.witness_candidates}\n",
    "        \n",
    "    @staticmethod   \n",
    "    def preempt_with_factual(value: torch.Tensor, *,\n",
    "                          antecedents: List[str] = None, event_dim: int = 0):\n",
    "    \n",
    "        if antecedents is None:\n",
    "            antecedents = []\n",
    "\n",
    "        antecedents = [a for a in antecedents if a in indices_of(value, event_dim=event_dim)]\n",
    "\n",
    "        factual_value = gather(value, IndexSet(**{antecedent: {0} for antecedent in antecedents}),\n",
    "                                event_dim=event_dim)\n",
    "            \n",
    "        return scatter({\n",
    "            IndexSet(**{antecedent: {0} for antecedent in antecedents}): factual_value,\n",
    "            IndexSet(**{antecedent: {1} for antecedent in antecedents}): factual_value,\n",
    "        }, event_dim=event_dim)\n",
    "     \n",
    "        \n",
    "    def __call__(self, *args, **kwargs):\n",
    "        with MultiWorldCounterfactual():\n",
    "            with do(actions=self.counterfactual_antecedents):\n",
    "                # the last element of the tensor is the factual case (preempted)\n",
    "                with BiasedPreemptions(actions = self.antecedent_preemptions, bias = .1, prefix = \"__split_\"):            \n",
    "                    with Preemptions(actions = self.witness_preemptions):\n",
    "                        with condition(data={k: torch.as_tensor(v) for k, v in self.observations.items()}):\n",
    "                            with pyro.poutine.trace() as self.trace:\n",
    "                                self.consequent = self.model(*args, **kwargs)[self.outcome]\n",
    "                                self.intervened_consequent = gather(self.consequent, IndexSet(**{ant: {1} for ant in self.counterfactual_antecedents}))\n",
    "                                self.observed_consequent = gather(self.consequent, IndexSet(**{ant: {0} for ant in self.counterfactual_antecedents}))\n",
    "                                self.consequent_differs = self.intervened_consequent != self.observed_consequent               \n",
    "                                pyro.deterministic(\"consequent_differs_binary\", self.consequent_differs, event_dim = 0) #feels inelegant\n",
    "                                pyro.factor(\"consequent_differs\", torch.where(self.consequent_differs, torch.tensor(0.0), torch.tensor(-1e8)))\n"
   ]
  },
  {
   "cell_type": "code",
   "execution_count": 3,
   "metadata": {},
   "outputs": [],
   "source": [
    "# this will explore the trace once we run inference on the model\n",
    "\n",
    "def get_table(nodes, antecedents, witness_candidates):\n",
    "    \n",
    "    values_table = {}\n",
    "\n",
    "    for antecedent in antecedents:\n",
    "        values_table[antecedent] = nodes[antecedent][\"value\"].squeeze().tolist()\n",
    "        values_table['preempted_' + antecedent] = nodes['__split_' + antecedent][\"value\"].squeeze().tolist()\n",
    "        values_table['preempted_' + antecedent + '_log_prob'] = nodes['__split_' + antecedent][\"fn\"].log_prob(nodes['__split_' + antecedent][\"value\"]).squeeze().tolist()\n",
    "\n",
    "\n",
    "    for candidate in witness_candidates:\n",
    "        _values = nodes[candidate][\"value\"].squeeze().tolist()\n",
    "        # TODO: uncomment in the final version (?) \n",
    "        #values_table[candidate + '0'] = _values[0]\n",
    "        #values_table[candidate + '1'] = _values[1]\n",
    "        values_table['fixed_factual_' + candidate] = nodes['__split_' + candidate][\"value\"].squeeze().tolist()\n",
    " \n",
    "    # TODO uncomment in the final version (?)\n",
    "    #values_table[consequent + '0'] = nodes[consequent][\"value\"].squeeze().tolist()[0]\n",
    "    #values_table[consequent + '1'] = nodes[consequent][\"value\"].squeeze().tolist()[1]\n",
    "    values_table['consequent_differs_binary'] = nodes['consequent_differs_binary'][\"value\"].squeeze().tolist()\n",
    "    values_table['consequent_log_prob'] = nodes['consequent_differs'][\"fn\"].log_prob(nodes['consequent_differs'][\"value\"]).squeeze().tolist()\n",
    "\n",
    "    if isinstance(values_table['consequent_log_prob'], float):\n",
    "        values_df = pd.DataFrame([values_table])\n",
    "    else:\n",
    "        values_df = pd.DataFrame(values_table)\n",
    "    \n",
    "\n",
    "    summands = ['preempted_' + antecedent + '_log_prob' for antecedent in antecedents]\n",
    "    summands.append('consequent_log_prob')\n",
    "    values_df[\"sum_log_prob\"] =  values_df[summands].sum(axis = 1) \n",
    "    values_df.drop_duplicates(inplace = True)\n",
    "    values_df.sort_values(by = \"sum_log_prob\", inplace = True, ascending = False)\n",
    "\n",
    "    return values_df.reset_index(drop = True)"
   ]
  },
  {
   "cell_type": "code",
   "execution_count": 4,
   "metadata": {},
   "outputs": [],
   "source": [
    "# this reduces the actual causality check to checking a property of the resulting sums of log probabilities\n",
    "# for the antecedent preemption and the consequent differs nodes\n",
    "\n",
    "def ac_check(hpm,nodes):\n",
    "\n",
    "     antecedents = list(hpm.counterfactual_antecedents.keys())\n",
    "     witness_candidates=  hpm.witness_candidates\n",
    "     consequent= hpm.outcome\n",
    "\n",
    "     table = get_table(nodes,\n",
    "          antecedents,\n",
    "          witness_candidates)\n",
    "\n",
    "     if table['sum_log_prob'][0] <= -1e8:\n",
    "          print(\"No resulting difference to the consequent in the sample.\")\n",
    "          return\n",
    "     \n",
    "     winner = table.iloc[0]\n",
    "     active_antecedents = []\n",
    "     for antecedent in antecedents:\n",
    "          if winner['preempted_'+antecedent] == 0:\n",
    "               active_antecedents.append(antecedent)\n",
    "\n",
    "     ac_flag = set(active_antecedents) == set(antecedents)\n",
    "        \n",
    "     if not ac_flag:\n",
    "          print(\"The antecedent set is not minimal.\")\n",
    "     else:\n",
    "          print(\"The antecedent set is an actual cause.\")\n",
    "\n",
    "     return ac_flag\n"
   ]
  },
  {
   "attachments": {},
   "cell_type": "markdown",
   "metadata": {},
   "source": [
    "## Examples"
   ]
  },
  {
   "attachments": {},
   "cell_type": "markdown",
   "metadata": {},
   "source": [
    "### Comments on example selection\n",
    "\n"
   ]
  },
  {
   "attachments": {},
   "cell_type": "markdown",
   "metadata": {},
   "source": [
    "For the sake of illustration, we reconstruct a few examples, which-with one exception (friendly fire incident)-come from Halpern's book. The selection is as follows:\n",
    "\n",
    "- **Stone throwing:** this is a classic, simple structure in which the but-for clause fails due to over-determination, but an actual causality claim holds.\n",
    "\n",
    "- **Forest fire:** one of the simplest structures illustrating conjunctions being actual causes, and how an event can be part of an actual cause without being an actual cause itself.\n",
    "\n",
    "- **Doctors:** a simple example illustrating the intransitivity of actual causality.\n",
    "\n",
    "- **Friendly fire incident:** a real-life example, to illustrate how the tools can be applied outside of a narrow selection of thought experiments.\n",
    "\n",
    "- **Voting:** this illustrates how on this approach a voter is only an actual cause if they can make a difference, but only part of an actual cause otherwise, which motivates reflection on responsibility and blame, to which we will come back in other notebooks #dTODO add links"
   ]
  },
  {
   "attachments": {},
   "cell_type": "markdown",
   "metadata": {},
   "source": [
    "### Stone-throwing"
   ]
  },
  {
   "attachments": {},
   "cell_type": "markdown",
   "metadata": {},
   "source": [
    "Sally and Billy pick up stones and throw them at a bottle. Sally's stone gets there first, shattering the bottle. Both throws are perfectly accurate, so Billy's stone would have shattered the bottle had it not been preempted by Sally’s throw. (see *Actual Causality*, p. 3 and multiple further points at which the example is discussed in the book)."
   ]
  },
  {
   "cell_type": "code",
   "execution_count": 5,
   "metadata": {},
   "outputs": [],
   "source": [
    "@pyro.infer.config_enumerate\n",
    "def stones_model():        \n",
    "    prob_sally_throws = pyro.sample(\"prob_sally_throws\", dist.Beta(1, 1))\n",
    "    prob_bill_throws = pyro.sample(\"prob_bill_throws\", dist.Beta(1, 1))\n",
    "    prob_sally_hits = pyro.sample(\"prob_sally_hits\", dist.Beta(1, 1))\n",
    "    prob_bill_hits = pyro.sample(\"prob_bill_hits\", dist.Beta(1, 1))\n",
    "    prob_bottle_shatters_if_sally = pyro.sample(\"prob_bottle_shatters_if_sally\", dist.Beta(1, 1))\n",
    "    prob_bottle_shatters_if_bill = pyro.sample(\"prob_bottle_shatters_if_bill\", dist.Beta(1, 1))\n",
    "\n",
    "\n",
    "    sally_throws = pyro.sample(\"sally_throws\", dist.Bernoulli(prob_sally_throws))\n",
    "    bill_throws = pyro.sample(\"bill_throws\", dist.Bernoulli(prob_bill_throws))\n",
    "\n",
    "    new_shp = torch.where(sally_throws == 1,prob_sally_hits , 0.0)\n",
    "\n",
    "    sally_hits = pyro.sample(\"sally_hits\",dist.Bernoulli(new_shp))\n",
    "\n",
    "    new_bhp = torch.where(\n",
    "            (\n",
    "                bill_throws.bool()\n",
    "                & (~sally_hits.bool())\n",
    "            )\n",
    "            == 1,\n",
    "            prob_bill_hits,\n",
    "            torch.tensor(0.0),\n",
    "        )\n",
    "\n",
    "\n",
    "    bill_hits = pyro.sample(\"bill_hits\", dist.Bernoulli(new_bhp))\n",
    "\n",
    "    new_bsp = torch.where(\n",
    "            bill_hits.bool() == 1,\n",
    "            prob_bottle_shatters_if_bill,\n",
    "            torch.where(\n",
    "                sally_hits.bool() == 1,\n",
    "                prob_bottle_shatters_if_sally,\n",
    "                torch.tensor(0.0),\n",
    "            ),\n",
    "        )\n",
    "\n",
    "    bottle_shatters = pyro.sample(\n",
    "            \"bottle_shatters\", dist.Bernoulli(new_bsp)\n",
    "        )\n",
    "\n",
    "    return {\n",
    "            \"sally_throws\": sally_throws,\n",
    "            \"bill_throws\": bill_throws,\n",
    "            \"sally_hits\": sally_hits,\n",
    "            \"bill_hits\": bill_hits,\n",
    "            \"bottle_shatters\": bottle_shatters,\n",
    "        }\n",
    "\n",
    "stones_model.nodes = [\n",
    "            \"sally_throws\",\n",
    "            \"bill_throws\",\n",
    "            \"sally_hits\",\n",
    "            \"bill_hits\",\n",
    "            \"bottle_shatters\",\n",
    "        ]"
   ]
  },
  {
   "attachments": {},
   "cell_type": "markdown",
   "metadata": {},
   "source": [
    "We now instantiate the class, specifying the observations."
   ]
  },
  {
   "cell_type": "code",
   "execution_count": 6,
   "metadata": {},
   "outputs": [],
   "source": [
    "pyro.set_rng_seed(101)\n",
    "stonesHPM = HalpernPearlModifiedApproximate(\n",
    "    model = stones_model,\n",
    "    counterfactual_antecedents = {\"sally_throws\": 0},\n",
    "    outcome = \"bottle_shatters\",\n",
    "    witness_candidates = [\"bill_throws\", \"bill_hits\"],\n",
    "    observations = {\"prob_sally_throws\": 1, \n",
    "                    \"prob_bill_throws\": 1,\n",
    "                    \"prob_sally_hits\": 1,\n",
    "                    \"prob_bill_hits\": 1,\n",
    "                    \"prob_bottle_shatters_if_sally\": 1,\n",
    "                    \"prob_bottle_shatters_if_bill\": 1,\n",
    "                    \"sally_throws\": 1, \"bill_throws\": 1}\n",
    ")\n",
    "\n",
    "with pyro.poutine.trace() as trace:\n",
    "    stonesHPM()\n"
   ]
  },
  {
   "cell_type": "code",
   "execution_count": 7,
   "metadata": {},
   "outputs": [
    {
     "data": {
      "text/html": [
       "<div>\n",
       "<style scoped>\n",
       "    .dataframe tbody tr th:only-of-type {\n",
       "        vertical-align: middle;\n",
       "    }\n",
       "\n",
       "    .dataframe tbody tr th {\n",
       "        vertical-align: top;\n",
       "    }\n",
       "\n",
       "    .dataframe thead th {\n",
       "        text-align: right;\n",
       "    }\n",
       "</style>\n",
       "<table border=\"1\" class=\"dataframe\">\n",
       "  <thead>\n",
       "    <tr style=\"text-align: right;\">\n",
       "      <th></th>\n",
       "      <th>sally_throws</th>\n",
       "      <th>preempted_sally_throws</th>\n",
       "      <th>preempted_sally_throws_log_prob</th>\n",
       "      <th>fixed_factual_bill_hits</th>\n",
       "      <th>fixed_factual_bill_throws</th>\n",
       "      <th>consequent_differs_binary</th>\n",
       "      <th>consequent_log_prob</th>\n",
       "      <th>sum_log_prob</th>\n",
       "    </tr>\n",
       "  </thead>\n",
       "  <tbody>\n",
       "    <tr>\n",
       "      <th>0</th>\n",
       "      <td>1</td>\n",
       "      <td>0</td>\n",
       "      <td>-0.916291</td>\n",
       "      <td>1</td>\n",
       "      <td>0</td>\n",
       "      <td>True</td>\n",
       "      <td>0.0</td>\n",
       "      <td>-9.162907e-01</td>\n",
       "    </tr>\n",
       "    <tr>\n",
       "      <th>1</th>\n",
       "      <td>1</td>\n",
       "      <td>0</td>\n",
       "      <td>-0.916291</td>\n",
       "      <td>1</td>\n",
       "      <td>1</td>\n",
       "      <td>True</td>\n",
       "      <td>0.0</td>\n",
       "      <td>-9.162907e-01</td>\n",
       "    </tr>\n",
       "    <tr>\n",
       "      <th>2</th>\n",
       "      <td>1</td>\n",
       "      <td>1</td>\n",
       "      <td>-0.510826</td>\n",
       "      <td>0</td>\n",
       "      <td>0</td>\n",
       "      <td>False</td>\n",
       "      <td>-100000000.0</td>\n",
       "      <td>-1.000000e+08</td>\n",
       "    </tr>\n",
       "    <tr>\n",
       "      <th>3</th>\n",
       "      <td>1</td>\n",
       "      <td>1</td>\n",
       "      <td>-0.510826</td>\n",
       "      <td>0</td>\n",
       "      <td>1</td>\n",
       "      <td>False</td>\n",
       "      <td>-100000000.0</td>\n",
       "      <td>-1.000000e+08</td>\n",
       "    </tr>\n",
       "    <tr>\n",
       "      <th>4</th>\n",
       "      <td>1</td>\n",
       "      <td>1</td>\n",
       "      <td>-0.510826</td>\n",
       "      <td>1</td>\n",
       "      <td>1</td>\n",
       "      <td>False</td>\n",
       "      <td>-100000000.0</td>\n",
       "      <td>-1.000000e+08</td>\n",
       "    </tr>\n",
       "    <tr>\n",
       "      <th>5</th>\n",
       "      <td>1</td>\n",
       "      <td>1</td>\n",
       "      <td>-0.510826</td>\n",
       "      <td>1</td>\n",
       "      <td>0</td>\n",
       "      <td>False</td>\n",
       "      <td>-100000000.0</td>\n",
       "      <td>-1.000000e+08</td>\n",
       "    </tr>\n",
       "    <tr>\n",
       "      <th>6</th>\n",
       "      <td>1</td>\n",
       "      <td>0</td>\n",
       "      <td>-0.916291</td>\n",
       "      <td>0</td>\n",
       "      <td>1</td>\n",
       "      <td>False</td>\n",
       "      <td>-100000000.0</td>\n",
       "      <td>-1.000000e+08</td>\n",
       "    </tr>\n",
       "    <tr>\n",
       "      <th>7</th>\n",
       "      <td>1</td>\n",
       "      <td>0</td>\n",
       "      <td>-0.916291</td>\n",
       "      <td>0</td>\n",
       "      <td>0</td>\n",
       "      <td>False</td>\n",
       "      <td>-100000000.0</td>\n",
       "      <td>-1.000000e+08</td>\n",
       "    </tr>\n",
       "  </tbody>\n",
       "</table>\n",
       "</div>"
      ],
      "text/plain": [
       "   sally_throws  preempted_sally_throws  preempted_sally_throws_log_prob  \\\n",
       "0             1                       0                        -0.916291   \n",
       "1             1                       0                        -0.916291   \n",
       "2             1                       1                        -0.510826   \n",
       "3             1                       1                        -0.510826   \n",
       "4             1                       1                        -0.510826   \n",
       "5             1                       1                        -0.510826   \n",
       "6             1                       0                        -0.916291   \n",
       "7             1                       0                        -0.916291   \n",
       "\n",
       "   fixed_factual_bill_hits  fixed_factual_bill_throws  \\\n",
       "0                        1                          0   \n",
       "1                        1                          1   \n",
       "2                        0                          0   \n",
       "3                        0                          1   \n",
       "4                        1                          1   \n",
       "5                        1                          0   \n",
       "6                        0                          1   \n",
       "7                        0                          0   \n",
       "\n",
       "   consequent_differs_binary  consequent_log_prob  sum_log_prob  \n",
       "0                       True                  0.0 -9.162907e-01  \n",
       "1                       True                  0.0 -9.162907e-01  \n",
       "2                      False         -100000000.0 -1.000000e+08  \n",
       "3                      False         -100000000.0 -1.000000e+08  \n",
       "4                      False         -100000000.0 -1.000000e+08  \n",
       "5                      False         -100000000.0 -1.000000e+08  \n",
       "6                      False         -100000000.0 -1.000000e+08  \n",
       "7                      False         -100000000.0 -1.000000e+08  "
      ]
     },
     "execution_count": 7,
     "metadata": {},
     "output_type": "execute_result"
    }
   ],
   "source": [
    "with pyro.poutine.trace() as basic_trace_stones:\n",
    "    with pyro.plate(\"runs\", 1000):\n",
    "        stonesHPM()\n",
    "\n",
    "btr_stones= basic_trace_stones.trace.nodes\n",
    "\n",
    "get_table(btr_stones, antecedents = ['sally_throws'], witness_candidates=  ['bill_hits','bill_throws'])"
   ]
  },
  {
   "cell_type": "code",
   "execution_count": 8,
   "metadata": {},
   "outputs": [
    {
     "name": "stdout",
     "output_type": "stream",
     "text": [
      "The antecedent set is an actual cause.\n"
     ]
    },
    {
     "data": {
      "text/plain": [
       "True"
      ]
     },
     "execution_count": 8,
     "metadata": {},
     "output_type": "execute_result"
    }
   ],
   "source": [
    "ac_check(stonesHPM, btr_stones)"
   ]
  },
  {
   "attachments": {},
   "cell_type": "markdown",
   "metadata": {},
   "source": [
    "The existential causality claim (*is there a witness set such that if it is intervened to be fixed at the actual values, an intervention on the antecedent to have a different value would cause the consequent to have a different value?*) holds just in case consequent differs at list ones. This information is contained in `existential_but_for`."
   ]
  },
  {
   "cell_type": "markdown",
   "metadata": {},
   "source": [
    "We now can use `ac_minimality_check` to check further conditions."
   ]
  },
  {
   "cell_type": "code",
   "execution_count": 9,
   "metadata": {},
   "outputs": [
    {
     "data": {
      "text/html": [
       "<div>\n",
       "<style scoped>\n",
       "    .dataframe tbody tr th:only-of-type {\n",
       "        vertical-align: middle;\n",
       "    }\n",
       "\n",
       "    .dataframe tbody tr th {\n",
       "        vertical-align: top;\n",
       "    }\n",
       "\n",
       "    .dataframe thead th {\n",
       "        text-align: right;\n",
       "    }\n",
       "</style>\n",
       "<table border=\"1\" class=\"dataframe\">\n",
       "  <thead>\n",
       "    <tr style=\"text-align: right;\">\n",
       "      <th></th>\n",
       "      <th>sally_throws</th>\n",
       "      <th>preempted_sally_throws</th>\n",
       "      <th>preempted_sally_throws_log_prob</th>\n",
       "      <th>bill_throws</th>\n",
       "      <th>preempted_bill_throws</th>\n",
       "      <th>preempted_bill_throws_log_prob</th>\n",
       "      <th>fixed_factual_bill_hits</th>\n",
       "      <th>consequent_differs_binary</th>\n",
       "      <th>consequent_log_prob</th>\n",
       "      <th>sum_log_prob</th>\n",
       "    </tr>\n",
       "  </thead>\n",
       "  <tbody>\n",
       "    <tr>\n",
       "      <th>0</th>\n",
       "      <td>1</td>\n",
       "      <td>0</td>\n",
       "      <td>-0.916291</td>\n",
       "      <td>1</td>\n",
       "      <td>1</td>\n",
       "      <td>-0.510826</td>\n",
       "      <td>1</td>\n",
       "      <td>True</td>\n",
       "      <td>0.0</td>\n",
       "      <td>-1.427116e+00</td>\n",
       "    </tr>\n",
       "    <tr>\n",
       "      <th>1</th>\n",
       "      <td>1</td>\n",
       "      <td>0</td>\n",
       "      <td>-0.916291</td>\n",
       "      <td>1</td>\n",
       "      <td>0</td>\n",
       "      <td>-0.916291</td>\n",
       "      <td>0</td>\n",
       "      <td>True</td>\n",
       "      <td>0.0</td>\n",
       "      <td>-1.832581e+00</td>\n",
       "    </tr>\n",
       "    <tr>\n",
       "      <th>2</th>\n",
       "      <td>1</td>\n",
       "      <td>0</td>\n",
       "      <td>-0.916291</td>\n",
       "      <td>1</td>\n",
       "      <td>0</td>\n",
       "      <td>-0.916291</td>\n",
       "      <td>1</td>\n",
       "      <td>True</td>\n",
       "      <td>0.0</td>\n",
       "      <td>-1.832581e+00</td>\n",
       "    </tr>\n",
       "    <tr>\n",
       "      <th>3</th>\n",
       "      <td>1</td>\n",
       "      <td>1</td>\n",
       "      <td>-0.510826</td>\n",
       "      <td>1</td>\n",
       "      <td>1</td>\n",
       "      <td>-0.510826</td>\n",
       "      <td>0</td>\n",
       "      <td>False</td>\n",
       "      <td>-100000000.0</td>\n",
       "      <td>-1.000000e+08</td>\n",
       "    </tr>\n",
       "    <tr>\n",
       "      <th>4</th>\n",
       "      <td>1</td>\n",
       "      <td>1</td>\n",
       "      <td>-0.510826</td>\n",
       "      <td>1</td>\n",
       "      <td>1</td>\n",
       "      <td>-0.510826</td>\n",
       "      <td>1</td>\n",
       "      <td>False</td>\n",
       "      <td>-100000000.0</td>\n",
       "      <td>-1.000000e+08</td>\n",
       "    </tr>\n",
       "    <tr>\n",
       "      <th>5</th>\n",
       "      <td>1</td>\n",
       "      <td>1</td>\n",
       "      <td>-0.510826</td>\n",
       "      <td>1</td>\n",
       "      <td>0</td>\n",
       "      <td>-0.916291</td>\n",
       "      <td>0</td>\n",
       "      <td>False</td>\n",
       "      <td>-100000000.0</td>\n",
       "      <td>-1.000000e+08</td>\n",
       "    </tr>\n",
       "    <tr>\n",
       "      <th>6</th>\n",
       "      <td>1</td>\n",
       "      <td>1</td>\n",
       "      <td>-0.510826</td>\n",
       "      <td>1</td>\n",
       "      <td>0</td>\n",
       "      <td>-0.916291</td>\n",
       "      <td>1</td>\n",
       "      <td>False</td>\n",
       "      <td>-100000000.0</td>\n",
       "      <td>-1.000000e+08</td>\n",
       "    </tr>\n",
       "    <tr>\n",
       "      <th>7</th>\n",
       "      <td>1</td>\n",
       "      <td>0</td>\n",
       "      <td>-0.916291</td>\n",
       "      <td>1</td>\n",
       "      <td>1</td>\n",
       "      <td>-0.510826</td>\n",
       "      <td>0</td>\n",
       "      <td>False</td>\n",
       "      <td>-100000000.0</td>\n",
       "      <td>-1.000000e+08</td>\n",
       "    </tr>\n",
       "  </tbody>\n",
       "</table>\n",
       "</div>"
      ],
      "text/plain": [
       "   sally_throws  preempted_sally_throws  preempted_sally_throws_log_prob  \\\n",
       "0             1                       0                        -0.916291   \n",
       "1             1                       0                        -0.916291   \n",
       "2             1                       0                        -0.916291   \n",
       "3             1                       1                        -0.510826   \n",
       "4             1                       1                        -0.510826   \n",
       "5             1                       1                        -0.510826   \n",
       "6             1                       1                        -0.510826   \n",
       "7             1                       0                        -0.916291   \n",
       "\n",
       "   bill_throws  preempted_bill_throws  preempted_bill_throws_log_prob  \\\n",
       "0            1                      1                       -0.510826   \n",
       "1            1                      0                       -0.916291   \n",
       "2            1                      0                       -0.916291   \n",
       "3            1                      1                       -0.510826   \n",
       "4            1                      1                       -0.510826   \n",
       "5            1                      0                       -0.916291   \n",
       "6            1                      0                       -0.916291   \n",
       "7            1                      1                       -0.510826   \n",
       "\n",
       "   fixed_factual_bill_hits  consequent_differs_binary  consequent_log_prob  \\\n",
       "0                        1                       True                  0.0   \n",
       "1                        0                       True                  0.0   \n",
       "2                        1                       True                  0.0   \n",
       "3                        0                      False         -100000000.0   \n",
       "4                        1                      False         -100000000.0   \n",
       "5                        0                      False         -100000000.0   \n",
       "6                        1                      False         -100000000.0   \n",
       "7                        0                      False         -100000000.0   \n",
       "\n",
       "   sum_log_prob  \n",
       "0 -1.427116e+00  \n",
       "1 -1.832581e+00  \n",
       "2 -1.832581e+00  \n",
       "3 -1.000000e+08  \n",
       "4 -1.000000e+08  \n",
       "5 -1.000000e+08  \n",
       "6 -1.000000e+08  \n",
       "7 -1.000000e+08  "
      ]
     },
     "execution_count": 9,
     "metadata": {},
     "output_type": "execute_result"
    }
   ],
   "source": [
    "# let's compare it to a case in which \n",
    "# the antecedent is not minimal\n",
    "pyro.set_rng_seed(101)\n",
    "stones_redundant_HPM = HalpernPearlModifiedApproximate(\n",
    "    model = stones_model,\n",
    "    counterfactual_antecedents = {\"sally_throws\": 0, \"bill_throws\": 0},\n",
    "    outcome = \"bottle_shatters\",\n",
    "    witness_candidates = [\"bill_hits\"], #note \"bill_throws\" is no longer a witness candidate\n",
    "    observations = {\"prob_sally_throws\": 1, \n",
    "                    \"prob_bill_throws\": 1,\n",
    "                    \"prob_sally_hits\": 1,\n",
    "                    \"prob_bill_hits\": 1,\n",
    "                    \"prob_bottle_shatters_if_sally\": 1,\n",
    "                    \"prob_bottle_shatters_if_bill\": 1,\n",
    "                    \"sally_throws\": 1, \"bill_throws\": 1}\n",
    ")\n",
    "\n",
    "\n",
    "with pyro.poutine.trace() as basic_trace__redundant_stones:\n",
    "    with pyro.plate(\"runs\", 1000):\n",
    "        stones_redundant_HPM()\n",
    "\n",
    "btr_redundant_stones= basic_trace__redundant_stones.trace.nodes\n",
    "\n",
    "btr_redundant_stones.keys()\n",
    "\n",
    "get_table(btr_redundant_stones, antecedents = ['sally_throws', 'bill_throws'], witness_candidates=  ['bill_hits'])\n"
   ]
  },
  {
   "cell_type": "code",
   "execution_count": 10,
   "metadata": {},
   "outputs": [
    {
     "name": "stdout",
     "output_type": "stream",
     "text": [
      "The antecedent set is not minimal.\n"
     ]
    },
    {
     "data": {
      "text/plain": [
       "False"
      ]
     },
     "execution_count": 10,
     "metadata": {},
     "output_type": "execute_result"
    }
   ],
   "source": [
    "ac_check(stones_redundant_HPM, btr_redundant_stones)"
   ]
  },
  {
   "attachments": {},
   "cell_type": "markdown",
   "metadata": {},
   "source": [
    "### Forest fire"
   ]
  },
  {
   "attachments": {},
   "cell_type": "markdown",
   "metadata": {},
   "source": [
    "In this simplified model, a forest fire was caused by lightning or an arsonist, so we use three endogenous variables, and two exogenous variables corresponding to the two factors. In the conjunctive model,\n",
    "both of the factors have to be present for the fire to start. In the disjunctive model, each of them alone is sufficient."
   ]
  },
  {
   "cell_type": "code",
   "execution_count": 11,
   "metadata": {},
   "outputs": [],
   "source": [
    "def ff_conjunctive():\n",
    "    u_match_dropped = pyro.sample(\"u_match_dropped\", dist.Bernoulli(0.5))\n",
    "    u_lightning = pyro.sample(\"u_lightning\", dist.Bernoulli(0.5))\n",
    "\n",
    "    match_dropped = pyro.deterministic(\"match_dropped\",\n",
    "                                       u_match_dropped, event_dim=0)\n",
    "    lightning = pyro.deterministic(\"lightning\", u_lightning, event_dim=0)\n",
    "    forest_fire = pyro.deterministic(\"forest_fire\", torch.logical_and(match_dropped, lightning), event_dim=0).float()\n",
    "\n",
    "    return {\"match_dropped\": match_dropped, \"lightning\": lightning,\n",
    "            \"forest_fire\": forest_fire}"
   ]
  },
  {
   "cell_type": "code",
   "execution_count": 12,
   "metadata": {},
   "outputs": [],
   "source": [
    "def ff_disjunctive():\n",
    "    u_match_dropped = pyro.sample(\"u_match_dropped\", dist.Bernoulli(0.5))\n",
    "    u_lightning = pyro.sample(\"u_lightning\", dist.Bernoulli(0.5))\n",
    "\n",
    "    match_dropped = pyro.deterministic(\"match_dropped\",\n",
    "                                       u_match_dropped, event_dim=0)\n",
    "    lightning = pyro.deterministic(\"lightning\", u_lightning, event_dim=0)\n",
    "    forest_fire = pyro.deterministic(\"forest_fire\", torch.logical_or(match_dropped, lightning), event_dim=0).float()\n",
    "\n",
    "    return {\"match_dropped\": match_dropped, \"lightning\": lightning,\n",
    "            \"forest_fire\": forest_fire}\n"
   ]
  },
  {
   "cell_type": "code",
   "execution_count": 13,
   "metadata": {},
   "outputs": [
    {
     "name": "stdout",
     "output_type": "stream",
     "text": [
      "The antecedent set is an actual cause.\n"
     ]
    },
    {
     "data": {
      "text/plain": [
       "True"
      ]
     },
     "execution_count": 13,
     "metadata": {},
     "output_type": "execute_result"
    }
   ],
   "source": [
    "# In the conjunctive model \n",
    "# Each of the two factors is a but-for cause\n",
    " \n",
    "ff_conjunctiveHPM = HalpernPearlModifiedApproximate(\n",
    "    model = ff_conjunctive,\n",
    "    counterfactual_antecedents = {\"match_dropped\": 0},\n",
    "    outcome = \"forest_fire\",\n",
    "    witness_candidates = [\"lightning\"],\n",
    "    observations = {\"match_dropped\": 1, \"lightning\": 1}\n",
    ")\n",
    "\n",
    "with pyro.poutine.trace() as trace_ff_conjunctive:\n",
    "    with pyro.plate(\"runs\", 500):\n",
    "        ff_conjunctiveHPM()\n",
    "\n",
    "tfc = trace_ff_conjunctive.trace.nodes \n",
    "\n",
    "ac_check(ff_conjunctiveHPM, tfc)"
   ]
  },
  {
   "cell_type": "code",
   "execution_count": 14,
   "metadata": {},
   "outputs": [
    {
     "name": "stdout",
     "output_type": "stream",
     "text": [
      "No resulting difference to the consequent in the sample.\n"
     ]
    }
   ],
   "source": [
    "# In the disjunctive model \n",
    "# there still would be fire if there was no lightning\n",
    "\n",
    "pyro.set_rng_seed(101)\n",
    "ff_disjunctiveHPM = HalpernPearlModifiedApproximate(\n",
    "    model = ff_disjunctive,\n",
    "    counterfactual_antecedents = {\"match_dropped\":0},\n",
    "    outcome = \"forest_fire\",\n",
    "    witness_candidates = [\"lightning\"],\n",
    "    observations = {\"match_dropped\": 1, \"lightning\": 1}\n",
    ")\n",
    "\n",
    "with pyro.poutine.trace() as trace_ff_disjunctive:\n",
    "    with pyro.plate(\"runs\", 500):\n",
    "        ff_disjunctiveHPM()\n",
    "\n",
    "tfd = trace_ff_disjunctive.trace.nodes \n",
    "\n",
    "ac_check(ff_disjunctiveHPM, tfd)\n"
   ]
  },
  {
   "cell_type": "code",
   "execution_count": 15,
   "metadata": {},
   "outputs": [
    {
     "name": "stdout",
     "output_type": "stream",
     "text": [
      "The antecedent set is an actual cause.\n"
     ]
    },
    {
     "data": {
      "text/plain": [
       "True"
      ]
     },
     "execution_count": 15,
     "metadata": {},
     "output_type": "execute_result"
    }
   ],
   "source": [
    "# in the disjunctive model\n",
    "# the actual cause is the conjunction of the two factors\n",
    "\n",
    "ff_disjunctive_jointHPM = HalpernPearlModifiedApproximate(\n",
    "    model = ff_disjunctive,\n",
    "    counterfactual_antecedents = {\"match_dropped\": 0, \"lightning\":0},\n",
    "    outcome = \"forest_fire\",\n",
    "    witness_candidates = [],\n",
    "    observations = {\"match_dropped\": 1, \"lightning\": 1},\n",
    ")\n",
    "\n",
    "with pyro.poutine.trace() as trace_ff_disjunctive_joint:\n",
    "    with pyro.plate(\"runs\", 500):\n",
    "        ff_disjunctive_jointHPM()\n",
    "\n",
    "tfj = trace_ff_disjunctive_joint.trace.nodes \n",
    "\n",
    "ac_check(ff_disjunctive_jointHPM, tfj)"
   ]
  },
  {
   "attachments": {},
   "cell_type": "markdown",
   "metadata": {},
   "source": [
    "### Doctors"
   ]
  },
  {
   "attachments": {},
   "cell_type": "markdown",
   "metadata": {},
   "source": [
    "This example illustrates that actual causality is not, in general, transitive. One doctor is responsible for administering the medicine on Monday, and if she does, Bill recovers on Tuesday.\n",
    "Another doctor is reliable and treats Bill on Tuesday if the first doctor failed to do so on Monday. If both doctors treat Bill, he is in `condition1`, dead on Wednesday. Otherwise, he is either healthy on Tuesday (`condition2`) or healthy on Wednesday (`condition3`), or did not receive any treatment and feels worse but is alive on Wednesday (`condition4`).\n",
    "\n",
    "Now suppose Bill did receive treatment on Monday. This is an actual cause of his not receiving treatment on Tuesday, and the latter is an actual cause of his being alive on Wednesday. However, there is nothing that the first doctor could do to cause Bill to be dead on Wednesday."
   ]
  },
  {
   "cell_type": "code",
   "execution_count": 16,
   "metadata": {},
   "outputs": [],
   "source": [
    "def bc_function(mt, tt):\n",
    "    condition1 = (mt == 1) & (tt == 1)\n",
    "    condition2 = (mt == 1) & (tt == 0)\n",
    "    condition3 = (mt == 0) & (tt == 1)\n",
    "    condition4 = ~(condition1 | condition2 | condition3)\n",
    "\n",
    "    output = torch.where(condition1, torch.tensor(3.0), torch.tensor(0.0))\n",
    "    output = torch.where(condition2, torch.tensor(0.0), output)\n",
    "    output = torch.where(condition3, torch.tensor(1.0), output)\n",
    "    output = torch.where(condition4, torch.tensor(2.0), output)\n",
    "\n",
    "    return output\n",
    "\n",
    "\n",
    "def model_doctors():\n",
    "    u_monday_treatment = pyro.sample(\"u_monday_treatment\", dist.Bernoulli(0.5))\n",
    "\n",
    "    monday_treatment = pyro.deterministic(\n",
    "        \"monday_treatment\", u_monday_treatment, event_dim=0\n",
    "    )\n",
    "\n",
    "    tuesday_treatment = pyro.deterministic(\n",
    "        \"tuesday_treatment\",\n",
    "        torch.logical_not(monday_treatment).float(),\n",
    "        event_dim=0,\n",
    "    )\n",
    "\n",
    "    bills_condition = pyro.deterministic(\n",
    "        \"bills_condition\",\n",
    "        bc_function(monday_treatment, tuesday_treatment),\n",
    "        event_dim=0,\n",
    "    )\n",
    "\n",
    "    bill_alive = pyro.deterministic(\n",
    "        \"bill_alive\", bills_condition.not_equal(3.0).float(), event_dim=0\n",
    "    )\n",
    "\n",
    "    return {\n",
    "        \"monday_treatment\": monday_treatment,\n",
    "        \"tuesday_treatment\": tuesday_treatment,\n",
    "        \"bills_condition\": bills_condition,\n",
    "        \"bill_alive\": bill_alive,\n",
    "    }"
   ]
  },
  {
   "cell_type": "code",
   "execution_count": 17,
   "metadata": {},
   "outputs": [
    {
     "name": "stdout",
     "output_type": "stream",
     "text": [
      "The antecedent set is an actual cause.\n"
     ]
    },
    {
     "data": {
      "text/plain": [
       "True"
      ]
     },
     "execution_count": 17,
     "metadata": {},
     "output_type": "execute_result"
    }
   ],
   "source": [
    "# The first actual causal link holds\n",
    "\n",
    "doctors1_HPM = HalpernPearlModifiedApproximate(\n",
    "    model = model_doctors,\n",
    "    counterfactual_antecedents = {\"monday_treatment\": 0.0},\n",
    "    outcome = \"tuesday_treatment\",\n",
    "    witness_candidates = [],\n",
    "    observations = {\"u_monday_treatment\": 1.0}\n",
    "    )\n",
    "\n",
    "with pyro.poutine.trace() as trace_doctors1:\n",
    "     with pyro.plate(\"runs\", 500):\n",
    "         doctors1_HPM()\n",
    "\n",
    "doc1 = trace_doctors1.trace.nodes \n",
    "ac_check(doctors1_HPM, doc1)\n"
   ]
  },
  {
   "cell_type": "code",
   "execution_count": 18,
   "metadata": {},
   "outputs": [
    {
     "name": "stdout",
     "output_type": "stream",
     "text": [
      "The antecedent set is an actual cause.\n"
     ]
    },
    {
     "data": {
      "text/plain": [
       "True"
      ]
     },
     "execution_count": 18,
     "metadata": {},
     "output_type": "execute_result"
    }
   ],
   "source": [
    "\n",
    "doctors2_HPM = HalpernPearlModifiedApproximate(\n",
    "    model = model_doctors,\n",
    "    counterfactual_antecedents = {\"tuesday_treatment\": 1.0},\n",
    "    outcome = \"bill_alive\",\n",
    "    witness_candidates = [],\n",
    "    observations = {\"u_monday_treatment\": 1.0}\n",
    ")\n",
    "\n",
    "with pyro.poutine.trace() as trace_doctors2:\n",
    "     with pyro.plate(\"runs\", 5):\n",
    "         doctors2_HPM()\n",
    "\n",
    "doc2 = trace_doctors2.trace.nodes \n",
    "\n",
    "ac_check(doctors2_HPM, doc2)\n"
   ]
  },
  {
   "cell_type": "code",
   "execution_count": 19,
   "metadata": {},
   "outputs": [
    {
     "name": "stdout",
     "output_type": "stream",
     "text": [
      "No resulting difference to the consequent in the sample.\n"
     ]
    }
   ],
   "source": [
    "\n",
    "doctors3_HPM = HalpernPearlModifiedApproximate(\n",
    "    model = model_doctors,\n",
    "    counterfactual_antecedents = {\"monday_treatment\": 0.0},\n",
    "    outcome = \"bill_alive\",\n",
    "    witness_candidates = [],\n",
    "    observations = {\"u_monday_treatment\": 1.0}\n",
    ")\n",
    "\n",
    "with pyro.poutine.trace() as trace_doctors3:\n",
    "    with pyro.plate(\"runs\", 500):\n",
    "        doctors3_HPM()\n",
    "\n",
    "doc3 = trace_doctors3.trace.nodes \n",
    "\n",
    "ac_check(doctors3_HPM, doc3)"
   ]
  },
  {
   "attachments": {},
   "cell_type": "markdown",
   "metadata": {},
   "source": [
    "### Friendly fire\n"
   ]
  },
  {
   "attachments": {},
   "cell_type": "markdown",
   "metadata": {},
   "source": [
    "\n",
    "This comes from a causal model developed in a real-life incident investigation, as discussed in the [Incident Reporting using SERAS® Reporter and SERAS® Analyst](http://www.causalis.com/90-publications/IncidentReportingUsingSERAS.pdf) paper.\n",
    "\n",
    "a U.S. Special Forces air controller changing the battery on a Global Positioning System device he was using to target a Taliban outpost north of Kandahar. Three special forces soldiers were killed and 20 were injured when a 2,000-pound, satellite-guided bomb landed, not on the Taliban outpost, but on a battalion command post occupied by American forces and a group of Afghan allies, including Hamid Karzai, now the interim prime minister. The Air Force combat controller was using a Precision Lightweight GPS Receiver to calculate the Taliban's coordinates for the attack. The controller did not realize that after he changed the device's battery, the machine was programmed to automatically come back on displaying coordinates for its own location, the official said.\n",
    "\n",
    "Minutes before the B-52 strike, the controller had used the GPS receiver to\n",
    "calculate the latitude and longitude of the Taliban position in minutes and seconds for an airstrike by a Navy F/A-18. Then, with the B-52 approaching the target, the air controller did a second calculation in “degree decimals” required by the bomber crew.  The controller had performed the calculation and recorded the position, when the receiver battery died. Without realizing the machine was programmed to come back on showing the coordinates of its\n",
    "own location, the controller mistakenly called in the American position to the B-52.\n",
    "\n",
    "Factors included in the model:\n",
    "\n",
    "1. The air controller changed the battery on the PLGR\n",
    "2. Three special forces soldiers were killed and 20 were injured\n",
    "3. B-52 fired a JDAM bomb at the Allied position\n",
    "4. The air controller was using the PLGR to calculate the Taliban's coordinates\n",
    "5. The controller did not realize that the PLGR was programmed to automatically come back on displaying coordinates for its own location\n",
    "6. The controller had used the PLGR to calculate the latitude and longitude of the Taliban position in minutes and seconds for an airstrike by a Navy F/A-18\n",
    "7. The air controller did a second calculation in “degree decimals” required by the bomber crew\n",
    "8. The controller had performed the calculation and recorded the position\n",
    "9. The controller mistakenly called in the American position to the B-52\n",
    "10. The B-52 fired a JDAM bomb at the Allied position\n",
    "11. The U.S. Air Force and Army had a training problem\n",
    "12. The PLRG resumed displaying the coordinates of its own location after the battery was changed\n",
    "13. The battery died at the crucial time\n",
    "14. The controller thought he was calling in the Taliban position\n",
    "\n",
    "The DAG used in the model is as follows:\n",
    "![Friendly Fire DAG](figures/friendly_fire_dag.png)"
   ]
  },
  {
   "cell_type": "code",
   "execution_count": 20,
   "metadata": {},
   "outputs": [],
   "source": [
    "\n",
    "def model_friendly_fire():\n",
    "    u_f4_PLGR_now = pyro.sample(\"u_f4_PLGR_now\", dist.Bernoulli(0.5))\n",
    "    u_f11_training = pyro.sample(\"u_f11_training\", dist.Bernoulli(0.5))\n",
    "\n",
    "    f4_PLGR_now = pyro.deterministic(\"f4_PLGR_now\", u_f4_PLGR_now, event_dim=0)\n",
    "    f11_training = pyro.deterministic(\n",
    "        \"f11_training\", u_f11_training, event_dim=0\n",
    "    )\n",
    "\n",
    "    f6_PLGR_before = pyro.deterministic(\n",
    "        \"f6_PLGR_before\", f4_PLGR_now, event_dim=0\n",
    "    )\n",
    "    f7_second_calculation = pyro.deterministic(\n",
    "        \"f7_second_calculation\", f4_PLGR_now, event_dim=0\n",
    "    )\n",
    "    f13_battery_died = pyro.deterministic(\n",
    "        \"f13_battery_died\",\n",
    "        f6_PLGR_before.bool() & f7_second_calculation.bool(),\n",
    "        event_dim=0,\n",
    "    )\n",
    "\n",
    "    f1_battery_change = pyro.deterministic(\n",
    "        \"f1_battery_change\", f13_battery_died, event_dim=0\n",
    "    )\n",
    "\n",
    "    f12_PLGR_after = pyro.deterministic(\n",
    "        \"f12_PLGR_after\", f1_battery_change, event_dim=0\n",
    "    )\n",
    "\n",
    "    f5_unaware = pyro.deterministic(\"f5_unaware\", f11_training, event_dim=0)\n",
    "\n",
    "    f14_wrong_position = pyro.deterministic(\n",
    "        \"f14_wrong_position\", f5_unaware, event_dim=0\n",
    "    )\n",
    "\n",
    "    f9_mistake_call = pyro.deterministic(\n",
    "        \"f9_mistake_call\",\n",
    "            f12_PLGR_after.bool() & \n",
    "            f14_wrong_position.bool(),\n",
    "        event_dim=0,\n",
    "    )\n",
    "\n",
    "    f3_fired = pyro.deterministic(\"f3_fired\", f9_mistake_call, event_dim=0)\n",
    "\n",
    "    f10_landed = pyro.deterministic(\n",
    "        \"f10_landed\", f3_fired.bool() &  f9_mistake_call.bool(), event_dim=0\n",
    "    )\n",
    "\n",
    "    f2_killed = pyro.deterministic(\"f2_killed\", f10_landed, event_dim=0)\n",
    "\n",
    "    return {\n",
    "        \"f1_battery_change\": f1_battery_change,\n",
    "        \"f2_killed\": f2_killed,\n",
    "        \"f3_fired\": f3_fired,\n",
    "        \"f4_PLGR_now\": f4_PLGR_now,\n",
    "        \"f5_unaware\": f5_unaware,\n",
    "        \"f6_PLGR_before\": f6_PLGR_before,\n",
    "        \"f7_second_calculation\": f7_second_calculation,\n",
    "        \"f9_mistake_call\": f9_mistake_call,\n",
    "        \"f10_landed\": f10_landed,\n",
    "        \"f11_training\": f11_training,\n",
    "        \"f12_PLGR_after\": f12_PLGR_after,\n",
    "        \"f13_battery_died\": f13_battery_died,\n",
    "        \"f14_wrong_position\": f14_wrong_position,\n",
    "    }\n",
    "\n"
   ]
  },
  {
   "cell_type": "code",
   "execution_count": 21,
   "metadata": {},
   "outputs": [
    {
     "name": "stdout",
     "output_type": "stream",
     "text": [
      "The antecedent set is not minimal.\n"
     ]
    },
    {
     "data": {
      "text/plain": [
       "False"
      ]
     },
     "execution_count": 21,
     "metadata": {},
     "output_type": "execute_result"
    }
   ],
   "source": [
    "# a conjunction of these two nodes is not minimal:\n",
    "\n",
    "friendly_fire_HPM = HalpernPearlModifiedApproximate(\n",
    "    model = model_friendly_fire,\n",
    "    counterfactual_antecedents = {\"f6_PLGR_before\": 0.0, \"f7_second_calculation\": 0.0},\n",
    "    outcome = \"f2_killed\",\n",
    "    witness_candidates = [\"f4_PLGR_now\",\"f5_unaware\",\n",
    "    \"f11_training\",\n",
    "    \"f14_wrong_position\"],\n",
    "    observations = {\"u_f4_PLGR_now\": 1.0, \"u_f11_training\": 1.0}\n",
    ")\n",
    "\n",
    "with pyro.poutine.trace() as friendly_tuple_trace:\n",
    "    with pyro.plate(\"runs\", 500):\n",
    "        friendly_fire_HPM()\n",
    "\n",
    "ft = friendly_tuple_trace.trace.nodes \n",
    "\n",
    "ac_check(friendly_fire_HPM, ft)"
   ]
  },
  {
   "cell_type": "code",
   "execution_count": 22,
   "metadata": {},
   "outputs": [
    {
     "name": "stdout",
     "output_type": "stream",
     "text": [
      "The antecedent set is an actual cause.\n"
     ]
    },
    {
     "data": {
      "text/plain": [
       "True"
      ]
     },
     "execution_count": 22,
     "metadata": {},
     "output_type": "execute_result"
    }
   ],
   "source": [
    "friendly_fire_singleHPM = HalpernPearlModifiedApproximate(\n",
    "    model = model_friendly_fire,\n",
    "    counterfactual_antecedents = {\"f6_PLGR_before\": 0.0},\n",
    "    outcome = \"f2_killed\",\n",
    "    witness_candidates = [\"f4_PLGR_now\",\"f5_unaware\",\n",
    "    \"f11_training\",\n",
    "    \"f14_wrong_position\"],\n",
    "    observations = {\"u_f4_PLGR_now\": 1.0, \"u_f11_training\": 1.0}\n",
    ")\n",
    "\n",
    "\n",
    "with pyro.poutine.trace() as friendly_single_trace:\n",
    "    with pyro.plate(\"runs\", 500):\n",
    "        friendly_fire_singleHPM()\n",
    "\n",
    "fs = friendly_single_trace.trace.nodes \n",
    "\n",
    "ac_check(friendly_fire_singleHPM, fs)"
   ]
  },
  {
   "attachments": {},
   "cell_type": "markdown",
   "metadata": {},
   "source": [
    "### Voting\n"
   ]
  },
  {
   "attachments": {},
   "cell_type": "markdown",
   "metadata": {},
   "source": [
    "The main reason why the voting models are interesting in this context is that we are interested in the role of particular voters in the coming about of the result. The intuition-and we will pursue it in the responsibility notebook-is that a voter might play are role or be blamed for not voting even if her vote is not decisive. For now, we just notice that the notion of actual causality at play is not enough to capture these intuitions. Say you give one vote in a binary majority vote, `vote0`, you vote \"for\", and there are six other voters.  "
   ]
  },
  {
   "cell_type": "code",
   "execution_count": 23,
   "metadata": {},
   "outputs": [],
   "source": [
    "def voting_model():\n",
    "    u_vote0 = pyro.sample(\"u_vote0\", dist.Bernoulli(0.6))\n",
    "    u_vote1 = pyro.sample(\"u_vote1\", dist.Bernoulli(0.6))\n",
    "    u_vote2 = pyro.sample(\"u_vote2\", dist.Bernoulli(0.6))\n",
    "    u_vote3 = pyro.sample(\"u_vote3\", dist.Bernoulli(0.6))\n",
    "    u_vote4 = pyro.sample(\"u_vote4\", dist.Bernoulli(0.6))\n",
    "    u_vote5 = pyro.sample(\"u_vote5\", dist.Bernoulli(0.6))\n",
    "\n",
    "    vote0 = pyro.deterministic(\"vote0\", u_vote0, event_dim=0)\n",
    "    vote1 = pyro.deterministic(\"vote1\", u_vote1, event_dim=0)\n",
    "    vote2 = pyro.deterministic(\"vote2\", u_vote2, event_dim=0)\n",
    "    vote3 = pyro.deterministic(\"vote3\", u_vote3, event_dim=0)\n",
    "    vote4 = pyro.deterministic(\"vote4\", u_vote4, event_dim=0)\n",
    "    vote5 = pyro.deterministic(\"vote5\", u_vote5, event_dim=0)\n",
    "    return {\"outcome\": vote0 + vote1 + vote2 + vote3 + vote4 + vote5 > 3}\n"
   ]
  },
  {
   "cell_type": "code",
   "execution_count": 24,
   "metadata": {},
   "outputs": [
    {
     "name": "stdout",
     "output_type": "stream",
     "text": [
      "The antecedent set is an actual cause.\n"
     ]
    },
    {
     "data": {
      "text/plain": [
       "True"
      ]
     },
     "execution_count": 24,
     "metadata": {},
     "output_type": "execute_result"
    }
   ],
   "source": [
    "# if you're one of four voters who voted for, you are an actual cause\n",
    "# of the outcome\n",
    "\n",
    "voting4HPM = HalpernPearlModifiedApproximate(\n",
    "    model = voting_model,\n",
    "    counterfactual_antecedents = {\"vote0\":0.0},\n",
    "    outcome = \"outcome\",\n",
    "    witness_candidates = [f\"vote{i}\" for i in range(1,6)],\n",
    "    observations = dict(u_vote0=1., u_vote1=1., u_vote2=1.,\n",
    "                        u_vote3=1., u_vote4=0., u_vote5=0.))\n",
    "\n",
    "\n",
    "\n",
    "with pyro.poutine.trace() as voting4_trace:\n",
    "    with pyro.plate(\"runs\", 500):\n",
    "        voting4HPM()\n",
    "\n",
    "v4 = voting4_trace.trace.nodes \n",
    "\n",
    "ac_check(voting4HPM, v4)"
   ]
  },
  {
   "cell_type": "code",
   "execution_count": 25,
   "metadata": {},
   "outputs": [
    {
     "name": "stdout",
     "output_type": "stream",
     "text": [
      "No resulting difference to the consequent in the sample.\n"
     ]
    }
   ],
   "source": [
    "# if you're one of five voters who voted for, you are not an actual cause\n",
    "# of the outcome\n",
    "\n",
    "voting5HPM = HalpernPearlModifiedApproximate(\n",
    "    model = voting_model,\n",
    "    counterfactual_antecedents = {\"vote0\": 0.0},\n",
    "    outcome = \"outcome\",\n",
    "    witness_candidates = [f\"vote{i}\" for i in range(1,6)],\n",
    "    observations = dict(u_vote0=1., u_vote1=1., u_vote2=1.,\n",
    "                        u_vote3=1., u_vote4=1., u_vote5=0.))\n",
    "\n",
    "with pyro.poutine.trace() as voting5_trace:\n",
    "    with pyro.plate(\"runs\", 500):\n",
    "        voting5HPM()\n",
    "\n",
    "v5 = voting5_trace.trace.nodes \n",
    "\n",
    "ac_check(voting5HPM, v5)"
   ]
  },
  {
   "cell_type": "code",
   "execution_count": 26,
   "metadata": {},
   "outputs": [
    {
     "name": "stdout",
     "output_type": "stream",
     "text": [
      "The antecedent set is an actual cause.\n"
     ]
    },
    {
     "data": {
      "text/plain": [
       "True"
      ]
     },
     "execution_count": 26,
     "metadata": {},
     "output_type": "execute_result"
    }
   ],
   "source": [
    "# still, you are part of an actual cause \n",
    "\n",
    "voting_groupHPM = HalpernPearlModifiedApproximate(\n",
    "    model = voting_model,\n",
    "    counterfactual_antecedents = {\"vote0\": 0.0, \"vote1\": 0.0},\n",
    "    outcome = \"outcome\",\n",
    "    witness_candidates = [f\"vote{i}\" for i in range(2,6)],\n",
    "    observations = dict(u_vote0=1., u_vote1=1., u_vote2=1.,\n",
    "                        u_vote3=1., u_vote4=1., u_vote5=0))\n",
    "\n",
    "\n",
    "with pyro.poutine.trace() as voting_group_trace:\n",
    "    with pyro.plate(\"runs\", 500):\n",
    "        voting_groupHPM()\n",
    "\n",
    "vg = voting_group_trace.trace.nodes \n",
    "\n",
    "ac_check(voting_groupHPM, vg)"
   ]
  },
  {
   "attachments": {},
   "cell_type": "markdown",
   "metadata": {},
   "source": [
    "## References"
   ]
  },
  {
   "attachments": {},
   "cell_type": "markdown",
   "metadata": {},
   "source": [
    "(Halpern 2016) Halpern, Josepy Y., \"Actual Causality\", MIT Press, Cambridge, 2016"
   ]
  }
 ],
 "metadata": {
  "kernelspec": {
   "display_name": "base",
   "language": "python",
   "name": "python3"
  },
  "language_info": {
   "codemirror_mode": {
    "name": "ipython",
    "version": 3
   },
   "file_extension": ".py",
   "mimetype": "text/x-python",
   "name": "python",
   "nbconvert_exporter": "python",
   "pygments_lexer": "ipython3",
   "version": "3.10.6"
  },
  "orig_nbformat": 4
 },
 "nbformat": 4,
 "nbformat_minor": 2
}

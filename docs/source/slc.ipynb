{
 "cells": [
  {
   "cell_type": "markdown",
   "metadata": {},
   "source": [
    "# Example: Bayesian estimation with structured latent confounders"
   ]
  },
  {
   "cell_type": "code",
   "execution_count": null,
   "metadata": {},
   "outputs": [],
   "source": [
    "from typing import Dict, List, Optional, Tuple, Union, TypeVar\n",
    "\n",
    "import torch\n",
    "import pyro\n",
    "import pyro.distributions as dist\n",
    "from pyro.nn import PyroModule, PyroSample, PyroParam\n",
    "from pyro.contrib.autoname import scope\n",
    "from pyro.poutine import condition, reparam\n",
    "\n",
    "import causal_pyro\n",
    "from causal_pyro.query.do_messenger import do\n",
    "from causal_pyro.counterfactual.handlers import Factual, MultiWorldCounterfactual, TwinWorldCounterfactual"
   ]
  },
  {
   "cell_type": "markdown",
   "metadata": {},
   "source": [
    "## Background: Hierarchically structured confounding\n",
    "\n",
    "In other examples, we have demonstrated how probabilistic\n",
    "programs can be used to model causal relationships between attributes of\n",
    "individual entities. However, it is often useful to model relationships\n",
    "between multiple kinds of entities explicitly.\n",
    "\n",
    "For example, a student's\n",
    "educational outcome may depend on her own attributes, as well as the\n",
    "attributes of her school. In this hierarchical setting, where multiple\n",
    "students belong to the same school, we can often estimate causal effects\n",
    "even if these potentially confounding school-level attributes are\n",
    "latent.\n",
    "\n",
    "Hierarchical structure is a common motif in social science and\n",
    "econometric applications of causal inference; appearing in\n",
    "multi-level-models [@gelman2006data], difference-in-difference\n",
    "designs [@shadish2002experimental], and within-subjects\n",
    "designs [@loftus1994using], all of which are out of scope for\n",
    "graph-based identification methods. Nonetheless, even flexible Gaussian\n",
    "process versions of these kinds of causal designs can be implemented in\n",
    "a causal probabilistic programming language [@witty_2021]. "
   ]
  },
  {
   "cell_type": "markdown",
   "metadata": {},
   "source": [
    "## Model: GP-SLC\n",
    "\n",
    "Moving beyond\n",
    "simple linear models, recent work has introduced *Gaussian Processes\n",
    "with Structured Latent Confounders* (GP-SLC) [@witty2020], using\n",
    "flexible Gaussian process priors for causal inference in hierarchical\n",
    "settings. The following generative program is a slightly simplified\n",
    "variant of GP-SLC."
   ]
  },
  {
   "cell_type": "code",
   "execution_count": null,
   "metadata": {},
   "outputs": [],
   "source": [
    "def slc_cbn(theta_X, theta_T, theta_Y, N_objects=3, N_instances=4):\n",
    "    with pyro.plate(\"objects\", N_objects, dim=-2) as objects:\n",
    "        U = pyro.sample(\"U\", dist.Normal(0, 1))\n",
    "        with pyro.plate(\"instances\", N_instances, dim=-1) as instances:\n",
    "            X = pyro.sample(\"X\", dist.Normal(*f_X(U, theta_X), theta_X))\n",
    "            T = pyro.sample(\"T\", dist.Normal(*f_T(U, X, theta_T)))\n",
    "            Y = pyro.sample(\"Y\", dist.Normal(*f_Y(U, X, T, theta_Y)))\n",
    "            return Y\n",
    "\n",
    "pyro.render_model(slc_cbn, model_args=(...))"
   ]
  },
  {
   "cell_type": "markdown",
   "metadata": {},
   "source": [
    "## Query: individual treatment effects (ITE)\n",
    "Following the same informal script as\n",
    "in the previous examples gives an expanded generative program defining a\n",
    "joint distribution over object-level latent confounders $U$ and observed\n",
    "instance-level covariates $X$, treatment $T$, and outcomes $Y$, thereby\n",
    "inducing a distribution on the individual treatment effects for each\n",
    "instance."
   ]
  },
  {
   "cell_type": "code",
   "execution_count": null,
   "metadata": {},
   "outputs": [],
   "source": [
    "@TwinWorldCounterfactual(dim=-3)\n",
    "@pyro.infer.reparam(config=pyro.infer.reparam.AutoReparam())\n",
    "def slc_surrogate_scm(N_objects, N_instances):\n",
    "    theta_X = pyro.sample(\"theta_X\", ...)\n",
    "    theta_T = pyro.sample(\"theta_T\", ...)\n",
    "    theta_Y = pyro.sample(\"theta_Y\", ...)\n",
    "    Y = slc_cbn(theta_X, theta_T, theta_Y, N_objects=N_objects, N_instances=N_instances)\n",
    "    return Y\n",
    "\n",
    "pyro.render_model(slc_surrogate_scm, model_args=())"
   ]
  },
  {
   "cell_type": "markdown",
   "metadata": {},
   "source": [
    "This causal model allows estimation of *individual treatment effects*\n",
    "$ITE^{(o,i)} = f_y(Y^{(o,i)}_{do(T=1)}) - f_y(Y^{(o,i)}_{do(T=0)})$,\n",
    "e.g. the increase in a particular student's educational outcome with or\n",
    "without a particular intervention."
   ]
  },
  {
   "cell_type": "code",
   "execution_count": null,
   "metadata": {},
   "outputs": [],
   "source": [
    "def slc_surrogate_ite(x_obs, t_obs, y_obs):\n",
    "    with do(slc_surrogate_scm, {\"T\": 1. - t_obs}), \\\n",
    "            pyro.condition(data={\"X\": x_obs, \"Y\": y_obs, \"T\": t_obs}):\n",
    "        Ys = slc_surrogate_scm(y_obs.shape[0], y_obs.shape[1])\n",
    "        ITE = Ys[1, :, :] - Ys[0, :, :]\n",
    "        return ITE\n",
    "\n",
    "pyro.render_model(slc_surrogate_ite, model_args=(x_obs, t_obs, y_obs))"
   ]
  },
  {
   "cell_type": "markdown",
   "metadata": {},
   "source": [
    "Note that here we are able to estimate the individual\n",
    "treatment effect because we assumed that exogenous noise is additive.\n",
    "Here, the hierarchical structure is compactly expressed as a pair of nested `pyro.plate` statements\n",
    "over objects $o$ and instances $i$."
   ]
  },
  {
   "cell_type": "markdown",
   "metadata": {},
   "source": []
  }
 ],
 "metadata": {
  "kernelspec": {
   "display_name": "Python 3.8.10 64-bit",
   "language": "python",
   "name": "python3"
  },
  "language_info": {
   "name": "python",
   "version": "3.8.10"
  },
  "orig_nbformat": 4,
  "vscode": {
   "interpreter": {
    "hash": "916dbcbb3f70747c44a77c7bcd40155683ae19c65e1c03b4aa3499c5328201f1"
   }
  }
 },
 "nbformat": 4,
 "nbformat_minor": 2
}

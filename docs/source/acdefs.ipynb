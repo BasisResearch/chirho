{
 "cells": [
  {
   "cell_type": "code",
   "execution_count": 35,
   "metadata": {},
   "outputs": [
    {
     "name": "stdout",
     "output_type": "stream",
     "text": [
      "Automatic pdb calling has been turned OFF\n"
     ]
    }
   ],
   "source": [
    "%reload_ext autoreload\n",
    "%autoreload 2\n",
    "%pdb off\n",
    "\n",
    "import functools\n",
    "\n",
    "import torch\n",
    "import pyro\n",
    "import pyro.distributions as dist\n",
    "\n",
    "from causal_pyro.indexed.ops import IndexSet, gather, indices_of, scatter\n",
    "from causal_pyro.interventional.handlers import do\n",
    "from causal_pyro.counterfactual.handlers import MultiWorldCounterfactual, Preemptions"
   ]
  },
  {
   "cell_type": "code",
   "execution_count": 36,
   "metadata": {},
   "outputs": [],
   "source": [
    "def voting_model():\n",
    "    u_vote0 = pyro.sample(\"u_vote0\", dist.Bernoulli(0.6))\n",
    "    u_vote1 = pyro.sample(\"u_vote1\", dist.Bernoulli(0.6))\n",
    "    u_vote2 = pyro.sample(\"u_vote2\", dist.Bernoulli(0.6))\n",
    "    u_vote3 = pyro.sample(\"u_vote3\", dist.Bernoulli(0.6))\n",
    "    u_vote4 = pyro.sample(\"u_vote4\", dist.Bernoulli(0.6))\n",
    "\n",
    "    vote0 = pyro.deterministic(\"vote0\", u_vote0, event_dim=0)\n",
    "    vote1 = pyro.deterministic(\"vote1\", u_vote1, event_dim=0)\n",
    "    vote2 = pyro.deterministic(\"vote2\", u_vote2, event_dim=0)\n",
    "    vote3 = pyro.deterministic(\"vote3\", u_vote3, event_dim=0)\n",
    "    vote4 = pyro.deterministic(\"vote4\", u_vote4, event_dim=0)\n",
    "    return vote0 + vote1 + vote2 + vote3 + vote4 >= 3"
   ]
  },
  {
   "cell_type": "code",
   "execution_count": 44,
   "metadata": {},
   "outputs": [
    {
     "name": "stdout",
     "output_type": "stream",
     "text": [
      "IndexSet({'vote0': {0, 1}}) IndexSet({})\n",
      "(tensor([[[[[False]]]]]), tensor([[[[[True]]]]]), tensor([[[[[True]]]]]))\n"
     ]
    }
   ],
   "source": [
    "def preempt_with_factual(value: torch.Tensor, *, antecedent: str = \"\", event_dim: int = 0):\n",
    "    factual_value = gather(value, IndexSet(**{antecedent: {0}}), event_dim=event_dim)\n",
    "    return scatter({\n",
    "        IndexSet(**{antecedent: {0}}): factual_value,\n",
    "        IndexSet(**{antecedent: {1}}): factual_value,\n",
    "    }, event_dim=event_dim)\n",
    "\n",
    "antecedents = dict(vote0=lambda v: 1 - v)\n",
    "preemptions = {f\"vote{i}\": functools.partial(preempt_with_factual, antecedent=\"vote0\") for i in range(1, 5)}\n",
    "observations = dict(u_vote0=1., u_vote1=0., u_vote2=0., u_vote3=1., u_vote4=1.)\n",
    "\n",
    "# @pyro.infer.infer_discrete(first_available_dim=-7)\n",
    "# @pyro.infer.config_enumerate\n",
    "@MultiWorldCounterfactual()\n",
    "@do(actions=antecedents)\n",
    "@Preemptions(actions=preemptions)\n",
    "@pyro.condition(data={k: torch.as_tensor(v) for k, v in observations.items()})\n",
    "def ac_voting_model():\n",
    "    consequent = voting_model()\n",
    "    intervened_consequent = gather(consequent, IndexSet(vote0={1}))\n",
    "    observed_consequent = gather(consequent, IndexSet(vote0={0}))\n",
    "    consequent_differs = intervened_consequent != observed_consequent\n",
    "    pyro.factor(\"consequent_differs\", torch.where(consequent_differs, torch.tensor(0.0), torch.tensor(-1e8)))\n",
    "    print(indices_of(consequent), indices_of(consequent_differs))\n",
    "    return intervened_consequent, observed_consequent, consequent_differs\n",
    "\n",
    "print(ac_voting_model())"
   ]
  },
  {
   "cell_type": "code",
   "execution_count": null,
   "metadata": {},
   "outputs": [],
   "source": []
  }
 ],
 "metadata": {
  "kernelspec": {
   "display_name": "base",
   "language": "python",
   "name": "python3"
  },
  "language_info": {
   "codemirror_mode": {
    "name": "ipython",
    "version": 3
   },
   "file_extension": ".py",
   "mimetype": "text/x-python",
   "name": "python",
   "nbconvert_exporter": "python",
   "pygments_lexer": "ipython3",
   "version": "3.10.9"
  },
  "orig_nbformat": 4
 },
 "nbformat": 4,
 "nbformat_minor": 2
}

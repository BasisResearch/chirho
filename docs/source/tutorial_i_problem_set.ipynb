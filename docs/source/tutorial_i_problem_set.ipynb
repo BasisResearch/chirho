{
 "cells": [
  {
   "cell_type": "markdown",
   "metadata": {
    "id": "YD2X2bmCk_z0"
   },
   "source": [
    "# ProbAI ChiRho Tutorial I: Probabilistic Programming & Causal Inference"
   ]
  },
  {
   "cell_type": "code",
   "execution_count": null,
   "metadata": {
    "colab": {
     "base_uri": "https://localhost:8080/"
    },
    "id": "3gj7XvWtlBS_",
    "outputId": "47e08fe2-3416-4ecb-8d49-d7dbe009d7d1",
    "scrolled": true
   },
   "outputs": [
    {
     "name": "stdout",
     "output_type": "stream",
     "text": [
      "Collecting chirho\n",
      "  Downloading chirho-0.3.0-py3-none-any.whl.metadata (11 kB)\n",
      "Collecting pyro-ppl>=1.9.1 (from chirho)\n",
      "  Downloading pyro_ppl-1.9.1-py3-none-any.whl.metadata (7.8 kB)\n",
      "Requirement already satisfied: numpy>=1.7 in /usr/local/lib/python3.11/dist-packages (from pyro-ppl>=1.9.1->chirho) (2.0.2)\n",
      "Requirement already satisfied: opt-einsum>=2.3.2 in /usr/local/lib/python3.11/dist-packages (from pyro-ppl>=1.9.1->chirho) (3.4.0)\n",
      "Collecting pyro-api>=0.1.1 (from pyro-ppl>=1.9.1->chirho)\n",
      "  Downloading pyro_api-0.1.2-py3-none-any.whl.metadata (2.5 kB)\n",
      "Requirement already satisfied: torch>=2.0 in /usr/local/lib/python3.11/dist-packages (from pyro-ppl>=1.9.1->chirho) (2.6.0+cu124)\n",
      "Requirement already satisfied: tqdm>=4.36 in /usr/local/lib/python3.11/dist-packages (from pyro-ppl>=1.9.1->chirho) (4.67.1)\n",
      "Requirement already satisfied: filelock in /usr/local/lib/python3.11/dist-packages (from torch>=2.0->pyro-ppl>=1.9.1->chirho) (3.18.0)\n",
      "Requirement already satisfied: typing-extensions>=4.10.0 in /usr/local/lib/python3.11/dist-packages (from torch>=2.0->pyro-ppl>=1.9.1->chirho) (4.13.2)\n",
      "Requirement already satisfied: networkx in /usr/local/lib/python3.11/dist-packages (from torch>=2.0->pyro-ppl>=1.9.1->chirho) (3.4.2)\n",
      "Requirement already satisfied: jinja2 in /usr/local/lib/python3.11/dist-packages (from torch>=2.0->pyro-ppl>=1.9.1->chirho) (3.1.6)\n",
      "Requirement already satisfied: fsspec in /usr/local/lib/python3.11/dist-packages (from torch>=2.0->pyro-ppl>=1.9.1->chirho) (2025.3.2)\n",
      "Collecting nvidia-cuda-nvrtc-cu12==12.4.127 (from torch>=2.0->pyro-ppl>=1.9.1->chirho)\n",
      "  Downloading nvidia_cuda_nvrtc_cu12-12.4.127-py3-none-manylinux2014_x86_64.whl.metadata (1.5 kB)\n",
      "Collecting nvidia-cuda-runtime-cu12==12.4.127 (from torch>=2.0->pyro-ppl>=1.9.1->chirho)\n",
      "  Downloading nvidia_cuda_runtime_cu12-12.4.127-py3-none-manylinux2014_x86_64.whl.metadata (1.5 kB)\n",
      "Collecting nvidia-cuda-cupti-cu12==12.4.127 (from torch>=2.0->pyro-ppl>=1.9.1->chirho)\n",
      "  Downloading nvidia_cuda_cupti_cu12-12.4.127-py3-none-manylinux2014_x86_64.whl.metadata (1.6 kB)\n",
      "Collecting nvidia-cudnn-cu12==9.1.0.70 (from torch>=2.0->pyro-ppl>=1.9.1->chirho)\n",
      "  Downloading nvidia_cudnn_cu12-9.1.0.70-py3-none-manylinux2014_x86_64.whl.metadata (1.6 kB)\n",
      "Collecting nvidia-cublas-cu12==12.4.5.8 (from torch>=2.0->pyro-ppl>=1.9.1->chirho)\n",
      "  Downloading nvidia_cublas_cu12-12.4.5.8-py3-none-manylinux2014_x86_64.whl.metadata (1.5 kB)\n",
      "Collecting nvidia-cufft-cu12==11.2.1.3 (from torch>=2.0->pyro-ppl>=1.9.1->chirho)\n",
      "  Downloading nvidia_cufft_cu12-11.2.1.3-py3-none-manylinux2014_x86_64.whl.metadata (1.5 kB)\n",
      "Collecting nvidia-curand-cu12==10.3.5.147 (from torch>=2.0->pyro-ppl>=1.9.1->chirho)\n",
      "  Downloading nvidia_curand_cu12-10.3.5.147-py3-none-manylinux2014_x86_64.whl.metadata (1.5 kB)\n",
      "Collecting nvidia-cusolver-cu12==11.6.1.9 (from torch>=2.0->pyro-ppl>=1.9.1->chirho)\n",
      "  Downloading nvidia_cusolver_cu12-11.6.1.9-py3-none-manylinux2014_x86_64.whl.metadata (1.6 kB)\n",
      "Collecting nvidia-cusparse-cu12==12.3.1.170 (from torch>=2.0->pyro-ppl>=1.9.1->chirho)\n",
      "  Downloading nvidia_cusparse_cu12-12.3.1.170-py3-none-manylinux2014_x86_64.whl.metadata (1.6 kB)\n",
      "Requirement already satisfied: nvidia-cusparselt-cu12==0.6.2 in /usr/local/lib/python3.11/dist-packages (from torch>=2.0->pyro-ppl>=1.9.1->chirho) (0.6.2)\n",
      "Requirement already satisfied: nvidia-nccl-cu12==2.21.5 in /usr/local/lib/python3.11/dist-packages (from torch>=2.0->pyro-ppl>=1.9.1->chirho) (2.21.5)\n",
      "Requirement already satisfied: nvidia-nvtx-cu12==12.4.127 in /usr/local/lib/python3.11/dist-packages (from torch>=2.0->pyro-ppl>=1.9.1->chirho) (12.4.127)\n",
      "Collecting nvidia-nvjitlink-cu12==12.4.127 (from torch>=2.0->pyro-ppl>=1.9.1->chirho)\n",
      "  Downloading nvidia_nvjitlink_cu12-12.4.127-py3-none-manylinux2014_x86_64.whl.metadata (1.5 kB)\n",
      "Requirement already satisfied: triton==3.2.0 in /usr/local/lib/python3.11/dist-packages (from torch>=2.0->pyro-ppl>=1.9.1->chirho) (3.2.0)\n",
      "Requirement already satisfied: sympy==1.13.1 in /usr/local/lib/python3.11/dist-packages (from torch>=2.0->pyro-ppl>=1.9.1->chirho) (1.13.1)\n",
      "Requirement already satisfied: mpmath<1.4,>=1.1.0 in /usr/local/lib/python3.11/dist-packages (from sympy==1.13.1->torch>=2.0->pyro-ppl>=1.9.1->chirho) (1.3.0)\n",
      "Requirement already satisfied: MarkupSafe>=2.0 in /usr/local/lib/python3.11/dist-packages (from jinja2->torch>=2.0->pyro-ppl>=1.9.1->chirho) (3.0.2)\n",
      "Downloading chirho-0.3.0-py3-none-any.whl (77 kB)\n",
      "\u001b[2K   \u001b[90m━━━━━━━━━━━━━━━━━━━━━━━━━━━━━━━━━━━━━━━━\u001b[0m \u001b[32m78.0/78.0 kB\u001b[0m \u001b[31m3.2 MB/s\u001b[0m eta \u001b[36m0:00:00\u001b[0m\n",
      "\u001b[?25hDownloading pyro_ppl-1.9.1-py3-none-any.whl (755 kB)\n",
      "\u001b[2K   \u001b[90m━━━━━━━━━━━━━━━━━━━━━━━━━━━━━━━━━━━━━━━━\u001b[0m \u001b[32m756.0/756.0 kB\u001b[0m \u001b[31m15.8 MB/s\u001b[0m eta \u001b[36m0:00:00\u001b[0m\n",
      "\u001b[?25hDownloading pyro_api-0.1.2-py3-none-any.whl (11 kB)\n",
      "Downloading nvidia_cublas_cu12-12.4.5.8-py3-none-manylinux2014_x86_64.whl (363.4 MB)\n",
      "\u001b[2K   \u001b[90m━━━━━━━━━━━━━━━━━━━━━━━━━━━━━━━━━━━━━━━━\u001b[0m \u001b[32m363.4/363.4 MB\u001b[0m \u001b[31m4.4 MB/s\u001b[0m eta \u001b[36m0:00:00\u001b[0m\n",
      "\u001b[?25hDownloading nvidia_cuda_cupti_cu12-12.4.127-py3-none-manylinux2014_x86_64.whl (13.8 MB)\n",
      "\u001b[2K   \u001b[90m━━━━━━━━━━━━━━━━━━━━━━━━━━━━━━━━━━━━━━━━\u001b[0m \u001b[32m13.8/13.8 MB\u001b[0m \u001b[31m34.8 MB/s\u001b[0m eta \u001b[36m0:00:00\u001b[0m\n",
      "\u001b[?25hDownloading nvidia_cuda_nvrtc_cu12-12.4.127-py3-none-manylinux2014_x86_64.whl (24.6 MB)\n",
      "\u001b[2K   \u001b[90m━━━━━━━━━━━━━━━━━━━━━━━━━━━━━━━━━━━━━━━━\u001b[0m \u001b[32m24.6/24.6 MB\u001b[0m \u001b[31m22.7 MB/s\u001b[0m eta \u001b[36m0:00:00\u001b[0m\n",
      "\u001b[?25hDownloading nvidia_cuda_runtime_cu12-12.4.127-py3-none-manylinux2014_x86_64.whl (883 kB)\n",
      "\u001b[2K   \u001b[90m━━━━━━━━━━━━━━━━━━━━━━━━━━━━━━━━━━━━━━━━\u001b[0m \u001b[32m883.7/883.7 kB\u001b[0m \u001b[31m14.1 MB/s\u001b[0m eta \u001b[36m0:00:00\u001b[0m\n",
      "\u001b[?25hDownloading nvidia_cudnn_cu12-9.1.0.70-py3-none-manylinux2014_x86_64.whl (664.8 MB)\n",
      "\u001b[2K   \u001b[90m━━━━━━━━━━━━━━━━━━━━━━━━━━━━━━━━━━━━━━━━\u001b[0m \u001b[32m664.8/664.8 MB\u001b[0m \u001b[31m1.3 MB/s\u001b[0m eta \u001b[36m0:00:00\u001b[0m\n",
      "\u001b[?25hDownloading nvidia_cufft_cu12-11.2.1.3-py3-none-manylinux2014_x86_64.whl (211.5 MB)\n",
      "\u001b[2K   \u001b[90m━━━━━━━━━━━━━━━━━━━━━━━━━━━━━━━━━━━━━━━━\u001b[0m \u001b[32m211.5/211.5 MB\u001b[0m \u001b[31m5.9 MB/s\u001b[0m eta \u001b[36m0:00:00\u001b[0m\n",
      "\u001b[?25hDownloading nvidia_curand_cu12-10.3.5.147-py3-none-manylinux2014_x86_64.whl (56.3 MB)\n",
      "\u001b[2K   \u001b[90m━━━━━━━━━━━━━━━━━━━━━━━━━━━━━━━━━━━━━━━━\u001b[0m \u001b[32m56.3/56.3 MB\u001b[0m \u001b[31m12.1 MB/s\u001b[0m eta \u001b[36m0:00:00\u001b[0m\n",
      "\u001b[?25hDownloading nvidia_cusolver_cu12-11.6.1.9-py3-none-manylinux2014_x86_64.whl (127.9 MB)\n",
      "\u001b[2K   \u001b[90m━━━━━━━━━━━━━━━━━━━━━━━━━━━━━━━━━━━━━━━━\u001b[0m \u001b[32m127.9/127.9 MB\u001b[0m \u001b[31m7.2 MB/s\u001b[0m eta \u001b[36m0:00:00\u001b[0m\n",
      "\u001b[?25hDownloading nvidia_cusparse_cu12-12.3.1.170-py3-none-manylinux2014_x86_64.whl (207.5 MB)\n",
      "\u001b[2K   \u001b[90m━━━━━━━━━━━━━━━━━━━━━━━━━━━━━━━━━━━━━━━━\u001b[0m \u001b[32m207.5/207.5 MB\u001b[0m \u001b[31m6.1 MB/s\u001b[0m eta \u001b[36m0:00:00\u001b[0m\n",
      "\u001b[?25hDownloading nvidia_nvjitlink_cu12-12.4.127-py3-none-manylinux2014_x86_64.whl (21.1 MB)\n",
      "\u001b[2K   \u001b[90m━━━━━━━━━━━━━━━━━━━━━━━━━━━━━━━━━━━━━━━━\u001b[0m \u001b[32m21.1/21.1 MB\u001b[0m \u001b[31m64.1 MB/s\u001b[0m eta \u001b[36m0:00:00\u001b[0m\n",
      "\u001b[?25hInstalling collected packages: pyro-api, nvidia-nvjitlink-cu12, nvidia-curand-cu12, nvidia-cufft-cu12, nvidia-cuda-runtime-cu12, nvidia-cuda-nvrtc-cu12, nvidia-cuda-cupti-cu12, nvidia-cublas-cu12, nvidia-cusparse-cu12, nvidia-cudnn-cu12, nvidia-cusolver-cu12, pyro-ppl, chirho\n",
      "  Attempting uninstall: nvidia-nvjitlink-cu12\n",
      "    Found existing installation: nvidia-nvjitlink-cu12 12.5.82\n",
      "    Uninstalling nvidia-nvjitlink-cu12-12.5.82:\n",
      "      Successfully uninstalled nvidia-nvjitlink-cu12-12.5.82\n",
      "  Attempting uninstall: nvidia-curand-cu12\n",
      "    Found existing installation: nvidia-curand-cu12 10.3.6.82\n",
      "    Uninstalling nvidia-curand-cu12-10.3.6.82:\n",
      "      Successfully uninstalled nvidia-curand-cu12-10.3.6.82\n",
      "  Attempting uninstall: nvidia-cufft-cu12\n",
      "    Found existing installation: nvidia-cufft-cu12 11.2.3.61\n",
      "    Uninstalling nvidia-cufft-cu12-11.2.3.61:\n",
      "      Successfully uninstalled nvidia-cufft-cu12-11.2.3.61\n",
      "  Attempting uninstall: nvidia-cuda-runtime-cu12\n",
      "    Found existing installation: nvidia-cuda-runtime-cu12 12.5.82\n",
      "    Uninstalling nvidia-cuda-runtime-cu12-12.5.82:\n",
      "      Successfully uninstalled nvidia-cuda-runtime-cu12-12.5.82\n",
      "  Attempting uninstall: nvidia-cuda-nvrtc-cu12\n",
      "    Found existing installation: nvidia-cuda-nvrtc-cu12 12.5.82\n",
      "    Uninstalling nvidia-cuda-nvrtc-cu12-12.5.82:\n",
      "      Successfully uninstalled nvidia-cuda-nvrtc-cu12-12.5.82\n",
      "  Attempting uninstall: nvidia-cuda-cupti-cu12\n",
      "    Found existing installation: nvidia-cuda-cupti-cu12 12.5.82\n",
      "    Uninstalling nvidia-cuda-cupti-cu12-12.5.82:\n",
      "      Successfully uninstalled nvidia-cuda-cupti-cu12-12.5.82\n",
      "  Attempting uninstall: nvidia-cublas-cu12\n",
      "    Found existing installation: nvidia-cublas-cu12 12.5.3.2\n",
      "    Uninstalling nvidia-cublas-cu12-12.5.3.2:\n",
      "      Successfully uninstalled nvidia-cublas-cu12-12.5.3.2\n",
      "  Attempting uninstall: nvidia-cusparse-cu12\n",
      "    Found existing installation: nvidia-cusparse-cu12 12.5.1.3\n",
      "    Uninstalling nvidia-cusparse-cu12-12.5.1.3:\n",
      "      Successfully uninstalled nvidia-cusparse-cu12-12.5.1.3\n",
      "  Attempting uninstall: nvidia-cudnn-cu12\n",
      "    Found existing installation: nvidia-cudnn-cu12 9.3.0.75\n",
      "    Uninstalling nvidia-cudnn-cu12-9.3.0.75:\n",
      "      Successfully uninstalled nvidia-cudnn-cu12-9.3.0.75\n",
      "  Attempting uninstall: nvidia-cusolver-cu12\n",
      "    Found existing installation: nvidia-cusolver-cu12 11.6.3.83\n",
      "    Uninstalling nvidia-cusolver-cu12-11.6.3.83:\n",
      "      Successfully uninstalled nvidia-cusolver-cu12-11.6.3.83\n",
      "Successfully installed chirho-0.3.0 nvidia-cublas-cu12-12.4.5.8 nvidia-cuda-cupti-cu12-12.4.127 nvidia-cuda-nvrtc-cu12-12.4.127 nvidia-cuda-runtime-cu12-12.4.127 nvidia-cudnn-cu12-9.1.0.70 nvidia-cufft-cu12-11.2.1.3 nvidia-curand-cu12-10.3.5.147 nvidia-cusolver-cu12-11.6.1.9 nvidia-cusparse-cu12-12.3.1.170 nvidia-nvjitlink-cu12-12.4.127 pyro-api-0.1.2 pyro-ppl-1.9.1\n"
     ]
    }
   ],
   "source": [
    "!pip install chirho"
   ]
  },
  {
   "cell_type": "code",
   "execution_count": 196,
   "metadata": {
    "id": "Kn-hJNWIk_z2"
   },
   "outputs": [],
   "source": [
    "import os\n",
    "import warnings\n",
    "\n",
    "import matplotlib.pyplot as plt\n",
    "import pandas as pd\n",
    "import pyro\n",
    "import seaborn as sns\n",
    "import torch\n",
    "from pyro.distributions import Bernoulli, Beta, Normal\n",
    "from pyro.infer import SVI\n",
    "from pyro.infer.autoguide import AutoNormal\n",
    "from pyro.ops.indexing import Vindex\n",
    "from pyro.poutine import block\n",
    "\n",
    "from chirho.counterfactual.handlers import MultiWorldCounterfactual\n",
    "from chirho.indexed.ops import IndexSet, gather, indices_of\n",
    "from chirho.interventional.handlers import do\n",
    "from chirho.observational.handlers import condition\n",
    "\n",
    "warnings.filterwarnings(\"ignore\")\n",
    "\n",
    "smoke_test = \"CI\" in os.environ"
   ]
  },
  {
   "cell_type": "markdown",
   "metadata": {
    "id": "SRTvSTE4k_z3"
   },
   "source": [
    "Despite the tremendous progress over the last several decades in reducing causal inference to statistical practice, the \\\"causal revolution\\\" proclaimed by causal inference researchers remains incomplete, with a fragmented literature inaccessible to non-experts and still somewhat isolated from cutting-edge machine learning research and software tools.\n",
    "\n",
    "Probabilistic programming languages are promising substrates for bridging this gap thanks to the close correspondence between their operational semantics and the field’s standard mathematical formalism of structural causal models.\n",
    "\n",
    "In this tutorial, we elaborate on this idea with three key observations inspiring ChiRho's design, and outline a causal Bayesian workflow for using ChiRho to answer causal questions."
   ]
  },
  {
   "cell_type": "markdown",
   "metadata": {
    "id": "NvLZ7zBsk_z3"
   },
   "source": [
    "## Outline\n",
    "- [Introduction](#causal-probabilistic-programming-without-tears)\n",
    "- [Outline](#outline)\n",
    "- [Observation 1: Causal Models are Probabilistic Programs](#observation-1:-causal-models-are-probabilistic-programs)\n",
    "    - [Defining a Causal Model](#defining-a-causal-model)\n",
    "    - [Simulating Observational Data](#simulating-observational-data-with-fixed-parameters)\n",
    "    - [Applying an Intervention](#applying-an-intervention)\n",
    "    - [Simulating Interventional Data](#simulating-interventional-data-with-fixed-parameters)\n",
    "    - [Transforming Causal Models using ChiRho](#transforming-causal-models-using-ChiRho---do)\n",
    "- [Observation 2: Causal Uncertainty is Probabilistic Uncertainty](#observation-2:-causal-uncertainty-is-probabilistic-uncertainty)\n",
    "    - [Adding Uncertainty over Model Parameters](#adding-uncertainty-over-model-parameters)\n",
    "    - [Simulating Observational Data with Uncertain Parameters](#simulating-observational-data-with-uncertain-parameters)\n",
    "    - [Simulating Interventional Data with Uncertain Parameters](#simulating-interventional-data-with-uncertain-parameters)\n",
    "    - [Adding Uncertainty over Model Structure](#adding-uncertainty-over-model-structure)\n",
    "    - [Simulating Observational Data with Uncertain Structure and Parameters](#simulating-observational-data-with-uncertain-structure-and-parameters)\n",
    "    - [Simulating Interventional Data with Uncertain Structure and Parameters](#simulating-interventional-data-with-uncertain-structure-and-parameters)\n",
    "- [Observation 3: Causal Inference is Probabilistic Inference](#observation-3:-causal-inference-is-probabilistic-inference)\n",
    "    - [Automatically Constructing Counterfactual Worlds](#automatically-constructing-counterfactual-worlds---twinworldcounterfactual)\n",
    "    - [Generating Synthetic Data](#generating-synthetic-data)\n",
    "    - [Conditioning the Causal Model on Observational Data](#conditioning-the-causal-model-on-observational-data)\n",
    "    - [Using Variational Inference for Bayesian Causal Inference](#using-variational-inference-for-bayesian-causal-inference)\n",
    "    - [Simulating Interventional Data from the Approximate Posterior](#simulating-interventional-data-from-the-approximate-posterior)\n",
    "- [Recap](#recap)\n",
    "- [Causal Bayesian Workflow](#a-causal-bayesian-workflow)\n",
    "- [References](#references)"
   ]
  },
  {
   "cell_type": "markdown",
   "metadata": {
    "id": "o4wHGzvBk_z4"
   },
   "source": [
    "## Observation 1: causal models are probabilistic programs"
   ]
  },
  {
   "cell_type": "markdown",
   "metadata": {
    "id": "WmkN_6fPk_z4"
   },
   "source": [
    "Probabilistic programmers typically think of their code as defining a probability distribution over a set of variables, but programs often contain more information than just the joint distributions they induce. In practice, when we write probabilistic programs in languages such as Pyro we often bring to bear knowledge of causal relationships between variables, and implicitly, how changes to one variable would propagate to changes in others.\n",
    "\n",
    "Formally, a causal model specifies a *family* of probability distributions, indexed by a set of *interventions*. This set always includes a trivial *identity intervention*, which maps to the usual (acausal) joint distribution over random variables induced by simply executing the program. However, for other interventions the resulting joint distributions can differ significantly, as we'll see later throughout this tutorial.\n",
    "\n",
    "Somewhat less formally, causal models using these (nontrivial) interventions are useful when we want to represent hypothetical changes to a domain, such as a policy that encourages people to stop smoking. To ground this out a bit more concretely, consider the following Pyro program describing a causal model relating three random variables, *stress*, *smokes*, and *cancer*.\n",
    "\n",
    "**Note:** Later we'll see how to think of interventions as program transformations. ChiRho defaults to the trivial *identity intervention* if none are applied explicitly. The result of applying this identity intervention to a causal model is sometimes called an *observational model* or *factual model*."
   ]
  },
  {
   "cell_type": "markdown",
   "metadata": {
    "id": "oQ_d0nxRk_z4"
   },
   "source": [
    "### Defining a Causal Model"
   ]
  },
  {
   "cell_type": "code",
   "execution_count": null,
   "metadata": {
    "ExecuteTime": {
     "end_time": "2024-06-20T15:47:48.943236Z",
     "start_time": "2024-06-20T15:47:48.936955Z"
    },
    "id": "rPpL9dezk_z4"
   },
   "outputs": [],
   "source": [
    "def causal_model(stress_prob, smokes_cond_prob, cancer_cond_prob):\n",
    "    stress = pyro.sample(\"stress\", Bernoulli(stress_prob))\n",
    "\n",
    "    # Vindex is a helper function that allows for broadcastable indexing into a tensor\n",
    "    smokes_prob = Vindex(smokes_cond_prob)[..., stress.int()]\n",
    "    smokes = pyro.sample(\"smokes\", Bernoulli(smokes_prob))\n",
    "\n",
    "    cancer_prob = Vindex(cancer_cond_prob)[..., stress.int(), smokes.int()]\n",
    "    cancer = pyro.sample(\"cancer\", Bernoulli(cancer_prob))\n",
    "\n",
    "    return {\"stress\": stress, \"smokes\": smokes, \"cancer\": cancer}"
   ]
  },
  {
   "cell_type": "markdown",
   "metadata": {
    "id": "h2xSzR8pk_z5"
   },
   "source": [
    "Our `causal_model` takes as input three sets of parameters: marginal and conditional probability tables over *stress*, *smokes*, and *cancer* attributes;\n",
    "\n",
    "1.   `stress_prob`: a tensor representing the probability that someone is stressed,\n",
    "2.   `smokes_cond_prob`: a tensor representing the conditional probability of whether someone smokes given that they are stressed (or not),\n",
    "3.    `cancer_cond_prob`: a tensor representing the conditional probability of whether someone gets cancer given that they are stressed (or not) and whether they smoke (or not).\n",
    "\n",
    "The `causal_model` returns a sample from the joint distribution over whether the *stres*, *smokes*, and *cancer* attributes.\n",
    "\n",
    "For now, let's just choose some parameters by hand, but later we'll see how we can place priors over these parameters to express broader uncertainty and enable Bayesian causal inference."
   ]
  },
  {
   "cell_type": "code",
   "execution_count": 169,
   "metadata": {
    "ExecuteTime": {
     "end_time": "2024-06-20T15:47:49.512475Z",
     "start_time": "2024-06-20T15:47:48.941465Z"
    },
    "colab": {
     "base_uri": "https://localhost:8080/",
     "height": 273
    },
    "id": "1EkjmdP0k_z5",
    "outputId": "a51bcac1-96cf-484b-d864-49b7092ca042"
   },
   "outputs": [
    {
     "data": {
      "image/svg+xml": [
       "<?xml version=\"1.0\" encoding=\"UTF-8\" standalone=\"no\"?>\n",
       "<!DOCTYPE svg PUBLIC \"-//W3C//DTD SVG 1.1//EN\"\n",
       " \"http://www.w3.org/Graphics/SVG/1.1/DTD/svg11.dtd\">\n",
       "<!-- Generated by graphviz version 12.2.1 (20241206.2353)\n",
       " -->\n",
       "<!-- Pages: 1 -->\n",
       "<svg width=\"115pt\" height=\"188pt\"\n",
       " viewBox=\"0.00 0.00 115.04 188.00\" xmlns=\"http://www.w3.org/2000/svg\" xmlns:xlink=\"http://www.w3.org/1999/xlink\">\n",
       "<g id=\"graph0\" class=\"graph\" transform=\"scale(1 1) rotate(0) translate(4 184)\">\n",
       "<polygon fill=\"white\" stroke=\"none\" points=\"-4,4 -4,-184 111.04,-184 111.04,4 -4,4\"/>\n",
       "<!-- stress -->\n",
       "<g id=\"node1\" class=\"node\">\n",
       "<title>stress</title>\n",
       "<ellipse fill=\"white\" stroke=\"black\" cx=\"72.07\" cy=\"-162\" rx=\"31.39\" ry=\"18\"/>\n",
       "<text text-anchor=\"middle\" x=\"72.07\" y=\"-156.95\" font-family=\"Times,serif\" font-size=\"14.00\">stress</text>\n",
       "</g>\n",
       "<!-- smokes -->\n",
       "<g id=\"node2\" class=\"node\">\n",
       "<title>smokes</title>\n",
       "<ellipse fill=\"white\" stroke=\"black\" cx=\"39.07\" cy=\"-90\" rx=\"39.07\" ry=\"18\"/>\n",
       "<text text-anchor=\"middle\" x=\"39.07\" y=\"-84.95\" font-family=\"Times,serif\" font-size=\"14.00\">smokes</text>\n",
       "</g>\n",
       "<!-- stress&#45;&gt;smokes -->\n",
       "<g id=\"edge1\" class=\"edge\">\n",
       "<title>stress&#45;&gt;smokes</title>\n",
       "<path fill=\"none\" stroke=\"black\" d=\"M64.25,-144.41C60.56,-136.59 56.07,-127.06 51.9,-118.23\"/>\n",
       "<polygon fill=\"black\" stroke=\"black\" points=\"55.14,-116.88 47.71,-109.33 48.81,-119.86 55.14,-116.88\"/>\n",
       "</g>\n",
       "<!-- cancer -->\n",
       "<g id=\"node3\" class=\"node\">\n",
       "<title>cancer</title>\n",
       "<ellipse fill=\"white\" stroke=\"black\" cx=\"72.07\" cy=\"-18\" rx=\"34.97\" ry=\"18\"/>\n",
       "<text text-anchor=\"middle\" x=\"72.07\" y=\"-12.95\" font-family=\"Times,serif\" font-size=\"14.00\">cancer</text>\n",
       "</g>\n",
       "<!-- stress&#45;&gt;cancer -->\n",
       "<g id=\"edge2\" class=\"edge\">\n",
       "<title>stress&#45;&gt;cancer</title>\n",
       "<path fill=\"none\" stroke=\"black\" d=\"M78.15,-144.07C81.52,-133.79 85.36,-120.31 87.07,-108 89.27,-92.15 89.27,-87.85 87.07,-72 85.92,-63.73 83.81,-54.93 81.53,-46.93\"/>\n",
       "<polygon fill=\"black\" stroke=\"black\" points=\"84.87,-45.91 78.59,-37.38 78.18,-47.96 84.87,-45.91\"/>\n",
       "</g>\n",
       "<!-- smokes&#45;&gt;cancer -->\n",
       "<g id=\"edge3\" class=\"edge\">\n",
       "<title>smokes&#45;&gt;cancer</title>\n",
       "<path fill=\"none\" stroke=\"black\" d=\"M47.06,-72.05C50.75,-64.23 55.22,-54.75 59.35,-45.98\"/>\n",
       "<polygon fill=\"black\" stroke=\"black\" points=\"62.41,-47.7 63.51,-37.16 56.08,-44.71 62.41,-47.7\"/>\n",
       "</g>\n",
       "</g>\n",
       "</svg>\n"
      ],
      "text/plain": [
       "<graphviz.graphs.Digraph at 0x141920c70>"
      ]
     },
     "execution_count": 169,
     "metadata": {},
     "output_type": "execute_result"
    }
   ],
   "source": [
    "stress_prob = torch.tensor(0.5)\n",
    "smokes_cond_prob = torch.tensor([0.2, 0.8])\n",
    "cancer_cond_prob = torch.tensor([[0.1, 0.15], [0.8, 0.85]])\n",
    "\n",
    "pyro.render_model(causal_model, (stress_prob, smokes_cond_prob, cancer_cond_prob))"
   ]
  },
  {
   "cell_type": "markdown",
   "metadata": {
    "id": "h2qHCY7qk_z6"
   },
   "source": [
    "### Problem 1:\n",
    "\n",
    "There are many other possible covariates we could consider. For example, smoking behavior, stress, and cancer risk could be affected by age, gender, or income level.\n",
    "\n",
    "We'll modify the causal model above to consider age as an additional covariate. We will assume that age only affects stress and cancer risk (although in the real world, it could also affect smoking prevalence). We'll also make the simplifying assumption that stress and cancer risk increase with age.\n",
    "\n",
    "More precisely, we'll assume that:\n",
    "- $\\mathit{age} \\sim \\mathcal{N}(45, 15)$\n",
    "- The probability of being stressed increases with age, or $\\text{logit}(P(\\mathit{stress}|\\mathit{age})) = s_0 + s_1*(\\mathit{age} - 45)$.\n",
    "- The effect of age on cancer risk is modeled by an additional log-odds factor of $c * (\\mathit{age} - 45)$.\n",
    "\n",
    "Rendering the model with `pyro.render_model` should reveal the new covariate."
   ]
  },
  {
   "cell_type": "code",
   "execution_count": null,
   "metadata": {
    "colab": {
     "base_uri": "https://localhost:8080/",
     "height": 782
    },
    "id": "BlsELsvMk_z6",
    "outputId": "9b7c0386-7c31-46d5-c6d7-94d6bc3026b3"
   },
   "outputs": [
    {
     "data": {
      "image/svg+xml": [
       "<?xml version=\"1.0\" encoding=\"UTF-8\" standalone=\"no\"?>\n",
       "<!DOCTYPE svg PUBLIC \"-//W3C//DTD SVG 1.1//EN\"\n",
       " \"http://www.w3.org/Graphics/SVG/1.1/DTD/svg11.dtd\">\n",
       "<!-- Generated by graphviz version 2.43.0 (0)\n",
       " -->\n",
       "<!-- Title: %3 Pages: 1 -->\n",
       "<svg width=\"147pt\" height=\"260pt\"\n",
       " viewBox=\"0.00 0.00 146.70 260.00\" xmlns=\"http://www.w3.org/2000/svg\" xmlns:xlink=\"http://www.w3.org/1999/xlink\">\n",
       "<g id=\"graph0\" class=\"graph\" transform=\"scale(1 1) rotate(0) translate(4 256)\">\n",
       "<title>%3</title>\n",
       "<polygon fill=\"white\" stroke=\"transparent\" points=\"-4,4 -4,-256 142.7,-256 142.7,4 -4,4\"/>\n",
       "<!-- age -->\n",
       "<g id=\"node1\" class=\"node\">\n",
       "<title>age</title>\n",
       "<ellipse fill=\"white\" stroke=\"black\" cx=\"111.7\" cy=\"-234\" rx=\"27\" ry=\"18\"/>\n",
       "<text text-anchor=\"middle\" x=\"111.7\" y=\"-230.3\" font-family=\"Times,serif\" font-size=\"14.00\">age</text>\n",
       "</g>\n",
       "<!-- stress -->\n",
       "<g id=\"node2\" class=\"node\">\n",
       "<title>stress</title>\n",
       "<ellipse fill=\"white\" stroke=\"black\" cx=\"82.7\" cy=\"-162\" rx=\"30.59\" ry=\"18\"/>\n",
       "<text text-anchor=\"middle\" x=\"82.7\" y=\"-158.3\" font-family=\"Times,serif\" font-size=\"14.00\">stress</text>\n",
       "</g>\n",
       "<!-- age&#45;&gt;stress -->\n",
       "<g id=\"edge1\" class=\"edge\">\n",
       "<title>age&#45;&gt;stress</title>\n",
       "<path fill=\"none\" stroke=\"black\" d=\"M104.82,-216.41C101.48,-208.34 97.38,-198.43 93.62,-189.35\"/>\n",
       "<polygon fill=\"black\" stroke=\"black\" points=\"96.78,-187.86 89.72,-179.96 90.32,-190.53 96.78,-187.86\"/>\n",
       "</g>\n",
       "<!-- cancer -->\n",
       "<g id=\"node4\" class=\"node\">\n",
       "<title>cancer</title>\n",
       "<ellipse fill=\"white\" stroke=\"black\" cx=\"103.7\" cy=\"-18\" rx=\"33.6\" ry=\"18\"/>\n",
       "<text text-anchor=\"middle\" x=\"103.7\" y=\"-14.3\" font-family=\"Times,serif\" font-size=\"14.00\">cancer</text>\n",
       "</g>\n",
       "<!-- age&#45;&gt;cancer -->\n",
       "<g id=\"edge3\" class=\"edge\">\n",
       "<title>age&#45;&gt;cancer</title>\n",
       "<path fill=\"none\" stroke=\"black\" d=\"M116.16,-215.95C118.63,-205.63 121.45,-192.15 122.7,-180 127.55,-132.71 117.73,-77.74 110.48,-45.8\"/>\n",
       "<polygon fill=\"black\" stroke=\"black\" points=\"113.85,-44.83 108.15,-35.9 107.04,-46.44 113.85,-44.83\"/>\n",
       "</g>\n",
       "<!-- smokes -->\n",
       "<g id=\"node3\" class=\"node\">\n",
       "<title>smokes</title>\n",
       "<ellipse fill=\"white\" stroke=\"black\" cx=\"37.7\" cy=\"-90\" rx=\"37.89\" ry=\"18\"/>\n",
       "<text text-anchor=\"middle\" x=\"37.7\" y=\"-86.3\" font-family=\"Times,serif\" font-size=\"14.00\">smokes</text>\n",
       "</g>\n",
       "<!-- stress&#45;&gt;smokes -->\n",
       "<g id=\"edge2\" class=\"edge\">\n",
       "<title>stress&#45;&gt;smokes</title>\n",
       "<path fill=\"none\" stroke=\"black\" d=\"M72.26,-144.76C66.83,-136.32 60.07,-125.8 53.97,-116.31\"/>\n",
       "<polygon fill=\"black\" stroke=\"black\" points=\"56.74,-114.15 48.39,-107.63 50.85,-117.94 56.74,-114.15\"/>\n",
       "</g>\n",
       "<!-- stress&#45;&gt;cancer -->\n",
       "<g id=\"edge4\" class=\"edge\">\n",
       "<title>stress&#45;&gt;cancer</title>\n",
       "<path fill=\"none\" stroke=\"black\" d=\"M85.23,-143.87C88.81,-119.67 95.38,-75.21 99.65,-46.39\"/>\n",
       "<polygon fill=\"black\" stroke=\"black\" points=\"103.15,-46.59 101.15,-36.19 96.23,-45.57 103.15,-46.59\"/>\n",
       "</g>\n",
       "<!-- smokes&#45;&gt;cancer -->\n",
       "<g id=\"edge5\" class=\"edge\">\n",
       "<title>smokes&#45;&gt;cancer</title>\n",
       "<path fill=\"none\" stroke=\"black\" d=\"M52.67,-73.12C61.4,-63.86 72.56,-52.03 82.21,-41.79\"/>\n",
       "<polygon fill=\"black\" stroke=\"black\" points=\"84.92,-44.02 89.23,-34.34 79.83,-39.22 84.92,-44.02\"/>\n",
       "</g>\n",
       "</g>\n",
       "</svg>\n"
      ],
      "text/plain": [
       "<graphviz.graphs.Digraph at 0x7edf53e394d0>"
      ]
     },
     "execution_count": 5,
     "metadata": {},
     "output_type": "execute_result"
    },
    {
     "data": {
      "image/png": "[encoded data removed]",
      "text/plain": [
       "<Figure size 640x480 with 1 Axes>"
      ]
     },
     "metadata": {},
     "output_type": "display_data"
    }
   ],
   "source": [
    "def stress_prob_l(age):\n",
    "    return torch.sigmoid(0.1 * age - 5)\n",
    "\n",
    "ages = torch.arange(100)\n",
    "plt.plot(ages, stress_prob_l(ages))\n",
    "\n",
    "stress_age_intercept = torch.tensor(-5)\n",
    "stress_age_linear = torch.tensor(0.1) # Assume that stress increases with age\n",
    "age_cancer_coeff = torch.tensor(0.02) # Assume a 2%/year increase in risk\n",
    "\n",
    "def causal_model_with_age(smokes_cond_prob, cancer_cond_prob, stress_age_intercept, stress_age_linear, age_cancer_coeff):\n",
    "    age = pyro.sample(\"age\", Normal(45.0, 15.0))\n",
    "\n",
    "    # Stress probability depends on age\n",
    "    stress_logits = stress_age_intercept + stress_age_linear * age\n",
    "    stress = pyro.sample(\"stress\", Bernoulli(logits=stress_logits))\n",
    "\n",
    "    smokes_prob = Vindex(smokes_cond_prob)[..., stress.int()]\n",
    "    smokes = pyro.sample(\"smokes\", Bernoulli(smokes_prob))\n",
    "\n",
    "    # Cancer: original conditional + age effect\n",
    "    base_cancer_prob = Vindex(cancer_cond_prob)[..., stress.int(), smokes.int()]\n",
    "\n",
    "    # Add age effect on log-odds scale\n",
    "    cancer_logits = torch.logit(base_cancer_prob) + age_cancer_coeff * (age - 45.0)\n",
    "    cancer = pyro.sample(\"cancer\", Bernoulli(logits=cancer_logits))\n",
    "\n",
    "    return {\"age\": age, \"stress\": stress, \"smokes\": smokes, \"cancer\": cancer}\n",
    "\n",
    "causal_model_with_age_params = (smokes_cond_prob, cancer_cond_prob, stress_age_intercept, stress_age_linear, age_cancer_coeff)\n",
    "causal_model_with_age(*causal_model_with_age_params)\n",
    "pyro.render_model(causal_model_with_age, causal_model_with_age_params)"
   ]
  },
  {
   "cell_type": "markdown",
   "metadata": {
    "id": "GxO636TQk_z6"
   },
   "source": [
    "### Simulating Observational Data with Fixed Parameters"
   ]
  },
  {
   "cell_type": "markdown",
   "metadata": {
    "id": "7Vi2BO2ek_z6"
   },
   "source": [
    "Fortunately, all causal models written in ChiRho compose freely with the probabilistic programming tooling in Pyro. In summary, Pyro provides support for probabilistic modeling and inference with a set of composable *effect handlers*, which can be thought of as context managers that change how pyro primitive operations (such as `pyro.sample`) are interpreted. For more background on Pyro and its use of effect handlers, see https://pyro.ai/examples/intro_long.html and https://pyro.ai/examples/effect_handlers.html. Perhaps not surprisingly, ChiRho's main capabilities also make heavy use of similar effect handlers.\n",
    "\n",
    "As an example, let's use Pyro's `plate` effect handler to repeatedly sample from the `causal_model` to approximate the joint distribution for all of the attributes."
   ]
  },
  {
   "cell_type": "code",
   "execution_count": null,
   "metadata": {
    "ExecuteTime": {
     "end_time": "2024-06-20T15:47:49.564937Z",
     "start_time": "2024-06-20T15:47:49.516223Z"
    },
    "colab": {
     "base_uri": "https://localhost:8080/"
    },
    "id": "yWaLX_jpk_z6",
    "outputId": "1fccd634-c0f3-4719-8c9b-36fe0ce16a8f"
   },
   "outputs": [
    {
     "name": "stdout",
     "output_type": "stream",
     "text": [
      "smokes.shape --- torch.Size([10000])\n"
     ]
    }
   ],
   "source": [
    "n_individuals = 10000 if not smoke_test else 10\n",
    "\n",
    "def population_causal_model(n_individuals, model, *model_params):\n",
    "    with pyro.plate(\"individuals\", n_individuals, dim=-1):\n",
    "        return model(*model_params)\n",
    "\n",
    "result = population_causal_model(\n",
    "    n_individuals, causal_model, stress_prob, smokes_cond_prob, cancer_cond_prob\n",
    ")\n",
    "\n",
    "print(\"smokes.shape ---\", result[\"smokes\"].shape)"
   ]
  },
  {
   "cell_type": "markdown",
   "metadata": {
    "id": "_pU1GhMRk_z7"
   },
   "source": [
    "Let's pretend for a moment that we're only interested in the relationship between whether individuals smoke and how likely they are to get cancer. To understand this relationship a bit better, we can simulate observations from our model."
   ]
  },
  {
   "cell_type": "code",
   "execution_count": null,
   "metadata": {
    "ExecuteTime": {
     "end_time": "2024-06-20T15:47:49.768256Z",
     "start_time": "2024-06-20T15:47:49.540562Z"
    },
    "colab": {
     "base_uri": "https://localhost:8080/",
     "height": 490
    },
    "id": "hVXWGd3Ik_z7",
    "outputId": "0117ee15-bb58-4bab-ee0d-3097cf0a59af"
   },
   "outputs": [
    {
     "data": {
      "text/plain": [
       "[Text(0.5, 1.0, 'Observational Data - Fixed Parameters')]"
      ]
     },
     "execution_count": 7,
     "metadata": {},
     "output_type": "execute_result"
    },
    {
     "data": {
      "image/png": "[encoded data removed]",
      "text/plain": [
       "<Figure size 640x480 with 1 Axes>"
      ]
     },
     "metadata": {},
     "output_type": "display_data"
    }
   ],
   "source": [
    "num_samples = 5000 if not smoke_test else 10\n",
    "\n",
    "\n",
    "def visualize_proportions_single(prediction, title):\n",
    "    cancer = prediction[\"cancer\"]\n",
    "    smokes = torch.broadcast_tensors(prediction[\"smokes\"], prediction[\"cancer\"])[0]\n",
    "\n",
    "    assert cancer.shape == smokes.shape\n",
    "\n",
    "    data = torch.concat((smokes.reshape(-1, 1), cancer.reshape(-1, 1)), axis=-1)\n",
    "    frame = (\n",
    "        pd.DataFrame(data.numpy(), columns=[\"smokes\", \"cancer\"])\n",
    "        .astype(\"category\")\n",
    "        .replace({0: \"0\", 1: \"1\"})\n",
    "    )\n",
    "\n",
    "    return sns.histplot(\n",
    "        x=\"smokes\", hue=\"cancer\", multiple=\"dodge\", shrink=0.7, data=frame\n",
    "    ).set(title=title)\n",
    "\n",
    "\n",
    "prediction_fixed = population_causal_model(\n",
    "    n_individuals, causal_model, stress_prob, smokes_cond_prob, cancer_cond_prob\n",
    ")\n",
    "\n",
    "visualize_proportions_single(prediction_fixed, \"Observational Data - Fixed Parameters\")"
   ]
  },
  {
   "cell_type": "markdown",
   "metadata": {
    "id": "v0lkoGCSk_z7"
   },
   "source": [
    "As we can see clearly from this simulation, individuals who smoke are much more likely to get cancer than individuals who don't. Of the ~5,000 simulated individuals who smoke ~3600 got cancer, roughly 72% of the smokers. Of the remaining ~5,000 simulated individuals who did not smoke only ~1,200 individuals got cancer, a much lower 24% of the smoking population.\n",
    "\n",
    "We can also approximate our uncertainty in this conclusion by repeating the process a number of times, each time calculating the proportions of individuals with cancer for smokers and non-smokers."
   ]
  },
  {
   "cell_type": "code",
   "execution_count": null,
   "metadata": {
    "ExecuteTime": {
     "end_time": "2024-06-20T15:47:51.714244Z",
     "start_time": "2024-06-20T15:47:49.770529Z"
    },
    "colab": {
     "base_uri": "https://localhost:8080/",
     "height": 509
    },
    "id": "dP8t5T1Qk_z7",
    "outputId": "0716f8c1-c595-4b1a-f5fe-ce971133638e"
   },
   "outputs": [
    {
     "data": {
      "text/plain": [
       "<Axes: title={'center': 'Observational Data - Fixed Parameters'}, xlabel='Proportion of Individuals w/ Cancer', ylabel='Density'>"
      ]
     },
     "execution_count": 8,
     "metadata": {},
     "output_type": "execute_result"
    },
    {
     "data": {
      "image/png": "[encoded data removed]",
      "text/plain": [
       "<Figure size 640x480 with 1 Axes>"
      ]
     },
     "metadata": {},
     "output_type": "display_data"
    }
   ],
   "source": [
    "def multiple_samples(model, args, num_samples=num_samples):\n",
    "    with pyro.plate(\"samples\", num_samples, dim=-2):\n",
    "        return model(*args)\n",
    "\n",
    "def visualize_proportions_multiple(prediction, title, position=(0.6, 1), ax=None):\n",
    "    cancer = prediction[\"cancer\"]\n",
    "    smokes = torch.broadcast_tensors(prediction[\"smokes\"], cancer)[0]\n",
    "\n",
    "    assert cancer.shape == smokes.shape\n",
    "\n",
    "    cancer_and_smokes = cancer * smokes\n",
    "    cancer_given_smokes = cancer_and_smokes.sum(1) / smokes.sum(1)\n",
    "    cancer_and_not_smokes = cancer * (1 - smokes)\n",
    "    cancer_given_not_smokes = cancer_and_not_smokes.sum(1) / (1 - smokes).sum(1)\n",
    "\n",
    "    if ax is None:\n",
    "        ax = plt.gca()\n",
    "    sns.histplot(\n",
    "        data=cancer_given_not_smokes.detach().numpy(),\n",
    "        label=\"Doesn't Smoke\",\n",
    "        ax=ax,\n",
    "        legend=True,\n",
    "        ec=None\n",
    "    )\n",
    "    sns.histplot(\n",
    "        data=cancer_given_smokes.detach().numpy(), label=\"Smokes\", ax=ax, legend=True, ec=None\n",
    "    )\n",
    "    ax.legend(loc=\"upper left\", bbox_to_anchor=position)\n",
    "    ax.set(\n",
    "        xlabel=\"Proportion of Individuals w/ Cancer\",\n",
    "        ylabel=\"Density\",\n",
    "        title=title,\n",
    "        xlim=(0, 1),\n",
    "    )\n",
    "    return ax\n",
    "\n",
    "predictions_fixed = multiple_samples(\n",
    "    population_causal_model,\n",
    "    (n_individuals, causal_model, stress_prob, smokes_cond_prob, cancer_cond_prob),\n",
    ")\n",
    "\n",
    "visualize_proportions_multiple(\n",
    "    predictions_fixed, \"Observational Data - Fixed Parameters\"\n",
    ")"
   ]
  },
  {
   "cell_type": "markdown",
   "metadata": {
    "id": "FsgGklGik_z7"
   },
   "source": [
    "As we can see clearly, even when simulating many times our model tells us that individuals who smoke are consistently much more likely to get cancer than individuals who don't. In fact, since our model together with the chosen probability tables describe a unique joint distribution over individual attributes, we're only approximating an answer that we could've straightforwardly obtained by hand. Let  $c, s, t$ stand for the presence of cancer, smoking and stress, respectively. $P(t \\vert s) = \\frac{P(s\\vert t)P(t)}{P(s)}= .8$, and $P(t\\vert \\neg s ) = \\frac{P(\\neg s \\vert t)P(t)}{P(\\neg s)} = .2$. Then, $P(c\\vert s) = P(c\\vert t, s ) \\times P(t \\vert  s) + P(c\\vert t, s) \\times P(\\neg t\\vert s) =.71$, and analogously $P(c\\vert \\neg s) = .24$, which are modes of the empirical distributions shown above. The variance here is only due to the fact that we are simulating a finite population."
   ]
  },
  {
   "cell_type": "markdown",
   "metadata": {
    "id": "Z5PDeBZRk_z7"
   },
   "source": [
    "### Problem 2:\n",
    "\n",
    "Modify the plotting code above to visualize the proportion of the population that has cancer by age. If you made the same modeling assumptions as we did, you should see that cancer rates increase with age."
   ]
  },
  {
   "cell_type": "code",
   "execution_count": null,
   "metadata": {
    "colab": {
     "base_uri": "https://localhost:8080/",
     "height": 625
    },
    "id": "fQkggo7ck_z8",
    "outputId": "51016e2c-cdad-465a-cd3c-a5e7315f163d"
   },
   "outputs": [
    {
     "data": {
      "text/plain": [
       "<Axes: title={'center': 'Cancer Rates by Age Group'}, xlabel='Age Groups', ylabel='Cancer Rate'>"
      ]
     },
     "execution_count": 9,
     "metadata": {},
     "output_type": "execute_result"
    },
    {
     "data": {
      "image/png": "[encoded data removed]",
      "text/plain": [
       "<Figure size 1000x600 with 1 Axes>"
      ]
     },
     "metadata": {},
     "output_type": "display_data"
    }
   ],
   "source": [
    "def plot_cancer_by_age(prediction, title=\"Cancer Rates by Age Group\"):\n",
    "    \"\"\"\n",
    "    Simple bar plot of cancer rates by age bins\n",
    "    \"\"\"\n",
    "    cancer = prediction[\"cancer\"]\n",
    "    age = prediction[\"age\"]\n",
    "\n",
    "    # Create 10-year age bins\n",
    "    age_bins = torch.arange(10, 90, 10)\n",
    "    age_labels = [f\"{int(age_bins[i])}-{int(age_bins[i+1])}\" for i in range(len(age_bins)-1)]\n",
    "    age_labels.append(f\"{int(age_bins[-1])}+\")\n",
    "\n",
    "    age_binned = torch.bucketize(age, age_bins)\n",
    "\n",
    "    # Calculate cancer rates for each bin\n",
    "    cancer_rates = []\n",
    "    bin_centers = []\n",
    "\n",
    "    for bin_idx in range(len(age_labels)):\n",
    "        mask = (age_binned == bin_idx)\n",
    "        if mask.sum() > 0:\n",
    "            cancer_rate = cancer[mask].float().mean().item()\n",
    "            cancer_rates.append(cancer_rate)\n",
    "            bin_centers.append(bin_idx)\n",
    "\n",
    "    plt.figure(figsize=(10, 6))\n",
    "    plt.bar(bin_centers, cancer_rates, alpha=0.7)\n",
    "    plt.xlabel(\"Age Groups\")\n",
    "    plt.ylabel(\"Cancer Rate\")\n",
    "    plt.title(title)\n",
    "    plt.xticks(bin_centers, [age_labels[i] for i in bin_centers])\n",
    "    plt.ylim(0, max(cancer_rates) * 1.1)\n",
    "\n",
    "    # Add value labels on bars\n",
    "    for i, rate in enumerate(cancer_rates):\n",
    "        plt.text(bin_centers[i], rate + max(cancer_rates) * 0.01,\n",
    "                f'{rate:.3f}', ha='center', va='bottom')\n",
    "\n",
    "    plt.tight_layout()\n",
    "    return plt.gca()\n",
    "\n",
    "predictions_fixed = multiple_samples(\n",
    "    population_causal_model,\n",
    "    (n_individuals, causal_model_with_age) + causal_model_with_age_params,\n",
    ")\n",
    "\n",
    "plot_cancer_by_age(predictions_fixed)"
   ]
  },
  {
   "cell_type": "markdown",
   "metadata": {
    "id": "bfV8SGe7k_z8"
   },
   "source": [
    "So far we have a program that describes the distribution over data given model parameters. Somewhat more abstractly, we can imagine this process of simulating from a model as we've done above with the following (somewhat cartoonish) diagram. Here, each point in \"model space\" or \"parameter space\" induces a joint distribution over data."
   ]
  },
  {
   "cell_type": "markdown",
   "metadata": {
    "id": "BsP_PPlVk_z8"
   },
   "source": [
    "![fig1](https://basisresearch.github.io/chirho/_images/Conditional_Distribution_of_Data.png)"
   ]
  },
  {
   "cell_type": "markdown",
   "metadata": {
    "id": "bMV-PCpnk_z8"
   },
   "source": [
    "### Applying an Intervention"
   ]
  },
  {
   "cell_type": "markdown",
   "metadata": {
    "id": "QeSZxvVyk_z8"
   },
   "source": [
    "Simulating from our `causal_model` is certainly interesting and informative, but it doesn't exactly tell us what we're interested in. We want to know to what extent smoking *causes* cancer, not just whether smoking is associated with cancer. To answer this question, we can instead sample from a modified version of our model in which individuals are forced to smoke or not smoke, regardless of their level of stress. We can represent these kinds of modifications as **interventions**, and implement them in ChiRho as a special kind of program transformation. Later we'll see how ChiRho helps to automate the application of these kinds of interventions, but to build some intuition let's first walk through what these new programs would look like if we built them by hand instead.\n",
    "\n",
    "Consider the following new Pyro program; `intervened_causal_model`, which closely resembles our original `causal_model` except in how the *smokes* attribute is assigned. Specifically, we've added the expression `smokes = smokes_assignment` after ` pyro.sample(\"smokes\", Bernoulli(smokes_prob))`, where `smokes_assignment` is now an argument. This simple change means that any downstream computation will use `smokes_assignment` rather than the values of `smokes` sampled from the Bernoulli distribution. As we will simplify these models later on, we call these versions `manual`."
   ]
  },
  {
   "cell_type": "code",
   "execution_count": null,
   "metadata": {
    "ExecuteTime": {
     "end_time": "2024-06-20T15:47:51.721958Z",
     "start_time": "2024-06-20T15:47:51.713713Z"
    },
    "id": "O5ruKREEk_z8"
   },
   "outputs": [],
   "source": [
    "def intervened_causal_model_manual(\n",
    "    stress_prob, smokes_cond_prob, cancer_cond_prob, smokes_assignment\n",
    "):\n",
    "\n",
    "    stress = pyro.sample(\"stress\", Bernoulli(stress_prob))\n",
    "\n",
    "    smokes_prob = Vindex(smokes_cond_prob)[..., stress.int()]\n",
    "    smokes = pyro.sample(\"smokes\", Bernoulli(smokes_prob))\n",
    "    # smokes no longer depends on stress, as it's just reassigned by `smokes_assignment`.\n",
    "    smokes = smokes_assignment\n",
    "\n",
    "    cancer_prob = Vindex(cancer_cond_prob)[..., stress.int(), smokes.int()]\n",
    "    cancer = pyro.sample(\"cancer\", Bernoulli(cancer_prob))\n",
    "\n",
    "    return {\"stress\": stress, \"smokes\": smokes, \"cancer\": cancer}\n",
    "\n",
    "\n",
    "def population_intervened_causal_model_manual(\n",
    "    n_individuals, stress_prob, smokes_cond_prob, cancer_cond_prob\n",
    "):\n",
    "    # Let's imagine that we force half the people to always smoke and half to never smoke.\n",
    "    smokes_assignment = torch.tensor([0.0, 1.0]).repeat(n_individuals // 2)\n",
    "\n",
    "    with pyro.plate(\"individuals\", n_individuals, dim=-1):\n",
    "        return intervened_causal_model_manual(\n",
    "            stress_prob, smokes_cond_prob, cancer_cond_prob, smokes_assignment\n",
    "        )"
   ]
  },
  {
   "cell_type": "markdown",
   "metadata": {
    "id": "Uiu6MdzBk_z8"
   },
   "source": [
    "### Simulating Interventional Data with Fixed Parameters"
   ]
  },
  {
   "cell_type": "markdown",
   "metadata": {
    "id": "cHcR-af-k_z8"
   },
   "source": [
    "Let's visualize a simulation from these new programs (compare this to the previous visualization based on the original simulation). First, one run on a barplot, then the proportions obtained in multiple (1k) runs using a histogram."
   ]
  },
  {
   "cell_type": "code",
   "execution_count": null,
   "metadata": {
    "ExecuteTime": {
     "end_time": "2024-06-20T15:47:51.865169Z",
     "start_time": "2024-06-20T15:47:51.719484Z"
    },
    "id": "Y13pK_1wk_z9",
    "outputId": "434a85fc-3242-401e-fff4-7ea8cdf0775d"
   },
   "outputs": [
    {
     "data": {
      "text/plain": [
       "[Text(0.5, 1.0, 'Intervened Data - Fixed Parameters')]"
      ]
     },
     "execution_count": 139,
     "metadata": {},
     "output_type": "execute_result"
    },
    {
     "data": {
      "image/png": "[encoded data removed]",
      "text/plain": [
       "<Figure size 640x480 with 1 Axes>"
      ]
     },
     "metadata": {},
     "output_type": "display_data"
    }
   ],
   "source": [
    "prediction_int_fixed = population_intervened_causal_model_manual(\n",
    "    n_individuals, stress_prob, smokes_cond_prob, cancer_cond_prob\n",
    ")\n",
    "visualize_proportions_single(prediction_int_fixed, \"Intervened Data - Fixed Parameters\")"
   ]
  },
  {
   "cell_type": "code",
   "execution_count": null,
   "metadata": {
    "ExecuteTime": {
     "end_time": "2024-06-20T15:47:53.477327Z",
     "start_time": "2024-06-20T15:47:51.864055Z"
    },
    "id": "u-6SFGTak_z9",
    "outputId": "7328fbae-804e-4177-8306-c6d79f66b082"
   },
   "outputs": [
    {
     "data": {
      "text/plain": [
       "<Axes: title={'center': 'Interventional Data - Fixed Parameters'}, xlabel='Proportion of Individuals w/ Cancer', ylabel='Density'>"
      ]
     },
     "execution_count": 140,
     "metadata": {},
     "output_type": "execute_result"
    },
    {
     "data": {
      "image/png": "[encoded data removed]",
      "text/plain": [
       "<Figure size 640x480 with 1 Axes>"
      ]
     },
     "metadata": {},
     "output_type": "display_data"
    }
   ],
   "source": [
    "predictions_int_fixed = multiple_samples(\n",
    "    population_intervened_causal_model_manual,\n",
    "    (n_individuals, stress_prob, smokes_cond_prob, cancer_cond_prob),\n",
    ")\n",
    "visualize_proportions_multiple(\n",
    "    predictions_int_fixed, \"Interventional Data - Fixed Parameters\"\n",
    ")"
   ]
  },
  {
   "cell_type": "markdown",
   "metadata": {
    "id": "-Y1HBB7Lk_z9"
   },
   "source": [
    "### Problem 3:\n",
    "\n",
    "The smoking intervention can also be applied to our enhanced model that includes age. Apply the intervention manually to produce a new intervened model, as we did above. Constructing intervened models this way is tedious, and later we will see an automated way to solve this problem.\n",
    "\n",
    "Rendering the model should show that the causal edge between `smokes` and `cancer` is gone in the intervened model."
   ]
  },
  {
   "cell_type": "code",
   "execution_count": null,
   "metadata": {
    "colab": {
     "base_uri": "https://localhost:8080/",
     "height": 273
    },
    "id": "6F0z-RZTk_z9",
    "outputId": "b1bffb7c-3826-43f1-ab34-1bb73fea9b79"
   },
   "outputs": [
    {
     "data": {
      "image/svg+xml": [
       "<?xml version=\"1.0\" encoding=\"UTF-8\" standalone=\"no\"?>\n",
       "<!DOCTYPE svg PUBLIC \"-//W3C//DTD SVG 1.1//EN\"\n",
       " \"http://www.w3.org/Graphics/SVG/1.1/DTD/svg11.dtd\">\n",
       "<!-- Generated by graphviz version 2.43.0 (0)\n",
       " -->\n",
       "<!-- Title: %3 Pages: 1 -->\n",
       "<svg width=\"168pt\" height=\"188pt\"\n",
       " viewBox=\"0.00 0.00 168.49 188.00\" xmlns=\"http://www.w3.org/2000/svg\" xmlns:xlink=\"http://www.w3.org/1999/xlink\">\n",
       "<g id=\"graph0\" class=\"graph\" transform=\"scale(1 1) rotate(0) translate(4 184)\">\n",
       "<title>%3</title>\n",
       "<polygon fill=\"white\" stroke=\"transparent\" points=\"-4,4 -4,-184 164.49,-184 164.49,4 -4,4\"/>\n",
       "<!-- age -->\n",
       "<g id=\"node1\" class=\"node\">\n",
       "<title>age</title>\n",
       "<ellipse fill=\"white\" stroke=\"black\" cx=\"96.7\" cy=\"-162\" rx=\"27\" ry=\"18\"/>\n",
       "<text text-anchor=\"middle\" x=\"96.7\" y=\"-158.3\" font-family=\"Times,serif\" font-size=\"14.00\">age</text>\n",
       "</g>\n",
       "<!-- stress -->\n",
       "<g id=\"node2\" class=\"node\">\n",
       "<title>stress</title>\n",
       "<ellipse fill=\"white\" stroke=\"black\" cx=\"67.7\" cy=\"-90\" rx=\"30.59\" ry=\"18\"/>\n",
       "<text text-anchor=\"middle\" x=\"67.7\" y=\"-86.3\" font-family=\"Times,serif\" font-size=\"14.00\">stress</text>\n",
       "</g>\n",
       "<!-- age&#45;&gt;stress -->\n",
       "<g id=\"edge1\" class=\"edge\">\n",
       "<title>age&#45;&gt;stress</title>\n",
       "<path fill=\"none\" stroke=\"black\" d=\"M89.82,-144.41C86.48,-136.34 82.38,-126.43 78.62,-117.35\"/>\n",
       "<polygon fill=\"black\" stroke=\"black\" points=\"81.78,-115.86 74.72,-107.96 75.32,-118.53 81.78,-115.86\"/>\n",
       "</g>\n",
       "<!-- cancer -->\n",
       "<g id=\"node4\" class=\"node\">\n",
       "<title>cancer</title>\n",
       "<ellipse fill=\"white\" stroke=\"black\" cx=\"126.7\" cy=\"-18\" rx=\"33.6\" ry=\"18\"/>\n",
       "<text text-anchor=\"middle\" x=\"126.7\" y=\"-14.3\" font-family=\"Times,serif\" font-size=\"14.00\">cancer</text>\n",
       "</g>\n",
       "<!-- age&#45;&gt;cancer -->\n",
       "<g id=\"edge3\" class=\"edge\">\n",
       "<title>age&#45;&gt;cancer</title>\n",
       "<path fill=\"none\" stroke=\"black\" d=\"M100.26,-144.15C105.37,-119.94 114.85,-75.05 120.96,-46.13\"/>\n",
       "<polygon fill=\"black\" stroke=\"black\" points=\"124.41,-46.78 123.05,-36.27 117.56,-45.33 124.41,-46.78\"/>\n",
       "</g>\n",
       "<!-- smokes -->\n",
       "<g id=\"node3\" class=\"node\">\n",
       "<title>smokes</title>\n",
       "<ellipse fill=\"white\" stroke=\"black\" cx=\"37.7\" cy=\"-18\" rx=\"37.89\" ry=\"18\"/>\n",
       "<text text-anchor=\"middle\" x=\"37.7\" y=\"-14.3\" font-family=\"Times,serif\" font-size=\"14.00\">smokes</text>\n",
       "</g>\n",
       "<!-- stress&#45;&gt;smokes -->\n",
       "<g id=\"edge2\" class=\"edge\">\n",
       "<title>stress&#45;&gt;smokes</title>\n",
       "<path fill=\"none\" stroke=\"black\" d=\"M60.59,-72.41C57.13,-64.34 52.88,-54.43 48.99,-45.35\"/>\n",
       "<polygon fill=\"black\" stroke=\"black\" points=\"52.12,-43.77 44.96,-35.96 45.69,-46.53 52.12,-43.77\"/>\n",
       "</g>\n",
       "<!-- stress&#45;&gt;cancer -->\n",
       "<g id=\"edge4\" class=\"edge\">\n",
       "<title>stress&#45;&gt;cancer</title>\n",
       "<path fill=\"none\" stroke=\"black\" d=\"M80.79,-73.46C88.4,-64.44 98.14,-52.88 106.69,-42.73\"/>\n",
       "<polygon fill=\"black\" stroke=\"black\" points=\"109.46,-44.88 113.23,-34.98 104.11,-40.37 109.46,-44.88\"/>\n",
       "</g>\n",
       "</g>\n",
       "</svg>\n"
      ],
      "text/plain": [
       "<graphviz.graphs.Digraph at 0x7edf22190690>"
      ]
     },
     "execution_count": 10,
     "metadata": {},
     "output_type": "execute_result"
    }
   ],
   "source": [
    "def intervened_causal_model_with_age_manual(\n",
    "    smokes_cond_prob,\n",
    "    cancer_cond_prob,\n",
    "    stress_age_intercept,\n",
    "    stress_age_linear,\n",
    "    age_cancer_coeff,\n",
    "    smokes_assignment\n",
    "):\n",
    "    age = pyro.sample(\"age\", Normal(45.0, 15.0))\n",
    "\n",
    "    # Stress probability depends on age\n",
    "    stress_logits = stress_age_intercept + stress_age_linear * age\n",
    "    stress = pyro.sample(\"stress\", Bernoulli(logits=stress_logits))\n",
    "\n",
    "    smokes_prob = Vindex(smokes_cond_prob)[..., stress.int()]\n",
    "    smokes = pyro.sample(\"smokes\", Bernoulli(smokes_prob))\n",
    "    smokes = smokes_assignment\n",
    "\n",
    "    # Cancer: original conditional + age effect\n",
    "    base_cancer_prob = Vindex(cancer_cond_prob)[..., stress.int(), smokes.int()]\n",
    "\n",
    "    # Add age effect on log-odds scale\n",
    "    cancer_logits = torch.logit(base_cancer_prob) + age_cancer_coeff * (age - 45.0)\n",
    "    cancer = pyro.sample(\"cancer\", Bernoulli(logits=cancer_logits))\n",
    "\n",
    "    return {\"age\": age, \"stress\": stress, \"smokes\": smokes, \"cancer\": cancer}\n",
    "\n",
    "smokes_assignment = torch.tensor([0.0, 1.0]).repeat(n_individuals // 2)\n",
    "pyro.render_model(intervened_causal_model_with_age_manual, causal_model_with_age_params + (smokes_assignment,))"
   ]
  },
  {
   "cell_type": "markdown",
   "metadata": {
    "id": "2V52X1EHk_z9"
   },
   "source": [
    "Using our intervened model we can clearly see that changing the mechanism by which individuals choose whether or not to smoke dramatically changes the joint distribution between smoking and cancer. In our observational model, individuals who smoke are much more likely to get cancer than those who don't smoke. However, in our modified model in which individuals are either forced to smoke or forced not no smoke, the dependence between smoking and cancer nearly disapears.\n",
    "\n",
    "The phenomenon we're observing in this (contrived) example is known as confounding. Here, the reason we see a statistical dependency between smoking and cancer in our original `causal_model` without any interventions is because of the individuals' stress. Given the parameters we happened to choose, individuals who are stressed are more likely to smoke and stress causes an increase in cancer. The confounding effect of stress disappears in our intervened program, as stress no longer influences whether individuals smoke or not.\n",
    "\n",
    "In causal inference settings we often wish to answer a specific scientific or policy question using our causal models. For example, we may be interested in the **Average Treatment Effect** (ATE), the average difference in the proportion of individuals with cancer between individuals who were forced to smoke and those who were forced to not smoke. This ATE quantity can be expressed as a function of the population of individuals' attributes after applying an intervention."
   ]
  },
  {
   "cell_type": "code",
   "execution_count": null,
   "metadata": {
    "ExecuteTime": {
     "end_time": "2024-06-20T15:47:53.881230Z",
     "start_time": "2024-06-20T15:47:53.483154Z"
    },
    "id": "Y_KMPHprk_z9",
    "outputId": "3a68f7d6-af53-41e4-9710-c8c303c40955"
   },
   "outputs": [
    {
     "data": {
      "text/plain": [
       "<Axes: title={'center': 'Interventional Data - Fixed Parameters'}, xlabel='Average Treatment Effect (ATE)', ylabel='Density'>"
      ]
     },
     "execution_count": 142,
     "metadata": {},
     "output_type": "execute_result"
    },
    {
     "data": {
      "image/png": "[encoded data removed]",
      "text/plain": [
       "<Figure size 640x480 with 1 Axes>"
      ]
     },
     "metadata": {},
     "output_type": "display_data"
    }
   ],
   "source": [
    "def visualize_ATE(prediction, title=None, position=(0.6, 1), ax=None, label=None):\n",
    "    cancer = prediction[\"cancer\"]\n",
    "    smokes = torch.broadcast_tensors(cancer, prediction[\"smokes\"])[1]\n",
    "\n",
    "    assert cancer.shape == smokes.shape\n",
    "\n",
    "    cancer_and_smokes = cancer * smokes\n",
    "    cancer_given_smokes = cancer_and_smokes.sum(1) / smokes.sum(1)\n",
    "    cancer_and_not_smokes = cancer * (1 - smokes)\n",
    "    cancer_given_not_smokes = cancer_and_not_smokes.sum(1) / (1 - smokes).sum(1)\n",
    "\n",
    "    ate = cancer_given_smokes - cancer_given_not_smokes\n",
    "\n",
    "    if ax is None:\n",
    "        ax = plt.gca()\n",
    "\n",
    "    ax = sns.histplot(data=ate.detach().numpy(), ax=ax, label=label, ec=None)\n",
    "    ax.set_xlim(-1, 1)\n",
    "    ax.set(xlabel=\"Average Treatment Effect (ATE)\", ylabel=\"Density\", title=title)\n",
    "    return ax\n",
    "\n",
    "visualize_ATE(predictions_int_fixed, \"Interventional Data - Fixed Parameters\")"
   ]
  },
  {
   "cell_type": "markdown",
   "metadata": {
    "id": "3hYGN-Iak_z-"
   },
   "source": [
    "**Note:** Just as in the observational setting above, the expectation of the proportion of individuals with cancer in this interventional setting also has a closed-form analytic solution that we can easily compute by hand. This is the case here because (i) the structure of our `causal_model` is isomorphic to a causal graphical model, and thus Pearl's backdoor adjustment formula applies, and (ii) all attributes ($stress$, $smokes$, $cancer$) are discrete. In more complicated examples like our [structured latent confounder](slc.ipynb) example, this will not be the case. Using Pearl's $do$ notation (see Pearl, 2009), we have $P(c\\vert do(s)) = P(c\\vert s, t)P(t) + P(c\\vert s, \\neg t) P(\\neg t) = 0.5$, and anologously $P(c\\vert do(\\neg s)) = .45$. Therefore, we have that $ATE \\equiv E[P(c\\vert do(s))] - E[P(c\\vert do(\\neq s))] = 0.5 - 0.45 = 0.05$, which is again consistent with our answer simulated answer above."
   ]
  },
  {
   "cell_type": "markdown",
   "metadata": {
    "id": "JbC7Hmfwk_z-"
   },
   "source": [
    "### Transforming Causal Models using ChiRho - `do`"
   ]
  },
  {
   "cell_type": "markdown",
   "metadata": {
    "id": "UwNfxjBMk_z-"
   },
   "source": [
    "\n",
    "So far, we've accomplished some limited form of causal reasoning by manually rewriting our original program, replacing the mechanism for how individuals choose to smoke directly in Pyro's syntax, and then simulating from the new programs. In fact, even though we called our program a `causal_model`, we haven't seen anything that we couldn't already do in an ordinary probabilistic programming language like Pyro.\n",
    "\n",
    "This manual approach is perfectly reasonable in simple scenarios where we have a single model and a single \"thought experiment\" we want to explore. However, as we'll see throughout these tutorials and examples, reasoning about cause and effect can often involve much more complicated compositions of program transformations. For example, in our [Mediation Analysis](mediation.ipynb) example we'll need to simulate multiple counterfactual models simultaneously, with intervention assignments in one model that depend on simulated outcomes in another.\n",
    "\n",
    "One of the key insights behind ChiRho (and borrowed from Pearl's structural formalism \\[Pearl 2009\\]) is that an intervention can be represented as model agnostic program transformation, that is, a function $I: \\mathcal{P} \\rightarrow \\mathcal{P}$, where $\\mathcal{P}$ is the space of programs in our language. In ChiRho, and in many formalisms for causal models, we'll assume that models satisfy a kind of locality-preserving property known as autonomy \\[Aldrich 1989\\]. This autonomy property implies that interventions can be accurately represented as an alteration of a small number of model components, and all other model components (and the causal relationships among them) remain unchanged.\n",
    "\n",
    "In that vein, ChiRho addresses the complexity of causal reasoning by automating a number of probabilistic program transformations; including interventions, construction of parallel counterfactual worlds, and (as we'll see in subsequent tutorials) automatic reparameterization for counterfactual or \"what if\" reasoning.\n",
    "\n",
    "For example, instead of rewriting the code by hand, we can implement our `intervened_causal_model` succinctly as follows using ChiRho's `do` program transformation. As the name implies, this special function `do` operates very similarly to the $do$ operator used with structural causal models and causal graphical models. Here, `do` takes as input a probabilistic program and a dictionary describing the intervention assignment and returns a transformed probabilistic program with the intervention applied."
   ]
  },
  {
   "cell_type": "code",
   "execution_count": null,
   "metadata": {
    "ExecuteTime": {
     "end_time": "2024-06-20T15:47:53.886804Z",
     "start_time": "2024-06-20T15:47:53.881381Z"
    },
    "id": "krPowjz6k_z-"
   },
   "outputs": [],
   "source": [
    "def intervened_causal_model(model, smokes_assignment, *model_params):\n",
    "    transformed_model = do(model, {\"smokes\": smokes_assignment})\n",
    "    return transformed_model(*model_params)"
   ]
  },
  {
   "cell_type": "markdown",
   "metadata": {
    "id": "4LmyQOMLk_z-"
   },
   "source": [
    "Just as with our manual implementation of the `intervened_causal_model`, models constructed using ChiRho's `do` transformation are probabilistic programs in Pyro, and can thus freely compose with all of Pyro's effect handlers. For example, we can again use an `plate` effect handler to sample from a population of individuals by calling our `intervened_causal_model` in the context of a Pyro `plate`."
   ]
  },
  {
   "cell_type": "code",
   "execution_count": null,
   "metadata": {
    "ExecuteTime": {
     "end_time": "2024-06-20T15:47:53.892433Z",
     "start_time": "2024-06-20T15:47:53.885763Z"
    },
    "id": "OClRgtoHk_z-"
   },
   "outputs": [],
   "source": [
    "def population_intervened_causal_model(model, n_individuals, *model_params):\n",
    "    # Let's imagine that we force half the people to always smoke and half to never smoke.\n",
    "    smokes_assignment = torch.tensor([0.0, 1.0]).repeat(n_individuals // 2)\n",
    "\n",
    "    with pyro.plate(\"individuals\", n_individuals, dim=-1):\n",
    "        return intervened_causal_model(model, smokes_assignment, *model_params)\n",
    "\n",
    "forced_smokes_result = population_intervened_causal_model(\n",
    "    causal_model, n_individuals, stress_prob, smokes_cond_prob, cancer_cond_prob\n",
    ")"
   ]
  },
  {
   "cell_type": "markdown",
   "metadata": {
    "id": "byBfngvyk_z-"
   },
   "source": [
    "### Problem 4:\n",
    "\n",
    "Use `do` to construct an intervened version of the extended model. Note that because it shares much of the structure with the original model, the amount of code you need to write is very small."
   ]
  },
  {
   "cell_type": "code",
   "execution_count": null,
   "metadata": {
    "id": "JcuBdl7Ik_z-",
    "outputId": "64348e57-3e53-4ed1-a315-0cad621929eb"
   },
   "outputs": [
    {
     "data": {
      "text/plain": [
       "{'age': tensor([69.7378, 41.4046, 40.7196,  ..., 41.0318, 59.6128, 34.6145]),\n",
       " 'stress': tensor([1., 0., 0.,  ..., 0., 1., 1.]),\n",
       " 'smokes': tensor([0., 1., 0.,  ..., 1., 0., 1.]),\n",
       " 'cancer': tensor([1., 1., 1.,  ..., 0., 1., 1.])}"
      ]
     },
     "execution_count": 157,
     "metadata": {},
     "output_type": "execute_result"
    }
   ],
   "source": [
    "forced_smokes_result_ext = population_intervened_causal_model(causal_model_with_age, n_individuals, *causal_model_with_age_params)\n",
    "forced_smokes_result_ext"
   ]
  },
  {
   "cell_type": "markdown",
   "metadata": {
    "id": "NsQqZ47ik_z-"
   },
   "source": [
    "To recap, so far we've constructed a causal model describing how data is generated in the actual world we can observe, which we called `causal_model`, and transformed our causal model to represent our thought experiments, or interventions, resulting in the `intervened_causal_model` program. Then, we sampled from our original and transformed models to generate simulated outcomes, and finally summarized the simulated outcomes yielding an answer to our causal query. Again, this process can be viewed somewhat abstractly as follows:"
   ]
  },
  {
   "cell_type": "markdown",
   "metadata": {
    "id": "sSUufleSk_z-"
   },
   "source": [
    "![fig2](https://basisresearch.github.io/chirho/_images/Interventional_Conditional.png)"
   ]
  },
  {
   "cell_type": "markdown",
   "metadata": {
    "id": "5q6hNG9hk_z-"
   },
   "source": [
    "In this section, we've seen that a probabilistic program specifies a causal model by:\n",
    "  1. specifying a \"default\" or \"observational\" joint distribution over the variables of interest according to the usual semantics of probabilistic programming languages, and\n",
    "  2. encoding the information  necessary for determining the new joint distribution under an arbitrary intervention (program transformation)---to apply the transformation and derive the new joint distribution."
   ]
  },
  {
   "cell_type": "markdown",
   "metadata": {
    "id": "iXg9wA2Xk_z-"
   },
   "source": [
    "## Observation 2: causal uncertainty is probabilistic uncertainty\n",
    "\n",
    "We've shown how to define a causal model as a probabilistic program, and how to use ChiRho's intervention program transformations, `do`, to answer causal questions. However, in doing so we made a few very strong assumptions.\n",
    "\n",
    "1. We assumed that we knew the **parameters** of our causal model exactly, i.e. we asserted *how much* variables causally affect which other variables.\n",
    "2. We assumed that we knew the **structure** of our causal model exactly, i.e. we asserted *which* variables causally affect which other variables.\n",
    "\n",
    "In this section, we'll show how we can use ChiRho to substantially relax these assumptions, representing broad uncertainty over causal structure and parameters. Simply put, we can introduce uncertainty over causal model parameters the same way we would write any other Bayesian hierarchical model, by composing a prior distribution over parameters with our original causal model."
   ]
  },
  {
   "cell_type": "markdown",
   "metadata": {
    "id": "1WtLwySAk_z_"
   },
   "source": [
    "### Adding Uncertainty over Model Parameters"
   ]
  },
  {
   "cell_type": "code",
   "execution_count": 170,
   "metadata": {
    "ExecuteTime": {
     "end_time": "2024-06-20T15:47:54.124098Z",
     "start_time": "2024-06-20T15:47:53.893918Z"
    },
    "id": "RTSKifRTk_z_",
    "outputId": "b6a9e39f-580d-4d0f-c61b-8306fca50c36"
   },
   "outputs": [
    {
     "data": {
      "image/svg+xml": [
       "<?xml version=\"1.0\" encoding=\"UTF-8\" standalone=\"no\"?>\n",
       "<!DOCTYPE svg PUBLIC \"-//W3C//DTD SVG 1.1//EN\"\n",
       " \"http://www.w3.org/Graphics/SVG/1.1/DTD/svg11.dtd\">\n",
       "<!-- Generated by graphviz version 12.2.1 (20241206.2353)\n",
       " -->\n",
       "<!-- Pages: 1 -->\n",
       "<svg width=\"304pt\" height=\"301pt\"\n",
       " viewBox=\"0.00 0.00 304.08 300.50\" xmlns=\"http://www.w3.org/2000/svg\" xmlns:xlink=\"http://www.w3.org/1999/xlink\">\n",
       "<g id=\"graph0\" class=\"graph\" transform=\"scale(1 1) rotate(0) translate(4 296.5)\">\n",
       "<polygon fill=\"white\" stroke=\"none\" points=\"-4,4 -4,-296.5 300.08,-296.5 300.08,4 -4,4\"/>\n",
       "<g id=\"clust1\" class=\"cluster\">\n",
       "<title>cluster_individuals</title>\n",
       "<polygon fill=\"none\" stroke=\"black\" points=\"8,-8 8,-228.5 122,-228.5 122,-8 8,-8\"/>\n",
       "<text text-anchor=\"middle\" x=\"84\" y=\"-15.2\" font-family=\"Times,serif\" font-size=\"14.00\">individuals</text>\n",
       "</g>\n",
       "<!-- stress_prob -->\n",
       "<g id=\"node1\" class=\"node\">\n",
       "<title>stress_prob</title>\n",
       "<ellipse fill=\"white\" stroke=\"black\" cx=\"61\" cy=\"-274.5\" rx=\"52.89\" ry=\"18\"/>\n",
       "<text text-anchor=\"middle\" x=\"61\" y=\"-269.45\" font-family=\"Times,serif\" font-size=\"14.00\">stress_prob</text>\n",
       "</g>\n",
       "<!-- stress -->\n",
       "<g id=\"node4\" class=\"node\">\n",
       "<title>stress</title>\n",
       "<ellipse fill=\"white\" stroke=\"black\" cx=\"61\" cy=\"-202.5\" rx=\"31.39\" ry=\"18\"/>\n",
       "<text text-anchor=\"middle\" x=\"61\" y=\"-197.45\" font-family=\"Times,serif\" font-size=\"14.00\">stress</text>\n",
       "</g>\n",
       "<!-- stress_prob&#45;&gt;stress -->\n",
       "<g id=\"edge1\" class=\"edge\">\n",
       "<title>stress_prob&#45;&gt;stress</title>\n",
       "<path fill=\"none\" stroke=\"black\" d=\"M61,-256.2C61,-248.91 61,-240.23 61,-232.04\"/>\n",
       "<polygon fill=\"black\" stroke=\"black\" points=\"64.5,-232.12 61,-222.12 57.5,-232.12 64.5,-232.12\"/>\n",
       "</g>\n",
       "<!-- smokes_cond_prob -->\n",
       "<g id=\"node2\" class=\"node\">\n",
       "<title>smokes_cond_prob</title>\n",
       "<ellipse fill=\"white\" stroke=\"black\" cx=\"213\" cy=\"-202.5\" rx=\"83.08\" ry=\"18\"/>\n",
       "<text text-anchor=\"middle\" x=\"213\" y=\"-197.45\" font-family=\"Times,serif\" font-size=\"14.00\">smokes_cond_prob</text>\n",
       "</g>\n",
       "<!-- smokes -->\n",
       "<g id=\"node5\" class=\"node\">\n",
       "<title>smokes</title>\n",
       "<ellipse fill=\"white\" stroke=\"black\" cx=\"75\" cy=\"-130.5\" rx=\"39.07\" ry=\"18\"/>\n",
       "<text text-anchor=\"middle\" x=\"75\" y=\"-125.45\" font-family=\"Times,serif\" font-size=\"14.00\">smokes</text>\n",
       "</g>\n",
       "<!-- smokes_cond_prob&#45;&gt;smokes -->\n",
       "<g id=\"edge2\" class=\"edge\">\n",
       "<title>smokes_cond_prob&#45;&gt;smokes</title>\n",
       "<path fill=\"none\" stroke=\"black\" d=\"M181.34,-185.44C160.28,-174.76 132.57,-160.7 110.72,-149.62\"/>\n",
       "<polygon fill=\"black\" stroke=\"black\" points=\"112.37,-146.53 101.87,-145.13 109.2,-152.77 112.37,-146.53\"/>\n",
       "</g>\n",
       "<!-- cancer_cond_prob -->\n",
       "<g id=\"node3\" class=\"node\">\n",
       "<title>cancer_cond_prob</title>\n",
       "<ellipse fill=\"white\" stroke=\"black\" cx=\"211\" cy=\"-130.5\" rx=\"78.99\" ry=\"18\"/>\n",
       "<text text-anchor=\"middle\" x=\"211\" y=\"-125.45\" font-family=\"Times,serif\" font-size=\"14.00\">cancer_cond_prob</text>\n",
       "</g>\n",
       "<!-- cancer -->\n",
       "<g id=\"node6\" class=\"node\">\n",
       "<title>cancer</title>\n",
       "<ellipse fill=\"white\" stroke=\"black\" cx=\"75\" cy=\"-58.5\" rx=\"34.97\" ry=\"18\"/>\n",
       "<text text-anchor=\"middle\" x=\"75\" y=\"-53.45\" font-family=\"Times,serif\" font-size=\"14.00\">cancer</text>\n",
       "</g>\n",
       "<!-- cancer_cond_prob&#45;&gt;cancer -->\n",
       "<g id=\"edge4\" class=\"edge\">\n",
       "<title>cancer_cond_prob&#45;&gt;cancer</title>\n",
       "<path fill=\"none\" stroke=\"black\" d=\"M180.14,-113.62C158.99,-102.73 130.93,-88.29 109.12,-77.06\"/>\n",
       "<polygon fill=\"black\" stroke=\"black\" points=\"110.81,-73.99 100.32,-72.53 107.6,-80.22 110.81,-73.99\"/>\n",
       "</g>\n",
       "<!-- stress&#45;&gt;smokes -->\n",
       "<g id=\"edge3\" class=\"edge\">\n",
       "<title>stress&#45;&gt;smokes</title>\n",
       "<path fill=\"none\" stroke=\"black\" d=\"M64.46,-184.2C65.94,-176.82 67.7,-168.02 69.35,-159.75\"/>\n",
       "<polygon fill=\"black\" stroke=\"black\" points=\"72.75,-160.58 71.28,-150.09 65.89,-159.21 72.75,-160.58\"/>\n",
       "</g>\n",
       "<!-- stress&#45;&gt;cancer -->\n",
       "<g id=\"edge5\" class=\"edge\">\n",
       "<title>stress&#45;&gt;cancer</title>\n",
       "<path fill=\"none\" stroke=\"black\" d=\"M47.65,-185.99C39.97,-176.01 31.06,-162.35 27,-148.5 22.5,-133.15 21.24,-127.43 27,-112.5 31.42,-101.03 39.6,-90.51 47.97,-81.91\"/>\n",
       "<polygon fill=\"black\" stroke=\"black\" points=\"50.36,-84.47 55.18,-75.04 45.53,-79.41 50.36,-84.47\"/>\n",
       "</g>\n",
       "<!-- smokes&#45;&gt;cancer -->\n",
       "<g id=\"edge6\" class=\"edge\">\n",
       "<title>smokes&#45;&gt;cancer</title>\n",
       "<path fill=\"none\" stroke=\"black\" d=\"M75,-112.2C75,-104.91 75,-96.23 75,-88.04\"/>\n",
       "<polygon fill=\"black\" stroke=\"black\" points=\"78.5,-88.12 75,-78.12 71.5,-88.12 78.5,-88.12\"/>\n",
       "</g>\n",
       "</g>\n",
       "</svg>\n"
      ],
      "text/plain": [
       "<graphviz.graphs.Digraph at 0x1420342b0>"
      ]
     },
     "execution_count": 170,
     "metadata": {},
     "output_type": "execute_result"
    }
   ],
   "source": [
    "def parameter_prior():\n",
    "    # Note: Here `to_event` tells Pyro to treat this distribution\n",
    "    # as multivariate, rather than multiple samples\n",
    "    # from a univariate distribution. Omitting this will result in errors,\n",
    "    # see http://pyro.ai/examples/tensor_shapes.html.\n",
    "\n",
    "    stress_prob = pyro.sample(\"stress_prob\", Beta(1.0, 1.0))\n",
    "    smokes_cond_prob = pyro.sample(\n",
    "        \"smokes_cond_prob\", Beta(torch.ones(2), torch.ones(2)).to_event(1)\n",
    "    )\n",
    "    cancer_cond_prob = pyro.sample(\n",
    "        \"cancer_cond_prob\", Beta(torch.ones(2, 2), torch.ones(2, 2)).to_event(2)\n",
    "    )\n",
    "\n",
    "    return stress_prob, smokes_cond_prob, cancer_cond_prob\n",
    "\n",
    "def bayesian_population_causal_model(n_individuals):\n",
    "    stress_prob, smokes_cond_prob, cancer_cond_prob = parameter_prior()\n",
    "    return population_causal_model(\n",
    "        n_individuals, causal_model, stress_prob, smokes_cond_prob, cancer_cond_prob\n",
    "    )\n",
    "\n",
    "pyro.render_model(bayesian_population_causal_model, (n_individuals,))"
   ]
  },
  {
   "cell_type": "markdown",
   "metadata": {
    "id": "oC7SXL1Fk_z_"
   },
   "source": [
    "### Problem 5:\n",
    "\n",
    "Write a version of `bayesian_population_causal_model` that includes the `age` covariate. You should be able to reuse parts of `parameter_prior`. Normal distributions are fine priors for the coefficients for this example."
   ]
  },
  {
   "cell_type": "code",
   "execution_count": 171,
   "metadata": {
    "id": "XX4sB875k_z_",
    "outputId": "7512362e-3a49-4b7a-bd7e-655063def26c"
   },
   "outputs": [
    {
     "data": {
      "image/svg+xml": [
       "<?xml version=\"1.0\" encoding=\"UTF-8\" standalone=\"no\"?>\n",
       "<!DOCTYPE svg PUBLIC \"-//W3C//DTD SVG 1.1//EN\"\n",
       " \"http://www.w3.org/Graphics/SVG/1.1/DTD/svg11.dtd\">\n",
       "<!-- Generated by graphviz version 12.2.1 (20241206.2353)\n",
       " -->\n",
       "<!-- Pages: 1 -->\n",
       "<svg width=\"662pt\" height=\"317pt\"\n",
       " viewBox=\"0.00 0.00 662.47 316.50\" xmlns=\"http://www.w3.org/2000/svg\" xmlns:xlink=\"http://www.w3.org/1999/xlink\">\n",
       "<g id=\"graph0\" class=\"graph\" transform=\"scale(1 1) rotate(0) translate(4 312.5)\">\n",
       "<polygon fill=\"white\" stroke=\"none\" points=\"-4,4 -4,-312.5 658.47,-312.5 658.47,4 -4,4\"/>\n",
       "<g id=\"clust1\" class=\"cluster\">\n",
       "<title>cluster_individuals</title>\n",
       "<polygon fill=\"none\" stroke=\"black\" points=\"174.08,-8 174.08,-300.5 308.08,-300.5 308.08,-8 174.08,-8\"/>\n",
       "<text text-anchor=\"middle\" x=\"270.08\" y=\"-15.2\" font-family=\"Times,serif\" font-size=\"14.00\">individuals</text>\n",
       "</g>\n",
       "<!-- smokes_cond_prob -->\n",
       "<g id=\"node1\" class=\"node\">\n",
       "<title>smokes_cond_prob</title>\n",
       "<ellipse fill=\"white\" stroke=\"black\" cx=\"83.08\" cy=\"-202.5\" rx=\"83.08\" ry=\"18\"/>\n",
       "<text text-anchor=\"middle\" x=\"83.08\" y=\"-197.45\" font-family=\"Times,serif\" font-size=\"14.00\">smokes_cond_prob</text>\n",
       "</g>\n",
       "<!-- smokes -->\n",
       "<g id=\"node8\" class=\"node\">\n",
       "<title>smokes</title>\n",
       "<ellipse fill=\"white\" stroke=\"black\" cx=\"221.08\" cy=\"-130.5\" rx=\"39.07\" ry=\"18\"/>\n",
       "<text text-anchor=\"middle\" x=\"221.08\" y=\"-125.45\" font-family=\"Times,serif\" font-size=\"14.00\">smokes</text>\n",
       "</g>\n",
       "<!-- smokes_cond_prob&#45;&gt;smokes -->\n",
       "<g id=\"edge4\" class=\"edge\">\n",
       "<title>smokes_cond_prob&#45;&gt;smokes</title>\n",
       "<path fill=\"none\" stroke=\"black\" d=\"M114.74,-185.44C135.81,-174.76 163.51,-160.7 185.36,-149.62\"/>\n",
       "<polygon fill=\"black\" stroke=\"black\" points=\"186.88,-152.77 194.21,-145.13 183.71,-146.53 186.88,-152.77\"/>\n",
       "</g>\n",
       "<!-- cancer_cond_prob -->\n",
       "<g id=\"node2\" class=\"node\">\n",
       "<title>cancer_cond_prob</title>\n",
       "<ellipse fill=\"white\" stroke=\"black\" cx=\"397.08\" cy=\"-130.5\" rx=\"78.99\" ry=\"18\"/>\n",
       "<text text-anchor=\"middle\" x=\"397.08\" y=\"-125.45\" font-family=\"Times,serif\" font-size=\"14.00\">cancer_cond_prob</text>\n",
       "</g>\n",
       "<!-- cancer -->\n",
       "<g id=\"node9\" class=\"node\">\n",
       "<title>cancer</title>\n",
       "<ellipse fill=\"white\" stroke=\"black\" cx=\"265.08\" cy=\"-58.5\" rx=\"34.97\" ry=\"18\"/>\n",
       "<text text-anchor=\"middle\" x=\"265.08\" y=\"-53.45\" font-family=\"Times,serif\" font-size=\"14.00\">cancer</text>\n",
       "</g>\n",
       "<!-- cancer_cond_prob&#45;&gt;cancer -->\n",
       "<g id=\"edge6\" class=\"edge\">\n",
       "<title>cancer_cond_prob&#45;&gt;cancer</title>\n",
       "<path fill=\"none\" stroke=\"black\" d=\"M366.8,-113.44C346.48,-102.67 319.71,-88.47 298.73,-77.34\"/>\n",
       "<polygon fill=\"black\" stroke=\"black\" points=\"300.46,-74.3 289.99,-72.71 297.18,-80.48 300.46,-74.3\"/>\n",
       "</g>\n",
       "<!-- stress_age_intercept -->\n",
       "<g id=\"node3\" class=\"node\">\n",
       "<title>stress_age_intercept</title>\n",
       "<ellipse fill=\"white\" stroke=\"black\" cx=\"402.08\" cy=\"-274.5\" rx=\"85.64\" ry=\"18\"/>\n",
       "<text text-anchor=\"middle\" x=\"402.08\" y=\"-269.45\" font-family=\"Times,serif\" font-size=\"14.00\">stress_age_intercept</text>\n",
       "</g>\n",
       "<!-- stress -->\n",
       "<g id=\"node7\" class=\"node\">\n",
       "<title>stress</title>\n",
       "<ellipse fill=\"white\" stroke=\"black\" cx=\"269.08\" cy=\"-202.5\" rx=\"31.39\" ry=\"18\"/>\n",
       "<text text-anchor=\"middle\" x=\"269.08\" y=\"-197.45\" font-family=\"Times,serif\" font-size=\"14.00\">stress</text>\n",
       "</g>\n",
       "<!-- stress_age_intercept&#45;&gt;stress -->\n",
       "<g id=\"edge1\" class=\"edge\">\n",
       "<title>stress_age_intercept&#45;&gt;stress</title>\n",
       "<path fill=\"none\" stroke=\"black\" d=\"M371.24,-257.26C350.36,-246.28 322.83,-231.79 301.61,-220.62\"/>\n",
       "<polygon fill=\"black\" stroke=\"black\" points=\"303.28,-217.54 292.8,-215.98 300.02,-223.74 303.28,-217.54\"/>\n",
       "</g>\n",
       "<!-- stress_age_linear -->\n",
       "<g id=\"node4\" class=\"node\">\n",
       "<title>stress_age_linear</title>\n",
       "<ellipse fill=\"white\" stroke=\"black\" cx=\"580.08\" cy=\"-274.5\" rx=\"74.38\" ry=\"18\"/>\n",
       "<text text-anchor=\"middle\" x=\"580.08\" y=\"-269.45\" font-family=\"Times,serif\" font-size=\"14.00\">stress_age_linear</text>\n",
       "</g>\n",
       "<!-- stress_age_linear&#45;&gt;stress -->\n",
       "<g id=\"edge2\" class=\"edge\">\n",
       "<title>stress_age_linear&#45;&gt;stress</title>\n",
       "<path fill=\"none\" stroke=\"black\" d=\"M526.97,-261.55C465.26,-247.66 364.83,-225.05 309.26,-212.54\"/>\n",
       "<polygon fill=\"black\" stroke=\"black\" points=\"310.11,-209.15 299.59,-210.37 308.57,-215.98 310.11,-209.15\"/>\n",
       "</g>\n",
       "<!-- age_cancer_coeff -->\n",
       "<g id=\"node5\" class=\"node\">\n",
       "<title>age_cancer_coeff</title>\n",
       "<ellipse fill=\"white\" stroke=\"black\" cx=\"570.08\" cy=\"-130.5\" rx=\"75.92\" ry=\"18\"/>\n",
       "<text text-anchor=\"middle\" x=\"570.08\" y=\"-125.45\" font-family=\"Times,serif\" font-size=\"14.00\">age_cancer_coeff</text>\n",
       "</g>\n",
       "<!-- age_cancer_coeff&#45;&gt;cancer -->\n",
       "<g id=\"edge7\" class=\"edge\">\n",
       "<title>age_cancer_coeff&#45;&gt;cancer</title>\n",
       "<path fill=\"none\" stroke=\"black\" d=\"M516.96,-117.31C457.52,-103.67 362.42,-81.84 307.66,-69.27\"/>\n",
       "<polygon fill=\"black\" stroke=\"black\" points=\"308.62,-65.9 298.09,-67.08 307.06,-72.72 308.62,-65.9\"/>\n",
       "</g>\n",
       "<!-- age -->\n",
       "<g id=\"node6\" class=\"node\">\n",
       "<title>age</title>\n",
       "<ellipse fill=\"white\" stroke=\"black\" cx=\"244.08\" cy=\"-274.5\" rx=\"27\" ry=\"18\"/>\n",
       "<text text-anchor=\"middle\" x=\"244.08\" y=\"-269.45\" font-family=\"Times,serif\" font-size=\"14.00\">age</text>\n",
       "</g>\n",
       "<!-- age&#45;&gt;stress -->\n",
       "<g id=\"edge3\" class=\"edge\">\n",
       "<title>age&#45;&gt;stress</title>\n",
       "<path fill=\"none\" stroke=\"black\" d=\"M250.14,-256.55C252.87,-248.9 256.17,-239.66 259.24,-231.06\"/>\n",
       "<polygon fill=\"black\" stroke=\"black\" points=\"262.51,-232.31 262.58,-221.71 255.92,-229.95 262.51,-232.31\"/>\n",
       "</g>\n",
       "<!-- age&#45;&gt;cancer -->\n",
       "<g id=\"edge8\" class=\"edge\">\n",
       "<title>age&#45;&gt;cancer</title>\n",
       "<path fill=\"none\" stroke=\"black\" d=\"M238,-256.57C234.63,-246.29 230.79,-232.81 229.08,-220.5 226.88,-204.65 222.57,-199.12 229.08,-184.5 238.81,-162.65 259.35,-170.35 269.08,-148.5 277.55,-129.49 276.01,-105.88 272.65,-87.76\"/>\n",
       "<polygon fill=\"black\" stroke=\"black\" points=\"276.12,-87.25 270.58,-78.22 269.28,-88.74 276.12,-87.25\"/>\n",
       "</g>\n",
       "<!-- stress&#45;&gt;smokes -->\n",
       "<g id=\"edge5\" class=\"edge\">\n",
       "<title>stress&#45;&gt;smokes</title>\n",
       "<path fill=\"none\" stroke=\"black\" d=\"M257.95,-185.26C252.28,-176.99 245.24,-166.73 238.84,-157.4\"/>\n",
       "<polygon fill=\"black\" stroke=\"black\" points=\"241.89,-155.65 233.35,-149.38 236.11,-159.61 241.89,-155.65\"/>\n",
       "</g>\n",
       "<!-- stress&#45;&gt;cancer -->\n",
       "<g id=\"edge9\" class=\"edge\">\n",
       "<title>stress&#45;&gt;cancer</title>\n",
       "<path fill=\"none\" stroke=\"black\" d=\"M275.17,-184.57C278.53,-174.29 282.37,-160.81 284.08,-148.5 286.28,-132.65 286.82,-128.26 284.08,-112.5 282.6,-103.99 279.88,-95.04 276.95,-86.97\"/>\n",
       "<polygon fill=\"black\" stroke=\"black\" points=\"280.23,-85.73 273.33,-77.69 273.71,-88.28 280.23,-85.73\"/>\n",
       "</g>\n",
       "<!-- smokes&#45;&gt;cancer -->\n",
       "<g id=\"edge10\" class=\"edge\">\n",
       "<title>smokes&#45;&gt;cancer</title>\n",
       "<path fill=\"none\" stroke=\"black\" d=\"M231.51,-112.91C236.66,-104.72 243,-94.64 248.77,-85.45\"/>\n",
       "<polygon fill=\"black\" stroke=\"black\" points=\"251.57,-87.58 253.93,-77.25 245.64,-83.86 251.57,-87.58\"/>\n",
       "</g>\n",
       "</g>\n",
       "</svg>\n"
      ],
      "text/plain": [
       "<graphviz.graphs.Digraph at 0x153294700>"
      ]
     },
     "execution_count": 171,
     "metadata": {},
     "output_type": "execute_result"
    }
   ],
   "source": [
    "def parameter_prior_age():\n",
    "    # Note: Here `to_event` tells Pyro to treat this distribution\n",
    "    # as multivariate, rather than multiple samples\n",
    "    # from a univariate distribution. Omitting this will result in errors,\n",
    "    # see http://pyro.ai/examples/tensor_shapes.html.\n",
    "    smokes_cond_prob = pyro.sample(\n",
    "        \"smokes_cond_prob\", Beta(torch.ones(2), torch.ones(2)).to_event(1)\n",
    "    )\n",
    "    cancer_cond_prob = pyro.sample(\n",
    "        \"cancer_cond_prob\", Beta(torch.ones(2, 2), torch.ones(2, 2)).to_event(2)\n",
    "    )\n",
    "    stress_age_intercept = pyro.sample('stress_age_intercept', Normal(0, 1))\n",
    "    stress_age_linear = pyro.sample('stress_age_linear', Normal(0, 1))\n",
    "    age_cancer_coeff = pyro.sample('age_cancer_coeff', Normal(0, 1))\n",
    "\n",
    "    return smokes_cond_prob, cancer_cond_prob, stress_age_intercept, stress_age_linear, age_cancer_coeff\n",
    "\n",
    "def bayesian_population_causal_model_age(n_individuals):\n",
    "    params = parameter_prior_age()\n",
    "    return population_causal_model(n_individuals, causal_model_with_age, *params)\n",
    "\n",
    "pyro.render_model(bayesian_population_causal_model_age, (n_individuals,))"
   ]
  },
  {
   "cell_type": "markdown",
   "metadata": {
    "id": "MlLu-EjWk_z_"
   },
   "source": [
    "### Simulating Observational Data with Uncertain Parameters"
   ]
  },
  {
   "cell_type": "markdown",
   "metadata": {
    "id": "94RIiNOdk_z_"
   },
   "source": [
    "We have now reached a stage where seeing what the observational or an interventional distribution downstream analytically becomes cumbersome (and it is impossible in more complex cases). But again, by sampling multiple times from the model, sampling 'n_individuals' and calculating the proportions of cancer in two groups each time,  we can approximate how our new uncertainty about the parameters propagates to uncertainty about the relationship between smoking and cancer."
   ]
  },
  {
   "cell_type": "code",
   "execution_count": null,
   "metadata": {
    "ExecuteTime": {
     "end_time": "2024-06-20T15:47:55.882017Z",
     "start_time": "2024-06-20T15:47:54.125300Z"
    },
    "id": "2SFWoWOWk_z_",
    "outputId": "e0ebbb1c-f9c5-4716-e472-f72d70e2ad4f"
   },
   "outputs": [
    {
     "data": {
      "text/plain": [
       "<Axes: title={'center': 'Observational Data - Uncertain Parameters'}, xlabel='Proportion of Individuals w/ Cancer', ylabel='Density'>"
      ]
     },
     "execution_count": 159,
     "metadata": {},
     "output_type": "execute_result"
    },
    {
     "data": {
      "image/png": "[encoded data removed]",
      "text/plain": [
       "<Figure size 640x480 with 1 Axes>"
      ]
     },
     "metadata": {},
     "output_type": "display_data"
    }
   ],
   "source": [
    "predictions_bayesian = multiple_samples(\n",
    "    bayesian_population_causal_model, (n_individuals,)\n",
    ")\n",
    "\n",
    "visualize_proportions_multiple(\n",
    "    predictions_bayesian, \"Observational Data - Uncertain Parameters\"\n",
    ")"
   ]
  },
  {
   "cell_type": "markdown",
   "metadata": {
    "id": "sDlMCLS5k_0A"
   },
   "source": [
    "We see that our uniform uncertainty about the parameters propagates downstream, resulting in broad uncertainty about the observed relationship between smoking and cancer."
   ]
  },
  {
   "cell_type": "markdown",
   "metadata": {
    "id": "lFiiyjcVk_0A"
   },
   "source": [
    "### Simulating Interventional Data with Uncertain Parameters"
   ]
  },
  {
   "cell_type": "markdown",
   "metadata": {
    "id": "O-EZ27ojk_0A"
   },
   "source": [
    "Earlier we showed how to extend the `population_causal_model` to the `bayesian_population_causal_model` by simply sampling from the prior over parameters and then calling `population_causal_model` with the sampled parameters. Perhaps not surprisingly, we can also apply this simple recipe with our `population_intervened_causal_model` to construct a `bayesian_population_intervened_causal_model` which also incorporates uncertainty over parameters.\n",
    "\n"
   ]
  },
  {
   "cell_type": "code",
   "execution_count": null,
   "metadata": {
    "ExecuteTime": {
     "end_time": "2024-06-20T15:47:55.884914Z",
     "start_time": "2024-06-20T15:47:55.882915Z"
    },
    "id": "Oll9DFf9k_0A"
   },
   "outputs": [],
   "source": [
    "def bayesian_population_intervened_causal_model(n_individuals):\n",
    "    stress_prob, smokes_cond_prob, cancer_cond_prob = parameter_prior()\n",
    "    return population_intervened_causal_model(\n",
    "        causal_model, n_individuals, stress_prob, smokes_cond_prob, cancer_cond_prob\n",
    "    )"
   ]
  },
  {
   "cell_type": "code",
   "execution_count": null,
   "metadata": {
    "ExecuteTime": {
     "end_time": "2024-06-20T15:47:57.474989Z",
     "start_time": "2024-06-20T15:47:55.885689Z"
    },
    "id": "rHGsckbvk_0A",
    "outputId": "f61efeca-c651-4090-f37a-65c047175236"
   },
   "outputs": [
    {
     "data": {
      "text/plain": [
       "<Axes: title={'center': 'Interventional Data - Uncertain Parameters'}, xlabel='Proportion of Individuals w/ Cancer', ylabel='Density'>"
      ]
     },
     "execution_count": 165,
     "metadata": {},
     "output_type": "execute_result"
    },
    {
     "data": {
      "image/png": "[encoded data removed]",
      "text/plain": [
       "<Figure size 640x480 with 1 Axes>"
      ]
     },
     "metadata": {},
     "output_type": "display_data"
    }
   ],
   "source": [
    "predictions_int_bayesian = multiple_samples(\n",
    "    bayesian_population_intervened_causal_model, (n_individuals,)\n",
    ")\n",
    "visualize_proportions_multiple(\n",
    "    predictions_int_bayesian, \"Interventional Data - Uncertain Parameters\"\n",
    ")"
   ]
  },
  {
   "cell_type": "code",
   "execution_count": null,
   "metadata": {
    "ExecuteTime": {
     "end_time": "2024-06-20T15:47:57.860033Z",
     "start_time": "2024-06-20T15:47:57.478089Z"
    },
    "id": "Jlm3uigWk_0A",
    "outputId": "216b31b9-55c8-4e8e-a6ec-75e5a518d8aa"
   },
   "outputs": [
    {
     "data": {
      "text/plain": [
       "<Axes: title={'center': 'Interventional Data - Uncertain Parameters'}, xlabel='Average Treatment Effect (ATE)', ylabel='Density'>"
      ]
     },
     "execution_count": 166,
     "metadata": {},
     "output_type": "execute_result"
    },
    {
     "data": {
      "image/png": "[encoded data removed]",
      "text/plain": [
       "<Figure size 640x480 with 1 Axes>"
      ]
     },
     "metadata": {},
     "output_type": "display_data"
    }
   ],
   "source": [
    "visualize_ATE(predictions_int_bayesian, \"Interventional Data - Uncertain Parameters\")"
   ]
  },
  {
   "cell_type": "markdown",
   "metadata": {
    "id": "Yru-AJHvk_0B"
   },
   "source": [
    "Just as our uncertain parameters propagate to broad uncertainty about the observational relationship between cancer and smoking, we see a similar conclusion when it comes to the effects of the intervention, with ATE estimates centering around 0. However, this is not always the case, as we'll see now when we explore uncertainty over causal structure as well."
   ]
  },
  {
   "cell_type": "markdown",
   "metadata": {
    "id": "WHrS8Rv2k_0B"
   },
   "source": [
    "\n",
    "**A Brief Aside:** Intervention program transformations can be called both inside and outside of `pyro.plate` contexts, and freely compose with nested probabilistic program function calls. In practice, this means that we can easily; (i) define interventions that are themselves parameterized by random choices, and (ii) apply our intervention to the Bayesian variant of our observational model above without rewriting the model to generate a Bayesian variant of our intervened model with the same prior. As an example, we can succinctly write a variant of this intervention in which treatment assignment is randomized as follows."
   ]
  },
  {
   "cell_type": "code",
   "execution_count": null,
   "metadata": {
    "ExecuteTime": {
     "end_time": "2024-06-20T15:47:57.865399Z",
     "start_time": "2024-06-20T15:47:57.860887Z"
    },
    "id": "peq-UQJAk_0B"
   },
   "outputs": [],
   "source": [
    "def randomized_intervention(model, intervention_variable, n_individuals):\n",
    "    def new_model(*args, **kwargs):\n",
    "        intervention_assignment = pyro.sample(\n",
    "            \"treatment_assignment\",\n",
    "            Bernoulli(torch.ones(n_individuals) * 0.5).to_event(1),\n",
    "        )\n",
    "        return do(model, {intervention_variable: intervention_assignment})(\n",
    "            *args, **kwargs\n",
    "        )\n",
    "\n",
    "    return new_model\n",
    "\n",
    "\n",
    "bayesian_randomized_model = randomized_intervention(\n",
    "    bayesian_population_causal_model, \"smokes\", n_individuals\n",
    ")"
   ]
  },
  {
   "cell_type": "markdown",
   "metadata": {
    "id": "l_hkKS7yk_0C"
   },
   "source": [
    "### Problem 6:\n",
    "\n",
    "Visualize the ATE for the extended model with parameter uncertainty."
   ]
  },
  {
   "cell_type": "markdown",
   "metadata": {
    "id": "LWjjoifkk_0C"
   },
   "source": [
    "### Adding Uncertainty over Model Structure"
   ]
  },
  {
   "cell_type": "markdown",
   "metadata": {
    "id": "ZMKEOhdXk_0C"
   },
   "source": [
    "In addition to adding prior distributions over model parameters given a known structure, we can further add uncertainty to our causal assumptions by writing a probabilistic program that selects between multiple probabilistic programs depending on the result of a discrete random choice. Again, we'll see how we can quickly expand the complexity of our uncertain causal assumptions without needing to rewrite our original `causal_model` from scratch, as probabilistic programs in ChiRho are compositional.\n",
    "\n",
    "In the context of our original smoking example, let's pretend that we don't know whether smoking influences cancer, or whether cancer influences smoking. (This might seem somewhat nonsensical now, but it could have been a \"plausible\" hypothesis 70 years ago.) Graphically, this would be represented as uncertainty about the causal edge between the `smokes` and `cancer` variables. To implement this uncertainty in ChiRho, we first need to write a new program that represents the alternative observational model."
   ]
  },
  {
   "cell_type": "code",
   "execution_count": 185,
   "metadata": {
    "ExecuteTime": {
     "end_time": "2024-06-20T15:47:58.092633Z",
     "start_time": "2024-06-20T15:47:57.866092Z"
    },
    "id": "6E9_pT6Gk_0C",
    "outputId": "04609e6e-f3e4-4be4-fbe3-147a263f3b43"
   },
   "outputs": [
    {
     "data": {
      "image/svg+xml": [
       "<?xml version=\"1.0\" encoding=\"UTF-8\" standalone=\"no\"?>\n",
       "<!DOCTYPE svg PUBLIC \"-//W3C//DTD SVG 1.1//EN\"\n",
       " \"http://www.w3.org/Graphics/SVG/1.1/DTD/svg11.dtd\">\n",
       "<!-- Generated by graphviz version 12.2.1 (20241206.2353)\n",
       " -->\n",
       "<!-- Pages: 1 -->\n",
       "<svg width=\"113pt\" height=\"188pt\"\n",
       " viewBox=\"0.00 0.00 113.04 188.00\" xmlns=\"http://www.w3.org/2000/svg\" xmlns:xlink=\"http://www.w3.org/1999/xlink\">\n",
       "<g id=\"graph0\" class=\"graph\" transform=\"scale(1 1) rotate(0) translate(4 184)\">\n",
       "<polygon fill=\"white\" stroke=\"none\" points=\"-4,4 -4,-184 109.04,-184 109.04,4 -4,4\"/>\n",
       "<!-- stress -->\n",
       "<g id=\"node1\" class=\"node\">\n",
       "<title>stress</title>\n",
       "<ellipse fill=\"white\" stroke=\"black\" cx=\"65.97\" cy=\"-162\" rx=\"31.39\" ry=\"18\"/>\n",
       "<text text-anchor=\"middle\" x=\"65.97\" y=\"-156.95\" font-family=\"Times,serif\" font-size=\"14.00\">stress</text>\n",
       "</g>\n",
       "<!-- cancer -->\n",
       "<g id=\"node2\" class=\"node\">\n",
       "<title>cancer</title>\n",
       "<ellipse fill=\"white\" stroke=\"black\" cx=\"34.97\" cy=\"-90\" rx=\"34.97\" ry=\"18\"/>\n",
       "<text text-anchor=\"middle\" x=\"34.97\" y=\"-84.95\" font-family=\"Times,serif\" font-size=\"14.00\">cancer</text>\n",
       "</g>\n",
       "<!-- stress&#45;&gt;cancer -->\n",
       "<g id=\"edge1\" class=\"edge\">\n",
       "<title>stress&#45;&gt;cancer</title>\n",
       "<path fill=\"none\" stroke=\"black\" d=\"M58.47,-144.05C55.04,-136.32 50.9,-126.96 47.05,-118.27\"/>\n",
       "<polygon fill=\"black\" stroke=\"black\" points=\"50.27,-116.9 43.02,-109.17 43.87,-119.73 50.27,-116.9\"/>\n",
       "</g>\n",
       "<!-- smokes -->\n",
       "<g id=\"node3\" class=\"node\">\n",
       "<title>smokes</title>\n",
       "<ellipse fill=\"white\" stroke=\"black\" cx=\"65.97\" cy=\"-18\" rx=\"39.07\" ry=\"18\"/>\n",
       "<text text-anchor=\"middle\" x=\"65.97\" y=\"-12.95\" font-family=\"Times,serif\" font-size=\"14.00\">smokes</text>\n",
       "</g>\n",
       "<!-- stress&#45;&gt;smokes -->\n",
       "<g id=\"edge2\" class=\"edge\">\n",
       "<title>stress&#45;&gt;smokes</title>\n",
       "<path fill=\"none\" stroke=\"black\" d=\"M71.25,-144.01C74.17,-133.7 77.5,-120.23 78.97,-108 80.89,-92.12 80.89,-87.88 78.97,-72 77.98,-63.78 76.15,-55.01 74.17,-47\"/>\n",
       "<polygon fill=\"black\" stroke=\"black\" points=\"77.59,-46.22 71.64,-37.46 70.82,-48.02 77.59,-46.22\"/>\n",
       "</g>\n",
       "<!-- cancer&#45;&gt;smokes -->\n",
       "<g id=\"edge3\" class=\"edge\">\n",
       "<title>cancer&#45;&gt;smokes</title>\n",
       "<path fill=\"none\" stroke=\"black\" d=\"M42.48,-72.05C45.9,-64.32 50.05,-54.96 53.9,-46.27\"/>\n",
       "<polygon fill=\"black\" stroke=\"black\" points=\"57.08,-47.73 57.93,-37.17 50.68,-44.9 57.08,-47.73\"/>\n",
       "</g>\n",
       "</g>\n",
       "</svg>\n"
      ],
      "text/plain": [
       "<graphviz.graphs.Digraph at 0x142117e20>"
      ]
     },
     "execution_count": 185,
     "metadata": {},
     "output_type": "execute_result"
    }
   ],
   "source": [
    "def alt_causal_model(stress_prob, cancer_cond_prob, smokes_cond_prob):\n",
    "    stress = pyro.sample(\"stress\", Bernoulli(stress_prob))\n",
    "\n",
    "    cancer_prob = Vindex(cancer_cond_prob)[..., stress.int()]\n",
    "    cancer = pyro.sample(\"cancer\", Bernoulli(cancer_prob))\n",
    "\n",
    "    smokes_prob = Vindex(smokes_cond_prob)[..., stress.int(), cancer.int()]\n",
    "    smokes = pyro.sample(\"smokes\", Bernoulli(smokes_prob))\n",
    "\n",
    "    return {\"stress\": stress, \"cancer\": cancer, \"smokes\": smokes}\n",
    "\n",
    "\n",
    "stress_prob = torch.tensor([0.5])\n",
    "cancer_cond_prob = torch.tensor([0.2, 0.8])\n",
    "smokes_cond_prob = torch.tensor([[0.1, 0.15], [0.8, 0.85]])\n",
    "\n",
    "pyro.render_model(alt_causal_model, (stress_prob, cancer_cond_prob, smokes_cond_prob))"
   ]
  },
  {
   "cell_type": "markdown",
   "metadata": {
    "id": "0H04xGuIk_0C"
   },
   "source": [
    "Again, we can  use Pyro's `plate` effect handler to represent a distribution over a population of individuals and place a prior over parameters for this alternative model to represent our uncertainty about the strength of effects."
   ]
  },
  {
   "cell_type": "code",
   "execution_count": 186,
   "metadata": {
    "ExecuteTime": {
     "end_time": "2024-06-20T15:47:58.335336Z",
     "start_time": "2024-06-20T15:47:58.096070Z"
    },
    "id": "F7Wx_xclk_0C",
    "outputId": "42f77cbb-19e1-4dc5-c484-4e3a2170a08d"
   },
   "outputs": [
    {
     "data": {
      "image/svg+xml": [
       "<?xml version=\"1.0\" encoding=\"UTF-8\" standalone=\"no\"?>\n",
       "<!DOCTYPE svg PUBLIC \"-//W3C//DTD SVG 1.1//EN\"\n",
       " \"http://www.w3.org/Graphics/SVG/1.1/DTD/svg11.dtd\">\n",
       "<!-- Generated by graphviz version 12.2.1 (20241206.2353)\n",
       " -->\n",
       "<!-- Pages: 1 -->\n",
       "<svg width=\"334pt\" height=\"301pt\"\n",
       " viewBox=\"0.00 0.00 333.61 300.50\" xmlns=\"http://www.w3.org/2000/svg\" xmlns:xlink=\"http://www.w3.org/1999/xlink\">\n",
       "<g id=\"graph0\" class=\"graph\" transform=\"scale(1 1) rotate(0) translate(4 296.5)\">\n",
       "<polygon fill=\"white\" stroke=\"none\" points=\"-4,4 -4,-296.5 329.61,-296.5 329.61,4 -4,4\"/>\n",
       "<g id=\"clust1\" class=\"cluster\">\n",
       "<title>cluster_individuals</title>\n",
       "<polygon fill=\"none\" stroke=\"black\" points=\"15.71,-8 15.71,-228.5 121.71,-228.5 121.71,-8 15.71,-8\"/>\n",
       "<text text-anchor=\"middle\" x=\"83.71\" y=\"-15.2\" font-family=\"Times,serif\" font-size=\"14.00\">individuals</text>\n",
       "</g>\n",
       "<!-- stress_prob_alt -->\n",
       "<g id=\"node1\" class=\"node\">\n",
       "<title>stress_prob_alt</title>\n",
       "<ellipse fill=\"white\" stroke=\"black\" cx=\"66.71\" cy=\"-274.5\" rx=\"66.71\" ry=\"18\"/>\n",
       "<text text-anchor=\"middle\" x=\"66.71\" y=\"-269.45\" font-family=\"Times,serif\" font-size=\"14.00\">stress_prob_alt</text>\n",
       "</g>\n",
       "<!-- stress -->\n",
       "<g id=\"node4\" class=\"node\">\n",
       "<title>stress</title>\n",
       "<ellipse fill=\"white\" stroke=\"black\" cx=\"66.71\" cy=\"-202.5\" rx=\"31.39\" ry=\"18\"/>\n",
       "<text text-anchor=\"middle\" x=\"66.71\" y=\"-197.45\" font-family=\"Times,serif\" font-size=\"14.00\">stress</text>\n",
       "</g>\n",
       "<!-- stress_prob_alt&#45;&gt;stress -->\n",
       "<g id=\"edge1\" class=\"edge\">\n",
       "<title>stress_prob_alt&#45;&gt;stress</title>\n",
       "<path fill=\"none\" stroke=\"black\" d=\"M66.71,-256.2C66.71,-248.91 66.71,-240.23 66.71,-232.04\"/>\n",
       "<polygon fill=\"black\" stroke=\"black\" points=\"70.21,-232.12 66.71,-222.12 63.21,-232.12 70.21,-232.12\"/>\n",
       "</g>\n",
       "<!-- cancer_cond_prob_alt -->\n",
       "<g id=\"node2\" class=\"node\">\n",
       "<title>cancer_cond_prob_alt</title>\n",
       "<ellipse fill=\"white\" stroke=\"black\" cx=\"222.71\" cy=\"-202.5\" rx=\"92.81\" ry=\"18\"/>\n",
       "<text text-anchor=\"middle\" x=\"222.71\" y=\"-197.45\" font-family=\"Times,serif\" font-size=\"14.00\">cancer_cond_prob_alt</text>\n",
       "</g>\n",
       "<!-- cancer -->\n",
       "<g id=\"node5\" class=\"node\">\n",
       "<title>cancer</title>\n",
       "<ellipse fill=\"white\" stroke=\"black\" cx=\"78.71\" cy=\"-130.5\" rx=\"34.97\" ry=\"18\"/>\n",
       "<text text-anchor=\"middle\" x=\"78.71\" y=\"-125.45\" font-family=\"Times,serif\" font-size=\"14.00\">cancer</text>\n",
       "</g>\n",
       "<!-- cancer_cond_prob_alt&#45;&gt;cancer -->\n",
       "<g id=\"edge2\" class=\"edge\">\n",
       "<title>cancer_cond_prob_alt&#45;&gt;cancer</title>\n",
       "<path fill=\"none\" stroke=\"black\" d=\"M189.31,-185.26C166.64,-174.25 136.73,-159.71 113.73,-148.53\"/>\n",
       "<polygon fill=\"black\" stroke=\"black\" points=\"115.26,-145.38 104.74,-144.16 112.2,-151.68 115.26,-145.38\"/>\n",
       "</g>\n",
       "<!-- smokes_cond_prob_alt -->\n",
       "<g id=\"node3\" class=\"node\">\n",
       "<title>smokes_cond_prob_alt</title>\n",
       "<ellipse fill=\"white\" stroke=\"black\" cx=\"228.71\" cy=\"-130.5\" rx=\"96.9\" ry=\"18\"/>\n",
       "<text text-anchor=\"middle\" x=\"228.71\" y=\"-125.45\" font-family=\"Times,serif\" font-size=\"14.00\">smokes_cond_prob_alt</text>\n",
       "</g>\n",
       "<!-- smokes -->\n",
       "<g id=\"node6\" class=\"node\">\n",
       "<title>smokes</title>\n",
       "<ellipse fill=\"white\" stroke=\"black\" cx=\"74.71\" cy=\"-58.5\" rx=\"39.07\" ry=\"18\"/>\n",
       "<text text-anchor=\"middle\" x=\"74.71\" y=\"-53.45\" font-family=\"Times,serif\" font-size=\"14.00\">smokes</text>\n",
       "</g>\n",
       "<!-- smokes_cond_prob_alt&#45;&gt;smokes -->\n",
       "<g id=\"edge4\" class=\"edge\">\n",
       "<title>smokes_cond_prob_alt&#45;&gt;smokes</title>\n",
       "<path fill=\"none\" stroke=\"black\" d=\"M193.37,-113.44C169.09,-102.4 136.88,-87.76 112.15,-76.52\"/>\n",
       "<polygon fill=\"black\" stroke=\"black\" points=\"113.64,-73.35 103.09,-72.4 110.74,-79.73 113.64,-73.35\"/>\n",
       "</g>\n",
       "<!-- stress&#45;&gt;cancer -->\n",
       "<g id=\"edge3\" class=\"edge\">\n",
       "<title>stress&#45;&gt;cancer</title>\n",
       "<path fill=\"none\" stroke=\"black\" d=\"M69.67,-184.2C70.94,-176.82 72.44,-168.02 73.86,-159.75\"/>\n",
       "<polygon fill=\"black\" stroke=\"black\" points=\"77.28,-160.54 75.52,-150.1 70.38,-159.36 77.28,-160.54\"/>\n",
       "</g>\n",
       "<!-- stress&#45;&gt;smokes -->\n",
       "<g id=\"edge5\" class=\"edge\">\n",
       "<title>stress&#45;&gt;smokes</title>\n",
       "<path fill=\"none\" stroke=\"black\" d=\"M54.13,-185.86C46.9,-175.83 38.51,-162.17 34.71,-148.5 30.41,-133.09 29.62,-127.67 34.71,-112.5 38.2,-102.06 44.65,-92.04 51.37,-83.57\"/>\n",
       "<polygon fill=\"black\" stroke=\"black\" points=\"53.83,-86.08 57.65,-76.2 48.5,-81.54 53.83,-86.08\"/>\n",
       "</g>\n",
       "<!-- cancer&#45;&gt;smokes -->\n",
       "<g id=\"edge6\" class=\"edge\">\n",
       "<title>cancer&#45;&gt;smokes</title>\n",
       "<path fill=\"none\" stroke=\"black\" d=\"M77.72,-112.2C77.3,-104.91 76.8,-96.23 76.34,-88.04\"/>\n",
       "<polygon fill=\"black\" stroke=\"black\" points=\"79.83,-87.9 75.77,-78.12 72.85,-88.3 79.83,-87.9\"/>\n",
       "</g>\n",
       "</g>\n",
       "</svg>\n"
      ],
      "text/plain": [
       "<graphviz.graphs.Digraph at 0x14240c8e0>"
      ]
     },
     "execution_count": 186,
     "metadata": {},
     "output_type": "execute_result"
    }
   ],
   "source": [
    "def alt_population_model(\n",
    "    n_individuals, stress_prob, cancer_cond_prob, smokes_cond_prob\n",
    "):\n",
    "    with pyro.plate(\"individuals\", n_individuals, dim=-1):\n",
    "        return alt_causal_model(stress_prob, cancer_cond_prob, smokes_cond_prob)\n",
    "\n",
    "\n",
    "def alt_parameter_prior():\n",
    "\n",
    "    stress_prob = pyro.sample(\"stress_prob_alt\", Beta(1.0, 1.0))\n",
    "    cancer_cond_prob = pyro.sample(\n",
    "        \"cancer_cond_prob_alt\", Beta(torch.ones(2), torch.ones(2)).to_event(1)\n",
    "    )\n",
    "    smokes_cond_prob = pyro.sample(\n",
    "        \"smokes_cond_prob_alt\", Beta(torch.ones(2, 2), torch.ones(2, 2)).to_event(2)\n",
    "    )\n",
    "\n",
    "    return stress_prob, cancer_cond_prob, smokes_cond_prob\n",
    "\n",
    "\n",
    "def alt_bayesian_population_causal_model(n_individuals):\n",
    "    stress_prob, cancer_cond_prob, smokes_cond_prob = alt_parameter_prior()\n",
    "\n",
    "    return alt_population_model(\n",
    "        n_individuals, stress_prob, cancer_cond_prob, smokes_cond_prob\n",
    "    )\n",
    "\n",
    "\n",
    "pyro.render_model(alt_bayesian_population_causal_model, (n_individuals,))"
   ]
  },
  {
   "cell_type": "code",
   "execution_count": 187,
   "metadata": {
    "ExecuteTime": {
     "end_time": "2024-06-20T15:48:00.124604Z",
     "start_time": "2024-06-20T15:47:58.336998Z"
    },
    "id": "z9kAXqxSk_0C",
    "outputId": "7d2bfef3-ee59-4b96-ae57-86dc4b546396"
   },
   "outputs": [
    {
     "data": {
      "text/plain": [
       "<Axes: title={'center': 'Observational Data - Uncertain Parameters - Alternative Structure'}, xlabel='Proportion of Individuals w/ Cancer', ylabel='Density'>"
      ]
     },
     "execution_count": 187,
     "metadata": {},
     "output_type": "execute_result"
    },
    {
     "data": {
      "image/png": "[encoded data removed]",
      "text/plain": [
       "<Figure size 640x480 with 1 Axes>"
      ]
     },
     "metadata": {},
     "output_type": "display_data"
    }
   ],
   "source": [
    "predictions_alt_bayesian = multiple_samples(\n",
    "    alt_bayesian_population_causal_model, (n_individuals,)\n",
    ")\n",
    "visualize_proportions_multiple(\n",
    "    predictions_alt_bayesian,\n",
    "    \"Observational Data - Uncertain Parameters - Alternative Structure\",\n",
    ")"
   ]
  },
  {
   "cell_type": "markdown",
   "metadata": {
    "id": "CopwNWWOk_0C"
   },
   "source": [
    "Just from looking at observational samples obtained using this alternative structure, we do not see anything obviously different from the causal model we've used so far. However, differences will arise when we inspect interventional distributions over random variables. In our new alternative candidate model, smoking has no effect on cancer whatsoever, and thus we shouldn't ever see any difference between cancer rates between individuals when individuals are forced to smoke or not smoke.\n",
    "\n",
    "To visualize this point, we can again apply an intervention to this new model and simulate from the transformed model. This time we'll implement the intervention even more succinctly by intervening on the `alt_bayesian_causal_model` directly."
   ]
  },
  {
   "cell_type": "code",
   "execution_count": 188,
   "metadata": {
    "ExecuteTime": {
     "end_time": "2024-06-20T15:48:00.133112Z",
     "start_time": "2024-06-20T15:48:00.123956Z"
    },
    "id": "PadY0md1k_0D"
   },
   "outputs": [],
   "source": [
    "def alt_bayesian_intervened_causal_model(n_individuals):\n",
    "    smokes_assignment = torch.tensor([0.0, 1.0]).repeat(n_individuals // 2)\n",
    "    transformed_model = do(\n",
    "        alt_bayesian_population_causal_model, {\"smokes\": smokes_assignment}\n",
    "    )\n",
    "    return transformed_model(n_individuals)"
   ]
  },
  {
   "cell_type": "code",
   "execution_count": 189,
   "metadata": {
    "ExecuteTime": {
     "end_time": "2024-06-20T15:48:01.913567Z",
     "start_time": "2024-06-20T15:48:00.128056Z"
    },
    "id": "3K3_i-xHk_0D",
    "outputId": "668640d8-4e61-48f3-ec3a-021b31777516"
   },
   "outputs": [
    {
     "data": {
      "text/plain": [
       "<Axes: title={'center': 'Interventional Data - Uncertain Parameters - Alternative Structure'}, xlabel='Proportion of Individuals w/ Cancer', ylabel='Density'>"
      ]
     },
     "execution_count": 189,
     "metadata": {},
     "output_type": "execute_result"
    },
    {
     "data": {
      "image/png": "[encoded data removed]",
      "text/plain": [
       "<Figure size 640x480 with 1 Axes>"
      ]
     },
     "metadata": {},
     "output_type": "display_data"
    }
   ],
   "source": [
    "predictions_alt_int_bayesian = multiple_samples(\n",
    "    alt_bayesian_intervened_causal_model, (n_individuals,)\n",
    ")\n",
    "visualize_proportions_multiple(\n",
    "    predictions_alt_int_bayesian,\n",
    "    \"Interventional Data - Uncertain Parameters - Alternative Structure\",\n",
    ")"
   ]
  },
  {
   "cell_type": "code",
   "execution_count": null,
   "metadata": {
    "ExecuteTime": {
     "end_time": "2024-06-20T15:48:02.314654Z",
     "start_time": "2024-06-20T15:48:01.912778Z"
    },
    "id": "7aRjeXhxk_0D",
    "outputId": "bb0a4f42-919a-40f5-a000-02d61ffc2bab"
   },
   "outputs": [
    {
     "data": {
      "text/plain": [
       "<Axes: title={'center': 'Interventional Data - Uncertain Parameters - Alternative Structure'}, xlabel='Average Treatment Effect (ATE)', ylabel='Density'>"
      ]
     },
     "execution_count": 24,
     "metadata": {},
     "output_type": "execute_result"
    },
    {
     "data": {
      "image/png": "[encoded data removed]",
      "text/plain": [
       "<Figure size 640x480 with 1 Axes>"
      ]
     },
     "metadata": {},
     "output_type": "display_data"
    }
   ],
   "source": [
    "visualize_ATE(\n",
    "    predictions_alt_int_bayesian,\n",
    "    \"Interventional Data - Uncertain Parameters - Alternative Structure\",\n",
    ")"
   ]
  },
  {
   "cell_type": "markdown",
   "metadata": {
    "id": "S3ivBLX8k_0D"
   },
   "source": [
    "While our uncertainty about the proportions of individuals with cancer is very wide, we now see that, as expected, we no longer see any association between smoking and cancer after applying an intervention under this alternative model. The resulting distribution of ATE estimates is now narrowly centered around 0. In other words, intervening on whether an individual smokes never impacts the probability of getting cancer under this model, regardless of the parameters.\n",
    "\n",
    "Using our two probabilistic programs representing different plausible structures (and with uncertain parameters), we can write a probabilistic program that randomly chooses between them.  Conceptually, this represents a scenario in which we think that it is equally plausible that smoking causes cancer and that cancer causes smoking."
   ]
  },
  {
   "cell_type": "code",
   "execution_count": 190,
   "metadata": {
    "ExecuteTime": {
     "end_time": "2024-06-20T15:48:02.324033Z",
     "start_time": "2024-06-20T15:48:02.314909Z"
    },
    "id": "e345rOhdk_0D"
   },
   "outputs": [],
   "source": [
    "def bayesian_population_causal_model_uncertain_structure(n_individuals):\n",
    "\n",
    "    original_result = bayesian_population_causal_model(n_individuals)\n",
    "    alt_result = alt_bayesian_population_causal_model(n_individuals)\n",
    "\n",
    "    is_original_model = pyro.sample(\"is_original_model\", Bernoulli(0.5)).bool()\n",
    "\n",
    "    return {\n",
    "        k: torch.where(is_original_model, original_result[k], alt_result[k])\n",
    "        for k in original_result.keys()\n",
    "    }"
   ]
  },
  {
   "cell_type": "markdown",
   "metadata": {
    "id": "A9xvAf5Bk_0D"
   },
   "source": [
    "### Simulating Observational Data with Uncertain Structure and Parameters"
   ]
  },
  {
   "cell_type": "markdown",
   "metadata": {
    "id": "tWg_sQ-kk_0D"
   },
   "source": [
    "Again, we can simulate from the observational distribution, this time using our model with uncertainty over both structure and parameters."
   ]
  },
  {
   "cell_type": "code",
   "execution_count": 191,
   "metadata": {
    "ExecuteTime": {
     "end_time": "2024-06-20T15:48:05.648084Z",
     "start_time": "2024-06-20T15:48:02.319733Z"
    },
    "id": "GUYvRA4Dk_0D",
    "outputId": "29f4fb51-e2bc-4b22-cfe9-8b8aff760260"
   },
   "outputs": [
    {
     "data": {
      "text/plain": [
       "<Axes: title={'center': 'Observational Data - Uncertain Parameters and Structure'}, xlabel='Proportion of Individuals w/ Cancer', ylabel='Density'>"
      ]
     },
     "execution_count": 191,
     "metadata": {},
     "output_type": "execute_result"
    },
    {
     "data": {
      "image/png": "[encoded data removed]",
      "text/plain": [
       "<Figure size 640x480 with 1 Axes>"
      ]
     },
     "metadata": {},
     "output_type": "display_data"
    }
   ],
   "source": [
    "predictions_uncertain_structure_bayesian = multiple_samples(\n",
    "    bayesian_population_causal_model_uncertain_structure, (n_individuals,)\n",
    ")\n",
    "visualize_proportions_multiple(\n",
    "    predictions_uncertain_structure_bayesian,\n",
    "    \"Observational Data - Uncertain Parameters and Structure\",\n",
    ")"
   ]
  },
  {
   "cell_type": "markdown",
   "metadata": {
    "id": "9uwzKzRXk_0D"
   },
   "source": [
    "### Simulating Interventional Data with Uncertain Structure and Parameters"
   ]
  },
  {
   "cell_type": "markdown",
   "metadata": {
    "id": "Ox1ATxD6k_0D"
   },
   "source": [
    "Earlier we showed that interventions in ChiRho compose freely with hierarchical Bayesian extensions of our original model with deterministic parameters. Perhaps not surprisingly, interventions are still well-behaved even when we included uncertainty over structures in our programs.\n",
    "\n",
    "To see this, let's again apply our intervention and visualize the results of repeated samples from our model with structural uncertainty. As expected, we see that approximately half of the simulations from this model with structural uncertainty show a difference in cancer rate between smokers and non-smokers (representing samples in which `is_original_model=1`)\n"
   ]
  },
  {
   "cell_type": "code",
   "execution_count": 192,
   "metadata": {
    "ExecuteTime": {
     "end_time": "2024-06-20T15:48:05.651020Z",
     "start_time": "2024-06-20T15:48:05.647672Z"
    },
    "id": "OopvFkFuk_0D"
   },
   "outputs": [],
   "source": [
    "def bayesian_intervened_causal_model_uncertain_structure(n_individuals):\n",
    "    smokes_assignment = torch.tensor([0.0, 1.0]).repeat(n_individuals // 2)\n",
    "    transformed_model = do(\n",
    "        bayesian_population_causal_model_uncertain_structure,\n",
    "        {\"smokes\": smokes_assignment},\n",
    "    )\n",
    "    return transformed_model(n_individuals)"
   ]
  },
  {
   "cell_type": "code",
   "execution_count": 193,
   "metadata": {
    "ExecuteTime": {
     "end_time": "2024-06-20T15:48:08.818802Z",
     "start_time": "2024-06-20T15:48:05.655568Z"
    },
    "id": "MIkzG8akk_0E",
    "outputId": "c4b6a965-fbbb-4c22-e6c4-79f0c1e77d5f"
   },
   "outputs": [
    {
     "data": {
      "text/plain": [
       "<Axes: title={'center': 'Interventional Data - Uncertain Parameters and Structure'}, xlabel='Proportion of Individuals w/ Cancer', ylabel='Density'>"
      ]
     },
     "execution_count": 193,
     "metadata": {},
     "output_type": "execute_result"
    },
    {
     "data": {
      "image/png": "[encoded data removed]",
      "text/plain": [
       "<Figure size 640x480 with 1 Axes>"
      ]
     },
     "metadata": {},
     "output_type": "display_data"
    }
   ],
   "source": [
    "predictions_uncertain_structure_int_bayesian = multiple_samples(\n",
    "    bayesian_intervened_causal_model_uncertain_structure, (n_individuals,)\n",
    ")\n",
    "visualize_proportions_multiple(\n",
    "    predictions_uncertain_structure_int_bayesian,\n",
    "    \"Interventional Data - Uncertain Parameters and Structure\",\n",
    ")"
   ]
  },
  {
   "cell_type": "code",
   "execution_count": 194,
   "metadata": {
    "ExecuteTime": {
     "end_time": "2024-06-20T15:48:09.479978Z",
     "start_time": "2024-06-20T15:48:08.820077Z"
    },
    "id": "DhnKDHKok_0E",
    "outputId": "452b7af3-19d2-4d2d-bacc-e9b3c567671b"
   },
   "outputs": [
    {
     "data": {
      "text/plain": [
       "<Axes: title={'center': 'Interventional Data - Uncertain Parameters and Structure'}, xlabel='Average Treatment Effect (ATE)', ylabel='Density'>"
      ]
     },
     "execution_count": 194,
     "metadata": {},
     "output_type": "execute_result"
    },
    {
     "data": {
      "image/png": "[encoded data removed]",
      "text/plain": [
       "<Figure size 640x480 with 1 Axes>"
      ]
     },
     "metadata": {},
     "output_type": "display_data"
    }
   ],
   "source": [
    "visualize_ATE(\n",
    "    predictions_uncertain_structure_int_bayesian,\n",
    "    \"Interventional Data - Uncertain Parameters and Structure\",\n",
    ")"
   ]
  },
  {
   "cell_type": "markdown",
   "metadata": {
    "id": "EqSAVxxek_0E"
   },
   "source": [
    "Now that we've incorporated uncertainty about the structure *and* parameters, we can see that samples from the post-intervention version of our program sometimes show an effect of smoking on cancer and sometimes show no effect. We this clearly with a sharp peak at $ATE=0$ above. In other words, our uncertainty over causal models naturally propagates to uncertainty over causal conclusions. We can visualize this flow of uncertainty in the following (again somewhat cartoonish) diagram showing how information flows from observational probabilistic programs to interventions probabilistic programs and subsequently to factual and counterfactual data."
   ]
  },
  {
   "cell_type": "markdown",
   "metadata": {
    "id": "zrUjyJmWk_0E"
   },
   "source": [
    "![fig3](https://basisresearch.github.io/chirho/_images/Interventional_Marginal.png)"
   ]
  },
  {
   "cell_type": "markdown",
   "metadata": {},
   "source": [
    "## Problem 8:\n",
    "\n",
    "Create a variation of the extended model that changes one of the causal assumptions. For example, you could create a model that\n",
    "breaks the dependency between age and stress, or assumes that stress decreases with age instead of increasing. Follow the example above\n",
    "to combine your original and variant models and visualize the ATE."
   ]
  },
  {
   "cell_type": "markdown",
   "metadata": {
    "id": "kQx8ijhuk_0E"
   },
   "source": [
    "## Observation 3: causal inference is probabilistic inference\n"
   ]
  },
  {
   "cell_type": "markdown",
   "metadata": {
    "id": "ROhnfXPwk_0E"
   },
   "source": [
    "So far we've seen how introducing intervention program transformations using ChiRho's `do` makes it straightforward to reason about the causal implications of (i) uncertainty over the strength of causal effects and (ii) uncertainty over causal structure. We can call this progress *causal modeling*. In practice however, we often don't want to just posit causal knowledge about the world, we also want to update that knowledge in light of observational and experimental data. We'll call this process of learning about cause and effect from data *causal inference*. The key insight underlying ChiRho is that once we have a Bayesian causal model representing our uncertainty about cause-effect relationships, causal inference simply reduces to probabilistic inference in what's known as a *multi-world* transformation of our original causal model.\n",
    "\n",
    "As we'll show in this section, to reduce causal inference to probabilistic inference using ChiRho we have to follow a few steps:\n",
    "1. Transform our ChiRho program into a new Pyro program that represents a joint distribution over both outcomes, i.e. what actually happened, and counterfactual outcomes, i.e. what would have happened had we intervened. We'll call this a *multi-world program*.\n",
    "2. Condition the factual outcomes in our multi-world program according to some observed data.\n",
    "3. Run (approximate) posterior inference in the conditioned multi-world program, resulting in an updated distribution over both parameters and counterfactual outcomes.\n",
    "\n",
    "**Important Note:** Readers familiar with causal inference may find the statement that \"causal inference reduces to probabilistic inference\" unpalatable. To clarify, we are not claiming that causal inference reduces to probabilistic inference *absent any assumptions*. Instead, we simply propose that users encode their causal assumptions as probabilistic programs."
   ]
  },
  {
   "cell_type": "markdown",
   "metadata": {
    "id": "ChajS7Gok_0E"
   },
   "source": [
    "### Automatically Constructing Counterfactual Worlds - `MultiWorldCounterfactual`"
   ]
  },
  {
   "cell_type": "markdown",
   "metadata": {
    "id": "MGJ_VuIQk_0E"
   },
   "source": [
    "To make this concrete, we need to use another program transformation provided by ChiRho, the `MultiWorldCounterfactual` effect handler. Intuitively, this new effect handler tells ChiRho that any `pyro.sample` statements that are downstream of an intervention should be sampled multiple times, once for the observable world without interventions and once for each counterfactual world with interventions applied. Then, we can access and manipulate data in these counterfactual worlds using ChiRho's named tensor indexing utilities, `gather`, `IndexSet`, and `indices_of`.\n",
    "\n",
    "Note: For a more advanced use-case of the `MultiWorldCounterfactual` effect handler, see our [Mediation Analysis](https://basisresearch.github.io/chirho/mediation.html) notebook."
   ]
  },
  {
   "cell_type": "code",
   "execution_count": null,
   "metadata": {
    "ExecuteTime": {
     "end_time": "2024-06-20T15:48:09.551960Z",
     "start_time": "2024-06-20T15:48:09.479842Z"
    },
    "id": "aCXE9XPIk_0F",
    "outputId": "9848018c-aff9-4e8f-e6b8-8242a8c0fbc4"
   },
   "outputs": [
    {
     "name": "stdout",
     "output_type": "stream",
     "text": [
      "Counterfactual indices ---  IndexSet({'smokes': {0, 1}})\n",
      "smokes_factual ---  tensor([0., 1., 1.,  ..., 0., 1., 0.])\n",
      "smokes_counterfactual ---  tensor([0., 1., 0.,  ..., 1., 0., 1.])\n",
      "cancer_factual ---  tensor([1., 1., 1.,  ..., 1., 1., 1.])\n",
      "cancer_counterfactual ---  tensor([1., 1., 1.,  ..., 1., 1., 1.])\n"
     ]
    }
   ],
   "source": [
    "def bayesian_population_counterfactual_model(n_individuals):\n",
    "    with MultiWorldCounterfactual() as context:\n",
    "        return bayesian_population_intervened_causal_model(n_individuals), context\n",
    "\n",
    "\n",
    "results, counterfactual_context = bayesian_population_counterfactual_model(n_individuals)\n",
    "\n",
    "with counterfactual_context:\n",
    "    # ChiRho's `MultiWorldCounterfactual` effect handler automatically constructs named index sites\n",
    "    # corresponding to the names of all variables that were intervened upon using `do`.\n",
    "    # Here, that is only `smokes`.\n",
    "    print(\"Counterfactual indices --- \", indices_of(results[\"cancer\"]))\n",
    "\n",
    "    # `gather` extracts the subset of values corresponding to a particular counterfactual\n",
    "    # world given by the specific `IndexSet`. Here, `smokes=0` refers to the counterfactual\n",
    "    # world in which `smokes` was not intervened on.\n",
    "    smokes_factual = gather(results[\"smokes\"], IndexSet(smokes={0})).squeeze()\n",
    "    smokes_counterfactual = gather(\n",
    "        results[\"smokes\"], IndexSet(smokes={1})\n",
    "    ).squeeze()\n",
    "\n",
    "    cancer_factual = gather(results[\"cancer\"], IndexSet(smokes={0})).squeeze()\n",
    "    cancer_counterfactual = gather(\n",
    "        results[\"cancer\"], IndexSet(smokes={1})\n",
    "    ).squeeze()\n",
    "\n",
    "print(\"smokes_factual --- \", smokes_factual)\n",
    "print(\"smokes_counterfactual --- \", smokes_counterfactual)\n",
    "print(\"cancer_factual --- \", cancer_factual)\n",
    "print(\"cancer_counterfactual --- \", cancer_counterfactual)"
   ]
  },
  {
   "cell_type": "markdown",
   "metadata": {
    "id": "VAfuHlqNk_0F"
   },
   "source": [
    "Using somewhat light and informal mathematical notation, the tensors returned from the model transformed using the `MultiWorldCounterfactual` handler represent samples from the joint distribution $P(\\mathit{stress}, \\mathit{smokes}, \\mathit{cancer}, \\mathit{stress}_{cf}, \\mathit{smokes}_{cf}, \\mathit{cancer}_{cf})$, where $\\mathit{stress}$, $\\mathit{smokes}$, and $\\mathit{cancer}$ are the random variables representing individual attributes without an intervention and $\\mathit{stress}_{cf}$, $\\mathit{smokes}_{cf}$, and $\\mathit{cancer}_{cf}$ are the random variables representing individual attributes after applying our intervention.\n",
    "\n",
    "However, as we mentioned before, causal inference is about coming to causal conclusions combining modeling assumptions *and* data, not just modeling assumptions alone. Now that we have a model representing a joint distribution over both observational and interventional data, we can condition our model and apply approximate inference techniques just as we would any other Pyro model. For example, using Pyro's support for stochastic variational inference we can obtain an approximate conditional distribution $P(\\mathit{stress}_{cf}, \\mathit{smokes}_{cf}, \\mathit{cancer}_{cf}~|~\\mathit{stress}, \\mathit{smokes}, \\mathit{cancer})$. To see how ChiRho enables causal inference, let's first generate some synthetic observational data for $\\mathit{stress}$, $\\mathit{smokes}$, and $\\mathit{cancer}$ in which approximately half of the individuals smoke, and those who do are more likely to have cancer than those who don't."
   ]
  },
  {
   "cell_type": "markdown",
   "metadata": {
    "id": "W-VnomyBk_0F"
   },
   "source": [
    "### Generating Synthetic Data"
   ]
  },
  {
   "cell_type": "code",
   "execution_count": null,
   "metadata": {
    "ExecuteTime": {
     "end_time": "2024-06-20T15:48:09.561639Z",
     "start_time": "2024-06-20T15:48:09.504726Z"
    },
    "id": "uO86mb0uk_0F"
   },
   "outputs": [],
   "source": [
    "data_stress_prob = torch.tensor([0.5])\n",
    "data_smokes_cond_prob = torch.tensor([0.3, 0.6])\n",
    "data_cancer_cond_prob = torch.tensor([[0.1, 0.3], [0.1, 0.9]])\n",
    "\n",
    "data = population_causal_model(\n",
    "    n_individuals, data_stress_prob, data_smokes_cond_prob, data_cancer_cond_prob\n",
    ")"
   ]
  },
  {
   "cell_type": "markdown",
   "metadata": {
    "id": "ChjbEbv-k_0F"
   },
   "source": [
    "### Conditioning the Causal Model on Observational Data"
   ]
  },
  {
   "cell_type": "markdown",
   "metadata": {
    "id": "3VG_EpEWk_0F"
   },
   "source": [
    "Now that we have synthetic data, we can condition on it inside of the `MultiWorldCounterfactual` handler we saw earlier. This creates a new model `counterfactual_model_conditioned`, that represents the conditional distribution we're interested in, $P(\\mathit{stress}_{cf}, \\mathit{smokes}_{cf}, \\mathit{cancer}_{cf}~|~\\mathit{stress}, \\mathit{smokes}, \\mathit{cancer})$."
   ]
  },
  {
   "cell_type": "code",
   "execution_count": null,
   "metadata": {
    "ExecuteTime": {
     "end_time": "2024-06-20T15:48:09.561867Z",
     "start_time": "2024-06-20T15:48:09.509925Z"
    },
    "id": "UXJcHtJfk_0F"
   },
   "outputs": [],
   "source": [
    "counterfactual_model_conditioned = condition(bayesian_population_counterfactual_model, data)\n",
    "\n",
    "counterfactual_conditioned_results, counterfactual_conditioned_context = counterfactual_model_conditioned(\n",
    "    n_individuals\n",
    ")\n",
    "\n",
    "with counterfactual_conditioned_context:\n",
    "    # ChiRho's `condition` only conditions the model on the observational part\n",
    "    # of the model, not the counterfactual part.\n",
    "    assert torch.allclose(\n",
    "        gather(counterfactual_conditioned_results[\"smokes\"], IndexSet(smokes={0})).squeeze(),\n",
    "        data[\"smokes\"],\n",
    "    )\n",
    "    assert not torch.allclose(\n",
    "        gather(counterfactual_conditioned_results[\"smokes\"], IndexSet(smokes={1})).squeeze(),\n",
    "        data[\"smokes\"],\n",
    "    )\n",
    "    assert torch.allclose(\n",
    "        gather(counterfactual_conditioned_results[\"cancer\"], IndexSet(smokes={0})).squeeze(),\n",
    "        data[\"cancer\"],\n",
    "    )\n",
    "    assert not torch.allclose(\n",
    "        gather(counterfactual_conditioned_results[\"cancer\"], IndexSet(smokes={1})).squeeze(),\n",
    "        data[\"cancer\"],\n",
    "    )"
   ]
  },
  {
   "cell_type": "markdown",
   "metadata": {
    "id": "p5GT58Lmk_0G"
   },
   "source": [
    "### Using Variational Inference for Bayesian Causal Inference"
   ]
  },
  {
   "cell_type": "markdown",
   "metadata": {
    "id": "JwFIfQfPk_0G"
   },
   "source": [
    "After using the `MultiWorldCounterfactual` and the `do` handlers, the resulting model can be treated as an ordinary Pyro program. Just as in Pyro, conditioning a model on data means that we can no longer sample directly from the `counterfactual_model_conditioned` model by just running the program; instead we need to run an *approximate inference algorithm*.\n",
    "\n",
    "Because we've used ChiRho's program transformations to construct an ordinary Pyro program, we can use Pyro's built-in support for approximate inference. To see this, let's run stochastic variational inference with a reparameterized Gaussian mean-field variational approximation."
   ]
  },
  {
   "cell_type": "code",
   "execution_count": null,
   "metadata": {
    "ExecuteTime": {
     "end_time": "2024-06-20T15:48:20.909212Z",
     "start_time": "2024-06-20T15:48:09.524294Z"
    },
    "id": "dQHvRICrk_0G",
    "outputId": "96515b4b-f697-4bde-b30b-2b1ef355cf85"
   },
   "outputs": [
    {
     "name": "stdout",
     "output_type": "stream",
     "text": [
      "[iteration 0001] loss: 2.7679\n",
      "[iteration 0101] loss: 2.1620\n",
      "[iteration 0201] loss: 2.1152\n",
      "[iteration 0301] loss: 2.0960\n",
      "[iteration 0401] loss: 2.1227\n",
      "[iteration 0501] loss: 2.1109\n",
      "[iteration 0601] loss: 2.1179\n",
      "[iteration 0701] loss: 2.1184\n",
      "[iteration 0801] loss: 2.1131\n",
      "[iteration 0901] loss: 2.1117\n"
     ]
    }
   ],
   "source": [
    "num_iterations = 1000 if not smoke_test else 10\n",
    "\n",
    "adam = pyro.optim.Adam({\"lr\": 0.03})\n",
    "elbo = pyro.infer.Trace_ELBO()\n",
    "\n",
    "guide = AutoNormal(\n",
    "    block(\n",
    "        counterfactual_model_conditioned,\n",
    "        expose=[\"stress_prob\", \"smokes_cond_prob\", \"cancer_cond_prob\"],\n",
    "    )\n",
    ")\n",
    "\n",
    "svi = SVI(counterfactual_model_conditioned, guide, adam, loss=elbo)\n",
    "\n",
    "for j in range(num_iterations):\n",
    "    # calculate the loss and take a gradient step\n",
    "    loss = svi.step(n_individuals)\n",
    "    if j % 100 == 0:\n",
    "        print(\"[iteration %04d] loss: %.4f\" % (j + 1, loss / n_individuals))"
   ]
  },
  {
   "cell_type": "markdown",
   "metadata": {
    "id": "FLRRYcTfk_0G"
   },
   "source": [
    "### Simulating Interventional Data from the Approximate Posterior"
   ]
  },
  {
   "cell_type": "markdown",
   "metadata": {
    "id": "cv82Oy3zk_0G"
   },
   "source": [
    "We can visualize the resulting posterior distribution over intervened models just as we did before with data drawn from the prior."
   ]
  },
  {
   "cell_type": "code",
   "execution_count": null,
   "metadata": {
    "ExecuteTime": {
     "end_time": "2024-06-20T15:48:35.160924Z",
     "start_time": "2024-06-20T15:48:20.911117Z"
    },
    "id": "x_gQVlU0k_0G"
   },
   "outputs": [],
   "source": [
    "predictive_counterfactual_posterior = pyro.infer.Predictive(\n",
    "    bayesian_population_counterfactual_model, guide=guide, num_samples=num_samples\n",
    ")\n",
    "predictions_counterfactual_posterior = predictive_counterfactual_posterior(n_individuals)\n",
    "\n",
    "with counterfactual_conditioned_context:\n",
    "    predictions_int_posterior = {\n",
    "        k: gather(predictions_counterfactual_posterior[k], IndexSet(smokes={1})).squeeze()\n",
    "        for k in predictions_counterfactual_posterior.keys()\n",
    "    }\n",
    "\n",
    "# This intervention assignment is not stored in the trace, so we need to manually assign it.\n",
    "predictions_int_posterior[\"smokes\"] = smokes_counterfactual\n",
    "\n",
    "predictions_int_truth = multiple_samples(\n",
    "    population_intervened_causal_model,\n",
    "    (n_individuals, data_stress_prob, data_smokes_cond_prob, data_cancer_cond_prob),\n",
    ")"
   ]
  },
  {
   "cell_type": "code",
   "execution_count": null,
   "metadata": {
    "ExecuteTime": {
     "end_time": "2024-06-20T15:48:36.148633Z",
     "start_time": "2024-06-20T15:48:35.156912Z"
    },
    "id": "EpfABZrAk_0H",
    "outputId": "94e2b5ee-5b88-4ef6-ee08-8c8ad7a933e3"
   },
   "outputs": [
    {
     "data": {
      "text/plain": [
       "<matplotlib.legend.Legend at 0x7f868da0a910>"
      ]
     },
     "execution_count": 35,
     "metadata": {},
     "output_type": "execute_result"
    },
    {
     "data": {
      "image/png": "[encoded data removed]",
      "text/plain": [
       "<Figure size 640x480 with 1 Axes>"
      ]
     },
     "metadata": {},
     "output_type": "display_data"
    }
   ],
   "source": [
    "ax = visualize_ATE(predictions_int_bayesian, label=\"Prior Distribution\")\n",
    "visualize_ATE(predictions_int_posterior, label=\"Posterior Distribution\", ax=ax)\n",
    "visualize_ATE(predictions_int_truth, label=\"True Distribution\", ax=ax)\n",
    "ax.legend()"
   ]
  },
  {
   "cell_type": "markdown",
   "metadata": {
    "id": "7xgLw6k1k_0H"
   },
   "source": [
    "Using our conceptual diagrams from before, we can see how data informs our updated belief about causal models, which then propagate forward into counterfactual outcomes and causal conclusions. Even though we've only observed data in a world where people choose whether to smoke or not of their own free will, this observed data tells us something about which causal models are plausible. Importantly, this process of mapping data in one world to conclusions in another (e.g. a world in which people are randomly assigned smoking behavior), requires assumptions. When using ChiRho, the models we write encode those assumptions implicitly by how interventions transform them. In subsequent tutorials we'll discuss this subtlety and consideration in more detail. For now, remember that this ability to reduce causal inference to probabilistic inference doesn't come out of thin air."
   ]
  },
  {
   "cell_type": "markdown",
   "metadata": {
    "id": "xAWhf_zMk_0H"
   },
   "source": [
    "![fig4](https://basisresearch.github.io/chirho/_images/Interventional_Posterior.png)"
   ]
  },
  {
   "cell_type": "markdown",
   "metadata": {
    "id": "ayrrd07Rk_0H"
   },
   "source": [
    "## Recap"
   ]
  },
  {
   "cell_type": "markdown",
   "metadata": {
    "id": "s80d70aMk_0H"
   },
   "source": [
    "Before we conclude this tutorial, let's first recap, and then zoom out thinking a bit more broadly about what it is that we illustrated.\n",
    "\n",
    "**Observation 1**\n",
    "\n",
    "1. We wrote a causal model using the Pyro probabilistic programming language relating $stress$, $smokes$ and $cancer$, defined as a function of known parameters, and showed how this model can be used to simulate observations for a population of individuals using Pyro's `plate` effect handler.\n",
    "2. We wrote a modified version of our causal model in which individuals are \"forced\" to smoke or not smoke, modifying the original mechanism that determines whether individuals choose to smoke or not.\n",
    "3. We showed how this program rewriting can be automated with ChiRho using the `do` program transformation.\n",
    "\n",
    "**Observation 2**\n",
    "\n",
    "4. Using our causal model defined as a function of known parameters we wrote a Bayesian hierarchical causal model relating $stress$, $smokes$, and $cancer$. We showed how this Bayesian extension induces a distribution over populations of individuals, and the observational relationships between $smokes$ and $cancer$.\n",
    "5. We applied ChiRho's `do` program transformation to the Bayesian hierarchical causal model, and showed how this induces a distribution over the attributes of individuals who are forced to smoke or not smoke.\n",
    "6. We wrote an alternative Bayesian hierarchical causal model in which cancer causes individuals to smoke, rather than vice-versa as in our original model. Similar to our original model, this alternative model induced broad uncertainty over the observational relationship between $smokes$ and $cancer$. However, unlike our original model, forcing individuals smoke induced no change in whether individuals got cancer.\n",
    "7. We wrote a Bayesian hierarchical causal model with uncertainty over parameters and structure, implemented by randomly choosing between our two candidate causal models based on the outcome of a latent discrete random variable. We showed that this model induced a distribution over average treatment effects that had a sharp peak at $ATE=0$.\n",
    "\n",
    "**Observation 3**\n",
    "\n",
    "8. We showed how to represent a joint distribution over both observational and interventional distributions using ChiRho's `MultiWorldCounterfactual` effect handler.\n",
    "9. Conditioning our model on (synthetic) observed data, we showed how causal inference problems can be solved using Pyro's extensive support for approximate variational inference.\n",
    "10. Finally, we showed how the posterior distribution over causal models induced a posterior distribution over the attributes of individuals who forced to smoke or not smoke, conditional on observations of individuals who chose to smoke according to the original mechanisms."
   ]
  },
  {
   "cell_type": "markdown",
   "metadata": {
    "id": "UkoedQBxk_0H"
   },
   "source": [
    "## A Causal Bayesian Workflow"
   ]
  },
  {
   "cell_type": "markdown",
   "metadata": {
    "id": "g8iQCAlFk_0H"
   },
   "source": [
    "To conclude this tutorial, let's think about how to use ChiRho for causal inference problems more broadly. We elaborate on how the program transformation-based operations we've demonstrated so far fit into the standard statistical practice embodied by Peterson and van der Laans' *Causal Roadmap* \\[Petersen et al. 2014\\]. Here, we show the original causal roadmap components in **bold**, and how we would express them in terms of ChiRho in *italics*.\n",
    "\n",
    "\n",
    "1. **Specify knowledge about the system to be studied using a causal model**. *This knowledge should be expressed by the ordering and functional/distributional relationships of random variables in a Pyro program*.\n",
    "2. **Specify the observed data and their link to the causal model.** *Express the relationships between observations and the causal model by (optionally) adding additional model components representing mechanisms for missing data, and by conditioning the original Pyro program on observations*.\n",
    "3. **Specify a target causal quantity.** *Express the target causal quantity as a combination of program transformations including world-splitting (e.g. `MultiWorldCounterfactual`), intervention (`do`), and probabilistic conditioning (`condition`).*\n",
    "4. **Assess identifiability.** *Currently ChiRho does not support automated methods for assessing identifiability. Future versions will implement non-parametric methods such as the do-calculus \\[Pearl 2009\\], or numerical approaches such as Simulation-based identifiability \\[Witty et al. 2022\\].*\n",
    "5. **State the statistical estimation problem**. *ChiRho does not currently distinguish between causal estimation and statistical estimation. Therefore, this component of the original causal roadmap is not covered by ChiRho. In future versions we may implement nonparametric causal inference utilities using free variables, in which case causal reasoning (such as nonparametric identifiability analysis) and statistical estimation may occur over different models for the same process.*\n",
    "6. **Estimate.** *Use Pyro's approximate inference capabilities (e.g. SVI) to estimate the posterior distributions over counterfactual variables of interest.*\n",
    "7. **Interpret.** *ChiRho does not currently provide any support for interpretting the validity of causal assumptions or conclusions.*\n",
    "\n",
    "Importantly, once we arrive at step 6, we can again dispatch the standard non-causal *Bayesian Workflow* \\[Gelman et al. 2020\\] for assessing the validity of probabilistic modeling and inference. Note: while the causal roadmap and the Bayesian workflow are mostly orthogonal, there are some special considerations that can be made to make model criticism more effective in a causal inference setting \\[Tran et al. 2016\\]."
   ]
  },
  {
   "cell_type": "markdown",
   "metadata": {
    "id": "Ez-V-Zj2k_0H"
   },
   "source": [
    "## References"
   ]
  },
  {
   "cell_type": "markdown",
   "metadata": {
    "id": "b8hGYdHgk_0I"
   },
   "source": [
    "Aldrich, John. “Autonomy.” Oxford Economic Papers 41, no. 1 (1989): 15–34.\n",
    "\n",
    "Gelman, Andrew, et al. \"Bayesian workflow.\" arXiv preprint arXiv:2011.01808 (2020).\n",
    "\n",
    "Pearl, Judea. Causality: Models, Reasoning and Inference. 2nd ed. USA: Cambridge University Press, 2009.\n",
    "\n",
    "Petersen, Maya L., and Mark J. van der Laan. \"Causal models and learning from data: integrating causal modeling and statistical estimation.\" Epidemiology (Cambridge, Mass.) 25.3 (2014): 418.\n",
    "\n",
    "Tran, Dustin, et al. \"Model criticism for bayesian causal inference.\" arXiv preprint arXiv:1610.09037 (2016).\n",
    "\n",
    "Witty, Sam. \"Bayesian Structural Causal Inference with Probabilistic Programming\" Doctoral Dissertation (2023).\n",
    "\n",
    "Witty, Sam, David Jensen, and Vikash Mansinghka. \"SBI: A Simulation-Based Test of Identifiability for Bayesian Causal Inference.\" arXiv preprint arXiv:2102.11761 (2021)."
   ]
  }
 ],
 "metadata": {
  "colab": {
   "provenance": [],
   "toc_visible": true
  },
  "kernelspec": {
   "display_name": "Python 3 (ipykernel)",
   "language": "python",
   "name": "python3"
  },
  "language_info": {
   "codemirror_mode": {
    "name": "ipython",
    "version": 3
   },
   "file_extension": ".py",
   "mimetype": "text/x-python",
   "name": "python",
   "nbconvert_exporter": "python",
   "pygments_lexer": "ipython3",
   "version": "3.10.16"
  },
  "vscode": {
   "interpreter": {
    "hash": "cffe1a1fa048e49a173ef425a4ae5289f738a2b81f14c36ed87498058f2b9506"
   }
  }
 },
 "nbformat": 4,
 "nbformat_minor": 4
}

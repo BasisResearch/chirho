{
 "cells": [
  {
   "cell_type": "code",
   "execution_count": 6,
   "id": "initial_id",
   "metadata": {
    "collapsed": true,
    "ExecuteTime": {
     "end_time": "2024-01-11T20:04:15.169353Z",
     "start_time": "2024-01-11T20:04:15.160243Z"
    }
   },
   "outputs": [],
   "source": [
    "import numpy as np\n",
    "from scipy.integrate import nquad\n",
    "from scipy.stats import multivariate_normal\n",
    "\n",
    "# Thanks chatgpt for this cell.\n",
    "\n",
    "def squared_multivariate_normal_density(x, mean, cov):\n",
    "    \"\"\"\n",
    "    Squared density function of a multivariate normal distribution.\n",
    "\n",
    "    :param x: A point in n-dimensional space.\n",
    "    :param mean: Mean vector of the multivariate normal distribution.\n",
    "    :param cov: Covariance matrix of the multivariate normal distribution.\n",
    "    :return: Squared density at the point x.\n",
    "    \"\"\"\n",
    "    density = multivariate_normal.pdf(x, mean, cov)\n",
    "    return density ** 2\n",
    "\n",
    "def integrate_squared_density_multivariate(mean, cov, dims):\n",
    "    \"\"\"\n",
    "    Numerically approximate the integrated squared density of a multivariate normal distribution.\n",
    "\n",
    "    :param mean: Mean vector of the multivariate normal distribution.\n",
    "    :param cov: Covariance matrix of the multivariate normal distribution.\n",
    "    :param dims: Number of dimensions.\n",
    "    :return: Numerical approximation of the integrated squared density.\n",
    "    \"\"\"\n",
    "    # Integration limits for each dimension\n",
    "    limits = [(-6, 6)] * dims\n",
    "\n",
    "    # Wrapper function to adapt the multivariate function for nquad\n",
    "    def integrand(*args):\n",
    "        return squared_multivariate_normal_density(np.array(args), mean, cov)\n",
    "\n",
    "    return nquad(integrand, limits)[0]"
   ]
  },
  {
   "cell_type": "code",
   "execution_count": 7,
   "outputs": [],
   "source": [
    "# quad_results = []\n",
    "# # Integrated squared densities\n",
    "# for d in [1, 2, 3]:\n",
    "#     # Example usage\n",
    "#     mean = np.zeros(d)\n",
    "#     cov = np.eye(d)\n",
    "#     \n",
    "#     quad_result = integrate_squared_density_multivariate(mean, cov, d)\n",
    "#     quad_results.append(quad_result)\n",
    "#     print(f\"with ndim={d}; \\int p(x)^2 dx =\", quad_result)"
   ],
   "metadata": {
    "collapsed": false,
    "ExecuteTime": {
     "end_time": "2024-01-11T20:04:15.169506Z",
     "start_time": "2024-01-11T20:04:15.166068Z"
    }
   },
   "id": "646a660b67fa99fb"
  },
  {
   "cell_type": "code",
   "execution_count": 8,
   "outputs": [],
   "source": [
    "from chirho.robust.ops import fd_influence_fn\n",
    "import pyro\n",
    "import pyro.distributions as dist\n",
    "import torch"
   ],
   "metadata": {
    "collapsed": false,
    "ExecuteTime": {
     "end_time": "2024-01-11T20:04:15.176080Z",
     "start_time": "2024-01-11T20:04:15.169911Z"
    }
   },
   "id": "36f8603d2044d036"
  },
  {
   "cell_type": "code",
   "execution_count": 9,
   "outputs": [],
   "source": [
    "def diagnormal(mean=0, std=1):\n",
    "    return dict(x=pyro.sample('x', dist.Normal(mean, std)))"
   ],
   "metadata": {
    "collapsed": false,
    "ExecuteTime": {
     "end_time": "2024-01-11T20:04:15.176196Z",
     "start_time": "2024-01-11T20:04:15.172819Z"
    }
   },
   "id": "82c73c5bbf49581d"
  },
  {
   "cell_type": "code",
   "execution_count": 10,
   "outputs": [],
   "source": [
    "# Generate training data.\n",
    "datas = []\n",
    "N = 100\n",
    "\n",
    "for d in [1, 2, 3]:\n",
    "    with pyro.plate('N', N, dim=-2):\n",
    "        with pyro.plate('d', d, dim=-1):\n",
    "            datas.append(diagnormal(0, 1))"
   ],
   "metadata": {
    "collapsed": false,
    "ExecuteTime": {
     "end_time": "2024-01-11T20:04:15.182621Z",
     "start_time": "2024-01-11T20:04:15.176516Z"
    }
   },
   "id": "2fff3ef4c1360b7a"
  },
  {
   "cell_type": "code",
   "execution_count": 15,
   "outputs": [],
   "source": [
    "# Train models on the first half of the data.\n",
    "inferred_models = []\n",
    "for data in datas:\n",
    "    # A model fit to the first half of the data.\n",
    "    mean = torch.mean(data['x'][:N//2])\n",
    "    std = torch.std(data['x'][:N//2])\n",
    "    d = data['x'].shape[-1]\n",
    "    def _model():\n",
    "        with pyro.plate('d', d, dim=-1):\n",
    "            return diagnormal(mean=mean, std=std)\n",
    "    inferred_models.append(_model)"
   ],
   "metadata": {
    "collapsed": false,
    "ExecuteTime": {
     "end_time": "2024-01-11T20:05:43.095256Z",
     "start_time": "2024-01-11T20:05:43.090240Z"
    }
   },
   "id": "2ba8b23ee37e52d4"
  },
  {
   "cell_type": "code",
   "execution_count": 16,
   "outputs": [],
   "source": [
    "def squared_density_functional(model):\n",
    "    def target(d, nmc=100):\n",
    "        res = 0\n",
    "        for _ in range(nmc):\n",
    "            with pyro.poutine.trace() as tr:\n",
    "                model()\n",
    "            res += tr.trace.log_prob_sum().exp() / N\n",
    "        return res\n",
    "    return target"
   ],
   "metadata": {
    "collapsed": false,
    "ExecuteTime": {
     "end_time": "2024-01-11T20:05:43.711955Z",
     "start_time": "2024-01-11T20:05:43.705190Z"
    }
   },
   "id": "4d7e81d2cad0bfff"
  },
  {
   "cell_type": "code",
   "execution_count": 18,
   "outputs": [
    {
     "name": "stdout",
     "output_type": "stream",
     "text": [
      "plugin with ndim=1; \\int p(x)^2 dx = tensor(0.2571)\n",
      "tensor([[-0.2172],\n",
      "        [-0.8808],\n",
      "        [-0.8434],\n",
      "        [-0.8053],\n",
      "        [-0.0255],\n",
      "        [ 1.9628],\n",
      "        [-0.6141],\n",
      "        [ 1.5846],\n",
      "        [ 0.5951],\n",
      "        [-2.1053],\n",
      "        [-0.1268],\n",
      "        [-2.2127],\n",
      "        [ 0.5829],\n",
      "        [-0.0794],\n",
      "        [-1.4608],\n",
      "        [-2.0613],\n",
      "        [-0.8474],\n",
      "        [-1.6414],\n",
      "        [ 0.2076],\n",
      "        [ 0.8621],\n",
      "        [ 0.3099],\n",
      "        [ 0.4285],\n",
      "        [-0.3761],\n",
      "        [-0.4787],\n",
      "        [ 0.5645],\n",
      "        [ 0.8255],\n",
      "        [ 0.2588],\n",
      "        [-2.1734],\n",
      "        [ 0.7421],\n",
      "        [-0.5980],\n",
      "        [-1.7096],\n",
      "        [ 0.1787],\n",
      "        [ 0.5939],\n",
      "        [-0.6935],\n",
      "        [-0.4807],\n",
      "        [ 2.2234],\n",
      "        [ 0.0458],\n",
      "        [-0.6098],\n",
      "        [-0.3696],\n",
      "        [ 1.9040],\n",
      "        [-1.0408],\n",
      "        [-0.7124],\n",
      "        [ 0.3746],\n",
      "        [-0.5014],\n",
      "        [ 0.3685],\n",
      "        [-0.7191],\n",
      "        [ 1.1040],\n",
      "        [-0.1124],\n",
      "        [-1.0923],\n",
      "        [ 1.0834]])\n",
      "correction with ndim=1; \\int p(x)^2 dx = tensor(-7.8416)\n",
      "corrected with ndim=1; \\int p(x)^2 dx = tensor(-7.5844)\n",
      "plugin with ndim=2; \\int p(x)^2 dx = tensor(0.0710)\n",
      "tensor([[ 1.0300,  0.5128],\n",
      "        [-2.1107,  1.0861],\n",
      "        [-0.2092,  0.5601],\n",
      "        [ 1.8190,  0.5242],\n",
      "        [-0.9258, -1.1970],\n",
      "        [ 0.1553, -1.4582],\n",
      "        [-0.9955,  0.8934],\n",
      "        [ 0.0463,  0.1219],\n",
      "        [-0.1988,  0.0465],\n",
      "        [-0.1220, -0.5855],\n",
      "        [-1.5542, -1.4126],\n",
      "        [ 0.0987, -0.4780],\n",
      "        [ 1.5085,  1.2975],\n",
      "        [ 0.9800, -0.5606],\n",
      "        [-0.1584, -1.5427],\n",
      "        [-1.1436, -2.4300],\n",
      "        [-0.4134, -1.5894],\n",
      "        [-0.0390, -0.2948],\n",
      "        [ 0.5064,  0.0847],\n",
      "        [ 2.4972, -0.4473],\n",
      "        [ 2.3271, -0.1996],\n",
      "        [-1.4356,  1.2007],\n",
      "        [-0.0953, -0.9698],\n",
      "        [-0.1491,  0.4237],\n",
      "        [-0.1791,  0.2849],\n",
      "        [ 0.4424, -0.5289],\n",
      "        [ 0.5607, -0.4383],\n",
      "        [-0.8822, -1.1802],\n",
      "        [-0.3455, -1.5077],\n",
      "        [ 0.4472, -2.1917],\n",
      "        [-1.0550, -1.7937],\n",
      "        [ 1.1272,  0.7234],\n",
      "        [-0.3967, -0.5824],\n",
      "        [-1.1693,  0.2371],\n",
      "        [-0.2727, -2.2177],\n",
      "        [-1.5342,  1.0350],\n",
      "        [-0.0880, -0.1815],\n",
      "        [-1.0534,  1.4517],\n",
      "        [-1.5974, -0.8562],\n",
      "        [ 0.9563, -1.3292],\n",
      "        [-0.4638, -0.0427],\n",
      "        [-1.6517,  1.7289],\n",
      "        [-0.2355,  1.1272],\n",
      "        [-0.5346, -0.1717],\n",
      "        [-0.2318,  1.0640],\n",
      "        [ 0.9861,  1.7652],\n",
      "        [-0.0561,  1.0491],\n",
      "        [-0.3232, -0.4149],\n",
      "        [ 1.0538, -0.3474],\n",
      "        [ 0.7251, -0.5657]])\n"
     ]
    },
    {
     "ename": "AttributeError",
     "evalue": "'Tensor' object has no attribute 'items'",
     "output_type": "error",
     "traceback": [
      "\u001B[0;31m---------------------------------------------------------------------------\u001B[0m",
      "\u001B[0;31mAttributeError\u001B[0m                            Traceback (most recent call last)",
      "Cell \u001B[0;32mIn[18], line 14\u001B[0m\n\u001B[1;32m     12\u001B[0m \u001B[38;5;28mprint\u001B[39m(data)\n\u001B[1;32m     13\u001B[0m eif \u001B[38;5;241m=\u001B[39m fd_influence_fn(inferred_model, squared_density_functional, eps\u001B[38;5;241m=\u001B[39mtorch\u001B[38;5;241m.\u001B[39mtensor(\u001B[38;5;241m1e-3\u001B[39m))\n\u001B[0;32m---> 14\u001B[0m correction_result \u001B[38;5;241m=\u001B[39m \u001B[43meif\u001B[49m\u001B[43m(\u001B[49m\u001B[43mdata\u001B[49m\u001B[43m,\u001B[49m\u001B[43m \u001B[49m\u001B[43md\u001B[49m\u001B[38;5;241;43m=\u001B[39;49m\u001B[43md\u001B[49m\u001B[43m)\u001B[49m\n\u001B[1;32m     15\u001B[0m correction_results\u001B[38;5;241m.\u001B[39mappend(correction_result)\n\u001B[1;32m     16\u001B[0m \u001B[38;5;28mprint\u001B[39m(\u001B[38;5;124mf\u001B[39m\u001B[38;5;124m\"\u001B[39m\u001B[38;5;124mcorrection with ndim=\u001B[39m\u001B[38;5;132;01m{\u001B[39;00md\u001B[38;5;132;01m}\u001B[39;00m\u001B[38;5;124m; \u001B[39m\u001B[38;5;124m\\\u001B[39m\u001B[38;5;124mint p(x)^2 dx =\u001B[39m\u001B[38;5;124m\"\u001B[39m, correction_result)\n",
      "File \u001B[0;32m~/GitRepo/causal_pyro/chirho/robust/ops.py:187\u001B[0m, in \u001B[0;36mfd_influence_fn.<locals>._fn\u001B[0;34m(points, *args, **kwargs)\u001B[0m\n\u001B[1;32m    184\u001B[0m target_perturbed \u001B[38;5;241m=\u001B[39m functional(perturbed_model)\n\u001B[1;32m    186\u001B[0m \u001B[38;5;66;03m# FIXME bdbjdis vmap with func_target etc. here, this is basically just pseudo code right now.\u001B[39;00m\n\u001B[0;32m--> 187\u001B[0m t_p_eps \u001B[38;5;241m=\u001B[39m \u001B[43mtarget_perturbed\u001B[49m\u001B[43m(\u001B[49m\u001B[38;5;241;43m*\u001B[39;49m\u001B[43margs\u001B[49m\u001B[43m,\u001B[49m\u001B[43m \u001B[49m\u001B[38;5;241;43m*\u001B[39;49m\u001B[38;5;241;43m*\u001B[39;49m\u001B[43mkwargs\u001B[49m\u001B[43m)\u001B[49m\n\u001B[1;32m    188\u001B[0m t_p_hat \u001B[38;5;241m=\u001B[39m target(\u001B[38;5;241m*\u001B[39margs, \u001B[38;5;241m*\u001B[39m\u001B[38;5;241m*\u001B[39mkwargs)\n\u001B[1;32m    189\u001B[0m \u001B[38;5;28;01mreturn\u001B[39;00m (t_p_eps \u001B[38;5;241m-\u001B[39m t_p_hat) \u001B[38;5;241m/\u001B[39m eps\n",
      "Cell \u001B[0;32mIn[16], line 6\u001B[0m, in \u001B[0;36msquared_density_functional.<locals>.target\u001B[0;34m(d, nmc)\u001B[0m\n\u001B[1;32m      4\u001B[0m \u001B[38;5;28;01mfor\u001B[39;00m _ \u001B[38;5;129;01min\u001B[39;00m \u001B[38;5;28mrange\u001B[39m(nmc):\n\u001B[1;32m      5\u001B[0m     \u001B[38;5;28;01mwith\u001B[39;00m pyro\u001B[38;5;241m.\u001B[39mpoutine\u001B[38;5;241m.\u001B[39mtrace() \u001B[38;5;28;01mas\u001B[39;00m tr:\n\u001B[0;32m----> 6\u001B[0m         \u001B[43mmodel\u001B[49m\u001B[43m(\u001B[49m\u001B[43m)\u001B[49m\n\u001B[1;32m      7\u001B[0m     res \u001B[38;5;241m+\u001B[39m\u001B[38;5;241m=\u001B[39m tr\u001B[38;5;241m.\u001B[39mtrace\u001B[38;5;241m.\u001B[39mlog_prob_sum()\u001B[38;5;241m.\u001B[39mexp() \u001B[38;5;241m/\u001B[39m N\n\u001B[1;32m      8\u001B[0m \u001B[38;5;28;01mreturn\u001B[39;00m res\n",
      "File \u001B[0;32m~/miniconda3/envs/basis_general/lib/python3.11/site-packages/torch/nn/modules/module.py:1501\u001B[0m, in \u001B[0;36mModule._call_impl\u001B[0;34m(self, *args, **kwargs)\u001B[0m\n\u001B[1;32m   1496\u001B[0m \u001B[38;5;66;03m# If we don't have any hooks, we want to skip the rest of the logic in\u001B[39;00m\n\u001B[1;32m   1497\u001B[0m \u001B[38;5;66;03m# this function, and just call forward.\u001B[39;00m\n\u001B[1;32m   1498\u001B[0m \u001B[38;5;28;01mif\u001B[39;00m \u001B[38;5;129;01mnot\u001B[39;00m (\u001B[38;5;28mself\u001B[39m\u001B[38;5;241m.\u001B[39m_backward_hooks \u001B[38;5;129;01mor\u001B[39;00m \u001B[38;5;28mself\u001B[39m\u001B[38;5;241m.\u001B[39m_backward_pre_hooks \u001B[38;5;129;01mor\u001B[39;00m \u001B[38;5;28mself\u001B[39m\u001B[38;5;241m.\u001B[39m_forward_hooks \u001B[38;5;129;01mor\u001B[39;00m \u001B[38;5;28mself\u001B[39m\u001B[38;5;241m.\u001B[39m_forward_pre_hooks\n\u001B[1;32m   1499\u001B[0m         \u001B[38;5;129;01mor\u001B[39;00m _global_backward_pre_hooks \u001B[38;5;129;01mor\u001B[39;00m _global_backward_hooks\n\u001B[1;32m   1500\u001B[0m         \u001B[38;5;129;01mor\u001B[39;00m _global_forward_hooks \u001B[38;5;129;01mor\u001B[39;00m _global_forward_pre_hooks):\n\u001B[0;32m-> 1501\u001B[0m     \u001B[38;5;28;01mreturn\u001B[39;00m \u001B[43mforward_call\u001B[49m\u001B[43m(\u001B[49m\u001B[38;5;241;43m*\u001B[39;49m\u001B[43margs\u001B[49m\u001B[43m,\u001B[49m\u001B[43m \u001B[49m\u001B[38;5;241;43m*\u001B[39;49m\u001B[38;5;241;43m*\u001B[39;49m\u001B[43mkwargs\u001B[49m\u001B[43m)\u001B[49m\n\u001B[1;32m   1502\u001B[0m \u001B[38;5;66;03m# Do not call functions when jit is used\u001B[39;00m\n\u001B[1;32m   1503\u001B[0m full_backward_hooks, non_full_backward_hooks \u001B[38;5;241m=\u001B[39m [], []\n",
      "File \u001B[0;32m~/GitRepo/causal_pyro/chirho/robust/handlers/predictive.py:75\u001B[0m, in \u001B[0;36mKernelPerturbedModel.forward\u001B[0;34m(self, *args, **kwargs)\u001B[0m\n\u001B[1;32m     73\u001B[0m \u001B[38;5;28;01mif\u001B[39;00m _from_kernel:\n\u001B[1;32m     74\u001B[0m     \u001B[38;5;28;01mwith\u001B[39;00m pyro\u001B[38;5;241m.\u001B[39mpoutine\u001B[38;5;241m.\u001B[39mtrace() \u001B[38;5;28;01mas\u001B[39;00m kernel_tr:\n\u001B[0;32m---> 75\u001B[0m         \u001B[38;5;28;43mself\u001B[39;49m\u001B[38;5;241;43m.\u001B[39;49m\u001B[43mkernel\u001B[49m\u001B[43m(\u001B[49m\u001B[38;5;28;43mself\u001B[39;49m\u001B[38;5;241;43m.\u001B[39;49m\u001B[43mpoints\u001B[49m\u001B[43m)\u001B[49m\n\u001B[1;32m     76\u001B[0m     replay_from_kernel \u001B[38;5;241m=\u001B[39m pyro\u001B[38;5;241m.\u001B[39mpoutine\u001B[38;5;241m.\u001B[39mreplay(trace\u001B[38;5;241m=\u001B[39mkernel_tr\u001B[38;5;241m.\u001B[39mtrace)\n\u001B[1;32m     78\u001B[0m     \u001B[38;5;66;03m# This prevents any outer traces from seeing the kernel sites twice, once in the kernel and again\u001B[39;00m\n\u001B[1;32m     79\u001B[0m     \u001B[38;5;66;03m#  in the model.\u001B[39;00m\n",
      "File \u001B[0;32m~/GitRepo/causal_pyro/chirho/robust/handlers/predictive.py:43\u001B[0m, in \u001B[0;36mKernelPerturbedModel.__init__.<locals>.kernel\u001B[0;34m(_kernel_loc)\u001B[0m\n\u001B[1;32m     41\u001B[0m \u001B[38;5;28;01mdef\u001B[39;00m \u001B[38;5;21mkernel\u001B[39m(_kernel_loc: Point[T]):\n\u001B[1;32m     42\u001B[0m     ret \u001B[38;5;241m=\u001B[39m \u001B[38;5;28mdict\u001B[39m()\n\u001B[0;32m---> 43\u001B[0m     \u001B[38;5;28;01mfor\u001B[39;00m name, value \u001B[38;5;129;01min\u001B[39;00m \u001B[43m_kernel_loc\u001B[49m\u001B[38;5;241;43m.\u001B[39;49m\u001B[43mitems\u001B[49m():\n\u001B[1;32m     44\u001B[0m         ret[name] \u001B[38;5;241m=\u001B[39m pyro\u001B[38;5;241m.\u001B[39msample(name, dist\u001B[38;5;241m.\u001B[39mDelta(value))\n\u001B[1;32m     45\u001B[0m     \u001B[38;5;28;01mreturn\u001B[39;00m ret\n",
      "\u001B[0;31mAttributeError\u001B[0m: 'Tensor' object has no attribute 'items'"
     ]
    }
   ],
   "source": [
    "plugin_results = []\n",
    "correction_results = []\n",
    "corrected_results = []\n",
    "for d, inferred_model, alldata in zip([1, 2, 3], inferred_models, datas):\n",
    "    # Compute plugin.\n",
    "    plugin_result = squared_density_functional(inferred_model)(d)\n",
    "    plugin_results.append(plugin_result)\n",
    "    print(f\"plugin with ndim={d}; \\int p(x)^2 dx =\", plugin_result)\n",
    "    \n",
    "    # Estimate the expected influence function on the second half of the data.\n",
    "    data = alldata['x'][N//2:]\n",
    "    print(data)\n",
    "    eif = fd_influence_fn(inferred_model, squared_density_functional, eps=torch.tensor(1e-3))\n",
    "    correction_result = eif(data, d=d)\n",
    "    correction_results.append(correction_result)\n",
    "    print(f\"correction with ndim={d}; \\int p(x)^2 dx =\", correction_result)\n",
    "    \n",
    "    corrected_result = plugin_result + correction_result\n",
    "    corrected_results.append(corrected_result)\n",
    "    print(f\"corrected with ndim={d}; \\int p(x)^2 dx =\", corrected_result)"
   ],
   "metadata": {
    "collapsed": false,
    "ExecuteTime": {
     "end_time": "2024-01-11T20:06:23.022754Z",
     "start_time": "2024-01-11T20:06:22.921330Z"
    }
   },
   "id": "66e7f29d984cb010"
  },
  {
   "cell_type": "code",
   "execution_count": null,
   "outputs": [],
   "source": [],
   "metadata": {
    "collapsed": false,
    "ExecuteTime": {
     "start_time": "2024-01-11T20:04:15.299976Z"
    }
   },
   "id": "46379e54f229c5b"
  }
 ],
 "metadata": {
  "kernelspec": {
   "display_name": "Python 3",
   "language": "python",
   "name": "python3"
  },
  "language_info": {
   "codemirror_mode": {
    "name": "ipython",
    "version": 2
   },
   "file_extension": ".py",
   "mimetype": "text/x-python",
   "name": "python",
   "nbconvert_exporter": "python",
   "pygments_lexer": "ipython2",
   "version": "2.7.6"
  }
 },
 "nbformat": 4,
 "nbformat_minor": 5
}

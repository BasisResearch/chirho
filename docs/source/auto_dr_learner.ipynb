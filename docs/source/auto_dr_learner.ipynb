{
 "cells": [
  {
   "attachments": {},
   "cell_type": "markdown",
   "metadata": {},
   "source": [
    "# Automated doubly robust estimation with ChiRho"
   ]
  },
  {
   "cell_type": "code",
   "execution_count": 1,
   "metadata": {},
   "outputs": [],
   "source": [
    "import collections\n",
    "import math\n",
    "import seaborn as sns\n",
    "import matplotlib.pyplot as plt\n",
    "from typing import Callable, Dict\n",
    "\n",
    "import torch\n",
    "import pyro\n",
    "import pyro.distributions as dist\n",
    "from pyro.infer.autoguide import AutoNormal\n",
    "from pyro.infer import Predictive\n",
    "from typing import Callable, Dict, List, Optional, Tuple, Union\n",
    "\n",
    "from chirho.observational.handlers import condition\n",
    "from chirho.interventional.handlers import do\n",
    "from chirho.counterfactual.handlers import MultiWorldCounterfactual\n",
    "from chirho.indexed.ops import IndexSet, gather\n",
    "\n",
    "pyro.settings.set(module_local_params=True)\n",
    "\n",
    "sns.set_style(\"white\")\n",
    "\n",
    "pyro.set_rng_seed(321) # for reproducibility"
   ]
  },
  {
   "attachments": {},
   "cell_type": "markdown",
   "metadata": {},
   "source": [
    "# Probabilistic model for the data generating process"
   ]
  },
  {
   "cell_type": "code",
   "execution_count": 2,
   "metadata": {},
   "outputs": [],
   "source": [
    "gaussian_link = lambda mu: dist.Normal(mu, 1.)\n",
    "bernoulli_link = lambda mu: dist.Bernoulli(logits=mu)\n",
    "\n",
    "class HighDimLinearModel(pyro.nn.PyroModule):\n",
    "    def __init__(\n",
    "        self, p: int, link_fn: Callable[..., dist.Distribution] = gaussian_link\n",
    "    ):\n",
    "        super().__init__()\n",
    "        self.p = p\n",
    "        self.link_fn = link_fn\n",
    "\n",
    "    def sample_outcome_weights(self):\n",
    "        return pyro.sample(\n",
    "            \"outcome_weights\",\n",
    "            dist.Normal(0.0, 1.0 / math.sqrt(self.p)).expand((self.p,)).to_event(1),\n",
    "        )\n",
    "\n",
    "    def sample_intercept(self):\n",
    "        return pyro.sample(\"intercept\", dist.Normal(0.0, 1.0))\n",
    "\n",
    "    def sample_propensity_weights(self):\n",
    "        return pyro.sample(\n",
    "            \"propensity_weights\",\n",
    "            dist.Normal(0.0, 1.0 / math.sqrt(self.p)).expand((self.p,)).to_event(1),\n",
    "        )\n",
    "\n",
    "    def sample_treatment_weight(self):\n",
    "        return pyro.sample(\"treatment_weight\", dist.Normal(0.0, 1.0))\n",
    "\n",
    "    def sample_covariate_loc_scale(self):\n",
    "        loc = pyro.sample(\n",
    "            \"covariate_loc\", dist.Normal(0.0, 1.0).expand((self.p,)).to_event(1)\n",
    "        )\n",
    "        scale = pyro.sample(\n",
    "            \"covariate_scale\", dist.LogNormal(0, 1).expand((self.p,)).to_event(1)\n",
    "        )\n",
    "        return loc, scale\n",
    "\n",
    "    def forward(self, N: int):\n",
    "        intercept = self.sample_intercept()\n",
    "        outcome_weights = self.sample_outcome_weights()\n",
    "        propensity_weights = self.sample_propensity_weights()\n",
    "        tau = self.sample_treatment_weight()\n",
    "        x_loc, x_scale = self.sample_covariate_loc_scale()\n",
    "        with pyro.plate(\"obs\", N, dim=-1):\n",
    "            X = pyro.sample(\"X\", dist.Normal(x_loc, x_scale).to_event(1))\n",
    "            A = pyro.sample(\n",
    "                \"A\",\n",
    "                dist.Bernoulli(\n",
    "                    logits=torch.einsum(\"...np,...p->...n\", X, propensity_weights)\n",
    "                ),\n",
    "            )\n",
    "            return pyro.sample(\n",
    "                \"Y\",\n",
    "                self.link_fn(\n",
    "                    torch.einsum(\"...np,...p->...n\", X, outcome_weights)\n",
    "                    + A * tau\n",
    "                    + intercept\n",
    "                ),\n",
    "            )\n",
    "\n",
    "\n",
    "class KnownCovariateDistModel(HighDimLinearModel):\n",
    "    def sample_covariate_loc_scale(self):\n",
    "        return torch.zeros(self.p), torch.ones(self.p)\n",
    "\n",
    "\n",
    "class BenchmarkLinearModel(HighDimLinearModel):\n",
    "    def __init__(\n",
    "        self,\n",
    "        p: int,\n",
    "        link_fn: Callable,\n",
    "        alpha: int,\n",
    "        beta: int,\n",
    "        treatment_weight: float = 0.0,\n",
    "    ):\n",
    "        super().__init__(p, link_fn)\n",
    "        self.alpha = alpha  # sparsity of propensity weights\n",
    "        self.beta = beta  # sparisty of outcome weights\n",
    "        self.treatment_weight = treatment_weight\n",
    "\n",
    "    def sample_outcome_weights(self):\n",
    "        outcome_weights = 1 / math.sqrt(self.beta) * torch.ones(self.p)\n",
    "        outcome_weights[self.beta :] = 0.0\n",
    "        return outcome_weights\n",
    "\n",
    "    def sample_treatment_null_weight(self):\n",
    "        return torch.tensor(0.0)\n",
    "\n",
    "    def sample_propensity_weights(self):\n",
    "        propensity_weights = 1 / math.sqrt(4 * self.alpha) * torch.ones(self.p)\n",
    "        propensity_weights[self.alpha :] = 0.0\n",
    "        return propensity_weights\n",
    "\n",
    "    def sample_treatment_weight(self):\n",
    "        return torch.tensor(self.treatment_weight)\n",
    "\n",
    "    def sample_treatment_null_weight(self):\n",
    "        return torch.tensor(0.0)\n",
    "\n",
    "    def sample_covariate_loc_scale(self):\n",
    "        return torch.zeros(self.p), torch.ones(self.p)\n",
    "\n",
    "\n",
    "class ConditionedModel(KnownCovariateDistModel):\n",
    "    def forward(self, D):\n",
    "        with condition(data=D):\n",
    "            # Assume first dimension corresponds to # of datapoints\n",
    "            N = D[next(iter(D))].shape[0]\n",
    "            return super().forward(N=N)"
   ]
  },
  {
   "attachments": {},
   "cell_type": "markdown",
   "metadata": {},
   "source": [
    "# Functional of interest"
   ]
  },
  {
   "cell_type": "code",
   "execution_count": 3,
   "metadata": {},
   "outputs": [],
   "source": [
    "def ATE(model: Callable[[], torch.Tensor], num_samples: int = 100) -> torch.Tensor:\n",
    "    \"\"\"Compute the average treatment effect of a model.\"\"\"\n",
    "    with MultiWorldCounterfactual():\n",
    "        with do(actions=dict(A=(torch.tensor(0.0), torch.tensor(1.0)))):\n",
    "            Ys = model(N=num_samples)\n",
    "        Y0 = gather(Ys, IndexSet(A={1}), event_dim=0)\n",
    "        Y1 = gather(Ys, IndexSet(A={2}), event_dim=0)\n",
    "    return pyro.deterministic(\"ATE\", (Y1 - Y0).mean(dim=-1, keepdim=True).squeeze())"
   ]
  },
  {
   "attachments": {},
   "cell_type": "markdown",
   "metadata": {},
   "source": [
    "# Automated influence function"
   ]
  },
  {
   "cell_type": "code",
   "execution_count": 4,
   "metadata": {},
   "outputs": [],
   "source": [
    "def flatten_dict(d: Dict[str, torch.tensor]) -> torch.tensor:\n",
    "    \"\"\"\n",
    "    Flatten a dictionary of tensors into a single vector.\n",
    "    \"\"\"\n",
    "    return torch.cat([v.flatten() for k, v in d.items()])\n",
    "\n",
    "\n",
    "def unflatten_dict(x: torch.tensor, d: Dict[str, torch.tensor]) -> Dict[str, torch.tensor]:\n",
    "    \"\"\"\n",
    "    Unflatten a vector into a dictionary of tensors.\n",
    "    \"\"\"\n",
    "    return collections.OrderedDict(zip(\n",
    "        d.keys(), [v_flat.reshape(v.shape) for v, v_flat in zip(d.values(), torch.split(x, [v.numel() for k, v in d.items()]))]\n",
    "    ))\n",
    "\n",
    "\n",
    "# TODO: change so that only need model\n",
    "def monte_carlo_fisher_info_of_model(\n",
    "    unconditioned_model: Callable[[], torch.tensor],  # simulates data\n",
    "    conditioned_model: Callable[[], torch.tensor],  # computes log likelihood\n",
    "    theta_hat: Dict[str, torch.tensor],\n",
    "    obs_names: List[str],\n",
    "    N_monte_carlo: int = None,\n",
    ") -> torch.tensor:\n",
    "    \"\"\"\n",
    "    Compute the monte carlo estimate of the fisher information matrix.\n",
    "    \"\"\"\n",
    "    flat_theta = flatten_dict(theta_hat)\n",
    "    theta_dim = flat_theta.shape[0]\n",
    "    model_theta_hat_unconditioned = condition(data=theta_hat)(unconditioned_model)\n",
    "    if N_monte_carlo is None:\n",
    "        N_monte_carlo = 25 * theta_dim  # 25 samples per parameter\n",
    "    else:\n",
    "        assert (\n",
    "            N_monte_carlo >= theta_dim\n",
    "        ), \"N_monte_carlo must be at least as large as the number of parameters\"\n",
    "        if N_monte_carlo < 25 * theta_dim:\n",
    "            print(\n",
    "                \"Warning: N_monte_carlo is less than 25 times the number of parameters. This may lead to inaccurate estimates.\"\n",
    "            )\n",
    "\n",
    "    # Generate N_monte_carlo samples from the model\n",
    "    with pyro.poutine.trace() as model_tr:\n",
    "        model_theta_hat_unconditioned(N=N_monte_carlo)\n",
    "    D_model = {k: model_tr.trace.nodes[k][\"value\"] for k in obs_names}\n",
    "\n",
    "    # Compute fisher information matrix from these samples\n",
    "    def _log_prob_at_datapoints(flat_theta: torch.tensor):\n",
    "        # Need to duplicate conditioning on theta for pytorch to register gradients (TODO: any fix?)\n",
    "        theta = unflatten_dict(flat_theta, theta_hat)\n",
    "        model_theta_hat_conditioned = condition(data=theta)(conditioned_model)\n",
    "        log_like_trace = pyro.poutine.trace(model_theta_hat_conditioned).get_trace(\n",
    "            D_model\n",
    "        )\n",
    "        log_like_trace.compute_log_prob()\n",
    "        log_prob_at_datapoints = torch.zeros(N_monte_carlo)\n",
    "        for name in obs_names:\n",
    "            log_prob_at_datapoints += log_like_trace.nodes[name][\"log_prob\"]\n",
    "\n",
    "        return log_prob_at_datapoints\n",
    "\n",
    "    log_prob_grads = torch.autograd.functional.jacobian(\n",
    "        _log_prob_at_datapoints, flat_theta\n",
    "    )\n",
    "\n",
    "    assert log_prob_grads.shape[0] == N_monte_carlo\n",
    "    assert log_prob_grads.shape[1] == theta_dim\n",
    "    return 1 / N_monte_carlo * log_prob_grads.T.mm(log_prob_grads)\n",
    "\n",
    "\n",
    "def one_step_correction(\n",
    "    target_functional: Callable[[Callable], torch.tensor],\n",
    "    unconditioned_model: Callable[[], torch.tensor],  # simulates data\n",
    "    conditioned_model: Callable[[], torch.tensor],  # computes log likelihood\n",
    "    obs_names: List[str],\n",
    "    theta_hat: Dict[str, torch.tensor],\n",
    "    X_test: Dict[str, torch.tensor],\n",
    "    *,\n",
    "    all_scores: bool = False,\n",
    "    eps_fisher: float = 1e-8,\n",
    "    N_monte_carlo: int = None\n",
    ") -> torch.tensor:\n",
    "    \"\"\"\n",
    "    One step correction for a given target functional.\n",
    "    \"\"\"\n",
    "    theta_hat = collections.OrderedDict(\n",
    "        (k, theta_hat[k]) for k in sorted(theta_hat.keys())\n",
    "    )\n",
    "    flat_theta = flatten_dict(theta_hat)\n",
    "    model_theta_hat_unconditioned = condition(data=theta_hat)(unconditioned_model)\n",
    "    model_theta_hat_conditioned = condition(data=theta_hat)(conditioned_model)\n",
    "\n",
    "    plug_in = target_functional(model_theta_hat_unconditioned) + (\n",
    "        0 * flat_theta.sum()\n",
    "    )  # hack to make sure we get full gradient vector from autograd to maintain flattened gradient shapes\n",
    "\n",
    "    plug_in_grads = flatten_dict(\n",
    "        collections.OrderedDict(\n",
    "            zip(\n",
    "                theta_hat.keys(),\n",
    "                torch.autograd.grad(plug_in, theta_hat.values()),\n",
    "            )\n",
    "        )\n",
    "    )\n",
    "\n",
    "    if all_scores:\n",
    "        def _log_prob_at_datapoints(flat_theta: torch.tensor):\n",
    "            # Need to duplicate conditioning on theta for pytorch to register gradients (TODO: any fix?)\n",
    "            theta = unflatten_dict(flat_theta, theta_hat)\n",
    "            model_theta_hat_conditioned = condition(data=theta)(conditioned_model)\n",
    "            log_like_trace = pyro.poutine.trace(model_theta_hat_conditioned).get_trace(\n",
    "                X_test\n",
    "            )\n",
    "            log_like_trace.compute_log_prob()\n",
    "            log_prob_at_datapoints = torch.zeros(X_test[next(iter(X_test))].shape[0])\n",
    "            for name in obs_names:\n",
    "                log_prob_at_datapoints += log_like_trace.nodes[name][\"log_prob\"]\n",
    "\n",
    "            return log_prob_at_datapoints\n",
    "\n",
    "        scores = torch.autograd.functional.jacobian(\n",
    "            _log_prob_at_datapoints, flat_theta\n",
    "        )\n",
    "\n",
    "    else:\n",
    "        # compute the score function for new data\n",
    "        N_test = X_test[next(iter(X_test))].shape[0]\n",
    "        log_likelihood_test = pyro.poutine.trace(model_theta_hat_conditioned).get_trace(\n",
    "            X_test\n",
    "        )\n",
    "        log_likelihood_test.log_prob_sum()\n",
    "        log_prob_sum_test = torch.tensor(0.0)\n",
    "        for name in obs_names:\n",
    "            log_prob_sum_test += log_likelihood_test.nodes[name][\"log_prob_sum\"] / N_test\n",
    "        \n",
    "        scores = flatten_dict(\n",
    "            collections.OrderedDict(\n",
    "                zip(\n",
    "                    theta_hat.keys(),\n",
    "                    torch.autograd.grad(log_prob_sum_test, theta_hat.values()),\n",
    "                )\n",
    "            )\n",
    "        )\n",
    "\n",
    "    # compute inverse fisher information matrix\n",
    "    fisher_info_approx = monte_carlo_fisher_info_of_model(\n",
    "        unconditioned_model, conditioned_model, theta_hat, obs_names, N_monte_carlo\n",
    "    )\n",
    "    inverse_fisher_info = torch.inverse(\n",
    "        fisher_info_approx + eps_fisher * torch.eye(fisher_info_approx.shape[0])\n",
    "    )\n",
    "\n",
    "    # compute the correction\n",
    "    if all_scores:\n",
    "        return torch.einsum(\"i,ij,jk->k\", plug_in_grads, inverse_fisher_info, scores.T)\n",
    "    return torch.einsum(\"i,ij,j->\", plug_in_grads, inverse_fisher_info, scores)\n"
   ]
  },
  {
   "attachments": {},
   "cell_type": "markdown",
   "metadata": {},
   "source": [
    "# Closed-form influence function"
   ]
  },
  {
   "cell_type": "code",
   "execution_count": 5,
   "metadata": {},
   "outputs": [],
   "source": [
    "# Traditional ATE correction based on analytic derivation (see, for example, Kennedy (2023))\n",
    "def closed_form_ate_correction(X_test, theta):\n",
    "    X = X_test[\"X\"]\n",
    "    A = X_test[\"A\"]\n",
    "    Y = X_test[\"Y\"]\n",
    "    pi_X = torch.sigmoid(X.mv(theta[\"propensity_weights\"]))\n",
    "    mu_X = X.mv(theta[\"outcome_weights\"]) + A * theta[\"treatment_weight\"] + theta[\"intercept\"]\n",
    "    analytic_eif_at_test_pts = (A / pi_X - (1 - A) / (1 - pi_X)) * (Y - mu_X)\n",
    "    analytic_correction = analytic_eif_at_test_pts.mean()\n",
    "    return analytic_correction, analytic_eif_at_test_pts"
   ]
  },
  {
   "cell_type": "code",
   "execution_count": 116,
   "metadata": {},
   "outputs": [
    {
     "name": "stdout",
     "output_type": "stream",
     "text": [
      "dict_keys(['intercept', 'outcome_weights', 'propensity_weights', 'treatment_weight']) tensor(0.2960, requires_grad=True)\n",
      "N_monte_carlo = 40\n",
      "Warning: N_monte_carlo is less than 25 times the number of parameters. This may lead to inaccurate estimates.\n",
      "N_monte_carlo = 400\n",
      "N_monte_carlo = 4000\n",
      "N_monte_carlo = 40000\n",
      "N_monte_carlo = 100000\n"
     ]
    }
   ],
   "source": [
    "p = 1\n",
    "alpha = 1\n",
    "beta = 1\n",
    "N_train = 10\n",
    "N_test = 500\n",
    "link = gaussian_link\n",
    "\n",
    "pyro.clear_param_store()\n",
    "\n",
    "# Generate data\n",
    "benchmark_model = BenchmarkLinearModel(p, link, alpha, beta)\n",
    "\n",
    "with pyro.poutine.trace() as train_tr:\n",
    "    benchmark_model(N=N_train)\n",
    "\n",
    "with pyro.poutine.trace() as test_tr:\n",
    "    benchmark_model(N=N_test)\n",
    "\n",
    "D_train = {k: train_tr.trace.nodes[k][\"value\"] for k in [\"X\", \"A\", \"Y\"]}\n",
    "D_test = {k: test_tr.trace.nodes[k][\"value\"] for k in [\"X\", \"A\", \"Y\"]}\n",
    "\n",
    "conditioned_model = ConditionedModel(p, link)\n",
    "guide_train = pyro.infer.autoguide.AutoDelta(conditioned_model)\n",
    "elbo = pyro.infer.Trace_ELBO()(conditioned_model, guide_train)\n",
    "\n",
    "# initialize parameters\n",
    "elbo(D_train)\n",
    "\n",
    "adam = torch.optim.Adam(elbo.parameters(), lr=0.03)\n",
    "\n",
    "# Do gradient steps\n",
    "for step in range(2000):\n",
    "    adam.zero_grad()\n",
    "    loss = elbo(D_train)\n",
    "    loss.backward()\n",
    "    adam.step()\n",
    "    # if step % 250 == 0:\n",
    "    #     print(\"[iteration %04d] loss: %.4f\" % (step, loss))\n",
    "theta_hat = {k: v.clone().detach().requires_grad_(True) for k, v in guide_train().items()}\n",
    "print(theta_hat.keys(), theta_hat[\"treatment_weight\"])\n",
    "\n",
    "unconditioned_model = KnownCovariateDistModel(p, link)\n",
    "model_cond_theta = condition(data=theta_hat)(unconditioned_model)\n",
    "\n",
    "analytic_correction, analytic_eif_at_test_pts = closed_form_ate_correction(D_test, theta_hat)\n",
    "\n",
    "ATE_plugin = ATE(model_cond_theta, num_samples=10000)\n",
    "# print(\"ATE plugin\", ATE_plugin)\n",
    "\n",
    "dim_latents = flatten_dict(theta_hat).shape[0]\n",
    "N_monte_carlo_grid = [10 * dim_latents, 100 * dim_latents, 1000 * dim_latents, 10000 * dim_latents, 25000 * dim_latents]\n",
    "relative_errors = []\n",
    "absolute_errors = []\n",
    "monte_correction = []\n",
    "actual_correction = []\n",
    "signed_relative_errors = []\n",
    "\n",
    "for N_monte_carlo in N_monte_carlo_grid:\n",
    "    print(f\"N_monte_carlo = {N_monte_carlo}\")\n",
    "    ATE_correction = one_step_correction(\n",
    "        lambda m: ATE(m, num_samples=1000),\n",
    "        unconditioned_model,\n",
    "        conditioned_model,\n",
    "        [\"X\", \"A\", \"Y\"],\n",
    "        theta_hat,\n",
    "        D_test,\n",
    "        eps_fisher=0.0,\n",
    "        N_monte_carlo=N_monte_carlo,\n",
    "        all_scores=True,\n",
    "    )\n",
    "    relative_errors.append(((ATE_correction - analytic_eif_at_test_pts) / analytic_eif_at_test_pts).abs())\n",
    "    signed_relative_errors.append(((ATE_correction - analytic_eif_at_test_pts) / analytic_eif_at_test_pts))\n",
    "    absolute_errors.append((ATE_correction - analytic_eif_at_test_pts).abs())\n",
    "    monte_correction.append(ATE_correction)\n",
    "    actual_correction.append(analytic_eif_at_test_pts)"
   ]
  },
  {
   "cell_type": "code",
   "execution_count": 118,
   "metadata": {},
   "outputs": [
    {
     "data": {
      "text/plain": [
       "Text(0.5, 0, '# Monte Carlo samples')"
      ]
     },
     "execution_count": 118,
     "metadata": {},
     "output_type": "execute_result"
    },
    {
     "data": {
      "image/png": "[encoded data removed]",
      "text/plain": [
       "<Figure size 640x480 with 1 Axes>"
      ]
     },
     "metadata": {},
     "output_type": "display_data"
    }
   ],
   "source": [
    "avg_relative_errors = [relative_errors[i].mean().item() for i in range(len(N_monte_carlo_grid))]\n",
    "plt.plot(N_monte_carlo_grid, avg_relative_errors)\n",
    "plt.xscale(\"log\")\n",
    "plt.yscale(\"log\")\n",
    "plt.ylabel(\"Average relative error\")\n",
    "plt.xlabel(\"# Monte Carlo samples\")"
   ]
  },
  {
   "cell_type": "code",
   "execution_count": null,
   "metadata": {},
   "outputs": [],
   "source": []
  },
  {
   "cell_type": "code",
   "execution_count": null,
   "metadata": {},
   "outputs": [],
   "source": []
  },
  {
   "cell_type": "code",
   "execution_count": null,
   "metadata": {},
   "outputs": [],
   "source": []
  },
  {
   "cell_type": "code",
   "execution_count": null,
   "metadata": {},
   "outputs": [],
   "source": []
  },
  {
   "cell_type": "code",
   "execution_count": 111,
   "metadata": {},
   "outputs": [
    {
     "data": {
      "text/plain": [
       "tensor(0.2390, grad_fn=<MeanBackward0>)"
      ]
     },
     "execution_count": 111,
     "metadata": {},
     "output_type": "execute_result"
    }
   ],
   "source": [
    "((actual_correction[-1] - monte_correction[-1]) / actual_correction[-1]).abs().mean()"
   ]
  },
  {
   "cell_type": "code",
   "execution_count": 113,
   "metadata": {},
   "outputs": [
    {
     "data": {
      "text/plain": [
       "[1.6604838371276855, 0.6229236721992493, 0.23899392783641815]"
      ]
     },
     "execution_count": 113,
     "metadata": {},
     "output_type": "execute_result"
    }
   ],
   "source": [
    "avg_relative_errors"
   ]
  },
  {
   "cell_type": "code",
   "execution_count": 114,
   "metadata": {},
   "outputs": [
    {
     "data": {
      "text/plain": [
       "tensor(0.2390, grad_fn=<MeanBackward0>)"
      ]
     },
     "execution_count": 114,
     "metadata": {},
     "output_type": "execute_result"
    }
   ],
   "source": [
    "relative_errors[-1].mean()"
   ]
  },
  {
   "cell_type": "code",
   "execution_count": 115,
   "metadata": {},
   "outputs": [
    {
     "data": {
      "text/plain": [
       "(array([  1.,   0.,   1.,   0.,   0.,   0.,   1.,   2., 260., 235.]),\n",
       " array([-12.01593304, -10.67163467,  -9.32733727,  -7.9830389 ,\n",
       "         -6.63874054,  -5.29444265,  -3.95014453,  -2.60584641,\n",
       "         -1.2615484 ,   0.08274965,   1.42704773]),\n",
       " <BarContainer object of 10 artists>)"
      ]
     },
     "execution_count": 115,
     "metadata": {},
     "output_type": "execute_result"
    },
    {
     "data": {
      "image/png": "[encoded data removed]",
      "text/plain": [
       "<Figure size 640x480 with 1 Axes>"
      ]
     },
     "metadata": {},
     "output_type": "display_data"
    }
   ],
   "source": [
    "plt.hist(signed_relative_errors[-1].detach().numpy())"
   ]
  },
  {
   "cell_type": "code",
   "execution_count": 99,
   "metadata": {},
   "outputs": [
    {
     "data": {
      "text/plain": [
       "Text(0.5, 0, 'Monte Carlo EIF correction')"
      ]
     },
     "execution_count": 99,
     "metadata": {},
     "output_type": "execute_result"
    },
    {
     "data": {
      "image/png": "[encoded data removed]",
      "text/plain": [
       "<Figure size 640x480 with 1 Axes>"
      ]
     },
     "metadata": {},
     "output_type": "display_data"
    }
   ],
   "source": [
    "plt.scatter(monte_correction[-1].detach().numpy(), actual_correction[-1].detach().numpy())\n",
    "plt.plot(np.linspace(-25, 25), np.linspace(-25, 25), c=\"g\")\n",
    "plt.ylabel(\"Analytic EIF correction\")\n",
    "plt.xlabel(\"Monte Carlo EIF correction\")"
   ]
  },
  {
   "cell_type": "code",
   "execution_count": 100,
   "metadata": {},
   "outputs": [
    {
     "data": {
      "text/plain": [
       "Text(0.5, 0, 'Monte Carlo EIF correction')"
      ]
     },
     "execution_count": 100,
     "metadata": {},
     "output_type": "execute_result"
    },
    {
     "data": {
      "image/png": "[encoded data removed]",
      "text/plain": [
       "<Figure size 640x480 with 1 Axes>"
      ]
     },
     "metadata": {},
     "output_type": "display_data"
    }
   ],
   "source": [
    "import numpy as np\n",
    "plt.scatter(monte_correction[-1].detach().numpy(), actual_correction[-1].detach().numpy())\n",
    "plt.plot(np.linspace(-2.5, 2.5), np.linspace(-2.5, 2.5), c=\"g\")\n",
    "plt.xlim(-2.5, 2.5)\n",
    "plt.ylim(-2.5, 2.5)\n",
    "plt.ylabel(\"Analytic EIF correction\")\n",
    "plt.xlabel(\"Monte Carlo EIF correction\")"
   ]
  },
  {
   "cell_type": "code",
   "execution_count": 92,
   "metadata": {},
   "outputs": [
    {
     "data": {
      "text/plain": [
       "tensor([-6.1970e-01,  2.1919e+00,  2.0182e+00,  3.5666e-01,  2.1330e+00,\n",
       "        -1.6840e+00,  4.1893e+00, -5.3721e+00,  2.4404e+00,  2.4825e+00,\n",
       "        -1.7566e+00,  3.1887e+00, -1.6653e+00,  2.4356e+00,  3.2646e+00,\n",
       "         4.4570e+00,  2.2882e+00, -4.6358e+00,  3.0366e+00,  3.5780e+00,\n",
       "        -5.0978e+00,  1.3714e+00,  1.6288e+00,  2.1080e-01, -4.8999e+00,\n",
       "        -6.7896e-02,  6.3227e-01, -1.0541e-01,  3.9028e+00, -4.1070e+00,\n",
       "         3.7177e+00,  1.0325e+01,  1.3316e-01, -4.5900e+00, -2.0897e+00,\n",
       "         1.9309e+00, -4.7524e+00, -4.5755e+00, -4.4305e+00,  2.9849e+00,\n",
       "         1.9417e+00, -5.1241e-01,  2.3280e+00,  9.4685e-01,  4.5406e-01,\n",
       "        -4.2394e-01, -1.5405e-01, -2.6523e+00,  2.7484e+00,  6.2555e+00,\n",
       "        -8.9985e-01, -6.1338e+00,  2.2679e+00, -1.3200e+00,  1.3948e+00,\n",
       "        -2.6254e+00, -3.5453e+00, -2.5635e+00,  3.9207e+00,  6.8637e+00,\n",
       "        -4.9014e+00, -5.1206e+00,  3.6133e+00,  3.9147e-03, -2.9498e-01,\n",
       "         3.0627e-01, -1.2690e+00, -2.5648e+00, -9.6657e-01,  1.8703e+00,\n",
       "         2.8459e+00,  5.0679e-02, -9.4861e-01,  2.2674e+00, -5.0054e+00,\n",
       "         4.6601e+00, -3.4596e+00,  7.1956e+00, -2.4303e+00,  1.9431e+00,\n",
       "         2.3351e+00, -4.3647e+00, -4.4743e-01,  5.4736e-01, -1.8298e+00,\n",
       "         2.7841e-01,  4.7148e+00,  6.1555e+00, -4.4238e+00, -1.0667e+00,\n",
       "        -2.8425e+00, -4.6584e+00, -7.3604e-02, -4.0876e+00,  8.0135e-01,\n",
       "         3.5831e+00,  1.0628e+00, -1.9463e+00,  4.5457e+00, -2.2300e+00,\n",
       "        -3.6566e+00,  2.0759e+00, -4.4497e+00,  3.3403e+00, -7.5861e+00,\n",
       "         3.6865e+00, -1.5605e+00, -1.5362e-01, -3.4425e+00,  4.1083e-01,\n",
       "         6.3959e+00,  5.1328e+00,  2.7761e+00, -4.6643e+00, -1.3326e+00,\n",
       "         1.6041e+00, -1.1374e+00,  1.3404e+00,  3.2394e+00, -6.0238e-01,\n",
       "         2.3487e+00,  1.3448e+00,  1.7555e+00,  2.2432e+00, -3.2770e+00,\n",
       "        -1.7152e+00,  1.2047e+00, -2.3370e+00,  1.1047e+00, -3.0971e+00,\n",
       "        -3.8311e+00,  5.0418e+00, -5.7196e+00,  1.0978e+00, -5.0030e+00,\n",
       "         1.0403e+00, -1.7370e+00, -7.9653e-01, -2.9686e+00, -2.2884e+00,\n",
       "         3.2150e+00,  4.0406e+00, -7.7077e-01, -5.9300e+00, -4.2282e+00,\n",
       "        -8.3118e+00, -3.5400e+00,  3.2178e+00, -5.4485e+00,  6.1545e-03,\n",
       "         3.4994e+00, -5.7545e-01, -4.0323e+00, -5.0663e+00, -1.4662e+00,\n",
       "        -1.9338e+00,  4.9100e+00, -2.2165e+00, -2.8407e+00,  3.0251e-01,\n",
       "        -6.2977e+00, -1.4614e+00, -4.2755e+00,  1.7599e+00,  2.6382e+00,\n",
       "        -4.4048e+00,  4.8991e-01,  1.9628e+00,  4.8554e+00,  1.0822e+00,\n",
       "         6.8522e-01,  5.6318e+00,  2.1414e+00, -9.2042e+00,  1.7008e-01,\n",
       "         9.1977e-01,  3.3001e+00,  1.7313e+00,  2.7143e+00,  2.0768e-01,\n",
       "        -9.4395e-01, -1.6608e+00,  1.0336e-01, -1.5912e+00,  1.7470e+00,\n",
       "        -4.8768e+00, -4.7140e-01, -1.5162e+00, -3.1386e+00,  2.5437e+00,\n",
       "         3.0371e+00,  2.9042e+00,  1.8859e+00, -5.3426e+00,  1.6518e+00,\n",
       "         4.2075e+00,  3.1238e+00, -1.7507e+00,  2.3859e+00, -4.7503e+00,\n",
       "         4.9148e-01, -3.4784e-01, -2.5043e+00,  9.4797e-01, -3.1133e+00,\n",
       "         1.0489e+00,  5.9435e+00, -4.1384e+00, -2.6827e+00, -1.3560e+01,\n",
       "         2.3888e+00, -2.7985e-01,  2.2107e+00, -6.6030e+00, -2.8286e+00,\n",
       "        -2.5423e+00, -4.7078e+00, -6.2884e+00, -3.1283e+00, -3.5604e+00,\n",
       "        -4.3689e+00, -1.0986e+00, -3.7117e+00, -2.7043e+00, -2.1158e+00,\n",
       "         3.9943e+00,  3.4992e+00,  3.5736e+00,  1.5196e+00,  5.1384e+00,\n",
       "        -3.8999e+00,  1.5476e+00, -3.5494e+00,  3.1426e+00, -8.4042e-01,\n",
       "        -2.0688e+00,  1.4840e+00, -1.5206e+00,  6.4917e+00, -4.5681e+00,\n",
       "        -2.2852e+00, -2.4849e+00, -2.7389e+00,  1.1240e-02, -7.7866e+00,\n",
       "         3.7973e+00,  1.3848e+00, -6.2446e-01,  5.6360e+00, -8.3184e-02,\n",
       "         4.1469e+00,  1.5898e+00,  4.7652e+00,  1.2465e-01,  4.5836e+00,\n",
       "         2.6719e-01,  4.6643e+00,  2.9624e+00, -7.6402e+00, -2.7697e+00,\n",
       "         3.3519e+00,  2.2917e+00,  3.5187e+00,  1.3799e+00,  2.1050e+00,\n",
       "         3.6114e-01, -4.1217e-01, -1.2830e+00, -3.1575e+00,  3.7215e+00,\n",
       "         2.7059e+00, -1.5269e+00, -2.1639e+00,  4.3835e+00,  2.0636e+00,\n",
       "        -8.3497e+00, -2.8232e+00, -2.2844e-01, -2.8935e+00, -1.7032e+00,\n",
       "         6.8665e+00,  1.3407e+00, -3.5407e+00, -7.9185e+00,  4.4420e-01,\n",
       "         4.0209e+00, -1.7463e+00, -3.6321e+00,  1.4511e+00, -4.7251e+00,\n",
       "         3.1727e+00, -2.6614e+00, -3.1083e+00, -7.3506e+00,  5.9113e+00,\n",
       "        -8.2252e-01, -2.2534e+00, -5.3649e+00, -3.8050e+00,  7.3129e-01,\n",
       "        -3.3092e+00, -6.7889e+00,  3.2055e+00, -1.8256e+00,  2.0788e+00,\n",
       "         5.4803e+00,  1.5781e+00,  1.1881e+00,  2.3838e+00,  2.8535e+00,\n",
       "         2.9025e-01, -2.2512e+00, -5.5355e+00, -1.9792e+00,  3.6824e+00,\n",
       "         3.4993e+00,  1.3563e+00, -5.4390e+00, -5.4654e+00, -6.2407e+00,\n",
       "        -7.4317e+00, -3.2748e+00, -1.3187e+00, -1.5967e+00,  1.3507e+00,\n",
       "        -1.3773e+00, -1.0457e+00, -2.9264e-01,  1.8287e+00,  2.3844e+00,\n",
       "         3.5886e+00, -8.1262e-02,  2.7925e+00,  1.5264e+00, -2.3267e+00,\n",
       "        -2.3515e+00,  1.7088e+00, -4.0644e+00, -8.4178e-01, -2.1945e+00,\n",
       "        -1.9506e+00,  7.4835e+00, -2.6004e+00, -4.6397e+00, -4.6899e+00,\n",
       "        -7.7993e-01,  1.4143e+00,  8.3589e-01,  2.5114e+00, -3.3234e+00,\n",
       "        -2.9152e+00,  6.7955e-01, -2.8704e+00, -7.4010e+00, -5.0660e-01,\n",
       "         2.1525e+00,  2.9289e+00, -4.0159e+00,  6.0564e+00, -1.0370e+00,\n",
       "         1.2184e+00,  2.2972e+00,  3.2121e+00,  3.1527e+00, -3.6326e+00,\n",
       "        -3.5201e+00, -3.4595e+00,  3.5205e+00,  6.6903e+00, -8.9825e-02,\n",
       "         3.8596e+00,  4.7566e+00, -1.9463e+00, -1.1479e+00, -9.5990e+00,\n",
       "        -3.4773e+00, -1.4433e+00,  1.7280e+00,  3.0363e+00, -6.1048e+00,\n",
       "        -1.0054e-01,  8.5555e-01, -7.1831e+00, -2.9943e+00,  2.7550e+00,\n",
       "        -2.4648e+00,  2.1991e+00,  5.5249e+00,  1.8604e+00, -2.0356e+00,\n",
       "         1.1694e+00, -6.4365e-01,  1.2354e+00,  4.2479e+00, -5.9595e+00,\n",
       "         3.7007e-02, -9.7212e-01, -3.8307e+00, -5.2856e-01, -1.2552e+00,\n",
       "         4.0603e-01, -2.0163e+00,  2.0349e+00, -5.4740e+00, -6.0577e+00,\n",
       "         4.8950e+00,  6.1653e+00,  8.5494e-01,  4.8150e+00, -4.7802e+00,\n",
       "         1.9328e+00,  9.6139e-01,  4.1116e+00,  4.6428e-01, -3.6639e+00,\n",
       "        -2.2582e-01, -1.5399e+00, -5.6506e+00, -6.0044e-01, -5.7027e-01,\n",
       "         2.1898e+00, -3.3317e+00,  2.4513e+00,  1.9689e+00,  4.5510e+00,\n",
       "        -6.2858e-01, -4.5147e+00, -2.8421e+00, -2.4648e+00,  1.0266e+00,\n",
       "        -2.5443e+00,  9.7325e-01,  4.0083e+00,  2.5079e+00,  4.5286e+00,\n",
       "         2.0088e+00, -3.3285e+00, -1.6769e+00, -6.5619e+00, -4.5413e-01,\n",
       "        -1.8757e+00, -5.1954e+00,  2.0394e-01,  1.0465e+00,  9.4393e-01,\n",
       "         1.0352e+00,  4.4364e+00,  2.7258e+00, -1.1460e+00, -2.6233e+00,\n",
       "         2.1105e+00,  3.3688e+00, -3.9213e+00,  2.9402e+00, -6.5876e+00,\n",
       "        -5.5080e-01, -2.2491e+00, -8.5327e-01,  1.8045e+00, -3.9854e+00,\n",
       "         1.5647e+00,  5.7842e-01, -6.0122e-01,  1.6952e+00, -4.4131e+00,\n",
       "        -3.0042e-01,  5.6308e+00, -1.6538e+00,  7.7565e+00,  3.7917e+00,\n",
       "        -1.9000e+00,  2.1912e+00, -2.1951e+00,  2.2880e+00,  4.5461e+00,\n",
       "         1.0092e+00, -7.9122e+00, -4.2576e-01, -4.2510e+00, -2.6780e-01,\n",
       "        -4.8220e+00,  1.1622e+00,  1.4798e+00, -3.4015e+00, -1.0217e+01,\n",
       "        -5.2251e+00,  1.1873e+00,  2.7351e+00, -2.0426e+00,  4.7652e+00,\n",
       "         4.7107e+00,  5.9424e+00,  1.3611e+00,  1.8001e+00, -3.6209e+00,\n",
       "         2.4502e+00,  4.7281e+00,  3.1706e+00,  1.4264e+00, -3.2461e+00],\n",
       "       grad_fn=<MulBackward0>)"
      ]
     },
     "execution_count": 92,
     "metadata": {},
     "output_type": "execute_result"
    }
   ],
   "source": [
    "analytic_eif_at_test_pts"
   ]
  },
  {
   "cell_type": "code",
   "execution_count": 28,
   "metadata": {},
   "outputs": [
    {
     "data": {
      "text/plain": [
       "tensor([3.9556e+00, 2.0237e+00, 2.3506e-01, 3.2986e+00, 1.5224e+00, 4.5712e-01,\n",
       "        2.3770e-01, 2.1696e+00, 2.7424e+00, 5.6880e+00, 3.7345e+00, 8.3168e+00,\n",
       "        5.0564e+00, 4.4976e+00, 8.0852e-01, 4.5640e+00, 1.6331e+00, 7.9876e+00,\n",
       "        1.6260e+00, 2.5923e+00, 6.4860e-01, 6.4732e+00, 4.8193e+00, 1.2846e+00,\n",
       "        1.3530e-01, 1.0990e-01, 2.9183e+00, 7.6483e-01, 2.2046e+00, 1.4221e+00,\n",
       "        6.2292e-02, 4.0267e+00, 4.8607e-01, 3.6437e+00, 2.6771e+00, 1.3128e+00,\n",
       "        1.9718e+00, 1.9679e+00, 5.7444e+00, 6.8076e+00, 2.8257e+00, 6.4087e+00,\n",
       "        2.4232e+00, 2.6341e-02, 3.7946e+00, 5.1388e+01, 3.8842e+00, 2.1072e+00,\n",
       "        9.9912e-01, 1.7566e+00, 3.0235e+00, 3.1146e-01, 8.6886e-01, 1.2175e-01,\n",
       "        5.7683e+00, 1.3650e+00, 2.5836e+00, 1.2715e+00, 4.5797e+00, 7.5808e+00,\n",
       "        5.5826e+00, 4.1740e+00, 2.4771e+00, 1.1978e+00, 7.9958e-01, 2.1766e+00,\n",
       "        2.7995e-01, 7.2661e+00, 4.3056e-01, 1.7785e+00, 4.0348e-01, 2.6773e+00,\n",
       "        6.4539e+00, 8.8618e+00, 2.1140e+01, 1.6273e+00, 2.5296e+00, 2.0110e+00,\n",
       "        5.4755e-01, 2.4361e+00, 5.4010e-01, 1.6572e-01, 1.1082e+01, 1.7505e+00,\n",
       "        1.7161e+00, 5.6402e+00, 7.0433e-02, 2.9889e+00, 1.6633e-01, 2.1167e+00,\n",
       "        1.6789e+00, 2.5594e+00, 4.0235e+00, 8.4889e+00, 4.0942e+00, 1.9582e+00,\n",
       "        8.2658e+00, 4.9403e+00, 4.2331e+00, 6.0766e+00, 3.0618e+00, 6.4735e+00,\n",
       "        2.9938e+00, 1.4601e+00, 7.9168e-01, 1.8707e+00, 1.9907e+00, 5.0268e-01,\n",
       "        1.4167e+01, 4.6250e-01, 2.6235e+00, 1.5797e+00, 4.4625e+00, 1.4439e+00,\n",
       "        2.3400e+00, 5.3758e+00, 3.3542e+01, 1.0246e+01, 7.5262e-01, 3.5065e+00,\n",
       "        1.1078e+00, 5.3371e+00, 6.2609e+01, 1.3764e+00, 4.7719e+00, 3.3890e+00,\n",
       "        9.9786e-02, 1.1583e+00, 2.5442e+00, 6.7795e+00, 2.5890e+00, 1.0600e-01,\n",
       "        9.2328e-02, 1.4248e+00, 3.1470e+00, 6.4237e-01, 4.5744e-01, 7.2872e-01,\n",
       "        6.3884e+00, 5.9821e+00, 1.0008e+00, 2.8426e+01, 1.7740e+00, 2.6089e+00,\n",
       "        5.3133e+00, 5.8628e-01, 2.2101e-03, 9.9908e-01, 6.8288e-01, 6.7647e+00,\n",
       "        2.9582e+00, 3.1293e-01, 8.2095e-01, 3.3365e-01, 1.6437e+00, 7.1377e-01,\n",
       "        3.3860e-01, 1.2521e+00, 5.1569e+00, 4.4286e+00, 5.1260e-01, 9.6909e+00,\n",
       "        6.3888e+00, 5.9565e-01, 1.5799e+00, 1.3383e-01, 2.3937e+01, 3.5329e+00,\n",
       "        2.5834e+00, 1.6723e+01, 1.2176e+00, 3.7329e+00, 5.2420e-02, 3.1010e-02,\n",
       "        3.2452e+00, 1.9572e+00, 2.1527e+00, 6.1724e+00, 5.6032e+00, 4.9699e-01,\n",
       "        1.7989e+00, 8.7870e+00, 1.6669e+00, 3.3125e+00, 3.5525e-01, 9.1523e-01,\n",
       "        5.4525e+00, 9.7102e+00, 4.7075e-01, 3.2517e-01, 2.6389e+00, 1.0051e-01,\n",
       "        3.0206e+00, 1.0229e+01, 2.8073e-01, 7.3537e-01, 6.5150e-01, 5.9364e-01,\n",
       "        1.1316e-01, 6.5935e-02, 2.9056e+00, 9.6418e-01, 4.0317e+00, 3.0510e+00,\n",
       "        7.8163e+00, 2.0425e+00, 1.0641e+01, 2.2239e+01, 3.4294e+00, 2.3772e-01,\n",
       "        7.5331e-01, 1.3458e+00, 7.9898e-01, 4.4742e+00, 7.4141e+00, 1.9333e+01,\n",
       "        4.6772e-02, 1.4415e+00, 2.9945e-01, 6.7983e+00, 2.8964e+00, 1.1645e+00,\n",
       "        1.3283e+00, 1.9733e-01, 6.6244e+00, 5.9399e-01, 4.8843e+00, 2.8972e+00,\n",
       "        9.5279e-01, 5.5667e-02, 1.9295e+00, 5.1066e-01, 9.9169e-02, 6.3261e-01,\n",
       "        2.8687e+00, 4.1461e+00, 7.7699e+00, 1.4588e+00, 3.0479e-01, 2.5118e+00,\n",
       "        1.8142e-01, 1.8754e+00, 4.0471e+00, 3.4495e-01, 2.3526e-01, 2.0402e-01,\n",
       "        8.8245e+00, 3.1333e+00, 7.7830e-02, 2.8609e+00, 7.1878e+00, 9.1695e+00,\n",
       "        9.6936e+01, 1.0593e+00, 3.8004e+00, 5.4707e-01, 5.1246e+00, 2.4756e+00,\n",
       "        6.0457e-01, 4.5164e+00, 2.8665e+00, 1.1658e+01, 1.6718e-01, 7.3668e+00,\n",
       "        1.6306e+00, 2.4954e+00, 3.9541e+00, 5.1872e+00, 1.1765e-01, 2.4413e+00,\n",
       "        1.5695e-02, 8.8010e+00, 5.6672e+00, 2.0309e+00, 3.4143e+00, 9.4837e-01,\n",
       "        2.1789e-03, 5.6670e+00, 1.6127e+00, 2.4306e+00, 6.3707e+00, 1.6243e+00,\n",
       "        4.4145e+00, 2.2821e+00, 1.8856e+00, 2.2720e-01, 7.7566e+00, 1.3606e+00,\n",
       "        4.4142e+00, 7.1803e-01, 3.5940e+00, 1.1039e+00, 1.2320e+00, 5.8582e-01,\n",
       "        7.9282e+00, 1.8269e+00, 1.1152e+00, 2.4801e+01, 4.1111e-01, 9.3987e-01,\n",
       "        1.3657e+00, 5.9781e+00, 1.8486e+00, 9.0410e-01, 2.8351e+00, 2.3327e+01,\n",
       "        2.7056e+00, 5.6814e-01, 8.1446e-01, 6.0309e-01, 2.6361e+00, 3.7877e+00,\n",
       "        1.4297e+00, 7.5923e+00, 8.8638e-01, 2.5672e-01, 8.3362e-01, 1.3131e+00,\n",
       "        5.2040e+00, 1.1114e+00, 3.9901e+00, 1.9239e+00, 3.8587e-01, 2.1321e+00,\n",
       "        1.3246e+00, 8.8914e-01, 9.6239e-01, 1.1834e+01, 1.1322e+01, 4.7105e+00,\n",
       "        6.3020e+00, 5.8472e-01, 9.2156e+00, 2.8193e+00, 3.3432e+00, 4.6840e+00,\n",
       "        5.0454e+00, 2.6267e+00, 1.6763e+01, 1.9315e+00, 1.8814e+00, 6.8162e+00,\n",
       "        4.5564e+00, 1.5889e+00, 1.0089e+00, 4.4885e+00, 5.9530e+00, 5.5100e+00,\n",
       "        7.2367e+00, 8.3535e-01, 2.4192e+00, 4.6817e-02, 1.0548e-01, 1.2424e+00,\n",
       "        6.1924e+00, 6.7374e+00, 1.0963e+00, 8.3520e-01, 9.0650e+00, 5.1652e+00,\n",
       "        1.4207e+00, 1.0651e+00, 2.0203e+00, 2.5047e+01, 2.0885e+00, 1.1647e+00,\n",
       "        4.0527e+00, 1.0664e+00, 1.4312e-01, 1.0773e-01, 7.3818e-01, 1.8212e+01,\n",
       "        1.5226e+00, 7.2624e+00, 3.0374e+00, 4.3205e-01, 3.3061e+00, 1.3924e+00,\n",
       "        2.5866e+01, 4.4944e-01, 2.6224e+00, 1.5436e-02, 2.8104e+00, 8.7381e-02,\n",
       "        1.3428e+00, 8.6157e-01, 6.5818e+01, 1.5431e+00, 1.9316e-01, 1.0411e+01,\n",
       "        3.0996e-01, 6.5622e+00, 1.5536e-01, 3.8919e+01, 4.3461e+00, 2.5009e+00,\n",
       "        7.4673e+00, 5.2719e-01, 1.1960e-01, 1.7199e-01, 3.0692e+00, 1.1731e+00,\n",
       "        6.7749e+00, 1.3514e+00, 1.6453e+00, 3.3041e+00, 1.4862e+00, 1.8061e-01,\n",
       "        2.7032e+00, 3.3541e+00, 2.5071e+00, 7.3716e+00, 4.9170e+00, 5.4690e-01,\n",
       "        3.4029e+00, 4.1818e+00, 7.5088e+00, 1.4299e+01, 3.0750e+00, 3.0863e-01,\n",
       "        2.0981e-01, 1.6781e+01, 3.5004e+00, 1.3488e-01, 2.6947e+00, 2.9092e-01,\n",
       "        2.7027e+00, 2.8564e+00, 8.7450e-01, 4.8630e+00, 6.9515e-01, 8.5867e-01,\n",
       "        9.4833e-01, 3.5547e-01, 1.7376e+00, 1.1422e+01, 4.3947e+00, 2.9799e-01,\n",
       "        8.2880e-01, 2.3153e+00, 5.5538e+00, 4.0574e+00, 4.5128e+00, 2.7017e+00,\n",
       "        1.5512e+01, 7.2243e-01, 1.3363e+00, 8.7578e-01, 3.1277e+01, 1.8255e+00,\n",
       "        3.1141e+00, 7.8008e+00, 5.9645e-01, 6.9717e+00, 3.1642e+00, 8.4958e+00,\n",
       "        5.9630e+00, 1.6974e-01, 2.3983e+00, 2.0866e+01, 1.2668e+00, 1.4800e+00,\n",
       "        3.0339e+00, 6.0581e+00, 6.4230e-02, 3.4589e-02, 1.8149e+00, 3.5186e+00,\n",
       "        5.4446e+00, 4.7030e+00, 3.0757e+00, 7.3199e+00, 2.0664e+01, 6.1871e+00,\n",
       "        3.6670e+00, 3.1865e-01, 4.9373e+00, 1.6642e+00, 8.2750e-01, 1.0236e-01,\n",
       "        1.2418e+00, 7.2139e-01, 1.8333e-01, 2.1173e+00, 6.8255e-01, 2.3094e+00,\n",
       "        1.7645e+00, 3.2715e+00, 2.0220e+00, 3.5130e-01, 3.4472e+00, 8.6058e-01,\n",
       "        6.2049e+00, 5.3788e+00, 1.4008e+00, 2.5691e+00, 5.4749e+00, 2.6133e+01,\n",
       "        4.6307e+00, 5.7970e-01], grad_fn=<AbsBackward0>)"
      ]
     },
     "execution_count": 28,
     "metadata": {},
     "output_type": "execute_result"
    }
   ],
   "source": [
    "relative_errors[-1]"
   ]
  },
  {
   "cell_type": "code",
   "execution_count": 23,
   "metadata": {},
   "outputs": [
    {
     "data": {
      "text/plain": [
       "[11.656283378601074,\n",
       " 4.712959289550781,\n",
       " 4.100194931030273,\n",
       " 4.355804920196533,\n",
       " 4.238893508911133,\n",
       " 4.214924335479736]"
      ]
     },
     "execution_count": 23,
     "metadata": {},
     "output_type": "execute_result"
    }
   ],
   "source": [
    "avg_relative_errors"
   ]
  },
  {
   "cell_type": "code",
   "execution_count": 15,
   "metadata": {},
   "outputs": [
    {
     "data": {
      "text/plain": [
       "tensor(0.0447)"
      ]
     },
     "execution_count": 15,
     "metadata": {},
     "output_type": "execute_result"
    }
   ],
   "source": [
    "1/torch.sqrt(torch.tensor(500))"
   ]
  },
  {
   "cell_type": "code",
   "execution_count": 20,
   "metadata": {},
   "outputs": [
    {
     "data": {
      "text/plain": [
       "tensor(0.0184, grad_fn=<MeanBackward0>)"
      ]
     },
     "execution_count": 20,
     "metadata": {},
     "output_type": "execute_result"
    }
   ],
   "source": [
    "((relative_errors[-2] - relative_errors[-1])).abs().mean()"
   ]
  },
  {
   "attachments": {},
   "cell_type": "markdown",
   "metadata": {},
   "source": [
    "# Empirical evaluation"
   ]
  },
  {
   "cell_type": "code",
   "execution_count": 6,
   "metadata": {},
   "outputs": [
    {
     "name": "stdout",
     "output_type": "stream",
     "text": [
      "Run 0/1\n"
     ]
    }
   ],
   "source": [
    "# Since we have access to the true data-generating distribution, we\n",
    "# can keep simulating new datasets and retraining the model to get the \n",
    "# sampling distribution of each estimator. In practice, one would need to \n",
    "# use bootstrapping to approximate the true sampling distribution.\n",
    "\n",
    "N_runs = 1\n",
    "plug_in_estimates = []\n",
    "one_step_correction_monte_carlo = []\n",
    "one_step_correction_analytic = []\n",
    "\n",
    "p = 2\n",
    "alpha = 2\n",
    "beta = 2\n",
    "N_train = 5\n",
    "N_test = 3\n",
    "\n",
    "link = bernoulli_link\n",
    "\n",
    "for i in range(N_runs):\n",
    "    pyro.clear_param_store()\n",
    "\n",
    "    # Generate data\n",
    "    benchmark_model = BenchmarkLinearModel(p, link, alpha, beta)\n",
    "\n",
    "    with pyro.poutine.trace() as train_tr:\n",
    "        benchmark_model(N=N_train)\n",
    "\n",
    "    with pyro.poutine.trace() as test_tr:\n",
    "        benchmark_model(N=N_test)\n",
    "\n",
    "    D_train = {k: train_tr.trace.nodes[k][\"value\"] for k in [\"X\", \"A\", \"Y\"]}\n",
    "    D_test = {k: test_tr.trace.nodes[k][\"value\"] for k in [\"X\", \"A\", \"Y\"]}\n",
    "\n",
    "\n",
    "    print(f\"Run {i}/{N_runs}\")\n",
    "    conditioned_model = ConditionedModel(p, link)\n",
    "    guide_train = pyro.infer.autoguide.AutoDelta(conditioned_model)\n",
    "    elbo = pyro.infer.Trace_ELBO()(conditioned_model, guide_train)\n",
    "\n",
    "    # initialize parameters\n",
    "    elbo(D_train)\n",
    "\n",
    "    adam = torch.optim.Adam(elbo.parameters(), lr=0.03)\n",
    "\n",
    "    # Do gradient steps\n",
    "    for step in range(2000):\n",
    "        adam.zero_grad()\n",
    "        loss = elbo(D_train)\n",
    "        loss.backward()\n",
    "        adam.step()\n",
    "        # if step % 250 == 0:\n",
    "        #     print(\"[iteration %04d] loss: %.4f\" % (step, loss))\n",
    "    theta_hat = {k: v.clone().detach().requires_grad_(True) for k, v in guide_train().items()}\n",
    "    print(theta_hat.keys(), theta_hat[\"treatment_weight\"])\n",
    "\n",
    "    unconditioned_model = KnownCovariateDistModel(p, link)\n",
    "    model_cond_theta = condition(data=theta_hat)(unconditioned_model)\n",
    "\n",
    "    ATE_plugin = ATE(model_cond_theta, num_samples=10000)\n",
    "    # print(\"ATE plugin\", ATE_plugin)\n",
    "\n",
    "    ATE_correction = one_step_correction(\n",
    "        lambda m: ATE(m, num_samples=1000),\n",
    "        unconditioned_model,\n",
    "        conditioned_model,\n",
    "        [\"X\", \"A\", \"Y\"],\n",
    "        theta_hat,\n",
    "        D_test,\n",
    "        eps_fisher=0.0,\n",
    "        N_monte_carlo=25*p\n",
    "    )\n",
    "    ATE_onestep = ATE_plugin + ATE_correction\n",
    "    # print(ATE_plugin, ATE_correction, ATE_onestep)\n",
    "\n",
    "    analytic_correction, analytic_eif_at_test_pts = closed_form_ate_correction(D_test, theta_hat)\n",
    "\n",
    "    plug_in_estimates.append(ATE_plugin.item())\n",
    "    one_step_correction_monte_carlo.append(ATE_correction.item())\n",
    "    one_step_correction_analytic.append(analytic_correction.item())\n",
    "\n",
    "plug_in_estimates = torch.tensor(plug_in_estimates)\n",
    "one_step_correction_monte_carlo = torch.tensor(one_step_correction_monte_carlo)\n",
    "one_step_correction_analytic = torch.tensor(one_step_correction_analytic)"
   ]
  },
  {
   "cell_type": "code",
   "execution_count": 27,
   "metadata": {},
   "outputs": [
    {
     "data": {
      "text/plain": [
       "<matplotlib.legend.Legend at 0x293341630>"
      ]
     },
     "execution_count": 27,
     "metadata": {},
     "output_type": "execute_result"
    },
    {
     "data": {
      "image/png": "[encoded data removed]",
      "text/plain": [
       "<Figure size 640x480 with 1 Axes>"
      ]
     },
     "metadata": {},
     "output_type": "display_data"
    }
   ],
   "source": [
    "fig, ax = plt.subplots()\n",
    "\n",
    "sns.kdeplot(\n",
    "    plug_in_estimates, \n",
    "    label=\"Plug-in\", ax=ax\n",
    ")\n",
    "\n",
    "sns.kdeplot(\n",
    "    plug_in_estimates + one_step_correction_monte_carlo, \n",
    "    label=\"DR-Monte Carlo\", ax=ax\n",
    ")\n",
    "\n",
    "sns.kdeplot(\n",
    "    plug_in_estimates + one_step_correction_analytic, \n",
    "    label=\"DR-Analytic\", ax=ax\n",
    ")\n",
    "\n",
    "ax.axvline(0, color=\"black\", label=\"True ATE\", linestyle=\"--\")\n",
    "ax.set_yticks([])\n",
    "sns.despine()\n",
    "ax.legend(loc=\"upper right\")"
   ]
  }
 ],
 "metadata": {
  "kernelspec": {
   "display_name": "basis",
   "language": "python",
   "name": "python3"
  },
  "language_info": {
   "codemirror_mode": {
    "name": "ipython",
    "version": 3
   },
   "file_extension": ".py",
   "mimetype": "text/x-python",
   "name": "python",
   "nbconvert_exporter": "python",
   "pygments_lexer": "ipython3",
   "version": "3.10.10"
  },
  "orig_nbformat": 4
 },
 "nbformat": 4,
 "nbformat_minor": 2
}

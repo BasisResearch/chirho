{
 "cells": [
  {
   "cell_type": "code",
   "execution_count": 1,
   "metadata": {},
   "outputs": [],
   "source": [
    "import functools\n",
    "import contextlib\n",
    "import collections\n",
    "from typing import Callable, Iterable, TypeVar, Mapping, List, Dict\n",
    "\n",
    "import pyro\n",
    "import torch  # noqa: F401\n",
    "\n",
    "from chirho.counterfactual.handlers.selection import get_factual_indices\n",
    "from chirho.indexed.ops import IndexSet, cond, gather, indices_of, scatter\n",
    "\n",
    "S = TypeVar(\"S\")\n",
    "T = TypeVar(\"T\")\n",
    "\n",
    "import pyro\n",
    "import chirho\n",
    "import pyro.distributions as dist\n",
    "import pyro.infer\n",
    "import pytest\n",
    "import torch\n",
    "import pandas as pd\n",
    "\n",
    "from chirho.counterfactual.handlers.counterfactual import (MultiWorldCounterfactual,\n",
    "        Preemptions)\n",
    "from chirho.counterfactual.handlers.explanation import (\n",
    "    SearchForCause,\n",
    "    consequent_differs,\n",
    "    random_intervention,\n",
    "    undo_split,\n",
    "    uniform_proposal,\n",
    ")\n",
    "from chirho.counterfactual.ops import preempt, split\n",
    "from chirho.indexed.ops import IndexSet, gather, indices_of\n",
    "from chirho.observational.handlers.condition import Factors, condition\n",
    "from chirho.interventional.ops import Intervention, intervene\n",
    "from chirho.interventional.handlers import do"
   ]
  },
  {
   "cell_type": "code",
   "execution_count": 2,
   "metadata": {},
   "outputs": [],
   "source": [
    "@contextlib.contextmanager\n",
    "def ExplainCauses(\n",
    "    antecedents: Mapping[str, Intervention[T]]\n",
    "    | Mapping[str, pyro.distributions.constraints.Constraint],\n",
    "    witnesses: Mapping[str, Intervention[T]] | Iterable[str],\n",
    "    consequents: Mapping[str, Callable[[T], float | torch.Tensor]]\n",
    "    | Iterable[str],\n",
    "    *,\n",
    "    antecedent_bias: float = 0.0,\n",
    "    witness_bias: float = 0.0,\n",
    "    consequent_eps: float = -1e8,\n",
    "    antecedent_prefix: str = \"__antecedent_\",\n",
    "    witness_prefix: str = \"__witness_\",\n",
    "    consequent_prefix: str = \"__consequent_\",\n",
    "):\n",
    "    \"\"\"\n",
    "    Effect handler for causal explanation.\n",
    "\n",
    "    :param antecedents: A mapping from antecedent names to interventions.\n",
    "    :param witnesses: A mapping from witness names to interventions.\n",
    "    :param consequents: A mapping from consequent names to factor functions.\n",
    "    \"\"\"\n",
    "    if isinstance(\n",
    "        next(iter(antecedents.values())),\n",
    "        pyro.distributions.constraints.Constraint,\n",
    "    ):\n",
    "        antecedents = {\n",
    "            a: random_intervention(s, name=f\"{antecedent_prefix}_proposal_{a}\")\n",
    "            for a, s in antecedents.items()\n",
    "        }\n",
    "\n",
    "    if not isinstance(witnesses, collections.abc.Mapping):\n",
    "        witnesses = {\n",
    "            w: undo_split(antecedents=list(antecedents.keys()))\n",
    "            for w in witnesses\n",
    "        }\n",
    "\n",
    "    if not isinstance(consequents, collections.abc.Mapping):\n",
    "        consequents = {\n",
    "            c: consequent_differs(\n",
    "                antecedents=list(antecedents.keys()), eps=consequent_eps\n",
    "            )\n",
    "            for c in consequents\n",
    "        }\n",
    "\n",
    "    if len(consequents) == 0:\n",
    "        raise ValueError(\"must have at least one consequent\")\n",
    "\n",
    "    if len(antecedents) == 0:\n",
    "        raise ValueError(\"must have at least one antecedent\")\n",
    "\n",
    "    if set(consequents.keys()) & set(antecedents.keys()):\n",
    "        raise ValueError(\n",
    "            \"consequents and possible antecedents must be disjoint\"\n",
    "        )\n",
    "\n",
    "    if set(consequents.keys()) & set(witnesses.keys()):\n",
    "        raise ValueError(\"consequents and possible witnesses must be disjoint\")\n",
    "\n",
    "    antecedent_handler = SearchForCause(\n",
    "        actions=antecedents, bias=antecedent_bias, prefix=antecedent_prefix\n",
    "    )\n",
    "    witness_handler = Preemptions(\n",
    "        actions=witnesses, bias=witness_bias, prefix=witness_prefix\n",
    "    )\n",
    "    consequent_handler = Factors(factors=consequents, prefix=consequent_prefix)\n",
    "\n",
    "    with antecedent_handler, witness_handler, consequent_handler:\n",
    "        with pyro.poutine.trace() as logging_tr:\n",
    "            yield"
   ]
  },
  {
   "cell_type": "code",
   "execution_count": 3,
   "metadata": {},
   "outputs": [],
   "source": [
    "def gather_observed(value, antecedents, witnesses):\n",
    "    _indices = [\n",
    "            i for i in list(antecedents.keys()) + witnesses if i in indices_of(value, event_dim=0)\n",
    "        ]\n",
    "    _int_can = gather(\n",
    "    value, IndexSet(**{i: {0} for i in _indices}), event_dim=0,)\n",
    "    return _int_can\n",
    "\n",
    "def gather_intervened(value, antecedents, witnesses):\n",
    "    _indices = [\n",
    "            i for i in list(antecedents.keys()) + witnesses if i in indices_of(value, event_dim=0)\n",
    "        ]\n",
    "    _int_can = gather(\n",
    "    value, IndexSet(**{i: {1} for i in _indices}), event_dim=0,)\n",
    "    return _int_can\n",
    "\n",
    "\n",
    "def get_table(trace, mwc, antecedents, witnesses, consequents):\n",
    "\n",
    "    values_table = {}\n",
    "    nodes = trace.trace.nodes\n",
    "\n",
    "    with mwc:\n",
    "\n",
    "        for antecedent_str in antecedents.keys():\n",
    "                \n",
    "            obs_ant = gather_observed(nodes[antecedent_str][\"value\"], antecedents, witnesses)\n",
    "            int_ant = gather_intervened(nodes[antecedent_str][\"value\"], antecedents, witnesses)\n",
    "\n",
    "            values_table[f\"{antecedent_str}_obs\"] = obs_ant.squeeze().tolist()\n",
    "            values_table[f\"{antecedent_str}_int\"] = int_ant.squeeze().tolist()\n",
    "            \n",
    "            apr_ant = nodes[f\"__antecedent_{antecedent_str}\"][\"value\"]\n",
    "            values_table[f\"apr_{antecedent_str}\"] = apr_ant.squeeze().tolist()\n",
    "            \n",
    "            values_table[f\"apr_{antecedent_str}_lp\"] = nodes[f\"__antecedent_{antecedent_str}\"][\"fn\"].log_prob(apr_ant)\n",
    "\n",
    "        if witnesses:\n",
    "            for candidate in witnesses:\n",
    "                obs_candidate = gather_observed(nodes[candidate][\"value\"], antecedents, witnesses)\n",
    "                int_candidate = gather_intervened(nodes[candidate][\"value\"], antecedents, witnesses)\n",
    "                values_table[f\"{candidate}_obs\"] = obs_candidate.squeeze().tolist()\n",
    "                values_table[f\"{candidate}_int\"] = int_candidate.squeeze().tolist()\n",
    "\n",
    "                wpr_con = nodes[f\"__witness_{candidate}\"][\"value\"]\n",
    "                values_table[f\"wpr_{candidate}\"] = wpr_con.squeeze().tolist()\n",
    "            \n",
    "\n",
    "        for consequent in consequents:\n",
    "            obs_consequent = gather_observed(nodes[consequent][\"value\"], antecedents, witnesses)\n",
    "            int_consequent = gather_intervened(nodes[consequent][\"value\"], antecedents, witnesses)\n",
    "            con_lp = nodes[f\"__consequent_{consequent}\"]['fn'].log_prob(torch.tensor(1)) #TODO: this feels like a hack\n",
    "            _indices_lp = [\n",
    "            i for i in list(antecedents.keys()) + witnesses if i in indices_of(con_lp)]\n",
    "            int_con_lp = gather(con_lp, IndexSet(**{i: {1} for i in _indices_lp}), event_dim=0,)      \n",
    "\n",
    "\n",
    "            values_table[f\"{consequent}_obs\"] = obs_consequent.squeeze().tolist()   \n",
    "            values_table[f\"{consequent}_int\"] = int_consequent.squeeze().tolist()\n",
    "            values_table[f\"{consequent}_lp\"] = int_con_lp.squeeze().tolist()   \n",
    "\n",
    "    values_df = pd.DataFrame(values_table)\n",
    "\n",
    "    values_df.drop_duplicates(inplace=True)\n",
    "\n",
    "    summands = [col for col in values_df.columns if col.endswith('lp')]\n",
    "    values_df[\"sum_log_prob\"] =  values_df[summands].sum(axis = 1)\n",
    "    values_df.sort_values(by = \"sum_log_prob\", ascending = False, inplace = True)\n",
    "\n",
    "    return values_df"
   ]
  },
  {
   "cell_type": "code",
   "execution_count": 4,
   "metadata": {},
   "outputs": [],
   "source": [
    "# this reduces the actual causality check to checking a property of the resulting sums of log probabilities\n",
    "# for the antecedent preemption and the consequent differs nodes\n",
    "\n",
    "def ac_check(trace, mwc, antecedents, witnesses, consequents):\n",
    "\n",
    "     table = get_table(trace, mwc, antecedents, witnesses, consequents)\n",
    "     \n",
    "     if (list(table['sum_log_prob'])[0]<= -1e8):\n",
    "          print(\"No resulting difference to the consequent in the sample.\")\n",
    "          return\n",
    "     \n",
    "     winners = table[table['sum_log_prob'] == table['sum_log_prob'].max()]\n",
    "     \n",
    "\n",
    "     ac_flags = []\n",
    "     for index, row in winners.iterrows():\n",
    "          active_antecedents = []\n",
    "          for antecedent in antecedents:\n",
    "               if row[f\"apr_{antecedent}\"] == 0:\n",
    "                    active_antecedents.append(antecedent)\n",
    "\n",
    "          ac_flags.append(set(active_antecedents) == set(antecedents))\n",
    "\n",
    "     if not any(ac_flags):\n",
    "          print(\"The antecedent set is not minimal.\")\n",
    "     else:\n",
    "          print(\"The antecedent set is an actual cause.\")\n",
    "\n",
    "     return any(ac_flags)"
   ]
  },
  {
   "cell_type": "markdown",
   "metadata": {},
   "source": [
    "### Stone-throwing"
   ]
  },
  {
   "cell_type": "code",
   "execution_count": 5,
   "metadata": {},
   "outputs": [],
   "source": [
    "@pyro.infer.config_enumerate\n",
    "def stones_model():        \n",
    "    prob_sally_throws = pyro.sample(\"prob_sally_throws\", dist.Beta(1, 1))\n",
    "    prob_bill_throws = pyro.sample(\"prob_bill_throws\", dist.Beta(1, 1))\n",
    "    prob_sally_hits = pyro.sample(\"prob_sally_hits\", dist.Beta(1, 1))\n",
    "    prob_bill_hits = pyro.sample(\"prob_bill_hits\", dist.Beta(1, 1))\n",
    "    prob_bottle_shatters_if_sally = pyro.sample(\"prob_bottle_shatters_if_sally\", dist.Beta(1, 1))\n",
    "    prob_bottle_shatters_if_bill = pyro.sample(\"prob_bottle_shatters_if_bill\", dist.Beta(1, 1))\n",
    "\n",
    "    sally_throws = pyro.sample(\"sally_throws\", dist.Bernoulli(prob_sally_throws))\n",
    "    bill_throws = pyro.sample(\"bill_throws\", dist.Bernoulli(prob_bill_throws))\n",
    "\n",
    "\n",
    "    new_shp = torch.where(sally_throws == 1,prob_sally_hits, 0.0)\n",
    "\n",
    "    sally_hits = pyro.sample(\"sally_hits\",dist.Bernoulli(new_shp))\n",
    "\n",
    "    new_bhp = torch.where(\n",
    "        bill_throws.bool() & (~sally_hits.bool()),\n",
    "        prob_bill_hits,\n",
    "        torch.tensor(0.0),\n",
    "    )\n",
    "\n",
    "    bill_hits = pyro.sample(\"bill_hits\", dist.Bernoulli(new_bhp))\n",
    "    \n",
    "\n",
    "    new_bsp = torch.where(bill_hits.bool(), prob_bottle_shatters_if_bill,\n",
    "            torch.where(sally_hits.bool(),prob_bottle_shatters_if_sally,torch.tensor(0.0),),)\n",
    "\n",
    "    bottle_shatters = pyro.sample(\"bottle_shatters\", dist.Bernoulli(new_bsp))\n",
    "\n",
    "    return {\"sally_throws\": sally_throws, \"bill_throws\": bill_throws,  \"sally_hits\": sally_hits,\n",
    "            \"bill_hits\": bill_hits,  \"bottle_shatters\": bottle_shatters,}\n",
    "\n",
    "stones_model.nodes = [\"sally_throws\",\"bill_throws\", \"sally_hits\", \"bill_hits\",\"bottle_shatters\",]"
   ]
  },
  {
   "cell_type": "code",
   "execution_count": 6,
   "metadata": {},
   "outputs": [],
   "source": [
    "def tensorize_observations(observations):\n",
    "    return {k: torch.as_tensor(v) for k, v in observations.items()}\n",
    "\n",
    "observations = {\"prob_sally_throws\": 1.0, \n",
    "                \"prob_bill_throws\": 1.0,\n",
    "                \"prob_sally_hits\": 1.0,\n",
    "                \"prob_bill_hits\": 1.0,\n",
    "                \"prob_bottle_shatters_if_sally\": 1.0,\n",
    "                \"prob_bottle_shatters_if_bill\": 1.0,\n",
    "                \"sally_throws\": 1.0, \"bill_throws\": 1.0}\n",
    "\n",
    "observations_tensorized = tensorize_observations(observations)\n",
    "\n",
    "antecedents = {\"sally_throws\": 0.0}\n",
    "antencedent_bias = 0.1\n",
    "witnesses = [\"bill_throws\", \"bill_hits\"]\n",
    "consequents = [\"bottle_shatters\"]\n",
    "\n",
    "#TODO? fails silently when consequents is a string"
   ]
  },
  {
   "cell_type": "code",
   "execution_count": 7,
   "metadata": {},
   "outputs": [],
   "source": [
    "with MultiWorldCounterfactual() as mwc:\n",
    "    with ExplainCauses(antecedents = antecedents, antecedent_bias= antencedent_bias,\n",
    "                        witnesses = witnesses,\n",
    "                        consequents = consequents):\n",
    "        with condition(data = observations_tensorized):\n",
    "            with pyro.plate(\"sample\", 200):\n",
    "                with pyro.poutine.trace() as tr:\n",
    "                    stones_model()\n",
    "\n"
   ]
  },
  {
   "cell_type": "code",
   "execution_count": 8,
   "metadata": {},
   "outputs": [
    {
     "data": {
      "text/html": [
       "<div>\n",
       "<style scoped>\n",
       "    .dataframe tbody tr th:only-of-type {\n",
       "        vertical-align: middle;\n",
       "    }\n",
       "\n",
       "    .dataframe tbody tr th {\n",
       "        vertical-align: top;\n",
       "    }\n",
       "\n",
       "    .dataframe thead th {\n",
       "        text-align: right;\n",
       "    }\n",
       "</style>\n",
       "<table border=\"1\" class=\"dataframe\">\n",
       "  <thead>\n",
       "    <tr style=\"text-align: right;\">\n",
       "      <th></th>\n",
       "      <th>sally_throws_obs</th>\n",
       "      <th>sally_throws_int</th>\n",
       "      <th>apr_sally_throws</th>\n",
       "      <th>apr_sally_throws_lp</th>\n",
       "      <th>bill_throws_obs</th>\n",
       "      <th>bill_throws_int</th>\n",
       "      <th>wpr_bill_throws</th>\n",
       "      <th>bill_hits_obs</th>\n",
       "      <th>bill_hits_int</th>\n",
       "      <th>wpr_bill_hits</th>\n",
       "      <th>bottle_shatters_obs</th>\n",
       "      <th>bottle_shatters_int</th>\n",
       "      <th>bottle_shatters_lp</th>\n",
       "      <th>sum_log_prob</th>\n",
       "    </tr>\n",
       "  </thead>\n",
       "  <tbody>\n",
       "    <tr>\n",
       "      <th>3</th>\n",
       "      <td>1.0</td>\n",
       "      <td>0.0</td>\n",
       "      <td>0</td>\n",
       "      <td>-0.916291</td>\n",
       "      <td>1.0</td>\n",
       "      <td>1.0</td>\n",
       "      <td>1</td>\n",
       "      <td>0.0</td>\n",
       "      <td>0.0</td>\n",
       "      <td>1</td>\n",
       "      <td>1.0</td>\n",
       "      <td>0.0</td>\n",
       "      <td>0.0</td>\n",
       "      <td>-9.162907e-01</td>\n",
       "    </tr>\n",
       "    <tr>\n",
       "      <th>4</th>\n",
       "      <td>1.0</td>\n",
       "      <td>0.0</td>\n",
       "      <td>0</td>\n",
       "      <td>-0.916291</td>\n",
       "      <td>1.0</td>\n",
       "      <td>1.0</td>\n",
       "      <td>0</td>\n",
       "      <td>0.0</td>\n",
       "      <td>0.0</td>\n",
       "      <td>1</td>\n",
       "      <td>1.0</td>\n",
       "      <td>0.0</td>\n",
       "      <td>0.0</td>\n",
       "      <td>-9.162907e-01</td>\n",
       "    </tr>\n",
       "    <tr>\n",
       "      <th>0</th>\n",
       "      <td>1.0</td>\n",
       "      <td>1.0</td>\n",
       "      <td>1</td>\n",
       "      <td>-0.510826</td>\n",
       "      <td>1.0</td>\n",
       "      <td>1.0</td>\n",
       "      <td>1</td>\n",
       "      <td>0.0</td>\n",
       "      <td>0.0</td>\n",
       "      <td>1</td>\n",
       "      <td>1.0</td>\n",
       "      <td>1.0</td>\n",
       "      <td>-100000000.0</td>\n",
       "      <td>-1.000000e+08</td>\n",
       "    </tr>\n",
       "    <tr>\n",
       "      <th>2</th>\n",
       "      <td>1.0</td>\n",
       "      <td>1.0</td>\n",
       "      <td>1</td>\n",
       "      <td>-0.510826</td>\n",
       "      <td>1.0</td>\n",
       "      <td>1.0</td>\n",
       "      <td>1</td>\n",
       "      <td>0.0</td>\n",
       "      <td>0.0</td>\n",
       "      <td>0</td>\n",
       "      <td>1.0</td>\n",
       "      <td>1.0</td>\n",
       "      <td>-100000000.0</td>\n",
       "      <td>-1.000000e+08</td>\n",
       "    </tr>\n",
       "    <tr>\n",
       "      <th>8</th>\n",
       "      <td>1.0</td>\n",
       "      <td>1.0</td>\n",
       "      <td>1</td>\n",
       "      <td>-0.510826</td>\n",
       "      <td>1.0</td>\n",
       "      <td>1.0</td>\n",
       "      <td>0</td>\n",
       "      <td>0.0</td>\n",
       "      <td>0.0</td>\n",
       "      <td>0</td>\n",
       "      <td>1.0</td>\n",
       "      <td>1.0</td>\n",
       "      <td>-100000000.0</td>\n",
       "      <td>-1.000000e+08</td>\n",
       "    </tr>\n",
       "    <tr>\n",
       "      <th>13</th>\n",
       "      <td>1.0</td>\n",
       "      <td>1.0</td>\n",
       "      <td>1</td>\n",
       "      <td>-0.510826</td>\n",
       "      <td>1.0</td>\n",
       "      <td>1.0</td>\n",
       "      <td>0</td>\n",
       "      <td>0.0</td>\n",
       "      <td>0.0</td>\n",
       "      <td>1</td>\n",
       "      <td>1.0</td>\n",
       "      <td>1.0</td>\n",
       "      <td>-100000000.0</td>\n",
       "      <td>-1.000000e+08</td>\n",
       "    </tr>\n",
       "    <tr>\n",
       "      <th>5</th>\n",
       "      <td>1.0</td>\n",
       "      <td>0.0</td>\n",
       "      <td>0</td>\n",
       "      <td>-0.916291</td>\n",
       "      <td>1.0</td>\n",
       "      <td>1.0</td>\n",
       "      <td>0</td>\n",
       "      <td>0.0</td>\n",
       "      <td>1.0</td>\n",
       "      <td>0</td>\n",
       "      <td>1.0</td>\n",
       "      <td>1.0</td>\n",
       "      <td>-100000000.0</td>\n",
       "      <td>-1.000000e+08</td>\n",
       "    </tr>\n",
       "    <tr>\n",
       "      <th>57</th>\n",
       "      <td>1.0</td>\n",
       "      <td>0.0</td>\n",
       "      <td>0</td>\n",
       "      <td>-0.916291</td>\n",
       "      <td>1.0</td>\n",
       "      <td>1.0</td>\n",
       "      <td>1</td>\n",
       "      <td>0.0</td>\n",
       "      <td>1.0</td>\n",
       "      <td>0</td>\n",
       "      <td>1.0</td>\n",
       "      <td>1.0</td>\n",
       "      <td>-100000000.0</td>\n",
       "      <td>-1.000000e+08</td>\n",
       "    </tr>\n",
       "  </tbody>\n",
       "</table>\n",
       "</div>"
      ],
      "text/plain": [
       "    sally_throws_obs  sally_throws_int  apr_sally_throws  apr_sally_throws_lp  \\\n",
       "3                1.0               0.0                 0            -0.916291   \n",
       "4                1.0               0.0                 0            -0.916291   \n",
       "0                1.0               1.0                 1            -0.510826   \n",
       "2                1.0               1.0                 1            -0.510826   \n",
       "8                1.0               1.0                 1            -0.510826   \n",
       "13               1.0               1.0                 1            -0.510826   \n",
       "5                1.0               0.0                 0            -0.916291   \n",
       "57               1.0               0.0                 0            -0.916291   \n",
       "\n",
       "    bill_throws_obs  bill_throws_int  wpr_bill_throws  bill_hits_obs  \\\n",
       "3               1.0              1.0                1            0.0   \n",
       "4               1.0              1.0                0            0.0   \n",
       "0               1.0              1.0                1            0.0   \n",
       "2               1.0              1.0                1            0.0   \n",
       "8               1.0              1.0                0            0.0   \n",
       "13              1.0              1.0                0            0.0   \n",
       "5               1.0              1.0                0            0.0   \n",
       "57              1.0              1.0                1            0.0   \n",
       "\n",
       "    bill_hits_int  wpr_bill_hits  bottle_shatters_obs  bottle_shatters_int  \\\n",
       "3             0.0              1                  1.0                  0.0   \n",
       "4             0.0              1                  1.0                  0.0   \n",
       "0             0.0              1                  1.0                  1.0   \n",
       "2             0.0              0                  1.0                  1.0   \n",
       "8             0.0              0                  1.0                  1.0   \n",
       "13            0.0              1                  1.0                  1.0   \n",
       "5             1.0              0                  1.0                  1.0   \n",
       "57            1.0              0                  1.0                  1.0   \n",
       "\n",
       "    bottle_shatters_lp  sum_log_prob  \n",
       "3                  0.0 -9.162907e-01  \n",
       "4                  0.0 -9.162907e-01  \n",
       "0         -100000000.0 -1.000000e+08  \n",
       "2         -100000000.0 -1.000000e+08  \n",
       "8         -100000000.0 -1.000000e+08  \n",
       "13        -100000000.0 -1.000000e+08  \n",
       "5         -100000000.0 -1.000000e+08  \n",
       "57        -100000000.0 -1.000000e+08  "
      ]
     },
     "metadata": {},
     "output_type": "display_data"
    }
   ],
   "source": [
    "stones_table = get_table(tr, mwc, antecedents, witnesses, consequents)\n",
    "display(stones_table)"
   ]
  },
  {
   "cell_type": "code",
   "execution_count": 9,
   "metadata": {},
   "outputs": [
    {
     "name": "stdout",
     "output_type": "stream",
     "text": [
      "The antecedent set is an actual cause.\n"
     ]
    },
    {
     "data": {
      "text/plain": [
       "True"
      ]
     },
     "execution_count": 9,
     "metadata": {},
     "output_type": "execute_result"
    }
   ],
   "source": [
    "ac_check(tr, mwc, antecedents, witnesses, consequents)"
   ]
  },
  {
   "cell_type": "code",
   "execution_count": 10,
   "metadata": {},
   "outputs": [],
   "source": [
    "# this atnecedent set is not minimal\n",
    "antecedents2 = {\"sally_throws\": 0.0, \"bill_throws\": 0.0}\n",
    "witnesses2 = [\"bill_hits\"]  #we know 'bill_throws' is not downstream from any split\n",
    "\n",
    "with MultiWorldCounterfactual() as mwc2:\n",
    "    with ExplainCauses(antecedents = antecedents2, antecedent_bias= antencedent_bias,\n",
    "                        witnesses = witnesses2,\n",
    "                        consequents = consequents):\n",
    "        with condition(data = observations_tensorized):\n",
    "            with pyro.plate(\"sample\", 200):\n",
    "                with pyro.poutine.trace() as tr2:\n",
    "                    stones_model()"
   ]
  },
  {
   "cell_type": "code",
   "execution_count": 11,
   "metadata": {},
   "outputs": [
    {
     "data": {
      "text/html": [
       "<div>\n",
       "<style scoped>\n",
       "    .dataframe tbody tr th:only-of-type {\n",
       "        vertical-align: middle;\n",
       "    }\n",
       "\n",
       "    .dataframe tbody tr th {\n",
       "        vertical-align: top;\n",
       "    }\n",
       "\n",
       "    .dataframe thead th {\n",
       "        text-align: right;\n",
       "    }\n",
       "</style>\n",
       "<table border=\"1\" class=\"dataframe\">\n",
       "  <thead>\n",
       "    <tr style=\"text-align: right;\">\n",
       "      <th></th>\n",
       "      <th>sally_throws_obs</th>\n",
       "      <th>sally_throws_int</th>\n",
       "      <th>apr_sally_throws</th>\n",
       "      <th>apr_sally_throws_lp</th>\n",
       "      <th>bill_throws_obs</th>\n",
       "      <th>bill_throws_int</th>\n",
       "      <th>apr_bill_throws</th>\n",
       "      <th>apr_bill_throws_lp</th>\n",
       "      <th>bill_hits_obs</th>\n",
       "      <th>bill_hits_int</th>\n",
       "      <th>wpr_bill_hits</th>\n",
       "      <th>bottle_shatters_obs</th>\n",
       "      <th>bottle_shatters_int</th>\n",
       "      <th>bottle_shatters_lp</th>\n",
       "      <th>sum_log_prob</th>\n",
       "    </tr>\n",
       "  </thead>\n",
       "  <tbody>\n",
       "    <tr>\n",
       "      <th>6</th>\n",
       "      <td>1.0</td>\n",
       "      <td>0.0</td>\n",
       "      <td>0</td>\n",
       "      <td>-0.916291</td>\n",
       "      <td>1.0</td>\n",
       "      <td>1.0</td>\n",
       "      <td>1</td>\n",
       "      <td>-0.510826</td>\n",
       "      <td>0.0</td>\n",
       "      <td>0.0</td>\n",
       "      <td>1</td>\n",
       "      <td>1.0</td>\n",
       "      <td>0.0</td>\n",
       "      <td>0.0</td>\n",
       "      <td>-1.427116e+00</td>\n",
       "    </tr>\n",
       "    <tr>\n",
       "      <th>3</th>\n",
       "      <td>1.0</td>\n",
       "      <td>0.0</td>\n",
       "      <td>0</td>\n",
       "      <td>-0.916291</td>\n",
       "      <td>1.0</td>\n",
       "      <td>0.0</td>\n",
       "      <td>0</td>\n",
       "      <td>-0.916291</td>\n",
       "      <td>0.0</td>\n",
       "      <td>0.0</td>\n",
       "      <td>0</td>\n",
       "      <td>1.0</td>\n",
       "      <td>0.0</td>\n",
       "      <td>0.0</td>\n",
       "      <td>-1.832581e+00</td>\n",
       "    </tr>\n",
       "    <tr>\n",
       "      <th>24</th>\n",
       "      <td>1.0</td>\n",
       "      <td>0.0</td>\n",
       "      <td>0</td>\n",
       "      <td>-0.916291</td>\n",
       "      <td>1.0</td>\n",
       "      <td>0.0</td>\n",
       "      <td>0</td>\n",
       "      <td>-0.916291</td>\n",
       "      <td>0.0</td>\n",
       "      <td>0.0</td>\n",
       "      <td>1</td>\n",
       "      <td>1.0</td>\n",
       "      <td>0.0</td>\n",
       "      <td>0.0</td>\n",
       "      <td>-1.832581e+00</td>\n",
       "    </tr>\n",
       "    <tr>\n",
       "      <th>0</th>\n",
       "      <td>1.0</td>\n",
       "      <td>1.0</td>\n",
       "      <td>1</td>\n",
       "      <td>-0.510826</td>\n",
       "      <td>1.0</td>\n",
       "      <td>1.0</td>\n",
       "      <td>1</td>\n",
       "      <td>-0.510826</td>\n",
       "      <td>0.0</td>\n",
       "      <td>0.0</td>\n",
       "      <td>0</td>\n",
       "      <td>1.0</td>\n",
       "      <td>1.0</td>\n",
       "      <td>-100000000.0</td>\n",
       "      <td>-1.000000e+08</td>\n",
       "    </tr>\n",
       "    <tr>\n",
       "      <th>7</th>\n",
       "      <td>1.0</td>\n",
       "      <td>1.0</td>\n",
       "      <td>1</td>\n",
       "      <td>-0.510826</td>\n",
       "      <td>1.0</td>\n",
       "      <td>1.0</td>\n",
       "      <td>1</td>\n",
       "      <td>-0.510826</td>\n",
       "      <td>0.0</td>\n",
       "      <td>0.0</td>\n",
       "      <td>1</td>\n",
       "      <td>1.0</td>\n",
       "      <td>1.0</td>\n",
       "      <td>-100000000.0</td>\n",
       "      <td>-1.000000e+08</td>\n",
       "    </tr>\n",
       "    <tr>\n",
       "      <th>1</th>\n",
       "      <td>1.0</td>\n",
       "      <td>0.0</td>\n",
       "      <td>0</td>\n",
       "      <td>-0.916291</td>\n",
       "      <td>1.0</td>\n",
       "      <td>1.0</td>\n",
       "      <td>1</td>\n",
       "      <td>-0.510826</td>\n",
       "      <td>0.0</td>\n",
       "      <td>1.0</td>\n",
       "      <td>0</td>\n",
       "      <td>1.0</td>\n",
       "      <td>1.0</td>\n",
       "      <td>-100000000.0</td>\n",
       "      <td>-1.000000e+08</td>\n",
       "    </tr>\n",
       "    <tr>\n",
       "      <th>4</th>\n",
       "      <td>1.0</td>\n",
       "      <td>1.0</td>\n",
       "      <td>1</td>\n",
       "      <td>-0.510826</td>\n",
       "      <td>1.0</td>\n",
       "      <td>0.0</td>\n",
       "      <td>0</td>\n",
       "      <td>-0.916291</td>\n",
       "      <td>0.0</td>\n",
       "      <td>0.0</td>\n",
       "      <td>1</td>\n",
       "      <td>1.0</td>\n",
       "      <td>1.0</td>\n",
       "      <td>-100000000.0</td>\n",
       "      <td>-1.000000e+08</td>\n",
       "    </tr>\n",
       "    <tr>\n",
       "      <th>5</th>\n",
       "      <td>1.0</td>\n",
       "      <td>1.0</td>\n",
       "      <td>1</td>\n",
       "      <td>-0.510826</td>\n",
       "      <td>1.0</td>\n",
       "      <td>0.0</td>\n",
       "      <td>0</td>\n",
       "      <td>-0.916291</td>\n",
       "      <td>0.0</td>\n",
       "      <td>0.0</td>\n",
       "      <td>0</td>\n",
       "      <td>1.0</td>\n",
       "      <td>1.0</td>\n",
       "      <td>-100000000.0</td>\n",
       "      <td>-1.000000e+08</td>\n",
       "    </tr>\n",
       "  </tbody>\n",
       "</table>\n",
       "</div>"
      ],
      "text/plain": [
       "    sally_throws_obs  sally_throws_int  apr_sally_throws  apr_sally_throws_lp  \\\n",
       "6                1.0               0.0                 0            -0.916291   \n",
       "3                1.0               0.0                 0            -0.916291   \n",
       "24               1.0               0.0                 0            -0.916291   \n",
       "0                1.0               1.0                 1            -0.510826   \n",
       "7                1.0               1.0                 1            -0.510826   \n",
       "1                1.0               0.0                 0            -0.916291   \n",
       "4                1.0               1.0                 1            -0.510826   \n",
       "5                1.0               1.0                 1            -0.510826   \n",
       "\n",
       "    bill_throws_obs  bill_throws_int  apr_bill_throws  apr_bill_throws_lp  \\\n",
       "6               1.0              1.0                1           -0.510826   \n",
       "3               1.0              0.0                0           -0.916291   \n",
       "24              1.0              0.0                0           -0.916291   \n",
       "0               1.0              1.0                1           -0.510826   \n",
       "7               1.0              1.0                1           -0.510826   \n",
       "1               1.0              1.0                1           -0.510826   \n",
       "4               1.0              0.0                0           -0.916291   \n",
       "5               1.0              0.0                0           -0.916291   \n",
       "\n",
       "    bill_hits_obs  bill_hits_int  wpr_bill_hits  bottle_shatters_obs  \\\n",
       "6             0.0            0.0              1                  1.0   \n",
       "3             0.0            0.0              0                  1.0   \n",
       "24            0.0            0.0              1                  1.0   \n",
       "0             0.0            0.0              0                  1.0   \n",
       "7             0.0            0.0              1                  1.0   \n",
       "1             0.0            1.0              0                  1.0   \n",
       "4             0.0            0.0              1                  1.0   \n",
       "5             0.0            0.0              0                  1.0   \n",
       "\n",
       "    bottle_shatters_int  bottle_shatters_lp  sum_log_prob  \n",
       "6                   0.0                 0.0 -1.427116e+00  \n",
       "3                   0.0                 0.0 -1.832581e+00  \n",
       "24                  0.0                 0.0 -1.832581e+00  \n",
       "0                   1.0        -100000000.0 -1.000000e+08  \n",
       "7                   1.0        -100000000.0 -1.000000e+08  \n",
       "1                   1.0        -100000000.0 -1.000000e+08  \n",
       "4                   1.0        -100000000.0 -1.000000e+08  \n",
       "5                   1.0        -100000000.0 -1.000000e+08  "
      ]
     },
     "metadata": {},
     "output_type": "display_data"
    }
   ],
   "source": [
    "stones_table2 = get_table(tr2, mwc2, antecedents2, witnesses2, consequents)\n",
    "display(stones_table2)"
   ]
  },
  {
   "cell_type": "code",
   "execution_count": 12,
   "metadata": {},
   "outputs": [
    {
     "name": "stdout",
     "output_type": "stream",
     "text": [
      "The antecedent set is not minimal.\n"
     ]
    },
    {
     "data": {
      "text/plain": [
       "False"
      ]
     },
     "execution_count": 12,
     "metadata": {},
     "output_type": "execute_result"
    }
   ],
   "source": [
    "ac_check(tr2, mwc2, antecedents2, witnesses2, consequents)"
   ]
  },
  {
   "cell_type": "markdown",
   "metadata": {},
   "source": [
    "### Forest fire"
   ]
  },
  {
   "cell_type": "code",
   "execution_count": 13,
   "metadata": {},
   "outputs": [],
   "source": [
    "def ff_conjunctive():\n",
    "    u_match_dropped = pyro.sample(\"u_match_dropped\", dist.Bernoulli(0.5))\n",
    "    u_lightning = pyro.sample(\"u_lightning\", dist.Bernoulli(0.5))\n",
    "\n",
    "    match_dropped = pyro.deterministic(\"match_dropped\",\n",
    "                                       u_match_dropped, event_dim=0)\n",
    "    lightning = pyro.deterministic(\"lightning\", u_lightning, event_dim=0)\n",
    "    forest_fire = pyro.deterministic(\"forest_fire\", match_dropped.bool() & lightning.bool(),\n",
    "                                     event_dim=0).float()\n",
    "\n",
    "    return {\"match_dropped\": match_dropped, \"lightning\": lightning,\n",
    "            \"forest_fire\": forest_fire}\n",
    "    \n"
   ]
  },
  {
   "cell_type": "code",
   "execution_count": 14,
   "metadata": {},
   "outputs": [],
   "source": [
    "def ff_disjunctive():\n",
    "    u_match_dropped = pyro.sample(\"u_match_dropped\", dist.Bernoulli(0.5))\n",
    "    u_lightning = pyro.sample(\"u_lightning\", dist.Bernoulli(0.5))\n",
    "\n",
    "    match_dropped = pyro.deterministic(\"match_dropped\",\n",
    "                                       u_match_dropped, event_dim=0)\n",
    "    lightning = pyro.deterministic(\"lightning\", u_lightning, event_dim=0)\n",
    "    forest_fire = pyro.deterministic(\"forest_fire\", match_dropped.bool() | lightning.bool(), event_dim=0).float()\n",
    "\n",
    "    return {\"match_dropped\": match_dropped, \"lightning\": lightning,\n",
    "            \"forest_fire\": forest_fire}\n"
   ]
  },
  {
   "cell_type": "code",
   "execution_count": 15,
   "metadata": {},
   "outputs": [],
   "source": [
    "antecedents_ff = {\"match_dropped\": 0.0}\n",
    "witnesses_ff = [\"lightning\"]\n",
    "consequents_ff = [\"forest_fire\"]\n",
    "observations_ff = tensorize_observations({\"match_dropped\": 1.0, \"lightning\": 1.0})"
   ]
  },
  {
   "cell_type": "code",
   "execution_count": 16,
   "metadata": {},
   "outputs": [],
   "source": [
    "with MultiWorldCounterfactual() as mwc_ff:\n",
    "    with ExplainCauses(antecedents = antecedents_ff, antecedent_bias= antencedent_bias,\n",
    "                        witnesses = witnesses_ff,\n",
    "                        consequents = consequents_ff):\n",
    "        with condition(data = observations_ff):\n",
    "            with pyro.plate(\"sample\", 200):\n",
    "                with pyro.poutine.trace() as tr_ff:\n",
    "                    ff_conjunctive()"
   ]
  },
  {
   "cell_type": "code",
   "execution_count": 17,
   "metadata": {},
   "outputs": [
    {
     "name": "stdout",
     "output_type": "stream",
     "text": [
      "The antecedent set is an actual cause.\n"
     ]
    },
    {
     "data": {
      "text/plain": [
       "True"
      ]
     },
     "execution_count": 17,
     "metadata": {},
     "output_type": "execute_result"
    }
   ],
   "source": [
    "# In the conjunctive model \n",
    "# Each of the two factors is a but-for cause\n",
    "\n",
    "ac_check(tr_ff, mwc_ff, antecedents_ff, witnesses_ff, consequents_ff)"
   ]
  },
  {
   "cell_type": "code",
   "execution_count": 18,
   "metadata": {},
   "outputs": [],
   "source": [
    "# In the disjunctive model \n",
    "# there still would be fire if there was no lightning\n",
    "\n",
    "with MultiWorldCounterfactual() as mwc_ffd:\n",
    "    with ExplainCauses(antecedents = antecedents_ff, antecedent_bias= antencedent_bias,\n",
    "                        witnesses = witnesses_ff,\n",
    "                        consequents = consequents_ff):\n",
    "        with condition(data = observations_ff):\n",
    "            with pyro.plate(\"sample\", 200):\n",
    "                with pyro.poutine.trace() as tr_ffd:\n",
    "                    ff_disjunctive()"
   ]
  },
  {
   "cell_type": "code",
   "execution_count": 19,
   "metadata": {},
   "outputs": [
    {
     "name": "stdout",
     "output_type": "stream",
     "text": [
      "No resulting difference to the consequent in the sample.\n"
     ]
    }
   ],
   "source": [
    "ac_check(tr_ffd, mwc_ffd, antecedents_ff, witnesses_ff, consequents_ff)"
   ]
  },
  {
   "cell_type": "code",
   "execution_count": 20,
   "metadata": {},
   "outputs": [],
   "source": [
    "# in the disjunctive model\n",
    "# the actual cause is the composition of the two factors\n",
    "\n",
    "antecedents_ffd2 = {\"match_dropped\": 0.0, \"lightning\":0.0}\n",
    "witnesses_ffd2 = []\n",
    "\n",
    "with MultiWorldCounterfactual() as mwc_ffd2:\n",
    "    with ExplainCauses(antecedents = antecedents_ffd2, antecedent_bias= antencedent_bias,\n",
    "                        witnesses = witnesses_ffd2,\n",
    "                        consequents = consequents_ff):\n",
    "        with condition(data = observations_ff):\n",
    "            with pyro.plate(\"sample\", 200):\n",
    "                with pyro.poutine.trace() as tr_ffd2:\n",
    "                    ff_disjunctive()"
   ]
  },
  {
   "cell_type": "code",
   "execution_count": 21,
   "metadata": {},
   "outputs": [
    {
     "name": "stdout",
     "output_type": "stream",
     "text": [
      "The antecedent set is an actual cause.\n"
     ]
    },
    {
     "data": {
      "text/plain": [
       "True"
      ]
     },
     "execution_count": 21,
     "metadata": {},
     "output_type": "execute_result"
    }
   ],
   "source": [
    "ac_check(tr_ffd2, mwc_ffd2, antecedents_ffd2, witnesses_ffd2, consequents_ff)"
   ]
  },
  {
   "cell_type": "markdown",
   "metadata": {},
   "source": [
    "### Doctors"
   ]
  },
  {
   "cell_type": "code",
   "execution_count": 22,
   "metadata": {},
   "outputs": [],
   "source": [
    "def bc_function(mt, tt):\n",
    "    condition1 = (mt == 1) & (tt == 1)\n",
    "    condition2 = (mt == 1) & (tt == 0)\n",
    "    condition3 = (mt == 0) & (tt == 1)\n",
    "    condition4 = ~(condition1 | condition2 | condition3)\n",
    "\n",
    "    output = torch.where(condition1, torch.tensor(3.0), torch.tensor(0.0))\n",
    "    output = torch.where(condition2, torch.tensor(0.0), output)\n",
    "    output = torch.where(condition3, torch.tensor(1.0), output)\n",
    "    output = torch.where(condition4, torch.tensor(2.0), output)\n",
    "\n",
    "    return output\n",
    "\n",
    "\n",
    "def model_doctors():\n",
    "    u_monday_treatment = pyro.sample(\"u_monday_treatment\", dist.Bernoulli(0.5))\n",
    "\n",
    "    monday_treatment = pyro.deterministic(\n",
    "        \"monday_treatment\", u_monday_treatment, event_dim=0\n",
    "    )\n",
    "\n",
    "    tuesday_treatment = pyro.deterministic(\n",
    "        \"tuesday_treatment\",\n",
    "        torch.logical_not(monday_treatment).float(),\n",
    "        event_dim=0,\n",
    "    )\n",
    "\n",
    "    bills_condition = pyro.deterministic(\n",
    "        \"bills_condition\",\n",
    "        bc_function(monday_treatment, tuesday_treatment),\n",
    "        event_dim=0,\n",
    "    )\n",
    "\n",
    "    bill_alive = pyro.deterministic(\n",
    "        \"bill_alive\", bills_condition.not_equal(3.0).float(), event_dim=0\n",
    "    )\n",
    "\n",
    "    return {\n",
    "        \"monday_treatment\": monday_treatment,\n",
    "        \"tuesday_treatment\": tuesday_treatment,\n",
    "        \"bills_condition\": bills_condition,\n",
    "        \"bill_alive\": bill_alive,\n",
    "    }"
   ]
  },
  {
   "cell_type": "code",
   "execution_count": 23,
   "metadata": {},
   "outputs": [],
   "source": [
    "antecedents_doc1 = {\"monday_treatment\": 0.0}\n",
    "witnesses_doc = []\n",
    "consequents_doc1 = [\"tuesday_treatment\"]\n",
    "observations_doc = tensorize_observations({\"u_monday_treatment\": 1.0})"
   ]
  },
  {
   "cell_type": "code",
   "execution_count": 24,
   "metadata": {},
   "outputs": [
    {
     "name": "stdout",
     "output_type": "stream",
     "text": [
      "The antecedent set is an actual cause.\n"
     ]
    },
    {
     "data": {
      "text/plain": [
       "True"
      ]
     },
     "execution_count": 24,
     "metadata": {},
     "output_type": "execute_result"
    }
   ],
   "source": [
    "# The first actual causal link holds\n",
    "\n",
    "with MultiWorldCounterfactual() as mwc_doc1:\n",
    "    with ExplainCauses(antecedents = antecedents_doc1, antecedent_bias= antencedent_bias,\n",
    "                        witnesses = witnesses_doc,\n",
    "                        consequents = consequents_doc1):\n",
    "        with condition(data = observations_doc):\n",
    "            with pyro.plate(\"sample\", 200):\n",
    "                with pyro.poutine.trace() as tr_doc1:\n",
    "                    model_doctors()\n",
    "                    \n",
    "ac_check(tr_doc1, mwc_doc1, antecedents_doc1, witnesses_doc, consequents_doc1)"
   ]
  },
  {
   "cell_type": "code",
   "execution_count": 25,
   "metadata": {},
   "outputs": [
    {
     "name": "stdout",
     "output_type": "stream",
     "text": [
      "The antecedent set is an actual cause.\n"
     ]
    },
    {
     "data": {
      "text/plain": [
       "True"
      ]
     },
     "execution_count": 25,
     "metadata": {},
     "output_type": "execute_result"
    }
   ],
   "source": [
    "# So does the second\n",
    "\n",
    "antecedents_doc2 = {\"tuesday_treatment\": 1.0}\n",
    "consequents_doc2 = [\"bill_alive\"]\n",
    "\n",
    "\n",
    "with MultiWorldCounterfactual() as mwc_doc2:\n",
    "    with ExplainCauses(antecedents = antecedents_doc2, antecedent_bias= antencedent_bias,\n",
    "                        witnesses = witnesses_doc,\n",
    "                        consequents = consequents_doc2):\n",
    "        with condition(data = observations_doc):\n",
    "            with pyro.plate(\"sample\", 200):\n",
    "                with pyro.poutine.trace() as tr_doc2:\n",
    "                    model_doctors()\n",
    "\n",
    "ac_check(tr_doc2, mwc_doc2, antecedents_doc2, witnesses_doc, consequents_doc2)"
   ]
  },
  {
   "cell_type": "code",
   "execution_count": 26,
   "metadata": {},
   "outputs": [
    {
     "name": "stdout",
     "output_type": "stream",
     "text": [
      "No resulting difference to the consequent in the sample.\n"
     ]
    }
   ],
   "source": [
    "# The third does not, so transitivity fails!\n",
    "\n",
    "with MultiWorldCounterfactual() as mwc_doc3:\n",
    "    with ExplainCauses(antecedents = antecedents_doc1, antecedent_bias= antencedent_bias,\n",
    "                        witnesses = witnesses_doc,\n",
    "                        consequents = consequents_doc2):\n",
    "        with condition(data = observations_doc):\n",
    "            with pyro.plate(\"sample\", 200):\n",
    "                with pyro.poutine.trace() as tr_doc3:\n",
    "                    model_doctors()\n",
    "\n",
    "ac_check(tr_doc3, mwc_doc3, antecedents_doc1, witnesses_doc, consequents_doc2)"
   ]
  },
  {
   "cell_type": "markdown",
   "metadata": {},
   "source": [
    "### Friendly fire\n"
   ]
  },
  {
   "cell_type": "code",
   "execution_count": 27,
   "metadata": {},
   "outputs": [],
   "source": [
    "\n",
    "def model_friendly_fire():\n",
    "    u_f4_PLGR_now = pyro.sample(\"u_f4_PLGR_now\", dist.Bernoulli(0.5))\n",
    "    u_f11_training = pyro.sample(\"u_f11_training\", dist.Bernoulli(0.5))\n",
    "\n",
    "    f4_PLGR_now = pyro.deterministic(\"f4_PLGR_now\", u_f4_PLGR_now, event_dim=0)\n",
    "    f11_training = pyro.deterministic(\n",
    "        \"f11_training\", u_f11_training, event_dim=0\n",
    "    )\n",
    "\n",
    "    f6_PLGR_before = pyro.deterministic(\n",
    "        \"f6_PLGR_before\", f4_PLGR_now, event_dim=0\n",
    "    )\n",
    "    f7_second_calculation = pyro.deterministic(\n",
    "        \"f7_second_calculation\", f4_PLGR_now, event_dim=0\n",
    "    )\n",
    "    f13_battery_died = pyro.deterministic(\n",
    "        \"f13_battery_died\",\n",
    "        f6_PLGR_before.bool() & f7_second_calculation.bool(),\n",
    "        event_dim=0,\n",
    "    )\n",
    "\n",
    "    f1_battery_change = pyro.deterministic(\n",
    "        \"f1_battery_change\", f13_battery_died, event_dim=0\n",
    "    )\n",
    "\n",
    "    f12_PLGR_after = pyro.deterministic(\n",
    "        \"f12_PLGR_after\", f1_battery_change, event_dim=0\n",
    "    )\n",
    "\n",
    "    f5_unaware = pyro.deterministic(\"f5_unaware\", f11_training, event_dim=0)\n",
    "\n",
    "    f14_wrong_position = pyro.deterministic(\n",
    "        \"f14_wrong_position\", f5_unaware, event_dim=0\n",
    "    )\n",
    "\n",
    "    f9_mistake_call = pyro.deterministic(\n",
    "        \"f9_mistake_call\",\n",
    "            f12_PLGR_after.bool() & \n",
    "            f14_wrong_position.bool(),\n",
    "        event_dim=0,\n",
    "    )\n",
    "\n",
    "    f3_fired = pyro.deterministic(\"f3_fired\", f9_mistake_call, event_dim=0)\n",
    "\n",
    "    f10_landed = pyro.deterministic(\n",
    "        \"f10_landed\", f3_fired.bool() &  f9_mistake_call.bool(), event_dim=0\n",
    "    )\n",
    "\n",
    "    f2_killed = pyro.deterministic(\"f2_killed\", f10_landed, event_dim=0)\n",
    "\n",
    "    return {\n",
    "        \"f1_battery_change\": f1_battery_change,\n",
    "        \"f2_killed\": f2_killed,\n",
    "        \"f3_fired\": f3_fired,\n",
    "        \"f4_PLGR_now\": f4_PLGR_now,\n",
    "        \"f5_unaware\": f5_unaware,\n",
    "        \"f6_PLGR_before\": f6_PLGR_before,\n",
    "        \"f7_second_calculation\": f7_second_calculation,\n",
    "        \"f9_mistake_call\": f9_mistake_call,\n",
    "        \"f10_landed\": f10_landed,\n",
    "        \"f11_training\": f11_training,\n",
    "        \"f12_PLGR_after\": f12_PLGR_after,\n",
    "        \"f13_battery_died\": f13_battery_died,\n",
    "        \"f14_wrong_position\": f14_wrong_position,\n",
    "    }"
   ]
  },
  {
   "cell_type": "code",
   "execution_count": 28,
   "metadata": {},
   "outputs": [],
   "source": [
    "antecedents_fi1 = {\"f6_PLGR_before\": 0.0, \"f7_second_calculation\": 0.0}\n",
    "consequents_fi = [\"f2_killed\"]\n",
    "witnesses_fi  = [\"f4_PLGR_now\",\"f5_unaware\", \"f11_training\", \"f14_wrong_position\"]\n",
    "observations_fi = tensorize_observations({\"u_f4_PLGR_now\": 1.0, \"u_f11_training\": 1.0})"
   ]
  },
  {
   "cell_type": "code",
   "execution_count": 29,
   "metadata": {},
   "outputs": [],
   "source": [
    "with MultiWorldCounterfactual() as mwc_fi1:\n",
    "    with ExplainCauses(antecedents = antecedents_fi1, antecedent_bias= antencedent_bias,\n",
    "                        witnesses = witnesses_fi,\n",
    "                        consequents = consequents_fi):\n",
    "        with condition(data = observations_fi):\n",
    "            with pyro.plate(\"sample\", 200):\n",
    "                with pyro.poutine.trace() as tr_fi1:\n",
    "                    model_friendly_fire()              "
   ]
  },
  {
   "cell_type": "code",
   "execution_count": 30,
   "metadata": {},
   "outputs": [
    {
     "name": "stdout",
     "output_type": "stream",
     "text": [
      "The antecedent set is not minimal.\n"
     ]
    },
    {
     "data": {
      "text/plain": [
       "False"
      ]
     },
     "execution_count": 30,
     "metadata": {},
     "output_type": "execute_result"
    }
   ],
   "source": [
    "ac_check(tr_fi1, mwc_fi1, antecedents_fi1, witnesses_fi, consequents_fi)"
   ]
  },
  {
   "cell_type": "code",
   "execution_count": 31,
   "metadata": {},
   "outputs": [
    {
     "name": "stdout",
     "output_type": "stream",
     "text": [
      "The antecedent set is an actual cause.\n"
     ]
    },
    {
     "data": {
      "text/plain": [
       "True"
      ]
     },
     "execution_count": 31,
     "metadata": {},
     "output_type": "execute_result"
    }
   ],
   "source": [
    "antecedents_fi2 = {\"f6_PLGR_before\": 0.0}\n",
    "\n",
    "with MultiWorldCounterfactual() as mwc_fi2:\n",
    "    with ExplainCauses(antecedents = antecedents_fi2, antecedent_bias= antencedent_bias,\n",
    "                        witnesses = witnesses_fi,\n",
    "                        consequents = consequents_fi):\n",
    "        with condition(data = observations_fi):\n",
    "            with pyro.plate(\"sample\", 200):\n",
    "                with pyro.poutine.trace() as tr_fi2:\n",
    "                    model_friendly_fire()    \n",
    "                    \n",
    "ac_check(tr_fi2, mwc_fi2, antecedents_fi2, witnesses_fi, consequents_fi)"
   ]
  },
  {
   "cell_type": "markdown",
   "metadata": {},
   "source": [
    "### Voting\n"
   ]
  },
  {
   "cell_type": "code",
   "execution_count": 32,
   "metadata": {},
   "outputs": [],
   "source": [
    "def voting_model():\n",
    "    u_vote0 = pyro.sample(\"u_vote0\", dist.Bernoulli(0.6))\n",
    "    u_vote1 = pyro.sample(\"u_vote1\", dist.Bernoulli(0.6))\n",
    "    u_vote2 = pyro.sample(\"u_vote2\", dist.Bernoulli(0.6))\n",
    "    u_vote3 = pyro.sample(\"u_vote3\", dist.Bernoulli(0.6))\n",
    "    u_vote4 = pyro.sample(\"u_vote4\", dist.Bernoulli(0.6))\n",
    "    u_vote5 = pyro.sample(\"u_vote5\", dist.Bernoulli(0.6))\n",
    "\n",
    "    vote0 = pyro.deterministic(\"vote0\", u_vote0, event_dim=0)\n",
    "    vote1 = pyro.deterministic(\"vote1\", u_vote1, event_dim=0)\n",
    "    vote2 = pyro.deterministic(\"vote2\", u_vote2, event_dim=0)\n",
    "    vote3 = pyro.deterministic(\"vote3\", u_vote3, event_dim=0)\n",
    "    vote4 = pyro.deterministic(\"vote4\", u_vote4, event_dim=0)\n",
    "    vote5 = pyro.deterministic(\"vote5\", u_vote5, event_dim=0)\n",
    "    \n",
    "    outcome = pyro.deterministic(\"outcome\", vote0 + vote1 + vote2 + vote3 + vote4 + vote5 > 3).float()\n",
    "    return {\"outcome\": outcome}\n"
   ]
  },
  {
   "cell_type": "code",
   "execution_count": 33,
   "metadata": {},
   "outputs": [],
   "source": [
    "antecedents_v = {\"vote0\":0.0}\n",
    "outcome_v = [\"outcome\"]\n",
    "witnesses_v = [f\"vote{i}\" for i in range(1,6)]\n",
    "observations_v1 = tensorize_observations(dict(u_vote0=1., u_vote1=1., u_vote2=1.,\n",
    "                        u_vote3=1., u_vote4=0., u_vote5=0.))"
   ]
  },
  {
   "cell_type": "code",
   "execution_count": 34,
   "metadata": {},
   "outputs": [],
   "source": [
    "with MultiWorldCounterfactual() as mwc_v1:\n",
    "    with ExplainCauses(antecedents = antecedents_v, antecedent_bias= antencedent_bias,\n",
    "                        witnesses = witnesses_v,\n",
    "                        consequents = outcome_v):\n",
    "        with condition(data = observations_v1):\n",
    "            with pyro.plate(\"sample\", 200):\n",
    "                with pyro.poutine.trace() as tr_v1:\n",
    "                    voting_model()\n",
    "\n",
    "# if you're one of four voters who voted for, you are an actual cause\n",
    "# of the outcome\n",
    "\n",
    "ac_check(tr_v1, mwc_v1, antecedents_v, witnesses_v1, outcome_v)"
   ]
  },
  {
   "cell_type": "code",
   "execution_count": 36,
   "metadata": {},
   "outputs": [
    {
     "name": "stdout",
     "output_type": "stream",
     "text": [
      "The antecedent set is an actual cause.\n"
     ]
    },
    {
     "data": {
      "text/plain": [
       "True"
      ]
     },
     "execution_count": 36,
     "metadata": {},
     "output_type": "execute_result"
    }
   ],
   "source": []
  },
  {
   "cell_type": "code",
   "execution_count": null,
   "metadata": {},
   "outputs": [],
   "source": [
    "# if you're one of five voters who voted for, you are not an actual cause\n",
    "# of the outcome\n",
    "\n",
    "observations_v2 = tensorize_observations(dict(u_vote0=1., u_vote1=1., u_vote2=1.,\n",
    "                        u_vote3=1., u_vote4=1., u_vote5=0.))\n",
    "\n",
    "with MultiWorldCounterfactual() as mwc_v1:\n",
    "    with ExplainCauses(antecedents = antecedents_v, antecedent_bias= antencedent_bias,\n",
    "                        witnesses = witnesses_v,\n",
    "                        consequents = outcome_v):\n",
    "        with condition(data = observations_v2):\n",
    "            with pyro.plate(\"sample\", 200):\n",
    "                with pyro.poutine.trace() as tr_v1:\n",
    "                    voting_model()"
   ]
  }
 ],
 "metadata": {
  "kernelspec": {
   "display_name": "chirho",
   "language": "python",
   "name": "python3"
  },
  "language_info": {
   "codemirror_mode": {
    "name": "ipython",
    "version": 3
   },
   "file_extension": ".py",
   "mimetype": "text/x-python",
   "name": "python",
   "nbconvert_exporter": "python",
   "pygments_lexer": "ipython3",
   "version": "3.10.11"
  }
 },
 "nbformat": 4,
 "nbformat_minor": 2
}

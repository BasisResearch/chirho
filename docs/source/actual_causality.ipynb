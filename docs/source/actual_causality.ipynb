{
 "cells": [
  {
   "cell_type": "markdown",
   "metadata": {},
   "source": [
    "# Actual Causality and the modified Halpern-Pearl definition"
   ]
  },
  {
   "cell_type": "markdown",
   "metadata": {},
   "source": [
    "**Summary**\n",
    "\n",
    "The **Explainable Reasoning with ChiRho** package aims to provide a systematic, unified approach to actual causality and causal explanation computations in terms of different probabilistic queries over expanded causal models that are constructed from a single generic program transformation applied to an arbitrary causal model represented as a ChiRho program. The approach of reducing causal queries to probabilistic computations on transformed causal models is the foundational idea behind all of ChiRho. Where “actual causality” or \"causal explanation\" queries differ is their use of auxiliary variables representing uncertainty over which interventions or preemptions to apply, implicitly inducing a search space over counterfactuals.\n",
    "\n",
    "The goal of this notebook is to illustrate how the package can be used to provide approximate method of answering actual causality queries in line with the so-called Halpern-Pearl modified definition of actual causality [(J. Halpern, MIT Press, 2016)](https://mitpress.mit.edu/9780262537131/actual-causality/).\n",
    "\n",
    "\n",
    "In another notebook, we illustrate how the package can be used to answer analogous queries related to causal explanation, as defined in the same book."
   ]
  },
  {
   "cell_type": "markdown",
   "metadata": {},
   "source": [
    "**Outline**\n",
    "\n",
    "[Intuitions and formalization](#intuitions-and-formalization)\n",
    "    \n",
    "- [Structural causal models](#structural-causal-models)\n",
    "\n",
    "- [Halpern-Pearl modified definition of actual causality](#halpern-pearl-modified-definition-of-actual-causality)\n",
    "\n",
    "[Implementation](#implementation)\n",
    "\n",
    "[Examples](#examples)\n",
    "\n",
    "- [Comments on example selection](#comments-on-example-selection)\n",
    "  \n",
    "- [Stone-throwing](#stone-throwing)\n",
    "\n",
    "- [Forest fire](#forest-fire)\n",
    "\n",
    "- [Doctors](#doctors)\n",
    "\n",
    "- [Friendly fire](#friendly-fire)\n",
    "\n",
    "\n",
    "\n"
   ]
  },
  {
   "cell_type": "markdown",
   "metadata": {},
   "source": [
    "## Intuitions and formalization"
   ]
  },
  {
   "cell_type": "markdown",
   "metadata": {},
   "source": [
    "Actual causality (sometimes called **token causality** or **specific causality**) is usually contrasted with type causality (sometimes called **general causality**). While the latter is concerned with general statements (such as \"smoking causes cancer\"), actual causality focuses on particular events. For illustration, consider the following causality-related questions:\n",
    "\n",
    "- **Friendly Fire**: On March 24, 2002, A B-52 bomber fired a Joint Direct Attack Munition at a US battalion command post, killing three and injuring twenty special forces soldiers. Out of multiple potential contributing factors, which were **actually** responsible for the incident?\n",
    "  \n",
    "- **Schizophrenia** : The disease arises from the interaction between multiple genetic and environmental factors. Given a particular patient and what we know about them, which of these factors **actually** caused her state?\n",
    "  \n",
    "- **Explainable AI**: Your loan application has been refused. The bank representative informs you the decision was made using predictive modeling to estimate the probability of default. They give you a list of various factors considered in the prediction. But which of these factors **actually** resulted in the rejection, and what were their contributions?\n",
    "  \n",
    "These are questions about **actual causality**. While having answers to such questions is not directly useful for prediction tasks, they are useful for understanding how we can prevent undesirable outcomes similar to ones that we have observed or promote the occurrence of desirable outcomes in contexts similar to the ones in which they had been observed. These context-sensitive causality questions are also an essential element of blame and responsibility assignments, and of at least one prominent account of the notion of explanation.\n",
    "\n",
    "The general intuition behind the notion of actual causality that we will focus on is that a certain state of antecedent nodes is the cause of a given state of the consequent nodes if there is a part of the actual reality such that if it is kept fixed at what it actually is, and we intervened on the antecedent nodes to be in a different state, the consequent nodes would no longer be in the observed states. A proper explication of this notion requires the context of structural causal models -  we first explain what these are, and then move on to the definition."
   ]
  },
  {
   "cell_type": "markdown",
   "metadata": {},
   "source": [
    "### Structural causal models"
   ]
  },
  {
   "cell_type": "markdown",
   "metadata": {},
   "source": [
    "While statistical information might help address questions of actual causality, is not sufficient.  One requires causal theories that explain how the relevant aspects of the world function, as well as information about the actual facts pertaining to the specific case. For this reason, the notion on which we focus in this notebook is formulated within the framework of structural causal models, which can represent such information.\n",
    "\n",
    "The notion is defined in the context of a deterministic structural causal model (SCMs). One major component thereof is a selection of **variables**. For instance, in a very simple model for a forest-fire problem, we might consider a model with three endogenous binary variables: $FF$ (forest fire), $L$ (lightning), and $MD$ (match dropped) whose values are determined by the values of other variables, and two exogenous noise variables $U_{MD}$ and $U_L$ that determine the values of $MD$ and $L$. Moreover, some of those variables/nodes are connected by means of directed **edges**. For instance, in the example at hand, the model contains two edges that go from $U_MD$ to $MD$ and from $U_L$ to $L$ respectively, and two edges that go from $L$ to $FF$ and from $MD$ to $FF$. Each influence is associated with a **structural equation** - for instance, $FF = max(L, MD)$ indicates that a forest fire occurs if either of the two factors occurs. SCMs come also with a **context**, which is the values of **exogenous variables** whose values are not determined by the structural equations, but rather by factors outside the model. In our example, one context might be that both a match has been dropped and a lightning occurred.\n",
    "\n",
    "More formally, a causal model $M$ is a tuple $\\langle S, F\\rangle$, where:\n",
    "\n",
    "- $S$ is a **signature**, that is a tuple $\\langle U, V, R\\rangle$, where $U$ is a set of exogenous variables, $V$ is a set of endogenous variables and $R: U \\cup V \\mapsto R(Y)$, where $R(Y)\\neq \\emptyset$, that is $R$ assigns non-empty ranges to exogenous and endogenous variables.\n",
    "\n",
    "- To each endogenous $X\\in V$, $F$ assigns a function $F_X$, which maps the cross-product of ranges of all variables other than $X$ to $R(X)$. In other words, $F_X$ determines the value of $X$ given the values of other variables in the model (some of them might be redundant in a given equation). The intuition is that these functions correspond to structural equations of the form $X = F_X(U, V)$ which are to be read from right to left: if the values of $U\\cup V$ are fixed to be such-and-such, say $\\vec{u}$ and $\\vec{v}$, this causes $X$ to take the value $F_X(\\vec{u}, \\vec{v})$.\n",
    "\n",
    "A **deterministic causal model** (also called **causal setting**), $\\langle M, \\vec{u}\\rangle$ is a causal model $M$ together with fixed settings $\\vec{u}$ of its exogenous variables $U$. To intervene, say, to make $Y$ have value $y$, is to replace the structural equation for $Y$ of the form $Y = F_Y(U, V)$ with $Y = y$. $\\langle M, \\vec{u}\\rangle \\models [Y \\leftarrow y](X = x)$ means: in the deterministic model obtained from $\\langle M, \\vec{u}\\rangle$ by intervening on $Y$ to have value $y$ $X$ has value $x$. Sometimes, instead of $X = x$, one might be interested in a more general claim $\\varphi$ involving potentially multiple variables, in which case the notation is $\\langle M, \\vec{u}\\rangle \\models [Y \\leftarrow y](\\varphi)$. "
   ]
  },
  {
   "cell_type": "markdown",
   "metadata": {},
   "source": [
    "### Halpern-Pearl modified definition of actual causality"
   ]
  },
  {
   "cell_type": "markdown",
   "metadata": {},
   "source": [
    "It is important to recognize that the straightforward counterfactual strategy, which asks whether the event would have occurred if the antecedent had not taken place, is inadequate as a definition of actual causality. A simple example can help illustrate this point. Suppose I throw a stone, which hits and shatters a bottle. However, just a second later, Bill also throws a stone at the bottle but misses, solely because the bottle was already shattered by my stone. In this scenario, the intuition is that my throw is the cause of the bottle shattering, even though the bottle would still have shattered if I hadn't thrown the stone. \n",
    "This highlights the need for a more elaborate account that considers the actual state, taking into consideration the fact that Bill's stone did not, in fact, hit the bottle. One such account involves the following definition of actual causality:\n",
    "\n",
    "Given an SCM $M$ and a vector of its exogenous variable settings $\\vec{u}$ we'll write $(M, \\vec{u})\\models [ \\vec{Y} \\leftarrow \\vec{y}]\\psi$ just in case $\\psi$ holds in $(M',\\vec{u})$, where $M'$ is the intervened model obtained by replacing the structural equation(s) for $\\vec{Y}$ in $M$ with $\\vec{Y_i} = \\vec{y_i}$. \n",
    "\n",
    "We say that $\\vec{X}=\\vec{x}$ is an actual cause of $\\varphi$ in $(M,\\vec{u})$ just in case:\n",
    "\n",
    "AC1. Factivity: $(M, \\vec{u}) \\models [\\vec{X} = \\vec{x} \\wedge \\varphi]$\n",
    "\n",
    "AC2. Necessity:\n",
    "\n",
    "$\\exists \\vec{W}, \\vec{x}'(M, \\vec{u})\\models [\\vec{X} \\leftarrow \\vec{x}', \\vec{W} = \\vec{w}^{\\star}]   \\neg \\varphi$,\n",
    "where $\\vec{w}^\\star$ are the actual values of $\\vec{W}$, i.e. $(M, \\vec{u}) \\models \\vec{W} = \\vec{w}^\\star$\n",
    "\n",
    "AC3. Minimality: $\\vec{X}$ is a subset-minimal set of potential causes satisfying AC2\n",
    "\n",
    "AC1 requires that both the antecedent and the consequent hold. The intuition behind AC2 is that for $\\vec{X}=\\vec{x}$ to be the actual cause of $\\varphi$, there needs to be a vector of witness nodes $\\vec{W}$ and a vector $\\vec{x'}$ of *alternative* settings of $\\vec{X}$ such that if $\\vec{W}$ are intervened to have their actual values $\\vec{w^\\star}$, and $\\vec{X}$ are intervened to have values $\\vec{x'}$, $\\varphi$ no longer holds in the resulting model. AC3 requires that the antecedent should be a minimal one satisfying AC2."
   ]
  },
  {
   "cell_type": "markdown",
   "metadata": {},
   "source": [
    "## Implementation\n"
   ]
  },
  {
   "cell_type": "code",
   "execution_count": 1,
   "metadata": {},
   "outputs": [],
   "source": [
    "import os\n",
    "import pandas as pd\n",
    "import pyro\n",
    "import pyro.distributions as dist\n",
    "import pyro.distributions.constraints as constraints\n",
    "import pyro.infer\n",
    "import torch\n",
    "from chirho.counterfactual.handlers.counterfactual import MultiWorldCounterfactual\n",
    "from chirho.explainable.handlers import Preemptions, SplitSubsets, SearchForExplanation\n",
    "from chirho.indexed.ops import IndexSet, gather, indices_of\n",
    "from chirho.observational.handlers.condition import condition\n",
    "\n",
    "\n",
    "smoke_test = ('CI' in os.environ)\n",
    "num_samples = 10 if smoke_test else 200"
   ]
  },
  {
   "cell_type": "markdown",
   "metadata": {},
   "source": [
    "Instead of full enumeration, we will be approximating the answers with sampling. In particular, answering an actual causality query requires investigating the consequences of intervening on all possible witness candidate nodes in all possible combinations thereof to have the values they actually have in a given model. While complete enumeration would work for smaller models, we implement a more general approximate method, which draws random sets of witness nodes multiple times and intervenes on those sampled sets. For smaller models (as the one used in our examples), complete coverage of all possible combinations is easily obtained. For larger models complete enumeration becomes less feasible.\n",
    "\n",
    "\n",
    "An SCM in this context is represented by a ChiRho model, where the exogenous variables are stochastic and introduced using `pyro.sample`, and all the endogenous variables are determined by these, and introduced by `pyro.deterministic` (read on for examples). For simplicity we often assume most of the nodes are binary (this assumption can be weakened, read on for details), and that the nodes are discrete. \n",
    "\n",
    "The key role in this implementation is played by (1) the `SearchForExplanation` handler. It takes `antecedents`, `witnesses`, `consequents`, `antecedent_bias` and `witness_bias` and, roughly  speaking, makes three steps:\n",
    "\n",
    "(A) It randomly intervenes on some of the antecedents (each antecedent node having probability `0.5 - bias` of being intervened on, with non-null bias to prefer smaller antedecedent sets) to have an alternative value (either pre-specified, or randomly selected, depending on whether we pass a list of concrete interventions, or distribution constraints).\n",
    "\n",
    "(B) randomly preempts some of the witnesses intervening on them to have the observed value in all counterfactual worlds (the probability of witness preemption is `0.5 + witness_bias`). The intuition here is that the witness-preempted nodes are the part of the actual context that is assumed to be kept fixed in a given interventional scenario (a sample covers multiple such scenarios).\n",
    "\n",
    "(C) adds sites with `log_probs` tracking whether the counterfactual value of any of the consequents is different from its observed value,  marking cases where it doesn't with an extremely low `log_prob` (and a value negligibly close to 0 otherwise). \n",
    "\n",
    "Since those steps are achieved by adding new sites to the model, the model trace can now be inspected to test for actual causality. In particular, if the `log_prob` of the site added in (C) is very low, then the antecedent is definitely not an actual cause of the consequent, as a given interventional setting does not result in a change to the consequent(s). If it is zero, minimality claims are evaluated by investigating the `log_prob_sum` corresponding to the antecedent preemption sites - by default, bias is set to `.1` to prefer smaller causal sets. All in all, an antecedent set is an actual cause if all its nodes and only its nodes are intervened on in the MAP (wrt. to log probs at play) counterfactual world."
   ]
  },
  {
   "cell_type": "code",
   "execution_count": 2,
   "metadata": {},
   "outputs": [],
   "source": [
    "# somewhat boiler-plate sample trace processing, can be skipped by a reader\n",
    "\n",
    "def gather_observed(value, antecedents, witnesses):\n",
    "    _indices = [\n",
    "            i for i in list(antecedents.keys()) + witnesses if i in indices_of(value, event_dim=0)\n",
    "        ]\n",
    "    _int_can = gather(\n",
    "    value, IndexSet(**{i: {0} for i in _indices}), event_dim=0,)\n",
    "    return _int_can\n",
    "\n",
    "def gather_intervened(value, antecedents, witnesses):\n",
    "    _indices = [\n",
    "            i for i in list(antecedents.keys()) + witnesses if i in indices_of(value, event_dim=0)\n",
    "        ]\n",
    "    _int_can = gather(\n",
    "    value, IndexSet(**{i: {1} for i in _indices}), event_dim=0,)\n",
    "    return _int_can\n",
    "\n",
    "\n",
    "def get_table(trace, mwc, antecedents, witnesses, consequents):\n",
    "\n",
    "    values_table = {}\n",
    "    nodes = trace.trace.nodes\n",
    "    witnesses = [key for key, _ in witnesses.items()]\n",
    "\n",
    "    with mwc:\n",
    "\n",
    "        for antecedent_str in antecedents.keys():\n",
    "            \n",
    "            obs_ant = gather_observed(nodes[antecedent_str][\"value\"], antecedents, witnesses)\n",
    "            int_ant = gather_intervened(nodes[antecedent_str][\"value\"], antecedents, witnesses)\n",
    "\n",
    "            values_table[f\"{antecedent_str}_obs\"] = obs_ant.squeeze().tolist()\n",
    "            values_table[f\"{antecedent_str}_int\"] = int_ant.squeeze().tolist()\n",
    "            \n",
    "            apr_ant = nodes[f\"__antecedent_{antecedent_str}\"][\"value\"]\n",
    "            values_table[f\"apr_{antecedent_str}\"] = apr_ant.squeeze().tolist()\n",
    "            \n",
    "            values_table[f\"apr_{antecedent_str}_lp\"] = nodes[f\"__antecedent_{antecedent_str}\"][\"fn\"].log_prob(apr_ant)\n",
    "\n",
    "        if witnesses:\n",
    "            for candidate in witnesses:\n",
    "                obs_candidate = gather_observed(nodes[candidate][\"value\"], antecedents, witnesses)\n",
    "                int_candidate = gather_intervened(nodes[candidate][\"value\"], antecedents, witnesses)\n",
    "                values_table[f\"{candidate}_obs\"] = obs_candidate.squeeze().tolist()\n",
    "                values_table[f\"{candidate}_int\"] = int_candidate.squeeze().tolist()\n",
    "\n",
    "                wpr_con = nodes[f\"__witness_{candidate}\"][\"value\"]\n",
    "                values_table[f\"wpr_{candidate}\"] = wpr_con.squeeze().tolist()\n",
    "            \n",
    "\n",
    "        for consequent in consequents:\n",
    "            obs_consequent = gather_observed(nodes[consequent][\"value\"], antecedents, witnesses)\n",
    "            int_consequent = gather_intervened(nodes[consequent][\"value\"], antecedents, witnesses)\n",
    "            con_lp = nodes[f\"__consequent_{consequent}\"]['fn'].log_prob(torch.tensor(1)) #TODO: this feels like a hack\n",
    "            _indices_lp = [\n",
    "            i for i in list(antecedents.keys()) + witnesses if i in indices_of(con_lp)]\n",
    "            int_con_lp = gather(con_lp, IndexSet(**{i: {1} for i in _indices_lp}), event_dim=0,)      \n",
    "\n",
    "\n",
    "            values_table[f\"{consequent}_obs\"] = obs_consequent.squeeze().tolist()   \n",
    "            values_table[f\"{consequent}_int\"] = int_consequent.squeeze().tolist()\n",
    "            values_table[f\"{consequent}_lp\"] = int_con_lp.squeeze().tolist()   \n",
    "\n",
    "    values_df = pd.DataFrame(values_table)\n",
    "\n",
    "    values_df.drop_duplicates(inplace=True)\n",
    "\n",
    "    summands = [col for col in values_df.columns if col.endswith('lp')]\n",
    "    values_df[\"sum_log_prob\"] =  values_df[summands].sum(axis = 1)\n",
    "    values_df.sort_values(by = \"sum_log_prob\", ascending = False, inplace = True)\n",
    "\n",
    "    return values_df"
   ]
  },
  {
   "cell_type": "code",
   "execution_count": 3,
   "metadata": {},
   "outputs": [],
   "source": [
    "# this reduces the actual causality check to checking a property of the \n",
    "# resulting sums of log probabilities\n",
    "# for the antecedent preemption and the consequent differs nodes\n",
    "\n",
    "def ac_check(trace, mwc, antecedents, witnesses, consequents):\n",
    "\n",
    "     table = get_table(trace, mwc, antecedents, witnesses, consequents)\n",
    "     \n",
    "     if (list(table['sum_log_prob'])[0]<= -1e8):\n",
    "          print(\"No resulting difference to the consequent in the sample.\")\n",
    "          return\n",
    "     \n",
    "     winners = table[table['sum_log_prob'] == table['sum_log_prob'].max()]\n",
    "     \n",
    "\n",
    "     ac_flags = []\n",
    "     for _, row in winners.iterrows():\n",
    "          active_antecedents = []\n",
    "          for antecedent in antecedents:\n",
    "               if row[f\"apr_{antecedent}\"] == 0:\n",
    "                    active_antecedents.append(antecedent)\n",
    "\n",
    "          ac_flags.append(set(active_antecedents) == set(antecedents))\n",
    "\n",
    "     if not any(ac_flags):\n",
    "          print(\"The antecedent set is not minimal.\")\n",
    "     else:\n",
    "          print(\"The antecedent set is an actual cause.\")\n",
    "\n",
    "     return any(ac_flags)"
   ]
  },
  {
   "cell_type": "markdown",
   "metadata": {},
   "source": [
    "## Examples"
   ]
  },
  {
   "cell_type": "markdown",
   "metadata": {},
   "source": [
    "### Comments on example selection\n",
    "\n"
   ]
  },
  {
   "cell_type": "markdown",
   "metadata": {},
   "source": [
    "For the sake of illustration, we reconstruct a few examples, which - with one exception (friendly fire incident) - come from Halpern's book. The selection is as follows:\n",
    "\n",
    "- **Stone throwing:** this is a classic, simple structure in which the but-for clause fails due to over-determination, but an actual causality claim holds (p. 3 of the book).\n",
    "\n",
    "- **Forest fire:** one of the simplest structures illustrating conjunctions being actual causes, and how an event can be part of an actual cause without being an actual cause itself (example 2.3.1, p. 28).\n",
    "\n",
    "- **Doctors:** a simple example illustrating the intransitivity of actual causality (example 2.3.5, p. 37).\n",
    "\n",
    "- **Friendly fire incident:** a real-life example, to illustrate how the tools can be applied outside of a narrow selection of thought experiments. (a causal model developed in a real-life incident investigation, as discussed in the [Incident Reporting using SERAS® Reporter and SERAS® Analyst](https://www.causalis.com/90-publications/99-downloads/) paper)\n",
    "\n",
    "- **Voting:** this illustrates how on this approach a voter is only an actual cause if they can make a difference, but only part of an actual cause otherwise, which motivates reflection on responsibility and blame (example 2.3.2)."
   ]
  },
  {
   "cell_type": "markdown",
   "metadata": {},
   "source": [
    "### Stone-throwing"
   ]
  },
  {
   "cell_type": "markdown",
   "metadata": {},
   "source": [
    "Sally and Billy pick up stones and throw them at a bottle. Sally's stone gets there first, shattering the bottle. Both throws are perfectly accurate, so Billy's stone would have shattered the bottle had it not been preempted by Sally’s throw. (see *Actual Causality*, p. 3 and multiple further points at which the example is discussed in the book)."
   ]
  },
  {
   "cell_type": "code",
   "execution_count": 4,
   "metadata": {},
   "outputs": [],
   "source": [
    "@pyro.infer.config_enumerate\n",
    "def stones_model():        \n",
    "    prob_sally_throws = pyro.sample(\"prob_sally_throws\", dist.Beta(1, 1))\n",
    "    prob_bill_throws = pyro.sample(\"prob_bill_throws\", dist.Beta(1, 1))\n",
    "    prob_sally_hits = pyro.sample(\"prob_sally_hits\", dist.Beta(1, 1))\n",
    "    prob_bill_hits = pyro.sample(\"prob_bill_hits\", dist.Beta(1, 1))\n",
    "    prob_bottle_shatters_if_sally = pyro.sample(\"prob_bottle_shatters_if_sally\", dist.Beta(1, 1))\n",
    "    prob_bottle_shatters_if_bill = pyro.sample(\"prob_bottle_shatters_if_bill\", dist.Beta(1, 1))\n",
    "\n",
    "    sally_throws = pyro.sample(\"sally_throws\", dist.Bernoulli(prob_sally_throws))\n",
    "    bill_throws = pyro.sample(\"bill_throws\", dist.Bernoulli(prob_bill_throws))\n",
    "\n",
    "\n",
    "    new_shp = torch.where(sally_throws == 1,prob_sally_hits, 0.0)\n",
    "\n",
    "    sally_hits = pyro.sample(\"sally_hits\",dist.Bernoulli(new_shp))\n",
    "\n",
    "    new_bhp = torch.where(\n",
    "        bill_throws.bool() & (~sally_hits.bool()),\n",
    "        prob_bill_hits,\n",
    "        torch.tensor(0.0),\n",
    "    )\n",
    "\n",
    "    bill_hits = pyro.sample(\"bill_hits\", dist.Bernoulli(new_bhp))\n",
    "\n",
    "    new_bsp = torch.where(bill_hits.bool(), prob_bottle_shatters_if_bill,\n",
    "            torch.where(sally_hits.bool(),prob_bottle_shatters_if_sally,torch.tensor(0.0),),)\n",
    "\n",
    "    bottle_shatters = pyro.sample(\"bottle_shatters\", dist.Bernoulli(new_bsp))\n",
    "\n",
    "    return {\"sally_throws\": sally_throws, \"bill_throws\": bill_throws,  \"sally_hits\": sally_hits,\n",
    "            \"bill_hits\": bill_hits,  \"bottle_shatters\": bottle_shatters,}\n",
    "\n",
    "stones_model.nodes = [\"sally_throws\",\"bill_throws\", \"sally_hits\", \"bill_hits\",\"bottle_shatters\",]"
   ]
  },
  {
   "cell_type": "code",
   "execution_count": 5,
   "metadata": {},
   "outputs": [],
   "source": [
    "def tensorize_observations(observations):\n",
    "    return {k: torch.as_tensor(v) for k, v in observations.items()}\n",
    "\n",
    "observations = {\"prob_sally_throws\": 1.0, \n",
    "                \"prob_bill_throws\": 1.0,\n",
    "                \"prob_sally_hits\": 1.0,\n",
    "                \"prob_bill_hits\": 1.0,\n",
    "                \"prob_bottle_shatters_if_sally\": 1.0,\n",
    "                \"prob_bottle_shatters_if_bill\": 1.0,\n",
    "                \"sally_throws\": 1.0, \"bill_throws\": 1.0}\n",
    "\n",
    "observations_tensorized = tensorize_observations(observations)\n",
    "\n",
    "# One way to go is to manually specify a single alternative value\n",
    "# which helps if you explicitly want to use a contrastive notion of \n",
    "# actual causality\n",
    "antecedents = {\"sally_throws\": 0.0}\n",
    "antencedent_bias = 0.1\n",
    "witnesses = {\"bill_throws\": constraints.boolean, \"bill_hits\": constraints.boolean}\n",
    "consequents = {\"bottle_shatters\": constraints.boolean}"
   ]
  },
  {
   "cell_type": "code",
   "execution_count": 6,
   "metadata": {},
   "outputs": [],
   "source": [
    "with MultiWorldCounterfactual() as mwc:\n",
    "    with SearchForExplanation(antecedents = antecedents, \n",
    "                       witnesses = witnesses, consequents = consequents,\n",
    "                       consequent_scale= 1e-7):\n",
    "        with condition(data = observations_tensorized):\n",
    "            with pyro.plate(\"sample\", num_samples):\n",
    "                with pyro.poutine.trace() as tr:\n",
    "                    stones_model()"
   ]
  },
  {
   "cell_type": "markdown",
   "metadata": {},
   "source": [
    "Once we process the sample trace, the table contains all the information we need to evaluate an actual causality claim. \n",
    "\n",
    "For any node it contains:\n",
    "- `<node>_obs` and `<node>_int`, the observed and intervened values of that node.\n",
    "\n",
    "If a node is an antecedent candidate:\n",
    "\n",
    "- `apr_<node>`, which marks if the node has been preempted as an antecedent; if the value is `0`, the antecedent intervention has been applied.\n",
    "- `apr_<node>_lp` the log probability corresponding to the auxiliary antecedent preemption variable. Its tracking is needed to minimize the cause set.\n",
    "\n",
    "Moreover, for witness candidates, the table contains:\n",
    "\n",
    "- `wpr_<node>`, which marks whether a node has been preempted (intervened to have the same counterfactual value as the observed value). Since for the actual causality queries, log probabilities for either value are the same, and can be safely ignored.\n",
    "\n",
    "For any consequent node:\n",
    "\n",
    "- `<consequent>_lp`, which tracks in terms of log probabilities whether the counterfactual value of a consequent node differs from its observed value. If it doesn't, the value is extremely low, `-1e8` by default, and it is 0 otherwise. \n",
    "\n",
    "The table then sums up the relevant log probabilities in `sum_log_prob`, which effectively ranks interventional settings by whether a change to the consequent resulted and by how small the antecedent set is."
   ]
  },
  {
   "cell_type": "code",
   "execution_count": 7,
   "metadata": {},
   "outputs": [
    {
     "name": "stdout",
     "output_type": "stream",
     "text": [
      "{'sally_throws': 0.0}\n",
      "{'bill_throws': Boolean(), 'bill_hits': Boolean()}\n"
     ]
    },
    {
     "data": {
      "text/html": [
       "<div>\n",
       "<style scoped>\n",
       "    .dataframe tbody tr th:only-of-type {\n",
       "        vertical-align: middle;\n",
       "    }\n",
       "\n",
       "    .dataframe tbody tr th {\n",
       "        vertical-align: top;\n",
       "    }\n",
       "\n",
       "    .dataframe thead th {\n",
       "        text-align: right;\n",
       "    }\n",
       "</style>\n",
       "<table border=\"1\" class=\"dataframe\">\n",
       "  <thead>\n",
       "    <tr style=\"text-align: right;\">\n",
       "      <th></th>\n",
       "      <th>sally_throws_obs</th>\n",
       "      <th>sally_throws_int</th>\n",
       "      <th>apr_sally_throws</th>\n",
       "      <th>apr_sally_throws_lp</th>\n",
       "      <th>bill_throws_obs</th>\n",
       "      <th>bill_throws_int</th>\n",
       "      <th>wpr_bill_throws</th>\n",
       "      <th>bill_hits_obs</th>\n",
       "      <th>bill_hits_int</th>\n",
       "      <th>wpr_bill_hits</th>\n",
       "      <th>bottle_shatters_obs</th>\n",
       "      <th>bottle_shatters_int</th>\n",
       "      <th>bottle_shatters_lp</th>\n",
       "      <th>sum_log_prob</th>\n",
       "    </tr>\n",
       "  </thead>\n",
       "  <tbody>\n",
       "    <tr>\n",
       "      <th>0</th>\n",
       "      <td>1.0</td>\n",
       "      <td>0.0</td>\n",
       "      <td>0</td>\n",
       "      <td>-0.693147</td>\n",
       "      <td>1.0</td>\n",
       "      <td>1.0</td>\n",
       "      <td>1</td>\n",
       "      <td>0.0</td>\n",
       "      <td>0.0</td>\n",
       "      <td>1</td>\n",
       "      <td>1.0</td>\n",
       "      <td>0.0</td>\n",
       "      <td>-1.192093e-07</td>\n",
       "      <td>-0.693147</td>\n",
       "    </tr>\n",
       "    <tr>\n",
       "      <th>2</th>\n",
       "      <td>1.0</td>\n",
       "      <td>0.0</td>\n",
       "      <td>0</td>\n",
       "      <td>-0.693147</td>\n",
       "      <td>1.0</td>\n",
       "      <td>1.0</td>\n",
       "      <td>0</td>\n",
       "      <td>0.0</td>\n",
       "      <td>0.0</td>\n",
       "      <td>1</td>\n",
       "      <td>1.0</td>\n",
       "      <td>0.0</td>\n",
       "      <td>-1.192093e-07</td>\n",
       "      <td>-0.693147</td>\n",
       "    </tr>\n",
       "    <tr>\n",
       "      <th>1</th>\n",
       "      <td>1.0</td>\n",
       "      <td>1.0</td>\n",
       "      <td>1</td>\n",
       "      <td>-0.693147</td>\n",
       "      <td>1.0</td>\n",
       "      <td>1.0</td>\n",
       "      <td>0</td>\n",
       "      <td>0.0</td>\n",
       "      <td>0.0</td>\n",
       "      <td>0</td>\n",
       "      <td>1.0</td>\n",
       "      <td>1.0</td>\n",
       "      <td>-1.594238e+01</td>\n",
       "      <td>-16.635532</td>\n",
       "    </tr>\n",
       "    <tr>\n",
       "      <th>3</th>\n",
       "      <td>1.0</td>\n",
       "      <td>1.0</td>\n",
       "      <td>1</td>\n",
       "      <td>-0.693147</td>\n",
       "      <td>1.0</td>\n",
       "      <td>1.0</td>\n",
       "      <td>0</td>\n",
       "      <td>0.0</td>\n",
       "      <td>0.0</td>\n",
       "      <td>1</td>\n",
       "      <td>1.0</td>\n",
       "      <td>1.0</td>\n",
       "      <td>-1.594238e+01</td>\n",
       "      <td>-16.635532</td>\n",
       "    </tr>\n",
       "    <tr>\n",
       "      <th>5</th>\n",
       "      <td>1.0</td>\n",
       "      <td>1.0</td>\n",
       "      <td>1</td>\n",
       "      <td>-0.693147</td>\n",
       "      <td>1.0</td>\n",
       "      <td>1.0</td>\n",
       "      <td>1</td>\n",
       "      <td>0.0</td>\n",
       "      <td>0.0</td>\n",
       "      <td>1</td>\n",
       "      <td>1.0</td>\n",
       "      <td>1.0</td>\n",
       "      <td>-1.594238e+01</td>\n",
       "      <td>-16.635532</td>\n",
       "    </tr>\n",
       "    <tr>\n",
       "      <th>6</th>\n",
       "      <td>1.0</td>\n",
       "      <td>1.0</td>\n",
       "      <td>1</td>\n",
       "      <td>-0.693147</td>\n",
       "      <td>1.0</td>\n",
       "      <td>1.0</td>\n",
       "      <td>1</td>\n",
       "      <td>0.0</td>\n",
       "      <td>0.0</td>\n",
       "      <td>0</td>\n",
       "      <td>1.0</td>\n",
       "      <td>1.0</td>\n",
       "      <td>-1.594238e+01</td>\n",
       "      <td>-16.635532</td>\n",
       "    </tr>\n",
       "  </tbody>\n",
       "</table>\n",
       "</div>"
      ],
      "text/plain": [
       "   sally_throws_obs  sally_throws_int  apr_sally_throws  apr_sally_throws_lp  \\\n",
       "0               1.0               0.0                 0            -0.693147   \n",
       "2               1.0               0.0                 0            -0.693147   \n",
       "1               1.0               1.0                 1            -0.693147   \n",
       "3               1.0               1.0                 1            -0.693147   \n",
       "5               1.0               1.0                 1            -0.693147   \n",
       "6               1.0               1.0                 1            -0.693147   \n",
       "\n",
       "   bill_throws_obs  bill_throws_int  wpr_bill_throws  bill_hits_obs  \\\n",
       "0              1.0              1.0                1            0.0   \n",
       "2              1.0              1.0                0            0.0   \n",
       "1              1.0              1.0                0            0.0   \n",
       "3              1.0              1.0                0            0.0   \n",
       "5              1.0              1.0                1            0.0   \n",
       "6              1.0              1.0                1            0.0   \n",
       "\n",
       "   bill_hits_int  wpr_bill_hits  bottle_shatters_obs  bottle_shatters_int  \\\n",
       "0            0.0              1                  1.0                  0.0   \n",
       "2            0.0              1                  1.0                  0.0   \n",
       "1            0.0              0                  1.0                  1.0   \n",
       "3            0.0              1                  1.0                  1.0   \n",
       "5            0.0              1                  1.0                  1.0   \n",
       "6            0.0              0                  1.0                  1.0   \n",
       "\n",
       "   bottle_shatters_lp  sum_log_prob  \n",
       "0       -1.192093e-07     -0.693147  \n",
       "2       -1.192093e-07     -0.693147  \n",
       "1       -1.594238e+01    -16.635532  \n",
       "3       -1.594238e+01    -16.635532  \n",
       "5       -1.594238e+01    -16.635532  \n",
       "6       -1.594238e+01    -16.635532  "
      ]
     },
     "metadata": {},
     "output_type": "display_data"
    }
   ],
   "source": [
    "print(antecedents)\n",
    "print(witnesses)\n",
    "stones_table = get_table(tr, mwc, antecedents, witnesses, consequents)\n",
    "display(stones_table)"
   ]
  },
  {
   "cell_type": "code",
   "execution_count": 8,
   "metadata": {},
   "outputs": [
    {
     "name": "stdout",
     "output_type": "stream",
     "text": [
      "The antecedent set is an actual cause.\n"
     ]
    },
    {
     "data": {
      "text/plain": [
       "True"
      ]
     },
     "execution_count": 8,
     "metadata": {},
     "output_type": "execute_result"
    }
   ],
   "source": [
    "ac_check(tr, mwc, antecedents, witnesses, consequents)"
   ]
  },
  {
   "cell_type": "code",
   "execution_count": 9,
   "metadata": {},
   "outputs": [],
   "source": [
    "# If, more in the spirit of the original definition\n",
    "# we want to search through all possible values of the antecedent,\n",
    "# we can use a constraint instead of specifying the counterfactual value\n",
    "# manually\n",
    "\n",
    "antecedents = {\"sally_hits\": pyro.distributions.constraints.boolean}\n",
    "\n",
    "with MultiWorldCounterfactual() as mwc:\n",
    "    with SearchForExplanation(antecedents = antecedents, \n",
    "                       witnesses = witnesses, consequents = consequents,\n",
    "                       consequent_scale= 1e-8):\n",
    "        with condition(data = observations_tensorized):\n",
    "            with pyro.plate(\"sample\", num_samples):\n",
    "                with pyro.poutine.trace() as tr:\n",
    "                    stones_model()"
   ]
  },
  {
   "cell_type": "code",
   "execution_count": 10,
   "metadata": {},
   "outputs": [
    {
     "data": {
      "text/html": [
       "<div>\n",
       "<style scoped>\n",
       "    .dataframe tbody tr th:only-of-type {\n",
       "        vertical-align: middle;\n",
       "    }\n",
       "\n",
       "    .dataframe tbody tr th {\n",
       "        vertical-align: top;\n",
       "    }\n",
       "\n",
       "    .dataframe thead th {\n",
       "        text-align: right;\n",
       "    }\n",
       "</style>\n",
       "<table border=\"1\" class=\"dataframe\">\n",
       "  <thead>\n",
       "    <tr style=\"text-align: right;\">\n",
       "      <th></th>\n",
       "      <th>sally_hits_obs</th>\n",
       "      <th>sally_hits_int</th>\n",
       "      <th>apr_sally_hits</th>\n",
       "      <th>apr_sally_hits_lp</th>\n",
       "      <th>bill_throws_obs</th>\n",
       "      <th>bill_throws_int</th>\n",
       "      <th>wpr_bill_throws</th>\n",
       "      <th>bill_hits_obs</th>\n",
       "      <th>bill_hits_int</th>\n",
       "      <th>wpr_bill_hits</th>\n",
       "      <th>bottle_shatters_obs</th>\n",
       "      <th>bottle_shatters_int</th>\n",
       "      <th>bottle_shatters_lp</th>\n",
       "      <th>sum_log_prob</th>\n",
       "    </tr>\n",
       "  </thead>\n",
       "  <tbody>\n",
       "    <tr>\n",
       "      <th>5</th>\n",
       "      <td>1.0</td>\n",
       "      <td>0.0</td>\n",
       "      <td>0</td>\n",
       "      <td>-0.693147</td>\n",
       "      <td>1.0</td>\n",
       "      <td>1.0</td>\n",
       "      <td>0</td>\n",
       "      <td>0.0</td>\n",
       "      <td>0.0</td>\n",
       "      <td>1</td>\n",
       "      <td>1.0</td>\n",
       "      <td>0.0</td>\n",
       "      <td>0.0</td>\n",
       "      <td>-0.693147</td>\n",
       "    </tr>\n",
       "    <tr>\n",
       "      <th>0</th>\n",
       "      <td>1.0</td>\n",
       "      <td>1.0</td>\n",
       "      <td>1</td>\n",
       "      <td>-0.693147</td>\n",
       "      <td>1.0</td>\n",
       "      <td>1.0</td>\n",
       "      <td>1</td>\n",
       "      <td>0.0</td>\n",
       "      <td>0.0</td>\n",
       "      <td>1</td>\n",
       "      <td>1.0</td>\n",
       "      <td>1.0</td>\n",
       "      <td>-inf</td>\n",
       "      <td>-inf</td>\n",
       "    </tr>\n",
       "    <tr>\n",
       "      <th>4</th>\n",
       "      <td>1.0</td>\n",
       "      <td>1.0</td>\n",
       "      <td>0</td>\n",
       "      <td>-0.693147</td>\n",
       "      <td>1.0</td>\n",
       "      <td>1.0</td>\n",
       "      <td>1</td>\n",
       "      <td>0.0</td>\n",
       "      <td>0.0</td>\n",
       "      <td>1</td>\n",
       "      <td>1.0</td>\n",
       "      <td>1.0</td>\n",
       "      <td>-inf</td>\n",
       "      <td>-inf</td>\n",
       "    </tr>\n",
       "    <tr>\n",
       "      <th>7</th>\n",
       "      <td>1.0</td>\n",
       "      <td>1.0</td>\n",
       "      <td>1</td>\n",
       "      <td>-0.693147</td>\n",
       "      <td>1.0</td>\n",
       "      <td>1.0</td>\n",
       "      <td>1</td>\n",
       "      <td>0.0</td>\n",
       "      <td>0.0</td>\n",
       "      <td>0</td>\n",
       "      <td>1.0</td>\n",
       "      <td>1.0</td>\n",
       "      <td>-inf</td>\n",
       "      <td>-inf</td>\n",
       "    </tr>\n",
       "    <tr>\n",
       "      <th>9</th>\n",
       "      <td>1.0</td>\n",
       "      <td>1.0</td>\n",
       "      <td>1</td>\n",
       "      <td>-0.693147</td>\n",
       "      <td>1.0</td>\n",
       "      <td>1.0</td>\n",
       "      <td>0</td>\n",
       "      <td>0.0</td>\n",
       "      <td>0.0</td>\n",
       "      <td>0</td>\n",
       "      <td>1.0</td>\n",
       "      <td>1.0</td>\n",
       "      <td>-inf</td>\n",
       "      <td>-inf</td>\n",
       "    </tr>\n",
       "  </tbody>\n",
       "</table>\n",
       "</div>"
      ],
      "text/plain": [
       "   sally_hits_obs  sally_hits_int  apr_sally_hits  apr_sally_hits_lp  \\\n",
       "5             1.0             0.0               0          -0.693147   \n",
       "0             1.0             1.0               1          -0.693147   \n",
       "4             1.0             1.0               0          -0.693147   \n",
       "7             1.0             1.0               1          -0.693147   \n",
       "9             1.0             1.0               1          -0.693147   \n",
       "\n",
       "   bill_throws_obs  bill_throws_int  wpr_bill_throws  bill_hits_obs  \\\n",
       "5              1.0              1.0                0            0.0   \n",
       "0              1.0              1.0                1            0.0   \n",
       "4              1.0              1.0                1            0.0   \n",
       "7              1.0              1.0                1            0.0   \n",
       "9              1.0              1.0                0            0.0   \n",
       "\n",
       "   bill_hits_int  wpr_bill_hits  bottle_shatters_obs  bottle_shatters_int  \\\n",
       "5            0.0              1                  1.0                  0.0   \n",
       "0            0.0              1                  1.0                  1.0   \n",
       "4            0.0              1                  1.0                  1.0   \n",
       "7            0.0              0                  1.0                  1.0   \n",
       "9            0.0              0                  1.0                  1.0   \n",
       "\n",
       "   bottle_shatters_lp  sum_log_prob  \n",
       "5                 0.0     -0.693147  \n",
       "0                -inf          -inf  \n",
       "4                -inf          -inf  \n",
       "7                -inf          -inf  \n",
       "9                -inf          -inf  "
      ]
     },
     "metadata": {},
     "output_type": "display_data"
    }
   ],
   "source": [
    "# now our samples include some cases where the antecedent intervention\n",
    "# was the same as the observed value; this does not change the result,\n",
    "# as the __consequent_ log prob is practically -inf in these cases\n",
    "\n",
    "stones_table = get_table(tr, mwc, antecedents, witnesses, consequents)\n",
    "display(stones_table)"
   ]
  },
  {
   "cell_type": "code",
   "execution_count": 11,
   "metadata": {},
   "outputs": [
    {
     "name": "stdout",
     "output_type": "stream",
     "text": [
      "The antecedent set is an actual cause.\n"
     ]
    },
    {
     "data": {
      "text/plain": [
       "True"
      ]
     },
     "execution_count": 11,
     "metadata": {},
     "output_type": "execute_result"
    }
   ],
   "source": [
    "# the result of the actual causality check is the same as before\n",
    "\n",
    "ac_check(tr, mwc, antecedents, witnesses, consequents)\n",
    "\n",
    "# since we're dealing with binary antecedents in this notebook,\n",
    "# we'll keep using the contrastive notion in what follows"
   ]
  },
  {
   "cell_type": "code",
   "execution_count": 12,
   "metadata": {},
   "outputs": [],
   "source": [
    "# in contrast, this antecedent set is not minimal\n",
    "antecedents2 = {\"sally_throws\": 0.0, \"bill_throws\": 0.0}\n",
    "witnesses2 = {\"bill_hits\": constraints.boolean} \n",
    "\n",
    "with MultiWorldCounterfactual() as mwc2:\n",
    "    with SearchForExplanation(antecedents = antecedents2, antecedent_bias= antencedent_bias,\n",
    "                        witnesses = witnesses2,\n",
    "                        consequents = consequents,\n",
    "                        consequent_scale= 1e-8):\n",
    "        with condition(data = observations_tensorized):\n",
    "            with pyro.plate(\"sample\", num_samples):\n",
    "                with pyro.poutine.trace() as tr2:\n",
    "                    stones_model()"
   ]
  },
  {
   "cell_type": "code",
   "execution_count": 13,
   "metadata": {},
   "outputs": [
    {
     "name": "stdout",
     "output_type": "stream",
     "text": [
      "The antecedent set is an actual cause.\n"
     ]
    },
    {
     "data": {
      "text/plain": [
       "True"
      ]
     },
     "execution_count": 13,
     "metadata": {},
     "output_type": "execute_result"
    }
   ],
   "source": [
    "stones_table2 = get_table(tr2, mwc2, antecedents2, witnesses2, consequents)\n",
    "ac_check(tr2, mwc2, antecedents2, witnesses2, consequents)"
   ]
  },
  {
   "cell_type": "markdown",
   "metadata": {},
   "source": [
    "### Forest fire"
   ]
  },
  {
   "cell_type": "markdown",
   "metadata": {},
   "source": [
    "In this simplified model, a forest fire was caused by lightning or an arsonist, so we use three endogenous variables, and two exogenous variables corresponding to the two factors. In the conjunctive model,\n",
    "both of the factors have to be present for the fire to start. In the disjunctive model, each of them alone is sufficient."
   ]
  },
  {
   "cell_type": "code",
   "execution_count": 14,
   "metadata": {},
   "outputs": [],
   "source": [
    "def ff_conjunctive():\n",
    "    u_match_dropped = pyro.sample(\"u_match_dropped\", dist.Bernoulli(0.5))\n",
    "    u_lightning = pyro.sample(\"u_lightning\", dist.Bernoulli(0.5))\n",
    "\n",
    "    match_dropped = pyro.deterministic(\"match_dropped\",\n",
    "                                       u_match_dropped, event_dim=0)\n",
    "    lightning = pyro.deterministic(\"lightning\", u_lightning, event_dim=0)\n",
    "    forest_fire = pyro.deterministic(\"forest_fire\", match_dropped.bool() & lightning.bool(),\n",
    "                                     event_dim=0).float()\n",
    "\n",
    "    return {\"match_dropped\": match_dropped, \"lightning\": lightning,\n",
    "            \"forest_fire\": forest_fire}"
   ]
  },
  {
   "cell_type": "code",
   "execution_count": 15,
   "metadata": {},
   "outputs": [],
   "source": [
    "def ff_disjunctive():\n",
    "    u_match_dropped = pyro.sample(\"u_match_dropped\", dist.Bernoulli(0.5))\n",
    "    u_lightning = pyro.sample(\"u_lightning\", dist.Bernoulli(0.5))\n",
    "\n",
    "    match_dropped = pyro.deterministic(\"match_dropped\",\n",
    "                                       u_match_dropped, event_dim=0)\n",
    "    lightning = pyro.deterministic(\"lightning\", u_lightning, event_dim=0)\n",
    "    forest_fire = pyro.deterministic(\"forest_fire\", match_dropped.bool() | lightning.bool(), event_dim=0).float()\n",
    "\n",
    "    return {\"match_dropped\": match_dropped, \"lightning\": lightning,\n",
    "            \"forest_fire\": forest_fire}\n"
   ]
  },
  {
   "cell_type": "code",
   "execution_count": 16,
   "metadata": {},
   "outputs": [],
   "source": [
    "antecedents_ff = {\"match_dropped\": 0.0}\n",
    "witnesses_ff = {\"lightning\": constraints.boolean}\n",
    "consequents_ff = {\"forest_fire\": constraints.boolean}\n",
    "observations_ff = tensorize_observations({\"match_dropped\": 1.0, \"lightning\": 1.0})"
   ]
  },
  {
   "cell_type": "code",
   "execution_count": 17,
   "metadata": {},
   "outputs": [],
   "source": [
    "with MultiWorldCounterfactual() as mwc_ff:\n",
    "    with SearchForExplanation(antecedents = antecedents_ff, antecedent_bias= antencedent_bias,\n",
    "                        witnesses = witnesses_ff,\n",
    "                        consequents = consequents_ff,\n",
    "                        consequent_scale= 1e-8):\n",
    "        with condition(data = observations_ff):\n",
    "            with pyro.plate(\"sample\", num_samples):\n",
    "                with pyro.poutine.trace() as tr_ff:\n",
    "                    ff_conjunctive()"
   ]
  },
  {
   "cell_type": "code",
   "execution_count": 18,
   "metadata": {},
   "outputs": [
    {
     "name": "stdout",
     "output_type": "stream",
     "text": [
      "The antecedent set is an actual cause.\n"
     ]
    },
    {
     "data": {
      "text/plain": [
       "True"
      ]
     },
     "execution_count": 18,
     "metadata": {},
     "output_type": "execute_result"
    }
   ],
   "source": [
    "# In the conjunctive model \n",
    "# Each of the two factors is a but-for cause\n",
    "\n",
    "ac_check(tr_ff, mwc_ff, antecedents_ff, witnesses_ff, consequents_ff)"
   ]
  },
  {
   "cell_type": "code",
   "execution_count": 19,
   "metadata": {},
   "outputs": [],
   "source": [
    "# In the disjunctive model \n",
    "# there still would be fire if there was no lightning\n",
    "\n",
    "with MultiWorldCounterfactual() as mwc_ffd:\n",
    "    with SearchForExplanation(antecedents = antecedents_ff,\n",
    "                        antecedent_bias= antencedent_bias,\n",
    "                        witnesses = witnesses_ff,\n",
    "                        consequents = consequents_ff,\n",
    "                        consequent_scale = 1e-8):\n",
    "        with condition(data = observations_ff):\n",
    "            with pyro.plate(\"sample\", num_samples):\n",
    "                with pyro.poutine.trace() as tr_ffd:\n",
    "                    ff_disjunctive()"
   ]
  },
  {
   "cell_type": "code",
   "execution_count": 20,
   "metadata": {},
   "outputs": [
    {
     "name": "stdout",
     "output_type": "stream",
     "text": [
      "No resulting difference to the consequent in the sample.\n"
     ]
    }
   ],
   "source": [
    "ac_check(tr_ffd, mwc_ffd, antecedents_ff, witnesses_ff, consequents_ff)"
   ]
  },
  {
   "cell_type": "code",
   "execution_count": 21,
   "metadata": {},
   "outputs": [],
   "source": [
    "# in the disjunctive model\n",
    "# the actual cause is the composition of the two factors\n",
    "\n",
    "antecedents_ffd2 = {\"match_dropped\": 0.0, \"lightning\":0.0}\n",
    "witnesses_ffd2 = {}\n",
    "\n",
    "with MultiWorldCounterfactual() as mwc_ffd2:\n",
    "    with SearchForExplanation(antecedents = antecedents_ffd2, antecedent_bias= antencedent_bias,\n",
    "                        witnesses = witnesses_ffd2,\n",
    "                        consequents = consequents_ff,\n",
    "                        consequent_scale= 1e-8):\n",
    "        with condition(data = observations_ff):\n",
    "            with pyro.plate(\"sample\", num_samples):\n",
    "                with pyro.poutine.trace() as tr_ffd2:\n",
    "                    ff_disjunctive()"
   ]
  },
  {
   "cell_type": "code",
   "execution_count": 22,
   "metadata": {},
   "outputs": [
    {
     "name": "stdout",
     "output_type": "stream",
     "text": [
      "No resulting difference to the consequent in the sample.\n"
     ]
    }
   ],
   "source": [
    "ac_check(tr_ffd2, mwc_ffd2, antecedents_ffd2, witnesses_ffd2, consequents_ff)"
   ]
  },
  {
   "cell_type": "markdown",
   "metadata": {},
   "source": [
    "### Doctors"
   ]
  },
  {
   "cell_type": "markdown",
   "metadata": {},
   "source": [
    "This example illustrates that actual causality is not, in general, transitive. One doctor is responsible for administering the medicine on Monday, and if she does, Bill recovers on Tuesday.\n",
    "Another doctor is reliable and treats Bill on Tuesday if the first doctor failed to do so on Monday. If both doctors treat Bill, he is in `condition1`, dead on Wednesday. Otherwise, he is either healthy on Tuesday (`condition2`) or healthy on Wednesday (`condition3`), or did not receive any treatment and feels worse but is alive on Wednesday (`condition4`).\n",
    "\n",
    "Now suppose Bill did receive treatment on Monday. This is an actual cause of his not receiving treatment on Tuesday, and the latter is an actual cause of his being alive on Wednesday. However, there is nothing that the first doctor could do to cause Bill to be dead on Wednesday."
   ]
  },
  {
   "cell_type": "code",
   "execution_count": 23,
   "metadata": {},
   "outputs": [],
   "source": [
    "def bc_function(mt, tt):\n",
    "    condition1 = (mt == 1) & (tt == 1)\n",
    "    condition2 = (mt == 1) & (tt == 0)\n",
    "    condition3 = (mt == 0) & (tt == 1)\n",
    "    condition4 = ~(condition1 | condition2 | condition3)\n",
    "\n",
    "    output = torch.where(condition1, torch.tensor(3.0), torch.tensor(0.0))\n",
    "    output = torch.where(condition2, torch.tensor(0.0), output)\n",
    "    output = torch.where(condition3, torch.tensor(1.0), output)\n",
    "    output = torch.where(condition4, torch.tensor(2.0), output)\n",
    "\n",
    "    return output\n",
    "\n",
    "\n",
    "def model_doctors():\n",
    "    u_monday_treatment = pyro.sample(\"u_monday_treatment\", dist.Bernoulli(0.5))\n",
    "\n",
    "    monday_treatment = pyro.deterministic(\n",
    "        \"monday_treatment\", u_monday_treatment, event_dim=0\n",
    "    )\n",
    "\n",
    "    tuesday_treatment = pyro.deterministic(\n",
    "        \"tuesday_treatment\",\n",
    "        torch.logical_not(monday_treatment).float(),\n",
    "        event_dim=0,\n",
    "    )\n",
    "\n",
    "    bills_condition = pyro.deterministic(\n",
    "        \"bills_condition\",\n",
    "        bc_function(monday_treatment, tuesday_treatment),\n",
    "        event_dim=0,\n",
    "    )\n",
    "\n",
    "    bill_alive = pyro.deterministic(\n",
    "        \"bill_alive\", bills_condition.not_equal(3.0).float(), event_dim=0\n",
    "    )\n",
    "\n",
    "    return {\n",
    "        \"monday_treatment\": monday_treatment,\n",
    "        \"tuesday_treatment\": tuesday_treatment,\n",
    "        \"bills_condition\": bills_condition,\n",
    "        \"bill_alive\": bill_alive,\n",
    "    }"
   ]
  },
  {
   "cell_type": "code",
   "execution_count": 24,
   "metadata": {},
   "outputs": [],
   "source": [
    "antecedents_doc1 = {\"monday_treatment\": 0.0}\n",
    "witnesses_doc = {}\n",
    "consequents_doc1 = {\"tuesday_treatment\": constraints.boolean}\n",
    "observations_doc = tensorize_observations({\"u_monday_treatment\": 1.0})"
   ]
  },
  {
   "cell_type": "code",
   "execution_count": 25,
   "metadata": {},
   "outputs": [
    {
     "name": "stdout",
     "output_type": "stream",
     "text": [
      "The antecedent set is an actual cause.\n"
     ]
    },
    {
     "data": {
      "text/plain": [
       "True"
      ]
     },
     "execution_count": 25,
     "metadata": {},
     "output_type": "execute_result"
    }
   ],
   "source": [
    "# The first actual causal link holds\n",
    "\n",
    "with MultiWorldCounterfactual() as mwc_doc1:\n",
    "    with SearchForExplanation(antecedents = antecedents_doc1, antecedent_bias= antencedent_bias,\n",
    "                        witnesses = witnesses_doc,\n",
    "                        consequents = consequents_doc1,\n",
    "                        consequent_scale= 1e-8):\n",
    "        with condition(data = observations_doc):\n",
    "            with pyro.plate(\"sample\", num_samples):\n",
    "                with pyro.poutine.trace() as tr_doc1:\n",
    "                    model_doctors()\n",
    "                    \n",
    "ac_check(tr_doc1, mwc_doc1, antecedents_doc1, witnesses_doc, consequents_doc1)"
   ]
  },
  {
   "cell_type": "code",
   "execution_count": 26,
   "metadata": {},
   "outputs": [
    {
     "name": "stdout",
     "output_type": "stream",
     "text": [
      "The antecedent set is an actual cause.\n"
     ]
    },
    {
     "data": {
      "text/plain": [
       "True"
      ]
     },
     "execution_count": 26,
     "metadata": {},
     "output_type": "execute_result"
    }
   ],
   "source": [
    "# So does the second\n",
    "\n",
    "antecedents_doc2 = {\"tuesday_treatment\": 1.0}\n",
    "consequents_doc2 = {\"bill_alive\": constraints.boolean}\n",
    "\n",
    "\n",
    "with MultiWorldCounterfactual() as mwc_doc2:\n",
    "    with SearchForExplanation(antecedents = antecedents_doc2, antecedent_bias= antencedent_bias,\n",
    "                        witnesses = witnesses_doc,\n",
    "                        consequents = consequents_doc2,\n",
    "                        consequent_scale= 1e-8):\n",
    "        with condition(data = observations_doc):\n",
    "            with pyro.plate(\"sample\", num_samples):\n",
    "                with pyro.poutine.trace() as tr_doc2:\n",
    "                    model_doctors()\n",
    "\n",
    "ac_check(tr_doc2, mwc_doc2, antecedents_doc2, witnesses_doc, consequents_doc2)"
   ]
  },
  {
   "cell_type": "code",
   "execution_count": 27,
   "metadata": {},
   "outputs": [
    {
     "name": "stdout",
     "output_type": "stream",
     "text": [
      "No resulting difference to the consequent in the sample.\n"
     ]
    }
   ],
   "source": [
    "# The third does not, so transitivity fails!\n",
    "\n",
    "with MultiWorldCounterfactual() as mwc_doc3:\n",
    "    with SearchForExplanation(antecedents = antecedents_doc1, antecedent_bias= antencedent_bias,\n",
    "                        witnesses = witnesses_doc,\n",
    "                        consequents = consequents_doc2,\n",
    "                        consequent_scale= 1e-8):\n",
    "        with condition(data = observations_doc):\n",
    "            with pyro.plate(\"sample\", num_samples):\n",
    "                with pyro.poutine.trace() as tr_doc3:\n",
    "                    model_doctors()\n",
    "\n",
    "ac_check(tr_doc3, mwc_doc3, antecedents_doc1, witnesses_doc, consequents_doc2)"
   ]
  },
  {
   "cell_type": "markdown",
   "metadata": {},
   "source": [
    "### Friendly fire\n"
   ]
  },
  {
   "cell_type": "markdown",
   "metadata": {},
   "source": [
    "\n",
    "This comes from a causal model developed in a real-life incident investigation, as discussed in the [Incident Reporting using SERAS® Reporter and SERAS® Analyst](https://www.causalis.com/90-publications/99-downloads/) paper.\n",
    "\n",
    "A U.S. Special Forces air controller changing the battery on a Global Positioning System device he was using to target a Taliban outpost north of Kandahar. Three special forces soldiers were killed and 20 were injured when a 2,000-pound, satellite-guided bomb landed, not on the Taliban outpost, but on a battalion command post occupied by American forces and a group of Afghan allies, including Hamid Karzai, now the interim prime minister. The Air Force combat controller was using a Precision Lightweight GPS Receiver to calculate the Taliban's coordinates for the attack. The controller did not realize that after he changed the device's battery, the machine was programmed to automatically come back on displaying coordinates for its own location, the official said.\n",
    "\n",
    "Minutes before the B-52 strike, the controller had used the GPS receiver to\n",
    "calculate the latitude and longitude of the Taliban position in minutes and seconds for an airstrike by a Navy F/A-18. Then, with the B-52 approaching the target, the air controller did a second calculation in “degree decimals” required by the bomber crew.  The controller had performed the calculation and recorded the position, when the receiver battery died. Without realizing the machine was programmed to come back on showing the coordinates of its\n",
    "own location, the controller mistakenly called in the American position to the B-52.\n",
    "\n",
    "Factors included in the model (will be connected in the model as specified in the original report):\n",
    "\n",
    "1. The air controller changed the battery on the PLGR\n",
    "2. Three special forces soldiers were killed and 20 were injured\n",
    "3. B-52 fired a JDAM bomb at the Allied position\n",
    "4. The air controller was using the PLGR to calculate the Taliban's coordinates\n",
    "5. The controller did not realize that the PLGR was programmed to automatically come back on displaying coordinates for its own location\n",
    "6. The controller had used the PLGR to calculate the latitude and longitude of the Taliban position in minutes and seconds for an airstrike by a Navy F/A-18\n",
    "7. The air controller did a second calculation in “degree decimals” required by the bomber crew\n",
    "8. The controller had performed the calculation and recorded the position\n",
    "9. The controller mistakenly called in the American position to the B-52\n",
    "10. The B-52 fired a JDAM bomb at the Allied position\n",
    "11. The U.S. Air Force and Army had a training problem\n",
    "12. The PLRG resumed displaying the coordinates of its own location after the battery was changed\n",
    "13. The battery died at the crucial time\n",
    "14. The controller thought he was calling in the Taliban position\n",
    "\n",
    "We will encode the model and show that in such somewhat more complicated cases, answers to `ac_check` queries are also intuitive."
   ]
  },
  {
   "cell_type": "code",
   "execution_count": 28,
   "metadata": {},
   "outputs": [],
   "source": [
    "\n",
    "def model_friendly_fire():\n",
    "    u_f4_PLGR_now = pyro.sample(\"u_f4_PLGR_now\", dist.Bernoulli(0.5))\n",
    "    u_f11_training = pyro.sample(\"u_f11_training\", dist.Bernoulli(0.5))\n",
    "\n",
    "    f4_PLGR_now = pyro.deterministic(\"f4_PLGR_now\", u_f4_PLGR_now, event_dim=0)\n",
    "    f11_training = pyro.deterministic(\n",
    "        \"f11_training\", u_f11_training, event_dim=0\n",
    "    )\n",
    "\n",
    "    f6_PLGR_before = pyro.deterministic(\n",
    "        \"f6_PLGR_before\", f4_PLGR_now, event_dim=0\n",
    "    )\n",
    "    f7_second_calculation = pyro.deterministic(\n",
    "        \"f7_second_calculation\", f4_PLGR_now, event_dim=0\n",
    "    )\n",
    "    f13_battery_died = pyro.deterministic(\n",
    "        \"f13_battery_died\",\n",
    "        f6_PLGR_before.bool() & f7_second_calculation.bool(),\n",
    "        event_dim=0,\n",
    "    )\n",
    "\n",
    "    f1_battery_change = pyro.deterministic(\n",
    "        \"f1_battery_change\", f13_battery_died, event_dim=0\n",
    "    )\n",
    "\n",
    "    f12_PLGR_after = pyro.deterministic(\n",
    "        \"f12_PLGR_after\", f1_battery_change, event_dim=0\n",
    "    )\n",
    "\n",
    "    f5_unaware = pyro.deterministic(\"f5_unaware\", f11_training, event_dim=0)\n",
    "\n",
    "    f14_wrong_position = pyro.deterministic(\n",
    "        \"f14_wrong_position\", f5_unaware, event_dim=0\n",
    "    )\n",
    "\n",
    "    f9_mistake_call = pyro.deterministic(\n",
    "        \"f9_mistake_call\",\n",
    "            f12_PLGR_after.bool() & \n",
    "            f14_wrong_position.bool(),\n",
    "        event_dim=0,\n",
    "    )\n",
    "\n",
    "    f3_fired = pyro.deterministic(\"f3_fired\", f9_mistake_call, event_dim=0)\n",
    "\n",
    "    f10_landed = pyro.deterministic(\n",
    "        \"f10_landed\", f3_fired.bool() &  f9_mistake_call.bool(), event_dim=0\n",
    "    )\n",
    "\n",
    "    f2_killed = pyro.deterministic(\"f2_killed\", f10_landed, event_dim=0)\n",
    "\n",
    "    return {\n",
    "        \"f1_battery_change\": f1_battery_change,\n",
    "        \"f2_killed\": f2_killed,\n",
    "        \"f3_fired\": f3_fired,\n",
    "        \"f4_PLGR_now\": f4_PLGR_now,\n",
    "        \"f5_unaware\": f5_unaware,\n",
    "        \"f6_PLGR_before\": f6_PLGR_before,\n",
    "        \"f7_second_calculation\": f7_second_calculation,\n",
    "        \"f9_mistake_call\": f9_mistake_call,\n",
    "        \"f10_landed\": f10_landed,\n",
    "        \"f11_training\": f11_training,\n",
    "        \"f12_PLGR_after\": f12_PLGR_after,\n",
    "        \"f13_battery_died\": f13_battery_died,\n",
    "        \"f14_wrong_position\": f14_wrong_position,\n",
    "    }"
   ]
  },
  {
   "cell_type": "code",
   "execution_count": 29,
   "metadata": {},
   "outputs": [],
   "source": [
    "def convert_to_bool(list):\n",
    "    return {key: constraints.boolean for key in list}\n",
    "\n",
    "antecedents_fi1 = {\"f6_PLGR_before\": 0.0, \"f7_second_calculation\": 0.0}\n",
    "consequents_fi = convert_to_bool([\"f2_killed\"])\n",
    "witnesses_fi  = convert_to_bool([\"f4_PLGR_now\",\"f5_unaware\", \"f11_training\", \"f14_wrong_position\"])\n",
    "observations_fi = tensorize_observations({\"u_f4_PLGR_now\": 1.0, \"u_f11_training\": 1.0})"
   ]
  },
  {
   "cell_type": "code",
   "execution_count": 30,
   "metadata": {},
   "outputs": [],
   "source": [
    "with MultiWorldCounterfactual() as mwc_fi1:\n",
    "    with SearchForExplanation(antecedents = antecedents_fi1, antecedent_bias= antencedent_bias,\n",
    "                        witnesses = witnesses_fi,\n",
    "                        consequents = consequents_fi,\n",
    "                        consequent_scale= 1e-8):\n",
    "        with condition(data = observations_fi):\n",
    "            with pyro.plate(\"sample\", num_samples):\n",
    "                with pyro.poutine.trace() as tr_fi1:\n",
    "                    model_friendly_fire()              "
   ]
  },
  {
   "cell_type": "code",
   "execution_count": 31,
   "metadata": {},
   "outputs": [
    {
     "name": "stdout",
     "output_type": "stream",
     "text": [
      "The antecedent set is not minimal.\n"
     ]
    },
    {
     "data": {
      "text/plain": [
       "False"
      ]
     },
     "execution_count": 31,
     "metadata": {},
     "output_type": "execute_result"
    }
   ],
   "source": [
    "ac_check(tr_fi1, mwc_fi1, antecedents_fi1, witnesses_fi, consequents_fi)"
   ]
  },
  {
   "cell_type": "code",
   "execution_count": 32,
   "metadata": {},
   "outputs": [
    {
     "name": "stdout",
     "output_type": "stream",
     "text": [
      "The antecedent set is an actual cause.\n"
     ]
    },
    {
     "data": {
      "text/plain": [
       "True"
      ]
     },
     "execution_count": 32,
     "metadata": {},
     "output_type": "execute_result"
    }
   ],
   "source": [
    "antecedents_fi2 = {\"f6_PLGR_before\": 0.0}\n",
    "\n",
    "with MultiWorldCounterfactual() as mwc_fi2:\n",
    "    with SearchForExplanation(antecedents = antecedents_fi2, antecedent_bias= antencedent_bias,\n",
    "                        witnesses = witnesses_fi,\n",
    "                        consequents = consequents_fi,\n",
    "                        consequent_scale= 1e-8):\n",
    "        with condition(data = observations_fi):\n",
    "            with pyro.plate(\"sample\", num_samples):\n",
    "                with pyro.poutine.trace() as tr_fi2:\n",
    "                    model_friendly_fire()    \n",
    "                    \n",
    "ac_check(tr_fi2, mwc_fi2, antecedents_fi2, witnesses_fi, consequents_fi)"
   ]
  },
  {
   "cell_type": "markdown",
   "metadata": {},
   "source": [
    "### Voting\n"
   ]
  },
  {
   "cell_type": "markdown",
   "metadata": {},
   "source": [
    "The main reason why the voting models are interesting in this context is that we are interested in the role of particular voters in the coming about of the result. The intuition is that a voter might play are role or be blamed for not voting even if her vote is not decisive. This should be handled by the notion of responsibility. For now, we just notice that the notion of actual causality at play is not enough to capture these intuitions. Say you give one vote in a binary majority vote, `vote0`, you vote \"for\", and there are six other voters.  "
   ]
  },
  {
   "cell_type": "code",
   "execution_count": 33,
   "metadata": {},
   "outputs": [],
   "source": [
    "def voting_model():\n",
    "    u_vote0 = pyro.sample(\"u_vote0\", dist.Bernoulli(0.6))\n",
    "    u_vote1 = pyro.sample(\"u_vote1\", dist.Bernoulli(0.6))\n",
    "    u_vote2 = pyro.sample(\"u_vote2\", dist.Bernoulli(0.6))\n",
    "    u_vote3 = pyro.sample(\"u_vote3\", dist.Bernoulli(0.6))\n",
    "    u_vote4 = pyro.sample(\"u_vote4\", dist.Bernoulli(0.6))\n",
    "    u_vote5 = pyro.sample(\"u_vote5\", dist.Bernoulli(0.6))\n",
    "\n",
    "    vote0 = pyro.deterministic(\"vote0\", u_vote0, event_dim=0)\n",
    "    vote1 = pyro.deterministic(\"vote1\", u_vote1, event_dim=0)\n",
    "    vote2 = pyro.deterministic(\"vote2\", u_vote2, event_dim=0)\n",
    "    vote3 = pyro.deterministic(\"vote3\", u_vote3, event_dim=0)\n",
    "    vote4 = pyro.deterministic(\"vote4\", u_vote4, event_dim=0)\n",
    "    vote5 = pyro.deterministic(\"vote5\", u_vote5, event_dim=0)\n",
    "    \n",
    "    outcome = pyro.deterministic(\"outcome\", vote0 + vote1 + vote2 + vote3 + vote4 + vote5 > 3).float()\n",
    "    return {\"outcome\": outcome}\n"
   ]
  },
  {
   "cell_type": "code",
   "execution_count": 34,
   "metadata": {},
   "outputs": [],
   "source": [
    "antecedents_v = {\"vote0\":0.0}\n",
    "outcome_v = convert_to_bool([\"outcome\"])\n",
    "witnesses_v = convert_to_bool([f\"vote{i}\" for i in range(1,6)])\n",
    "observations_v1 = tensorize_observations(dict(u_vote0=1., u_vote1=1., u_vote2=1.,\n",
    "                        u_vote3=1., u_vote4=0., u_vote5=0.))"
   ]
  },
  {
   "cell_type": "code",
   "execution_count": 35,
   "metadata": {},
   "outputs": [
    {
     "name": "stdout",
     "output_type": "stream",
     "text": [
      "The antecedent set is an actual cause.\n"
     ]
    },
    {
     "data": {
      "text/plain": [
       "True"
      ]
     },
     "execution_count": 35,
     "metadata": {},
     "output_type": "execute_result"
    }
   ],
   "source": [
    "with MultiWorldCounterfactual() as mwc_v1:\n",
    "    with SearchForExplanation(antecedents = antecedents_v, antecedent_bias= antencedent_bias,\n",
    "                        witnesses = witnesses_v,\n",
    "                        consequents = outcome_v,\n",
    "                        consequent_scale= 1e-8):\n",
    "        with condition(data = observations_v1):\n",
    "            with pyro.plate(\"sample\", num_samples):\n",
    "                with pyro.poutine.trace() as tr_v1:\n",
    "                    voting_model()\n",
    "\n",
    "# if you're one of four voters who voted for, you are an actual cause\n",
    "# of the outcome\n",
    "\n",
    "ac_check(tr_v1, mwc_v1, antecedents_v, witnesses_v, outcome_v)"
   ]
  },
  {
   "cell_type": "code",
   "execution_count": 36,
   "metadata": {},
   "outputs": [
    {
     "name": "stdout",
     "output_type": "stream",
     "text": [
      "No resulting difference to the consequent in the sample.\n"
     ]
    }
   ],
   "source": [
    "# if you're one of five voters who voted for, you are not an actual cause\n",
    "# of the outcome\n",
    "\n",
    "observations_v2 = tensorize_observations(dict(u_vote0=1., u_vote1=1., u_vote2=1.,\n",
    "                        u_vote3=1., u_vote4=1., u_vote5=0.))\n",
    "\n",
    "with MultiWorldCounterfactual() as mwc_v2:\n",
    "    with SearchForExplanation(antecedents = antecedents_v, antecedent_bias= antencedent_bias,\n",
    "                        witnesses = witnesses_v,\n",
    "                        consequents = outcome_v,\n",
    "                        consequent_scale= 1e-8):\n",
    "        with condition(data = observations_v2):\n",
    "            with pyro.plate(\"sample\", num_samples):\n",
    "                with pyro.poutine.trace() as tr_v2:\n",
    "                    voting_model()\n",
    "                    \n",
    "ac_check(tr_v2, mwc_v2, antecedents_v, witnesses_v, outcome_v)"
   ]
  },
  {
   "cell_type": "code",
   "execution_count": 37,
   "metadata": {},
   "outputs": [
    {
     "name": "stdout",
     "output_type": "stream",
     "text": [
      "The antecedent set is an actual cause.\n"
     ]
    },
    {
     "data": {
      "text/plain": [
       "True"
      ]
     },
     "execution_count": 37,
     "metadata": {},
     "output_type": "execute_result"
    }
   ],
   "source": [
    "antecedents_v3 = {\"vote0\":0.0, \"vote1\": 0.0}\n",
    "witnesses_v3 = convert_to_bool([f\"vote{i}\" for i in range(2,6)])\n",
    "\n",
    "with MultiWorldCounterfactual() as mwc_v3:\n",
    "    with SearchForExplanation(antecedents = antecedents_v3, antecedent_bias= antencedent_bias,\n",
    "                        witnesses = witnesses_v3,\n",
    "                        consequents = outcome_v,\n",
    "                        consequent_scale= 1e-8):\n",
    "        with condition(data = observations_v2):\n",
    "            with pyro.plate(\"sample\", num_samples):\n",
    "                with pyro.poutine.trace() as tr_v3:\n",
    "                    voting_model()\n",
    "\n",
    "ac_check(tr_v3, mwc_v3, antecedents_v3, witnesses_v3, outcome_v)"
   ]
  }
 ],
 "metadata": {
  "kernelspec": {
   "display_name": "chirho",
   "language": "python",
   "name": "python3"
  },
  "language_info": {
   "codemirror_mode": {
    "name": "ipython",
    "version": 3
   },
   "file_extension": ".py",
   "mimetype": "text/x-python",
   "name": "python",
   "nbconvert_exporter": "python",
   "pygments_lexer": "ipython3",
   "version": "3.10.13"
  }
 },
 "nbformat": 4,
 "nbformat_minor": 2
}

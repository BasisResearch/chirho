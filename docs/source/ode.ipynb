{
 "cells": [
  {
   "cell_type": "code",
   "execution_count": 1,
   "metadata": {},
   "outputs": [],
   "source": [
    "%reload_ext autoreload\n",
    "%autoreload 2\n",
    "\n",
    "import causal_pyro\n",
    "import pyro\n",
    "import torch\n",
    "\n",
    "from pyro.distributions import Normal, Uniform"
   ]
  },
  {
   "cell_type": "code",
   "execution_count": 3,
   "metadata": {},
   "outputs": [],
   "source": [
    "import pyro\n",
    "import torch\n",
    "from pyro.distributions import constraints\n",
    "\n",
    "from causal_pyro.dynamical.ops import State, simulate\n",
    "from causal_pyro.dynamical.handlers import (\n",
    "    ODEDynamics,\n",
    "    PointInterruption,\n",
    "    PointIntervention,\n",
    "    simulate,\n",
    ")\n",
    "\n",
    "\n",
    "class SimpleSIRDynamics(ODEDynamics):\n",
    "    @pyro.nn.PyroParam(constraint=constraints.positive)\n",
    "    def beta(self):\n",
    "        return torch.tensor(0.5)\n",
    "\n",
    "    @pyro.nn.PyroParam(constraint=constraints.positive)\n",
    "    def gamma(self):\n",
    "        return torch.tensor(0.7)\n",
    "\n",
    "    def diff(self, dX: State[torch.Tensor], X: State[torch.Tensor]):\n",
    "        dX.S = -self.beta * X.S * X.I\n",
    "        dX.I = self.beta * X.S * X.I - self.gamma * X.I\n",
    "        dX.R = self.gamma * X.I\n",
    "\n",
    "\n",
    "SIR_simple_model = SimpleSIRDynamics()\n",
    "\n",
    "init_state = State(S=torch.tensor(1.0), I=torch.tensor(2.0), R=torch.tensor(3.3))\n",
    "tspan = torch.tensor([1.0, 2.0, 3.0, 4.0])\n",
    "\n",
    "new_state = State(S=torch.tensor(1.0), I=torch.tensor(2.0), R=torch.tensor(3.3))\n",
    "\n",
    "with PointIntervention(time=2.99, intervention=new_state):\n",
    "    result1 = simulate(SIR_simple_model, init_state, tspan)\n",
    "\n",
    "result2 = simulate(SIR_simple_model, init_state, tspan)"
   ]
  }
 ],
 "metadata": {
  "kernelspec": {
   "display_name": "causal_pyro",
   "language": "python",
   "name": "python3"
  },
  "language_info": {
   "codemirror_mode": {
    "name": "ipython",
    "version": 3
   },
   "file_extension": ".py",
   "mimetype": "text/x-python",
   "name": "python",
   "nbconvert_exporter": "python",
   "pygments_lexer": "ipython3",
   "version": "3.9.15"
  },
  "orig_nbformat": 4
 },
 "nbformat": 4,
 "nbformat_minor": 2
}

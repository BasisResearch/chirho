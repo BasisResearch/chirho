{
 "cells": [
  {
   "cell_type": "code",
   "execution_count": 3,
   "metadata": {},
   "outputs": [],
   "source": [
    "%reload_ext autoreload\n",
    "%autoreload 2\n",
    "\n",
    "import causal_pyro\n",
    "import pyro\n",
    "import torch\n",
    "\n",
    "from pyro.distributions import Normal, Uniform"
   ]
  },
  {
   "cell_type": "code",
   "execution_count": 6,
   "metadata": {},
   "outputs": [],
   "source": [
    "import pyro\n",
    "import torch\n",
    "from pyro.distributions import constraints\n",
    "\n",
    "from causal_pyro.dynamical.ops import State, simulate\n",
    "from causal_pyro.dynamical.handlers import ODEDynamics, PointInterruption, simulate\n",
    "\n",
    "\n",
    "class SimpleSIRDynamics(ODEDynamics):\n",
    "    @pyro.nn.PyroParam(constraint=constraints.positive)\n",
    "    def beta(self):\n",
    "        return torch.tensor(0.5)\n",
    "\n",
    "    @pyro.nn.PyroParam(constraint=constraints.positive)\n",
    "    def gamma(self):\n",
    "        return torch.tensor(0.7)\n",
    "\n",
    "    def diff(self, dX: State[torch.Tensor], X: State[torch.Tensor]):\n",
    "        dX.S = -self.beta * X.S * X.I\n",
    "        dX.I = self.beta * X.S * X.I - self.gamma * X.I\n",
    "        dX.R = self.gamma * X.I\n",
    "\n",
    "\n",
    "SIR_simple_model = SimpleSIRDynamics()\n",
    "\n",
    "init_state = State(S=torch.tensor(1.0), I=torch.tensor(2.0), R=torch.tensor(3.3))\n",
    "tspan = torch.tensor([1.0, 2.0, 3.0, 4.0])\n",
    "with PointInterruption(time=2.5):\n",
    "    result1 = simulate(SIR_simple_model, init_state, tspan)\n",
    "\n",
    "result2 = simulate(SIR_simple_model, init_state, tspan)"
   ]
  },
  {
   "cell_type": "code",
   "execution_count": 10,
   "metadata": {},
   "outputs": [
    {
     "data": {
      "text/plain": [
       "tensor([2.0000, 1.3780, 0.8036, 0.4435], grad_fn=<CatBackward0>)"
      ]
     },
     "execution_count": 10,
     "metadata": {},
     "output_type": "execute_result"
    }
   ],
   "source": [
    "getattr(result1, \"I\")"
   ]
  },
  {
   "cell_type": "code",
   "execution_count": 11,
   "metadata": {},
   "outputs": [
    {
     "data": {
      "text/plain": [
       "tensor([2.0000, 1.3780, 0.8036, 0.4435], grad_fn=<ViewBackward0>)"
      ]
     },
     "execution_count": 11,
     "metadata": {},
     "output_type": "execute_result"
    }
   ],
   "source": [
    "getattr(result2, \"I\")"
   ]
  },
  {
   "cell_type": "code",
   "execution_count": 4,
   "metadata": {},
   "outputs": [
    {
     "ename": "SyntaxError",
     "evalue": "invalid syntax (761673210.py, line 31)",
     "output_type": "error",
     "traceback": [
      "\u001b[0;36m  Cell \u001b[0;32mIn[4], line 31\u001b[0;36m\u001b[0m\n\u001b[0;31m    intervention_data = {\"SI_flux\": (torch.tensor([1.7]) torch.tensor([0.0]))}\u001b[0m\n\u001b[0m                                                         ^\u001b[0m\n\u001b[0;31mSyntaxError\u001b[0m\u001b[0;31m:\u001b[0m invalid syntax\n"
     ]
    }
   ],
   "source": [
    "def ODE_example():\n",
    "    # Hidden markov model with SIR ODE as latent\n",
    "    \n",
    "    beta  = pyro.sample(\"beta\", Uniform(0, 1))\n",
    "    gamma = pyro.sample(\"gamma\", Uniform(0, 1)) \n",
    "    \n",
    "    \n",
    "    def SIR(dX, X):\n",
    "        \n",
    "        # TODO: Think about how to deal with name collisions below.\n",
    "        SI_flux = pyro.deterministic(\"SI_flux\", beta * X.S * X.I)\n",
    "        IR_flux = pyro.deterministic(\"IR_flux\", gamma * X.I)\n",
    "\n",
    "        dX.S = -SI_flux\n",
    "        dX.I = SI_flux - IR_flux\n",
    "        dX.R = IR_flux\n",
    "\n",
    "        # TODO: Think about how to deal with names below.\n",
    "        pyro.sample(\"S_obs\", Normal(X.S, 1.))\n",
    "        return X.S\n",
    "\n",
    "    init_state = {\"S\": 1.0, \"I\": 2.0, \"R\": 3.3, \"t\": 0.0}\n",
    "    tspan = torch.tensor([1., 2., 3.])\n",
    "\n",
    "    # Some representation of time, variable, and value.\n",
    "    # This draft representation states that we observe `S_obs` at t=1.5 at value 3.7 and at t=2.5 at value 3.9.\n",
    "    observed_data = {\"S_obs\": (torch.tensor([1.5, 2.5]), torch.tensor([3.7, 3.9]))}\n",
    "\n",
    "    # This draft representation says that we intervene to set `SI_flux` at t=1.7 to value 0.0 \n",
    "    # for the rest of the simulation.\n",
    "    intervention_data = {\"SI_flux\": (torch.tensor([1.7]) torch.tensor([0.0]))}\n",
    "\n",
    "\n",
    "    with ODE_solver():\n",
    "        with condition(data=observed_data):\n",
    "            with intervene(data=intervention_data, type=\"continuous\"):\n",
    "                S = simulate(SIR, init_state, tspan)"
   ]
  },
  {
   "cell_type": "code",
   "execution_count": null,
   "metadata": {},
   "outputs": [],
   "source": []
  }
 ],
 "metadata": {
  "kernelspec": {
   "display_name": "causal_pyro",
   "language": "python",
   "name": "python3"
  },
  "language_info": {
   "codemirror_mode": {
    "name": "ipython",
    "version": 3
   },
   "file_extension": ".py",
   "mimetype": "text/x-python",
   "name": "python",
   "nbconvert_exporter": "python",
   "pygments_lexer": "ipython3",
   "version": "3.9.15"
  },
  "orig_nbformat": 4
 },
 "nbformat": 4,
 "nbformat_minor": 2
}

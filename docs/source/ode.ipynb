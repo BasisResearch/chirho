{
 "cells": [
  {
   "cell_type": "code",
   "execution_count": 2,
   "metadata": {},
   "outputs": [],
   "source": [
    "import causal_pyro\n",
    "import pyro\n",
    "import torch\n",
    "\n",
    "from pyro.distributions import Normal, Uniform\n"
   ]
  },
  {
   "cell_type": "code",
   "execution_count": null,
   "metadata": {},
   "outputs": [],
   "source": [
    "def ODE_example():\n",
    "    # Hidden markov model with SIR ODE as latent\n",
    "    \n",
    "    beta  = pyro.sample(\"beta\", Uniform(0, 1))\n",
    "    gamma = pyro.sample(\"gamma\", Uniform(0, 1)) \n",
    "    \n",
    "    def SIR(dX, X):\n",
    "        \n",
    "        # TODO: Think about how to deal with name collisions below.\n",
    "        SI_flux = pyro.deterministic(\"SI_flux\", beta * X.S * X.I)\n",
    "        IR_flux = pyro.deterministic(\"IR_flux\", gamma * X.I)\n",
    "\n",
    "        dX.S = -SI_flux\n",
    "        dX.I = SI_flux - IR_flux\n",
    "        dX.R = IR_flux\n",
    "\n",
    "        # TODO: Think about how to deal with names below.\n",
    "        pyro.sample(\"S_obs\", Normal(X.S, 1.))\n",
    "        return X.S\n",
    "\n",
    "    init_state = {\"S\": 1.0, \"I\": 2.0, \"R\": 3.3, \"t\": 0.0}\n",
    "    tspan = torch.tensor([1., 2., 3.])\n",
    "\n",
    "    # Some representation of time, variable, and value.\n",
    "    # This draft representation states that we observe `S_obs` at t=1.5 at value 3.7 and at t=2.5 at value 3.9.\n",
    "    observed_data = {\"S_obs\": (torch.tensor([1.5, 2.5]), torch.tensor([3.7, 3.9]))}\n",
    "\n",
    "    # This draft representation says that we intervene to set `SI_flux` at t=1.7 to value 0.0 \n",
    "    # for the rest of the simulation.\n",
    "    intervention_data = {\"SI_flux\": (torch.tensor([1.7]) torch.tensor([0.0]))}\n",
    "\n",
    "\n",
    "    with ODE_solver():\n",
    "        with condition(data=observed_data):\n",
    "            with intervene(data=intervention_data, type=\"continuous\"):\n",
    "                S = simulate(SIR, init_state, tspan)"
   ]
  }
 ],
 "metadata": {
  "kernelspec": {
   "display_name": "causal_pyro",
   "language": "python",
   "name": "python3"
  },
  "language_info": {
   "codemirror_mode": {
    "name": "ipython",
    "version": 3
   },
   "file_extension": ".py",
   "mimetype": "text/x-python",
   "name": "python",
   "nbconvert_exporter": "python",
   "pygments_lexer": "ipython3",
   "version": "3.9.15"
  },
  "orig_nbformat": 4
 },
 "nbformat": 4,
 "nbformat_minor": 2
}

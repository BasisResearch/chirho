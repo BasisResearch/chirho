{
 "cells": [
  {
   "cell_type": "code",
   "execution_count": 4,
   "metadata": {},
   "outputs": [],
   "source": [
    "%reload_ext autoreload\n",
    "%autoreload 2\n",
    "\n",
    "import pyro\n",
    "import torch\n",
    "from pyro.distributions import constraints, Normal\n",
    "\n",
    "from causal_pyro.dynamical.ops import State, simulate\n",
    "from causal_pyro.dynamical.handlers import (\n",
    "    ODEDynamics,\n",
    "    PointInterruption,\n",
    "    PointIntervention,\n",
    "    PointObservation,\n",
    "    simulate,\n",
    "    SimulatorEventLoop\n",
    ")"
   ]
  },
  {
   "cell_type": "code",
   "execution_count": 5,
   "metadata": {},
   "outputs": [],
   "source": [
    "class SimpleSIRDynamics(ODEDynamics):\n",
    "    @pyro.nn.PyroParam(constraint=constraints.positive)\n",
    "    def beta(self):\n",
    "        return torch.tensor(0.5)\n",
    "\n",
    "    @pyro.nn.PyroParam(constraint=constraints.positive)\n",
    "    def gamma(self):\n",
    "        return torch.tensor(0.7)\n",
    "\n",
    "    def diff(self, dX: State[torch.Tensor], X: State[torch.Tensor]):\n",
    "        dX.S = -self.beta * X.S * X.I\n",
    "        dX.I = self.beta * X.S * X.I - self.gamma * X.I\n",
    "        dX.R = self.gamma * X.I\n",
    "\n",
    "    def observation(self, X: State[torch.Tensor]):\n",
    "        S_obs = pyro.sample(\"S_obs\", Normal(X.S, 1))\n",
    "        I_obs = pyro.sample(\"I_obs\", Normal(X.I, 1))\n",
    "        R_obs = pyro.sample(\"R_obs\", Normal(X.R, 1))\n",
    "        usa_expected_cost = torch.relu(S_obs + 2 * I_obs - R_obs)\n",
    "        pyro.sample(\"usa_cost\", Normal(usa_expected_cost, 1))"
   ]
  },
  {
   "cell_type": "code",
   "execution_count": 13,
   "metadata": {},
   "outputs": [],
   "source": [
    "SIR_simple_model = SimpleSIRDynamics()\n",
    "\n",
    "init_state = State(S=torch.tensor(1.0), I=torch.tensor(2.0), R=torch.tensor(3.3))\n",
    "tspan = torch.tensor([1.0, 2.0, 3.0, 4.0])\n",
    "\n",
    "new_state = State(S=torch.tensor(40.0))\n",
    "S_obs = torch.tensor(10.0)\n",
    "\n",
    "data1 = {\"S_obs\": S_obs}\n",
    "data2 = {\"I_obs\": torch.tensor(5.0), \"R_obs\": torch.tensor(5.0)}\n",
    "\n",
    "with pyro.poutine.trace() as tr:\n",
    "    with SimulatorEventLoop():\n",
    "        with PointIntervention(time=1.9, intervention=new_state):\n",
    "            with PointObservation(time=3.1, data=data2):\n",
    "                with PointObservation(time=2.9, data=data1):\n",
    "                    result = simulate(SIR_simple_model, init_state, tspan)"
   ]
  },
  {
   "cell_type": "code",
   "execution_count": 14,
   "metadata": {},
   "outputs": [
    {
     "data": {
      "text/plain": [
       "State({'S': tensor([1.0000e+00, 3.2501e+01, 2.8348e-05, 1.1969e-08],\n",
       "       grad_fn=<CatBackward0>), 'I': tensor([ 2.0000,  8.6541, 21.6219, 10.7371], grad_fn=<CatBackward0>), 'R': tensor([ 3.3000,  4.6885, 24.2216, 35.1064], grad_fn=<CatBackward0>)})"
      ]
     },
     "execution_count": 14,
     "metadata": {},
     "output_type": "execute_result"
    }
   ],
   "source": [
    "result"
   ]
  },
  {
   "cell_type": "code",
   "execution_count": 16,
   "metadata": {},
   "outputs": [
    {
     "data": {
      "text/plain": [
       "tensor(-387.0764, grad_fn=<AddBackward0>)"
      ]
     },
     "execution_count": 16,
     "metadata": {},
     "output_type": "execute_result"
    }
   ],
   "source": [
    "tr.get_trace().log_prob_sum()"
   ]
  },
  {
   "cell_type": "code",
   "execution_count": null,
   "metadata": {},
   "outputs": [],
   "source": []
  }
 ],
 "metadata": {
  "kernelspec": {
   "display_name": "causal_pyro",
   "language": "python",
   "name": "python3"
  },
  "language_info": {
   "codemirror_mode": {
    "name": "ipython",
    "version": 3
   },
   "file_extension": ".py",
   "mimetype": "text/x-python",
   "name": "python",
   "nbconvert_exporter": "python",
   "pygments_lexer": "ipython3",
   "version": "3.9.15"
  },
  "orig_nbformat": 4
 },
 "nbformat": 4,
 "nbformat_minor": 2
}

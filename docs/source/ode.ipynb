{
 "cells": [
  {
   "cell_type": "code",
   "execution_count": 3,
   "metadata": {},
   "outputs": [],
   "source": [
    "%reload_ext autoreload\n",
    "%autoreload 2\n",
    "\n",
    "import causal_pyro\n",
    "import pyro\n",
    "import torch\n",
    "\n",
    "from pyro.distributions import Normal, Uniform"
   ]
  },
  {
   "cell_type": "code",
   "execution_count": null,
   "metadata": {},
   "outputs": [],
   "source": [
    "def ODE_example():\n",
    "    # Hidden markov model with SIR ODE as latent\n",
    "    \n",
    "    beta  = pyro.sample(\"beta\", Uniform(0, 1))\n",
    "    gamma = pyro.sample(\"gamma\", Uniform(0, 1)) \n",
    "    \n",
    "    def SIR(dX, X):\n",
    "        \n",
    "        # TODO: Think about how to deal with name collisions below.\n",
    "        SI_flux = pyro.deterministic(\"SI_flux\", beta * X.S * X.I)\n",
    "        IR_flux = pyro.deterministic(\"IR_flux\", gamma * X.I)\n",
    "\n",
    "        dX.S = -SI_flux\n",
    "        dX.I = SI_flux - IR_flux\n",
    "        dX.R = IR_flux\n",
    "\n",
    "        # TODO: Think about how to deal with names below.\n",
    "        pyro.sample(\"S_obs\", Normal(X.S, 1.))\n",
    "        return X.S\n",
    "\n",
    "    init_state = {\"S\": 1.0, \"I\": 2.0, \"R\": 3.3, \"t\": 0.0}\n",
    "    tspan = torch.tensor([1., 2., 3.])\n",
    "\n",
    "    # Some representation of time, variable, and value.\n",
    "    # This draft representation states that we observe `S_obs` at t=1.5 at value 3.7 and at t=2.5 at value 3.9.\n",
    "    observed_data = {\"S_obs\": (torch.tensor([1.5, 2.5]), torch.tensor([3.7, 3.9]))}\n",
    "\n",
    "    # This draft representation says that we intervene to set `SI_flux` at t=1.7 to value 0.0 \n",
    "    # for the rest of the simulation.\n",
    "    intervention_data = {\"SI_flux\": (torch.tensor([1.7]) torch.tensor([0.0]))}\n",
    "\n",
    "\n",
    "    with ODE_solver():\n",
    "        with condition(data=observed_data):\n",
    "            with intervene(data=intervention_data, type=\"continuous\"):\n",
    "                S = simulate(SIR, init_state, tspan)"
   ]
  },
  {
   "cell_type": "code",
   "execution_count": 1,
   "metadata": {},
   "outputs": [
    {
     "ename": "TypeError",
     "evalue": "rand() received an invalid combination of arguments - got (), but expected one of:\n * (tuple of ints size, *, torch.Generator generator, tuple of names names, torch.dtype dtype, torch.layout layout, torch.device device, bool pin_memory, bool requires_grad)\n * (tuple of ints size, *, torch.Generator generator, Tensor out, torch.dtype dtype, torch.layout layout, torch.device device, bool pin_memory, bool requires_grad)\n * (tuple of ints size, *, Tensor out, torch.dtype dtype, torch.layout layout, torch.device device, bool pin_memory, bool requires_grad)\n * (tuple of ints size, *, tuple of names names, torch.dtype dtype, torch.layout layout, torch.device device, bool pin_memory, bool requires_grad)\n",
     "output_type": "error",
     "traceback": [
      "\u001b[0;31m---------------------------------------------------------------------------\u001b[0m",
      "\u001b[0;31mTypeError\u001b[0m                                 Traceback (most recent call last)",
      "Cell \u001b[0;32mIn[1], line 29\u001b[0m\n\u001b[1;32m     26\u001b[0m init_state \u001b[39m=\u001b[39m State(S\u001b[39m=\u001b[39mtorch\u001b[39m.\u001b[39mtensor(\u001b[39m1.0\u001b[39m), I\u001b[39m=\u001b[39mtorch\u001b[39m.\u001b[39mtensor(\u001b[39m2.0\u001b[39m), R\u001b[39m=\u001b[39mtorch\u001b[39m.\u001b[39mtensor(\u001b[39m3.3\u001b[39m))\n\u001b[1;32m     27\u001b[0m tspan \u001b[39m=\u001b[39m torch\u001b[39m.\u001b[39mtensor([\u001b[39m1.0\u001b[39m, \u001b[39m2.0\u001b[39m, \u001b[39m3.0\u001b[39m])\n\u001b[0;32m---> 29\u001b[0m result \u001b[39m=\u001b[39m simulate(SIR_simple_model, init_state, tspan)\n",
      "File \u001b[0;32m~/opt/anaconda3/envs/causal_pyro/lib/python3.9/functools.py:888\u001b[0m, in \u001b[0;36msingledispatch.<locals>.wrapper\u001b[0;34m(*args, **kw)\u001b[0m\n\u001b[1;32m    884\u001b[0m \u001b[39mif\u001b[39;00m \u001b[39mnot\u001b[39;00m args:\n\u001b[1;32m    885\u001b[0m     \u001b[39mraise\u001b[39;00m \u001b[39mTypeError\u001b[39;00m(\u001b[39mf\u001b[39m\u001b[39m'\u001b[39m\u001b[39m{\u001b[39;00mfuncname\u001b[39m}\u001b[39;00m\u001b[39m requires at least \u001b[39m\u001b[39m'\u001b[39m\n\u001b[1;32m    886\u001b[0m                     \u001b[39m'\u001b[39m\u001b[39m1 positional argument\u001b[39m\u001b[39m'\u001b[39m)\n\u001b[0;32m--> 888\u001b[0m \u001b[39mreturn\u001b[39;00m dispatch(args[\u001b[39m0\u001b[39;49m]\u001b[39m.\u001b[39;49m\u001b[39m__class__\u001b[39;49m)(\u001b[39m*\u001b[39;49margs, \u001b[39m*\u001b[39;49m\u001b[39m*\u001b[39;49mkw)\n",
      "File \u001b[0;32m~/Desktop/Research/causal_pyro/causal_pyro/dynamical/handlers.py:49\u001b[0m, in \u001b[0;36mode_simulate\u001b[0;34m(dynamics, initial_state, timespan, **kwargs)\u001b[0m\n\u001b[1;32m     43\u001b[0m \u001b[39m@simulate\u001b[39m\u001b[39m.\u001b[39mregister\n\u001b[1;32m     44\u001b[0m \u001b[39mdef\u001b[39;00m \u001b[39mode_simulate\u001b[39m(\n\u001b[1;32m     45\u001b[0m     dynamics: ODEDynamics, initial_state: State[torch\u001b[39m.\u001b[39mTensor], timespan, \u001b[39m*\u001b[39m\u001b[39m*\u001b[39mkwargs\n\u001b[1;32m     46\u001b[0m ):\n\u001b[1;32m     47\u001b[0m     var_order \u001b[39m=\u001b[39m \u001b[39mtuple\u001b[39m(\u001b[39msorted\u001b[39m(initial_state\u001b[39m.\u001b[39mkeys))  \u001b[39m# arbitrary, but fixed\u001b[39;00m\n\u001b[0;32m---> 49\u001b[0m     solns \u001b[39m=\u001b[39m torchdiffeq\u001b[39m.\u001b[39;49modeint(\n\u001b[1;32m     50\u001b[0m         functools\u001b[39m.\u001b[39;49mpartial(dynamics\u001b[39m.\u001b[39;49m_deriv, var_order),\n\u001b[1;32m     51\u001b[0m         \u001b[39mtuple\u001b[39;49m(\u001b[39mgetattr\u001b[39;49m(initial_state, v) \u001b[39mfor\u001b[39;49;00m v \u001b[39min\u001b[39;49;00m var_order),\n\u001b[1;32m     52\u001b[0m         timespan,\n\u001b[1;32m     53\u001b[0m         \u001b[39m*\u001b[39;49m\u001b[39m*\u001b[39;49mkwargs\n\u001b[1;32m     54\u001b[0m     )\n\u001b[1;32m     56\u001b[0m     trajectory \u001b[39m=\u001b[39m State()\n\u001b[1;32m     57\u001b[0m     \u001b[39mfor\u001b[39;00m var, soln \u001b[39min\u001b[39;00m \u001b[39mzip\u001b[39m(var_order, solns):\n",
      "File \u001b[0;32m~/opt/anaconda3/envs/causal_pyro/lib/python3.9/site-packages/torchdiffeq/_impl/odeint.py:77\u001b[0m, in \u001b[0;36modeint\u001b[0;34m(func, y0, t, rtol, atol, method, options, event_fn)\u001b[0m\n\u001b[1;32m     74\u001b[0m solver \u001b[39m=\u001b[39m SOLVERS[method](func\u001b[39m=\u001b[39mfunc, y0\u001b[39m=\u001b[39my0, rtol\u001b[39m=\u001b[39mrtol, atol\u001b[39m=\u001b[39matol, \u001b[39m*\u001b[39m\u001b[39m*\u001b[39moptions)\n\u001b[1;32m     76\u001b[0m \u001b[39mif\u001b[39;00m event_fn \u001b[39mis\u001b[39;00m \u001b[39mNone\u001b[39;00m:\n\u001b[0;32m---> 77\u001b[0m     solution \u001b[39m=\u001b[39m solver\u001b[39m.\u001b[39;49mintegrate(t)\n\u001b[1;32m     78\u001b[0m \u001b[39melse\u001b[39;00m:\n\u001b[1;32m     79\u001b[0m     event_t, solution \u001b[39m=\u001b[39m solver\u001b[39m.\u001b[39mintegrate_until_event(t[\u001b[39m0\u001b[39m], event_fn)\n",
      "File \u001b[0;32m~/opt/anaconda3/envs/causal_pyro/lib/python3.9/site-packages/torchdiffeq/_impl/solvers.py:28\u001b[0m, in \u001b[0;36mAdaptiveStepsizeODESolver.integrate\u001b[0;34m(self, t)\u001b[0m\n\u001b[1;32m     26\u001b[0m solution[\u001b[39m0\u001b[39m] \u001b[39m=\u001b[39m \u001b[39mself\u001b[39m\u001b[39m.\u001b[39my0\n\u001b[1;32m     27\u001b[0m t \u001b[39m=\u001b[39m t\u001b[39m.\u001b[39mto(\u001b[39mself\u001b[39m\u001b[39m.\u001b[39mdtype)\n\u001b[0;32m---> 28\u001b[0m \u001b[39mself\u001b[39;49m\u001b[39m.\u001b[39;49m_before_integrate(t)\n\u001b[1;32m     29\u001b[0m \u001b[39mfor\u001b[39;00m i \u001b[39min\u001b[39;00m \u001b[39mrange\u001b[39m(\u001b[39m1\u001b[39m, \u001b[39mlen\u001b[39m(t)):\n\u001b[1;32m     30\u001b[0m     solution[i] \u001b[39m=\u001b[39m \u001b[39mself\u001b[39m\u001b[39m.\u001b[39m_advance(t[i])\n",
      "File \u001b[0;32m~/opt/anaconda3/envs/causal_pyro/lib/python3.9/site-packages/torchdiffeq/_impl/rk_common.py:161\u001b[0m, in \u001b[0;36mRKAdaptiveStepsizeODESolver._before_integrate\u001b[0;34m(self, t)\u001b[0m\n\u001b[1;32m    159\u001b[0m \u001b[39mdef\u001b[39;00m \u001b[39m_before_integrate\u001b[39m(\u001b[39mself\u001b[39m, t):\n\u001b[1;32m    160\u001b[0m     t0 \u001b[39m=\u001b[39m t[\u001b[39m0\u001b[39m]\n\u001b[0;32m--> 161\u001b[0m     f0 \u001b[39m=\u001b[39m \u001b[39mself\u001b[39;49m\u001b[39m.\u001b[39;49mfunc(t[\u001b[39m0\u001b[39;49m], \u001b[39mself\u001b[39;49m\u001b[39m.\u001b[39;49my0)\n\u001b[1;32m    162\u001b[0m     \u001b[39mif\u001b[39;00m \u001b[39mself\u001b[39m\u001b[39m.\u001b[39mfirst_step \u001b[39mis\u001b[39;00m \u001b[39mNone\u001b[39;00m:\n\u001b[1;32m    163\u001b[0m         first_step \u001b[39m=\u001b[39m _select_initial_step(\u001b[39mself\u001b[39m\u001b[39m.\u001b[39mfunc, t[\u001b[39m0\u001b[39m], \u001b[39mself\u001b[39m\u001b[39m.\u001b[39my0, \u001b[39mself\u001b[39m\u001b[39m.\u001b[39morder \u001b[39m-\u001b[39m \u001b[39m1\u001b[39m, \u001b[39mself\u001b[39m\u001b[39m.\u001b[39mrtol, \u001b[39mself\u001b[39m\u001b[39m.\u001b[39matol,\n\u001b[1;32m    164\u001b[0m                                           \u001b[39mself\u001b[39m\u001b[39m.\u001b[39mnorm, f0\u001b[39m=\u001b[39mf0)\n",
      "File \u001b[0;32m~/opt/anaconda3/envs/causal_pyro/lib/python3.9/site-packages/torch/nn/modules/module.py:1194\u001b[0m, in \u001b[0;36mModule._call_impl\u001b[0;34m(self, *input, **kwargs)\u001b[0m\n\u001b[1;32m   1190\u001b[0m \u001b[39m# If we don't have any hooks, we want to skip the rest of the logic in\u001b[39;00m\n\u001b[1;32m   1191\u001b[0m \u001b[39m# this function, and just call forward.\u001b[39;00m\n\u001b[1;32m   1192\u001b[0m \u001b[39mif\u001b[39;00m \u001b[39mnot\u001b[39;00m (\u001b[39mself\u001b[39m\u001b[39m.\u001b[39m_backward_hooks \u001b[39mor\u001b[39;00m \u001b[39mself\u001b[39m\u001b[39m.\u001b[39m_forward_hooks \u001b[39mor\u001b[39;00m \u001b[39mself\u001b[39m\u001b[39m.\u001b[39m_forward_pre_hooks \u001b[39mor\u001b[39;00m _global_backward_hooks\n\u001b[1;32m   1193\u001b[0m         \u001b[39mor\u001b[39;00m _global_forward_hooks \u001b[39mor\u001b[39;00m _global_forward_pre_hooks):\n\u001b[0;32m-> 1194\u001b[0m     \u001b[39mreturn\u001b[39;00m forward_call(\u001b[39m*\u001b[39;49m\u001b[39minput\u001b[39;49m, \u001b[39m*\u001b[39;49m\u001b[39m*\u001b[39;49mkwargs)\n\u001b[1;32m   1195\u001b[0m \u001b[39m# Do not call functions when jit is used\u001b[39;00m\n\u001b[1;32m   1196\u001b[0m full_backward_hooks, non_full_backward_hooks \u001b[39m=\u001b[39m [], []\n",
      "File \u001b[0;32m~/opt/anaconda3/envs/causal_pyro/lib/python3.9/site-packages/torchdiffeq/_impl/misc.py:189\u001b[0m, in \u001b[0;36m_PerturbFunc.forward\u001b[0;34m(self, t, y, perturb)\u001b[0m\n\u001b[1;32m    186\u001b[0m \u001b[39melse\u001b[39;00m:\n\u001b[1;32m    187\u001b[0m     \u001b[39m# Do nothing.\u001b[39;00m\n\u001b[1;32m    188\u001b[0m     \u001b[39mpass\u001b[39;00m\n\u001b[0;32m--> 189\u001b[0m \u001b[39mreturn\u001b[39;00m \u001b[39mself\u001b[39;49m\u001b[39m.\u001b[39;49mbase_func(t, y)\n",
      "File \u001b[0;32m~/opt/anaconda3/envs/causal_pyro/lib/python3.9/site-packages/torch/nn/modules/module.py:1194\u001b[0m, in \u001b[0;36mModule._call_impl\u001b[0;34m(self, *input, **kwargs)\u001b[0m\n\u001b[1;32m   1190\u001b[0m \u001b[39m# If we don't have any hooks, we want to skip the rest of the logic in\u001b[39;00m\n\u001b[1;32m   1191\u001b[0m \u001b[39m# this function, and just call forward.\u001b[39;00m\n\u001b[1;32m   1192\u001b[0m \u001b[39mif\u001b[39;00m \u001b[39mnot\u001b[39;00m (\u001b[39mself\u001b[39m\u001b[39m.\u001b[39m_backward_hooks \u001b[39mor\u001b[39;00m \u001b[39mself\u001b[39m\u001b[39m.\u001b[39m_forward_hooks \u001b[39mor\u001b[39;00m \u001b[39mself\u001b[39m\u001b[39m.\u001b[39m_forward_pre_hooks \u001b[39mor\u001b[39;00m _global_backward_hooks\n\u001b[1;32m   1193\u001b[0m         \u001b[39mor\u001b[39;00m _global_forward_hooks \u001b[39mor\u001b[39;00m _global_forward_pre_hooks):\n\u001b[0;32m-> 1194\u001b[0m     \u001b[39mreturn\u001b[39;00m forward_call(\u001b[39m*\u001b[39;49m\u001b[39minput\u001b[39;49m, \u001b[39m*\u001b[39;49m\u001b[39m*\u001b[39;49mkwargs)\n\u001b[1;32m   1195\u001b[0m \u001b[39m# Do not call functions when jit is used\u001b[39;00m\n\u001b[1;32m   1196\u001b[0m full_backward_hooks, non_full_backward_hooks \u001b[39m=\u001b[39m [], []\n",
      "File \u001b[0;32m~/opt/anaconda3/envs/causal_pyro/lib/python3.9/site-packages/torchdiffeq/_impl/misc.py:138\u001b[0m, in \u001b[0;36m_TupleFunc.forward\u001b[0;34m(self, t, y)\u001b[0m\n\u001b[1;32m    137\u001b[0m \u001b[39mdef\u001b[39;00m \u001b[39mforward\u001b[39m(\u001b[39mself\u001b[39m, t, y):\n\u001b[0;32m--> 138\u001b[0m     f \u001b[39m=\u001b[39m \u001b[39mself\u001b[39;49m\u001b[39m.\u001b[39;49mbase_func(t, _flat_to_shape(y, (), \u001b[39mself\u001b[39;49m\u001b[39m.\u001b[39;49mshapes))\n\u001b[1;32m    139\u001b[0m     \u001b[39mreturn\u001b[39;00m torch\u001b[39m.\u001b[39mcat([f_\u001b[39m.\u001b[39mreshape(\u001b[39m-\u001b[39m\u001b[39m1\u001b[39m) \u001b[39mfor\u001b[39;00m f_ \u001b[39min\u001b[39;00m f])\n",
      "File \u001b[0;32m~/Desktop/Research/causal_pyro/causal_pyro/dynamical/handlers.py:39\u001b[0m, in \u001b[0;36mODEDynamics._deriv\u001b[0;34m(dynamics, var_order, time, state)\u001b[0m\n\u001b[1;32m     37\u001b[0m \u001b[39mfor\u001b[39;00m var, value \u001b[39min\u001b[39;00m \u001b[39mzip\u001b[39m(var_order, state):\n\u001b[1;32m     38\u001b[0m     \u001b[39msetattr\u001b[39m(env, var, value)\n\u001b[0;32m---> 39\u001b[0m dynamics\u001b[39m.\u001b[39;49mdiff(ddt, env)\n\u001b[1;32m     40\u001b[0m \u001b[39mreturn\u001b[39;00m \u001b[39mtuple\u001b[39m(\u001b[39mgetattr\u001b[39m(ddt, var, \u001b[39m0.0\u001b[39m) \u001b[39mfor\u001b[39;00m var \u001b[39min\u001b[39;00m var_order)\n",
      "Cell \u001b[0;32mIn[1], line 19\u001b[0m, in \u001b[0;36mSimpleSIRDynamics.diff\u001b[0;34m(self, dX, X)\u001b[0m\n\u001b[1;32m     18\u001b[0m \u001b[39mdef\u001b[39;00m \u001b[39mdiff\u001b[39m(\u001b[39mself\u001b[39m, dX: State[torch\u001b[39m.\u001b[39mTensor], X: State[torch\u001b[39m.\u001b[39mTensor]):\n\u001b[0;32m---> 19\u001b[0m     dX\u001b[39m.\u001b[39mS \u001b[39m=\u001b[39m \u001b[39m-\u001b[39m\u001b[39mself\u001b[39;49m\u001b[39m.\u001b[39;49mbeta \u001b[39m*\u001b[39m X\u001b[39m.\u001b[39mS \u001b[39m*\u001b[39m X\u001b[39m.\u001b[39mI\n\u001b[1;32m     20\u001b[0m     dX\u001b[39m.\u001b[39mI \u001b[39m=\u001b[39m \u001b[39mself\u001b[39m\u001b[39m.\u001b[39mbeta \u001b[39m*\u001b[39m X\u001b[39m.\u001b[39mS \u001b[39m*\u001b[39m X\u001b[39m.\u001b[39mI \u001b[39m-\u001b[39m \u001b[39mself\u001b[39m\u001b[39m.\u001b[39mgamma \u001b[39m*\u001b[39m X\u001b[39m.\u001b[39mI\n\u001b[1;32m     21\u001b[0m     dX\u001b[39m.\u001b[39mR \u001b[39m=\u001b[39m \u001b[39mself\u001b[39m\u001b[39m.\u001b[39mgamma \u001b[39m*\u001b[39m X\u001b[39m.\u001b[39mI\n",
      "File \u001b[0;32m~/opt/anaconda3/envs/causal_pyro/lib/python3.9/site-packages/pyro/nn/module.py:94\u001b[0m, in \u001b[0;36mPyroParam.__get__\u001b[0;34m(self, obj, obj_type)\u001b[0m\n\u001b[1;32m     92\u001b[0m     init_value, constraint, event_dim \u001b[39m=\u001b[39m \u001b[39mself\u001b[39m\n\u001b[1;32m     93\u001b[0m     init_value \u001b[39m=\u001b[39m functools\u001b[39m.\u001b[39mpartial(init_value, obj)  \u001b[39m# bind method's self arg\u001b[39;00m\n\u001b[0;32m---> 94\u001b[0m     \u001b[39msetattr\u001b[39;49m(obj, name, PyroParam(init_value, constraint, event_dim))\n\u001b[1;32m     95\u001b[0m \u001b[39mreturn\u001b[39;00m obj\u001b[39m.\u001b[39m\u001b[39m__getattr__\u001b[39m(name)\n",
      "File \u001b[0;32m~/opt/anaconda3/envs/causal_pyro/lib/python3.9/site-packages/pyro/nn/module.py:585\u001b[0m, in \u001b[0;36mPyroModule.__setattr__\u001b[0;34m(self, name, value)\u001b[0m\n\u001b[1;32m    583\u001b[0m         _PYRO_PARAM_STORE\u001b[39m.\u001b[39m_param_to_name[unconstrained_value] \u001b[39m=\u001b[39m fullname\n\u001b[1;32m    584\u001b[0m \u001b[39melse\u001b[39;00m:  \u001b[39m# Cannot determine supermodule and hence cannot compute fullname.\u001b[39;00m\n\u001b[0;32m--> 585\u001b[0m     unconstrained_value \u001b[39m=\u001b[39m _unconstrain(constrained_value, constraint)\n\u001b[1;32m    586\u001b[0m \u001b[39msuper\u001b[39m()\u001b[39m.\u001b[39m\u001b[39m__setattr__\u001b[39m(name \u001b[39m+\u001b[39m \u001b[39m\"\u001b[39m\u001b[39m_unconstrained\u001b[39m\u001b[39m\"\u001b[39m, unconstrained_value)\n\u001b[1;32m    587\u001b[0m \u001b[39mreturn\u001b[39;00m\n",
      "File \u001b[0;32m~/opt/anaconda3/envs/causal_pyro/lib/python3.9/site-packages/pyro/nn/module.py:178\u001b[0m, in \u001b[0;36m_unconstrain\u001b[0;34m(constrained_value, constraint)\u001b[0m\n\u001b[1;32m    176\u001b[0m \u001b[39mwith\u001b[39;00m torch\u001b[39m.\u001b[39mno_grad():\n\u001b[1;32m    177\u001b[0m     \u001b[39mif\u001b[39;00m callable(constrained_value):\n\u001b[0;32m--> 178\u001b[0m         constrained_value \u001b[39m=\u001b[39m constrained_value()\n\u001b[1;32m    179\u001b[0m     unconstrained_value \u001b[39m=\u001b[39m transform_to(constraint)\u001b[39m.\u001b[39minv(constrained_value\u001b[39m.\u001b[39mdetach())\n\u001b[1;32m    180\u001b[0m     \u001b[39mreturn\u001b[39;00m torch\u001b[39m.\u001b[39mnn\u001b[39m.\u001b[39mParameter(unconstrained_value)\n",
      "Cell \u001b[0;32mIn[1], line 12\u001b[0m, in \u001b[0;36mSimpleSIRDynamics.beta\u001b[0;34m(self)\u001b[0m\n\u001b[1;32m     10\u001b[0m \u001b[39m@pyro\u001b[39m\u001b[39m.\u001b[39mnn\u001b[39m.\u001b[39mPyroParam(constraint\u001b[39m=\u001b[39mconstraints\u001b[39m.\u001b[39mpositive)\n\u001b[1;32m     11\u001b[0m \u001b[39mdef\u001b[39;00m \u001b[39mbeta\u001b[39m(\u001b[39mself\u001b[39m):\n\u001b[0;32m---> 12\u001b[0m     \u001b[39mreturn\u001b[39;00m torch\u001b[39m.\u001b[39;49mrand()\n",
      "\u001b[0;31mTypeError\u001b[0m: rand() received an invalid combination of arguments - got (), but expected one of:\n * (tuple of ints size, *, torch.Generator generator, tuple of names names, torch.dtype dtype, torch.layout layout, torch.device device, bool pin_memory, bool requires_grad)\n * (tuple of ints size, *, torch.Generator generator, Tensor out, torch.dtype dtype, torch.layout layout, torch.device device, bool pin_memory, bool requires_grad)\n * (tuple of ints size, *, Tensor out, torch.dtype dtype, torch.layout layout, torch.device device, bool pin_memory, bool requires_grad)\n * (tuple of ints size, *, tuple of names names, torch.dtype dtype, torch.layout layout, torch.device device, bool pin_memory, bool requires_grad)\n"
     ]
    }
   ],
   "source": [
    "import pyro\n",
    "import torch\n",
    "from pyro.distributions import constraints\n",
    "\n",
    "from causal_pyro.dynamical.ops import State, simulate\n",
    "from causal_pyro.dynamical.handlers import ODEDynamics\n",
    "\n",
    "\n",
    "class SimpleSIRDynamics(ODEDynamics):\n",
    "    @pyro.nn.PyroParam(constraint=constraints.positive)\n",
    "    def beta(self):\n",
    "        return torch.tensor(0.5)\n",
    "\n",
    "    @pyro.nn.PyroParam(constraint=constraints.positive)\n",
    "    def gamma(self):\n",
    "        return torch.tensor(0.7)\n",
    "\n",
    "    def diff(self, dX: State[torch.Tensor], X: State[torch.Tensor]):\n",
    "        dX.S = -self.beta * X.S * X.I\n",
    "        dX.I = self.beta * X.S * X.I - self.gamma * X.I\n",
    "        dX.R = self.gamma * X.I\n",
    "\n",
    "\n",
    "SIR_simple_model = SimpleSIRDynamics()\n",
    "\n",
    "init_state = State(S=torch.tensor(1.0), I=torch.tensor(2.0), R=torch.tensor(3.3))\n",
    "tspan = torch.tensor([1.0, 2.0, 3.0])\n",
    "\n",
    "result = simulate(SIR_simple_model, init_state, tspan)"
   ]
  },
  {
   "cell_type": "code",
   "execution_count": null,
   "metadata": {},
   "outputs": [],
   "source": []
  }
 ],
 "metadata": {
  "kernelspec": {
   "display_name": "causal_pyro",
   "language": "python",
   "name": "python3"
  },
  "language_info": {
   "codemirror_mode": {
    "name": "ipython",
    "version": 3
   },
   "file_extension": ".py",
   "mimetype": "text/x-python",
   "name": "python",
   "nbconvert_exporter": "python",
   "pygments_lexer": "ipython3",
   "version": "3.9.15"
  },
  "orig_nbformat": 4
 },
 "nbformat": 4,
 "nbformat_minor": 2
}

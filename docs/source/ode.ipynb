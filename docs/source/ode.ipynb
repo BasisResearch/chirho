{
 "cells": [
  {
   "cell_type": "code",
   "execution_count": 17,
   "metadata": {},
   "outputs": [],
   "source": [
    "%reload_ext autoreload\n",
    "%autoreload 2\n",
    "\n",
    "import pyro\n",
    "import torch\n",
    "from pyro.distributions import constraints, Normal\n",
    "\n",
    "from causal_pyro.dynamical.ops import State, simulate\n",
    "from causal_pyro.dynamical.handlers import (\n",
    "    ODEDynamics,\n",
    "    PointInterruption,\n",
    "    PointIntervention,\n",
    "    PointObservation,\n",
    "    simulate,\n",
    ")"
   ]
  },
  {
   "cell_type": "code",
   "execution_count": 18,
   "metadata": {},
   "outputs": [
    {
     "name": "stdout",
     "output_type": "stream",
     "text": [
      "State({'S': tensor([1.0000, 0.4254, 0.2488, 0.1836], grad_fn=<CatBackward0>), 'I': tensor([2.0000, 1.3780, 0.8036, 0.4435], grad_fn=<CatBackward0>), 'R': tensor([3.3000, 4.4966, 5.2476, 5.6728], grad_fn=<CatBackward0>)})\n",
      "State({'I': tensor([2.0000, 1.3780, 0.8036, 0.4435], grad_fn=<ViewBackward0>), 'R': tensor([3.3000, 4.4966, 5.2476, 5.6728], grad_fn=<ViewBackward0>), 'S': tensor([1.0000, 0.4254, 0.2488, 0.1836], grad_fn=<ViewBackward0>)})\n",
      "OrderedDict([('obs_2.9000000953674316', {'type': 'sample', 'name': 'obs_2.9000000953674316', 'fn': Unit(log_factor: -48.359619140625), 'is_observed': True, 'args': (), 'kwargs': {}, 'value': tensor([]), 'infer': {'is_auxiliary': True}, 'scale': 1.0, 'mask': None, 'cond_indep_stack': (), 'done': True, 'stop': False, 'continuation': None})])\n"
     ]
    }
   ],
   "source": [
    "class SimpleSIRDynamics(ODEDynamics):\n",
    "    @pyro.nn.PyroParam(constraint=constraints.positive)\n",
    "    def beta(self):\n",
    "        return torch.tensor(0.5)\n",
    "\n",
    "    @pyro.nn.PyroParam(constraint=constraints.positive)\n",
    "    def gamma(self):\n",
    "        return torch.tensor(0.7)\n",
    "\n",
    "    def diff(self, dX: State[torch.Tensor], X: State[torch.Tensor]):\n",
    "        dX.S = -self.beta * X.S * X.I\n",
    "        dX.I = self.beta * X.S * X.I - self.gamma * X.I\n",
    "        dX.R = self.gamma * X.I\n",
    "\n",
    "\n",
    "SIR_simple_model = SimpleSIRDynamics()\n",
    "\n",
    "init_state = State(S=torch.tensor(1.0), I=torch.tensor(2.0), R=torch.tensor(3.3))\n",
    "tspan = torch.tensor([1.0, 2.0, 3.0, 4.0])\n",
    "\n",
    "new_state = State(S=torch.tensor(10.0))\n",
    "S_obs = torch.tensor(10.0)\n",
    "loglikelihood = lambda state: Normal(state.S, 1).log_prob(S_obs)\n",
    "\n",
    "with PointObservation(time=2.9, loglikelihood=loglikelihood):\n",
    "    # with PointIntervention(time=2.99, intervention=new_state):\n",
    "    result1 = simulate(SIR_simple_model, init_state, tspan)\n",
    "\n",
    "result2 = simulate(SIR_simple_model, init_state, tspan)\n",
    "\n",
    "print(result1)\n",
    "print(result2)\n",
    "\n",
    "with pyro.poutine.trace() as tr:\n",
    "    with PointObservation(time=2.9, loglikelihood=loglikelihood):\n",
    "        simulate(SIR_simple_model, init_state, tspan)\n",
    "\n",
    "print(tr.trace.nodes)"
   ]
  },
  {
   "cell_type": "code",
   "execution_count": 19,
   "metadata": {},
   "outputs": [],
   "source": [
    "with PointInterruption(time=2.99):\n",
    "    with PointInterruption(time=3.01):\n",
    "        result3 = simulate(SIR_simple_model, init_state, tspan)"
   ]
  },
  {
   "cell_type": "code",
   "execution_count": null,
   "metadata": {},
   "outputs": [],
   "source": [
    "with PointInterruption(time=3.01):\n",
    "    with PointInterruption(time=2.99):\n",
    "        result3 = simulate(SIR_simple_model, init_state, tspan)"
   ]
  },
  {
   "cell_type": "code",
   "execution_count": 28,
   "metadata": {},
   "outputs": [
    {
     "data": {
      "text/plain": [
       "tensor([1.0000, 0.4254, 0.2488, 0.1836], grad_fn=<CatBackward0>)"
      ]
     },
     "execution_count": 28,
     "metadata": {},
     "output_type": "execute_result"
    }
   ],
   "source": [
    "getattr(result1, \"S\")"
   ]
  },
  {
   "cell_type": "code",
   "execution_count": 29,
   "metadata": {},
   "outputs": [
    {
     "data": {
      "text/plain": [
       "tensor([1.0000, 0.4254, 0.2488, 0.1836], grad_fn=<ViewBackward0>)"
      ]
     },
     "execution_count": 29,
     "metadata": {},
     "output_type": "execute_result"
    }
   ],
   "source": [
    "getattr(result2, \"S\")"
   ]
  },
  {
   "cell_type": "code",
   "execution_count": 26,
   "metadata": {},
   "outputs": [
    {
     "data": {
      "text/plain": [
       "tensor([1.0000, 0.4254, 0.2488, 0.1836], grad_fn=<CatBackward0>)"
      ]
     },
     "execution_count": 26,
     "metadata": {},
     "output_type": "execute_result"
    }
   ],
   "source": [
    "getattr(result3, \"S\")"
   ]
  },
  {
   "cell_type": "code",
   "execution_count": null,
   "metadata": {},
   "outputs": [],
   "source": []
  }
 ],
 "metadata": {
  "kernelspec": {
   "display_name": "causal_pyro",
   "language": "python",
   "name": "python3"
  },
  "language_info": {
   "codemirror_mode": {
    "name": "ipython",
    "version": 3
   },
   "file_extension": ".py",
   "mimetype": "text/x-python",
   "name": "python",
   "nbconvert_exporter": "python",
   "pygments_lexer": "ipython3",
   "version": "3.9.15"
  },
  "orig_nbformat": 4
 },
 "nbformat": 4,
 "nbformat_minor": 2
}

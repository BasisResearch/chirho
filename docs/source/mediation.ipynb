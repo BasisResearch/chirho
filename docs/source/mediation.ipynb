{
 "cells": [
  {
   "cell_type": "markdown",
   "metadata": {},
   "source": [
    "# Example: Mediation analysis and (in)direct effects"
   ]
  },
  {
   "cell_type": "markdown",
   "metadata": {},
   "source": [
    "## Outline\n",
    "\n",
    "[Setup](#setup)\n",
    "\n",
    "[Overview: mediation analysis](#overview:-mediation-analysis)\n",
    "- [Task: identify the (in)direct causal role of a variable](#task-identify-the-indirect-causal-role-of-a-variable)\n",
    "- [Challenge: conditioning on mediators might open paths](#challenge-conditioning-on-mediators-might-open-paths)\n",
    "- [Definitions](#definitions)\n",
    "- [Assumptions](#assumptions)\n",
    "\n",
    "[Example: the effect of family interventions on future substance use](#example-the-effect-of-family-interventions-on-future-substance-use)\n",
    "- [Variables](#variables)\n",
    "- [Motivations](#motivations)\n",
    "- [Source](#source)\n",
    "  \n",
    "[Causal Probabilistic Program](#causal-probabilistic-program)\n",
    "- [Model description](#model-description)\n",
    "- [Prior description](#prior-description)\n",
    "\n",
    "[Causal Query: average natural direct effect (ANDE)](#causal-query-average-natural-direct-effect-ande)\n",
    "\n",
    "[Causal Inference](#causal-inference)\n",
    "\n",
    "[Results](#results)\n"
   ]
  },
  {
   "cell_type": "markdown",
   "metadata": {},
   "source": [
    "## Setup"
   ]
  },
  {
   "cell_type": "markdown",
   "metadata": {},
   "source": [
    "Lest start with loading all the dependencies we use in this example. "
   ]
  },
  {
   "cell_type": "code",
   "execution_count": 15,
   "metadata": {},
   "outputs": [
    {
     "name": "stdout",
     "output_type": "stream",
     "text": [
      "Automatic pdb calling has been turned OFF\n"
     ]
    },
    {
     "ename": "ModuleNotFoundError",
     "evalue": "No module named 'pyro.condition'",
     "output_type": "error",
     "traceback": [
      "\u001b[0;31m---------------------------------------------------------------------------\u001b[0m",
      "\u001b[0;31mModuleNotFoundError\u001b[0m                       Traceback (most recent call last)",
      "Cell \u001b[0;32mIn[15], line 10\u001b[0m\n\u001b[1;32m      7\u001b[0m \u001b[39mimport\u001b[39;00m \u001b[39mmatplotlib\u001b[39;00m\u001b[39m.\u001b[39;00m\u001b[39mpyplot\u001b[39;00m \u001b[39mas\u001b[39;00m \u001b[39mplt\u001b[39;00m\n\u001b[1;32m      9\u001b[0m \u001b[39mimport\u001b[39;00m \u001b[39mpyro\u001b[39;00m\n\u001b[0;32m---> 10\u001b[0m \u001b[39mimport\u001b[39;00m \u001b[39mpyro\u001b[39;00m\u001b[39m.\u001b[39;00m\u001b[39mcondition\u001b[39;00m \u001b[39mas\u001b[39;00m \u001b[39mcondition\u001b[39;00m\n\u001b[1;32m     11\u001b[0m \u001b[39mimport\u001b[39;00m \u001b[39mpyro\u001b[39;00m\u001b[39m.\u001b[39;00m\u001b[39mdistributions\u001b[39;00m \u001b[39mas\u001b[39;00m \u001b[39mdist\u001b[39;00m\n\u001b[1;32m     13\u001b[0m \u001b[39mfrom\u001b[39;00m \u001b[39mcausal_pyro\u001b[39;00m\u001b[39m.\u001b[39;00m\u001b[39mcounterfactual\u001b[39;00m\u001b[39m.\u001b[39;00m\u001b[39mhandlers\u001b[39;00m \u001b[39mimport\u001b[39;00m MultiWorldCounterfactual\n",
      "\u001b[0;31mModuleNotFoundError\u001b[0m: No module named 'pyro.condition'"
     ]
    }
   ],
   "source": [
    "%reload_ext autoreload\n",
    "%pdb off\n",
    "\n",
    "import torch\n",
    "import pytorch_lightning as pl\n",
    "import pandas as pd\n",
    "import matplotlib.pyplot as plt\n",
    "\n",
    "import pyro\n",
    "import pyro.distributions as dist\n",
    "from pyro import condition\n",
    "\n",
    "from causal_pyro.counterfactual.handlers import MultiWorldCounterfactual\n",
    "from causal_pyro.indexed.ops import IndexSet, gather\n",
    "from causal_pyro.interventional.handlers import do\n",
    "\n",
    "pyro.clear_param_store()\n",
    "pyro.set_rng_seed(1234)\n",
    "pyro.settings.set(module_local_params=True)"
   ]
  },
  {
   "attachments": {},
   "cell_type": "markdown",
   "metadata": {},
   "source": [
    "## Overview: mediation analysis"
   ]
  },
  {
   "cell_type": "markdown",
   "metadata": {},
   "source": [
    "### Task: identify the (in)direct causal role of a variable\n",
    "\n",
    "Understanding the mechanisms by which an intervention achieves its effect can have serious consequences for what treatments or policy changes are preferrable. For instance, a smoking prevention program, among other things that directly influence smoking, might influence a person's work break habits. \n",
    "\n",
    "![Impact of a smoking prevention program](figures/programDAG.png)"
   ]
  },
  {
   "cell_type": "markdown",
   "metadata": {},
   "source": [
    "In this scenario we need to determine the extent to which the smoking prevention program's effect is mediated by work break habits, which is an example of an *indirect effect*. Or, in a work discrimination case, we might want to examine how much the mistreatment of minority members is the *direct effect* of their minority status, and how much it is mediated by, say, education, to which they have lower access.\n",
    "\n",
    "![Impact of minority membership on mistreatment](figures/minorityDAG.png)"
   ]
  },
  {
   "cell_type": "markdown",
   "metadata": {},
   "source": [
    "Note:  talking in terms of the distinction between the direct and the indirect effect is fairly standard. However, mediation analysis can be applied to cases in which there are two disjoint (sets of) paths from the input to the output variable, and we want to isolate and evaluate the impact that proceeds through one of them. As long as the appropriate structural assumptions are satisfied, this can be achieved, as our example will illustrate."
   ]
  },
  {
   "cell_type": "markdown",
   "metadata": {},
   "source": [
    "### Challenge: mere conditioning may fail to isolate a path\n",
    "\n",
    "Let's take a seemingly straighforward case of discrimination where the underlying causal structure is as depicted above. One approach to understanding the direct impact of *Minority* on *Salary* would be to run a regression analysis with both *Minority* and *Education* as input variables, and *Salary* as the output. The resulting coefficient corresponding to *Minority* would be considered the impact of this variable, correcting for education levels. Note, however, that this approach assumes that there are no confounders between the mediator (*Education*) and the output (*Salary*). For instance, a confounder might be the subject's parents' socioeconomic status, which could impact both *Education* and *Salary*.\n",
    "\n",
    "![Confounding in a discrimination case](figures/statusDAG.png)"
   ]
  },
  {
   "cell_type": "markdown",
   "metadata": {},
   "source": [
    "In such a case, by conditioning in a regression analysis  on *Education*, we would go against the requirement that covariates to be conditioned on can't be post-treatment (see TODO: link to backdoor example for a discussion of this point)."
   ]
  },
  {
   "cell_type": "markdown",
   "metadata": {},
   "source": [
    "Generally, the solution is to disallow upstream information flow from the mediator, by intervening on it. There are some nuances, though: we need to reason about multiple interacting counterfactual worlds, as now we are considering nested interventions, where the order matters. As our example illustrates, this is not a complicated thing to do in Causal Pyro. "
   ]
  },
  {
   "cell_type": "markdown",
   "metadata": {},
   "source": [
    "### Definitions\n",
    "\n",
    "To properly handle the situation we need to carefully deal with multiple variables and counterfactuals-and in this setting, it turns out there are a few different notions in the vicinity that we need to be able to distinguish.\n",
    "Since the distinctions that we have made are somewhat convoluted, unlike in the other Causal Pyro examples, we will also frontload the explanation with the corresponding definitions, starting with a piece of notation. Suppose we are given a model $M$ with graph $G$, we are looking at treatment of the intervention $X=x$ on $Y$, given a context $U=u$, assuming the mediator $M$ is set to $m$. The value that $Y$ would have after the intervention fixing $X$ to $x$ in a  context $u$ is denoted as $Y_{x}(u)$. \n",
    "\n",
    "To better understand the impact of a treatment or a policy change, we need a further distinction. For instance, suppose a treatment ($T$) has a direct impact on disease ($D$), and also causes nausea, which in turn may motivate the patient to use a countermeasure ($C$) that may affect $D$. One question we can ask is about the *total effect* of $T$ on $D$, $P(D_{t} = d) - P(D_{t'} = d)$, where  $P(D_{t} = d)$ is the probability that $D=d$ in the intervened model in which $T$ is set to $t$. \n",
    "\n",
    "If we want to determine whether the use or certain levels of countermeasures should be discouraged, we need to conduct a mediation analysis. But which probabilities should we compare? On one hand, with respect to any level $c$ of $C$, we might want to know if a given untreated patient would get better if treated, holding $c$ fixed. If we proceed so, we are interested in the *controlled* direct of effect(s) of treatment on $D$ (different levels of $c$, in principle, could be connected with different direct effect levels), $P(D_{tc} = d) - P(D_{t'c} = d)$ for various settings $c$ of $C$ and different settings of $t$ and $t'$. Alternatively, we might want to take the *natural* levels of $C$ in a given patient into account (say, we know their use level of $C$ if untreated would take some particular value $c$). In this scenario, we use the same formula, but we are only interested in what value it leads to when $c$ is held constant at the pre-treatment level. In the latter scenario, which more realistically abides by the constraints our policy will have to obey, we are estimating the *natural direct effect*. \n",
    "\n",
    "One way to see the difference is imagining it is possible to eliminate the nauseating effect of the treatment (notice how this intervention cannot be expressed in terms of the $do$ operator relative to this model, as it consists in the de-activation of a path, rather than setting a variable to a particular value). The question now is, whether this would in any way change the effect of the treatment. Estimating the controlled direct effect would not answer the question, as this change does not result in the population uniformly using a prescribed level of countermeasures. And in general, if there is no feasible intervention that can keep $c$ at a prescribed level, the controlled direct effect is not the estimand that we are after. In contrast, if we assume that each user sticks to their pre-treatment levels of countermeasures and we ask about the direct effect, we're estimating the natural direct effect. The general phenomenon is that controlled direct effect is of interest to a policy maker if the value of the mediator can be fixed by an intervention, while the natural direct effect is of more interest if the intervention is more nuanced.\n",
    "\n",
    "\n",
    "1. **Controlled unit-level direct-effect**.  $$CDE_z(Y, u; x, x') = Y_{xz}(u) - Y_{x'z}(u)$$ \n",
    "\n",
    "2. **Average controlled direct effect** $$ACDE_z(Y; x, x') =  \\mathbb{E}[Y_{xz} - Y_{x'z}]$$\n",
    "\n",
    "3. **Unit-level natural direct effect** $$NDE(Y, u; x, x') = Y_{x, Z_{x'}(u)}(u) - Y_{x'}(u)$$\n",
    "\n",
    "Let's rephrase the above. Consider two situations. In one, we intervene to set both $X=x$ and $z$ to be $Z_{x'}(u)$, that is, the value that $Z$ would have had we fixed $X$ to be $x'$-that is, intuitively, we fix the mediator to its no-treatment natural value. The second situation involves only intervening on $X$, setting it to $x'$, which corresponds to treatment. $NDE$ is the diferrence between the values $Y$ would have in these two situations. \n",
    "\n",
    "4. **Average natural direct effect** \n",
    "\n",
    "$$ANDE ( Y; x, x' ) = \\mathbb{E} [ Y_{x,Z_{x'}} -  Y_{x'} ] $$\n",
    "\n",
    "5. **Unit-level natural indirect effect**\n",
    "\n",
    "In the controlled setting, where we fix $Z$ to have a particular value, we may not be able to estimate the indirect effect. To do that, we would simultaneously have to hold some variables constant to block the direct path, which is not achievable.  \n",
    "Under some conditions (specified below), however, it is possible to identify the natural indirect effect. First, we need to define it:\n",
    "\n",
    "$$NIE ( Y, u; x, x' ) =  Y_{x',Z_{x}}(u)-  Y_{x'}(u)$$\n",
    "\n",
    "$$ANIE ( Y; x, x' ) = \\mathbb{E} [ Y_{x', Z_{x}} -  Y_{x'}]$$\n",
    "\n",
    "The (natural) indirect effect is a reverse version of the direct effect, and with the (natural) direct effect sums to the total effect.\n",
    "\n",
    "Note that *our notation is slightly non-standard*, as in contexts in which no distinction between unit-level and average measures of effect, ACDE and ANDE are usually referred to simply as CDE and NDE. We preferred to preserve this distinction for the sake of clarity.\n",
    "\n",
    "\n",
    "The seminal paper discussing these distinctions and various types of mediation is  Pearl's [Direct and indirect effects](https://ftp.cs.ucla.edu/pub/stat_ser/R273-U.pdf). A somewhat more recent general framework is described in [Nested Counterfactual Identification from Arbitrary Surrogate Experiments](https://proceedings.neurips.cc/paper/2021/hash/36bedb6eb7152f39b16328448942822b-Abstract.html) by Juan Correa, Sanghack Lee, and Elias Bareinboim."
   ]
  },
  {
   "cell_type": "markdown",
   "metadata": {},
   "source": [
    "### Assumptions\n",
    "\n",
    "In our example we assume that the functional form of the causal relationships is known, that there are no latent confounders, and that we have the causal ordering among the variables right. General identifiability conditions are somewhat weaker and can be found in Pearl's [Direct and indirect effects](https://ftp.cs.ucla.edu/pub/stat_ser/R273-U.pdf)."
   ]
  },
  {
   "cell_type": "markdown",
   "metadata": {},
   "source": [
    "## Example: the effect of family interventions on future substance use"
   ]
  },
  {
   "cell_type": "markdown",
   "metadata": {},
   "source": [
    "### Variables\n",
    "\n",
    "Almost all binary variables have levels 0 (which stands for \"No\") and  1 (which stands for \"Yes\").\n",
    "- `dev_peer` represents whether the subject engaged with deviant peer groups (a mediator variable).\n",
    "- `sub_exp` marks whether a subject experimented with drugs (a mediator variable).\n",
    "- `fam_int` represents participation in a family intervention during adolescence (this is the treatment).\n",
    "- `sub_disorder` stands for the diagnosis of substance use disorder in young adulthood (this is the outcome).\n",
    "- `gender` is binary with two values: `Female` and `Male` (this is a covariate).\n",
    "- `conflict` represents the level of family conflict and is a continuous variable (although, in reality there are only a few possible values that it takes) (another covariate)."
   ]
  },
  {
   "cell_type": "markdown",
   "metadata": {},
   "source": [
    "### Motivations\n",
    "\n",
    "Suppose we are interested in the effect of the family intervention during adolescence on future substance use. More specifically, we want to investigate the natural direct effect (and natural indirect effect) of family intervention on substance disorder, with engagement with deviant peer groups and having experimented with drugs as mediators. In other words, we want to isolate the causal role that family interventions play along the causal chain “Participation in family intervention $\\rightarrow$ reduced engagement with deviant peer groups and experimentation with drugs $\\rightarrow$ substance use disorder in young adulthood”. One might expect that participation in family intervention during adolescence reduces engagement with deviant peer groups and experimentation with drugs, which in turns reduces the likelihood for substance use disorder in young adulthood. One policy reason to be interested in the natural direct effects is that perhaps different considerations and methods can be introduced to the family intervention program which can modify the connections between the family intervention and the mediators separately, and it is not clear which one is worth more focus. \n"
   ]
  },
  {
   "cell_type": "markdown",
   "metadata": {},
   "source": [
    "### Source\n",
    "\n",
    "\n",
    "This is a synthetic dataset with 553 rows corresponding to simulated individuals and six columns, some values of which are missing for some individuals. It has been discussed in a [StatsNotebook blog post](https://statsnotebook.io/blog/analysis/mediation/), and the data can be found [here](\"https://statsnotebook.io/blog/data_management/example_data/substance.csv\").\n"
   ]
  },
  {
   "cell_type": "code",
   "execution_count": null,
   "metadata": {},
   "outputs": [
    {
     "name": "stdout",
     "output_type": "stream",
     "text": [
      "Number of individuals: 553\n",
      "Number of individuals without missing values: 410\n"
     ]
    },
    {
     "data": {
      "text/html": [
       "<div>\n",
       "<style scoped>\n",
       "    .dataframe tbody tr th:only-of-type {\n",
       "        vertical-align: middle;\n",
       "    }\n",
       "\n",
       "    .dataframe tbody tr th {\n",
       "        vertical-align: top;\n",
       "    }\n",
       "\n",
       "    .dataframe thead th {\n",
       "        text-align: right;\n",
       "    }\n",
       "</style>\n",
       "<table border=\"1\" class=\"dataframe\">\n",
       "  <thead>\n",
       "    <tr style=\"text-align: right;\">\n",
       "      <th></th>\n",
       "      <th>gender</th>\n",
       "      <th>conflict</th>\n",
       "      <th>dev_peer</th>\n",
       "      <th>sub_exp</th>\n",
       "      <th>fam_int</th>\n",
       "      <th>sub_disorder</th>\n",
       "    </tr>\n",
       "  </thead>\n",
       "  <tbody>\n",
       "    <tr>\n",
       "      <th>0</th>\n",
       "      <td>Female</td>\n",
       "      <td>3.000000</td>\n",
       "      <td>1.0</td>\n",
       "      <td>0.0</td>\n",
       "      <td>0.0</td>\n",
       "      <td>0.0</td>\n",
       "    </tr>\n",
       "    <tr>\n",
       "      <th>1</th>\n",
       "      <td>Female</td>\n",
       "      <td>3.000000</td>\n",
       "      <td>1.0</td>\n",
       "      <td>1.0</td>\n",
       "      <td>0.0</td>\n",
       "      <td>0.0</td>\n",
       "    </tr>\n",
       "    <tr>\n",
       "      <th>2</th>\n",
       "      <td>Male</td>\n",
       "      <td>4.000000</td>\n",
       "      <td>1.0</td>\n",
       "      <td>1.0</td>\n",
       "      <td>0.0</td>\n",
       "      <td>1.0</td>\n",
       "    </tr>\n",
       "    <tr>\n",
       "      <th>4</th>\n",
       "      <td>Female</td>\n",
       "      <td>2.666667</td>\n",
       "      <td>1.0</td>\n",
       "      <td>1.0</td>\n",
       "      <td>0.0</td>\n",
       "      <td>0.0</td>\n",
       "    </tr>\n",
       "    <tr>\n",
       "      <th>5</th>\n",
       "      <td>Female</td>\n",
       "      <td>2.000000</td>\n",
       "      <td>1.0</td>\n",
       "      <td>1.0</td>\n",
       "      <td>0.0</td>\n",
       "      <td>0.0</td>\n",
       "    </tr>\n",
       "  </tbody>\n",
       "</table>\n",
       "</div>"
      ],
      "text/plain": [
       "   gender  conflict  dev_peer  sub_exp  fam_int  sub_disorder\n",
       "0  Female  3.000000       1.0      0.0      0.0           0.0\n",
       "1  Female  3.000000       1.0      1.0      0.0           0.0\n",
       "2    Male  4.000000       1.0      1.0      0.0           1.0\n",
       "4  Female  2.666667       1.0      1.0      0.0           0.0\n",
       "5  Female  2.000000       1.0      1.0      0.0           0.0"
      ]
     },
     "execution_count": 2,
     "metadata": {},
     "output_type": "execute_result"
    }
   ],
   "source": [
    "# Let's load the data from the url\n",
    "DATA_URL = \"https://statsnotebook.io/blog/data_management/example_data/substance.csv\"\n",
    "\n",
    "df = pd.read_csv(DATA_URL)\n",
    "print(f\"Number of individuals: {len(df)}\")\n",
    "df = df.dropna()  # for now, ignore rows with missing or invalid data\n",
    "num_data = len(df)\n",
    "print(f\"Number of individuals without missing values: {num_data}\")\n",
    "\n",
    "data = {\n",
    "    \"conflict\": torch.tensor(df[\"conflict\"].values, dtype=torch.float),\n",
    "    \"gender\": torch.tensor(df[\"gender\"].values == \"Male\", dtype=torch.float),\n",
    "    \"fam_int\": torch.tensor(df[\"fam_int\"].values, dtype=torch.float),\n",
    "    \"dev_peer\": torch.tensor(df[\"dev_peer\"].values, dtype=torch.float),\n",
    "    \"sub_exp\": torch.tensor(df[\"sub_exp\"].values, dtype=torch.float),\n",
    "    \"sub_disorder\": torch.tensor(df[\"sub_disorder\"].values, dtype=torch.float),\n",
    "}\n",
    "covariates = {\"conflict\": data[\"conflict\"], \"gender\": data[\"gender\"]} \n",
    "\n",
    "# Show the data\n",
    "df.head()"
   ]
  },
  {
   "attachments": {},
   "cell_type": "markdown",
   "metadata": {},
   "source": [
    "## Causal Probabilistic Program"
   ]
  },
  {
   "cell_type": "markdown",
   "metadata": {},
   "source": [
    "### Model description\n",
    "\n",
    "We can represent the causal assumptions made in this example as a Pyro model. This specification, however, is somewhat abstract, as we have not required the functions to be linear. Note how their values are not probabilities, but rather logits of the probabilities used in sampling. That is, for instance, for any subject $i$, we take  `fam_int`$_i \\sim Bernoulli(p_i)$, where $p_i$ is the $i$-th subject's probability of family intervention, and $logit(p_i) = log\\frac{p_i}{1-p_i}$.  "
   ]
  },
  {
   "attachments": {},
   "cell_type": "markdown",
   "metadata": {},
   "source": [
    "More concretely, we can build the linearity requirement into the way the model is constructed, by also requiring that and $logit(p_i) = \\alpha + \\beta_c($`conflict`$_i) + \\beta_g($`gender`$_i)$:"
   ]
  },
  {
   "cell_type": "code",
   "execution_count": null,
   "metadata": {},
   "outputs": [],
   "source": [
    "class MediationModel(pyro.nn.PyroModule):\n",
    "    def __init__(self):\n",
    "        super().__init__()\n",
    "        self.f_fam_int = torch.nn.Linear(2, 1)\n",
    "        self.f_dev_peer = torch.nn.Linear(3, 1)\n",
    "        self.f_sub_exp = torch.nn.Linear(3, 1)\n",
    "        self.f_sub_disorder = torch.nn.Linear(4, 1)\n",
    "        self.register_buffer(\"zero\", torch.tensor(0.))\n",
    "        self.register_buffer(\"one\", torch.tensor(1.))\n",
    "\n",
    "    def forward(self) -> torch.Tensor:\n",
    "        gender = pyro.sample(\"gender\", dist.Bernoulli(0.5 * self.one))\n",
    "        conflict = pyro.sample(\"conflict\", dist.LogNormal(self.zero, self.one))\n",
    "        \n",
    "        covariates = torch.cat(torch.broadcast_tensors(\n",
    "            conflict[..., None], gender[..., None]\n",
    "        ), dim=-1)\n",
    "    \n",
    "        logits_fam_int = self.f_fam_int(covariates)[..., 0]\n",
    "        fam_int = pyro.sample(\"fam_int\", dist.Bernoulli(logits=logits_fam_int))\n",
    "        \n",
    "        covariates_and_treatment = torch.cat(torch.broadcast_tensors(\n",
    "            conflict[..., None], gender[..., None], fam_int[..., None]\n",
    "        ), dim=-1)\n",
    "        \n",
    "        logits_dev_peer = self.f_dev_peer(covariates_and_treatment)[..., 0]\n",
    "        dev_peer = pyro.sample(\"dev_peer\", dist.Bernoulli(logits=logits_dev_peer))\n",
    "\n",
    "        logits_sub_exp = self.f_sub_exp(covariates_and_treatment)[..., 0]\n",
    "        sub_exp = pyro.sample(\"sub_exp\", dist.Bernoulli(logits=logits_sub_exp))\n",
    "        \n",
    "        covariates_and_mediators = torch.cat(torch.broadcast_tensors(\n",
    "            conflict[..., None], gender[..., None], dev_peer[..., None], sub_exp[..., None]\n",
    "        ), dim=-1)\n",
    "\n",
    "        logits_sub_disorder = self.f_sub_disorder(covariates_and_mediators)[..., 0]\n",
    "        sub_disorder = pyro.sample(\"sub_disorder\", dist.Bernoulli(logits=logits_sub_disorder))\n",
    "\n",
    "        return sub_disorder"
   ]
  },
  {
   "cell_type": "markdown",
   "metadata": {},
   "source": [
    "Later we'll do maximum likelihood, so the code does not contain priors over the linear weights. Now we can instantiate the class and inspect the graph of the resulting model."
   ]
  },
  {
   "cell_type": "code",
   "execution_count": null,
   "metadata": {},
   "outputs": [
    {
     "data": {
      "image/svg+xml": [
       "<?xml version=\"1.0\" encoding=\"UTF-8\" standalone=\"no\"?>\n",
       "<!DOCTYPE svg PUBLIC \"-//W3C//DTD SVG 1.1//EN\"\n",
       " \"http://www.w3.org/Graphics/SVG/1.1/DTD/svg11.dtd\">\n",
       "<!-- Generated by graphviz version 2.43.0 (0)\n",
       " -->\n",
       "<!-- Title: %3 Pages: 1 -->\n",
       "<svg width=\"552pt\" height=\"442pt\"\n",
       " viewBox=\"0.00 0.00 552.46 442.00\" xmlns=\"http://www.w3.org/2000/svg\" xmlns:xlink=\"http://www.w3.org/1999/xlink\">\n",
       "<g id=\"graph0\" class=\"graph\" transform=\"scale(1 1) rotate(0) translate(4 438)\">\n",
       "<title>%3</title>\n",
       "<polygon fill=\"white\" stroke=\"transparent\" points=\"-4,4 -4,-438 548.46,-438 548.46,4 -4,4\"/>\n",
       "<!-- gender -->\n",
       "<g id=\"node1\" class=\"node\">\n",
       "<title>gender</title>\n",
       "<ellipse fill=\"white\" stroke=\"black\" cx=\"64.46\" cy=\"-325\" rx=\"43.59\" ry=\"18\"/>\n",
       "<text text-anchor=\"middle\" x=\"64.46\" y=\"-321.3\" font-family=\"Times,serif\" font-size=\"14.00\">gender</text>\n",
       "</g>\n",
       "<!-- fam_int -->\n",
       "<g id=\"node3\" class=\"node\">\n",
       "<title>fam_int</title>\n",
       "<ellipse fill=\"white\" stroke=\"black\" cx=\"100.46\" cy=\"-162\" rx=\"45.49\" ry=\"18\"/>\n",
       "<text text-anchor=\"middle\" x=\"100.46\" y=\"-158.3\" font-family=\"Times,serif\" font-size=\"14.00\">fam_int</text>\n",
       "</g>\n",
       "<!-- gender&#45;&gt;fam_int -->\n",
       "<g id=\"edge1\" class=\"edge\">\n",
       "<title>gender&#45;&gt;fam_int</title>\n",
       "<path fill=\"none\" stroke=\"black\" d=\"M68.31,-306.77C74.57,-278.81 86.97,-223.33 94.41,-190.06\"/>\n",
       "<polygon fill=\"black\" stroke=\"black\" points=\"97.87,-190.63 96.64,-180.11 91.04,-189.1 97.87,-190.63\"/>\n",
       "</g>\n",
       "<!-- dev_peer -->\n",
       "<g id=\"node4\" class=\"node\">\n",
       "<title>dev_peer</title>\n",
       "<ellipse fill=\"white\" stroke=\"black\" cx=\"195.46\" cy=\"-90\" rx=\"52.79\" ry=\"18\"/>\n",
       "<text text-anchor=\"middle\" x=\"195.46\" y=\"-86.3\" font-family=\"Times,serif\" font-size=\"14.00\">dev_peer</text>\n",
       "</g>\n",
       "<!-- gender&#45;&gt;dev_peer -->\n",
       "<g id=\"edge4\" class=\"edge\">\n",
       "<title>gender&#45;&gt;dev_peer</title>\n",
       "<path fill=\"none\" stroke=\"black\" d=\"M75.7,-307.56C93.47,-281.24 128.69,-227.73 154.46,-180 165.58,-159.41 176.58,-135.26 184.39,-117.31\"/>\n",
       "<polygon fill=\"black\" stroke=\"black\" points=\"187.64,-118.61 188.38,-108.04 181.21,-115.85 187.64,-118.61\"/>\n",
       "</g>\n",
       "<!-- sub_exp -->\n",
       "<g id=\"node5\" class=\"node\">\n",
       "<title>sub_exp</title>\n",
       "<ellipse fill=\"white\" stroke=\"black\" cx=\"76.46\" cy=\"-90\" rx=\"48.19\" ry=\"18\"/>\n",
       "<text text-anchor=\"middle\" x=\"76.46\" y=\"-86.3\" font-family=\"Times,serif\" font-size=\"14.00\">sub_exp</text>\n",
       "</g>\n",
       "<!-- gender&#45;&gt;sub_exp -->\n",
       "<g id=\"edge7\" class=\"edge\">\n",
       "<title>gender&#45;&gt;sub_exp</title>\n",
       "<path fill=\"none\" stroke=\"black\" d=\"M58.77,-306.81C48.91,-274.41 31.1,-202.31 46.46,-144 48.99,-134.39 53.71,-124.69 58.67,-116.26\"/>\n",
       "<polygon fill=\"black\" stroke=\"black\" points=\"61.7,-118.02 64.05,-107.68 55.77,-114.3 61.7,-118.02\"/>\n",
       "</g>\n",
       "<!-- sub_disorder -->\n",
       "<g id=\"node6\" class=\"node\">\n",
       "<title>sub_disorder</title>\n",
       "<ellipse fill=\"white\" stroke=\"black\" cx=\"135.46\" cy=\"-18\" rx=\"70.69\" ry=\"18\"/>\n",
       "<text text-anchor=\"middle\" x=\"135.46\" y=\"-14.3\" font-family=\"Times,serif\" font-size=\"14.00\">sub_disorder</text>\n",
       "</g>\n",
       "<!-- gender&#45;&gt;sub_disorder -->\n",
       "<g id=\"edge11\" class=\"edge\">\n",
       "<title>gender&#45;&gt;sub_disorder</title>\n",
       "<path fill=\"none\" stroke=\"black\" d=\"M54.14,-307.42C28.98,-264.7 -29.91,-148.83 19.46,-72 31.45,-53.35 51.81,-41.18 72.15,-33.27\"/>\n",
       "<polygon fill=\"black\" stroke=\"black\" points=\"73.55,-36.49 81.79,-29.83 71.19,-29.9 73.55,-36.49\"/>\n",
       "</g>\n",
       "<!-- conflict -->\n",
       "<g id=\"node2\" class=\"node\">\n",
       "<title>conflict</title>\n",
       "<ellipse fill=\"white\" stroke=\"black\" cx=\"230.46\" cy=\"-325\" rx=\"44.39\" ry=\"18\"/>\n",
       "<text text-anchor=\"middle\" x=\"230.46\" y=\"-321.3\" font-family=\"Times,serif\" font-size=\"14.00\">conflict</text>\n",
       "</g>\n",
       "<!-- conflict&#45;&gt;fam_int -->\n",
       "<g id=\"edge2\" class=\"edge\">\n",
       "<title>conflict&#45;&gt;fam_int</title>\n",
       "<path fill=\"none\" stroke=\"black\" d=\"M217.28,-307.68C194.31,-279.23 146.84,-220.44 120.02,-187.23\"/>\n",
       "<polygon fill=\"black\" stroke=\"black\" points=\"122.68,-184.95 113.68,-179.37 117.24,-189.35 122.68,-184.95\"/>\n",
       "</g>\n",
       "<!-- conflict&#45;&gt;dev_peer -->\n",
       "<g id=\"edge4\" class=\"edge\">\n",
       "<title>conflict&#45;&gt;dev_peer</title>\n",
       "<path fill=\"none\" stroke=\"black\" d=\"M232.7,-306.72C236.32,-274.16 241.55,-201.83 225.46,-144 222.8,-134.43 218.04,-124.74 213.1,-116.31\"/>\n",
       "<polygon fill=\"black\" stroke=\"black\" points=\"216,-114.35 207.74,-107.72 210.06,-118.06 216,-114.35\"/>\n",
       "</g>\n",
       "<!-- conflict&#45;&gt;sub_exp -->\n",
       "<g id=\"edge7\" class=\"edge\">\n",
       "<title>conflict&#45;&gt;sub_exp</title>\n",
       "<path fill=\"none\" stroke=\"black\" d=\"M226.72,-306.92C218.54,-272.82 196.4,-195.15 154.46,-144 143.2,-130.27 127.48,-118.65 113.09,-109.83\"/>\n",
       "<polygon fill=\"black\" stroke=\"black\" points=\"114.76,-106.75 104.36,-104.71 111.22,-112.79 114.76,-106.75\"/>\n",
       "</g>\n",
       "<!-- conflict&#45;&gt;sub_disorder -->\n",
       "<g id=\"edge12\" class=\"edge\">\n",
       "<title>conflict&#45;&gt;sub_disorder</title>\n",
       "<path fill=\"none\" stroke=\"black\" d=\"M238.99,-307.28C259.63,-264.21 307.05,-147.61 257.46,-72 244.61,-52.4 222.77,-40.02 201.1,-32.2\"/>\n",
       "<polygon fill=\"black\" stroke=\"black\" points=\"202.11,-28.85 191.52,-29.02 199.91,-35.49 202.11,-28.85\"/>\n",
       "</g>\n",
       "<!-- fam_int&#45;&gt;dev_peer -->\n",
       "<g id=\"edge3\" class=\"edge\">\n",
       "<title>fam_int&#45;&gt;dev_peer</title>\n",
       "<path fill=\"none\" stroke=\"black\" d=\"M121.08,-145.81C134.21,-136.13 151.44,-123.43 166.01,-112.7\"/>\n",
       "<polygon fill=\"black\" stroke=\"black\" points=\"168.26,-115.39 174.23,-106.64 164.1,-109.76 168.26,-115.39\"/>\n",
       "</g>\n",
       "<!-- fam_int&#45;&gt;sub_exp -->\n",
       "<g id=\"edge6\" class=\"edge\">\n",
       "<title>fam_int&#45;&gt;sub_exp</title>\n",
       "<path fill=\"none\" stroke=\"black\" d=\"M94.65,-144.05C91.95,-136.18 88.67,-126.62 85.65,-117.79\"/>\n",
       "<polygon fill=\"black\" stroke=\"black\" points=\"88.94,-116.6 82.38,-108.28 82.32,-118.87 88.94,-116.6\"/>\n",
       "</g>\n",
       "<!-- dev_peer&#45;&gt;sub_disorder -->\n",
       "<g id=\"edge11\" class=\"edge\">\n",
       "<title>dev_peer&#45;&gt;sub_disorder</title>\n",
       "<path fill=\"none\" stroke=\"black\" d=\"M181.24,-72.41C173.88,-63.82 164.74,-53.16 156.57,-43.63\"/>\n",
       "<polygon fill=\"black\" stroke=\"black\" points=\"159.16,-41.27 150,-35.96 153.85,-45.83 159.16,-41.27\"/>\n",
       "</g>\n",
       "<!-- sub_exp&#45;&gt;sub_disorder -->\n",
       "<g id=\"edge10\" class=\"edge\">\n",
       "<title>sub_exp&#45;&gt;sub_disorder</title>\n",
       "<path fill=\"none\" stroke=\"black\" d=\"M90.44,-72.41C97.68,-63.82 106.67,-53.16 114.7,-43.63\"/>\n",
       "<polygon fill=\"black\" stroke=\"black\" points=\"117.4,-45.86 121.17,-35.96 112.05,-41.35 117.4,-45.86\"/>\n",
       "</g>\n",
       "<!-- distribution_description_node -->\n",
       "<g id=\"node7\" class=\"node\">\n",
       "<title>distribution_description_node</title>\n",
       "<text text-anchor=\"start\" x=\"300.46\" y=\"-418.8\" font-family=\"Times,serif\" font-size=\"14.00\">gender ~ Bernoulli</text>\n",
       "<text text-anchor=\"start\" x=\"300.46\" y=\"-403.8\" font-family=\"Times,serif\" font-size=\"14.00\">conflict ~ LogNormal</text>\n",
       "<text text-anchor=\"start\" x=\"300.46\" y=\"-388.8\" font-family=\"Times,serif\" font-size=\"14.00\">fam_int ~ Bernoulli</text>\n",
       "<text text-anchor=\"start\" x=\"300.46\" y=\"-373.8\" font-family=\"Times,serif\" font-size=\"14.00\">dev_peer ~ Bernoulli</text>\n",
       "<text text-anchor=\"start\" x=\"300.46\" y=\"-358.8\" font-family=\"Times,serif\" font-size=\"14.00\">sub_exp ~ Bernoulli</text>\n",
       "<text text-anchor=\"start\" x=\"300.46\" y=\"-343.8\" font-family=\"Times,serif\" font-size=\"14.00\">sub_disorder ~ Bernoulli</text>\n",
       "<text text-anchor=\"start\" x=\"300.46\" y=\"-328.8\" font-family=\"Times,serif\" font-size=\"14.00\">f_fam_int$$$weight : Real()</text>\n",
       "<text text-anchor=\"start\" x=\"300.46\" y=\"-313.8\" font-family=\"Times,serif\" font-size=\"14.00\">f_fam_int$$$bias : Real()</text>\n",
       "<text text-anchor=\"start\" x=\"300.46\" y=\"-298.8\" font-family=\"Times,serif\" font-size=\"14.00\">f_dev_peer$$$weight : Real()</text>\n",
       "<text text-anchor=\"start\" x=\"300.46\" y=\"-283.8\" font-family=\"Times,serif\" font-size=\"14.00\">f_dev_peer$$$bias : Real()</text>\n",
       "<text text-anchor=\"start\" x=\"300.46\" y=\"-268.8\" font-family=\"Times,serif\" font-size=\"14.00\">f_sub_exp$$$weight : Real()</text>\n",
       "<text text-anchor=\"start\" x=\"300.46\" y=\"-253.8\" font-family=\"Times,serif\" font-size=\"14.00\">f_sub_exp$$$bias : Real()</text>\n",
       "<text text-anchor=\"start\" x=\"300.46\" y=\"-238.8\" font-family=\"Times,serif\" font-size=\"14.00\">f_sub_disorder$$$weight : Real()</text>\n",
       "<text text-anchor=\"start\" x=\"300.46\" y=\"-223.8\" font-family=\"Times,serif\" font-size=\"14.00\">f_sub_disorder$$$bias : Real()</text>\n",
       "</g>\n",
       "</g>\n",
       "</svg>\n"
      ],
      "text/plain": [
       "<graphviz.graphs.Digraph at 0x7fa33618d7b0>"
      ]
     },
     "execution_count": 4,
     "metadata": {},
     "output_type": "execute_result"
    }
   ],
   "source": [
    "pyro.render_model(MediationModel(), render_distributions=True, render_params=True)"
   ]
  },
  {
   "cell_type": "markdown",
   "metadata": {},
   "source": [
    "## Causal Query: average natural direct effect (ANDE)\n",
    "\n",
    "Our query is somewhat convoluted, as it includes nesting counterfactuals. So, first, we define a model transformation parametrized by the names of a predictor and a mediator yields a model in which appropriate interventions have been performed. By intervening multiple times within the `MultiWorldCounterfactual` context we are creating, multiple worlds resulting from all combinations of interventions, which we will later use to answer our causal query."
   ]
  },
  {
   "cell_type": "code",
   "execution_count": null,
   "metadata": {},
   "outputs": [],
   "source": [
    "class NaturalDirectEffectModel(pyro.nn.PyroModule):\n",
    "    \n",
    "    def __init__(self, causal_model: MediationModel):\n",
    "        super().__init__()\n",
    "        self.causal_model = causal_model\n",
    "\n",
    "    @pyro.infer.config_enumerate\n",
    "    def forward(self, x, x_prime):\n",
    "        with MultiWorldCounterfactual(), \\\n",
    "                do(actions=dict(fam_int=(x, x_prime))), \\\n",
    "                do(actions=dict(sub_exp=lambda Z_: gather(Z_, IndexSet(fam_int={2})))), \\\n",
    "                pyro.plate(\"data\", size=x.shape[0], dim=-1):\n",
    "\n",
    "            ys = self.causal_model()\n",
    "            ys_xprime = gather(ys, IndexSet(fam_int={2}, sub_exp={0}))  # y_x'\n",
    "            ys_x = gather(ys, IndexSet(fam_int={1}, sub_exp={1}))  # y_x,z\n",
    "            return ys_xprime - ys_x"
   ]
  },
  {
   "cell_type": "markdown",
   "metadata": {},
   "source": [
    "We now apply this to the causal model we introduced, to obtain a new model representing the joint distribution over all factual and counterfactual variables necessary to estimate the ANDE (which are also sufficient for the estimation of ANIE):"
   ]
  },
  {
   "cell_type": "code",
   "execution_count": null,
   "metadata": {},
   "outputs": [
    {
     "data": {
      "image/svg+xml": [
       "<?xml version=\"1.0\" encoding=\"UTF-8\" standalone=\"no\"?>\n",
       "<!DOCTYPE svg PUBLIC \"-//W3C//DTD SVG 1.1//EN\"\n",
       " \"http://www.w3.org/Graphics/SVG/1.1/DTD/svg11.dtd\">\n",
       "<!-- Generated by graphviz version 2.43.0 (0)\n",
       " -->\n",
       "<!-- Title: %3 Pages: 1 -->\n",
       "<svg width=\"300pt\" height=\"377pt\"\n",
       " viewBox=\"0.00 0.00 300.00 377.00\" xmlns=\"http://www.w3.org/2000/svg\" xmlns:xlink=\"http://www.w3.org/1999/xlink\">\n",
       "<g id=\"graph0\" class=\"graph\" transform=\"scale(1 1) rotate(0) translate(4 373)\">\n",
       "<title>%3</title>\n",
       "<polygon fill=\"white\" stroke=\"transparent\" points=\"-4,4 -4,-373 296,-373 296,4 -4,4\"/>\n",
       "<g id=\"clust1\" class=\"cluster\">\n",
       "<title>cluster_data</title>\n",
       "<polygon fill=\"none\" stroke=\"black\" points=\"8,-8 8,-361 284,-361 284,-8 8,-8\"/>\n",
       "<text text-anchor=\"middle\" x=\"260\" y=\"-15.8\" font-family=\"Times,serif\" font-size=\"14.00\">data</text>\n",
       "</g>\n",
       "<g id=\"clust2\" class=\"cluster\">\n",
       "<title>cluster___index_plate___fam_int</title>\n",
       "<polygon fill=\"none\" stroke=\"black\" points=\"28,-39 28,-217 264,-217 264,-39 28,-39\"/>\n",
       "<text text-anchor=\"middle\" x=\"171.5\" y=\"-46.8\" font-family=\"Times,serif\" font-size=\"14.00\">__index_plate___fam_int</text>\n",
       "</g>\n",
       "<g id=\"clust3\" class=\"cluster\">\n",
       "<title>cluster___index_plate___sub_exp</title>\n",
       "<polygon fill=\"none\" stroke=\"black\" points=\"51,-70 51,-145 241,-145 241,-70 51,-70\"/>\n",
       "<text text-anchor=\"middle\" x=\"146\" y=\"-77.8\" font-family=\"Times,serif\" font-size=\"14.00\">__index_plate___sub_exp</text>\n",
       "</g>\n",
       "<!-- gender -->\n",
       "<g id=\"node1\" class=\"node\">\n",
       "<title>gender</title>\n",
       "<ellipse fill=\"white\" stroke=\"black\" cx=\"210\" cy=\"-335\" rx=\"43.59\" ry=\"18\"/>\n",
       "<text text-anchor=\"middle\" x=\"210\" y=\"-331.3\" font-family=\"Times,serif\" font-size=\"14.00\">gender</text>\n",
       "</g>\n",
       "<!-- fam_int -->\n",
       "<g id=\"node3\" class=\"node\">\n",
       "<title>fam_int</title>\n",
       "<ellipse fill=\"white\" stroke=\"black\" cx=\"136\" cy=\"-263\" rx=\"45.49\" ry=\"18\"/>\n",
       "<text text-anchor=\"middle\" x=\"136\" y=\"-259.3\" font-family=\"Times,serif\" font-size=\"14.00\">fam_int</text>\n",
       "</g>\n",
       "<!-- gender&#45;&gt;fam_int -->\n",
       "<g id=\"edge1\" class=\"edge\">\n",
       "<title>gender&#45;&gt;fam_int</title>\n",
       "<path fill=\"none\" stroke=\"black\" d=\"M193.21,-318.12C183.46,-308.9 171.02,-297.13 160.23,-286.92\"/>\n",
       "<polygon fill=\"black\" stroke=\"black\" points=\"162.4,-284.15 152.73,-279.82 157.58,-289.24 162.4,-284.15\"/>\n",
       "</g>\n",
       "<!-- dev_peer -->\n",
       "<g id=\"node4\" class=\"node\">\n",
       "<title>dev_peer</title>\n",
       "<ellipse fill=\"white\" stroke=\"black\" cx=\"203\" cy=\"-191\" rx=\"52.79\" ry=\"18\"/>\n",
       "<text text-anchor=\"middle\" x=\"203\" y=\"-187.3\" font-family=\"Times,serif\" font-size=\"14.00\">dev_peer</text>\n",
       "</g>\n",
       "<!-- gender&#45;&gt;dev_peer -->\n",
       "<g id=\"edge5\" class=\"edge\">\n",
       "<title>gender&#45;&gt;dev_peer</title>\n",
       "<path fill=\"none\" stroke=\"black\" d=\"M209.16,-316.87C207.96,-292.67 205.77,-248.21 204.35,-219.39\"/>\n",
       "<polygon fill=\"black\" stroke=\"black\" points=\"207.84,-219 203.85,-209.19 200.84,-219.35 207.84,-219\"/>\n",
       "</g>\n",
       "<!-- sub_exp -->\n",
       "<g id=\"node5\" class=\"node\">\n",
       "<title>sub_exp</title>\n",
       "<ellipse fill=\"white\" stroke=\"black\" cx=\"84\" cy=\"-191\" rx=\"48.19\" ry=\"18\"/>\n",
       "<text text-anchor=\"middle\" x=\"84\" y=\"-187.3\" font-family=\"Times,serif\" font-size=\"14.00\">sub_exp</text>\n",
       "</g>\n",
       "<!-- gender&#45;&gt;sub_exp -->\n",
       "<g id=\"edge8\" class=\"edge\">\n",
       "<title>gender&#45;&gt;sub_exp</title>\n",
       "<path fill=\"none\" stroke=\"black\" d=\"M207.93,-316.96C204.89,-294.36 198.64,-256.04 190,-245 185.36,-239.07 151.34,-222.58 123.07,-209.55\"/>\n",
       "<polygon fill=\"black\" stroke=\"black\" points=\"124.31,-206.27 113.76,-205.29 121.39,-212.63 124.31,-206.27\"/>\n",
       "</g>\n",
       "<!-- sub_disorder -->\n",
       "<g id=\"node6\" class=\"node\">\n",
       "<title>sub_disorder</title>\n",
       "<ellipse fill=\"white\" stroke=\"black\" cx=\"146\" cy=\"-119\" rx=\"70.69\" ry=\"18\"/>\n",
       "<text text-anchor=\"middle\" x=\"146\" y=\"-115.3\" font-family=\"Times,serif\" font-size=\"14.00\">sub_disorder</text>\n",
       "</g>\n",
       "<!-- gender&#45;&gt;sub_disorder -->\n",
       "<g id=\"edge11\" class=\"edge\">\n",
       "<title>gender&#45;&gt;sub_disorder</title>\n",
       "<path fill=\"none\" stroke=\"black\" d=\"M224.93,-317.79C251.02,-287.41 299.28,-220.7 268,-173 255.15,-153.4 233.31,-141.02 211.64,-133.2\"/>\n",
       "<polygon fill=\"black\" stroke=\"black\" points=\"212.65,-129.85 202.05,-130.02 210.44,-136.49 212.65,-129.85\"/>\n",
       "</g>\n",
       "<!-- conflict -->\n",
       "<g id=\"node2\" class=\"node\">\n",
       "<title>conflict</title>\n",
       "<ellipse fill=\"white\" stroke=\"black\" cx=\"66\" cy=\"-335\" rx=\"44.39\" ry=\"18\"/>\n",
       "<text text-anchor=\"middle\" x=\"66\" y=\"-331.3\" font-family=\"Times,serif\" font-size=\"14.00\">conflict</text>\n",
       "</g>\n",
       "<!-- conflict&#45;&gt;fam_int -->\n",
       "<g id=\"edge2\" class=\"edge\">\n",
       "<title>conflict&#45;&gt;fam_int</title>\n",
       "<path fill=\"none\" stroke=\"black\" d=\"M81.88,-318.12C90.88,-309.12 102.32,-297.68 112.35,-287.65\"/>\n",
       "<polygon fill=\"black\" stroke=\"black\" points=\"115.1,-289.85 119.69,-280.31 110.15,-284.9 115.1,-289.85\"/>\n",
       "</g>\n",
       "<!-- conflict&#45;&gt;dev_peer -->\n",
       "<g id=\"edge4\" class=\"edge\">\n",
       "<title>conflict&#45;&gt;dev_peer</title>\n",
       "<path fill=\"none\" stroke=\"black\" d=\"M67.17,-316.92C69.04,-294.28 73.39,-255.91 82,-245 84.72,-241.55 127.47,-223.27 161.39,-209.13\"/>\n",
       "<polygon fill=\"black\" stroke=\"black\" points=\"162.79,-212.34 170.68,-205.27 160.1,-205.88 162.79,-212.34\"/>\n",
       "</g>\n",
       "<!-- conflict&#45;&gt;sub_exp -->\n",
       "<g id=\"edge7\" class=\"edge\">\n",
       "<title>conflict&#45;&gt;sub_exp</title>\n",
       "<path fill=\"none\" stroke=\"black\" d=\"M64.68,-316.81C63.66,-298.79 62.99,-269.71 67,-245 68.43,-236.18 71.04,-226.83 73.8,-218.47\"/>\n",
       "<polygon fill=\"black\" stroke=\"black\" points=\"77.16,-219.46 77.16,-208.87 70.55,-217.15 77.16,-219.46\"/>\n",
       "</g>\n",
       "<!-- conflict&#45;&gt;sub_disorder -->\n",
       "<g id=\"edge12\" class=\"edge\">\n",
       "<title>conflict&#45;&gt;sub_disorder</title>\n",
       "<path fill=\"none\" stroke=\"black\" d=\"M53.73,-317.54C32.42,-286.75 -6.42,-219.38 24,-173 36.85,-153.4 58.69,-141.02 80.36,-133.2\"/>\n",
       "<polygon fill=\"black\" stroke=\"black\" points=\"81.56,-136.49 89.95,-130.02 79.35,-129.85 81.56,-136.49\"/>\n",
       "</g>\n",
       "<!-- fam_int&#45;&gt;dev_peer -->\n",
       "<g id=\"edge3\" class=\"edge\">\n",
       "<title>fam_int&#45;&gt;dev_peer</title>\n",
       "<path fill=\"none\" stroke=\"black\" d=\"M151.54,-245.76C159.96,-236.97 170.53,-225.93 179.89,-216.14\"/>\n",
       "<polygon fill=\"black\" stroke=\"black\" points=\"182.69,-218.28 187.08,-208.63 177.64,-213.44 182.69,-218.28\"/>\n",
       "</g>\n",
       "<!-- fam_int&#45;&gt;sub_exp -->\n",
       "<g id=\"edge6\" class=\"edge\">\n",
       "<title>fam_int&#45;&gt;sub_exp</title>\n",
       "<path fill=\"none\" stroke=\"black\" d=\"M123.68,-245.41C117.33,-236.87 109.46,-226.28 102.41,-216.79\"/>\n",
       "<polygon fill=\"black\" stroke=\"black\" points=\"105.01,-214.41 96.23,-208.47 99.39,-218.58 105.01,-214.41\"/>\n",
       "</g>\n",
       "<!-- dev_peer&#45;&gt;sub_disorder -->\n",
       "<g id=\"edge9\" class=\"edge\">\n",
       "<title>dev_peer&#45;&gt;sub_disorder</title>\n",
       "<path fill=\"none\" stroke=\"black\" d=\"M189.49,-173.41C182.57,-164.91 173.99,-154.37 166.29,-144.91\"/>\n",
       "<polygon fill=\"black\" stroke=\"black\" points=\"168.84,-142.5 159.81,-136.96 163.41,-146.92 168.84,-142.5\"/>\n",
       "</g>\n",
       "<!-- sub_exp&#45;&gt;sub_disorder -->\n",
       "<g id=\"edge10\" class=\"edge\">\n",
       "<title>sub_exp&#45;&gt;sub_disorder</title>\n",
       "<path fill=\"none\" stroke=\"black\" d=\"M98.38,-173.76C106.17,-164.97 115.95,-153.93 124.62,-144.14\"/>\n",
       "<polygon fill=\"black\" stroke=\"black\" points=\"127.26,-146.44 131.27,-136.63 122.02,-141.8 127.26,-146.44\"/>\n",
       "</g>\n",
       "</g>\n",
       "</svg>\n"
      ],
      "text/plain": [
       "<graphviz.graphs.Digraph at 0x7fa2495b4490>"
      ]
     },
     "execution_count": 6,
     "metadata": {},
     "output_type": "execute_result"
    }
   ],
   "source": [
    "x0 = data[\"fam_int\"].new_full((num_data,), 0.)\n",
    "x1 = data[\"fam_int\"].new_full((num_data,), 1.)\n",
    "\n",
    "surrogate_model = MediationModel()\n",
    "query_model = NaturalDirectEffectModel(surrogate_model)\n",
    "\n",
    "pyro.render_model(NaturalDirectEffectModel(MediationModel()), model_args=(x0, x1))"
   ]
  },
  {
   "cell_type": "markdown",
   "metadata": {},
   "source": [
    "## Causal Inference as Probabilistic Inference\n",
    "\n",
    "Before attempting to compute the natural direct effect, we first learn the model's parameters. The first step is to condition the model on the data."
   ]
  },
  {
   "cell_type": "code",
   "execution_count": null,
   "metadata": {
    "scrolled": true
   },
   "outputs": [
    {
     "data": {
      "image/svg+xml": [
       "<?xml version=\"1.0\" encoding=\"UTF-8\" standalone=\"no\"?>\n",
       "<!DOCTYPE svg PUBLIC \"-//W3C//DTD SVG 1.1//EN\"\n",
       " \"http://www.w3.org/Graphics/SVG/1.1/DTD/svg11.dtd\">\n",
       "<!-- Generated by graphviz version 2.43.0 (0)\n",
       " -->\n",
       "<!-- Title: %3 Pages: 1 -->\n",
       "<svg width=\"300pt\" height=\"315pt\"\n",
       " viewBox=\"0.00 0.00 300.00 315.00\" xmlns=\"http://www.w3.org/2000/svg\" xmlns:xlink=\"http://www.w3.org/1999/xlink\">\n",
       "<g id=\"graph0\" class=\"graph\" transform=\"scale(1 1) rotate(0) translate(4 311)\">\n",
       "<title>%3</title>\n",
       "<polygon fill=\"white\" stroke=\"transparent\" points=\"-4,4 -4,-311 296,-311 296,4 -4,4\"/>\n",
       "<g id=\"clust1\" class=\"cluster\">\n",
       "<title>cluster_data</title>\n",
       "<polygon fill=\"none\" stroke=\"black\" points=\"8,-8 8,-299 284,-299 284,-8 8,-8\"/>\n",
       "<text text-anchor=\"middle\" x=\"260\" y=\"-15.8\" font-family=\"Times,serif\" font-size=\"14.00\">data</text>\n",
       "</g>\n",
       "<!-- gender -->\n",
       "<g id=\"node1\" class=\"node\">\n",
       "<title>gender</title>\n",
       "<ellipse fill=\"gray\" stroke=\"black\" cx=\"218\" cy=\"-273\" rx=\"43.59\" ry=\"18\"/>\n",
       "<text text-anchor=\"middle\" x=\"218\" y=\"-269.3\" font-family=\"Times,serif\" font-size=\"14.00\">gender</text>\n",
       "</g>\n",
       "<!-- fam_int -->\n",
       "<g id=\"node3\" class=\"node\">\n",
       "<title>fam_int</title>\n",
       "<ellipse fill=\"gray\" stroke=\"black\" cx=\"124\" cy=\"-201\" rx=\"45.49\" ry=\"18\"/>\n",
       "<text text-anchor=\"middle\" x=\"124\" y=\"-197.3\" font-family=\"Times,serif\" font-size=\"14.00\">fam_int</text>\n",
       "</g>\n",
       "<!-- gender&#45;&gt;fam_int -->\n",
       "<g id=\"edge1\" class=\"edge\">\n",
       "<title>gender&#45;&gt;fam_int</title>\n",
       "<path fill=\"none\" stroke=\"black\" d=\"M197.6,-256.81C184.42,-247 167.08,-234.08 152.54,-223.25\"/>\n",
       "<polygon fill=\"black\" stroke=\"black\" points=\"154.47,-220.32 144.36,-217.16 150.29,-225.94 154.47,-220.32\"/>\n",
       "</g>\n",
       "<!-- dev_peer -->\n",
       "<g id=\"node4\" class=\"node\">\n",
       "<title>dev_peer</title>\n",
       "<ellipse fill=\"gray\" stroke=\"black\" cx=\"89\" cy=\"-129\" rx=\"52.79\" ry=\"18\"/>\n",
       "<text text-anchor=\"middle\" x=\"89\" y=\"-125.3\" font-family=\"Times,serif\" font-size=\"14.00\">dev_peer</text>\n",
       "</g>\n",
       "<!-- gender&#45;&gt;dev_peer -->\n",
       "<g id=\"edge4\" class=\"edge\">\n",
       "<title>gender&#45;&gt;dev_peer</title>\n",
       "<path fill=\"none\" stroke=\"black\" d=\"M213.68,-254.87C208.11,-235.56 196.82,-204.12 178,-183 164.98,-168.39 146.94,-156.62 130.5,-147.92\"/>\n",
       "<polygon fill=\"black\" stroke=\"black\" points=\"132.08,-144.8 121.58,-143.4 128.92,-151.04 132.08,-144.8\"/>\n",
       "</g>\n",
       "<!-- sub_exp -->\n",
       "<g id=\"node5\" class=\"node\">\n",
       "<title>sub_exp</title>\n",
       "<ellipse fill=\"gray\" stroke=\"black\" cx=\"208\" cy=\"-129\" rx=\"48.19\" ry=\"18\"/>\n",
       "<text text-anchor=\"middle\" x=\"208\" y=\"-125.3\" font-family=\"Times,serif\" font-size=\"14.00\">sub_exp</text>\n",
       "</g>\n",
       "<!-- gender&#45;&gt;sub_exp -->\n",
       "<g id=\"edge7\" class=\"edge\">\n",
       "<title>gender&#45;&gt;sub_exp</title>\n",
       "<path fill=\"none\" stroke=\"black\" d=\"M217.23,-254.93C216.38,-237 214.88,-208 213,-183 212.37,-174.67 211.57,-165.61 210.78,-157.38\"/>\n",
       "<polygon fill=\"black\" stroke=\"black\" points=\"214.24,-156.78 209.79,-147.17 207.27,-157.46 214.24,-156.78\"/>\n",
       "</g>\n",
       "<!-- sub_disorder -->\n",
       "<g id=\"node6\" class=\"node\">\n",
       "<title>sub_disorder</title>\n",
       "<ellipse fill=\"gray\" stroke=\"black\" cx=\"147\" cy=\"-57\" rx=\"70.69\" ry=\"18\"/>\n",
       "<text text-anchor=\"middle\" x=\"147\" y=\"-53.3\" font-family=\"Times,serif\" font-size=\"14.00\">sub_disorder</text>\n",
       "</g>\n",
       "<!-- gender&#45;&gt;sub_disorder -->\n",
       "<g id=\"edge11\" class=\"edge\">\n",
       "<title>gender&#45;&gt;sub_disorder</title>\n",
       "<path fill=\"none\" stroke=\"black\" d=\"M231.04,-255.64C253.75,-225.03 295.37,-157.94 265,-111 252.73,-92.03 231.88,-79.79 211.09,-71.91\"/>\n",
       "<polygon fill=\"black\" stroke=\"black\" points=\"212.17,-68.58 201.57,-68.59 209.86,-75.19 212.17,-68.58\"/>\n",
       "</g>\n",
       "<!-- conflict -->\n",
       "<g id=\"node2\" class=\"node\">\n",
       "<title>conflict</title>\n",
       "<ellipse fill=\"gray\" stroke=\"black\" cx=\"101\" cy=\"-273\" rx=\"44.39\" ry=\"18\"/>\n",
       "<text text-anchor=\"middle\" x=\"101\" y=\"-269.3\" font-family=\"Times,serif\" font-size=\"14.00\">conflict</text>\n",
       "</g>\n",
       "<!-- conflict&#45;&gt;fam_int -->\n",
       "<g id=\"edge2\" class=\"edge\">\n",
       "<title>conflict&#45;&gt;fam_int</title>\n",
       "<path fill=\"none\" stroke=\"black\" d=\"M106.57,-255.05C109.16,-247.18 112.3,-237.62 115.2,-228.79\"/>\n",
       "<polygon fill=\"black\" stroke=\"black\" points=\"118.53,-229.87 118.32,-219.28 111.88,-227.68 118.53,-229.87\"/>\n",
       "</g>\n",
       "<!-- conflict&#45;&gt;dev_peer -->\n",
       "<g id=\"edge4\" class=\"edge\">\n",
       "<title>conflict&#45;&gt;dev_peer</title>\n",
       "<path fill=\"none\" stroke=\"black\" d=\"M88.18,-255.38C81.32,-245.42 73.57,-232.17 70,-219 64.34,-198.12 70.17,-174.13 76.82,-156.31\"/>\n",
       "<polygon fill=\"black\" stroke=\"black\" points=\"80.13,-157.44 80.63,-146.86 73.64,-154.82 80.13,-157.44\"/>\n",
       "</g>\n",
       "<!-- conflict&#45;&gt;sub_exp -->\n",
       "<g id=\"edge7\" class=\"edge\">\n",
       "<title>conflict&#45;&gt;sub_exp</title>\n",
       "<path fill=\"none\" stroke=\"black\" d=\"M128.61,-258.78C145.03,-249.66 165.09,-236.1 178,-219 191.69,-200.86 199.37,-176.08 203.52,-157.27\"/>\n",
       "<polygon fill=\"black\" stroke=\"black\" points=\"207,-157.75 205.53,-147.26 200.13,-156.37 207,-157.75\"/>\n",
       "</g>\n",
       "<!-- conflict&#45;&gt;sub_disorder -->\n",
       "<g id=\"edge12\" class=\"edge\">\n",
       "<title>conflict&#45;&gt;sub_disorder</title>\n",
       "<path fill=\"none\" stroke=\"black\" d=\"M83.39,-256.12C52.5,-226.31 -5.24,-160.49 27,-111 39.51,-91.8 60.71,-79.51 81.85,-71.66\"/>\n",
       "<polygon fill=\"black\" stroke=\"black\" points=\"83.19,-74.9 91.53,-68.36 80.93,-68.27 83.19,-74.9\"/>\n",
       "</g>\n",
       "<!-- fam_int&#45;&gt;dev_peer -->\n",
       "<g id=\"edge3\" class=\"edge\">\n",
       "<title>fam_int&#45;&gt;dev_peer</title>\n",
       "<path fill=\"none\" stroke=\"black\" d=\"M115.53,-183.05C111.44,-174.89 106.46,-164.91 101.91,-155.82\"/>\n",
       "<polygon fill=\"black\" stroke=\"black\" points=\"105,-154.17 97.39,-146.79 98.74,-157.3 105,-154.17\"/>\n",
       "</g>\n",
       "<!-- fam_int&#45;&gt;sub_exp -->\n",
       "<g id=\"edge6\" class=\"edge\">\n",
       "<title>fam_int&#45;&gt;sub_exp</title>\n",
       "<path fill=\"none\" stroke=\"black\" d=\"M142.64,-184.46C153.98,-175.02 168.65,-162.79 181.22,-152.32\"/>\n",
       "<polygon fill=\"black\" stroke=\"black\" points=\"183.68,-154.82 189.12,-145.73 179.2,-149.45 183.68,-154.82\"/>\n",
       "</g>\n",
       "<!-- dev_peer&#45;&gt;sub_disorder -->\n",
       "<g id=\"edge11\" class=\"edge\">\n",
       "<title>dev_peer&#45;&gt;sub_disorder</title>\n",
       "<path fill=\"none\" stroke=\"black\" d=\"M102.75,-111.41C109.79,-102.91 118.52,-92.37 126.36,-82.91\"/>\n",
       "<polygon fill=\"black\" stroke=\"black\" points=\"129.27,-84.89 132.95,-74.96 123.88,-80.42 129.27,-84.89\"/>\n",
       "</g>\n",
       "<!-- sub_exp&#45;&gt;sub_disorder -->\n",
       "<g id=\"edge10\" class=\"edge\">\n",
       "<title>sub_exp&#45;&gt;sub_disorder</title>\n",
       "<path fill=\"none\" stroke=\"black\" d=\"M193.85,-111.76C186.26,-103.06 176.76,-92.15 168.29,-82.43\"/>\n",
       "<polygon fill=\"black\" stroke=\"black\" points=\"170.7,-79.87 161.49,-74.63 165.43,-84.47 170.7,-79.87\"/>\n",
       "</g>\n",
       "</g>\n",
       "</svg>\n"
      ],
      "text/plain": [
       "<graphviz.graphs.Digraph at 0x7fa33618faf0>"
      ]
     },
     "execution_count": 7,
     "metadata": {},
     "output_type": "execute_result"
    }
   ],
   "source": [
    "class ConditionedMediationModel(pyro.nn.PyroModule):\n",
    "    def __init__(self, causal_model: MediationModel):\n",
    "        super().__init__()\n",
    "        self.causal_model = causal_model\n",
    "        \n",
    "    def forward(self, data):\n",
    "        with condition(data=data), \\\n",
    "                pyro.plate(\"data\", size=num_data, dim=-1):\n",
    "            return self.causal_model()\n",
    "\n",
    "conditioned_model = ConditionedMediationModel(surrogate_model)\n",
    "pyro.render_model(conditioned_model, model_args=(data,))"
   ]
  },
  {
   "cell_type": "markdown",
   "metadata": {},
   "source": [
    "Now we use the standard Pyro inferential tools (see [Pyro tutorials](https://pyro.ai/examples/) if this looks unclear). We implement maximum likelihood with stochastic variational inference and the Dirac-Delta variational approximation."
   ]
  },
  {
   "cell_type": "code",
   "execution_count": null,
   "metadata": {},
   "outputs": [
    {
     "name": "stderr",
     "output_type": "stream",
     "text": [
      "GPU available: True (cuda), used: True\n",
      "TPU available: False, using: 0 TPU cores\n",
      "IPU available: False, using: 0 IPUs\n",
      "HPU available: False, using: 0 HPUs\n",
      "/home/eli/miniconda3/lib/python3.10/site-packages/pytorch_lightning/trainer/connectors/logger_connector/logger_connector.py:67: UserWarning: Starting from v1.9.0, `tensorboardX` has been removed as a dependency of the `pytorch_lightning` package, due to potential conflicts with other packages in the ML ecosystem. For this reason, `logger=True` will use `CSVLogger` as the default logger, unless the `tensorboard` or `tensorboardX` packages are found. Please `pip install lightning[extra]` or one of them to enable TensorBoard support by default\n",
      "  warning_cache.warn(\n",
      "You are using a CUDA device ('NVIDIA GeForce RTX 4090 Laptop GPU') that has Tensor Cores. To properly utilize them, you should set `torch.set_float32_matmul_precision('medium' | 'high')` which will trade-off precision for performance. For more details, read https://pytorch.org/docs/stable/generated/torch.set_float32_matmul_precision.html#torch.set_float32_matmul_precision\n",
      "LOCAL_RANK: 0 - CUDA_VISIBLE_DEVICES: [0]\n",
      "\n",
      "  | Name | Type       | Params\n",
      "------------------------------------\n",
      "0 | elbo | ELBOModule | 16    \n",
      "------------------------------------\n",
      "16        Trainable params\n",
      "0         Non-trainable params\n",
      "16        Total params\n",
      "0.000     Total estimated model params size (MB)\n",
      "/home/eli/miniconda3/lib/python3.10/site-packages/pytorch_lightning/trainer/connectors/data_connector.py:430: PossibleUserWarning: The dataloader, train_dataloader, does not have many workers which may be a bottleneck. Consider increasing the value of the `num_workers` argument` (try 32 which is the number of cpus on this machine) in the `DataLoader` init to improve performance.\n",
      "  rank_zero_warn(\n"
     ]
    },
    {
     "data": {
      "application/vnd.jupyter.widget-view+json": {
       "model_id": "47eabe7479954b4880337d8f7934e216",
       "version_major": 2,
       "version_minor": 0
      },
      "text/plain": [
       "Training: 0it [00:00, ?it/s]"
      ]
     },
     "metadata": {},
     "output_type": "display_data"
    },
    {
     "name": "stderr",
     "output_type": "stream",
     "text": [
      "`Trainer.fit` stopped: `max_epochs=1500` reached.\n"
     ]
    }
   ],
   "source": [
    "class LightningSVI(pl.LightningModule):\n",
    "    def __init__(self, elbo: pyro.infer.elbo.ELBOModule, **optim_params):\n",
    "        super().__init__()\n",
    "        self.optim_params = dict(optim_params)\n",
    "        self.elbo = elbo\n",
    "\n",
    "    def configure_optimizers(self):\n",
    "        return torch.optim.Adam(self.elbo.parameters(), **self.optim_params)\n",
    "\n",
    "    def training_step(self, batch, batch_idx):\n",
    "        return self.elbo(dict(zip(sorted(data.keys()), batch)))\n",
    "\n",
    "\n",
    "guide = pyro.infer.autoguide.AutoDelta(conditioned_model)\n",
    "elbo = pyro.infer.Trace_ELBO()(conditioned_model, guide)\n",
    "\n",
    "# initialize\n",
    "elbo(data)\n",
    "\n",
    "# fit\n",
    "train_dataset = torch.utils.data.TensorDataset(*(v for k, v in sorted(data.items())))\n",
    "train_dataloader = torch.utils.data.DataLoader(train_dataset, batch_size=num_data)\n",
    "svi = LightningSVI(elbo, lr=0.03)\n",
    "trainer = pl.Trainer(max_epochs=1500, log_every_n_steps=1)\n",
    "trainer.fit(svi, train_dataloaders=train_dataloader)"
   ]
  },
  {
   "cell_type": "markdown",
   "metadata": {},
   "source": [
    "Next, we use the expanded model defined previously to get the natural direct effect:"
   ]
  },
  {
   "cell_type": "code",
   "execution_count": null,
   "metadata": {},
   "outputs": [
    {
     "name": "stderr",
     "output_type": "stream",
     "text": [
      "/home/eli/development/pyro/pyro/infer/discrete.py:98: UserWarning: infer_discrete found no sample sites configured for enumeration. If you want to enumerate sites, you need to @config_enumerate or set infer={\"enumerate\": \"sequential\"} or infer={\"enumerate\": \"parallel\"}.\n",
      "  warnings.warn(\n"
     ]
    }
   ],
   "source": [
    "conditioned_query_model = condition(data=dict(fam_int=data[\"fam_int\"], **covariates))(query_model)\n",
    "\n",
    "discrete_posterior = pyro.infer.infer_discrete(first_available_dim=-8)(conditioned_query_model)\n",
    "\n",
    "predictive = pyro.infer.Predictive(discrete_posterior, guide=guide, num_samples=500, return_sites=[\"_RETURN\"])\n",
    "predictive_samples = predictive(x0, x1)\n",
    "\n",
    "individual_NDE_samples = predictive_samples[\"_RETURN\"]"
   ]
  },
  {
   "cell_type": "markdown",
   "metadata": {},
   "source": [
    "Let's recap. For our query we are inspecting two things. (1) the average substance abuse in the world in which each subject's experimentation with drugs is fixed to be the way it was in the observational data and a family intervention is forced to be applied. (2) the average substance abuse in the world in which the family intervention was fixed to not occur (without fixing `sub_exp` to any particular value). We started with the goal of estimating the difference between somewhat complicated expected values, defined in terms of nested countefactuals (that is, ANDE). Yet, when it came to the implementation, evaluating this query is just indexing into the right two counterfactual worlds and inspecting the posterior predictive samples from these worlds. "
   ]
  },
  {
   "cell_type": "markdown",
   "metadata": {},
   "source": [
    "## Results"
   ]
  },
  {
   "cell_type": "code",
   "execution_count": null,
   "metadata": {},
   "outputs": [
    {
     "name": "stdout",
     "output_type": "stream",
     "text": [
      "tensor(-0.0350)\n"
     ]
    }
   ],
   "source": [
    "individual_NDE_mean = torch.mean(individual_NDE_samples.squeeze(), dim=0)\n",
    "NDE_samples = torch.mean(individual_NDE_samples.squeeze(), dim=-1)  # avg over datapoints\n",
    "NDE_mean = torch.mean(NDE_samples, dim=0)  # avg over posterior samples\n",
    "print(NDE_mean)"
   ]
  },
  {
   "cell_type": "markdown",
   "metadata": {},
   "source": [
    " In the [original blog post](https://statsnotebook.io/blog/analysis/mediation/), the NDA was $-.055$ with confidence interval $(-.12, .01)$. We mark these with vertical lines. Our MLE falls within the original confidence interval."
   ]
  },
  {
   "cell_type": "code",
   "execution_count": null,
   "metadata": {},
   "outputs": [
    {
     "data": {
      "text/plain": [
       "Text(-0.105, 48, 'Original estimate: -.055')"
      ]
     },
     "execution_count": 14,
     "metadata": {},
     "output_type": "execute_result"
    },
    {
     "data": {
      "image/png": "[encoded data removed]",
      "text/plain": [
       "<Figure size 640x480 with 1 Axes>"
      ]
     },
     "metadata": {},
     "output_type": "display_data"
    }
   ],
   "source": [
    "plt.hist(individual_NDE_mean.detach().cpu().numpy(), bins=25, range = (-.12, .02))\n",
    "plt.axvline(-.055, color='red', linestyle='solid', linewidth=1)\n",
    "plt.axvline(-.12, color='green', linestyle='dashed', linewidth=.5)\n",
    "plt.axvline(.01, color='green', linestyle='dashed', linewidth=.5)\n",
    "plt.xlabel('NDE')\n",
    "plt.ylabel('Count')\n",
    "plt.text(s = 'Original estimate: -.055', x= -.105, y =48)"
   ]
  },
  {
   "cell_type": "code",
   "execution_count": null,
   "metadata": {},
   "outputs": [],
   "source": []
  }
 ],
 "metadata": {
  "kernelspec": {
   "display_name": "Python 3 (ipykernel)",
   "language": "python",
   "name": "python3"
  },
  "language_info": {
   "codemirror_mode": {
    "name": "ipython",
    "version": 3
   },
   "file_extension": ".py",
   "mimetype": "text/x-python",
   "name": "python",
   "nbconvert_exporter": "python",
   "pygments_lexer": "ipython3",
   "version": "3.10.9"
  },
  "vscode": {
   "interpreter": {
    "hash": "0e06d7253bdfe78d166f31e42958380731f8c188f84b807c96c028408ca76a67"
   }
  }
 },
 "nbformat": 4,
 "nbformat_minor": 4
}

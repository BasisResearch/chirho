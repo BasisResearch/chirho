{
 "cells": [
  {
   "cell_type": "markdown",
   "metadata": {},
   "source": [
    "# Example: Mediation analysis and direct effects"
   ]
  },
  {
   "cell_type": "code",
   "execution_count": null,
   "metadata": {},
   "outputs": [],
   "source": [
    "from typing import Dict, List, Optional, Tuple, Union, TypeVar\n",
    "\n",
    "import torch\n",
    "import pyro\n",
    "import pyro.distributions as dist\n",
    "from pyro.nn import PyroModule, PyroSample, PyroParam\n",
    "from pyro.contrib.autoname import scope\n",
    "from pyro.poutine import condition, reparam\n",
    "\n",
    "import causal_pyro\n",
    "from causal_pyro.query.do_messenger import do\n",
    "from causal_pyro.counterfactual.handlers import Factual, MultiWorldCounterfactual, TwinWorldCounterfactual"
   ]
  },
  {
   "cell_type": "markdown",
   "metadata": {},
   "source": [
    "## Background: nested counterfactuals"
   ]
  },
  {
   "cell_type": "markdown",
   "metadata": {},
   "source": [
    "## Model: Pearl's mediation example"
   ]
  },
  {
   "cell_type": "code",
   "execution_count": null,
   "metadata": {},
   "outputs": [],
   "source": [
    "class MediationSCM(PyroModule):\n",
    "\n",
    "    @staticmethod\n",
    "    def f_W(U2, U3, e_W):\n",
    "        return U2 + U3 + e_W\n",
    "\n",
    "    @staticmethod\n",
    "    def f_X(U1, U3, U4, e_X):\n",
    "        return U1 + U3 + U4 + e_X\n",
    "\n",
    "    @staticmethod\n",
    "    def f_Z(U4, X, W, e_X):\n",
    "        return U4 + X + W + e_X\n",
    "\n",
    "    @staticmethod\n",
    "    def f_Y(X, Z, U1, U2, e_Y):\n",
    "        return X + Z + U1 + U2 + e_Y\n",
    "\n",
    "    def forward(self):\n",
    "        U1 = pyro.sample(\"U1\", dist.Normal(0, 1))\n",
    "        U2 = pyro.sample(\"U2\", dist.Normal(0, 1))\n",
    "        U3 = pyro.sample(\"U3\", dist.Normal(0, 1))\n",
    "        U4 = pyro.sample(\"U4\", dist.Normal(0, 1))\n",
    "\n",
    "        e_W = pyro.sample(\"e_W\", dist.Normal(0, 1))\n",
    "        W = pyro.deterministic(\"W\", self.f_W(U2, U3, e_W), event_dim=0)\n",
    "\n",
    "        e_X = pyro.sample(\"e_X\", dist.Normal(0, 1))\n",
    "        X = pyro.deterministic(\"X\", self.f_X(U1, U3, U4, e_X), event_dim=0)\n",
    "\n",
    "        e_Z = pyro.sample(\"e_Z\", dist.Normal(0, 1))\n",
    "        Z = pyro.deterministic(\"Z\", self.f_Z(U4, X, W, e_Z), event_dim=0)\n",
    "\n",
    "        e_Y = pyro.sample(\"e_Y\", dist.Normal(0, 1))\n",
    "        Y = pyro.deterministic(\"Y\", self.f_Y(X, Z, U1, U2, e_Y), event_dim=0)\n",
    "        return Y"
   ]
  },
  {
   "cell_type": "markdown",
   "metadata": {},
   "source": [
    "## Query: natural direct effect (NDE)"
   ]
  },
  {
   "cell_type": "markdown",
   "metadata": {},
   "source": []
  }
 ],
 "metadata": {
  "kernelspec": {
   "display_name": "Python 3.8.10 64-bit",
   "language": "python",
   "name": "python3"
  },
  "language_info": {
   "name": "python",
   "version": "3.8.10"
  },
  "orig_nbformat": 4,
  "vscode": {
   "interpreter": {
    "hash": "916dbcbb3f70747c44a77c7bcd40155683ae19c65e1c03b4aa3499c5328201f1"
   }
  }
 },
 "nbformat": 4,
 "nbformat_minor": 2
}

{
 "cells": [
  {
   "cell_type": "markdown",
   "metadata": {},
   "source": [
    "# Example: Mediation analysis and direct effects"
   ]
  },
  {
   "cell_type": "code",
   "execution_count": null,
   "metadata": {},
   "outputs": [],
   "source": [
    "from typing import Dict, List, Optional, Tuple, Union, TypeVar, Callable\n",
    "\n",
    "import torch\n",
    "import pyro\n",
    "import pyro.distributions as dist\n",
    "from pyro.nn import PyroModule, PyroSample, PyroParam\n",
    "from pyro.contrib.autoname import scope\n",
    "from pyro.poutine import condition, reparam\n",
    "\n",
    "import causal_pyro\n",
    "from causal_pyro.query.do_messenger import do\n",
    "from causal_pyro.counterfactual.handlers import Factual, MultiWorldCounterfactual, TwinWorldCounterfactual"
   ]
  },
  {
   "cell_type": "markdown",
   "metadata": {},
   "source": [
    "## Background: nested counterfactuals\n",
    "\n",
    "\n",
    "\n",
    "[Direct and indirect effects](https://ftp.cs.ucla.edu/pub/stat_ser/R273-U.pdf)\n",
    "\n",
    "[Nested counterfactuals](https://proceedings.neurips.cc/paper/2021/hash/36bedb6eb7152f39b16328448942822b-Abstract.html)"
   ]
  },
  {
   "cell_type": "markdown",
   "metadata": {},
   "source": [
    "## Model: Pearl's mediation example\n",
    "\n",
    "Pearl introduces a simple example to demonstrate mediation analysis in \\ref.  "
   ]
  },
  {
   "cell_type": "code",
   "execution_count": null,
   "metadata": {},
   "outputs": [],
   "source": []
  },
  {
   "cell_type": "code",
   "execution_count": null,
   "metadata": {},
   "outputs": [],
   "source": [
    "class MediationSCM(PyroModule):\n",
    "\n",
    "    @staticmethod\n",
    "    def f_W(U2, U3, e_W):\n",
    "        return U2 + U3 + e_W\n",
    "\n",
    "    @staticmethod\n",
    "    def f_X(U1, U3, U4, e_X):\n",
    "        return U1 + U3 + U4 + e_X\n",
    "\n",
    "    @staticmethod\n",
    "    def f_Z(U4, X, W, e_X):\n",
    "        return U4 + X + W + e_X\n",
    "\n",
    "    @staticmethod\n",
    "    def f_Y(X, Z, U1, U2, e_Y):\n",
    "        return X + Z + U1 + U2 + e_Y\n",
    "\n",
    "    def forward(self):\n",
    "        U1 = pyro.sample(\"U1\", dist.Normal(0, 1))\n",
    "        U2 = pyro.sample(\"U2\", dist.Normal(0, 1))\n",
    "        U3 = pyro.sample(\"U3\", dist.Normal(0, 1))\n",
    "        U4 = pyro.sample(\"U4\", dist.Normal(0, 1))\n",
    "\n",
    "        e_W = pyro.sample(\"e_W\", dist.Normal(0, 1))\n",
    "        W = pyro.deterministic(\"W\", self.f_W(U2, U3, e_W), event_dim=0)\n",
    "\n",
    "        e_X = pyro.sample(\"e_X\", dist.Normal(0, 1))\n",
    "        X = pyro.deterministic(\"X\", self.f_X(U1, U3, U4, e_X), event_dim=0)\n",
    "\n",
    "        e_Z = pyro.sample(\"e_Z\", dist.Normal(0, 1))\n",
    "        Z = pyro.deterministic(\"Z\", self.f_Z(U4, X, W, e_Z), event_dim=0)\n",
    "\n",
    "        e_Y = pyro.sample(\"e_Y\", dist.Normal(0, 1))\n",
    "        Y = pyro.deterministic(\"Y\", self.f_Y(X, Z, U1, U2, e_Y), event_dim=0)\n",
    "        return Y"
   ]
  },
  {
   "cell_type": "markdown",
   "metadata": {},
   "source": [
    "## Query: natural direct effect (NDE)"
   ]
  },
  {
   "cell_type": "markdown",
   "metadata": {},
   "source": [
    "The natural direct effect"
   ]
  },
  {
   "cell_type": "code",
   "execution_count": null,
   "metadata": {},
   "outputs": [],
   "source": [
    "# natural direct effect: DE{x,x'}(Y) = E[ Y(X=x', Z(X=x)) - E[Y(X=x)] ]\n",
    "def direct_effect(model: MediationSCM, x, x_prime, w_obs, x_obs, z_obs, y_obs) -> Callable:\n",
    "    return do(actions={\"X\": x})(\n",
    "        do(actions={\"X\": x_prime})(\n",
    "            do(actions={\"Z\": lambda Z: Z})(\n",
    "                condition(data={\"W\": w_obs, \"X\": x_obs, \"Z\": z_obs, \"Y\": y_obs})(\n",
    "                    MultiWorldCounterfactual(-2)(\n",
    "                        pyro.plate(\"data\", size=y_obs.shape[-1], dim=-1)(\n",
    "                            model))))))"
   ]
  },
  {
   "cell_type": "markdown",
   "metadata": {},
   "source": [
    "The indirect effect is actually the same query operation under `MultiWorldCounterfactual`:"
   ]
  },
  {
   "cell_type": "code",
   "execution_count": null,
   "metadata": {},
   "outputs": [],
   "source": [
    "\n",
    "# indirect effect: IE{x,x'}(Y) = E[ Y(X=x, Z(X=x')) - E[Y(X=x)] ]\n",
    "def indirect_effect(model: MediationSCM, x, x_prime, w_obs, x_obs, z_obs, y_obs) -> Callable:\n",
    "    return do(actions={\"X\": x})(\n",
    "        do(actions={\"X\": x_prime})(\n",
    "            do(actions={\"Z\": lambda Z: Z})(\n",
    "                condition(data={\"W\": w_obs, \"X\": x_obs, \"Z\": z_obs, \"Y\": y_obs})(\n",
    "                    MultiWorldCounterfactual(-2)(\n",
    "                        pyro.plate(\"data\", size=y_obs.shape[-1], dim=-1)(\n",
    "                            model))))))"
   ]
  }
 ],
 "metadata": {
  "kernelspec": {
   "display_name": "Python 3 (ipykernel)",
   "language": "python",
   "name": "python3"
  },
  "language_info": {
   "codemirror_mode": {
    "name": "ipython",
    "version": 3
   },
   "file_extension": ".py",
   "mimetype": "text/x-python",
   "name": "python",
   "nbconvert_exporter": "python",
   "pygments_lexer": "ipython3",
   "version": "3.10.6"
  },
  "vscode": {
   "interpreter": {
    "hash": "916dbcbb3f70747c44a77c7bcd40155683ae19c65e1c03b4aa3499c5328201f1"
   }
  }
 },
 "nbformat": 4,
 "nbformat_minor": 2
}

{
 "cells": [
  {
   "cell_type": "code",
   "execution_count": 71,
   "id": "9d72c9dc",
   "metadata": {},
   "outputs": [
    {
     "name": "stdout",
     "output_type": "stream",
     "text": [
      "The nb_black extension is already loaded. To reload it, use:\n",
      "  %reload_ext nb_black\n"
     ]
    },
    {
     "data": {
      "application/javascript": "\n            setTimeout(function() {\n                var nbb_cell_id = 71;\n                var nbb_unformatted_code = \"import matplotlib.pyplot as plt\\nimport seaborn as sns\\nimport pandas as pd\\nfrom tqdm import tqdm\\n\\nimport torch\\nimport pyro\\nimport pyro.distributions as dist\\nfrom pyro.infer import SVI, Trace_ELBO\\nfrom pyro.infer.autoguide import AutoDelta, AutoMultivariateNormal\\nfrom torch.distributions.constraints import simplex, positive\\nfrom pyro.infer import Predictive\\n\\nsns.set_style(\\\"white\\\")\\n\\n%load_ext nb_black\";\n                var nbb_formatted_code = \"import matplotlib.pyplot as plt\\nimport seaborn as sns\\nimport pandas as pd\\nfrom tqdm import tqdm\\n\\nimport torch\\nimport pyro\\nimport pyro.distributions as dist\\nfrom pyro.infer import SVI, Trace_ELBO\\nfrom pyro.infer.autoguide import AutoDelta, AutoMultivariateNormal\\nfrom torch.distributions.constraints import simplex, positive\\nfrom pyro.infer import Predictive\\n\\nsns.set_style(\\\"white\\\")\\n\\n%load_ext nb_black\";\n                var nbb_cells = Jupyter.notebook.get_cells();\n                for (var i = 0; i < nbb_cells.length; ++i) {\n                    if (nbb_cells[i].input_prompt_number == nbb_cell_id) {\n                        if (nbb_cells[i].get_text() == nbb_unformatted_code) {\n                             nbb_cells[i].set_text(nbb_formatted_code);\n                        }\n                        break;\n                    }\n                }\n            }, 500);\n            ",
      "text/plain": [
       "<IPython.core.display.Javascript object>"
      ]
     },
     "metadata": {},
     "output_type": "display_data"
    }
   ],
   "source": [
    "import matplotlib.pyplot as plt\n",
    "import seaborn as sns\n",
    "import pandas as pd\n",
    "from tqdm import tqdm\n",
    "\n",
    "import torch\n",
    "import pyro\n",
    "import pyro.distributions as dist\n",
    "from pyro.infer import SVI, Trace_ELBO\n",
    "from pyro.infer.autoguide import AutoDelta, AutoMultivariateNormal\n",
    "from torch.distributions.constraints import simplex, positive\n",
    "from pyro.infer import Predictive\n",
    "\n",
    "sns.set_style(\"white\")\n",
    "\n",
    "%load_ext nb_black"
   ]
  },
  {
   "attachments": {},
   "cell_type": "markdown",
   "id": "f02d6235",
   "metadata": {},
   "source": [
    "## Causal Effect Estimation: California Smoking Cessation Program\n",
    "\n",
    "In 1989, California passed Proposition 99 which increased cigarette taxes. We will estimate the impact this policy had on cigarette consumption using the California smoking cessation program dataset [2]. This dataset consists of cigarette consumption of 39 states between 1970 to 2000, 38 of which are control units.\n",
    "\n",
    "We start by loading and visualizing the dataset."
   ]
  },
  {
   "cell_type": "code",
   "execution_count": 12,
   "id": "7c9a11aa",
   "metadata": {},
   "outputs": [
    {
     "data": {
      "application/javascript": "\n            setTimeout(function() {\n                var nbb_cell_id = 12;\n                var nbb_unformatted_code = \"# Let's load the data from the author's github\\nDATA_URL = \\\"https://raw.githubusercontent.com/synth-inference/synthdid/master/data/california_prop99.csv\\\"\\ndata = pd.read_csv(DATA_URL, sep=\\\";\\\")\\n\\n# Assign unique integer ids for each state and each time\\ndata[\\\"unit_index\\\"] = pd.factorize(data[\\\"State\\\"].values)[0]\\ndata[\\\"time_index\\\"] = pd.factorize(data[\\\"Year\\\"].values)[0]\\n\\n# Model below assumes the response is coded as \\\"y\\\"\\ndata[\\\"y\\\"] = data[\\\"PacksPerCapita\\\"].values.copy()\\n\\n# Assign each unit to treatment or control group\\ndata[\\\"in_treatment_group\\\"] = 0\\ntreated_units = data[data[\\\"treated\\\"] == 1][\\\"State\\\"].unique()\\ndata.loc[data[\\\"State\\\"].isin(treated_units), \\\"in_treatment_group\\\"] = 1\";\n                var nbb_formatted_code = \"# Let's load the data from the author's github\\nDATA_URL = \\\"https://raw.githubusercontent.com/synth-inference/synthdid/master/data/california_prop99.csv\\\"\\ndata = pd.read_csv(DATA_URL, sep=\\\";\\\")\\n\\n# Assign unique integer ids for each state and each time\\ndata[\\\"unit_index\\\"] = pd.factorize(data[\\\"State\\\"].values)[0]\\ndata[\\\"time_index\\\"] = pd.factorize(data[\\\"Year\\\"].values)[0]\\n\\n# Model below assumes the response is coded as \\\"y\\\"\\ndata[\\\"y\\\"] = data[\\\"PacksPerCapita\\\"].values.copy()\\n\\n# Assign each unit to treatment or control group\\ndata[\\\"in_treatment_group\\\"] = 0\\ntreated_units = data[data[\\\"treated\\\"] == 1][\\\"State\\\"].unique()\\ndata.loc[data[\\\"State\\\"].isin(treated_units), \\\"in_treatment_group\\\"] = 1\";\n                var nbb_cells = Jupyter.notebook.get_cells();\n                for (var i = 0; i < nbb_cells.length; ++i) {\n                    if (nbb_cells[i].input_prompt_number == nbb_cell_id) {\n                        if (nbb_cells[i].get_text() == nbb_unformatted_code) {\n                             nbb_cells[i].set_text(nbb_formatted_code);\n                        }\n                        break;\n                    }\n                }\n            }, 500);\n            ",
      "text/plain": [
       "<IPython.core.display.Javascript object>"
      ]
     },
     "metadata": {},
     "output_type": "display_data"
    }
   ],
   "source": [
    "# Let's load the data from the author's github\n",
    "DATA_URL = \"https://raw.githubusercontent.com/synth-inference/synthdid/master/data/california_prop99.csv\"\n",
    "data = pd.read_csv(DATA_URL, sep=\";\")\n",
    "\n",
    "# Assign unique integer ids for each state and each time\n",
    "data[\"unit_index\"] = pd.factorize(data[\"State\"].values)[0]\n",
    "data[\"time_index\"] = pd.factorize(data[\"Year\"].values)[0]\n",
    "\n",
    "# Model below assumes the response is coded as \"y\"\n",
    "data[\"y\"] = data[\"PacksPerCapita\"].values.copy()\n",
    "\n",
    "# Assign each unit to treatment or control group\n",
    "data[\"in_treatment_group\"] = 0\n",
    "treated_units = data[data[\"treated\"] == 1][\"State\"].unique()\n",
    "data.loc[data[\"State\"].isin(treated_units), \"in_treatment_group\"] = 1"
   ]
  },
  {
   "cell_type": "code",
   "execution_count": 13,
   "id": "eef6d3c8",
   "metadata": {},
   "outputs": [
    {
     "data": {
      "text/html": [
       "<div>\n",
       "<style scoped>\n",
       "    .dataframe tbody tr th:only-of-type {\n",
       "        vertical-align: middle;\n",
       "    }\n",
       "\n",
       "    .dataframe tbody tr th {\n",
       "        vertical-align: top;\n",
       "    }\n",
       "\n",
       "    .dataframe thead th {\n",
       "        text-align: right;\n",
       "    }\n",
       "</style>\n",
       "<table border=\"1\" class=\"dataframe\">\n",
       "  <thead>\n",
       "    <tr style=\"text-align: right;\">\n",
       "      <th></th>\n",
       "      <th>State</th>\n",
       "      <th>Year</th>\n",
       "      <th>PacksPerCapita</th>\n",
       "      <th>treated</th>\n",
       "      <th>unit_index</th>\n",
       "      <th>time_index</th>\n",
       "      <th>y</th>\n",
       "      <th>in_treatment_group</th>\n",
       "    </tr>\n",
       "  </thead>\n",
       "  <tbody>\n",
       "    <tr>\n",
       "      <th>0</th>\n",
       "      <td>Alabama</td>\n",
       "      <td>1970</td>\n",
       "      <td>89.800003</td>\n",
       "      <td>0</td>\n",
       "      <td>0</td>\n",
       "      <td>0</td>\n",
       "      <td>89.800003</td>\n",
       "      <td>0</td>\n",
       "    </tr>\n",
       "    <tr>\n",
       "      <th>1</th>\n",
       "      <td>Arkansas</td>\n",
       "      <td>1970</td>\n",
       "      <td>100.300003</td>\n",
       "      <td>0</td>\n",
       "      <td>1</td>\n",
       "      <td>0</td>\n",
       "      <td>100.300003</td>\n",
       "      <td>0</td>\n",
       "    </tr>\n",
       "    <tr>\n",
       "      <th>2</th>\n",
       "      <td>Colorado</td>\n",
       "      <td>1970</td>\n",
       "      <td>124.800003</td>\n",
       "      <td>0</td>\n",
       "      <td>2</td>\n",
       "      <td>0</td>\n",
       "      <td>124.800003</td>\n",
       "      <td>0</td>\n",
       "    </tr>\n",
       "    <tr>\n",
       "      <th>3</th>\n",
       "      <td>Connecticut</td>\n",
       "      <td>1970</td>\n",
       "      <td>120.000000</td>\n",
       "      <td>0</td>\n",
       "      <td>3</td>\n",
       "      <td>0</td>\n",
       "      <td>120.000000</td>\n",
       "      <td>0</td>\n",
       "    </tr>\n",
       "    <tr>\n",
       "      <th>4</th>\n",
       "      <td>Delaware</td>\n",
       "      <td>1970</td>\n",
       "      <td>155.000000</td>\n",
       "      <td>0</td>\n",
       "      <td>4</td>\n",
       "      <td>0</td>\n",
       "      <td>155.000000</td>\n",
       "      <td>0</td>\n",
       "    </tr>\n",
       "  </tbody>\n",
       "</table>\n",
       "</div>"
      ],
      "text/plain": [
       "         State  Year  PacksPerCapita  treated  unit_index  time_index   \n",
       "0      Alabama  1970       89.800003        0           0           0  \\\n",
       "1     Arkansas  1970      100.300003        0           1           0   \n",
       "2     Colorado  1970      124.800003        0           2           0   \n",
       "3  Connecticut  1970      120.000000        0           3           0   \n",
       "4     Delaware  1970      155.000000        0           4           0   \n",
       "\n",
       "            y  in_treatment_group  \n",
       "0   89.800003                   0  \n",
       "1  100.300003                   0  \n",
       "2  124.800003                   0  \n",
       "3  120.000000                   0  \n",
       "4  155.000000                   0  "
      ]
     },
     "execution_count": 13,
     "metadata": {},
     "output_type": "execute_result"
    },
    {
     "data": {
      "application/javascript": "\n            setTimeout(function() {\n                var nbb_cell_id = 13;\n                var nbb_unformatted_code = \"# Show first few rows of the dataset\\ndata.head()\";\n                var nbb_formatted_code = \"# Show first few rows of the dataset\\ndata.head()\";\n                var nbb_cells = Jupyter.notebook.get_cells();\n                for (var i = 0; i < nbb_cells.length; ++i) {\n                    if (nbb_cells[i].input_prompt_number == nbb_cell_id) {\n                        if (nbb_cells[i].get_text() == nbb_unformatted_code) {\n                             nbb_cells[i].set_text(nbb_formatted_code);\n                        }\n                        break;\n                    }\n                }\n            }, 500);\n            ",
      "text/plain": [
       "<IPython.core.display.Javascript object>"
      ]
     },
     "metadata": {},
     "output_type": "display_data"
    }
   ],
   "source": [
    "# Show first few rows of the dataset\n",
    "data.head()"
   ]
  },
  {
   "cell_type": "code",
   "execution_count": 25,
   "id": "5c55cdf2",
   "metadata": {},
   "outputs": [
    {
     "data": {
      "text/plain": [
       "<matplotlib.legend.Legend at 0x15f956020>"
      ]
     },
     "execution_count": 25,
     "metadata": {},
     "output_type": "execute_result"
    },
    {
     "data": {
      "image/png": "[encoded data removed]",
      "text/plain": [
       "<Figure size 640x480 with 1 Axes>"
      ]
     },
     "metadata": {},
     "output_type": "display_data"
    },
    {
     "data": {
      "application/javascript": "\n            setTimeout(function() {\n                var nbb_cell_id = 25;\n                var nbb_unformatted_code = \"sns.lineplot(\\n    x=data[data[\\\"State\\\"] == \\\"California\\\"][\\\"Year\\\"],\\n    y=data[data[\\\"State\\\"] == \\\"California\\\"][\\\"PacksPerCapita\\\"],\\n    marker=\\\"o\\\",\\n    label='California',\\n)\\n\\n# The shaded area is the plot is the 95% confidence interval around the mean\\nsns.lineplot(\\n    x=data[data[\\\"State\\\"] != \\\"California\\\"][\\\"Year\\\"],\\n    y=data[data[\\\"State\\\"] != \\\"California\\\"][\\\"PacksPerCapita\\\"],\\n    marker=\\\"o\\\",\\n    label='Avg. across all other states',\\n)\\n\\nplt.axvline(\\n    1989, label=\\\"Proposition 99 Passed\\\", color=\\\"black\\\", linestyle=\\\"dashed\\\"\\n)\\nplt.ylabel(\\\"Packs per capita\\\")\\nsns.despine()\\nplt.legend()\";\n                var nbb_formatted_code = \"sns.lineplot(\\n    x=data[data[\\\"State\\\"] == \\\"California\\\"][\\\"Year\\\"],\\n    y=data[data[\\\"State\\\"] == \\\"California\\\"][\\\"PacksPerCapita\\\"],\\n    marker=\\\"o\\\",\\n    label=\\\"California\\\",\\n)\\n\\n# The shaded area is the plot is the 95% confidence interval around the mean\\nsns.lineplot(\\n    x=data[data[\\\"State\\\"] != \\\"California\\\"][\\\"Year\\\"],\\n    y=data[data[\\\"State\\\"] != \\\"California\\\"][\\\"PacksPerCapita\\\"],\\n    marker=\\\"o\\\",\\n    label=\\\"Avg. across all other states\\\",\\n)\\n\\nplt.axvline(1989, label=\\\"Proposition 99 Passed\\\", color=\\\"black\\\", linestyle=\\\"dashed\\\")\\nplt.ylabel(\\\"Packs per capita\\\")\\nsns.despine()\\nplt.legend()\";\n                var nbb_cells = Jupyter.notebook.get_cells();\n                for (var i = 0; i < nbb_cells.length; ++i) {\n                    if (nbb_cells[i].input_prompt_number == nbb_cell_id) {\n                        if (nbb_cells[i].get_text() == nbb_unformatted_code) {\n                             nbb_cells[i].set_text(nbb_formatted_code);\n                        }\n                        break;\n                    }\n                }\n            }, 500);\n            ",
      "text/plain": [
       "<IPython.core.display.Javascript object>"
      ]
     },
     "metadata": {},
     "output_type": "display_data"
    }
   ],
   "source": [
    "sns.lineplot(\n",
    "    x=data[data[\"State\"] == \"California\"][\"Year\"],\n",
    "    y=data[data[\"State\"] == \"California\"][\"PacksPerCapita\"],\n",
    "    marker=\"o\",\n",
    "    label='California',\n",
    ")\n",
    "\n",
    "# The shaded area is the plot is the 95% confidence interval around the mean\n",
    "sns.lineplot(\n",
    "    x=data[data[\"State\"] != \"California\"][\"Year\"],\n",
    "    y=data[data[\"State\"] != \"California\"][\"PacksPerCapita\"],\n",
    "    marker=\"o\",\n",
    "    label='Avg. across all other states',\n",
    ")\n",
    "\n",
    "plt.axvline(\n",
    "    1989, label=\"Proposition 99 Passed\", color=\"black\", linestyle=\"dashed\"\n",
    ")\n",
    "plt.ylabel(\"Packs per capita\")\n",
    "sns.despine()\n",
    "plt.legend()"
   ]
  },
  {
   "attachments": {},
   "cell_type": "markdown",
   "id": "66cb6c41",
   "metadata": {},
   "source": [
    "### We would like to estimate a counterfactual: had California not raised cigarette taxes, what would have cigarette consumption been?\n",
    "\n",
    "To estimate this effect, we implement a Bayesian analogue of the Synthetic Difference-in-Differences (SDID) estimator proposed in [1]. "
   ]
  },
  {
   "cell_type": "code",
   "execution_count": 56,
   "id": "d7566e08",
   "metadata": {},
   "outputs": [
    {
     "data": {
      "application/javascript": "\n            setTimeout(function() {\n                var nbb_cell_id = 56;\n                var nbb_unformatted_code = \"class BayesSDID(pyro.nn.PyroModule):\\n    def __init__(self, X: pd.DataFrame):\\n        \\\"\\\"\\\"\\n        Input:\\n            X: dataframe with columns \\\"unit_index\\\", \\\"time_index\\\", \\\"in_treatment_group\\\", \\\"y\\\", \\\"treated\\\"\\n        \\\"\\\"\\\"\\n        super().__init__()\\n        self.X = X.copy() # TODO: sort as necessary\\n        units_by_group = X[[\\\"unit_index\\\", \\\"in_treatment_group\\\"]].drop_duplicates()\\n        self.N = units_by_group.shape[0] # number of units\\n        self.N_tr = units_by_group[\\\"in_treatment_group\\\"].sum()  # number of treated units\\n        self.N_co = self.N - self.N_tr  # number of control units\\n        self.T_pre = X[X[\\\"treated\\\"] == 1][\\\"time_index\\\"].min()  # number of pre-treatment periods\\n        self.T_post = data[\\\"time_index\\\"].max() - self.T_pre + 1  # number of post-treatment periods\\n        self.T = self.T_pre + self.T_post  # total number of periods\\n        self.times_by_units = torch.tensor(pd.pivot_table(X, values=\\\"y\\\", index=\\\"time_index\\\", columns=\\\"unit_index\\\").values).float()\\n        self.avg_y_post_treat = self.times_by_units[self.T_pre:, self.N_co:].mean(axis=0)  # average of each treated unit over the post-treatment period\\n        self.y_pre_treat_tr_avg = self.times_by_units[:self.T_pre, self.N_co:].mean(axis=1)\\n        self.y = torch.tensor(X[\\\"y\\\"].values)\\n        self.treated = torch.tensor(data[\\\"treated\\\"].values)\\n        self.unit_index = list(X[\\\"unit_index\\\"].values)\\n        self.time_index = list(X[\\\"time_index\\\"].values)\\n\\n    def sample_synthetic_control_weights(self):\\n        w0 = pyro.sample(\\\"w0\\\", dist.Normal(0, 1)) # intercept\\n        w_co = pyro.sample(\\\"w_co\\\", dist.Dirichlet(torch.ones(self.N_co))) # convex combination of control units\\n        return w0, w_co\\n    \\n    def sample_time_weights(self):\\n        lam_0 = pyro.sample(\\\"lam_0\\\", dist.Normal(0, 1)) # intercept\\n        lam_pre = pyro.sample(\\\"lam_pre\\\", dist.Dirichlet(torch.ones(self.T_pre))) # convex combination of time periods\\n        return lam_0, lam_pre\\n\\n    def sample_response_params(self, prior_scale=10):\\n        # Intercept, time fixed effects, treatment effect, unit fixed effects \\n        mu = pyro.sample(\\\"mu\\\", dist.Normal(0, prior_scale))\\n        beta = pyro.sample(\\\"beta\\\", dist.Normal(0, prior_scale).expand((self.T,)).to_event(1))\\n        tau = pyro.sample(\\\"tau\\\", dist.Normal(0, prior_scale))\\n        alpha = pyro.sample( \\\"alpha\\\", dist.Normal(0, 10.).expand((self.N,)).to_event(1))\\n        return mu, beta, tau, alpha\\n    \\n    def synthetic_control_unit(self, times_by_units: torch.Tensor, w0: torch.Tensor, w_co: torch.Tensor):\\n        return w0 + times_by_units.mv(w_co)\\n            \\n    def time_control(self, units_by_time: torch.Tensor, lam_0, lam_pre):\\n        return lam_0 + units_by_time.mv(lam_pre)\\n\\n    def forward(self, **kwargs):        \\n        # Sample synthetic control weights, time weights, response parameters\\n        w0, w_co = self.sample_synthetic_control_weights()\\n        w_co_tr = torch.cat([w_co, 1 / self.N_tr * torch.ones(self.N_tr)]) # TODO: this assumes\\n        lam_0, lam_pre = self.sample_time_weights()\\n        lam_pre_post = torch.cat([lam_pre, 1 / self.T_post * torch.ones(self.T_post)]) # TODO: this assumes\\n        mu, beta, tau, alpha = self.sample_response_params(**kwargs)\\n        \\n        # Synthetic control weights likelihood\\n        y_sc = self.synthetic_control_unit(self.times_by_units[:self.T_pre, :self.N_co], w0, w_co)\\n        with pyro.plate(\\\"synthetic_control_weights\\\", self.T_pre):\\n            pyro.sample(\\\"y_pre_treat_tr_avg\\\", dist.Normal(y_sc, 1.0), obs=self.y_pre_treat_tr_avg)\\n\\n        # Time weights likelihood\\n        y_time = self.time_control(self.times_by_units[:self.T_pre, :].T, lam_0, lam_pre)\\n        with pyro.plate(\\\"time_weights\\\", self.N):\\n            pyro.sample(\\\"avg_y_post_treat\\\", dist.Normal(y_time, 1.0), obs=self.avg_y_post_treat)\\n\\n        # Response likelihood\\n        weights = w_co_tr[self.unit_index] * lam_pre_post[self.time_index]\\n        f = mu + beta[self.time_index] + alpha[self.unit_index] + tau * self.treated\\n        with pyro.plate(\\\"response\\\", self.N * self.T):\\n            pyro.sample(\\\"y\\\", dist.Normal(f, 1 / weights), obs=self.y)\\n\\nwith pyro.poutine.trace() as tr:\\n    BayesSDID(data)()\";\n                var nbb_formatted_code = \"class BayesSDID(pyro.nn.PyroModule):\\n    def __init__(self, X: pd.DataFrame):\\n        \\\"\\\"\\\"\\n        Input:\\n            X: dataframe with columns \\\"unit_index\\\", \\\"time_index\\\", \\\"in_treatment_group\\\", \\\"y\\\", \\\"treated\\\"\\n        \\\"\\\"\\\"\\n        super().__init__()\\n        self.X = X.copy()  # TODO: sort as necessary\\n        units_by_group = X[[\\\"unit_index\\\", \\\"in_treatment_group\\\"]].drop_duplicates()\\n        self.N = units_by_group.shape[0]  # number of units\\n        self.N_tr = units_by_group[\\n            \\\"in_treatment_group\\\"\\n        ].sum()  # number of treated units\\n        self.N_co = self.N - self.N_tr  # number of control units\\n        self.T_pre = X[X[\\\"treated\\\"] == 1][\\n            \\\"time_index\\\"\\n        ].min()  # number of pre-treatment periods\\n        self.T_post = (\\n            data[\\\"time_index\\\"].max() - self.T_pre + 1\\n        )  # number of post-treatment periods\\n        self.T = self.T_pre + self.T_post  # total number of periods\\n        self.times_by_units = torch.tensor(\\n            pd.pivot_table(\\n                X, values=\\\"y\\\", index=\\\"time_index\\\", columns=\\\"unit_index\\\"\\n            ).values\\n        ).float()\\n        self.avg_y_post_treat = self.times_by_units[self.T_pre :, self.N_co :].mean(\\n            axis=0\\n        )  # average of each treated unit over the post-treatment period\\n        self.y_pre_treat_tr_avg = self.times_by_units[: self.T_pre, self.N_co :].mean(\\n            axis=1\\n        )\\n        self.y = torch.tensor(X[\\\"y\\\"].values)\\n        self.treated = torch.tensor(data[\\\"treated\\\"].values)\\n        self.unit_index = list(X[\\\"unit_index\\\"].values)\\n        self.time_index = list(X[\\\"time_index\\\"].values)\\n\\n    def sample_synthetic_control_weights(self):\\n        w0 = pyro.sample(\\\"w0\\\", dist.Normal(0, 1))  # intercept\\n        w_co = pyro.sample(\\n            \\\"w_co\\\", dist.Dirichlet(torch.ones(self.N_co))\\n        )  # convex combination of control units\\n        return w0, w_co\\n\\n    def sample_time_weights(self):\\n        lam_0 = pyro.sample(\\\"lam_0\\\", dist.Normal(0, 1))  # intercept\\n        lam_pre = pyro.sample(\\n            \\\"lam_pre\\\", dist.Dirichlet(torch.ones(self.T_pre))\\n        )  # convex combination of time periods\\n        return lam_0, lam_pre\\n\\n    def sample_response_params(self, prior_scale=10):\\n        # Intercept, time fixed effects, treatment effect, unit fixed effects\\n        mu = pyro.sample(\\\"mu\\\", dist.Normal(0, prior_scale))\\n        beta = pyro.sample(\\n            \\\"beta\\\", dist.Normal(0, prior_scale).expand((self.T,)).to_event(1)\\n        )\\n        tau = pyro.sample(\\\"tau\\\", dist.Normal(0, prior_scale))\\n        alpha = pyro.sample(\\\"alpha\\\", dist.Normal(0, 10.0).expand((self.N,)).to_event(1))\\n        return mu, beta, tau, alpha\\n\\n    def synthetic_control_unit(\\n        self, times_by_units: torch.Tensor, w0: torch.Tensor, w_co: torch.Tensor\\n    ):\\n        return w0 + times_by_units.mv(w_co)\\n\\n    def time_control(self, units_by_time: torch.Tensor, lam_0, lam_pre):\\n        return lam_0 + units_by_time.mv(lam_pre)\\n\\n    def forward(self, **kwargs):\\n        # Sample synthetic control weights, time weights, response parameters\\n        w0, w_co = self.sample_synthetic_control_weights()\\n        w_co_tr = torch.cat(\\n            [w_co, 1 / self.N_tr * torch.ones(self.N_tr)]\\n        )  # TODO: this assumes\\n        lam_0, lam_pre = self.sample_time_weights()\\n        lam_pre_post = torch.cat(\\n            [lam_pre, 1 / self.T_post * torch.ones(self.T_post)]\\n        )  # TODO: this assumes\\n        mu, beta, tau, alpha = self.sample_response_params(**kwargs)\\n\\n        # Synthetic control weights likelihood\\n        y_sc = self.synthetic_control_unit(\\n            self.times_by_units[: self.T_pre, : self.N_co], w0, w_co\\n        )\\n        with pyro.plate(\\\"synthetic_control_weights\\\", self.T_pre):\\n            pyro.sample(\\n                \\\"y_pre_treat_tr_avg\\\",\\n                dist.Normal(y_sc, 1.0),\\n                obs=self.y_pre_treat_tr_avg,\\n            )\\n\\n        # Time weights likelihood\\n        y_time = self.time_control(\\n            self.times_by_units[: self.T_pre, :].T, lam_0, lam_pre\\n        )\\n        with pyro.plate(\\\"time_weights\\\", self.N):\\n            pyro.sample(\\n                \\\"avg_y_post_treat\\\", dist.Normal(y_time, 1.0), obs=self.avg_y_post_treat\\n            )\\n\\n        # Response likelihood\\n        weights = w_co_tr[self.unit_index] * lam_pre_post[self.time_index]\\n        f = mu + beta[self.time_index] + alpha[self.unit_index] + tau * self.treated\\n        with pyro.plate(\\\"response\\\", self.N * self.T):\\n            pyro.sample(\\\"y\\\", dist.Normal(f, 1 / weights), obs=self.y)\\n\\n\\nwith pyro.poutine.trace() as tr:\\n    BayesSDID(data)()\";\n                var nbb_cells = Jupyter.notebook.get_cells();\n                for (var i = 0; i < nbb_cells.length; ++i) {\n                    if (nbb_cells[i].input_prompt_number == nbb_cell_id) {\n                        if (nbb_cells[i].get_text() == nbb_unformatted_code) {\n                             nbb_cells[i].set_text(nbb_formatted_code);\n                        }\n                        break;\n                    }\n                }\n            }, 500);\n            ",
      "text/plain": [
       "<IPython.core.display.Javascript object>"
      ]
     },
     "metadata": {},
     "output_type": "display_data"
    }
   ],
   "source": [
    "class BayesSDID(pyro.nn.PyroModule):\n",
    "    def __init__(self, X: pd.DataFrame):\n",
    "        \"\"\"\n",
    "        Input:\n",
    "            X: dataframe with columns \"unit_index\", \"time_index\", \"in_treatment_group\", \"y\", \"treated\"\n",
    "        \"\"\"\n",
    "        super().__init__()\n",
    "        self.X = X.copy() # TODO: sort as necessary\n",
    "        units_by_group = X[[\"unit_index\", \"in_treatment_group\"]].drop_duplicates()\n",
    "        self.N = units_by_group.shape[0] # number of units\n",
    "        self.N_tr = units_by_group[\"in_treatment_group\"].sum()  # number of treated units\n",
    "        self.N_co = self.N - self.N_tr  # number of control units\n",
    "        self.T_pre = X[X[\"treated\"] == 1][\"time_index\"].min()  # number of pre-treatment periods\n",
    "        self.T_post = data[\"time_index\"].max() - self.T_pre + 1  # number of post-treatment periods\n",
    "        self.T = self.T_pre + self.T_post  # total number of periods\n",
    "        self.times_by_units = torch.tensor(pd.pivot_table(X, values=\"y\", index=\"time_index\", columns=\"unit_index\").values).float()\n",
    "        self.avg_y_post_treat = self.times_by_units[self.T_pre:, self.N_co:].mean(axis=0)  # average of each treated unit over the post-treatment period\n",
    "        self.y_pre_treat_tr_avg = self.times_by_units[:self.T_pre, self.N_co:].mean(axis=1)\n",
    "        self.y = torch.tensor(X[\"y\"].values)\n",
    "        self.treated = torch.tensor(data[\"treated\"].values)\n",
    "        self.unit_index = list(X[\"unit_index\"].values)\n",
    "        self.time_index = list(X[\"time_index\"].values)\n",
    "\n",
    "    def sample_synthetic_control_weights(self):\n",
    "        w0 = pyro.sample(\"w0\", dist.Normal(0, 1)) # intercept\n",
    "        w_co = pyro.sample(\"w_co\", dist.Dirichlet(torch.ones(self.N_co))) # convex combination of control units\n",
    "        return w0, w_co\n",
    "    \n",
    "    def sample_time_weights(self):\n",
    "        lam_0 = pyro.sample(\"lam_0\", dist.Normal(0, 1)) # intercept\n",
    "        lam_pre = pyro.sample(\"lam_pre\", dist.Dirichlet(torch.ones(self.T_pre))) # convex combination of time periods\n",
    "        return lam_0, lam_pre\n",
    "\n",
    "    def sample_response_params(self, prior_scale=10):\n",
    "        # Intercept, time fixed effects, treatment effect, unit fixed effects \n",
    "        mu = pyro.sample(\"mu\", dist.Normal(0, prior_scale))\n",
    "        beta = pyro.sample(\"beta\", dist.Normal(0, prior_scale).expand((self.T,)).to_event(1))\n",
    "        tau = pyro.sample(\"tau\", dist.Normal(0, prior_scale))\n",
    "        alpha = pyro.sample( \"alpha\", dist.Normal(0, 10.).expand((self.N,)).to_event(1))\n",
    "        return mu, beta, tau, alpha\n",
    "    \n",
    "    def synthetic_control_unit(self, times_by_units: torch.Tensor, w0: torch.Tensor, w_co: torch.Tensor):\n",
    "        return w0 + times_by_units.mv(w_co)\n",
    "            \n",
    "    def time_control(self, units_by_time: torch.Tensor, lam_0, lam_pre):\n",
    "        return lam_0 + units_by_time.mv(lam_pre)\n",
    "\n",
    "    def forward(self, **kwargs):        \n",
    "        # Sample synthetic control weights, time weights, response parameters\n",
    "        w0, w_co = self.sample_synthetic_control_weights()\n",
    "        w_co_tr = torch.cat([w_co, 1 / self.N_tr * torch.ones(self.N_tr)]) # TODO: this assumes\n",
    "        lam_0, lam_pre = self.sample_time_weights()\n",
    "        lam_pre_post = torch.cat([lam_pre, 1 / self.T_post * torch.ones(self.T_post)]) # TODO: this assumes\n",
    "        mu, beta, tau, alpha = self.sample_response_params(**kwargs)\n",
    "        \n",
    "        # Synthetic control weights likelihood\n",
    "        y_sc = self.synthetic_control_unit(self.times_by_units[:self.T_pre, :self.N_co], w0, w_co)\n",
    "        with pyro.plate(\"synthetic_control_weights\", self.T_pre):\n",
    "            pyro.sample(\"y_pre_treat_tr_avg\", dist.Normal(y_sc, 1.0), obs=self.y_pre_treat_tr_avg)\n",
    "\n",
    "        # Time weights likelihood\n",
    "        y_time = self.time_control(self.times_by_units[:self.T_pre, :].T, lam_0, lam_pre)\n",
    "        with pyro.plate(\"time_weights\", self.N):\n",
    "            pyro.sample(\"avg_y_post_treat\", dist.Normal(y_time, 1.0), obs=self.avg_y_post_treat)\n",
    "\n",
    "        # Response likelihood\n",
    "        weights = w_co_tr[self.unit_index] * lam_pre_post[self.time_index]\n",
    "        f = mu + beta[self.time_index] + alpha[self.unit_index] + tau * self.treated\n",
    "        with pyro.plate(\"response\", self.N * self.T):\n",
    "            pyro.sample(\"y\", dist.Normal(f, 1 / weights), obs=self.y)\n"
   ]
  },
  {
   "attachments": {},
   "cell_type": "markdown",
   "id": "a10e36ed",
   "metadata": {},
   "source": [
    "### Let's visualize Bayesian SDID probabilistic model."
   ]
  },
  {
   "cell_type": "code",
   "execution_count": 70,
   "id": "538827b5",
   "metadata": {},
   "outputs": [
    {
     "data": {
      "image/svg+xml": [
       "<?xml version=\"1.0\" encoding=\"UTF-8\" standalone=\"no\"?>\n",
       "<!DOCTYPE svg PUBLIC \"-//W3C//DTD SVG 1.1//EN\"\n",
       " \"http://www.w3.org/Graphics/SVG/1.1/DTD/svg11.dtd\">\n",
       "<!-- Generated by graphviz version 2.50.0 (0)\n",
       " -->\n",
       "<!-- Pages: 1 -->\n",
       "<svg width=\"839pt\" height=\"292pt\"\n",
       " viewBox=\"0.00 0.00 839.00 292.00\" xmlns=\"http://www.w3.org/2000/svg\" xmlns:xlink=\"http://www.w3.org/1999/xlink\">\n",
       "<g id=\"graph0\" class=\"graph\" transform=\"scale(1 1) rotate(0) translate(4 288)\">\n",
       "<polygon fill=\"white\" stroke=\"transparent\" points=\"-4,4 -4,-288 835,-288 835,4 -4,4\"/>\n",
       "<g id=\"clust1\" class=\"cluster\">\n",
       "<title>cluster_synthetic_control_weights</title>\n",
       "<polygon fill=\"none\" stroke=\"black\" points=\"8,-8 8,-83 178,-83 178,-8 8,-8\"/>\n",
       "<text text-anchor=\"middle\" x=\"98.5\" y=\"-15.8\" font-family=\"Times,serif\" font-size=\"14.00\">synthetic_control_weights</text>\n",
       "</g>\n",
       "<g id=\"clust2\" class=\"cluster\">\n",
       "<title>cluster_time_weights</title>\n",
       "<polygon fill=\"none\" stroke=\"black\" points=\"479,-8 479,-83 637,-83 637,-8 479,-8\"/>\n",
       "<text text-anchor=\"middle\" x=\"592\" y=\"-15.8\" font-family=\"Times,serif\" font-size=\"14.00\">time_weights</text>\n",
       "</g>\n",
       "<g id=\"clust3\" class=\"cluster\">\n",
       "<title>cluster_response</title>\n",
       "<polygon fill=\"none\" stroke=\"black\" points=\"279,-8 279,-83 349,-83 349,-8 279,-8\"/>\n",
       "<text text-anchor=\"middle\" x=\"317\" y=\"-15.8\" font-family=\"Times,serif\" font-size=\"14.00\">response</text>\n",
       "</g>\n",
       "<!-- w0 -->\n",
       "<g id=\"node1\" class=\"node\">\n",
       "<title>w0</title>\n",
       "<ellipse fill=\"white\" stroke=\"black\" cx=\"56\" cy=\"-197.5\" rx=\"27\" ry=\"18\"/>\n",
       "<text text-anchor=\"middle\" x=\"56\" y=\"-193.8\" font-family=\"Times,serif\" font-size=\"14.00\">w0</text>\n",
       "</g>\n",
       "<!-- y_pre_treat_tr_avg -->\n",
       "<g id=\"node9\" class=\"node\">\n",
       "<title>y_pre_treat_tr_avg</title>\n",
       "<ellipse fill=\"gray\" stroke=\"black\" cx=\"93\" cy=\"-57\" rx=\"77.19\" ry=\"18\"/>\n",
       "<text text-anchor=\"middle\" x=\"93\" y=\"-53.3\" font-family=\"Times,serif\" font-size=\"14.00\">y_pre_treat_tr_avg</text>\n",
       "</g>\n",
       "<!-- w0&#45;&gt;y_pre_treat_tr_avg -->\n",
       "<g id=\"edge2\" class=\"edge\">\n",
       "<title>w0&#45;&gt;y_pre_treat_tr_avg</title>\n",
       "<path fill=\"none\" stroke=\"black\" d=\"M60.54,-179.52C66.83,-155.95 78.29,-113.06 85.77,-85.06\"/>\n",
       "<polygon fill=\"black\" stroke=\"black\" points=\"89.23,-85.69 88.43,-75.12 82.46,-83.88 89.23,-85.69\"/>\n",
       "</g>\n",
       "<!-- w_co -->\n",
       "<g id=\"node2\" class=\"node\">\n",
       "<title>w_co</title>\n",
       "<ellipse fill=\"white\" stroke=\"black\" cx=\"131\" cy=\"-197.5\" rx=\"29.8\" ry=\"18\"/>\n",
       "<text text-anchor=\"middle\" x=\"131\" y=\"-193.8\" font-family=\"Times,serif\" font-size=\"14.00\">w_co</text>\n",
       "</g>\n",
       "<!-- w_co&#45;&gt;y_pre_treat_tr_avg -->\n",
       "<g id=\"edge1\" class=\"edge\">\n",
       "<title>w_co&#45;&gt;y_pre_treat_tr_avg</title>\n",
       "<path fill=\"none\" stroke=\"black\" d=\"M126.34,-179.52C119.87,-155.95 108.11,-113.06 100.42,-85.06\"/>\n",
       "<polygon fill=\"black\" stroke=\"black\" points=\"103.72,-83.84 97.7,-75.12 96.97,-85.69 103.72,-83.84\"/>\n",
       "</g>\n",
       "<!-- y -->\n",
       "<g id=\"node11\" class=\"node\">\n",
       "<title>y</title>\n",
       "<ellipse fill=\"gray\" stroke=\"black\" cx=\"314\" cy=\"-57\" rx=\"27\" ry=\"18\"/>\n",
       "<text text-anchor=\"middle\" x=\"314\" y=\"-53.3\" font-family=\"Times,serif\" font-size=\"14.00\">y</text>\n",
       "</g>\n",
       "<!-- w_co&#45;&gt;y -->\n",
       "<g id=\"edge7\" class=\"edge\">\n",
       "<title>w_co&#45;&gt;y</title>\n",
       "<path fill=\"none\" stroke=\"black\" d=\"M134.62,-179.4C139.51,-160.27 150.02,-129.53 170,-111 199.92,-83.25 245.59,-69.73 277.45,-63.35\"/>\n",
       "<polygon fill=\"black\" stroke=\"black\" points=\"278.49,-66.72 287.69,-61.45 277.21,-59.84 278.49,-66.72\"/>\n",
       "</g>\n",
       "<!-- lam_0 -->\n",
       "<g id=\"node3\" class=\"node\">\n",
       "<title>lam_0</title>\n",
       "<ellipse fill=\"white\" stroke=\"black\" cx=\"604\" cy=\"-197.5\" rx=\"33.29\" ry=\"18\"/>\n",
       "<text text-anchor=\"middle\" x=\"604\" y=\"-193.8\" font-family=\"Times,serif\" font-size=\"14.00\">lam_0</text>\n",
       "</g>\n",
       "<!-- avg_y_post_treat -->\n",
       "<g id=\"node10\" class=\"node\">\n",
       "<title>avg_y_post_treat</title>\n",
       "<ellipse fill=\"gray\" stroke=\"black\" cx=\"558\" cy=\"-57\" rx=\"71.49\" ry=\"18\"/>\n",
       "<text text-anchor=\"middle\" x=\"558\" y=\"-53.3\" font-family=\"Times,serif\" font-size=\"14.00\">avg_y_post_treat</text>\n",
       "</g>\n",
       "<!-- lam_0&#45;&gt;avg_y_post_treat -->\n",
       "<g id=\"edge3\" class=\"edge\">\n",
       "<title>lam_0&#45;&gt;avg_y_post_treat</title>\n",
       "<path fill=\"none\" stroke=\"black\" d=\"M598.36,-179.52C590.5,-155.84 576.16,-112.68 566.86,-84.69\"/>\n",
       "<polygon fill=\"black\" stroke=\"black\" points=\"570.16,-83.51 563.69,-75.12 563.52,-85.72 570.16,-83.51\"/>\n",
       "</g>\n",
       "<!-- lam_pre -->\n",
       "<g id=\"node4\" class=\"node\">\n",
       "<title>lam_pre</title>\n",
       "<ellipse fill=\"white\" stroke=\"black\" cx=\"513\" cy=\"-197.5\" rx=\"40.09\" ry=\"18\"/>\n",
       "<text text-anchor=\"middle\" x=\"513\" y=\"-193.8\" font-family=\"Times,serif\" font-size=\"14.00\">lam_pre</text>\n",
       "</g>\n",
       "<!-- lam_pre&#45;&gt;avg_y_post_treat -->\n",
       "<g id=\"edge4\" class=\"edge\">\n",
       "<title>lam_pre&#45;&gt;avg_y_post_treat</title>\n",
       "<path fill=\"none\" stroke=\"black\" d=\"M518.52,-179.52C526.21,-155.84 540.23,-112.68 549.33,-84.69\"/>\n",
       "<polygon fill=\"black\" stroke=\"black\" points=\"552.68,-85.71 552.44,-75.12 546.02,-83.55 552.68,-85.71\"/>\n",
       "</g>\n",
       "<!-- lam_pre&#45;&gt;y -->\n",
       "<g id=\"edge10\" class=\"edge\">\n",
       "<title>lam_pre&#45;&gt;y</title>\n",
       "<path fill=\"none\" stroke=\"black\" d=\"M507.44,-179.66C500.28,-160.48 486.08,-129.41 464,-111 431.17,-83.63 383.22,-69.98 350.43,-63.47\"/>\n",
       "<polygon fill=\"black\" stroke=\"black\" points=\"350.82,-59.98 340.35,-61.6 349.54,-66.86 350.82,-59.98\"/>\n",
       "</g>\n",
       "<!-- mu -->\n",
       "<g id=\"node5\" class=\"node\">\n",
       "<title>mu</title>\n",
       "<ellipse fill=\"white\" stroke=\"black\" cx=\"206\" cy=\"-197.5\" rx=\"27\" ry=\"18\"/>\n",
       "<text text-anchor=\"middle\" x=\"206\" y=\"-193.8\" font-family=\"Times,serif\" font-size=\"14.00\">mu</text>\n",
       "</g>\n",
       "<!-- mu&#45;&gt;y -->\n",
       "<g id=\"edge5\" class=\"edge\">\n",
       "<title>mu&#45;&gt;y</title>\n",
       "<path fill=\"none\" stroke=\"black\" d=\"M210.18,-179.68C215.35,-161.36 225.55,-131.87 242,-111 253.69,-96.16 270.55,-83.45 285.01,-74.2\"/>\n",
       "<polygon fill=\"black\" stroke=\"black\" points=\"286.95,-77.11 293.64,-68.9 283.28,-71.15 286.95,-77.11\"/>\n",
       "</g>\n",
       "<!-- beta -->\n",
       "<g id=\"node6\" class=\"node\">\n",
       "<title>beta</title>\n",
       "<ellipse fill=\"white\" stroke=\"black\" cx=\"278\" cy=\"-197.5\" rx=\"27\" ry=\"18\"/>\n",
       "<text text-anchor=\"middle\" x=\"278\" y=\"-193.8\" font-family=\"Times,serif\" font-size=\"14.00\">beta</text>\n",
       "</g>\n",
       "<!-- beta&#45;&gt;y -->\n",
       "<g id=\"edge8\" class=\"edge\">\n",
       "<title>beta&#45;&gt;y</title>\n",
       "<path fill=\"none\" stroke=\"black\" d=\"M282.41,-179.52C288.54,-155.95 299.69,-113.06 306.97,-85.06\"/>\n",
       "<polygon fill=\"black\" stroke=\"black\" points=\"310.42,-85.68 309.55,-75.12 303.65,-83.92 310.42,-85.68\"/>\n",
       "</g>\n",
       "<!-- tau -->\n",
       "<g id=\"node7\" class=\"node\">\n",
       "<title>tau</title>\n",
       "<ellipse fill=\"white\" stroke=\"black\" cx=\"350\" cy=\"-197.5\" rx=\"27\" ry=\"18\"/>\n",
       "<text text-anchor=\"middle\" x=\"350\" y=\"-193.8\" font-family=\"Times,serif\" font-size=\"14.00\">tau</text>\n",
       "</g>\n",
       "<!-- tau&#45;&gt;y -->\n",
       "<g id=\"edge6\" class=\"edge\">\n",
       "<title>tau&#45;&gt;y</title>\n",
       "<path fill=\"none\" stroke=\"black\" d=\"M345.59,-179.52C339.46,-155.95 328.31,-113.06 321.03,-85.06\"/>\n",
       "<polygon fill=\"black\" stroke=\"black\" points=\"324.35,-83.92 318.45,-75.12 317.58,-85.68 324.35,-83.92\"/>\n",
       "</g>\n",
       "<!-- alpha -->\n",
       "<g id=\"node8\" class=\"node\">\n",
       "<title>alpha</title>\n",
       "<ellipse fill=\"white\" stroke=\"black\" cx=\"425\" cy=\"-197.5\" rx=\"29.8\" ry=\"18\"/>\n",
       "<text text-anchor=\"middle\" x=\"425\" y=\"-193.8\" font-family=\"Times,serif\" font-size=\"14.00\">alpha</text>\n",
       "</g>\n",
       "<!-- alpha&#45;&gt;y -->\n",
       "<g id=\"edge9\" class=\"edge\">\n",
       "<title>alpha&#45;&gt;y</title>\n",
       "<path fill=\"none\" stroke=\"black\" d=\"M420.15,-179.69C414.27,-161.37 402.97,-131.9 386,-111 374.09,-96.33 357.22,-83.63 342.81,-74.34\"/>\n",
       "<polygon fill=\"black\" stroke=\"black\" points=\"344.56,-71.31 334.22,-69.01 340.87,-77.26 344.56,-71.31\"/>\n",
       "</g>\n",
       "<!-- distribution_description_node -->\n",
       "<g id=\"node12\" class=\"node\">\n",
       "<title>distribution_description_node</title>\n",
       "<text text-anchor=\"start\" x=\"663\" y=\"-268.8\" font-family=\"Times,serif\" font-size=\"14.00\">w0 ~ Normal</text>\n",
       "<text text-anchor=\"start\" x=\"663\" y=\"-253.8\" font-family=\"Times,serif\" font-size=\"14.00\">w_co ~ Dirichlet</text>\n",
       "<text text-anchor=\"start\" x=\"663\" y=\"-238.8\" font-family=\"Times,serif\" font-size=\"14.00\">lam_0 ~ Normal</text>\n",
       "<text text-anchor=\"start\" x=\"663\" y=\"-223.8\" font-family=\"Times,serif\" font-size=\"14.00\">lam_pre ~ Dirichlet</text>\n",
       "<text text-anchor=\"start\" x=\"663\" y=\"-208.8\" font-family=\"Times,serif\" font-size=\"14.00\">mu ~ Normal</text>\n",
       "<text text-anchor=\"start\" x=\"663\" y=\"-193.8\" font-family=\"Times,serif\" font-size=\"14.00\">beta ~ Normal</text>\n",
       "<text text-anchor=\"start\" x=\"663\" y=\"-178.8\" font-family=\"Times,serif\" font-size=\"14.00\">tau ~ Normal</text>\n",
       "<text text-anchor=\"start\" x=\"663\" y=\"-163.8\" font-family=\"Times,serif\" font-size=\"14.00\">alpha ~ Normal</text>\n",
       "<text text-anchor=\"start\" x=\"663\" y=\"-148.8\" font-family=\"Times,serif\" font-size=\"14.00\">y_pre_treat_tr_avg ~ Normal</text>\n",
       "<text text-anchor=\"start\" x=\"663\" y=\"-133.8\" font-family=\"Times,serif\" font-size=\"14.00\">avg_y_post_treat ~ Normal</text>\n",
       "<text text-anchor=\"start\" x=\"663\" y=\"-118.8\" font-family=\"Times,serif\" font-size=\"14.00\">y ~ Normal</text>\n",
       "</g>\n",
       "</g>\n",
       "</svg>\n"
      ],
      "text/plain": [
       "<graphviz.graphs.Digraph at 0x15f7d4dc0>"
      ]
     },
     "execution_count": 70,
     "metadata": {},
     "output_type": "execute_result"
    },
    {
     "data": {
      "text/plain": [
       "<Figure size 1200x500 with 0 Axes>"
      ]
     },
     "metadata": {},
     "output_type": "display_data"
    },
    {
     "data": {
      "application/javascript": "\n            setTimeout(function() {\n                var nbb_cell_id = 70;\n                var nbb_unformatted_code = \"plt.figure(figsize=(12, 5))\\npyro.render_model(BayesSDID(data), render_params=True, render_distributions=True)\";\n                var nbb_formatted_code = \"plt.figure(figsize=(12, 5))\\npyro.render_model(BayesSDID(data), render_params=True, render_distributions=True)\";\n                var nbb_cells = Jupyter.notebook.get_cells();\n                for (var i = 0; i < nbb_cells.length; ++i) {\n                    if (nbb_cells[i].input_prompt_number == nbb_cell_id) {\n                        if (nbb_cells[i].get_text() == nbb_unformatted_code) {\n                             nbb_cells[i].set_text(nbb_formatted_code);\n                        }\n                        break;\n                    }\n                }\n            }, 500);\n            ",
      "text/plain": [
       "<IPython.core.display.Javascript object>"
      ]
     },
     "metadata": {},
     "output_type": "display_data"
    }
   ],
   "source": [
    "plt.figure(figsize=(12, 5))\n",
    "pyro.render_model(BayesSDID(data), render_params=True, render_distributions=True)"
   ]
  },
  {
   "attachments": {},
   "cell_type": "markdown",
   "id": "b681f030",
   "metadata": {},
   "source": [
    "# References\n",
    "1. https://www.aeaweb.org/articles?id=10.1257/aer.20190159\n",
    "2. https://www.tandfonline.com/doi/abs/10.1198/jasa.2009.ap08746"
   ]
  },
  {
   "cell_type": "code",
   "execution_count": null,
   "id": "3077b923",
   "metadata": {},
   "outputs": [],
   "source": []
  }
 ],
 "metadata": {
  "kernelspec": {
   "display_name": "Python 3 (ipykernel)",
   "language": "python",
   "name": "python3"
  },
  "language_info": {
   "codemirror_mode": {
    "name": "ipython",
    "version": 3
   },
   "file_extension": ".py",
   "mimetype": "text/x-python",
   "name": "python",
   "nbconvert_exporter": "python",
   "pygments_lexer": "ipython3",
   "version": "3.10.10"
  }
 },
 "nbformat": 4,
 "nbformat_minor": 5
}

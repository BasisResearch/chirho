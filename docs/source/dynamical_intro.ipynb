{
 "cells": [
  {
   "cell_type": "markdown",
   "metadata": {},
   "source": [
    "# Causal reasoning in dynamical systems"
   ]
  },
  {
   "cell_type": "code",
   "execution_count": 1,
   "metadata": {
    "ExecuteTime": {
     "end_time": "2023-07-18T18:46:29.292774Z",
     "start_time": "2023-07-18T18:46:28.196486Z"
    }
   },
   "outputs": [],
   "source": [
    "%reload_ext autoreload\n",
    "%autoreload 2\n",
    "\n",
    "from typing import Dict\n",
    "\n",
    "import pyro\n",
    "import torch\n",
    "from pyro.infer.autoguide import AutoMultivariateNormal\n",
    "import pyro.distributions as dist\n",
    "import matplotlib.pyplot as plt\n",
    "import seaborn as sns\n",
    "from pyro.infer import Predictive\n",
    "\n",
    "from chirho.counterfactual.handlers import TwinWorldCounterfactual\n",
    "from chirho.indexed.ops import IndexSet, gather, indices_of\n",
    "from chirho.observational.handlers import condition\n",
    "\n",
    "from chirho.dynamical.handlers import (\n",
    "    StaticObservation,\n",
    "    StaticIntervention,\n",
    "    LogTrajectory,\n",
    "    DynamicIntervention,\n",
    "    InterruptionEventLoop,\n",
    "    StaticBatchObservation,\n",
    ")\n",
    "from chirho.dynamical.ops import State, simulate, Dynamics\n",
    "\n",
    "from chirho.dynamical.handlers.solver import TorchDiffEq\n",
    "\n",
    "from chirho.observational.handlers.soft_conditioning import (\n",
    "    AutoSoftConditioning\n",
    ")\n",
    "\n",
    "pyro.settings.set(module_local_params=True)\n",
    "\n",
    "sns.set_style(\"white\")\n",
    "\n",
    "# Set seed for reproducibility\n",
    "seed = 123\n",
    "pyro.clear_param_store()\n",
    "pyro.set_rng_seed(seed)"
   ]
  },
  {
   "cell_type": "markdown",
   "metadata": {},
   "source": [
    "## Define our SIR model"
   ]
  },
  {
   "cell_type": "code",
   "execution_count": 2,
   "metadata": {
    "ExecuteTime": {
     "end_time": "2023-07-18T18:46:29.357796Z",
     "start_time": "2023-07-18T18:46:29.323308Z"
    }
   },
   "outputs": [],
   "source": [
    "class SimpleSIRDynamics(pyro.nn.PyroModule):\n",
    "    def __init__(self, beta, gamma, name=None):\n",
    "        super().__init__()\n",
    "        self.beta = beta\n",
    "        self.gamma = gamma\n",
    "        self.name = name\n",
    "\n",
    "        if name is not None:\n",
    "            self.postfix = f\"_{name}\"\n",
    "        else:\n",
    "            self.postfix = \"\"\n",
    "\n",
    "    @pyro.nn.pyro_method\n",
    "    def diff(self, dX: State[torch.Tensor], X: State[torch.Tensor]) -> None:\n",
    "        dX[\"S\"] = -self.beta * X[\"S\"] * X[\"I\"]\n",
    "        dX[\"I\"] = self.beta * X[\"S\"] * X[\"I\"] - self.gamma * X[\"I\"]\n",
    "        dX[\"R\"] = self.gamma * X[\"I\"]\n",
    "\n",
    "    @pyro.nn.pyro_method\n",
    "    def observation(self, X: State[torch.Tensor]) -> None:\n",
    "        # We don't observe the number of susceptible individuals directly, and instead can only infer it from the\n",
    "        #  number of test kits that are sold (which is a noisy function of the number of susceptible individuals).\n",
    "        event_dim = 1 if X[\"I\"].shape and X[\"I\"].shape[-1] > 1 else 0\n",
    "        test_kit_sales = torch.relu(pyro.sample(f\"test_kit_sales{self.postfix}\", dist.Normal(torch.log(torch.relu(X[\"S\"]) + 1), 1).to_event(event_dim)))\n",
    "        I_obs = pyro.sample(f\"I_obs{self.postfix}\", dist.Poisson(X[\"I\"]).to_event(event_dim))  # noisy number of infected actually observed\n",
    "        R_obs = pyro.sample(f\"R_obs{self.postfix}\", dist.Poisson(X[\"R\"]).to_event(event_dim))  # noisy number of recovered actually observed\n",
    "\n",
    "        # return {\n",
    "        #     f\"test_kit_sales{self.postfix}\": test_kit_sales,\n",
    "        #     f\"I_obs{self.postfix}\": I_obs,\n",
    "        #     f\"R_obs{self.postfix}\": R_obs,\n",
    "        # }\n",
    "\n",
    "    def forward(self, X: State[torch.Tensor]):\n",
    "        dX = State()\n",
    "        self.diff(dX, X)\n",
    "        return dX"
   ]
  },
  {
   "cell_type": "markdown",
   "metadata": {},
   "source": [
    "## Generate synthetic data from the SIR model"
   ]
  },
  {
   "cell_type": "code",
   "execution_count": 3,
   "metadata": {
    "ExecuteTime": {
     "end_time": "2023-07-18T18:46:29.410660Z",
     "start_time": "2023-07-18T18:46:29.355384Z"
    }
   },
   "outputs": [],
   "source": [
    "# Assume there is initially a population of 99 million people that are susceptible, 1 million infected, and 0 recovered\n",
    "init_state = State(S=torch.tensor(99.0), I=torch.tensor(1.0), R=torch.tensor(0.0))\n",
    "start_time = torch.tensor(0.0)\n",
    "end_time = torch.tensor(3.0)\n",
    "logging_times = torch.linspace(0, 2.9, steps=21)\n",
    "\n",
    "# We now simulate from the SIR model\n",
    "beta_true = torch.tensor(0.05)\n",
    "gamma_true = torch.tensor(0.5)\n",
    "sir_true = SimpleSIRDynamics(beta_true, gamma_true)\n",
    "with LogTrajectory(logging_times) as lt:\n",
    "    simulate(sir_true, init_state, start_time, end_time, solver=TorchDiffEq())\n",
    "\n",
    "sir_true_traj = lt.trajectory"
   ]
  },
  {
   "cell_type": "markdown",
   "metadata": {},
   "source": [
    "### Simulate the latent trajectories of the ODE model"
   ]
  },
  {
   "cell_type": "code",
   "execution_count": 4,
   "metadata": {
    "ExecuteTime": {
     "end_time": "2023-07-18T18:46:29.584138Z",
     "start_time": "2023-07-18T18:46:29.411761Z"
    }
   },
   "outputs": [
    {
     "name": "stderr",
     "output_type": "stream",
     "text": [
      "/Users/sam-basis/opt/anaconda3/envs/chirho-dynamic/lib/python3.11/site-packages/seaborn/_oldcore.py:1498: FutureWarning: is_categorical_dtype is deprecated and will be removed in a future version. Use isinstance(dtype, CategoricalDtype) instead\n",
      "  if pd.api.types.is_categorical_dtype(vector):\n",
      "/Users/sam-basis/opt/anaconda3/envs/chirho-dynamic/lib/python3.11/site-packages/seaborn/_oldcore.py:1498: FutureWarning: is_categorical_dtype is deprecated and will be removed in a future version. Use isinstance(dtype, CategoricalDtype) instead\n",
      "  if pd.api.types.is_categorical_dtype(vector):\n",
      "/Users/sam-basis/opt/anaconda3/envs/chirho-dynamic/lib/python3.11/site-packages/seaborn/_oldcore.py:1119: FutureWarning: use_inf_as_na option is deprecated and will be removed in a future version. Convert inf values to NaN before operating instead.\n",
      "  with pd.option_context('mode.use_inf_as_na', True):\n",
      "/Users/sam-basis/opt/anaconda3/envs/chirho-dynamic/lib/python3.11/site-packages/seaborn/_oldcore.py:1119: FutureWarning: use_inf_as_na option is deprecated and will be removed in a future version. Convert inf values to NaN before operating instead.\n",
      "  with pd.option_context('mode.use_inf_as_na', True):\n",
      "/Users/sam-basis/opt/anaconda3/envs/chirho-dynamic/lib/python3.11/site-packages/seaborn/_oldcore.py:1498: FutureWarning: is_categorical_dtype is deprecated and will be removed in a future version. Use isinstance(dtype, CategoricalDtype) instead\n",
      "  if pd.api.types.is_categorical_dtype(vector):\n",
      "/Users/sam-basis/opt/anaconda3/envs/chirho-dynamic/lib/python3.11/site-packages/seaborn/_oldcore.py:1498: FutureWarning: is_categorical_dtype is deprecated and will be removed in a future version. Use isinstance(dtype, CategoricalDtype) instead\n",
      "  if pd.api.types.is_categorical_dtype(vector):\n",
      "/Users/sam-basis/opt/anaconda3/envs/chirho-dynamic/lib/python3.11/site-packages/seaborn/_oldcore.py:1119: FutureWarning: use_inf_as_na option is deprecated and will be removed in a future version. Convert inf values to NaN before operating instead.\n",
      "  with pd.option_context('mode.use_inf_as_na', True):\n",
      "/Users/sam-basis/opt/anaconda3/envs/chirho-dynamic/lib/python3.11/site-packages/seaborn/_oldcore.py:1119: FutureWarning: use_inf_as_na option is deprecated and will be removed in a future version. Convert inf values to NaN before operating instead.\n",
      "  with pd.option_context('mode.use_inf_as_na', True):\n",
      "/Users/sam-basis/opt/anaconda3/envs/chirho-dynamic/lib/python3.11/site-packages/seaborn/_oldcore.py:1498: FutureWarning: is_categorical_dtype is deprecated and will be removed in a future version. Use isinstance(dtype, CategoricalDtype) instead\n",
      "  if pd.api.types.is_categorical_dtype(vector):\n",
      "/Users/sam-basis/opt/anaconda3/envs/chirho-dynamic/lib/python3.11/site-packages/seaborn/_oldcore.py:1498: FutureWarning: is_categorical_dtype is deprecated and will be removed in a future version. Use isinstance(dtype, CategoricalDtype) instead\n",
      "  if pd.api.types.is_categorical_dtype(vector):\n",
      "/Users/sam-basis/opt/anaconda3/envs/chirho-dynamic/lib/python3.11/site-packages/seaborn/_oldcore.py:1119: FutureWarning: use_inf_as_na option is deprecated and will be removed in a future version. Convert inf values to NaN before operating instead.\n",
      "  with pd.option_context('mode.use_inf_as_na', True):\n",
      "/Users/sam-basis/opt/anaconda3/envs/chirho-dynamic/lib/python3.11/site-packages/seaborn/_oldcore.py:1119: FutureWarning: use_inf_as_na option is deprecated and will be removed in a future version. Convert inf values to NaN before operating instead.\n",
      "  with pd.option_context('mode.use_inf_as_na', True):\n"
     ]
    },
    {
     "data": {
      "text/plain": [
       "<matplotlib.legend.Legend at 0x185e0dc90>"
      ]
     },
     "execution_count": 4,
     "metadata": {},
     "output_type": "execute_result"
    },
    {
     "data": {
      "image/png": "[encoded data removed]",
      "text/plain": [
       "<Figure size 640x480 with 1 Axes>"
      ]
     },
     "metadata": {},
     "output_type": "display_data"
    }
   ],
   "source": [
    "sns.lineplot(\n",
    "    x=logging_times, y=sir_true_traj[\"S\"], label=\"# Susceptable (S)\", color=\"orange\"\n",
    ")\n",
    "sns.lineplot(x=logging_times, y=sir_true_traj[\"I\"], label=\"# Infected (I)\", color=\"red\")\n",
    "sns.lineplot(x=logging_times, y=sir_true_traj[\"R\"], label=\"# Recovered (R)\", color=\"green\")\n",
    "sns.despine()\n",
    "plt.xlabel(\"Time (Yrs)\")\n",
    "plt.ylabel(\"# of Individuals (Millions)\")\n",
    "plt.legend()"
   ]
  },
  {
   "cell_type": "markdown",
   "metadata": {},
   "source": [
    "### Add noise to state trajectories to generate observations\n",
    " "
   ]
  },
  {
   "cell_type": "code",
   "execution_count": 5,
   "metadata": {
    "ExecuteTime": {
     "end_time": "2023-07-18T18:46:29.646023Z",
     "start_time": "2023-07-18T18:46:29.584398Z"
    }
   },
   "outputs": [],
   "source": [
    "obs_logging_times = torch.arange(\n",
    "    1 / 52, 1.01, 1 / 52\n",
    ")  # collect data every week for the past 6mo\n",
    "obs_start_time = obs_logging_times[0]\n",
    "obs_end_time = obs_logging_times[-1] + 1e-3\n",
    "N_obs = obs_logging_times.shape[0]\n",
    "with LogTrajectory(obs_logging_times) as lt_obs:\n",
    "    simulate(sir_true, init_state, obs_start_time, obs_end_time, solver=TorchDiffEq())\n",
    "\n",
    "sir_obs_traj = lt_obs.trajectory\n",
    "with pyro.poutine.trace() as tr:\n",
    "    sir_true.observation(sir_obs_traj)\n",
    "\n",
    "sir_data = State(**{k:tr.trace.nodes[k][\"value\"] for k in [\"test_kit_sales\", \"I_obs\", \"R_obs\"]})"
   ]
  },
  {
   "cell_type": "code",
   "execution_count": 6,
   "metadata": {
    "ExecuteTime": {
     "end_time": "2023-07-18T18:46:29.996315Z",
     "start_time": "2023-07-18T18:46:29.685112Z"
    }
   },
   "outputs": [
    {
     "name": "stderr",
     "output_type": "stream",
     "text": [
      "/Users/sam-basis/opt/anaconda3/envs/chirho-dynamic/lib/python3.11/site-packages/seaborn/_oldcore.py:1498: FutureWarning: is_categorical_dtype is deprecated and will be removed in a future version. Use isinstance(dtype, CategoricalDtype) instead\n",
      "  if pd.api.types.is_categorical_dtype(vector):\n",
      "/Users/sam-basis/opt/anaconda3/envs/chirho-dynamic/lib/python3.11/site-packages/seaborn/_oldcore.py:1498: FutureWarning: is_categorical_dtype is deprecated and will be removed in a future version. Use isinstance(dtype, CategoricalDtype) instead\n",
      "  if pd.api.types.is_categorical_dtype(vector):\n",
      "/Users/sam-basis/opt/anaconda3/envs/chirho-dynamic/lib/python3.11/site-packages/seaborn/_oldcore.py:1498: FutureWarning: is_categorical_dtype is deprecated and will be removed in a future version. Use isinstance(dtype, CategoricalDtype) instead\n",
      "  if pd.api.types.is_categorical_dtype(vector):\n",
      "/Users/sam-basis/opt/anaconda3/envs/chirho-dynamic/lib/python3.11/site-packages/seaborn/_oldcore.py:1498: FutureWarning: is_categorical_dtype is deprecated and will be removed in a future version. Use isinstance(dtype, CategoricalDtype) instead\n",
      "  if pd.api.types.is_categorical_dtype(vector):\n",
      "/Users/sam-basis/opt/anaconda3/envs/chirho-dynamic/lib/python3.11/site-packages/seaborn/_oldcore.py:1498: FutureWarning: is_categorical_dtype is deprecated and will be removed in a future version. Use isinstance(dtype, CategoricalDtype) instead\n",
      "  if pd.api.types.is_categorical_dtype(vector):\n",
      "/Users/sam-basis/opt/anaconda3/envs/chirho-dynamic/lib/python3.11/site-packages/seaborn/_oldcore.py:1498: FutureWarning: is_categorical_dtype is deprecated and will be removed in a future version. Use isinstance(dtype, CategoricalDtype) instead\n",
      "  if pd.api.types.is_categorical_dtype(vector):\n"
     ]
    },
    {
     "data": {
      "text/plain": [
       "Text(0, 0.5, 'Observed # Recovered (Millions)')"
      ]
     },
     "execution_count": 6,
     "metadata": {},
     "output_type": "execute_result"
    },
    {
     "data": {
      "image/png": "[encoded data removed]",
      "text/plain": [
       "<Figure size 1500x500 with 3 Axes>"
      ]
     },
     "metadata": {},
     "output_type": "display_data"
    }
   ],
   "source": [
    "# Plot observed data\n",
    "fix, ax = plt.subplots(1, 3, figsize=(15, 5))\n",
    "\n",
    "# Plot test kit sales\n",
    "sns.scatterplot(x=obs_logging_times, y=sir_data[\"test_kit_sales\"], color=\"blue\", ax=ax[0])\n",
    "sns.despine()\n",
    "ax[0].set_xlabel(\"Time (Yrs)\")\n",
    "ax[0].set_ylabel(\"Test Kits Sales ($Millions)\")\n",
    "\n",
    "# Plot observed infected\n",
    "sns.scatterplot(x=obs_logging_times, y=sir_data[\"I_obs\"], color=\"red\", ax=ax[1])\n",
    "sns.despine()\n",
    "ax[1].set_xlabel(\"Time (Yrs)\")\n",
    "ax[1].set_ylabel(\"Observed # Infected (Millions)\")\n",
    "\n",
    "# Plot observed recovered\n",
    "sns.scatterplot(x=obs_logging_times, y=sir_data[\"R_obs\"], color=\"green\", ax=ax[2])\n",
    "sns.despine()\n",
    "ax[2].set_xlabel(\"Time (Yrs)\")\n",
    "ax[2].set_ylabel(\"Observed # Recovered (Millions)\")"
   ]
  },
  {
   "cell_type": "markdown",
   "metadata": {},
   "source": [
    "## Extend our model to include uncertainty over model parameters"
   ]
  },
  {
   "cell_type": "code",
   "execution_count": 7,
   "metadata": {
    "ExecuteTime": {
     "end_time": "2023-07-18T18:46:30.010774Z",
     "start_time": "2023-07-18T18:46:29.995553Z"
    }
   },
   "outputs": [],
   "source": [
    "# We place uniform priors on the beta and gamma parameters defining the SIR model\n",
    "def bayesian_sir(base_model=SimpleSIRDynamics) -> Dynamics[torch.Tensor]:\n",
    "    beta = pyro.sample(\"beta\", dist.Uniform(0, 1))\n",
    "    gamma = pyro.sample(\"gamma\", dist.Uniform(0, 1))\n",
    "    sir = base_model(beta, gamma)\n",
    "    return sir\n",
    "\n",
    "\n",
    "def simulated_bayesian_sir(init_state, logging_times, base_model=SimpleSIRDynamics) -> State[torch.Tensor]:\n",
    "    sir = bayesian_sir(base_model)\n",
    "    with LogTrajectory(logging_times) as lt:\n",
    "        simulate(sir, init_state, logging_times[0], logging_times[-1] + 1e-3, solver=TorchDiffEq())\n",
    "    trajectory = lt.trajectory\n",
    "    # This is a small trick to make the solution variables available to pyro\n",
    "    [pyro.deterministic(k, trajectory[k]) for k in trajectory.keys()]\n",
    "    return trajectory\n",
    "\n",
    "\n",
    "def conditioned_sir(obs_times, data, init_state, start_time, end_time, base_model=SimpleSIRDynamics) -> None:\n",
    "    sir = bayesian_sir(base_model)\n",
    "    obs = condition(data=data)(sir.observation)\n",
    "    with StaticBatchObservation(obs_times, observation=obs):\n",
    "        simulate(sir, init_state, start_time, end_time, solver=TorchDiffEq())"
   ]
  },
  {
   "cell_type": "markdown",
   "metadata": {},
   "source": [
    "## Perform Inference!"
   ]
  },
  {
   "cell_type": "code",
   "execution_count": 8,
   "metadata": {
    "ExecuteTime": {
     "end_time": "2023-07-18T18:46:30.070437Z",
     "start_time": "2023-07-18T18:46:30.011493Z"
    }
   },
   "outputs": [],
   "source": [
    "# Define a helper function to run SVI. (Generally, Pyro users like to have more control over the training process!)\n",
    "def run_svi_inference(model, n_steps=100, verbose=True, lr=.03, vi_family=AutoMultivariateNormal, guide=None, **model_kwargs):\n",
    "    if guide is None:\n",
    "        guide = vi_family(model)\n",
    "    elbo = pyro.infer.Trace_ELBO()(model, guide)\n",
    "    # initialize parameters\n",
    "    elbo(**model_kwargs)\n",
    "    adam = torch.optim.Adam(elbo.parameters(), lr=lr)\n",
    "    # Do gradient steps\n",
    "    for step in range(1, n_steps + 1):\n",
    "        adam.zero_grad()\n",
    "        loss = elbo(**model_kwargs)\n",
    "        loss.backward()\n",
    "        adam.step()\n",
    "        if (step % 100 == 0) or (step == 1) & verbose:\n",
    "            print(\"[iteration %04d] loss: %.4f\" % (step, loss))\n",
    "    return guide"
   ]
  },
  {
   "cell_type": "code",
   "execution_count": 9,
   "metadata": {
    "ExecuteTime": {
     "end_time": "2023-07-18T18:46:59.292526Z",
     "start_time": "2023-07-18T18:46:30.043544Z"
    }
   },
   "outputs": [
    {
     "name": "stdout",
     "output_type": "stream",
     "text": [
      "[iteration 0001] loss: 3508.8616\n"
     ]
    }
   ],
   "source": [
    "# Run inference to approximate the posterior distribution of the SIR model parameters\n",
    "sir_guide = run_svi_inference(\n",
    "    conditioned_sir,\n",
    "    n_steps=200,\n",
    "    obs_times=obs_logging_times,\n",
    "    data=sir_data,\n",
    "    init_state=init_state,\n",
    "    start_time=obs_start_time,\n",
    "    end_time=obs_end_time,\n",
    ")"
   ]
  },
  {
   "cell_type": "markdown",
   "metadata": {},
   "source": [
    "## Evaluate the performance of our inference"
   ]
  },
  {
   "cell_type": "code",
   "execution_count": null,
   "metadata": {
    "ExecuteTime": {
     "end_time": "2023-07-18T18:47:01.693275Z",
     "start_time": "2023-07-18T18:46:59.291560Z"
    }
   },
   "outputs": [],
   "source": [
    "# Generate samples from the posterior predictive distribution\n",
    "sir_predictive = Predictive(simulated_bayesian_sir, guide=sir_guide, num_samples=100)\n",
    "sir_posterior_samples = sir_predictive(init_state, logging_times)"
   ]
  },
  {
   "cell_type": "markdown",
   "metadata": {},
   "source": [
    "### First, we compare the approximate posterior distribution with the true beta and gamma parameters generating the data"
   ]
  },
  {
   "cell_type": "code",
   "execution_count": null,
   "metadata": {
    "ExecuteTime": {
     "end_time": "2023-07-18T18:47:02.042675Z",
     "start_time": "2023-07-18T18:47:01.694295Z"
    }
   },
   "outputs": [],
   "source": [
    "fig, ax = plt.subplots(1, 2, figsize=(15, 5))\n",
    "\n",
    "sns.kdeplot(sir_posterior_samples[\"beta\"], label=\"Approx. Beta Posterior\", ax=ax[0])\n",
    "ax[0].axvline(beta_true, color=\"black\", label=\"True Beta\", linestyle=\"--\")\n",
    "sns.despine()\n",
    "ax[0].set_yticks([])\n",
    "ax[0].legend(loc=\"upper right\")\n",
    "\n",
    "sns.kdeplot(sir_posterior_samples[\"gamma\"], label=\"Approx. Gamma Posterior\", ax=ax[1])\n",
    "plt.axvline(gamma_true, color=\"black\", label=\"True Gamma\", linestyle=\"--\")\n",
    "sns.despine()\n",
    "ax[1].set_yticks([])\n",
    "ax[1].legend(loc=\"upper right\")"
   ]
  },
  {
   "cell_type": "markdown",
   "metadata": {},
   "source": [
    "### Next, we compare the predictive performance on the held out period between $t=1$ and $t=3$ years"
   ]
  },
  {
   "cell_type": "code",
   "execution_count": null,
   "metadata": {
    "ExecuteTime": {
     "end_time": "2023-07-18T18:47:02.141589Z",
     "start_time": "2023-07-18T18:47:02.053763Z"
    }
   },
   "outputs": [],
   "source": [
    "def SIR_uncertainty_plot(time_period, state_pred, ylabel, color, ax):\n",
    "    sns.lineplot(\n",
    "        x=time_period,\n",
    "        y=state_pred.mean(dim=0),\n",
    "        color=color,\n",
    "        label=\"Posterior Mean\",\n",
    "        ax=ax,\n",
    "    )\n",
    "    # 90% Credible Interval\n",
    "    ax.fill_between(\n",
    "        time_period,\n",
    "        torch.quantile(state_pred, 0.05, dim=0),\n",
    "        torch.quantile(state_pred, 0.95, dim=0),\n",
    "        alpha=0.2,\n",
    "        color=color,\n",
    "    )\n",
    "\n",
    "    ax.set_xlabel(\"Time (Yrs)\")\n",
    "    ax.set_ylabel(ylabel)\n",
    "\n",
    "\n",
    "def SIR_data_plot(time_period, data, data_label, ax):\n",
    "    sns.lineplot(\n",
    "        x=time_period, y=data, color=\"black\", ax=ax, linestyle=\"--\", label=data_label\n",
    "    )\n",
    "\n",
    "\n",
    "def SIR_test_plot(test_time, ax):\n",
    "    ax.axvline(\n",
    "        test_time, color=\"black\", linestyle=\"dotted\", label=\"Start of Testing Period\"\n",
    "    )\n",
    "\n",
    "\n",
    "def SIR_plot(\n",
    "    time_period,\n",
    "    test_time,\n",
    "    state_pred,\n",
    "    data,\n",
    "    ylabel,\n",
    "    color,\n",
    "    data_label,\n",
    "    ax,\n",
    "    legend=False,\n",
    "    test_plot=True,\n",
    "):\n",
    "    SIR_uncertainty_plot(time_period, state_pred, ylabel, color, ax)\n",
    "    SIR_data_plot(time_period, data, data_label, ax)\n",
    "    if test_plot:\n",
    "        SIR_test_plot(test_time, ax)\n",
    "    if legend:\n",
    "        ax.legend()\n",
    "    else:\n",
    "        ax.legend().remove()\n",
    "    sns.despine()"
   ]
  },
  {
   "cell_type": "code",
   "execution_count": null,
   "metadata": {
    "ExecuteTime": {
     "end_time": "2023-07-18T18:47:02.394748Z",
     "start_time": "2023-07-18T18:47:02.113943Z"
    }
   },
   "outputs": [],
   "source": [
    "# Plot predicted values for S, I, and R with 90% credible intervals\n",
    "\n",
    "fig, ax = plt.subplots(1, 3, figsize=(15, 5))\n",
    "\n",
    "SIR_plot(\n",
    "    logging_times,\n",
    "    1,\n",
    "    sir_posterior_samples[\"S\"],\n",
    "    sir_true_traj[\"S\"],\n",
    "    \"Predicted # Susceptible (Millions)\",\n",
    "    \"orange\",\n",
    "    \"Actual # Susceptible\",\n",
    "    ax[0],\n",
    "    legend=True,\n",
    ")\n",
    "SIR_plot(\n",
    "    logging_times,\n",
    "    1,\n",
    "    sir_posterior_samples[\"I\"],\n",
    "    sir_true_traj[\"I\"],\n",
    "    \"Predicted # Infected (Millions)\",\n",
    "    \"red\",\n",
    "    \"Actual # Infected\",\n",
    "    ax[1],\n",
    "    legend=True,\n",
    ")\n",
    "SIR_plot(\n",
    "    logging_times,\n",
    "    1,\n",
    "    sir_posterior_samples[\"R\"],\n",
    "    sir_true_traj[\"R\"],\n",
    "    \"Predicted # Recovered (Millions)\",\n",
    "    \"green\",\n",
    "    \"Actual # Recovered\",\n",
    "    ax[2],\n",
    "    legend=True,\n",
    ")"
   ]
  },
  {
   "cell_type": "markdown",
   "metadata": {},
   "source": [
    "## Let's explore how different interventions might flatten the infection curve"
   ]
  },
  {
   "cell_type": "markdown",
   "metadata": {},
   "source": [
    "Suppose the government can enact different lockdown measures (of varying strength) to flatten the infection curve. Following [2], we define the stength of lockdown measure at time $t$ by $l_t \\in [0, 1]$ for $1 \\leq t \\leq T$. Parametrize the transmission rate $\\beta_t$ as:\n",
    "\n",
    "$$\n",
    "\\beta_t = (1 - l_t) \\beta_0,\n",
    "$$\n",
    "\n",
    "where $\\beta_0$ denotes the unmitigated transmission rate and larger values of $l_t$ correspond to stronger lockdown measures. Then, the time-varying SIR model is defined as follows:\n",
    "\n",
    "$$\n",
    "\\begin{split}\n",
    "    dS_t &= -\\beta_t S_t I_t \\\\\n",
    "    dI_t &= \\beta_t S_t I_t - \\gamma I_t \\\\\n",
    "    dR_t &= \\gamma I_t\n",
    "\\end{split}\n",
    "$$\n",
    "\n",
    "where $S_t, I_t, R_t$ denote the number of susceptable, infected, and recovered individuals at time $t$ for $1 \\leq t \\leq T$.\n",
    "\n",
    "### We can implement this new model compositionally using our existing SIR model implementation."
   ]
  },
  {
   "cell_type": "code",
   "execution_count": null,
   "metadata": {
    "ExecuteTime": {
     "end_time": "2023-07-18T18:47:02.470158Z",
     "start_time": "2023-07-18T18:47:02.393888Z"
    }
   },
   "outputs": [],
   "source": [
    "class SimpleSIRDynamicsLockdown(SimpleSIRDynamics):\n",
    "    def __init__(self, beta0, gamma):\n",
    "        super().__init__(beta0, gamma)\n",
    "        self.beta0 = beta0\n",
    "\n",
    "    @pyro.nn.pyro_method\n",
    "    def diff(self, dX: State[torch.Tensor], X: State[torch.Tensor]):\n",
    "        self.beta = (1 - X[\"l\"]) * self.beta0  # time-varing beta parametrized by lockdown strength l_t\n",
    "        dX[\"l\"] = torch.tensor(0.0)\n",
    "        # Call the base SIR class diff method\n",
    "        super().diff(dX, X)\n",
    "\n",
    "\n",
    "init_state_lockdown = State(\n",
    "    S=torch.tensor(99.0), \n",
    "    I=torch.tensor(1.0), \n",
    "    R=torch.tensor(0.0), \n",
    "    l=torch.tensor(0.0)\n",
    ")"
   ]
  },
  {
   "cell_type": "markdown",
   "metadata": {},
   "source": [
    "### Let's first look at a deterministic intervention where the transmission rate is reduced by 75% between $t=1$ and $t=2$ due to stronger lockdown measures. We see in the figure below that this lockdown measures indeed \"flattens\" the curve."
   ]
  },
  {
   "cell_type": "code",
   "execution_count": null,
   "metadata": {
    "ExecuteTime": {
     "end_time": "2023-07-18T18:47:02.470325Z",
     "start_time": "2023-07-18T18:47:02.426012Z"
    }
   },
   "outputs": [],
   "source": [
    "def intervened_sir(lockdown_start, lockdown_end, lockdown_strength, init_state, logging_times) -> State[torch.Tensor]:\n",
    "    sir = bayesian_sir(SimpleSIRDynamicsLockdown)\n",
    "    with LogTrajectory(logging_times) as lt:\n",
    "        with InterruptionEventLoop():\n",
    "            with StaticIntervention(time=torch.as_tensor(lockdown_start), intervention=State(l=torch.as_tensor(lockdown_strength))):\n",
    "                with StaticIntervention(time=torch.as_tensor(lockdown_end), intervention=State(l=torch.tensor(0.0))):\n",
    "                    simulate(sir, init_state, logging_times[0], logging_times[-1] + 1e-3, solver=TorchDiffEq())\n",
    "                    \n",
    "    trajectory = lt.trajectory\n",
    "    # This is a small trick to make the solution variables available to pyro\n",
    "    [pyro.deterministic(k, trajectory[k]) for k in trajectory.keys()]\n",
    "    return trajectory"
   ]
  },
  {
   "cell_type": "code",
   "execution_count": null,
   "metadata": {
    "ExecuteTime": {
     "end_time": "2023-07-18T18:47:07.929780Z",
     "start_time": "2023-07-18T18:47:02.453827Z"
    }
   },
   "outputs": [],
   "source": [
    "lockdown_start = 1.01\n",
    "lockdown_end = 2.0\n",
    "lockdown_strength = 0.75\n",
    "\n",
    "true_intervened_sir = pyro.condition(intervened_sir, data={\"beta\": beta_true, \"gamma\": gamma_true})\n",
    "true_intervened_trajectory = true_intervened_sir(lockdown_start, lockdown_end, lockdown_strength, init_state_lockdown, logging_times)\n",
    "\n",
    "intervened_sir_predictive = Predictive(intervened_sir, guide=sir_guide, num_samples=100)\n",
    "intervened_sir_posterior_samples = intervened_sir_predictive(lockdown_start, lockdown_end, lockdown_strength, init_state_lockdown, logging_times)"
   ]
  },
  {
   "cell_type": "code",
   "execution_count": null,
   "metadata": {
    "ExecuteTime": {
     "end_time": "2023-07-18T18:47:08.236254Z",
     "start_time": "2023-07-18T18:47:07.927429Z"
    }
   },
   "outputs": [],
   "source": [
    "# Plot predicted values for S, I, and R with 90% credible intervals\n",
    "\n",
    "fig, ax = plt.subplots(1, 3, figsize=(15, 5))\n",
    "\n",
    "SIR_plot(\n",
    "    logging_times,\n",
    "    1,\n",
    "    intervened_sir_posterior_samples[\"S\"],\n",
    "    true_intervened_trajectory[\"S\"],\n",
    "    \"Predicted # Susceptible (Millions)\",\n",
    "    \"orange\",\n",
    "    \"Actual # Susceptible\",\n",
    "    ax[0],\n",
    "    legend=True,\n",
    "    test_plot=False,\n",
    ")\n",
    "SIR_plot(\n",
    "    logging_times,\n",
    "    1,\n",
    "    intervened_sir_posterior_samples[\"I\"],\n",
    "    true_intervened_trajectory[\"I\"],\n",
    "    \"Predicted # Infected (Millions)\",\n",
    "    \"red\",\n",
    "    \"Actual # Infected\",\n",
    "    ax[1],\n",
    "    legend=True,\n",
    "    test_plot=False,\n",
    ")\n",
    "SIR_plot(\n",
    "    logging_times,\n",
    "    1,\n",
    "    intervened_sir_posterior_samples[\"R\"],\n",
    "    true_intervened_trajectory[\"R\"],\n",
    "    \"Predicted # Recovered (Millions)\",\n",
    "    \"green\",\n",
    "    \"Actual # Recovered\",\n",
    "    ax[2],\n",
    "    legend=True,\n",
    "    test_plot=False,\n",
    ")\n",
    "\n",
    "# Plot the static intervention\n",
    "for a in ax:\n",
    "    a.axvline(lockdown_start, color=\"grey\", linestyle=\"-\", label=\"Start of Lockdown\")\n",
    "    a.axvline(lockdown_end, color=\"grey\", linestyle=\"-\", label=\"Start of Lockdown\")"
   ]
  },
  {
   "cell_type": "markdown",
   "metadata": {},
   "source": [
    "## What if we're uncertain about when the lockdown will happen?"
   ]
  },
  {
   "cell_type": "code",
   "execution_count": null,
   "metadata": {
    "ExecuteTime": {
     "end_time": "2023-07-18T18:47:08.329716Z",
     "start_time": "2023-07-18T18:47:08.235883Z"
    }
   },
   "outputs": [],
   "source": [
    "def uncertain_intervened_sir(lockdown_strength, init_state, logging_times) -> State:\n",
    "    lockdown_start = pyro.sample(\"lockdown_start\", dist.Uniform(0.5, 1.5))\n",
    "    lockdown_end = pyro.sample(\"lockdown_end\", dist.Uniform(1.5, 2.5))\n",
    "    return intervened_sir(lockdown_start, lockdown_end, lockdown_strength, init_state, logging_times)"
   ]
  },
  {
   "cell_type": "code",
   "execution_count": null,
   "metadata": {
    "ExecuteTime": {
     "end_time": "2023-07-18T18:47:13.731306Z",
     "start_time": "2023-07-18T18:47:08.270009Z"
    }
   },
   "outputs": [],
   "source": [
    "uncertain_intervened_sir_predictive = Predictive(uncertain_intervened_sir, guide=sir_guide, num_samples=100)\n",
    "uncertain_intervened_sir_posterior_samples = uncertain_intervened_sir_predictive(lockdown_strength, init_state_lockdown, logging_times)"
   ]
  },
  {
   "cell_type": "code",
   "execution_count": null,
   "metadata": {
    "ExecuteTime": {
     "end_time": "2023-07-18T18:47:14.049827Z",
     "start_time": "2023-07-18T18:47:13.732215Z"
    }
   },
   "outputs": [],
   "source": [
    "# Plot predicted values for S, I, and R with 90% credible intervals\n",
    "\n",
    "fig, ax = plt.subplots(1, 3, figsize=(15, 5))\n",
    "\n",
    "SIR_plot(\n",
    "    logging_times,\n",
    "    1,\n",
    "    uncertain_intervened_sir_posterior_samples[\"S\"],\n",
    "    true_intervened_trajectory[\"S\"],\n",
    "    \"Predicted # Susceptible (Millions)\",\n",
    "    \"orange\",\n",
    "    \"Actual # Susceptible\",\n",
    "    ax[0],\n",
    "    legend=True,\n",
    "    test_plot=False,\n",
    ")\n",
    "SIR_plot(\n",
    "    logging_times,\n",
    "    1,\n",
    "    uncertain_intervened_sir_posterior_samples[\"I\"],\n",
    "    true_intervened_trajectory[\"I\"],\n",
    "    \"Predicted # Infected (Millions)\",\n",
    "    \"red\",\n",
    "    \"Actual # Infected\",\n",
    "    ax[1],\n",
    "    legend=True,\n",
    "    test_plot=False,\n",
    ")\n",
    "SIR_plot(\n",
    "    logging_times,\n",
    "    1,\n",
    "    uncertain_intervened_sir_posterior_samples[\"R\"],\n",
    "    true_intervened_trajectory[\"R\"],\n",
    "    \"Predicted # Recovered (Millions)\",\n",
    "    \"green\",\n",
    "    \"Actual # Recovered\",\n",
    "    ax[2],\n",
    "    legend=True,\n",
    "    test_plot=False,\n",
    ")\n",
    "\n",
    "# Plot the static intervention\n",
    "for a in ax:\n",
    "    a.axvline(lockdown_start, color=\"grey\", linestyle=\"-\", label=\"Start of Lockdown\")\n",
    "    a.axvline(lockdown_end, color=\"grey\", linestyle=\"-\", label=\"Start of Lockdown\")"
   ]
  },
  {
   "cell_type": "markdown",
   "metadata": {},
   "source": [
    "## Next, let's consider a state-dependent intervention (\"dynamic intervention\")"
   ]
  },
  {
   "cell_type": "markdown",
   "metadata": {},
   "source": [
    "### Here we assume that the government will issue a lockdown measure that reduces the transmission rate by 90% whenever the number of infected people hits 30 million infected. The government removes this lockdown when 20% of the population is recovered."
   ]
  },
  {
   "cell_type": "code",
   "execution_count": null,
   "metadata": {
    "ExecuteTime": {
     "end_time": "2023-07-18T18:47:14.139374Z",
     "start_time": "2023-07-18T18:47:14.050158Z"
    }
   },
   "outputs": [],
   "source": [
    "def government_lockdown_policy(target_state: State[torch.tensor]):\n",
    "    def event_f(t: torch.tensor, state: State[torch.tensor]):\n",
    "        return state[\"I\"] - target_state[\"I\"]\n",
    "\n",
    "    return event_f\n",
    "\n",
    "\n",
    "def government_lift_policy(target_state: State[torch.tensor]):\n",
    "    def event_f(t: torch.tensor, state: State[torch.tensor]):\n",
    "        return target_state[\"R\"] - state[\"R\"]\n",
    "\n",
    "    return event_f\n",
    "\n",
    "\n",
    "def dynamic_intervened_sir(lockdown_trigger, lockdown_lift_trigger, lockdown_strength, init_state, logging_times) -> State:\n",
    "    sir = bayesian_sir(SimpleSIRDynamicsLockdown)\n",
    "    with LogTrajectory(logging_times) as lt:\n",
    "        with InterruptionEventLoop():\n",
    "            with DynamicIntervention(event_f=government_lockdown_policy(lockdown_trigger), intervention=State(l=torch.as_tensor(lockdown_strength))):\n",
    "                with DynamicIntervention(event_f=government_lift_policy(lockdown_lift_trigger), intervention=State(l=torch.tensor(0.0))):\n",
    "                    simulate(sir, init_state, logging_times[0], logging_times[-1] + 1e-3, solver=TorchDiffEq())\n",
    "    trajectory = lt.trajectory\n",
    "    \n",
    "    # This is a small trick to make the solution variables available to pyro\n",
    "    [pyro.deterministic(k, trajectory[k]) for k in trajectory.keys()]\n",
    "    return trajectory"
   ]
  },
  {
   "cell_type": "code",
   "execution_count": null,
   "metadata": {
    "ExecuteTime": {
     "end_time": "2023-07-18T18:47:19.227835Z",
     "start_time": "2023-07-18T18:47:14.082066Z"
    }
   },
   "outputs": [],
   "source": [
    "lockdown_trigger = State(I=torch.tensor(30.0))\n",
    "lockdown_lift_trigger = State(R=torch.tensor(20.0))\n",
    "lockdown_strength = 0.9  # reduces transmission rate by 90%\n",
    "\n",
    "true_dynamic_intervened_sir = pyro.condition(dynamic_intervened_sir, data={\"beta\": beta_true, \"gamma\": gamma_true})\n",
    "true_dynamic_intervened_trajectory = true_dynamic_intervened_sir(lockdown_trigger, lockdown_lift_trigger, lockdown_strength, init_state_lockdown, logging_times)\n",
    "\n",
    "dynamic_intervened_sir_predictive = Predictive(dynamic_intervened_sir, guide=sir_guide, num_samples=100)\n",
    "dynamic_intervened_sir_posterior_samples = dynamic_intervened_sir_predictive(lockdown_trigger, lockdown_lift_trigger, lockdown_strength, init_state_lockdown, logging_times)"
   ]
  },
  {
   "cell_type": "code",
   "execution_count": null,
   "metadata": {
    "ExecuteTime": {
     "end_time": "2023-07-18T18:47:19.534805Z",
     "start_time": "2023-07-18T18:47:19.228543Z"
    }
   },
   "outputs": [],
   "source": [
    "# Plot predicted values for S, I, and R with 90% credible intervals\n",
    "\n",
    "fig, ax = plt.subplots(1, 3, figsize=(15, 5))\n",
    "\n",
    "SIR_plot(\n",
    "    logging_times,\n",
    "    1,\n",
    "    dynamic_intervened_sir_posterior_samples[\"S\"],\n",
    "    true_dynamic_intervened_trajectory[\"S\"],\n",
    "    \"Predicted # Susceptible (Millions)\",\n",
    "    \"orange\",\n",
    "    \"Actual # Susceptible\",\n",
    "    ax[0],\n",
    "    legend=True,\n",
    "    test_plot=False,\n",
    ")\n",
    "SIR_plot(\n",
    "    logging_times,\n",
    "    1,\n",
    "    dynamic_intervened_sir_posterior_samples[\"I\"],\n",
    "    true_dynamic_intervened_trajectory[\"I\"],\n",
    "    \"Predicted # Infected (Millions)\",\n",
    "    \"red\",\n",
    "    \"Actual # Infected\",\n",
    "    ax[1],\n",
    "    legend=True,\n",
    "    test_plot=False,\n",
    ")\n",
    "SIR_plot(\n",
    "    logging_times,\n",
    "    1,\n",
    "    dynamic_intervened_sir_posterior_samples[\"R\"],\n",
    "    true_dynamic_intervened_trajectory[\"R\"],\n",
    "    \"Predicted # Recovered (Millions)\",\n",
    "    \"green\",\n",
    "    \"Actual # Recovered\",\n",
    "    ax[2],\n",
    "    legend=True,\n",
    "    test_plot=False,\n",
    ")\n",
    "\n",
    "# Draw horizontal line at lockdown trigger\n",
    "ax[1].axhline(lockdown_trigger[\"I\"], color=\"grey\", linestyle=\"-\")\n",
    "ax[2].axhline(lockdown_lift_trigger[\"R\"], color=\"grey\", linestyle=\"-\")"
   ]
  },
  {
   "cell_type": "markdown",
   "metadata": {},
   "source": [
    "## Again, we can represent uncertainty about the interventions themselves."
   ]
  },
  {
   "cell_type": "code",
   "execution_count": null,
   "metadata": {
    "ExecuteTime": {
     "end_time": "2023-07-18T18:47:19.613896Z",
     "start_time": "2023-07-18T18:47:19.533372Z"
    }
   },
   "outputs": [],
   "source": [
    "def uncertain_dynamic_intervened_sir(lockdown_strength, init_state, logging_times) -> State:\n",
    "    lockdown_trigger = State(I=pyro.sample(\"lockdown_trigger\", dist.Uniform(30.0, 40.0)))\n",
    "    lockdown_lift_trigger = State(R=pyro.sample(\"lockdown_lift_trigger\", dist.Uniform(20.0, 30.0)))\n",
    "    return dynamic_intervened_sir(lockdown_trigger, lockdown_lift_trigger, lockdown_strength, init_state, logging_times)"
   ]
  },
  {
   "cell_type": "code",
   "execution_count": null,
   "metadata": {
    "ExecuteTime": {
     "end_time": "2023-07-18T18:47:24.507420Z",
     "start_time": "2023-07-18T18:47:19.564083Z"
    }
   },
   "outputs": [],
   "source": [
    "uncertain_dynamic_intervened_sir_predictive = Predictive(uncertain_dynamic_intervened_sir, guide=sir_guide, num_samples=100)\n",
    "uncertain_dynamic_intervened_sir_posterior_samples = (uncertain_dynamic_intervened_sir_predictive(lockdown_strength, init_state_lockdown, logging_times))"
   ]
  },
  {
   "cell_type": "code",
   "execution_count": null,
   "metadata": {
    "ExecuteTime": {
     "end_time": "2023-07-18T18:47:24.783573Z",
     "start_time": "2023-07-18T18:47:24.508114Z"
    }
   },
   "outputs": [],
   "source": [
    "# Plot predicted values for S, I, and R with 90% credible intervals\n",
    "\n",
    "fig, ax = plt.subplots(1, 3, figsize=(15, 5))\n",
    "\n",
    "SIR_plot(\n",
    "    logging_times,\n",
    "    1,\n",
    "    uncertain_dynamic_intervened_sir_posterior_samples[\"S\"],\n",
    "    true_dynamic_intervened_trajectory[\"S\"],\n",
    "    \"Predicted # Susceptible (Millions)\",\n",
    "    \"orange\",\n",
    "    \"Actual # Susceptible\",\n",
    "    ax[0],\n",
    "    legend=True,\n",
    "    test_plot=False,\n",
    ")\n",
    "SIR_plot(\n",
    "    logging_times,\n",
    "    1,\n",
    "    uncertain_dynamic_intervened_sir_posterior_samples[\"I\"],\n",
    "    true_dynamic_intervened_trajectory[\"I\"],\n",
    "    \"Predicted # Infected (Millions)\",\n",
    "    \"red\",\n",
    "    \"Actual # Infected\",\n",
    "    ax[1],\n",
    "    legend=True,\n",
    "    test_plot=False,\n",
    ")\n",
    "SIR_plot(\n",
    "    logging_times,\n",
    "    1,\n",
    "    uncertain_dynamic_intervened_sir_posterior_samples[\"R\"],\n",
    "    true_dynamic_intervened_trajectory[\"R\"],\n",
    "    \"Predicted # Recovered (Millions)\",\n",
    "    \"green\",\n",
    "    \"Actual # Recovered\",\n",
    "    ax[2],\n",
    "    legend=True,\n",
    "    test_plot=False,\n",
    ")\n",
    "\n",
    "# Draw horizontal line at lockdown trigger\n",
    "ax[1].axhline(lockdown_trigger[\"I\"], color=\"grey\", linestyle=\"-\")\n",
    "ax[2].axhline(lockdown_lift_trigger[\"R\"], color=\"grey\", linestyle=\"-\")"
   ]
  },
  {
   "cell_type": "markdown",
   "metadata": {},
   "source": [
    "## Modeling a superspreader event using counterfactual inference\n",
    "\n",
    "Suppose at time $t=0.3$ (`superspreader_time`), there is a superspreader event that results in a rapid infection a large number of people that would have otherwise remained susceptible. We model this as an instantaneous infection of 15 million people (`superspreader_delta`). One month later, suppose that a plane entering a foreign country holds 4 infected individuals (`landing_data`). We would like to answer the following counterfactual questions: if the superspreader event never occured, how many infected people would be on the plane?\n",
    "\n",
    "Counterfactuals become interesting when noise is plausibly shared between the factual and counterfactual worlds. Our noise model for the number of infected passengers comprises two sources of noise: one that we assume is shared between the factual and counterfactual regimes, and another that is not. This latter noise encapsulates an aggregation of unknowns that may differ across the factual and counterfactual regimes. The former, however, stems from the precision of a specific infection-screening machine used by the airline to deny boarding to infected would-be passengers. This machine was built before the superspreader event, and we assume its performance is the same across factual and counterfactual worlds."
   ]
  },
  {
   "cell_type": "code",
   "execution_count": null,
   "metadata": {
    "ExecuteTime": {
     "end_time": "2023-07-18T18:47:24.883515Z",
     "start_time": "2023-07-18T18:47:24.780163Z"
    }
   },
   "outputs": [],
   "source": [
    "# This allows us to specify non-continuous dynamics that won't be affected by e.g. counterfactual handlers.\n",
    "class NonContinuousDynamics(StaticIntervention):\n",
    "    def _pyro_apply_interruptions(self, msg) -> None:\n",
    "        with pyro.poutine.block(hide_types=[\"intervene\"]):\n",
    "            super()._pyro_apply_interruptions(msg)"
   ]
  },
  {
   "cell_type": "code",
   "execution_count": null,
   "metadata": {},
   "outputs": [],
   "source": [
    "ss_time = logging_times[torch.searchsorted(logging_times, .25)]\n",
    "print(\"Superspreader Time\", ss_time)"
   ]
  },
  {
   "cell_type": "code",
   "execution_count": null,
   "metadata": {
    "ExecuteTime": {
     "end_time": "2023-07-18T18:47:24.883741Z",
     "start_time": "2023-07-18T18:47:24.813977Z"
    }
   },
   "outputs": [],
   "source": [
    "landing_time = ss_time + 4/52 + 1e-4\n",
    "landing_data = {\"infected_passengers\": torch.tensor(4.)}\n",
    "\n",
    "# Because counterfactuals assume the intervened state is the counterfactual world, we have to hackily invert\n",
    "# this by treating the superspreader event as factual non-continuous dynamics, and the counterfactual as an\n",
    "# inversion of superspreader infections immediately following the superspreader event.\n",
    "\n",
    "superspreader_delta = torch.tensor(15.)\n",
    "\n",
    "# HACK counterfactual inverts the factual intervention slightly afterward.\n",
    "inverse_superspreader_intervention = State(\n",
    "    S=lambda s: s + superspreader_delta,\n",
    "    I=lambda i: i - superspreader_delta,\n",
    ")\n",
    "inverse_superspreader_time = ss_time + 2e-3\n",
    "\n",
    "superspreader_intervention = State(\n",
    "    # The superspreader event instantaneously subtracts from the susceptible group and adds to the\n",
    "    # infected group.\n",
    "    S=lambda s: s - superspreader_delta,\n",
    "    I=lambda i: i + superspreader_delta,\n",
    ")\n",
    "superspreader_time = inverse_superspreader_time - 1e-3\n",
    "\n",
    "superspreader_intervention = NonContinuousDynamics(\n",
    "    time=superspreader_time, \n",
    "    intervention=superspreader_intervention\n",
    ")\n",
    "\n",
    "inverse_superspreader_intervention = StaticIntervention(\n",
    "    time=inverse_superspreader_time, \n",
    "    intervention=inverse_superspreader_intervention\n",
    ")\n",
    "\n",
    "\n",
    "def get_num_infected_passengers(num_infected_in_millions: torch.Tensor, c=2.):\n",
    "    # Our model assumes that a given set of passengers on a plane are derived by drawing c passengers\n",
    "    # randomly from each million people in the country of origin.\n",
    "    number_of_individuals_infected = num_infected_in_millions * 1e6\n",
    "    return c * 1e-6 * number_of_individuals_infected\n",
    "\n",
    "\n",
    "class PlaneSuperSpreaderSIR(SimpleSIRDynamics):\n",
    "    def observation(self, X: State[torch.Tensor]):\n",
    "        if X[\"I\"].shape and X[\"I\"].shape[-1] > 1:\n",
    "            super().observation(X)\n",
    "        else:\n",
    "            # An airline builds screening machines that detect infections in passengers. If\n",
    "            # passengers are infected, they are denied boarding. These screening machines were built\n",
    "            # before the super-spreader event, so their effectiveness (modeled as 0-1 accuracy rate) is\n",
    "            # the same between the factual and counterfactual worlds. \n",
    "            \n",
    "            enittb = expected_num_infected_trying_to_board = get_num_infected_passengers(X[\"I\"])\n",
    "            # The number trying to board is subject to noise we do not assume is shared between worlds.\n",
    "            num_infected_trying_to_board = pyro.sample(\"nittb\", dist.Normal(enittb, 1.0))\n",
    "            \n",
    "            # The screening machines have some effectiveness rate that is shared between worlds.\n",
    "            # This is a value between 0 and 1.\n",
    "            se_frate = torch.sigmoid(pyro.sample(\"u_ip\", dist.Normal(0., 2.)))\n",
    "            \n",
    "            infected_passengers = se_frate * num_infected_trying_to_board\n",
    "            pyro.deterministic(\"infected_passengers\", infected_passengers, event_dim=0)\n",
    "            \n",
    "            # The arrival country has 100% accurate tests and test all passengers on arrival, hence the\n",
    "            # ability to observe number of infected passengers directly.\n",
    "\n",
    "\n",
    "def conditioned_sir_reparam(obs_times, data, init_state, logging_times, base_model=PlaneSuperSpreaderSIR) -> None:\n",
    "    sir = bayesian_sir(base_model)\n",
    "    batch_obs = condition(data=data)(sir.observation)\n",
    "    landing_obs = condition(data=landing_data)(sir.observation)\n",
    "    reparam_config = AutoSoftConditioning(scale=.1, alpha=0.5)\n",
    "    with InterruptionEventLoop():\n",
    "        with pyro.poutine.reparam(config=reparam_config):\n",
    "            with StaticObservation(landing_time, observation=landing_obs):\n",
    "                with StaticBatchObservation(obs_times, observation=batch_obs):\n",
    "                    with superspreader_intervention:\n",
    "                        simulate(sir, init_state, logging_times[0], logging_times[-1] + 1e-3, solver=TorchDiffEq())\n",
    "\n",
    "\n",
    "def counterfactual_sir(obs_times, data, init_state, logging_times) -> State:\n",
    "    sir = bayesian_sir(PlaneSuperSpreaderSIR)\n",
    "    batch_obs = condition(data=data)(sir.observation)\n",
    "    landing_obs = condition(data=landing_data)(sir.observation)\n",
    "    with LogTrajectory(logging_times) as lt:\n",
    "        with InterruptionEventLoop():\n",
    "            with StaticObservation(time=landing_time, observation=landing_obs):\n",
    "                with superspreader_intervention:\n",
    "                    with StaticBatchObservation(obs_times, observation=batch_obs):\n",
    "                        with TwinWorldCounterfactual() as cf:\n",
    "                            with inverse_superspreader_intervention:\n",
    "                                simulate(sir, init_state, logging_times[0], logging_times[-1] + 1e-3, solver=TorchDiffEq())\n",
    "    trajectory = lt.trajectory\n",
    "    with cf:\n",
    "        factual_indices = IndexSet(\n",
    "        **{k: {0} for k in indices_of(trajectory, event_dim=1).keys()}\n",
    "        )\n",
    "\n",
    "        cf_indices = IndexSet(\n",
    "            **{k: {1} for k in indices_of(trajectory, event_dim=1).keys()}\n",
    "        )\n",
    "       \n",
    "        factual_traj = gather(trajectory, factual_indices, event_dim=1)\n",
    "        cf_traj = gather(trajectory, cf_indices, event_dim=1)\n",
    "        \n",
    "        # This is a small trick to make the trajectory variables available to pyro    \n",
    "        for k in trajectory.keys():\n",
    "            pyro.deterministic(k + '_factual', factual_traj[k])\n",
    "            pyro.deterministic(k + '_cf', cf_traj[k])"
   ]
  },
  {
   "cell_type": "code",
   "execution_count": null,
   "metadata": {},
   "outputs": [],
   "source": [
    "\n",
    "with InterruptionEventLoop():\n",
    "    with superspreader_intervention:\n",
    "        num_infected_in_millions = simulate(sir_true, init_state, torch.tensor(0), landing_time, solver=TorchDiffEq())[\"I\"].item()\n",
    "        expected_num_infected_passengers = get_num_infected_passengers(num_infected_in_millions)\n",
    "        print(\"Expected Number of infected people trying to board in superspreader reality: X.I =\",\n",
    "              round(num_infected_in_millions, 2), \"Million\")\n",
    "        expected_actual_screening_rate = landing_data['infected_passengers'] / expected_num_infected_passengers\n",
    "        print(\"Expected Screening Failure Rate =\", round(expected_actual_screening_rate.item(), 2))\n",
    "        print(\"Expected u_ip\", round(torch.logit(expected_actual_screening_rate).item(), 2))\n",
    "        print('True # Infected Passengers Factual = ', landing_data['infected_passengers'].item())\n",
    "\n",
    "with InterruptionEventLoop():\n",
    "    with superspreader_intervention:\n",
    "        with inverse_superspreader_intervention:\n",
    "            num_infected_in_millions = round(simulate(sir_true, init_state, torch.tensor(0), landing_time, solver=TorchDiffEq())[\"I\"].item(), 2)\n",
    "            expected_num_infected_passengers = get_num_infected_passengers(num_infected_in_millions)\n",
    "            print(\"Number of infected people trying to board in counterfactual reality: X.I =\",\n",
    "                  num_infected_in_millions, \"Million\")\n",
    "            true_cf_infected = expected_num_infected_passengers * expected_actual_screening_rate\n",
    "            print(\"True # Infected Passengers Counterfactual = \", round(true_cf_infected.item(), 2))"
   ]
  },
  {
   "cell_type": "code",
   "execution_count": null,
   "metadata": {
    "ExecuteTime": {
     "end_time": "2023-07-18T18:47:24.956013Z",
     "start_time": "2023-07-18T18:47:24.910383Z"
    }
   },
   "outputs": [],
   "source": [
    "class CFGuide(pyro.nn.PyroModule):\n",
    "    \"\"\"\n",
    "    A guide modeling the conditional distribution of noise on latent dynamic parameters as a normal\n",
    "     with parameters defined as a linear combination of functions of those latent parameters.\n",
    "    \"\"\"\n",
    "\n",
    "    def __init__(self, original_sir_guide, noise_name: str):\n",
    "        super().__init__()\n",
    "        self.original_sir_guide = original_sir_guide\n",
    "        self.noise_name = noise_name\n",
    "\n",
    "    @pyro.nn.PyroParam(constraint=dist.constraints.positive)\n",
    "    def noise_std_coefficients(self):\n",
    "        return torch.ones(4)\n",
    "\n",
    "    @pyro.nn.PyroParam()\n",
    "    def noise_mean_coefficients(self):\n",
    "        return torch.ones(4)\n",
    "\n",
    "    def forward(self, *args, **kwargs):\n",
    "        self.original_sir_guide.requires_grad_(False)\n",
    "\n",
    "        bgd = self.original_sir_guide()\n",
    "        beta = bgd['beta']\n",
    "        gamma = bgd['gamma']\n",
    "\n",
    "        noise_mean = self.noise_mean_coefficients @ torch.tensor([beta, gamma, beta * gamma, 1.])\n",
    "        noise_std = self.noise_std_coefficients @ torch.tensor([beta, gamma, beta * gamma, 1.])\n",
    "\n",
    "        noise = pyro.sample(self.noise_name, dist.Normal(noise_mean, noise_std))\n",
    "        return noise\n",
    "\n",
    "cf_guide = CFGuide(original_sir_guide=sir_guide, noise_name='u_ip_0.36702409386634827')"
   ]
  },
  {
   "cell_type": "code",
   "execution_count": null,
   "metadata": {
    "ExecuteTime": {
     "end_time": "2023-07-18T18:47:52.258842Z",
     "start_time": "2023-07-18T18:47:24.941597Z"
    },
    "scrolled": false
   },
   "outputs": [],
   "source": [
    "# Approx. posterior over latent SIR params and noise variables conditional \n",
    "# on observed data.\n",
    "sir_guide_reparam = run_svi_inference(\n",
    "    conditioned_sir_reparam,\n",
    "    n_steps=500,\n",
    "    obs_times=obs_logging_times,\n",
    "    data=sir_data,\n",
    "    init_state=init_state,\n",
    "    logging_times=torch.tensor([0.0, 3.0]),\n",
    "    guide=cf_guide,\n",
    ")"
   ]
  },
  {
   "cell_type": "code",
   "execution_count": null,
   "metadata": {
    "ExecuteTime": {
     "end_time": "2023-07-18T18:47:58.954177Z",
     "start_time": "2023-07-18T18:47:52.258332Z"
    }
   },
   "outputs": [],
   "source": [
    "# Compute counterfactual\n",
    "cf_sir_predictive = Predictive(counterfactual_sir,\n",
    "    guide=sir_guide_reparam, num_samples=100\n",
    ")\n",
    "\n",
    "cf_sir_posterior_samples = cf_sir_predictive(\n",
    "    obs_logging_times, sir_data, init_state, logging_times\n",
    ")"
   ]
  },
  {
   "cell_type": "code",
   "execution_count": null,
   "metadata": {
    "ExecuteTime": {
     "end_time": "2023-07-18T18:47:58.997622Z",
     "start_time": "2023-07-18T18:47:58.954789Z"
    }
   },
   "outputs": [],
   "source": [
    "def SIR_cf_uncertainty_plot(logging_times, state_pred, line_label, ylabel, color, ax):\n",
    "    sns.lineplot(\n",
    "        x=logging_times,\n",
    "        y=state_pred.mean(dim=0),\n",
    "        color=color,\n",
    "        label=f\"Posterior Mean: {line_label}\",\n",
    "        ax=ax,\n",
    "    )\n",
    "    # 90% Credible Interval\n",
    "    ax.fill_between(\n",
    "        logging_times,\n",
    "        torch.quantile(state_pred, 0.05, dim=0),\n",
    "        torch.quantile(state_pred, 0.95, dim=0),\n",
    "        alpha=0.2,\n",
    "        color=color,\n",
    "    )\n",
    "\n",
    "    ax.set_xlabel(\"Time (Yrs)\")\n",
    "    ax.set_ylabel(ylabel)"
   ]
  },
  {
   "cell_type": "code",
   "execution_count": null,
   "metadata": {
    "ExecuteTime": {
     "end_time": "2023-07-18T18:47:59.281688Z",
     "start_time": "2023-07-18T18:47:58.998602Z"
    }
   },
   "outputs": [],
   "source": [
    "fig, ax = plt.subplots(1, 3, figsize=(15, 5))\n",
    "\n",
    "SIR_cf_uncertainty_plot(\n",
    "    logging_times,\n",
    "    cf_sir_posterior_samples['S_cf'].squeeze(),\n",
    "    'Counterfactual',\n",
    "    \"# Susceptible (Millions)\",\n",
    "    \"orange\",\n",
    "    ax=ax[0],\n",
    ")\n",
    "\n",
    "SIR_cf_uncertainty_plot(\n",
    "    logging_times,\n",
    "    cf_sir_posterior_samples['S_factual'].squeeze(),\n",
    "    'Reality',\n",
    "    \"# Susceptible (Millions)\",\n",
    "    \"blue\",\n",
    "    ax[0],\n",
    ")\n",
    "\n",
    "SIR_cf_uncertainty_plot(\n",
    "    logging_times,\n",
    "    cf_sir_posterior_samples['I_cf'].squeeze(),\n",
    "    'Counterfactual',\n",
    "    \"# Infected (Millions)\",\n",
    "    \"orange\",\n",
    "    ax=ax[1],\n",
    ")\n",
    "\n",
    "SIR_cf_uncertainty_plot(\n",
    "    logging_times,\n",
    "    cf_sir_posterior_samples['I_factual'].squeeze(),\n",
    "    'Reality',\n",
    "    \"# Infected (Millions)\",\n",
    "    \"blue\",\n",
    "    ax[1],\n",
    ")\n",
    "\n",
    "SIR_cf_uncertainty_plot(\n",
    "    logging_times,\n",
    "    cf_sir_posterior_samples['R_cf'].squeeze(),\n",
    "    'Counterfactual',\n",
    "    \"# Recovered (Millions)\",\n",
    "    \"orange\",\n",
    "    ax=ax[2],\n",
    ")\n",
    "\n",
    "SIR_cf_uncertainty_plot(\n",
    "    logging_times,\n",
    "    cf_sir_posterior_samples['R_factual'].squeeze(),\n",
    "    'Reality',\n",
    "    \"# Recovered (Millions)\",\n",
    "    \"blue\",\n",
    "    ax[2],\n",
    ")\n",
    "\n",
    "for ax_ in ax:\n",
    "    ax_.axvline(superspreader_time, linestyle='--', color='black', label='Superspreader Event', linewidth=0.8)\n",
    "    ax_.axvline(landing_time, linestyle='--', color='purple', label='Flight', linewidth=0.8)\n",
    "    ax_.set_xlim((0, 1.7))\n",
    "    ax_.legend()\n",
    "\n",
    "ax[0].legend().remove()\n",
    "ax[2].legend().remove()\n",
    "ax[1].legend(loc='upper center', bbox_to_anchor=(0.5, 1.15), fancybox=False, shadow=False, ncol=4)\n"
   ]
  },
  {
   "cell_type": "code",
   "execution_count": null,
   "metadata": {
    "ExecuteTime": {
     "end_time": "2023-07-18T18:47:59.512271Z",
     "start_time": "2023-07-18T18:47:59.274091Z"
    }
   },
   "outputs": [],
   "source": [
    "infected_pass_dist = cf_sir_posterior_samples['infected_passengers_0.36702409386634827'].squeeze()\n",
    "\n",
    "sns.kdeplot(infected_pass_dist[:, 1], label='Estimated Counterfactual')\n",
    "plt.axvline(x=true_cf_infected, color='black', label='Analytical Expected Counterfactual', linestyle='--')\n",
    "plt.axvline(x=infected_pass_dist[:, 0].mean(), color='red', label='Reality')\n",
    "plt.xlabel('# of Infected Passengers')\n",
    "plt.yticks([])\n",
    "plt.legend(loc='upper center')\n",
    "plt.xlim(0, 5)\n",
    "sns.despine()"
   ]
  },
  {
   "cell_type": "markdown",
   "metadata": {},
   "source": [
    "## References\n",
    "1. https://www.generable.com/post/fitting-a-basic-sir-model-in-stan\n",
    "2. https://benjaminmoll.com/wp-content/uploads/2020/05/SIR_notes.pdf"
   ]
  }
 ],
 "metadata": {
  "kernelspec": {
   "display_name": "Python 3 (ipykernel)",
   "language": "python",
   "name": "python3"
  },
  "language_info": {
   "codemirror_mode": {
    "name": "ipython",
    "version": 3
   },
   "file_extension": ".py",
   "mimetype": "text/x-python",
   "name": "python",
   "nbconvert_exporter": "python",
   "pygments_lexer": "ipython3",
   "version": "3.11.4"
  }
 },
 "nbformat": 4,
 "nbformat_minor": 2
}

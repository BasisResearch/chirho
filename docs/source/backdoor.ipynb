{
 "cells": [
  {
   "cell_type": "markdown",
   "metadata": {},
   "source": [
    "# Example: Backdoor adjustment"
   ]
  },
  {
   "cell_type": "code",
   "execution_count": null,
   "metadata": {},
   "outputs": [],
   "source": [
    "from typing import Dict, List, Optional, Tuple, Union, TypeVar\n",
    "\n",
    "import torch\n",
    "import pyro\n",
    "import pyro.distributions as dist\n",
    "from pyro.nn import PyroModule, PyroSample, PyroParam\n",
    "from pyro.contrib.autoname import scope\n",
    "from pyro.poutine import condition, reparam\n",
    "\n",
    "import causal_pyro\n",
    "from causal_pyro.query.do_messenger import do\n",
    "from causal_pyro.counterfactual.handlers import Factual, MultiWorldCounterfactual, TwinWorldCounterfactual"
   ]
  },
  {
   "cell_type": "markdown",
   "metadata": {},
   "source": [
    "## Background: systematically adjusting for observed confounding\n",
    "\n",
    "Suppose we wish to estimate how\n",
    "effective a particular treatment $T$ is in producing a desired outcome\n",
    "$Y$. We assume we have observations of patients who have and have not\n",
    "received treatment, but that we have not conducted a randomized\n",
    "controlled trial.\n",
    "\n",
    "Estimating $P(Y|T)$ would not accurately characterize\n",
    "the effect of the treatment, because this conditional distribution may\n",
    "reflect confounding from other patient attributes $X$ that affect both\n",
    "the treatment the patient receives and the effectiveness of the\n",
    "treatment on the outcome.\n",
    "\n",
    "For example, $P(Y \\mid T = 1)$ may place high\n",
    "mass on positive health outcomes, but only because younger patients are\n",
    "both more likely to receive treatment and less likely to experience\n",
    "negative health outcomes."
   ]
  },
  {
   "cell_type": "markdown",
   "metadata": {},
   "source": [
    "## Model: discrete causal Bayesian network\n",
    "\n",
    "The causal assumptions at work can be encoded as a probabilistic program in Pyro. "
   ]
  },
  {
   "cell_type": "code",
   "execution_count": null,
   "metadata": {},
   "outputs": [],
   "source": [
    "def backdoor_cbn(theta_x, theta_t, theta_y):\n",
    "    X = pyro.sample(\"X\", dist.Categorical(theta_x))\n",
    "    T = pyro.sample(\"T\", dist.Categorical(theta_t[..., X, :]))\n",
    "    Y = pyro.sample(\"Y\", dist.Categorical(theta_y[..., T, X, :]))\n",
    "    return Y\n",
    "\n",
    "pyro.render_model(backdoor_cbn, model_args=(torch.rand(2), torch.rand(2, 2), torch.rand(2, 2, 2)))"
   ]
  },
  {
   "cell_type": "markdown",
   "metadata": {},
   "source": [
    "\n",
    "From this program, an *intervened* version can be\n",
    "derived, representing experimental conditions for a patient assigned a\n",
    "certain treatment $T:=t$."
   ]
  },
  {
   "cell_type": "code",
   "execution_count": null,
   "metadata": {},
   "outputs": [],
   "source": [
    "intervened_backdoor_cbn = do(backdoor_cbn, {\"T\": 0})\n",
    "\n",
    "pyro.render_model(intervened_backdoor_cbn, model_args=(torch.rand(2), torch.rand(2, 2), torch.rand(2, 2, 2)))"
   ]
  },
  {
   "cell_type": "markdown",
   "metadata": {},
   "source": [
    "## Query: average treatment effect (ATE)\n",
    "\n",
    "Under these assumptions, we wish to compute the *average treatment\n",
    "effect*, $ATE = \\mathbb{E}[Y=1|do(T=1)] - \\mathbb{E}[Y=1|do(T=0)]$. The\n",
    "`do` notation indicates that the expectations are taken according to\n",
    "*intervened* versions of the model, with $T$ set to a particular value.\n",
    "Note that this is different from conditioning on $T$ in the original\n",
    "`causal_model`, which assumes $X$ and $T$ are dependent.\n",
    "\n",
    "As in all of our examples in this paper, the estimand of interest (in\n",
    "this case, the ATE) can be expressed as a posterior expectation in an\n",
    "*expanded* probabilistic program. (For the simple example in this\n",
    "section, this is a standard result, see e.g. @pearl and\n",
    "@lattimore_2019.) \n",
    "\n",
    "Suppose we have a set of measurements\n",
    "$Y^{(i)}, T^{(i)}, X^{(i)}$ from an observational population\n",
    "distribution $P(Y, T, X)$. The following probabilistic program encodes a\n",
    "joint distribution over $\\theta$, samples from the causal model, and\n",
    "hypothetical data corresponding to possible experimental outcomes if\n",
    "random patients were assigned treatment (1) or no treatment (0).\n",
    "The ATE is the expected return value of the program after conditioning\n",
    "our uncertainty of the true model parameters $\\theta$ on the measured\n",
    "observational data."
   ]
  },
  {
   "cell_type": "code",
   "execution_count": null,
   "metadata": {},
   "outputs": [],
   "source": [
    "class BayesianBackdoorATE(PyroModule):\n",
    "    def __init__(self):\n",
    "        super().__init__()\n",
    "\n",
    "    @PyroSample\n",
    "    def theta_x(self):\n",
    "        return dist.Dirichlet(torch.ones(2))\n",
    "\n",
    "    @PyroSample\n",
    "    def theta_y(self):\n",
    "        return dist.Dirichlet(torch.ones(2, 2))\n",
    "\n",
    "    @PyroSample\n",
    "    def theta_z(self):\n",
    "        return dist.Dirichlet(torch.ones(2, 2, 2))\n",
    "\n",
    "    def forward(self, x, t, y):\n",
    "        theta_x, theta_y, theta_z = self.theta_x, self.theta_y, self.theta_z\n",
    "\n",
    "        with pyro.plate(\"data\", x.shape[0], dim=-1):\n",
    "            Y_obs = condition(data={\"X\": x, \"T\": t, \"Y\": y})(backdoor_cbn)(\n",
    "                theta_x, theta_y, theta_z)\n",
    "\n",
    "        with pyro.contrib.autoname.scope(prefix=\"treatment\"):\n",
    "            Y_treatment = do(actions={\"treatment/T\": 1})(backdoor_cbn)(\n",
    "                theta_x, theta_y, theta_z)\n",
    "\n",
    "        with pyro.contrib.autoname.scope(prefix=\"control\"):\n",
    "            Y_control = do(actions={\"control/T\": 0})(backdoor_cbn)(\n",
    "                theta_x, theta_y, theta_z)\n",
    "\n",
    "        ATE = pyro.deterministic(\"ATE\", Y_treatment - Y_control)\n",
    "        return ATE\n",
    "\n",
    "\n",
    "x_obs, t_obs, y_obs = torch.randint(2, (100,)), torch.randint(2, (100,)), torch.randint(2, (100,))\n",
    "\n",
    "bayesian_backdoor_ate = BayesianBackdoorATE()\n",
    "pyro.render_model(bayesian_backdoor_ate, model_args=(x_obs, t_obs, y_obs))"
   ]
  },
  {
   "cell_type": "markdown",
   "metadata": {},
   "source": [
    "### A different approach"
   ]
  },
  {
   "cell_type": "code",
   "execution_count": null,
   "metadata": {},
   "outputs": [],
   "source": [
    "class BayesianBackdoorSCM(BayesianBackdoorATE):\n",
    "\n",
    "    def forward(self, x, t, y):\n",
    "\n",
    "        extended_model = do(actions={\"T\": 1. - t})(\n",
    "            pyro.plate(\"data\", x.shape[0], dim=-1)(\n",
    "                MultiWorldCounterfactual(-2)(\n",
    "                    condition(data={\"X\": x, \"T\": t, \"Y\": y})(\n",
    "                        reparam(config=pyro.infer.reparam.strategies.AutoReparam())(\n",
    "                            backdoor_cbn)))))\n",
    "                        \n",
    "        Ys = extended_model(self.theta_x, self.theta_y, self.theta_z)\n",
    "\n",
    "        ATE = pyro.deterministic(\"ATE\", torch.sum(Ys[..., 1, :] - Ys[..., 0, :], dim=-1) / x.shape[0])\n",
    "        return ATE\n",
    "\n",
    "bayesian_backdoor_ate_scm = BayesianBackdoorSCM()\n",
    "pyro.render_model(bayesian_backdoor_ate_scm, model_args=(x_obs, t_obs, y_obs))"
   ]
  }
 ],
 "metadata": {
  "kernelspec": {
   "display_name": "Python 3.8.10 64-bit",
   "language": "python",
   "name": "python3"
  },
  "language_info": {
   "name": "python",
   "version": "3.8.10"
  },
  "orig_nbformat": 4,
  "vscode": {
   "interpreter": {
    "hash": "916dbcbb3f70747c44a77c7bcd40155683ae19c65e1c03b4aa3499c5328201f1"
   }
  }
 },
 "nbformat": 4,
 "nbformat_minor": 2
}

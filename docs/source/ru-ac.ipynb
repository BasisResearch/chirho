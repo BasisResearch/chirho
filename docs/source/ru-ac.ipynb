{
 "cells": [
  {
   "cell_type": "code",
   "execution_count": 46,
   "metadata": {},
   "outputs": [
    {
     "name": "stdout",
     "output_type": "stream",
     "text": [
      "Automatic pdb calling has been turned OFF\n"
     ]
    }
   ],
   "source": [
    "%reload_ext autoreload\n",
    "%autoreload 2\n",
    "%pdb off\n",
    "\n",
    "import functools\n",
    "\n",
    "import torch\n",
    "from typing import Dict, List, Optional, Tuple, Union, TypeVar, Callable\n",
    "\n",
    "import pandas as pd\n",
    "\n",
    "import pyro\n",
    "import pyro.distributions as dist\n",
    "\n",
    "from causal_pyro.indexed.ops import IndexSet, gather, indices_of, scatter\n",
    "from causal_pyro.interventional.handlers import do\n",
    "from causal_pyro.counterfactual.handlers import MultiWorldCounterfactual, Preemptions"
   ]
  },
  {
   "cell_type": "code",
   "execution_count": 59,
   "metadata": {},
   "outputs": [],
   "source": [
    "class HalpernPearlModifiedApproximate:\n",
    "\n",
    "    def __init__(self, model: Callable,\n",
    "                 antecedents: Union[Dict[str, torch.Tensor], List[str]],\n",
    "                 witness_candidates: List[str],\n",
    "                 observations: Dict[str, torch.Tensor],\n",
    "                 sample_size: int = 100,\n",
    "                 intervention, counterfactual, preemptions,\n",
    "                 event_dim: int = 0):\n",
    "        \n",
    "        self.model = model\n",
    "        self.antecedents = antecedents\n",
    "        self.witness_candidates = witness_candidates\n",
    "        self.observations = observations\n",
    "        self.sample_size = sample_size\n",
    "\n",
    "        self.antecedents_dict = (\n",
    "            self.antecedents if isinstance(self.antecedents, dict)\n",
    "            else self.revert_antecedents(self.antecedents)\n",
    "        )\n",
    "    \n",
    "        self.preemptions = {candidate: functools.partial(self.preempt_with_factual,\n",
    "                                             antecedents = self.antecedents) for \n",
    "                                             candidate in self.witness_candidates}\n",
    "        \n",
    "\n",
    "    @staticmethod\n",
    "    def revert_antecedents(antecedents: List[str]) -> Dict[str, Callable[[torch.Tensor], torch.Tensor]]:\n",
    "        return {antecedent: lambda v: 1 - v for antecedent in antecedents}\n",
    "\n",
    "    @staticmethod   \n",
    "    def preempt_with_factual(value: torch.Tensor, *,\n",
    "                          antecedents: List[str] = None, event_dim: int = 0):\n",
    "    \n",
    "        if antecedents is None:\n",
    "            antecedents = []\n",
    "\n",
    "        antecedents = [a for a in antecedents if a in indices_of(value, event_dim=event_dim)]\n",
    "\n",
    "        factual_value = gather(value, IndexSet(**{antecedent: {0} for antecedent in antecedents}),\n",
    "                                event_dim=event_dim)\n",
    "            \n",
    "        return scatter({\n",
    "            IndexSet(**{antecedent: {0} for antecedent in antecedents}): factual_value,\n",
    "            IndexSet(**{antecedent: {1} for antecedent in antecedents}): factual_value,\n",
    "        }, event_dim=event_dim)\n",
    "        \n",
    "        \n",
    "    def __call__(self, *args, **kwargs):\n",
    "        \n",
    "        \n",
    "\n",
    "    \n"
   ]
  },
  {
   "cell_type": "code",
   "execution_count": 2,
   "metadata": {},
   "outputs": [],
   "source": [
    "def voting_model():\n",
    "    u_vote0 = pyro.sample(\"u_vote0\", dist.Bernoulli(0.6))\n",
    "    u_vote1 = pyro.sample(\"u_vote1\", dist.Bernoulli(0.6))\n",
    "    u_vote2 = pyro.sample(\"u_vote2\", dist.Bernoulli(0.6))\n",
    "    u_vote3 = pyro.sample(\"u_vote3\", dist.Bernoulli(0.6))\n",
    "    u_vote4 = pyro.sample(\"u_vote4\", dist.Bernoulli(0.6))\n",
    "\n",
    "    vote0 = pyro.deterministic(\"vote0\", u_vote0, event_dim=0)\n",
    "    vote1 = pyro.deterministic(\"vote1\", u_vote1, event_dim=0)\n",
    "    vote2 = pyro.deterministic(\"vote2\", u_vote2, event_dim=0)\n",
    "    vote3 = pyro.deterministic(\"vote3\", u_vote3, event_dim=0)\n",
    "    vote4 = pyro.deterministic(\"vote4\", u_vote4, event_dim=0)\n",
    "    return {\"outcome\": vote0 + vote1 + vote2 + vote3 + vote4 >= 3}\n",
    "\n",
    "# dict here seems handy "
   ]
  },
  {
   "cell_type": "code",
   "execution_count": 3,
   "metadata": {},
   "outputs": [],
   "source": [
    "model = voting_model"
   ]
  },
  {
   "cell_type": "code",
   "execution_count": 25,
   "metadata": {},
   "outputs": [],
   "source": [
    "\n",
    "def revert_antecedents(antecedents: List[str]) -> Dict[str, Callable[[torch.Tensor], torch.Tensor]]:\n",
    "        return {antecedent: lambda v: 1 - v for antecedent in antecedents}\n",
    "\n",
    "\n",
    "antecedents = [\"vote0\", \"vote3\"]\n",
    "\n",
    "antecedents_reverted = revert_antecedents(antecedents)\n"
   ]
  },
  {
   "cell_type": "code",
   "execution_count": 26,
   "metadata": {},
   "outputs": [],
   "source": [
    "\n",
    "def preempt_with_factual(value: torch.Tensor, *,\n",
    "                          antecedents: List[str] = None, event_dim: int = 0):\n",
    "    \n",
    "    if antecedents is None:\n",
    "        antecedents = []\n",
    "\n",
    "    antecedents = [a for a in antecedents if a in indices_of(value, event_dim=event_dim)]\n",
    "\n",
    "    factual_value = gather(value, IndexSet(**{antecedent: {0} for antecedent in antecedents}),\n",
    "                            event_dim=event_dim)\n",
    "        \n",
    "    return scatter({\n",
    "        IndexSet(**{antecedent: {0} for antecedent in antecedents}): factual_value,\n",
    "        IndexSet(**{antecedent: {1} for antecedent in antecedents}): factual_value,\n",
    "    }, event_dim=event_dim)\n"
   ]
  },
  {
   "cell_type": "code",
   "execution_count": 27,
   "metadata": {},
   "outputs": [
    {
     "name": "stdout",
     "output_type": "stream",
     "text": [
      "{'vote1': functools.partial(<function preempt_with_factual at 0x7f73640152d0>, antecedents=['vote0', 'vote3']), 'vote2': functools.partial(<function preempt_with_factual at 0x7f73640152d0>, antecedents=['vote0', 'vote3']), 'vote4': functools.partial(<function preempt_with_factual at 0x7f73640152d0>, antecedents=['vote0', 'vote3'])}\n"
     ]
    }
   ],
   "source": [
    "witness_candidates = [f\"vote{i}\" for i in [1,2,4]]\n",
    "\n",
    "preemptions = {candidate: functools.partial(preempt_with_factual,\n",
    "                                             antecedents = antecedents) for \n",
    "                                             candidate in witness_candidates}\n"
   ]
  },
  {
   "cell_type": "code",
   "execution_count": 49,
   "metadata": {},
   "outputs": [],
   "source": [
    "\n",
    "observations = dict(u_vote0=1., u_vote1=0., u_vote2=0., u_vote3=1., u_vote4=1.)\n",
    "\n",
    "sample_size = 10"
   ]
  },
  {
   "cell_type": "code",
   "execution_count": 50,
   "metadata": {},
   "outputs": [
    {
     "name": "stdout",
     "output_type": "stream",
     "text": [
      "{'intervened_consequent': [False, False, False, False, False, False, False, False, False, False], 'observed_consequent': [True, True, True, True, True, True, True, True, True, True], 'consequent_differs': [True, True, True, True, True, True, True, True, True, True]}\n"
     ]
    }
   ],
   "source": [
    "with pyro.poutine.trace() as tr:\n",
    "  with MultiWorldCounterfactual():\n",
    "      with do(actions=antecedents_reverted):\n",
    "        with Preemptions(actions = preemptions):\n",
    "          with pyro.condition(data={k: torch.as_tensor(v) for k, v in observations.items()}):\n",
    "              with pyro.plate(\"plate\", sample_size):\n",
    "                consequent = model()['outcome']\n",
    "                intervened_consequent = gather(consequent, IndexSet(**{ant: {1} for ant in antecedents}))\n",
    "                observed_consequent = gather(consequent, IndexSet(**{ant: {0} for ant in antecedents}))\n",
    "                consequent_differs = intervened_consequent != observed_consequent   \n",
    "                pyro.factor(\"consequent_differs\", torch.where(consequent_differs, torch.tensor(0.0), torch.tensor(-1e8)))\n",
    "\n",
    "                print(\n",
    "                      {\"intervened_consequent\": intervened_consequent.squeeze().tolist(),\n",
    "                      \"observed_consequent\": observed_consequent.squeeze().tolist(),\n",
    "                      \"consequent_differs\": consequent_differs.squeeze().tolist()}\n",
    "                )\n"
   ]
  },
  {
   "cell_type": "code",
   "execution_count": 51,
   "metadata": {},
   "outputs": [
    {
     "name": "stdout",
     "output_type": "stream",
     "text": [
      "   __split_vote1  __split_vote2  __split_vote4  consequent_differs\n",
      "0              0              0              0                True\n",
      "1              1              0              1                True\n",
      "2              0              1              0                True\n",
      "3              0              0              1                True\n",
      "4              1              0              0                True\n",
      "5              1              0              1                True\n",
      "6              1              1              1                True\n",
      "7              0              0              0                True\n",
      "8              0              0              1                True\n",
      "9              0              1              0                True\n"
     ]
    }
   ],
   "source": [
    "witness_keys = [\"__split_\" + candidate for candidate in witness_candidates]\n",
    "\n",
    "witness_dict = {key: tr.trace.nodes[key]['value']  for key in witness_keys}\n",
    "\n",
    "witness_dict['consequent_differs'] = consequent_differs.squeeze()\n",
    "\n",
    "witness_df = pd.DataFrame(witness_dict)\n",
    "\n",
    "print(witness_df)\n",
    "\n"
   ]
  },
  {
   "cell_type": "code",
   "execution_count": 118,
   "metadata": {},
   "outputs": [
    {
     "ename": "SyntaxError",
     "evalue": "incomplete input (1201503155.py, line 6)",
     "output_type": "error",
     "traceback": [
      "\u001b[0;36m  Cell \u001b[0;32mIn [118], line 6\u001b[0;36m\u001b[0m\n\u001b[0;31m    *, event_dim: int = 0):\u001b[0m\n\u001b[0m                           ^\u001b[0m\n\u001b[0;31mSyntaxError\u001b[0m\u001b[0;31m:\u001b[0m incomplete input\n"
     ]
    }
   ],
   "source": [
    "def actual_causality(model, \n",
    "                    antecedents: List[str],\n",
    "                    witness_candidates: List[str], \n",
    "                    outcome: str, \n",
    "                    observations: Dict[str, torch.Tensor],\n",
    "                    *, event_dim: int = 0):"
   ]
  },
  {
   "cell_type": "code",
   "execution_count": 140,
   "metadata": {},
   "outputs": [
    {
     "ename": "TypeError",
     "evalue": "list indices must be integers or slices, not str",
     "output_type": "error",
     "traceback": [
      "\u001b[0;31m---------------------------------------------------------------------------\u001b[0m",
      "\u001b[0;31mTypeError\u001b[0m                                 Traceback (most recent call last)",
      "\u001b[1;32m/home/rafal/UGPOP/projectsUGPOP/causal_pyro/docs/source/ru-ac.ipynb Cell 10\u001b[0m in \u001b[0;36m1\n\u001b[1;32m     <a href='vscode-notebook-cell:/home/rafal/UGPOP/projectsUGPOP/causal_pyro/docs/source/ru-ac.ipynb#W6sZmlsZQ%3D%3D?line=12'>13</a>\u001b[0m     \u001b[39mprint\u001b[39m(indices_of(consequent), indices_of(consequent_differs))\n\u001b[1;32m     <a href='vscode-notebook-cell:/home/rafal/UGPOP/projectsUGPOP/causal_pyro/docs/source/ru-ac.ipynb#W6sZmlsZQ%3D%3D?line=13'>14</a>\u001b[0m     \u001b[39mreturn\u001b[39;00m intervened_consequent, observed_consequent, consequent_differs\n\u001b[0;32m---> <a href='vscode-notebook-cell:/home/rafal/UGPOP/projectsUGPOP/causal_pyro/docs/source/ru-ac.ipynb#W6sZmlsZQ%3D%3D?line=15'>16</a>\u001b[0m \u001b[39mprint\u001b[39m(ac_voting_model())\n",
      "File \u001b[0;32m~/anaconda3/envs/causal_pyro/lib/python3.10/site-packages/pyro/poutine/reparam_messenger.py:139\u001b[0m, in \u001b[0;36mReparamHandler.__call__\u001b[0;34m(self, *args, **kwargs)\u001b[0m\n\u001b[1;32m    137\u001b[0m \u001b[39mtry\u001b[39;00m:\n\u001b[1;32m    138\u001b[0m     \u001b[39mwith\u001b[39;00m \u001b[39mself\u001b[39m\u001b[39m.\u001b[39mmsngr:\n\u001b[0;32m--> 139\u001b[0m         \u001b[39mreturn\u001b[39;00m \u001b[39mself\u001b[39;49m\u001b[39m.\u001b[39;49mfn(\u001b[39m*\u001b[39;49margs, \u001b[39m*\u001b[39;49m\u001b[39m*\u001b[39;49mkwargs)\n\u001b[1;32m    140\u001b[0m \u001b[39mfinally\u001b[39;00m:\n\u001b[1;32m    141\u001b[0m     \u001b[39mself\u001b[39m\u001b[39m.\u001b[39mmsngr\u001b[39m.\u001b[39m_args_kwargs \u001b[39m=\u001b[39m \u001b[39mNone\u001b[39;00m\n",
      "File \u001b[0;32m~/anaconda3/envs/causal_pyro/lib/python3.10/site-packages/pyro/poutine/messenger.py:12\u001b[0m, in \u001b[0;36m_context_wrap\u001b[0;34m(context, fn, *args, **kwargs)\u001b[0m\n\u001b[1;32m     10\u001b[0m \u001b[39mdef\u001b[39;00m \u001b[39m_context_wrap\u001b[39m(context, fn, \u001b[39m*\u001b[39margs, \u001b[39m*\u001b[39m\u001b[39m*\u001b[39mkwargs):\n\u001b[1;32m     11\u001b[0m     \u001b[39mwith\u001b[39;00m context:\n\u001b[0;32m---> 12\u001b[0m         \u001b[39mreturn\u001b[39;00m fn(\u001b[39m*\u001b[39;49margs, \u001b[39m*\u001b[39;49m\u001b[39m*\u001b[39;49mkwargs)\n",
      "File \u001b[0;32m~/anaconda3/envs/causal_pyro/lib/python3.10/site-packages/pyro/poutine/messenger.py:12\u001b[0m, in \u001b[0;36m_context_wrap\u001b[0;34m(context, fn, *args, **kwargs)\u001b[0m\n\u001b[1;32m     10\u001b[0m \u001b[39mdef\u001b[39;00m \u001b[39m_context_wrap\u001b[39m(context, fn, \u001b[39m*\u001b[39margs, \u001b[39m*\u001b[39m\u001b[39m*\u001b[39mkwargs):\n\u001b[1;32m     11\u001b[0m     \u001b[39mwith\u001b[39;00m context:\n\u001b[0;32m---> 12\u001b[0m         \u001b[39mreturn\u001b[39;00m fn(\u001b[39m*\u001b[39;49margs, \u001b[39m*\u001b[39;49m\u001b[39m*\u001b[39;49mkwargs)\n",
      "File \u001b[0;32m~/anaconda3/envs/causal_pyro/lib/python3.10/site-packages/pyro/poutine/messenger.py:12\u001b[0m, in \u001b[0;36m_context_wrap\u001b[0;34m(context, fn, *args, **kwargs)\u001b[0m\n\u001b[1;32m     10\u001b[0m \u001b[39mdef\u001b[39;00m \u001b[39m_context_wrap\u001b[39m(context, fn, \u001b[39m*\u001b[39margs, \u001b[39m*\u001b[39m\u001b[39m*\u001b[39mkwargs):\n\u001b[1;32m     11\u001b[0m     \u001b[39mwith\u001b[39;00m context:\n\u001b[0;32m---> 12\u001b[0m         \u001b[39mreturn\u001b[39;00m fn(\u001b[39m*\u001b[39;49margs, \u001b[39m*\u001b[39;49m\u001b[39m*\u001b[39;49mkwargs)\n",
      "\u001b[1;32m/home/rafal/UGPOP/projectsUGPOP/causal_pyro/docs/source/ru-ac.ipynb Cell 10\u001b[0m in \u001b[0;36m8\n\u001b[1;32m      <a href='vscode-notebook-cell:/home/rafal/UGPOP/projectsUGPOP/causal_pyro/docs/source/ru-ac.ipynb#W6sZmlsZQ%3D%3D?line=2'>3</a>\u001b[0m \u001b[39m@MultiWorldCounterfactual\u001b[39m()\n\u001b[1;32m      <a href='vscode-notebook-cell:/home/rafal/UGPOP/projectsUGPOP/causal_pyro/docs/source/ru-ac.ipynb#W6sZmlsZQ%3D%3D?line=3'>4</a>\u001b[0m \u001b[39m@do\u001b[39m(actions\u001b[39m=\u001b[39mantecedents2)\n\u001b[1;32m      <a href='vscode-notebook-cell:/home/rafal/UGPOP/projectsUGPOP/causal_pyro/docs/source/ru-ac.ipynb#W6sZmlsZQ%3D%3D?line=4'>5</a>\u001b[0m \u001b[39m@Preemptions\u001b[39m(actions\u001b[39m=\u001b[39mpreemptions2)\n\u001b[1;32m      <a href='vscode-notebook-cell:/home/rafal/UGPOP/projectsUGPOP/causal_pyro/docs/source/ru-ac.ipynb#W6sZmlsZQ%3D%3D?line=5'>6</a>\u001b[0m \u001b[39m@pyro\u001b[39m\u001b[39m.\u001b[39mcondition(data\u001b[39m=\u001b[39m{k: torch\u001b[39m.\u001b[39mas_tensor(v) \u001b[39mfor\u001b[39;00m k, v \u001b[39min\u001b[39;00m observations\u001b[39m.\u001b[39mitems()})\n\u001b[1;32m      <a href='vscode-notebook-cell:/home/rafal/UGPOP/projectsUGPOP/causal_pyro/docs/source/ru-ac.ipynb#W6sZmlsZQ%3D%3D?line=6'>7</a>\u001b[0m \u001b[39mdef\u001b[39;00m \u001b[39mac_voting_model\u001b[39m():\n\u001b[0;32m----> <a href='vscode-notebook-cell:/home/rafal/UGPOP/projectsUGPOP/causal_pyro/docs/source/ru-ac.ipynb#W6sZmlsZQ%3D%3D?line=7'>8</a>\u001b[0m     consequent \u001b[39m=\u001b[39m voting_model()[\u001b[39m'\u001b[39m\u001b[39moutcome\u001b[39m\u001b[39m'\u001b[39m]\n\u001b[1;32m      <a href='vscode-notebook-cell:/home/rafal/UGPOP/projectsUGPOP/causal_pyro/docs/source/ru-ac.ipynb#W6sZmlsZQ%3D%3D?line=8'>9</a>\u001b[0m     intervened_consequent \u001b[39m=\u001b[39m gather(consequent, IndexSet(vote0\u001b[39m=\u001b[39m{\u001b[39m1\u001b[39m}))\n\u001b[1;32m     <a href='vscode-notebook-cell:/home/rafal/UGPOP/projectsUGPOP/causal_pyro/docs/source/ru-ac.ipynb#W6sZmlsZQ%3D%3D?line=9'>10</a>\u001b[0m     observed_consequent \u001b[39m=\u001b[39m gather(consequent, IndexSet(vote0\u001b[39m=\u001b[39m{\u001b[39m0\u001b[39m}))\n",
      "\u001b[1;32m/home/rafal/UGPOP/projectsUGPOP/causal_pyro/docs/source/ru-ac.ipynb Cell 10\u001b[0m in \u001b[0;36m2\n\u001b[1;32m      <a href='vscode-notebook-cell:/home/rafal/UGPOP/projectsUGPOP/causal_pyro/docs/source/ru-ac.ipynb#W6sZmlsZQ%3D%3D?line=0'>1</a>\u001b[0m \u001b[39mdef\u001b[39;00m \u001b[39mvoting_model\u001b[39m():\n\u001b[0;32m----> <a href='vscode-notebook-cell:/home/rafal/UGPOP/projectsUGPOP/causal_pyro/docs/source/ru-ac.ipynb#W6sZmlsZQ%3D%3D?line=1'>2</a>\u001b[0m     u_vote0 \u001b[39m=\u001b[39m pyro\u001b[39m.\u001b[39;49msample(\u001b[39m\"\u001b[39;49m\u001b[39mu_vote0\u001b[39;49m\u001b[39m\"\u001b[39;49m, dist\u001b[39m.\u001b[39;49mBernoulli(\u001b[39m0.6\u001b[39;49m))\n\u001b[1;32m      <a href='vscode-notebook-cell:/home/rafal/UGPOP/projectsUGPOP/causal_pyro/docs/source/ru-ac.ipynb#W6sZmlsZQ%3D%3D?line=2'>3</a>\u001b[0m     u_vote1 \u001b[39m=\u001b[39m pyro\u001b[39m.\u001b[39msample(\u001b[39m\"\u001b[39m\u001b[39mu_vote1\u001b[39m\u001b[39m\"\u001b[39m, dist\u001b[39m.\u001b[39mBernoulli(\u001b[39m0.6\u001b[39m))\n\u001b[1;32m      <a href='vscode-notebook-cell:/home/rafal/UGPOP/projectsUGPOP/causal_pyro/docs/source/ru-ac.ipynb#W6sZmlsZQ%3D%3D?line=3'>4</a>\u001b[0m     u_vote2 \u001b[39m=\u001b[39m pyro\u001b[39m.\u001b[39msample(\u001b[39m\"\u001b[39m\u001b[39mu_vote2\u001b[39m\u001b[39m\"\u001b[39m, dist\u001b[39m.\u001b[39mBernoulli(\u001b[39m0.6\u001b[39m))\n",
      "File \u001b[0;32m~/anaconda3/envs/causal_pyro/lib/python3.10/site-packages/pyro/primitives.py:163\u001b[0m, in \u001b[0;36msample\u001b[0;34m(name, fn, *args, **kwargs)\u001b[0m\n\u001b[1;32m    146\u001b[0m msg \u001b[39m=\u001b[39m {\n\u001b[1;32m    147\u001b[0m     \u001b[39m\"\u001b[39m\u001b[39mtype\u001b[39m\u001b[39m\"\u001b[39m: \u001b[39m\"\u001b[39m\u001b[39msample\u001b[39m\u001b[39m\"\u001b[39m,\n\u001b[1;32m    148\u001b[0m     \u001b[39m\"\u001b[39m\u001b[39mname\u001b[39m\u001b[39m\"\u001b[39m: name,\n\u001b[0;32m   (...)\u001b[0m\n\u001b[1;32m    160\u001b[0m     \u001b[39m\"\u001b[39m\u001b[39mcontinuation\u001b[39m\u001b[39m\"\u001b[39m: \u001b[39mNone\u001b[39;00m,\n\u001b[1;32m    161\u001b[0m }\n\u001b[1;32m    162\u001b[0m \u001b[39m# apply the stack and return its return value\u001b[39;00m\n\u001b[0;32m--> 163\u001b[0m apply_stack(msg)\n\u001b[1;32m    164\u001b[0m \u001b[39mreturn\u001b[39;00m msg[\u001b[39m\"\u001b[39m\u001b[39mvalue\u001b[39m\u001b[39m\"\u001b[39m]\n",
      "File \u001b[0;32m~/anaconda3/envs/causal_pyro/lib/python3.10/site-packages/pyro/poutine/runtime.py:221\u001b[0m, in \u001b[0;36mapply_stack\u001b[0;34m(initial_msg)\u001b[0m\n\u001b[1;32m    218\u001b[0m default_process_message(msg)\n\u001b[1;32m    220\u001b[0m \u001b[39mfor\u001b[39;00m frame \u001b[39min\u001b[39;00m stack[\u001b[39m-\u001b[39mpointer:]:\n\u001b[0;32m--> 221\u001b[0m     frame\u001b[39m.\u001b[39;49m_postprocess_message(msg)\n\u001b[1;32m    223\u001b[0m cont \u001b[39m=\u001b[39m msg[\u001b[39m\"\u001b[39m\u001b[39mcontinuation\u001b[39m\u001b[39m\"\u001b[39m]\n\u001b[1;32m    224\u001b[0m \u001b[39mif\u001b[39;00m cont \u001b[39mis\u001b[39;00m \u001b[39mnot\u001b[39;00m \u001b[39mNone\u001b[39;00m:\n",
      "File \u001b[0;32m~/anaconda3/envs/causal_pyro/lib/python3.10/site-packages/pyro/poutine/messenger.py:168\u001b[0m, in \u001b[0;36mMessenger._postprocess_message\u001b[0;34m(self, msg)\u001b[0m\n\u001b[1;32m    166\u001b[0m method \u001b[39m=\u001b[39m \u001b[39mgetattr\u001b[39m(\u001b[39mself\u001b[39m, \u001b[39m\"\u001b[39m\u001b[39m_pyro_post_\u001b[39m\u001b[39m{}\u001b[39;00m\u001b[39m\"\u001b[39m\u001b[39m.\u001b[39mformat(msg[\u001b[39m\"\u001b[39m\u001b[39mtype\u001b[39m\u001b[39m\"\u001b[39m]), \u001b[39mNone\u001b[39;00m)\n\u001b[1;32m    167\u001b[0m \u001b[39mif\u001b[39;00m method \u001b[39mis\u001b[39;00m \u001b[39mnot\u001b[39;00m \u001b[39mNone\u001b[39;00m:\n\u001b[0;32m--> 168\u001b[0m     \u001b[39mreturn\u001b[39;00m method(msg)\n\u001b[1;32m    169\u001b[0m \u001b[39mreturn\u001b[39;00m \u001b[39mNone\u001b[39;00m\n",
      "File \u001b[0;32m~/UGPOP/projectsUGPOP/causal_pyro/causal_pyro/interventional/handlers.py:87\u001b[0m, in \u001b[0;36mDoMessenger._pyro_post_sample\u001b[0;34m(self, msg)\u001b[0m\n\u001b[1;32m     85\u001b[0m \u001b[39mdef\u001b[39;00m \u001b[39m_pyro_post_sample\u001b[39m(\u001b[39mself\u001b[39m, msg):\n\u001b[1;32m     86\u001b[0m     \u001b[39mtry\u001b[39;00m:\n\u001b[0;32m---> 87\u001b[0m         action \u001b[39m=\u001b[39m \u001b[39mself\u001b[39;49m\u001b[39m.\u001b[39;49mactions[msg[\u001b[39m\"\u001b[39;49m\u001b[39mname\u001b[39;49m\u001b[39m\"\u001b[39;49m]]\n\u001b[1;32m     88\u001b[0m     \u001b[39mexcept\u001b[39;00m \u001b[39mKeyError\u001b[39;00m:\n\u001b[1;32m     89\u001b[0m         \u001b[39mreturn\u001b[39;00m\n",
      "\u001b[0;31mTypeError\u001b[0m: list indices must be integers or slices, not str"
     ]
    }
   ],
   "source": [
    "\n",
    "\n",
    "# @pyro.infer.infer_discrete(first_available_dim=-7)\n",
    "# @pyro.infer.config_enumerate\n",
    "@MultiWorldCounterfactual()\n",
    "@do(actions=antecedents2)\n",
    "@Preemptions(actions=preemptions2)\n",
    "@pyro.condition(data={k: torch.as_tensor(v) for k, v in observations.items()})\n",
    "def ac_voting_model():\n",
    "    consequent = voting_model()['outcome']\n",
    "    intervened_consequent = gather(consequent, IndexSet(vote0={1}))\n",
    "    observed_consequent = gather(consequent, IndexSet(vote0={0}))\n",
    "    consequent_differs = intervened_consequent != observed_consequent\n",
    "    pyro.factor(\"consequent_differs\", torch.where(consequent_differs, torch.tensor(0.0), torch.tensor(-1e8)))\n",
    "    print(indices_of(consequent), indices_of(consequent_differs))\n",
    "    return intervened_consequent, observed_consequent, consequent_differs\n",
    "\n",
    "print(ac_voting_model())"
   ]
  },
  {
   "cell_type": "code",
   "execution_count": null,
   "metadata": {},
   "outputs": [],
   "source": []
  }
 ],
 "metadata": {
  "kernelspec": {
   "display_name": "base",
   "language": "python",
   "name": "python3"
  },
  "language_info": {
   "codemirror_mode": {
    "name": "ipython",
    "version": 3
   },
   "file_extension": ".py",
   "mimetype": "text/x-python",
   "name": "python",
   "nbconvert_exporter": "python",
   "pygments_lexer": "ipython3",
   "version": "3.10.9"
  },
  "orig_nbformat": 4
 },
 "nbformat": 4,
 "nbformat_minor": 2
}

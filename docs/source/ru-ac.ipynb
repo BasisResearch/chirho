{
 "cells": [
  {
   "cell_type": "code",
   "execution_count": 1,
   "metadata": {},
   "outputs": [
    {
     "name": "stdout",
     "output_type": "stream",
     "text": [
      "Automatic pdb calling has been turned OFF\n"
     ]
    }
   ],
   "source": [
    "%reload_ext autoreload\n",
    "%autoreload 2\n",
    "%pdb off\n",
    "\n",
    "import functools\n",
    "\n",
    "import torch\n",
    "from typing import Dict, List, Optional, Tuple, Union, TypeVar, Callable\n",
    "\n",
    "import pyro\n",
    "import pyro.distributions as dist\n",
    "\n",
    "from causal_pyro.indexed.ops import IndexSet, gather, indices_of, scatter\n",
    "from causal_pyro.interventional.handlers import do\n",
    "from causal_pyro.counterfactual.handlers import MultiWorldCounterfactual, Preemptions"
   ]
  },
  {
   "cell_type": "code",
   "execution_count": 25,
   "metadata": {},
   "outputs": [],
   "source": [
    "def voting_model():\n",
    "    u_vote0 = pyro.sample(\"u_vote0\", dist.Bernoulli(0.6))\n",
    "    u_vote1 = pyro.sample(\"u_vote1\", dist.Bernoulli(0.6))\n",
    "    u_vote2 = pyro.sample(\"u_vote2\", dist.Bernoulli(0.6))\n",
    "    u_vote3 = pyro.sample(\"u_vote3\", dist.Bernoulli(0.6))\n",
    "    u_vote4 = pyro.sample(\"u_vote4\", dist.Bernoulli(0.6))\n",
    "\n",
    "    vote0 = pyro.deterministic(\"vote0\", u_vote0, event_dim=0)\n",
    "    vote1 = pyro.deterministic(\"vote1\", u_vote1, event_dim=0)\n",
    "    vote2 = pyro.deterministic(\"vote2\", u_vote2, event_dim=0)\n",
    "    vote3 = pyro.deterministic(\"vote3\", u_vote3, event_dim=0)\n",
    "    vote4 = pyro.deterministic(\"vote4\", u_vote4, event_dim=0)\n",
    "    return {\"outcome\": vote0 + vote1 + vote2 + vote3 + vote4 >= 3}\n",
    "\n",
    "# you might want the model to return other things, \n",
    "# or in the actual impact on multiple variables\n",
    "# and you might prefer to pass a variable name and value as the consequent\n",
    "# so dict here seems handy"
   ]
  },
  {
   "cell_type": "code",
   "execution_count": 62,
   "metadata": {},
   "outputs": [],
   "source": [
    "#Q: what if we want multiple antecedents?\n",
    "\n",
    "def preempt_with_factual(value: torch.Tensor, *, antecedent: str = \"\", event_dim: int = 0):\n",
    "    factual_value = gather(value, IndexSet(**{antecedent: {0}}), event_dim=event_dim)\n",
    "    return scatter({\n",
    "        IndexSet(**{antecedent: {0}}): factual_value,\n",
    "        IndexSet(**{antecedent: {1}}): factual_value,\n",
    "    }, event_dim=event_dim)\n"
   ]
  },
  {
   "cell_type": "code",
   "execution_count": 55,
   "metadata": {},
   "outputs": [
    {
     "name": "stdout",
     "output_type": "stream",
     "text": [
      "['vote0']\n",
      "['vote1', 'vote2', 'vote3', 'vote4']\n"
     ]
    }
   ],
   "source": [
    "antecedents = [\"vote0\"]\n",
    "witness_candidates = [f\"vote{i}\" for i in range(1, 5)]\n",
    "\n",
    "print(antecedents)\n",
    "print(witness_candidates)"
   ]
  },
  {
   "cell_type": "code",
   "execution_count": 61,
   "metadata": {},
   "outputs": [
    {
     "ename": "TypeError",
     "evalue": "preempt_with_factual() got an unexpected keyword argument 'antecedent'",
     "output_type": "error",
     "traceback": [
      "\u001b[0;31m---------------------------------------------------------------------------\u001b[0m",
      "\u001b[0;31mTypeError\u001b[0m                                 Traceback (most recent call last)",
      "\u001b[1;32m/home/rafal/UGPOP/projectsUGPOP/causal_pyro/docs/source/ru-ac.ipynb Cell 10\u001b[0m in \u001b[0;36m1\n\u001b[1;32m     <a href='vscode-notebook-cell:/home/rafal/UGPOP/projectsUGPOP/causal_pyro/docs/source/ru-ac.ipynb#W5sZmlsZQ%3D%3D?line=14'>15</a>\u001b[0m     \u001b[39mprint\u001b[39m(indices_of(consequent), indices_of(consequent_differs))\n\u001b[1;32m     <a href='vscode-notebook-cell:/home/rafal/UGPOP/projectsUGPOP/causal_pyro/docs/source/ru-ac.ipynb#W5sZmlsZQ%3D%3D?line=15'>16</a>\u001b[0m     \u001b[39mreturn\u001b[39;00m intervened_consequent, observed_consequent, consequent_differs\n\u001b[0;32m---> <a href='vscode-notebook-cell:/home/rafal/UGPOP/projectsUGPOP/causal_pyro/docs/source/ru-ac.ipynb#W5sZmlsZQ%3D%3D?line=17'>18</a>\u001b[0m \u001b[39mprint\u001b[39m(ac_voting_model())\n",
      "File \u001b[0;32m~/anaconda3/envs/causal_pyro/lib/python3.10/site-packages/pyro/poutine/reparam_messenger.py:139\u001b[0m, in \u001b[0;36mReparamHandler.__call__\u001b[0;34m(self, *args, **kwargs)\u001b[0m\n\u001b[1;32m    137\u001b[0m \u001b[39mtry\u001b[39;00m:\n\u001b[1;32m    138\u001b[0m     \u001b[39mwith\u001b[39;00m \u001b[39mself\u001b[39m\u001b[39m.\u001b[39mmsngr:\n\u001b[0;32m--> 139\u001b[0m         \u001b[39mreturn\u001b[39;00m \u001b[39mself\u001b[39;49m\u001b[39m.\u001b[39;49mfn(\u001b[39m*\u001b[39;49margs, \u001b[39m*\u001b[39;49m\u001b[39m*\u001b[39;49mkwargs)\n\u001b[1;32m    140\u001b[0m \u001b[39mfinally\u001b[39;00m:\n\u001b[1;32m    141\u001b[0m     \u001b[39mself\u001b[39m\u001b[39m.\u001b[39mmsngr\u001b[39m.\u001b[39m_args_kwargs \u001b[39m=\u001b[39m \u001b[39mNone\u001b[39;00m\n",
      "File \u001b[0;32m~/anaconda3/envs/causal_pyro/lib/python3.10/site-packages/pyro/poutine/messenger.py:12\u001b[0m, in \u001b[0;36m_context_wrap\u001b[0;34m(context, fn, *args, **kwargs)\u001b[0m\n\u001b[1;32m     10\u001b[0m \u001b[39mdef\u001b[39;00m \u001b[39m_context_wrap\u001b[39m(context, fn, \u001b[39m*\u001b[39margs, \u001b[39m*\u001b[39m\u001b[39m*\u001b[39mkwargs):\n\u001b[1;32m     11\u001b[0m     \u001b[39mwith\u001b[39;00m context:\n\u001b[0;32m---> 12\u001b[0m         \u001b[39mreturn\u001b[39;00m fn(\u001b[39m*\u001b[39;49margs, \u001b[39m*\u001b[39;49m\u001b[39m*\u001b[39;49mkwargs)\n",
      "File \u001b[0;32m~/anaconda3/envs/causal_pyro/lib/python3.10/site-packages/pyro/poutine/messenger.py:12\u001b[0m, in \u001b[0;36m_context_wrap\u001b[0;34m(context, fn, *args, **kwargs)\u001b[0m\n\u001b[1;32m     10\u001b[0m \u001b[39mdef\u001b[39;00m \u001b[39m_context_wrap\u001b[39m(context, fn, \u001b[39m*\u001b[39margs, \u001b[39m*\u001b[39m\u001b[39m*\u001b[39mkwargs):\n\u001b[1;32m     11\u001b[0m     \u001b[39mwith\u001b[39;00m context:\n\u001b[0;32m---> 12\u001b[0m         \u001b[39mreturn\u001b[39;00m fn(\u001b[39m*\u001b[39;49margs, \u001b[39m*\u001b[39;49m\u001b[39m*\u001b[39;49mkwargs)\n",
      "File \u001b[0;32m~/anaconda3/envs/causal_pyro/lib/python3.10/site-packages/pyro/poutine/messenger.py:12\u001b[0m, in \u001b[0;36m_context_wrap\u001b[0;34m(context, fn, *args, **kwargs)\u001b[0m\n\u001b[1;32m     10\u001b[0m \u001b[39mdef\u001b[39;00m \u001b[39m_context_wrap\u001b[39m(context, fn, \u001b[39m*\u001b[39margs, \u001b[39m*\u001b[39m\u001b[39m*\u001b[39mkwargs):\n\u001b[1;32m     11\u001b[0m     \u001b[39mwith\u001b[39;00m context:\n\u001b[0;32m---> 12\u001b[0m         \u001b[39mreturn\u001b[39;00m fn(\u001b[39m*\u001b[39;49margs, \u001b[39m*\u001b[39;49m\u001b[39m*\u001b[39;49mkwargs)\n",
      "\u001b[1;32m/home/rafal/UGPOP/projectsUGPOP/causal_pyro/docs/source/ru-ac.ipynb Cell 10\u001b[0m in \u001b[0;36m1\n\u001b[1;32m      <a href='vscode-notebook-cell:/home/rafal/UGPOP/projectsUGPOP/causal_pyro/docs/source/ru-ac.ipynb#W5sZmlsZQ%3D%3D?line=4'>5</a>\u001b[0m \u001b[39m@MultiWorldCounterfactual\u001b[39m()\n\u001b[1;32m      <a href='vscode-notebook-cell:/home/rafal/UGPOP/projectsUGPOP/causal_pyro/docs/source/ru-ac.ipynb#W5sZmlsZQ%3D%3D?line=5'>6</a>\u001b[0m \u001b[39m@do\u001b[39m(actions\u001b[39m=\u001b[39mantecedents2)\n\u001b[1;32m      <a href='vscode-notebook-cell:/home/rafal/UGPOP/projectsUGPOP/causal_pyro/docs/source/ru-ac.ipynb#W5sZmlsZQ%3D%3D?line=6'>7</a>\u001b[0m \u001b[39m@Preemptions\u001b[39m(actions\u001b[39m=\u001b[39mpreemptions)\n\u001b[1;32m      <a href='vscode-notebook-cell:/home/rafal/UGPOP/projectsUGPOP/causal_pyro/docs/source/ru-ac.ipynb#W5sZmlsZQ%3D%3D?line=7'>8</a>\u001b[0m \u001b[39m@pyro\u001b[39m\u001b[39m.\u001b[39mcondition(data\u001b[39m=\u001b[39m{k: torch\u001b[39m.\u001b[39mas_tensor(v) \u001b[39mfor\u001b[39;00m k, v \u001b[39min\u001b[39;00m observations\u001b[39m.\u001b[39mitems()})\n\u001b[1;32m      <a href='vscode-notebook-cell:/home/rafal/UGPOP/projectsUGPOP/causal_pyro/docs/source/ru-ac.ipynb#W5sZmlsZQ%3D%3D?line=8'>9</a>\u001b[0m \u001b[39mdef\u001b[39;00m \u001b[39mac_voting_model\u001b[39m():\n\u001b[0;32m---> <a href='vscode-notebook-cell:/home/rafal/UGPOP/projectsUGPOP/causal_pyro/docs/source/ru-ac.ipynb#W5sZmlsZQ%3D%3D?line=9'>10</a>\u001b[0m     consequent \u001b[39m=\u001b[39m voting_model()[\u001b[39m'\u001b[39m\u001b[39moutcome\u001b[39m\u001b[39m'\u001b[39m]\n\u001b[1;32m     <a href='vscode-notebook-cell:/home/rafal/UGPOP/projectsUGPOP/causal_pyro/docs/source/ru-ac.ipynb#W5sZmlsZQ%3D%3D?line=10'>11</a>\u001b[0m     intervened_consequent \u001b[39m=\u001b[39m gather(consequent, IndexSet(vote0\u001b[39m=\u001b[39m{\u001b[39m1\u001b[39m}))\n\u001b[1;32m     <a href='vscode-notebook-cell:/home/rafal/UGPOP/projectsUGPOP/causal_pyro/docs/source/ru-ac.ipynb#W5sZmlsZQ%3D%3D?line=11'>12</a>\u001b[0m     observed_consequent \u001b[39m=\u001b[39m gather(consequent, IndexSet(vote0\u001b[39m=\u001b[39m{\u001b[39m0\u001b[39m}))\n",
      "\u001b[1;32m/home/rafal/UGPOP/projectsUGPOP/causal_pyro/docs/source/ru-ac.ipynb Cell 10\u001b[0m in \u001b[0;36m9\n\u001b[1;32m      <a href='vscode-notebook-cell:/home/rafal/UGPOP/projectsUGPOP/causal_pyro/docs/source/ru-ac.ipynb#W5sZmlsZQ%3D%3D?line=5'>6</a>\u001b[0m u_vote4 \u001b[39m=\u001b[39m pyro\u001b[39m.\u001b[39msample(\u001b[39m\"\u001b[39m\u001b[39mu_vote4\u001b[39m\u001b[39m\"\u001b[39m, dist\u001b[39m.\u001b[39mBernoulli(\u001b[39m0.6\u001b[39m))\n\u001b[1;32m      <a href='vscode-notebook-cell:/home/rafal/UGPOP/projectsUGPOP/causal_pyro/docs/source/ru-ac.ipynb#W5sZmlsZQ%3D%3D?line=7'>8</a>\u001b[0m vote0 \u001b[39m=\u001b[39m pyro\u001b[39m.\u001b[39mdeterministic(\u001b[39m\"\u001b[39m\u001b[39mvote0\u001b[39m\u001b[39m\"\u001b[39m, u_vote0, event_dim\u001b[39m=\u001b[39m\u001b[39m0\u001b[39m)\n\u001b[0;32m----> <a href='vscode-notebook-cell:/home/rafal/UGPOP/projectsUGPOP/causal_pyro/docs/source/ru-ac.ipynb#W5sZmlsZQ%3D%3D?line=8'>9</a>\u001b[0m vote1 \u001b[39m=\u001b[39m pyro\u001b[39m.\u001b[39;49mdeterministic(\u001b[39m\"\u001b[39;49m\u001b[39mvote1\u001b[39;49m\u001b[39m\"\u001b[39;49m, u_vote1, event_dim\u001b[39m=\u001b[39;49m\u001b[39m0\u001b[39;49m)\n\u001b[1;32m     <a href='vscode-notebook-cell:/home/rafal/UGPOP/projectsUGPOP/causal_pyro/docs/source/ru-ac.ipynb#W5sZmlsZQ%3D%3D?line=9'>10</a>\u001b[0m vote2 \u001b[39m=\u001b[39m pyro\u001b[39m.\u001b[39mdeterministic(\u001b[39m\"\u001b[39m\u001b[39mvote2\u001b[39m\u001b[39m\"\u001b[39m, u_vote2, event_dim\u001b[39m=\u001b[39m\u001b[39m0\u001b[39m)\n\u001b[1;32m     <a href='vscode-notebook-cell:/home/rafal/UGPOP/projectsUGPOP/causal_pyro/docs/source/ru-ac.ipynb#W5sZmlsZQ%3D%3D?line=10'>11</a>\u001b[0m vote3 \u001b[39m=\u001b[39m pyro\u001b[39m.\u001b[39mdeterministic(\u001b[39m\"\u001b[39m\u001b[39mvote3\u001b[39m\u001b[39m\"\u001b[39m, u_vote3, event_dim\u001b[39m=\u001b[39m\u001b[39m0\u001b[39m)\n",
      "File \u001b[0;32m~/anaconda3/envs/causal_pyro/lib/python3.10/site-packages/pyro/primitives.py:209\u001b[0m, in \u001b[0;36mdeterministic\u001b[0;34m(name, value, event_dim)\u001b[0m\n\u001b[1;32m    192\u001b[0m \u001b[39m\"\"\"\u001b[39;00m\n\u001b[1;32m    193\u001b[0m \u001b[39mDeterministic statement to add a :class:`~pyro.distributions.Delta` site\u001b[39;00m\n\u001b[1;32m    194\u001b[0m \u001b[39mwith name `name` and value `value` to the trace. This is useful when we\u001b[39;00m\n\u001b[0;32m   (...)\u001b[0m\n\u001b[1;32m    206\u001b[0m \u001b[39m:param int event_dim: Optional event dimension, defaults to `value.ndim`.\u001b[39;00m\n\u001b[1;32m    207\u001b[0m \u001b[39m\"\"\"\u001b[39;00m\n\u001b[1;32m    208\u001b[0m event_dim \u001b[39m=\u001b[39m value\u001b[39m.\u001b[39mndim \u001b[39mif\u001b[39;00m event_dim \u001b[39mis\u001b[39;00m \u001b[39mNone\u001b[39;00m \u001b[39melse\u001b[39;00m event_dim\n\u001b[0;32m--> 209\u001b[0m \u001b[39mreturn\u001b[39;00m sample(\n\u001b[1;32m    210\u001b[0m     name,\n\u001b[1;32m    211\u001b[0m     dist\u001b[39m.\u001b[39;49mDelta(value, event_dim\u001b[39m=\u001b[39;49mevent_dim)\u001b[39m.\u001b[39;49mmask(\u001b[39mFalse\u001b[39;49;00m),\n\u001b[1;32m    212\u001b[0m     obs\u001b[39m=\u001b[39;49mvalue,\n\u001b[1;32m    213\u001b[0m     infer\u001b[39m=\u001b[39;49m{\u001b[39m\"\u001b[39;49m\u001b[39m_deterministic\u001b[39;49m\u001b[39m\"\u001b[39;49m: \u001b[39mTrue\u001b[39;49;00m},\n\u001b[1;32m    214\u001b[0m )\n",
      "File \u001b[0;32m~/anaconda3/envs/causal_pyro/lib/python3.10/site-packages/pyro/primitives.py:163\u001b[0m, in \u001b[0;36msample\u001b[0;34m(name, fn, *args, **kwargs)\u001b[0m\n\u001b[1;32m    146\u001b[0m msg \u001b[39m=\u001b[39m {\n\u001b[1;32m    147\u001b[0m     \u001b[39m\"\u001b[39m\u001b[39mtype\u001b[39m\u001b[39m\"\u001b[39m: \u001b[39m\"\u001b[39m\u001b[39msample\u001b[39m\u001b[39m\"\u001b[39m,\n\u001b[1;32m    148\u001b[0m     \u001b[39m\"\u001b[39m\u001b[39mname\u001b[39m\u001b[39m\"\u001b[39m: name,\n\u001b[0;32m   (...)\u001b[0m\n\u001b[1;32m    160\u001b[0m     \u001b[39m\"\u001b[39m\u001b[39mcontinuation\u001b[39m\u001b[39m\"\u001b[39m: \u001b[39mNone\u001b[39;00m,\n\u001b[1;32m    161\u001b[0m }\n\u001b[1;32m    162\u001b[0m \u001b[39m# apply the stack and return its return value\u001b[39;00m\n\u001b[0;32m--> 163\u001b[0m apply_stack(msg)\n\u001b[1;32m    164\u001b[0m \u001b[39mreturn\u001b[39;00m msg[\u001b[39m\"\u001b[39m\u001b[39mvalue\u001b[39m\u001b[39m\"\u001b[39m]\n",
      "File \u001b[0;32m~/anaconda3/envs/causal_pyro/lib/python3.10/site-packages/pyro/poutine/runtime.py:221\u001b[0m, in \u001b[0;36mapply_stack\u001b[0;34m(initial_msg)\u001b[0m\n\u001b[1;32m    218\u001b[0m default_process_message(msg)\n\u001b[1;32m    220\u001b[0m \u001b[39mfor\u001b[39;00m frame \u001b[39min\u001b[39;00m stack[\u001b[39m-\u001b[39mpointer:]:\n\u001b[0;32m--> 221\u001b[0m     frame\u001b[39m.\u001b[39;49m_postprocess_message(msg)\n\u001b[1;32m    223\u001b[0m cont \u001b[39m=\u001b[39m msg[\u001b[39m\"\u001b[39m\u001b[39mcontinuation\u001b[39m\u001b[39m\"\u001b[39m]\n\u001b[1;32m    224\u001b[0m \u001b[39mif\u001b[39;00m cont \u001b[39mis\u001b[39;00m \u001b[39mnot\u001b[39;00m \u001b[39mNone\u001b[39;00m:\n",
      "File \u001b[0;32m~/anaconda3/envs/causal_pyro/lib/python3.10/site-packages/pyro/poutine/messenger.py:168\u001b[0m, in \u001b[0;36mMessenger._postprocess_message\u001b[0;34m(self, msg)\u001b[0m\n\u001b[1;32m    166\u001b[0m method \u001b[39m=\u001b[39m \u001b[39mgetattr\u001b[39m(\u001b[39mself\u001b[39m, \u001b[39m\"\u001b[39m\u001b[39m_pyro_post_\u001b[39m\u001b[39m{}\u001b[39;00m\u001b[39m\"\u001b[39m\u001b[39m.\u001b[39mformat(msg[\u001b[39m\"\u001b[39m\u001b[39mtype\u001b[39m\u001b[39m\"\u001b[39m]), \u001b[39mNone\u001b[39;00m)\n\u001b[1;32m    167\u001b[0m \u001b[39mif\u001b[39;00m method \u001b[39mis\u001b[39;00m \u001b[39mnot\u001b[39;00m \u001b[39mNone\u001b[39;00m:\n\u001b[0;32m--> 168\u001b[0m     \u001b[39mreturn\u001b[39;00m method(msg)\n\u001b[1;32m    169\u001b[0m \u001b[39mreturn\u001b[39;00m \u001b[39mNone\u001b[39;00m\n",
      "File \u001b[0;32m~/UGPOP/projectsUGPOP/causal_pyro/causal_pyro/counterfactual/handlers/__init__.py:106\u001b[0m, in \u001b[0;36mPreemptions._pyro_post_sample\u001b[0;34m(self, msg)\u001b[0m\n\u001b[1;32m    104\u001b[0m \u001b[39mexcept\u001b[39;00m \u001b[39mKeyError\u001b[39;00m:\n\u001b[1;32m    105\u001b[0m     \u001b[39mreturn\u001b[39;00m\n\u001b[0;32m--> 106\u001b[0m msg[\u001b[39m\"\u001b[39m\u001b[39mvalue\u001b[39m\u001b[39m\"\u001b[39m] \u001b[39m=\u001b[39m preempt(\n\u001b[1;32m    107\u001b[0m     msg[\u001b[39m\"\u001b[39;49m\u001b[39mvalue\u001b[39;49m\u001b[39m\"\u001b[39;49m],\n\u001b[1;32m    108\u001b[0m     (action,),\n\u001b[1;32m    109\u001b[0m     \u001b[39mNone\u001b[39;49;00m,\n\u001b[1;32m    110\u001b[0m     event_dim\u001b[39m=\u001b[39;49m\u001b[39mlen\u001b[39;49m(msg[\u001b[39m\"\u001b[39;49m\u001b[39mfn\u001b[39;49m\u001b[39m\"\u001b[39;49m]\u001b[39m.\u001b[39;49mevent_shape),\n\u001b[1;32m    111\u001b[0m     name\u001b[39m=\u001b[39;49mmsg[\u001b[39m\"\u001b[39;49m\u001b[39mname\u001b[39;49m\u001b[39m\"\u001b[39;49m],\n\u001b[1;32m    112\u001b[0m )\n",
      "File \u001b[0;32m~/anaconda3/envs/causal_pyro/lib/python3.10/site-packages/pyro/poutine/runtime.py:283\u001b[0m, in \u001b[0;36meffectful.<locals>._fn\u001b[0;34m(*args, **kwargs)\u001b[0m\n\u001b[1;32m    266\u001b[0m msg \u001b[39m=\u001b[39m {\n\u001b[1;32m    267\u001b[0m     \u001b[39m\"\u001b[39m\u001b[39mtype\u001b[39m\u001b[39m\"\u001b[39m: \u001b[39mtype\u001b[39m,\n\u001b[1;32m    268\u001b[0m     \u001b[39m\"\u001b[39m\u001b[39mname\u001b[39m\u001b[39m\"\u001b[39m: name,\n\u001b[0;32m   (...)\u001b[0m\n\u001b[1;32m    280\u001b[0m     \u001b[39m\"\u001b[39m\u001b[39minfer\u001b[39m\u001b[39m\"\u001b[39m: infer,\n\u001b[1;32m    281\u001b[0m }\n\u001b[1;32m    282\u001b[0m \u001b[39m# apply the stack and return its return value\u001b[39;00m\n\u001b[0;32m--> 283\u001b[0m apply_stack(msg)\n\u001b[1;32m    284\u001b[0m \u001b[39mreturn\u001b[39;00m msg[\u001b[39m\"\u001b[39m\u001b[39mvalue\u001b[39m\u001b[39m\"\u001b[39m]\n",
      "File \u001b[0;32m~/anaconda3/envs/causal_pyro/lib/python3.10/site-packages/pyro/poutine/runtime.py:218\u001b[0m, in \u001b[0;36mapply_stack\u001b[0;34m(initial_msg)\u001b[0m\n\u001b[1;32m    215\u001b[0m     \u001b[39mif\u001b[39;00m msg[\u001b[39m\"\u001b[39m\u001b[39mstop\u001b[39m\u001b[39m\"\u001b[39m]:\n\u001b[1;32m    216\u001b[0m         \u001b[39mbreak\u001b[39;00m\n\u001b[0;32m--> 218\u001b[0m default_process_message(msg)\n\u001b[1;32m    220\u001b[0m \u001b[39mfor\u001b[39;00m frame \u001b[39min\u001b[39;00m stack[\u001b[39m-\u001b[39mpointer:]:\n\u001b[1;32m    221\u001b[0m     frame\u001b[39m.\u001b[39m_postprocess_message(msg)\n",
      "File \u001b[0;32m~/anaconda3/envs/causal_pyro/lib/python3.10/site-packages/pyro/poutine/runtime.py:179\u001b[0m, in \u001b[0;36mdefault_process_message\u001b[0;34m(msg)\u001b[0m\n\u001b[1;32m    176\u001b[0m     msg[\u001b[39m\"\u001b[39m\u001b[39mdone\u001b[39m\u001b[39m\"\u001b[39m] \u001b[39m=\u001b[39m \u001b[39mTrue\u001b[39;00m\n\u001b[1;32m    177\u001b[0m     \u001b[39mreturn\u001b[39;00m msg\n\u001b[0;32m--> 179\u001b[0m msg[\u001b[39m\"\u001b[39m\u001b[39mvalue\u001b[39m\u001b[39m\"\u001b[39m] \u001b[39m=\u001b[39m msg[\u001b[39m\"\u001b[39;49m\u001b[39mfn\u001b[39;49m\u001b[39m\"\u001b[39;49m](\u001b[39m*\u001b[39;49mmsg[\u001b[39m\"\u001b[39;49m\u001b[39margs\u001b[39;49m\u001b[39m\"\u001b[39;49m], \u001b[39m*\u001b[39;49m\u001b[39m*\u001b[39;49mmsg[\u001b[39m\"\u001b[39;49m\u001b[39mkwargs\u001b[39;49m\u001b[39m\"\u001b[39;49m])\n\u001b[1;32m    181\u001b[0m \u001b[39m# after fn has been called, update msg to prevent it from being called again.\u001b[39;00m\n\u001b[1;32m    182\u001b[0m msg[\u001b[39m\"\u001b[39m\u001b[39mdone\u001b[39m\u001b[39m\"\u001b[39m] \u001b[39m=\u001b[39m \u001b[39mTrue\u001b[39;00m\n",
      "File \u001b[0;32m~/anaconda3/envs/causal_pyro/lib/python3.10/site-packages/pyro/poutine/messenger.py:12\u001b[0m, in \u001b[0;36m_context_wrap\u001b[0;34m(context, fn, *args, **kwargs)\u001b[0m\n\u001b[1;32m     10\u001b[0m \u001b[39mdef\u001b[39;00m \u001b[39m_context_wrap\u001b[39m(context, fn, \u001b[39m*\u001b[39margs, \u001b[39m*\u001b[39m\u001b[39m*\u001b[39mkwargs):\n\u001b[1;32m     11\u001b[0m     \u001b[39mwith\u001b[39;00m context:\n\u001b[0;32m---> 12\u001b[0m         \u001b[39mreturn\u001b[39;00m fn(\u001b[39m*\u001b[39;49margs, \u001b[39m*\u001b[39;49m\u001b[39m*\u001b[39;49mkwargs)\n",
      "File \u001b[0;32m~/UGPOP/projectsUGPOP/causal_pyro/causal_pyro/counterfactual/ops.py:40\u001b[0m, in \u001b[0;36mpreempt\u001b[0;34m(obs, acts, case, **kwargs)\u001b[0m\n\u001b[1;32m     38\u001b[0m act_values \u001b[39m=\u001b[39m {IndexSet(\u001b[39m*\u001b[39m\u001b[39m*\u001b[39m{name: {\u001b[39m0\u001b[39m}}): obs}\n\u001b[1;32m     39\u001b[0m \u001b[39mfor\u001b[39;00m i, act \u001b[39min\u001b[39;00m \u001b[39menumerate\u001b[39m(acts):\n\u001b[0;32m---> 40\u001b[0m     act_values[IndexSet(\u001b[39m*\u001b[39m\u001b[39m*\u001b[39m{name: {i \u001b[39m+\u001b[39m \u001b[39m1\u001b[39m}})] \u001b[39m=\u001b[39m intervene(obs, act, \u001b[39m*\u001b[39;49m\u001b[39m*\u001b[39;49mkwargs)\n\u001b[1;32m     42\u001b[0m \u001b[39mreturn\u001b[39;00m cond(act_values, case, event_dim\u001b[39m=\u001b[39mkwargs\u001b[39m.\u001b[39mget(\u001b[39m\"\u001b[39m\u001b[39mevent_dim\u001b[39m\u001b[39m\"\u001b[39m, \u001b[39m0\u001b[39m))\n",
      "File \u001b[0;32m~/anaconda3/envs/causal_pyro/lib/python3.10/functools.py:889\u001b[0m, in \u001b[0;36msingledispatch.<locals>.wrapper\u001b[0;34m(*args, **kw)\u001b[0m\n\u001b[1;32m    885\u001b[0m \u001b[39mif\u001b[39;00m \u001b[39mnot\u001b[39;00m args:\n\u001b[1;32m    886\u001b[0m     \u001b[39mraise\u001b[39;00m \u001b[39mTypeError\u001b[39;00m(\u001b[39mf\u001b[39m\u001b[39m'\u001b[39m\u001b[39m{\u001b[39;00mfuncname\u001b[39m}\u001b[39;00m\u001b[39m requires at least \u001b[39m\u001b[39m'\u001b[39m\n\u001b[1;32m    887\u001b[0m                     \u001b[39m'\u001b[39m\u001b[39m1 positional argument\u001b[39m\u001b[39m'\u001b[39m)\n\u001b[0;32m--> 889\u001b[0m \u001b[39mreturn\u001b[39;00m dispatch(args[\u001b[39m0\u001b[39;49m]\u001b[39m.\u001b[39;49m\u001b[39m__class__\u001b[39;49m)(\u001b[39m*\u001b[39;49margs, \u001b[39m*\u001b[39;49m\u001b[39m*\u001b[39;49mkw)\n",
      "File \u001b[0;32m~/anaconda3/envs/causal_pyro/lib/python3.10/site-packages/pyro/poutine/runtime.py:283\u001b[0m, in \u001b[0;36meffectful.<locals>._fn\u001b[0;34m(*args, **kwargs)\u001b[0m\n\u001b[1;32m    266\u001b[0m msg \u001b[39m=\u001b[39m {\n\u001b[1;32m    267\u001b[0m     \u001b[39m\"\u001b[39m\u001b[39mtype\u001b[39m\u001b[39m\"\u001b[39m: \u001b[39mtype\u001b[39m,\n\u001b[1;32m    268\u001b[0m     \u001b[39m\"\u001b[39m\u001b[39mname\u001b[39m\u001b[39m\"\u001b[39m: name,\n\u001b[0;32m   (...)\u001b[0m\n\u001b[1;32m    280\u001b[0m     \u001b[39m\"\u001b[39m\u001b[39minfer\u001b[39m\u001b[39m\"\u001b[39m: infer,\n\u001b[1;32m    281\u001b[0m }\n\u001b[1;32m    282\u001b[0m \u001b[39m# apply the stack and return its return value\u001b[39;00m\n\u001b[0;32m--> 283\u001b[0m apply_stack(msg)\n\u001b[1;32m    284\u001b[0m \u001b[39mreturn\u001b[39;00m msg[\u001b[39m\"\u001b[39m\u001b[39mvalue\u001b[39m\u001b[39m\"\u001b[39m]\n",
      "File \u001b[0;32m~/anaconda3/envs/causal_pyro/lib/python3.10/site-packages/pyro/poutine/runtime.py:218\u001b[0m, in \u001b[0;36mapply_stack\u001b[0;34m(initial_msg)\u001b[0m\n\u001b[1;32m    215\u001b[0m     \u001b[39mif\u001b[39;00m msg[\u001b[39m\"\u001b[39m\u001b[39mstop\u001b[39m\u001b[39m\"\u001b[39m]:\n\u001b[1;32m    216\u001b[0m         \u001b[39mbreak\u001b[39;00m\n\u001b[0;32m--> 218\u001b[0m default_process_message(msg)\n\u001b[1;32m    220\u001b[0m \u001b[39mfor\u001b[39;00m frame \u001b[39min\u001b[39;00m stack[\u001b[39m-\u001b[39mpointer:]:\n\u001b[1;32m    221\u001b[0m     frame\u001b[39m.\u001b[39m_postprocess_message(msg)\n",
      "File \u001b[0;32m~/anaconda3/envs/causal_pyro/lib/python3.10/site-packages/pyro/poutine/runtime.py:179\u001b[0m, in \u001b[0;36mdefault_process_message\u001b[0;34m(msg)\u001b[0m\n\u001b[1;32m    176\u001b[0m     msg[\u001b[39m\"\u001b[39m\u001b[39mdone\u001b[39m\u001b[39m\"\u001b[39m] \u001b[39m=\u001b[39m \u001b[39mTrue\u001b[39;00m\n\u001b[1;32m    177\u001b[0m     \u001b[39mreturn\u001b[39;00m msg\n\u001b[0;32m--> 179\u001b[0m msg[\u001b[39m\"\u001b[39m\u001b[39mvalue\u001b[39m\u001b[39m\"\u001b[39m] \u001b[39m=\u001b[39m msg[\u001b[39m\"\u001b[39;49m\u001b[39mfn\u001b[39;49m\u001b[39m\"\u001b[39;49m](\u001b[39m*\u001b[39;49mmsg[\u001b[39m\"\u001b[39;49m\u001b[39margs\u001b[39;49m\u001b[39m\"\u001b[39;49m], \u001b[39m*\u001b[39;49m\u001b[39m*\u001b[39;49mmsg[\u001b[39m\"\u001b[39;49m\u001b[39mkwargs\u001b[39;49m\u001b[39m\"\u001b[39;49m])\n\u001b[1;32m    181\u001b[0m \u001b[39m# after fn has been called, update msg to prevent it from being called again.\u001b[39;00m\n\u001b[1;32m    182\u001b[0m msg[\u001b[39m\"\u001b[39m\u001b[39mdone\u001b[39m\u001b[39m\"\u001b[39m] \u001b[39m=\u001b[39m \u001b[39mTrue\u001b[39;00m\n",
      "File \u001b[0;32m~/UGPOP/projectsUGPOP/causal_pyro/causal_pyro/interventional/handlers.py:31\u001b[0m, in \u001b[0;36m_intervene_atom\u001b[0;34m(obs, act, event_dim, **kwargs)\u001b[0m\n\u001b[1;32m     29\u001b[0m     \u001b[39mreturn\u001b[39;00m obs\n\u001b[1;32m     30\u001b[0m \u001b[39melif\u001b[39;00m callable(act):\n\u001b[0;32m---> 31\u001b[0m     act \u001b[39m=\u001b[39m act(obs)\n\u001b[1;32m     32\u001b[0m     \u001b[39mreturn\u001b[39;00m act[\u001b[39m-\u001b[39m\u001b[39m1\u001b[39m] \u001b[39mif\u001b[39;00m \u001b[39misinstance\u001b[39m(act, \u001b[39mtuple\u001b[39m) \u001b[39melse\u001b[39;00m act\n\u001b[1;32m     33\u001b[0m \u001b[39melif\u001b[39;00m \u001b[39misinstance\u001b[39m(act, \u001b[39mtuple\u001b[39m):\n",
      "\u001b[0;31mTypeError\u001b[0m: preempt_with_factual() got an unexpected keyword argument 'antecedent'"
     ]
    }
   ],
   "source": [
    "\n",
    "observations = dict(u_vote0=1., u_vote1=0., u_vote2=0., u_vote3=1., u_vote4=1.)\n",
    "\n",
    "# @pyro.infer.infer_discrete(first_available_dim=-7)\n",
    "# @pyro.infer.config_enumerate\n",
    "@MultiWorldCounterfactual()\n",
    "@do(actions=antecedents2)\n",
    "@Preemptions(actions=preemptions)\n",
    "@pyro.condition(data={k: torch.as_tensor(v) for k, v in observations.items()})\n",
    "def ac_voting_model():\n",
    "    consequent = voting_model()['outcome']\n",
    "    intervened_consequent = gather(consequent, IndexSet(vote0={1}))\n",
    "    observed_consequent = gather(consequent, IndexSet(vote0={0}))\n",
    "    consequent_differs = intervened_consequent != observed_consequent\n",
    "    pyro.factor(\"consequent_differs\", torch.where(consequent_differs, torch.tensor(0.0), torch.tensor(-1e8)))\n",
    "    print(indices_of(consequent), indices_of(consequent_differs))\n",
    "    return intervened_consequent, observed_consequent, consequent_differs\n",
    "\n",
    "print(ac_voting_model())"
   ]
  },
  {
   "cell_type": "code",
   "execution_count": null,
   "metadata": {},
   "outputs": [],
   "source": []
  }
 ],
 "metadata": {
  "kernelspec": {
   "display_name": "base",
   "language": "python",
   "name": "python3"
  },
  "language_info": {
   "codemirror_mode": {
    "name": "ipython",
    "version": 3
   },
   "file_extension": ".py",
   "mimetype": "text/x-python",
   "name": "python",
   "nbconvert_exporter": "python",
   "pygments_lexer": "ipython3",
   "version": "3.10.11"
  },
  "orig_nbformat": 4
 },
 "nbformat": 4,
 "nbformat_minor": 2
}

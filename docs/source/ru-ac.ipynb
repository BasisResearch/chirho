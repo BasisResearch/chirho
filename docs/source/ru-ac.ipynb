{
 "cells": [
  {
   "cell_type": "code",
   "execution_count": 58,
   "metadata": {},
   "outputs": [
    {
     "name": "stdout",
     "output_type": "stream",
     "text": [
      "Automatic pdb calling has been turned OFF\n"
     ]
    }
   ],
   "source": [
    "%reload_ext autoreload\n",
    "%autoreload 2\n",
    "%pdb off\n",
    "\n",
    "import functools\n",
    "\n",
    "import torch\n",
    "from typing import Dict, List, Optional, Tuple, Union, TypeVar, Callable\n",
    "\n",
    "import pandas as pd\n",
    "\n",
    "import pyro\n",
    "import pyro.distributions as dist\n",
    "\n",
    "from causal_pyro.indexed.ops import IndexSet, gather, indices_of, scatter\n",
    "from causal_pyro.interventional.handlers import do\n",
    "from causal_pyro.counterfactual.handlers import MultiWorldCounterfactual, Preemptions"
   ]
  },
  {
   "cell_type": "code",
   "execution_count": 44,
   "metadata": {},
   "outputs": [],
   "source": [
    "class HalpernPearlModifiedApproximate:\n",
    "\n",
    "    def __init__(self, model: Callable,\n",
    "                 antecedents: Union[Dict[str, torch.Tensor], List[str]],\n",
    "                 outcome: str,\n",
    "                 witness_candidates: List[str],\n",
    "                 observations: Optional[Dict[str, torch.Tensor]],\n",
    "                 sample_size: int = 100,\n",
    "                 event_dim: int = 0):\n",
    "        \n",
    "        self.model = model\n",
    "        self.antecedents = antecedents\n",
    "        self.witness_candidates = witness_candidates\n",
    "        self.observations = observations\n",
    "        self.sample_size = sample_size\n",
    "\n",
    "        self.antecedents_dict = (\n",
    "            self.antecedents if isinstance(self.antecedents, dict)\n",
    "            else self.revert_antecedents(self.antecedents)\n",
    "        )\n",
    "    \n",
    "        self.preemptions = {candidate: functools.partial(self.preempt_with_factual,\n",
    "                                             antecedents = self.antecedents) for \n",
    "                                             candidate in self.witness_candidates}\n",
    "        \n",
    "\n",
    "    @staticmethod\n",
    "    def revert_antecedents(antecedents: List[str]) -> Dict[str, Callable[[torch.Tensor], torch.Tensor]]:\n",
    "        return {antecedent: lambda v: 1 - v for antecedent in antecedents}\n",
    "\n",
    "    @staticmethod   \n",
    "    def preempt_with_factual(value: torch.Tensor, *,\n",
    "                          antecedents: List[str] = None, event_dim: int = 0):\n",
    "    \n",
    "        if antecedents is None:\n",
    "            antecedents = []\n",
    "\n",
    "        antecedents = [a for a in antecedents if a in indices_of(value, event_dim=event_dim)]\n",
    "\n",
    "        factual_value = gather(value, IndexSet(**{antecedent: {0} for antecedent in antecedents}),\n",
    "                                event_dim=event_dim)\n",
    "            \n",
    "        return scatter({\n",
    "            IndexSet(**{antecedent: {0} for antecedent in antecedents}): factual_value,\n",
    "            IndexSet(**{antecedent: {1} for antecedent in antecedents}): factual_value,\n",
    "        }, event_dim=event_dim)\n",
    "        \n",
    "        \n",
    "    def __call__(self, *args, **kwargs):\n",
    "        with pyro.poutine.trace() as trace:\n",
    "            with MultiWorldCounterfactual():\n",
    "                with do(actions=self.antecedents_dict):\n",
    "                    with Preemptions(actions = self.preemptions):\n",
    "                        with pyro.condition(data={k: torch.as_tensor(v) for k, v in self.observations.items()}):\n",
    "                            with pyro.plate(\"plate\", self.sample_size):\n",
    "                                self.consequent = self.model()['outcome']\n",
    "                                self.intervened_consequent = gather(self.consequent, IndexSet(**{ant: {1} for ant in antecedents}))\n",
    "                                self.observed_consequent = gather(self.consequent, IndexSet(**{ant: {0} for ant in antecedents}))\n",
    "                                self.consequent_differs = self.intervened_consequent != self.observed_consequent   \n",
    "                                pyro.factor(\"consequent_differs\", torch.where(self.consequent_differs, torch.tensor(0.0), torch.tensor(-1e8)))\n",
    "                            \n",
    "        self.trace = trace.trace\n",
    "        self.mean_consequent_difference = self.consequent_differs.squeeze().float().mean().item()\n",
    "        \n",
    "        witness_keys = [\"__split_\" + candidate for candidate in self.witness_candidates]\n",
    "        witness_dict = {key: self.trace.nodes[key]['value']  for key in witness_keys}\n",
    "        witness_dict['consequent_differs'] = self.consequent_differs.squeeze()\n",
    "\n",
    "        self.witness_df = pd.DataFrame(witness_dict)\n",
    "\n",
    "    \n"
   ]
  },
  {
   "cell_type": "code",
   "execution_count": 7,
   "metadata": {},
   "outputs": [],
   "source": [
    "def voting_model():\n",
    "    u_vote0 = pyro.sample(\"u_vote0\", dist.Bernoulli(0.6))\n",
    "    u_vote1 = pyro.sample(\"u_vote1\", dist.Bernoulli(0.6))\n",
    "    u_vote2 = pyro.sample(\"u_vote2\", dist.Bernoulli(0.6))\n",
    "    u_vote3 = pyro.sample(\"u_vote3\", dist.Bernoulli(0.6))\n",
    "    u_vote4 = pyro.sample(\"u_vote4\", dist.Bernoulli(0.6))\n",
    "\n",
    "    vote0 = pyro.deterministic(\"vote0\", u_vote0, event_dim=0)\n",
    "    vote1 = pyro.deterministic(\"vote1\", u_vote1, event_dim=0)\n",
    "    vote2 = pyro.deterministic(\"vote2\", u_vote2, event_dim=0)\n",
    "    vote3 = pyro.deterministic(\"vote3\", u_vote3, event_dim=0)\n",
    "    vote4 = pyro.deterministic(\"vote4\", u_vote4, event_dim=0)\n",
    "    return {\"outcome\": vote0 + vote1 + vote2 + vote3 + vote4 >= 3}\n",
    "\n",
    "# dict here seems handy "
   ]
  },
  {
   "cell_type": "code",
   "execution_count": 59,
   "metadata": {},
   "outputs": [],
   "source": [
    "model = voting_model"
   ]
  },
  {
   "cell_type": "code",
   "execution_count": 61,
   "metadata": {},
   "outputs": [],
   "source": [
    "\n",
    "def revert_antecedents(antecedents: List[str]) -> Dict[str, Callable[[torch.Tensor], torch.Tensor]]:\n",
    "        return {antecedent: lambda v: 1 - v for antecedent in antecedents}\n",
    "\n",
    "\n",
    "antecedents = [\"vote0\"]\n",
    "\n",
    "antecedents_reverted = revert_antecedents(antecedents)\n"
   ]
  },
  {
   "cell_type": "code",
   "execution_count": 63,
   "metadata": {},
   "outputs": [],
   "source": [
    "\n",
    "def preempt_with_factual(value: torch.Tensor, *,\n",
    "                          antecedents: List[str] = None, event_dim: int = 0):\n",
    "    \n",
    "    if antecedents is None:\n",
    "        antecedents = []\n",
    "\n",
    "    antecedents = [a for a in antecedents if a in indices_of(value, event_dim=event_dim)]\n",
    "\n",
    "    factual_value = gather(value, IndexSet(**{antecedent: {0} for antecedent in antecedents}),\n",
    "                            event_dim=event_dim)\n",
    "        \n",
    "    return scatter({\n",
    "        IndexSet(**{antecedent: {0} for antecedent in antecedents}): factual_value,\n",
    "        IndexSet(**{antecedent: {1} for antecedent in antecedents}): factual_value,\n",
    "    }, event_dim=event_dim)\n"
   ]
  },
  {
   "cell_type": "code",
   "execution_count": 64,
   "metadata": {},
   "outputs": [],
   "source": [
    "witness_candidates = [f\"vote{i}\" for i in [1,2,4]]\n",
    "\n",
    "preemptions = {candidate: functools.partial(preempt_with_factual,\n",
    "                                             antecedents = antecedents) for \n",
    "                                             candidate in witness_candidates}\n"
   ]
  },
  {
   "cell_type": "code",
   "execution_count": 65,
   "metadata": {},
   "outputs": [],
   "source": [
    "\n",
    "observations = dict(u_vote0=1., u_vote1=0., u_vote2=0., u_vote3=1., u_vote4=1.)\n",
    "\n",
    "sample_size = 10"
   ]
  },
  {
   "cell_type": "code",
   "execution_count": 67,
   "metadata": {},
   "outputs": [
    {
     "name": "stdout",
     "output_type": "stream",
     "text": [
      "{'intervened_consequent': [False, False, False, False, False, False, False, False, False, False], 'observed_consequent': [True, True, True, True, True, True, True, True, True, True], 'consequent_differs': [True, True, True, True, True, True, True, True, True, True]}\n"
     ]
    }
   ],
   "source": [
    "with pyro.poutine.trace() as trace:\n",
    "  with MultiWorldCounterfactual():\n",
    "      with do(actions=antecedents_reverted):\n",
    "        with Preemptions(actions = preemptions):\n",
    "          with pyro.condition(data={k: torch.as_tensor(v) for k, v in observations.items()}):\n",
    "              with pyro.plate(\"plate\", sample_size):\n",
    "                consequent = model()['outcome']\n",
    "                intervened_consequent = gather(consequent, IndexSet(**{ant: {1} for ant in antecedents}))\n",
    "                observed_consequent = gather(consequent, IndexSet(**{ant: {0} for ant in antecedents}))\n",
    "                consequent_differs = intervened_consequent != observed_consequent   \n",
    "                pyro.factor(\"consequent_differs\", torch.where(consequent_differs, torch.tensor(0.0), torch.tensor(-1e8)))\n",
    "\n",
    "                print(\n",
    "                      {\"intervened_consequent\": intervened_consequent.squeeze().tolist(),\n",
    "                      \"observed_consequent\": observed_consequent.squeeze().tolist(),\n",
    "                      \"consequent_differs\": consequent_differs.squeeze().tolist()}\n",
    "                )\n"
   ]
  },
  {
   "cell_type": "code",
   "execution_count": 39,
   "metadata": {},
   "outputs": [
    {
     "data": {
      "text/plain": [
       "<pyro.poutine.trace_struct.Trace at 0x7efd1ad53520>"
      ]
     },
     "execution_count": 39,
     "metadata": {},
     "output_type": "execute_result"
    }
   ],
   "source": [
    "trace.trace "
   ]
  },
  {
   "cell_type": "code",
   "execution_count": 24,
   "metadata": {},
   "outputs": [
    {
     "data": {
      "text/plain": [
       "1.0"
      ]
     },
     "execution_count": 24,
     "metadata": {},
     "output_type": "execute_result"
    }
   ],
   "source": [
    "consequent_differs.squeeze().float().mean().item()"
   ]
  },
  {
   "cell_type": "code",
   "execution_count": 14,
   "metadata": {},
   "outputs": [
    {
     "name": "stdout",
     "output_type": "stream",
     "text": [
      "   __split_vote1  __split_vote2  __split_vote4  consequent_differs\n",
      "0              1              0              1                True\n",
      "1              1              0              0                True\n",
      "2              0              0              0                True\n",
      "3              1              1              0                True\n",
      "4              0              1              0                True\n",
      "5              1              0              0                True\n",
      "6              1              0              0                True\n",
      "7              1              1              1                True\n",
      "8              1              1              0                True\n",
      "9              1              0              1                True\n"
     ]
    }
   ],
   "source": [
    "witness_keys = [\"__split_\" + candidate for candidate in witness_candidates]\n",
    "\n",
    "witness_dict = {key: tr.trace.nodes[key]['value']  for key in witness_keys}\n",
    "\n",
    "witness_dict['consequent_differs'] = consequent_differs.squeeze()\n",
    "\n",
    "witness_df = pd.DataFrame(witness_dict)\n",
    "\n",
    "print(witness_df)\n",
    "\n"
   ]
  },
  {
   "cell_type": "code",
   "execution_count": 56,
   "metadata": {},
   "outputs": [],
   "source": [
    "votingHPM = HalpernPearlModifiedApproximate(\n",
    "    model = voting_model,\n",
    "    antecedents = [\"vote0\"],\n",
    "    outcome = \"outcome\",\n",
    "    witness_candidates = [f\"vote{i}\" for i in [1,2,3, 4]],\n",
    "    observations = dict(u_vote0=1., u_vote1=0., u_vote2=0., u_vote3=1., u_vote4=1.),\n",
    "    sample_size = 10)"
   ]
  },
  {
   "cell_type": "code",
   "execution_count": 57,
   "metadata": {},
   "outputs": [
    {
     "ename": "KeyError",
     "evalue": "'vote3'",
     "output_type": "error",
     "traceback": [
      "\u001b[0;31m---------------------------------------------------------------------------\u001b[0m",
      "\u001b[0;31mKeyError\u001b[0m                                  Traceback (most recent call last)",
      "\u001b[1;32m/home/rafal/UGPOP/projectsUGPOP/causal_pyro/docs/source/ru-ac.ipynb Cell 14\u001b[0m in \u001b[0;36m1\n\u001b[0;32m----> <a href='vscode-notebook-cell:/home/rafal/UGPOP/projectsUGPOP/causal_pyro/docs/source/ru-ac.ipynb#X13sZmlsZQ%3D%3D?line=0'>1</a>\u001b[0m votingHPM()\n\u001b[1;32m      <a href='vscode-notebook-cell:/home/rafal/UGPOP/projectsUGPOP/causal_pyro/docs/source/ru-ac.ipynb#X13sZmlsZQ%3D%3D?line=2'>3</a>\u001b[0m \u001b[39mdir\u001b[39m(votingHPM)\n\u001b[1;32m      <a href='vscode-notebook-cell:/home/rafal/UGPOP/projectsUGPOP/causal_pyro/docs/source/ru-ac.ipynb#X13sZmlsZQ%3D%3D?line=4'>5</a>\u001b[0m votingHPM\u001b[39m.\u001b[39mmean_consequent_difference\n",
      "\u001b[1;32m/home/rafal/UGPOP/projectsUGPOP/causal_pyro/docs/source/ru-ac.ipynb Cell 14\u001b[0m in \u001b[0;36m5\n\u001b[1;32m     <a href='vscode-notebook-cell:/home/rafal/UGPOP/projectsUGPOP/causal_pyro/docs/source/ru-ac.ipynb#X13sZmlsZQ%3D%3D?line=54'>55</a>\u001b[0m \u001b[39mwith\u001b[39;00m pyro\u001b[39m.\u001b[39mplate(\u001b[39m\"\u001b[39m\u001b[39mplate\u001b[39m\u001b[39m\"\u001b[39m, \u001b[39mself\u001b[39m\u001b[39m.\u001b[39msample_size):\n\u001b[1;32m     <a href='vscode-notebook-cell:/home/rafal/UGPOP/projectsUGPOP/causal_pyro/docs/source/ru-ac.ipynb#X13sZmlsZQ%3D%3D?line=55'>56</a>\u001b[0m     \u001b[39mself\u001b[39m\u001b[39m.\u001b[39mconsequent \u001b[39m=\u001b[39m \u001b[39mself\u001b[39m\u001b[39m.\u001b[39mmodel()[\u001b[39m'\u001b[39m\u001b[39moutcome\u001b[39m\u001b[39m'\u001b[39m]\n\u001b[0;32m---> <a href='vscode-notebook-cell:/home/rafal/UGPOP/projectsUGPOP/causal_pyro/docs/source/ru-ac.ipynb#X13sZmlsZQ%3D%3D?line=56'>57</a>\u001b[0m     \u001b[39mself\u001b[39m\u001b[39m.\u001b[39mintervened_consequent \u001b[39m=\u001b[39m gather(\u001b[39mself\u001b[39;49m\u001b[39m.\u001b[39;49mconsequent, IndexSet(\u001b[39m*\u001b[39;49m\u001b[39m*\u001b[39;49m{ant: {\u001b[39m1\u001b[39;49m} \u001b[39mfor\u001b[39;49;00m ant \u001b[39min\u001b[39;49;00m antecedents}))\n\u001b[1;32m     <a href='vscode-notebook-cell:/home/rafal/UGPOP/projectsUGPOP/causal_pyro/docs/source/ru-ac.ipynb#X13sZmlsZQ%3D%3D?line=57'>58</a>\u001b[0m     \u001b[39mself\u001b[39m\u001b[39m.\u001b[39mobserved_consequent \u001b[39m=\u001b[39m gather(\u001b[39mself\u001b[39m\u001b[39m.\u001b[39mconsequent, IndexSet(\u001b[39m*\u001b[39m\u001b[39m*\u001b[39m{ant: {\u001b[39m0\u001b[39m} \u001b[39mfor\u001b[39;00m ant \u001b[39min\u001b[39;00m antecedents}))\n\u001b[1;32m     <a href='vscode-notebook-cell:/home/rafal/UGPOP/projectsUGPOP/causal_pyro/docs/source/ru-ac.ipynb#X13sZmlsZQ%3D%3D?line=58'>59</a>\u001b[0m     \u001b[39mself\u001b[39m\u001b[39m.\u001b[39mconsequent_differs \u001b[39m=\u001b[39m \u001b[39mself\u001b[39m\u001b[39m.\u001b[39mintervened_consequent \u001b[39m!=\u001b[39m \u001b[39mself\u001b[39m\u001b[39m.\u001b[39mobserved_consequent   \n",
      "File \u001b[0;32m~/anaconda3/envs/causal_pyro/lib/python3.10/functools.py:889\u001b[0m, in \u001b[0;36msingledispatch.<locals>.wrapper\u001b[0;34m(*args, **kw)\u001b[0m\n\u001b[1;32m    885\u001b[0m \u001b[39mif\u001b[39;00m \u001b[39mnot\u001b[39;00m args:\n\u001b[1;32m    886\u001b[0m     \u001b[39mraise\u001b[39;00m \u001b[39mTypeError\u001b[39;00m(\u001b[39mf\u001b[39m\u001b[39m'\u001b[39m\u001b[39m{\u001b[39;00mfuncname\u001b[39m}\u001b[39;00m\u001b[39m requires at least \u001b[39m\u001b[39m'\u001b[39m\n\u001b[1;32m    887\u001b[0m                     \u001b[39m'\u001b[39m\u001b[39m1 positional argument\u001b[39m\u001b[39m'\u001b[39m)\n\u001b[0;32m--> 889\u001b[0m \u001b[39mreturn\u001b[39;00m dispatch(args[\u001b[39m0\u001b[39;49m]\u001b[39m.\u001b[39;49m\u001b[39m__class__\u001b[39;49m)(\u001b[39m*\u001b[39;49margs, \u001b[39m*\u001b[39;49m\u001b[39m*\u001b[39;49mkw)\n",
      "File \u001b[0;32m~/UGPOP/projectsUGPOP/causal_pyro/causal_pyro/indexed/internals.py:54\u001b[0m, in \u001b[0;36m_gather_tensor\u001b[0;34m(value, indexset, event_dim, name_to_dim)\u001b[0m\n\u001b[1;32m     52\u001b[0m result \u001b[39m=\u001b[39m value\n\u001b[1;32m     53\u001b[0m \u001b[39mfor\u001b[39;00m name, indices \u001b[39min\u001b[39;00m indexset\u001b[39m.\u001b[39mitems():\n\u001b[0;32m---> 54\u001b[0m     dim \u001b[39m=\u001b[39m name_to_dim[name] \u001b[39m-\u001b[39m event_dim\n\u001b[1;32m     55\u001b[0m     \u001b[39mif\u001b[39;00m \u001b[39mlen\u001b[39m(result\u001b[39m.\u001b[39mshape) \u001b[39m<\u001b[39m \u001b[39m-\u001b[39mdim \u001b[39mor\u001b[39;00m result\u001b[39m.\u001b[39mshape[dim] \u001b[39m==\u001b[39m \u001b[39m1\u001b[39m:\n\u001b[1;32m     56\u001b[0m         \u001b[39mcontinue\u001b[39;00m\n",
      "\u001b[0;31mKeyError\u001b[0m: 'vote3'"
     ]
    }
   ],
   "source": [
    "votingHPM()\n",
    "\n",
    "dir(votingHPM)\n",
    "\n",
    "votingHPM.mean_consequent_difference\n",
    "\n",
    "votingHPM.witness_df"
   ]
  }
 ],
 "metadata": {
  "kernelspec": {
   "display_name": "base",
   "language": "python",
   "name": "python3"
  },
  "language_info": {
   "codemirror_mode": {
    "name": "ipython",
    "version": 3
   },
   "file_extension": ".py",
   "mimetype": "text/x-python",
   "name": "python",
   "nbconvert_exporter": "python",
   "pygments_lexer": "ipython3",
   "version": "3.10.11"
  },
  "orig_nbformat": 4
 },
 "nbformat": 4,
 "nbformat_minor": 2
}

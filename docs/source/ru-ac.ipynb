{
 "cells": [
  {
   "cell_type": "code",
   "execution_count": 8,
   "metadata": {},
   "outputs": [
    {
     "name": "stdout",
     "output_type": "stream",
     "text": [
      "Automatic pdb calling has been turned OFF\n"
     ]
    }
   ],
   "source": [
    "%reload_ext autoreload\n",
    "%autoreload 2\n",
    "%pdb off\n",
    "\n",
    "import functools\n",
    "\n",
    "import torch\n",
    "from typing import Dict, List, Optional, Tuple, Union, TypeVar, Callable\n",
    "\n",
    "import pyro\n",
    "import pyro.distributions as dist\n",
    "\n",
    "from causal_pyro.indexed.ops import IndexSet, gather, indices_of, scatter\n",
    "from causal_pyro.interventional.handlers import do\n",
    "from causal_pyro.counterfactual.handlers import MultiWorldCounterfactual, Preemptions"
   ]
  },
  {
   "cell_type": "code",
   "execution_count": 9,
   "metadata": {},
   "outputs": [],
   "source": [
    "def voting_model():\n",
    "    u_vote0 = pyro.sample(\"u_vote0\", dist.Bernoulli(0.6))\n",
    "    u_vote1 = pyro.sample(\"u_vote1\", dist.Bernoulli(0.6))\n",
    "    u_vote2 = pyro.sample(\"u_vote2\", dist.Bernoulli(0.6))\n",
    "    u_vote3 = pyro.sample(\"u_vote3\", dist.Bernoulli(0.6))\n",
    "    u_vote4 = pyro.sample(\"u_vote4\", dist.Bernoulli(0.6))\n",
    "\n",
    "    vote0 = pyro.deterministic(\"vote0\", u_vote0, event_dim=0)\n",
    "    vote1 = pyro.deterministic(\"vote1\", u_vote1, event_dim=0)\n",
    "    vote2 = pyro.deterministic(\"vote2\", u_vote2, event_dim=0)\n",
    "    vote3 = pyro.deterministic(\"vote3\", u_vote3, event_dim=0)\n",
    "    vote4 = pyro.deterministic(\"vote4\", u_vote4, event_dim=0)\n",
    "    return {\"outcome\": vote0 + vote1 + vote2 + vote3 + vote4 >= 3}\n",
    "\n",
    "# you might want the model to return other things, \n",
    "# or in the actual impact on multiple variables\n",
    "# and you might prefer to pass a variable name and value as the consequent\n",
    "# so dict here seems handy"
   ]
  },
  {
   "cell_type": "code",
   "execution_count": 10,
   "metadata": {},
   "outputs": [],
   "source": [
    "#Q: what if we want multiple antecedents?\n",
    "\n",
    "def preempt_with_factual(value: torch.Tensor, *, antecedent: str = \"\", event_dim: int = 0):\n",
    "    factual_value = gather(value, IndexSet(**{antecedent: {0}}), event_dim=event_dim)\n",
    "    return scatter({\n",
    "        IndexSet(**{antecedent: {0}}): factual_value,\n",
    "        IndexSet(**{antecedent: {1}}): factual_value,\n",
    "    }, event_dim=event_dim)\n"
   ]
  },
  {
   "cell_type": "code",
   "execution_count": null,
   "metadata": {},
   "outputs": [],
   "source": [
    "def actual_causality(model, \n",
    "                    #TODO generalize to multiple antecedent nodes\n",
    "                    antecedents: List[str],\n",
    "                    witness_candidates: List[str], \n",
    "                    consequent: str, \n",
    "                    observations: Dict[str, torch.Tensor],\n",
    "                    *, event_dim: int = 0):"
   ]
  },
  {
   "cell_type": "code",
   "execution_count": 23,
   "metadata": {},
   "outputs": [],
   "source": [
    "antecedents2 = [\"vote0\"]\n",
    "antecedents = dict(vote0=lambda v: 1 - v)\n",
    "antecedents_revert = {antecedent: lambda v: 1 - v for antecedent in antecedents2}\n"
   ]
  },
  {
   "cell_type": "code",
   "execution_count": 28,
   "metadata": {},
   "outputs": [],
   "source": [
    "witness_candidates2 = [f\"vote{i}\" for i in range(1, 5)]\n",
    "\n",
    "preemptions = {f\"vote{i}\": functools.partial(preempt_with_factual, antecedent=\"vote0\") for i in range(1, 5)}\n",
    "\n",
    "#TODO need to generalize to multiple antecedent nodes\n",
    "#TODO allow for antecedents with multiple alternative settings and search through them\n",
    "preemptions2 = {candidate: functools.partial(preempt_with_factual,\n",
    "                                             antecedent=antecedents2[0]) for \n",
    "                                             candidate in witness_candidates2}\n",
    "\n",
    "#observations = dict(u_vote0=1., u_vote1=0., u_vote2=0., u_vote3=1., u_vote4=1.)\n",
    "\n"
   ]
  },
  {
   "cell_type": "code",
   "execution_count": 30,
   "metadata": {},
   "outputs": [
    {
     "name": "stdout",
     "output_type": "stream",
     "text": [
      "IndexSet({'vote0': {0, 1}}) IndexSet({})\n",
      "(tensor([[[[[False]]]]]), tensor([[[[[True]]]]]), tensor([[[[[True]]]]]))\n"
     ]
    }
   ],
   "source": [
    "\n",
    "\n",
    "# @pyro.infer.infer_discrete(first_available_dim=-7)\n",
    "# @pyro.infer.config_enumerate\n",
    "@MultiWorldCounterfactual()\n",
    "@do(actions=antecedents_revert)\n",
    "@Preemptions(actions=preemptions)\n",
    "@pyro.condition(data={k: torch.as_tensor(v) for k, v in observations.items()})\n",
    "def ac_voting_model():\n",
    "    consequent = voting_model()['outcome']\n",
    "    intervened_consequent = gather(consequent, IndexSet(vote0={1}))\n",
    "    observed_consequent = gather(consequent, IndexSet(vote0={0}))\n",
    "    consequent_differs = intervened_consequent != observed_consequent\n",
    "    pyro.factor(\"consequent_differs\", torch.where(consequent_differs, torch.tensor(0.0), torch.tensor(-1e8)))\n",
    "    print(indices_of(consequent), indices_of(consequent_differs))\n",
    "    return intervened_consequent, observed_consequent, consequent_differs\n",
    "\n",
    "print(ac_voting_model())"
   ]
  },
  {
   "cell_type": "code",
   "execution_count": null,
   "metadata": {},
   "outputs": [],
   "source": []
  }
 ],
 "metadata": {
  "kernelspec": {
   "display_name": "base",
   "language": "python",
   "name": "python3"
  },
  "language_info": {
   "codemirror_mode": {
    "name": "ipython",
    "version": 3
   },
   "file_extension": ".py",
   "mimetype": "text/x-python",
   "name": "python",
   "nbconvert_exporter": "python",
   "pygments_lexer": "ipython3",
   "version": "3.10.11"
  },
  "orig_nbformat": 4
 },
 "nbformat": 4,
 "nbformat_minor": 2
}

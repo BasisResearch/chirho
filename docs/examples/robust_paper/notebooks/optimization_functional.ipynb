{
 "cells": [
  {
   "attachments": {},
   "cell_type": "markdown",
   "metadata": {},
   "source": [
    "# Robust estimation with optimization functionals with Chirho"
   ]
  },
  {
   "cell_type": "markdown",
   "metadata": {},
   "source": [
    "## Setup"
   ]
  },
  {
   "cell_type": "markdown",
   "metadata": {},
   "source": [
    "Here, we install the necessary Pytorch, Pyro, and ChiRho dependencies for this example."
   ]
  },
  {
   "cell_type": "code",
   "execution_count": 1,
   "metadata": {},
   "outputs": [
    {
     "name": "stderr",
     "output_type": "stream",
     "text": [
      "NOTE: Redirects are currently not supported in Windows or MacOs.\n"
     ]
    }
   ],
   "source": [
    "from typing import Callable, Optional, Tuple\n",
    "\n",
    "import functools\n",
    "import torch\n",
    "import math\n",
    "import seaborn as sns\n",
    "import pandas as pd\n",
    "import numpy as np\n",
    "import matplotlib.pyplot as plt\n",
    "import torchopt\n",
    "\n",
    "import pyro\n",
    "import pyro.distributions as dist\n",
    "from pyro.infer import Predictive\n",
    "import pyro.contrib.gp as gp\n",
    "\n",
    "from chirho.counterfactual.handlers import MultiWorldCounterfactual\n",
    "from chirho.indexed.ops import IndexSet, gather\n",
    "from chirho.interventional.handlers import do\n",
    "from chirho.robust.internals.utils import ParamDict\n",
    "from chirho.robust.handlers.estimators import one_step_corrected_estimator, tmle\n",
    "from chirho.robust.ops import influence_fn\n",
    "from chirho.robust.handlers.predictive import PredictiveModel, PredictiveFunctional\n",
    "from chirho.robust.internals.nmc import BatchedNMCLogMarginalLikelihood\n",
    "\n",
    "from docs.examples.robust_paper.models import MultivariateNormalModel\n",
    "\n",
    "\n",
    "pyro.settings.set(module_local_params=True)\n",
    "\n",
    "sns.set_style(\"white\")"
   ]
  },
  {
   "cell_type": "code",
   "execution_count": 2,
   "metadata": {},
   "outputs": [],
   "source": [
    "class ZeroCenteredModel(MultivariateNormalModel):\n",
    "    def forward(self):\n",
    "        scale_tril = self.sample_scale_tril()\n",
    "        pyro.sample(\"x\", dist.MultivariateNormal(loc=torch.zeros(self.p), scale_tril=scale_tril))\n",
    "\n",
    "        return scale_tril\n",
    "    \n",
    "class KnownCovModel(ZeroCenteredModel):\n",
    "    def __init__(self, p, scale_tril):\n",
    "        super().__init__(p)\n",
    "        self.scale_tril = scale_tril\n",
    "\n",
    "    def sample_scale_tril(self):\n",
    "        return self.scale_tril\n",
    "    \n",
    "class ConditionedModel(ZeroCenteredModel):\n",
    "    def __init__(self, D_train, include_prior=True):\n",
    "        self.D_train = D_train\n",
    "        self.N, p = D_train['x'].shape\n",
    "        self.include_prior = include_prior\n",
    "        super().__init__(p)\n",
    "    \n",
    "    def forward(self):\n",
    "        with pyro.poutine.mask(mask=self.include_prior):\n",
    "            scale_tril = self.sample_scale_tril()\n",
    "        with pyro.condition(data=self.D_train):\n",
    "            with pyro.plate(self.N, dim=-2):\n",
    "                pyro.sample(\"x\", dist.MultivariateNormal(loc=torch.zeros(self.p), scale_tril=scale_tril))\n",
    "        "
   ]
  },
  {
   "cell_type": "code",
   "execution_count": 3,
   "metadata": {},
   "outputs": [],
   "source": [
    "# Data configuration\n",
    "p = 25\n",
    "alpha = 50\n",
    "beta = 50\n",
    "N_train = 500\n",
    "N_test = 500\n",
    "\n",
    "# TODO: set this manually\n",
    "pyro.set_rng_seed(0)\n",
    "true_scale_tril = pyro.sample(\"scale_tril\", dist.LKJCholesky(p))\n",
    "# true_scale_tril = torch.eye(p)\n",
    "\n",
    "true_model = KnownCovModel(p, true_scale_tril)\n",
    "\n",
    "def generate_data(N_train, N_test):\n",
    "    # Generate data\n",
    "    D_train = Predictive(\n",
    "        true_model, num_samples=N_train, return_sites=[\"x\"]\n",
    "    )()\n",
    "    D_test = Predictive(\n",
    "        true_model, num_samples=N_test, return_sites=[\"x\"]\n",
    "    )()\n",
    "    return D_train, D_test"
   ]
  },
  {
   "cell_type": "markdown",
   "metadata": {},
   "source": [
    "### Fit parameters via maximum likelihood"
   ]
  },
  {
   "cell_type": "code",
   "execution_count": 4,
   "metadata": {},
   "outputs": [],
   "source": [
    "def MLE(D_train, n_steps=1000, include_prior=True):\n",
    "    # Fit model using maximum likelihood\n",
    "    conditioned_model = ConditionedModel(D_train, include_prior=include_prior)\n",
    "    \n",
    "    guide_train = pyro.infer.autoguide.AutoDelta(conditioned_model)\n",
    "    elbo = pyro.infer.Trace_ELBO()(conditioned_model, guide_train)\n",
    "\n",
    "    # initialize parameters\n",
    "    elbo()\n",
    "    adam = torch.optim.Adam(elbo.parameters(), lr=0.03)\n",
    "\n",
    "    # Do gradient steps\n",
    "    for _ in range(n_steps):\n",
    "        adam.zero_grad()\n",
    "        loss = elbo()\n",
    "        loss.backward()\n",
    "        adam.step()\n",
    "\n",
    "    theta_hat = {\n",
    "        k: v.clone().detach().requires_grad_(True) for k, v in guide_train().items()\n",
    "    }\n",
    "    return theta_hat"
   ]
  },
  {
   "cell_type": "markdown",
   "metadata": {},
   "source": [
    "### Defining the target functional"
   ]
  },
  {
   "cell_type": "code",
   "execution_count": 5,
   "metadata": {},
   "outputs": [],
   "source": [
    "# Helper class to create a trivial guide that returns the maximum likelihood estimate\n",
    "class MLEGuide(torch.nn.Module):\n",
    "    def __init__(self, mle_est: ParamDict):\n",
    "        super().__init__()\n",
    "        self.names = list(mle_est.keys())\n",
    "        for name, value in mle_est.items():\n",
    "            setattr(self, name + \"_param\", torch.nn.Parameter(value))\n",
    "\n",
    "    def forward(self, *args, **kwargs):\n",
    "        for name in self.names:\n",
    "            value = getattr(self, name + \"_param\")\n",
    "            pyro.sample(\n",
    "                name, pyro.distributions.Delta(value, event_dim=len(value.shape))\n",
    "            )"
   ]
  },
  {
   "cell_type": "code",
   "execution_count": 6,
   "metadata": {},
   "outputs": [],
   "source": [
    "class MarkowitzFunctional(torch.nn.Module):\n",
    "    def __init__(self, model):\n",
    "        super().__init__()\n",
    "        self.model = model\n",
    "        \n",
    "    def forward(self, scale_tril=None):\n",
    "        if scale_tril is None:\n",
    "            scale_tril = self.model()\n",
    "        cov = scale_tril.mm(scale_tril.T)\n",
    "        cov_inv = torch.inverse(cov)\n",
    "        one_vec = torch.ones(cov_inv.shape[0])\n",
    "        num = cov_inv.mv(one_vec)\n",
    "        den = one_vec.dot(num)\n",
    "        return num/den\n",
    "\n",
    "optimal_weights = MarkowitzFunctional(None)(true_scale_tril)\n"
   ]
  },
  {
   "cell_type": "code",
   "execution_count": 7,
   "metadata": {},
   "outputs": [
    {
     "data": {
      "text/plain": [
       "tensor([ 0.0072,  0.0949,  0.0397,  0.2320,  0.0390, -0.0013, -0.0164,  0.2619,\n",
       "        -0.0973,  0.1266,  0.1220, -0.0946,  0.2408, -0.0671, -0.0729, -0.0603,\n",
       "         0.0012,  0.0739, -0.1326, -0.0098, -0.0712,  0.1233,  0.0662,  0.1291,\n",
       "         0.0655])"
      ]
     },
     "execution_count": 7,
     "metadata": {},
     "output_type": "execute_result"
    }
   ],
   "source": [
    "optimal_weights"
   ]
  },
  {
   "cell_type": "code",
   "execution_count": 8,
   "metadata": {},
   "outputs": [],
   "source": [
    "# D_train, D_test = generate_data(N_train, N_test)\n",
    "\n",
    "# theta_hat = MLE(D_train)\n",
    "\n",
    "# theta_hat = {\n",
    "#     k: v.clone().detach().requires_grad_(True) for k, v in theta_hat.items()\n",
    "# }\n",
    "# mle_guide = MLEGuide(theta_hat)\n",
    "# model = PredictiveModel(ZeroCenteredModel(p), mle_guide)\n",
    "\n",
    "# eif_fn = influence_fn(MarkowitzFunctional, D_test, num_samples_outer=100000, pointwise_influence=False)\n",
    "# correction_estimator = eif_fn(model)\n",
    "# correction = correction_estimator()\n",
    "# correction"
   ]
  },
  {
   "cell_type": "markdown",
   "metadata": {},
   "source": [
    "### Computing automated doubly robust estimators via Monte Carlo\n",
    "\n",
    "While the doubly robust correction term is known in closed-form for the average treatment effect functional, our `one_step_correction` and `tmle` function in `ChiRho` works for a wide class of other functionals. We focus on the average treatment effect functional here so that we have a ground truth to compare `one_step_correction` against the plug in estimates."
   ]
  },
  {
   "cell_type": "code",
   "execution_count": 9,
   "metadata": {},
   "outputs": [],
   "source": [
    "import json\n",
    "import os\n",
    "\n",
    "# Compute doubly robust ATE estimates using both the automated and closed form expressions\n",
    "N_datasets = 20\n",
    "\n",
    "\n",
    "# Estimators to compare\n",
    "estimators = {\"one_step\": one_step_corrected_estimator}\n",
    "estimator_kwargs = {\n",
    "    \"one_step\": {}\n",
    "}\n",
    "\n",
    "# Influence functions\n",
    "influences = {\"monte_carlo_eif\": influence_fn}\n",
    "\n",
    "# Cache the results\n",
    "RESULTS_PATH = \"../results/opt_markowitz.json\"\n",
    "\n",
    "if os.path.exists(RESULTS_PATH):\n",
    "    with open(RESULTS_PATH, \"r\") as f:\n",
    "        estimates = json.load(f)\n",
    "    i_start = len(estimates[\"plug-in-mle-from-model\"]) \n",
    "else:\n",
    "    estimates = {f\"{influence}-{estimator}\": [] for influence in influences.keys() for estimator in estimators.keys()}\n",
    "    estimates[\"plug-in-mle-from-model\"] = []\n",
    "    i_start = 0\n",
    "\n",
    "# optimization functional of interest\n",
    "functional = MarkowitzFunctional\n",
    "\n",
    "for i in range(i_start, N_datasets):\n",
    "    pyro.set_rng_seed(i) # for reproducibility\n",
    "    print(\"Dataset\", i)\n",
    "    D_train, D_test = generate_data(N_train, N_test)\n",
    "    theta_hat = MLE(D_train, include_prior=False)\n",
    "\n",
    "    theta_hat = {\n",
    "        k: v.clone().detach().requires_grad_(True) for k, v in theta_hat.items()\n",
    "    }\n",
    "    mle_guide = MLEGuide(theta_hat)\n",
    "    model = PredictiveModel(ZeroCenteredModel(p), mle_guide)\n",
    "    \n",
    "    print(\"plug-in-mle-from-model\", i)\n",
    "    plug_in_estimate = functional(model)().detach()\n",
    "    plug_in_estimate_list = [e.item() for e in plug_in_estimate]\n",
    "    estimates[\"plug-in-mle-from-model\"].append(plug_in_estimate_list)\n",
    "\n",
    "    for estimator_str, estimator in estimators.items():\n",
    "        for influence_str, influence in influences.items():\n",
    "            print(estimator_str, influence_str, i)\n",
    "            estimate = estimator(\n",
    "                functional, \n",
    "                D_test,\n",
    "                num_samples_outer=max(100000, 100 * p), \n",
    "                num_samples_inner=1,\n",
    "                influence_estimator=influence,\n",
    "                **estimator_kwargs[estimator_str]\n",
    "            )(PredictiveModel(ZeroCenteredModel(p), mle_guide))().squeeze().detach()\n",
    "\n",
    "            # There must be a more concise way...\n",
    "            estimate_list = [e.item() for e in estimate]\n",
    "\n",
    "            estimates[f\"{influence_str}-{estimator_str}\"].append(estimate_list)\n",
    "\n",
    "    with open(RESULTS_PATH, \"w\") as f:\n",
    "        json.dump(estimates, f, indent=4)"
   ]
  },
  {
   "cell_type": "code",
   "execution_count": 10,
   "metadata": {},
   "outputs": [
    {
     "data": {
      "text/plain": [
       "{'monte_carlo_eif-one_step': [1.0000000279396772,\n",
       "  1.0000000838190317,\n",
       "  0.9999999697320163,\n",
       "  0.999999935971573,\n",
       "  1.0000000768341124,\n",
       "  0.9999999012798071,\n",
       "  0.9999999338760972,\n",
       "  0.9999999273568392,\n",
       "  0.9999999846331775,\n",
       "  1.0000001098960638,\n",
       "  1.000000067986548,\n",
       "  0.9999999878928065,\n",
       "  1.0000000353902578,\n",
       "  1.0000000009313226,\n",
       "  0.9999999874271452,\n",
       "  0.9999999916180968,\n",
       "  1.0000000563450158,\n",
       "  1.0000000125728548,\n",
       "  1.0000000027939677,\n",
       "  1.0000000055879354,\n",
       "  0.9999999664723873,\n",
       "  1.0000000540167093,\n",
       "  1.0000000484287739,\n",
       "  1.000000051688403,\n",
       "  0.9999999720603228,\n",
       "  0.9999999473802745,\n",
       "  0.9999999722931534,\n",
       "  1.000000017695129,\n",
       "  0.9999999543651938,\n",
       "  0.999999986961484,\n",
       "  1.0000000651925802,\n",
       "  0.9999999916180968,\n",
       "  1.0000000479631126,\n",
       "  1.0000000037252903,\n",
       "  0.9999999834690243,\n",
       "  1.000000077765435,\n",
       "  0.9999999436549842,\n",
       "  1.0000000318977982,\n",
       "  1.0000000079162419,\n",
       "  1.0000000013969839,\n",
       "  1.0000000884756446,\n",
       "  0.9999999990686774,\n",
       "  1.0000001057051122,\n",
       "  0.9999999965075403,\n",
       "  0.9999999511055648,\n",
       "  0.9999999515712261,\n",
       "  1.0000000726431608,\n",
       "  0.9999998931307346,\n",
       "  1.0000000135041773,\n",
       "  0.9999999506399035],\n",
       " 'plug-in-mle-from-model': [1.0000000407453626,\n",
       "  0.9999999039791874,\n",
       "  1.0000000288709998,\n",
       "  0.9999999525025487,\n",
       "  1.0000000833533704,\n",
       "  0.9999999827705324,\n",
       "  0.9999999953433871,\n",
       "  0.9999999031424522,\n",
       "  0.9999999804422259,\n",
       "  1.0000000689178705,\n",
       "  1.0000000819563866,\n",
       "  1.0000000392901711,\n",
       "  1.000000013038516,\n",
       "  1.0000000747386366,\n",
       "  0.9999998938583303,\n",
       "  1.0000000484287739,\n",
       "  0.9999999694991857,\n",
       "  0.9999999967694748,\n",
       "  0.9999999317806214,\n",
       "  0.9999999972060323,\n",
       "  0.9999999972060323,\n",
       "  0.9999999718274921,\n",
       "  0.9999999182764441,\n",
       "  1.000000049592927,\n",
       "  0.9999999506399035,\n",
       "  1.0000000125728548,\n",
       "  1.0000000051222742,\n",
       "  1.0000000149011612,\n",
       "  0.9999999571591616,\n",
       "  1.0000000093132257,\n",
       "  1.0000000167638063,\n",
       "  1.0000000190339051,\n",
       "  1.0000001061707735,\n",
       "  1.0000000256113708,\n",
       "  0.9999998938292265,\n",
       "  1.0000000060535967,\n",
       "  0.9999999958090484,\n",
       "  0.9999999930150807,\n",
       "  0.9999999487772584,\n",
       "  0.9999999948777258,\n",
       "  0.99999997287523,\n",
       "  0.9999999683350325,\n",
       "  0.9999999650754035,\n",
       "  0.9999999587889761,\n",
       "  0.9999999352730811,\n",
       "  0.9999999292194843,\n",
       "  1.0000000656582415,\n",
       "  0.9999999932479113,\n",
       "  0.9999999972060323,\n",
       "  0.999999969266355]}"
      ]
     },
     "execution_count": 10,
     "metadata": {},
     "output_type": "execute_result"
    }
   ],
   "source": [
    "{k:[sum(v) for v in val] for k, val in estimates.items()}"
   ]
  },
  {
   "cell_type": "code",
   "execution_count": 38,
   "metadata": {},
   "outputs": [],
   "source": [
    "def mse(weights, optimal_weights=optimal_weights):\n",
    "    return ((weights - optimal_weights)**2).mean()\n",
    "\n",
    "def mae(weights, optimal_weights=optimal_weights):\n",
    "    return torch.abs(weights-optimal_weights).mean()\n",
    "\n",
    "def relative_root_mse(weights, optimal_weights=optimal_weights):\n",
    "    return torch.sqrt(((weights - optimal_weights)**2).mean())/torch.sqrt((optimal_weights**2).mean())\n",
    "\n",
    "def relative_mae(weights, optimal_weights=optimal_weights):\n",
    "    return torch.abs(weights-optimal_weights).mean()/torch.abs(optimal_weights).mean()\n",
    "\n",
    "def expected_volatility(weights, scale_tril=true_scale_tril):\n",
    "    return torch.sqrt(weights @ scale_tril @ scale_tril.T @ weights)\n",
    "\n",
    "def relative_expected_volatility(weights, scale_tril=true_scale_tril):\n",
    "    return expected_volatility(weights, scale_tril)/expected_volatility(optimal_weights, scale_tril)"
   ]
  },
  {
   "cell_type": "code",
   "execution_count": 39,
   "metadata": {},
   "outputs": [],
   "source": [
    "estimates_mse = {k: torch.tensor([mse(torch.tensor(v)) for v in vals]) for (k, vals) in estimates.items()}\n",
    "estimates_mae = {k: torch.tensor([mae(torch.tensor(v)) for v in vals]) for (k, vals) in estimates.items()}\n",
    "estimates_relative_mae = {k: torch.tensor([relative_mae(torch.tensor(v)) for v in vals]) for (k, vals) in estimates.items()}\n",
    "estimates_relative_root_mse = {k: torch.tensor([relative_root_mse(torch.tensor(v)) for v in vals]) for (k, vals) in estimates.items()}\n",
    "estimates_expected_volatility = {k: torch.tensor([expected_volatility(torch.tensor(v)) for v in vals]) for (k, vals) in estimates.items()}\n",
    "estimates_relative_expected_volatility = {k: torch.tensor([relative_expected_volatility(torch.tensor(v)) for v in vals]) for (k, vals) in estimates.items()}"
   ]
  },
  {
   "cell_type": "code",
   "execution_count": 53,
   "metadata": {},
   "outputs": [
    {
     "name": "stdout",
     "output_type": "stream",
     "text": [
      "EV monte_carlo_eif-one_step    1.86\n",
      "plug-in-mle-from-model      2.60\n",
      "dtype: float32 \n",
      "\n",
      "RMSE monte_carlo_eif-one_step    0.08\n",
      "plug-in-mle-from-model      0.14\n",
      "dtype: float32\n"
     ]
    }
   ],
   "source": [
    "# The true treatment effect is 0, so a mean estimate closer to zero is better\n",
    "results_1 = pd.DataFrame(estimates_relative_expected_volatility)\n",
    "results_2 = pd.DataFrame(estimates_relative_root_mse)\n",
    "\n",
    "print(\"EV\", results_1.mean().round(2), \"\\n\")\n",
    "print(\"RMSE\", results_2.mean().round(2))"
   ]
  },
  {
   "cell_type": "code",
   "execution_count": 58,
   "metadata": {},
   "outputs": [
    {
     "name": "stdout",
     "output_type": "stream",
     "text": [
      "EV monte_carlo_eif-one_step    0.35\n",
      "plug-in-mle-from-model      0.35\n",
      "dtype: float32 \n",
      "\n",
      "RMSE monte_carlo_eif-one_step    0.02\n",
      "plug-in-mle-from-model      0.02\n",
      "dtype: float32\n"
     ]
    }
   ],
   "source": [
    "print(\"EV\", (results_1.std()/(N_datasets**0.5)).round(2), \"\\n\")\n",
    "print(\"RMSE\", (results_2.std()/(N_datasets**0.5)).round(2))"
   ]
  },
  {
   "cell_type": "code",
   "execution_count": 29,
   "metadata": {},
   "outputs": [
    {
     "data": {
      "text/html": [
       "<div>\n",
       "<style scoped>\n",
       "    .dataframe tbody tr th:only-of-type {\n",
       "        vertical-align: middle;\n",
       "    }\n",
       "\n",
       "    .dataframe tbody tr th {\n",
       "        vertical-align: top;\n",
       "    }\n",
       "\n",
       "    .dataframe thead th {\n",
       "        text-align: right;\n",
       "    }\n",
       "</style>\n",
       "<table border=\"1\" class=\"dataframe\">\n",
       "  <thead>\n",
       "    <tr style=\"text-align: right;\">\n",
       "      <th></th>\n",
       "      <th>monte_carlo_eif-one_step</th>\n",
       "      <th>plug-in-mle-from-model</th>\n",
       "    </tr>\n",
       "  </thead>\n",
       "  <tbody>\n",
       "    <tr>\n",
       "      <th>count</th>\n",
       "      <td>50.00000</td>\n",
       "      <td>50.00000</td>\n",
       "    </tr>\n",
       "    <tr>\n",
       "      <th>mean</th>\n",
       "      <td>0.07710</td>\n",
       "      <td>0.13518</td>\n",
       "    </tr>\n",
       "    <tr>\n",
       "      <th>std</th>\n",
       "      <td>0.09951</td>\n",
       "      <td>0.09249</td>\n",
       "    </tr>\n",
       "    <tr>\n",
       "      <th>min</th>\n",
       "      <td>0.00504</td>\n",
       "      <td>0.02069</td>\n",
       "    </tr>\n",
       "    <tr>\n",
       "      <th>25%</th>\n",
       "      <td>0.01625</td>\n",
       "      <td>0.04987</td>\n",
       "    </tr>\n",
       "    <tr>\n",
       "      <th>50%</th>\n",
       "      <td>0.03924</td>\n",
       "      <td>0.10729</td>\n",
       "    </tr>\n",
       "    <tr>\n",
       "      <th>75%</th>\n",
       "      <td>0.08816</td>\n",
       "      <td>0.21390</td>\n",
       "    </tr>\n",
       "    <tr>\n",
       "      <th>max</th>\n",
       "      <td>0.58151</td>\n",
       "      <td>0.35913</td>\n",
       "    </tr>\n",
       "  </tbody>\n",
       "</table>\n",
       "</div>"
      ],
      "text/plain": [
       "       monte_carlo_eif-one_step  plug-in-mle-from-model\n",
       "count                  50.00000                50.00000\n",
       "mean                    0.07710                 0.13518\n",
       "std                     0.09951                 0.09249\n",
       "min                     0.00504                 0.02069\n",
       "25%                     0.01625                 0.04987\n",
       "50%                     0.03924                 0.10729\n",
       "75%                     0.08816                 0.21390\n",
       "max                     0.58151                 0.35913"
      ]
     },
     "execution_count": 29,
     "metadata": {},
     "output_type": "execute_result"
    }
   ],
   "source": [
    "# The true treatment effect is 0, so a mean estimate closer to zero is better\n",
    "results = pd.DataFrame(estimates_relative_root_mse)\n",
    "results.describe().round(5)"
   ]
  },
  {
   "cell_type": "code",
   "execution_count": null,
   "metadata": {},
   "outputs": [],
   "source": []
  },
  {
   "cell_type": "code",
   "execution_count": 14,
   "metadata": {},
   "outputs": [
    {
     "name": "stderr",
     "output_type": "stream",
     "text": [
      "/Users/sam-basis/opt/anaconda3/envs/chirho-dynamic/lib/python3.11/site-packages/seaborn/_oldcore.py:1498: FutureWarning: is_categorical_dtype is deprecated and will be removed in a future version. Use isinstance(dtype, CategoricalDtype) instead\n",
      "  if pd.api.types.is_categorical_dtype(vector):\n",
      "/Users/sam-basis/opt/anaconda3/envs/chirho-dynamic/lib/python3.11/site-packages/seaborn/_oldcore.py:1119: FutureWarning: use_inf_as_na option is deprecated and will be removed in a future version. Convert inf values to NaN before operating instead.\n",
      "  with pd.option_context('mode.use_inf_as_na', True):\n",
      "/Users/sam-basis/opt/anaconda3/envs/chirho-dynamic/lib/python3.11/site-packages/seaborn/_oldcore.py:1498: FutureWarning: is_categorical_dtype is deprecated and will be removed in a future version. Use isinstance(dtype, CategoricalDtype) instead\n",
      "  if pd.api.types.is_categorical_dtype(vector):\n",
      "/Users/sam-basis/opt/anaconda3/envs/chirho-dynamic/lib/python3.11/site-packages/seaborn/_oldcore.py:1119: FutureWarning: use_inf_as_na option is deprecated and will be removed in a future version. Convert inf values to NaN before operating instead.\n",
      "  with pd.option_context('mode.use_inf_as_na', True):\n"
     ]
    },
    {
     "data": {
      "image/png": "[encoded data removed]",
      "text/plain": [
       "<Figure size 640x480 with 1 Axes>"
      ]
     },
     "metadata": {},
     "output_type": "display_data"
    }
   ],
   "source": [
    "# Visualize the results\n",
    "fig, ax = plt.subplots()\n",
    "\n",
    "# # TMLE\n",
    "# sns.kdeplot(\n",
    "#     estimates['analytic_eif-tmle'], \n",
    "#     label=\"Analytic EIF (TMLE)\",\n",
    "#     ax=ax,\n",
    "#     color='blue',\n",
    "#     linestyle='--'\n",
    "# )\n",
    "\n",
    "# sns.kdeplot(\n",
    "#     estimates['monte_carlo_eif-tmle'], \n",
    "#     label=\"Monte Carlo EIF (TMLE)\",\n",
    "#     ax=ax,\n",
    "#     color='blue'\n",
    "# )\n",
    "\n",
    "# # One-step\n",
    "# sns.kdeplot(\n",
    "#     estimates['analytic_eif-one_step'], \n",
    "#     label=\"Analytic EIF (One-Step)\",\n",
    "#     ax=ax,\n",
    "#     color='red',\n",
    "#     linestyle='--'\n",
    "# )\n",
    "\n",
    "sns.kdeplot(\n",
    "    estimates_mae['monte_carlo_eif-one_step'], \n",
    "    label=\"Monte Carlo EIF (One-Step)\",\n",
    "    ax=ax,\n",
    "    color='red',\n",
    "    cut=0\n",
    ")\n",
    "\n",
    "# # DoubleML\n",
    "# sns.kdeplot(\n",
    "#     estimates['analytic_eif-double_ml'], \n",
    "#     label=\"Analytic EIF (DoubleML)\",\n",
    "#     ax=ax,\n",
    "#     color='green',\n",
    "#     linestyle='--'\n",
    "# )\n",
    "\n",
    "# sns.kdeplot(\n",
    "#     estimates['monte_carlo_eif-double_ml'], \n",
    "#     label=\"Monte Carlo EIF (DoubleML)\",\n",
    "#     ax=ax,\n",
    "#     color='green'\n",
    "# )\n",
    "\n",
    "# Plug-in MLE\n",
    "sns.kdeplot(\n",
    "    estimates_mae['plug-in-mle-from-model'], \n",
    "    label=\"Plug-in MLE\",\n",
    "    ax=ax,\n",
    "    color='brown',\n",
    "    cut=0\n",
    ")\n",
    "\n",
    "ax.set_yticks([])\n",
    "sns.despine()\n",
    "ax.set_xlabel(\"MAE in weights\", fontsize=18)\n",
    "ax.set_ylabel(\"Density\", fontsize=18)\n",
    "\n",
    "ax.legend(loc=\"upper right\", fontsize=11)\n",
    "\n",
    "plt.tight_layout()\n",
    "\n",
    "plt.savefig('figures/markowitz_optimal.png')"
   ]
  },
  {
   "cell_type": "markdown",
   "metadata": {},
   "source": [
    "## References\n",
    "\n",
    "Kennedy, Edward. \"Towards optimal doubly robust estimation of heterogeneous causal effects\", 2022. https://arxiv.org/abs/2004.14497."
   ]
  },
  {
   "cell_type": "markdown",
   "metadata": {},
   "source": []
  }
 ],
 "metadata": {
  "kernelspec": {
   "display_name": "basis",
   "language": "python",
   "name": "python3"
  },
  "language_info": {
   "codemirror_mode": {
    "name": "ipython",
    "version": 3
   },
   "file_extension": ".py",
   "mimetype": "text/x-python",
   "name": "python",
   "nbconvert_exporter": "python",
   "pygments_lexer": "ipython3",
   "version": "3.11.4"
  },
  "orig_nbformat": 4
 },
 "nbformat": 4,
 "nbformat_minor": 2
}
